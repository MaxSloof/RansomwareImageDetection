{
 "cells": [
  {
   "cell_type": "code",
   "execution_count": 230,
   "id": "eecb19df",
   "metadata": {},
   "outputs": [],
   "source": [
    "\n",
    "from keras.preprocessing.image import ImageDataGenerator\n",
    "from sklearn.model_selection import train_test_split\n",
    "import tensorflow as tf\n",
    "import numpy as np\n",
    "from sklearn.utils import class_weight\n",
    "from sklearn import metrics\n",
    "import sys\n",
    "import os\n",
    "from math import log\n",
    "import scipy as sp\n",
    "import matplotlib.pyplot as plt\n",
    "import pandas as pd\n",
    "import seaborn as sns"
   ]
  },
  {
   "cell_type": "code",
   "execution_count": 288,
   "id": "28fe3ea2",
   "metadata": {
    "scrolled": true
   },
   "outputs": [
    {
     "name": "stdout",
     "output_type": "stream",
     "text": [
      "[PhysicalDevice(name='/physical_device:GPU:0', device_type='GPU')]\n"
     ]
    }
   ],
   "source": [
    "is_cuda_gpu_available = tf.config.list_physical_devices('GPU')\n",
    "print(is_cuda_gpu_available)"
   ]
  },
  {
   "cell_type": "code",
   "execution_count": 127,
   "id": "baa95d04",
   "metadata": {},
   "outputs": [
    {
     "name": "stdout",
     "output_type": "stream",
     "text": [
      "Found 26548 images belonging to 11 classes.\n"
     ]
    }
   ],
   "source": [
    "# Generating Dataset\n",
    "\n",
    "path_root = \"C:/Users/Max/Documents/thesis_data\"\n",
    "\n",
    "batches = ImageDataGenerator().flow_from_directory(directory=path_root, color_mode = \"rgb\", \n",
    "                                                   target_size=(128,128), batch_size = 40000)\n",
    "imgs, labels = next(batches)"
   ]
  },
  {
   "cell_type": "code",
   "execution_count": 128,
   "id": "c3238810",
   "metadata": {},
   "outputs": [
    {
     "data": {
      "text/plain": [
       "{'BetterSurf': 0,\n",
       " 'Eksor.A': 1,\n",
       " 'Obfuscator.AFQ': 2,\n",
       " 'Occamy.C': 3,\n",
       " 'OnLineGames.CTB': 4,\n",
       " 'Reveton.A': 5,\n",
       " 'Sfone': 6,\n",
       " 'VB.IL': 7,\n",
       " 'Zbot': 8,\n",
       " 'Zbot!CI': 9,\n",
       " 'benign': 10}"
      ]
     },
     "execution_count": 128,
     "metadata": {},
     "output_type": "execute_result"
    }
   ],
   "source": [
    "batches.class_indices"
   ]
  },
  {
   "cell_type": "code",
   "execution_count": 129,
   "id": "d37233e7",
   "metadata": {},
   "outputs": [
    {
     "data": {
      "text/plain": [
       "(26548, 128, 128, 1)"
      ]
     },
     "execution_count": 129,
     "metadata": {},
     "output_type": "execute_result"
    }
   ],
   "source": [
    "imgs.shape"
   ]
  },
  {
   "cell_type": "code",
   "execution_count": 130,
   "id": "c560fb52",
   "metadata": {},
   "outputs": [
    {
     "data": {
      "text/plain": [
       "(26548, 11)"
      ]
     },
     "execution_count": 130,
     "metadata": {},
     "output_type": "execute_result"
    }
   ],
   "source": [
    "labels.shape"
   ]
  },
  {
   "cell_type": "code",
   "execution_count": 289,
   "id": "2f97efdd",
   "metadata": {},
   "outputs": [],
   "source": [
    "# plots images with labels within jupyter notebook\n",
    "def plots(ims, figsize=(20,30), rows=10, interp=False, titles=None):\n",
    "    if type(ims[0]) is np.ndarray:\n",
    "        ims = np.array(ims).astype(np.uint8)\n",
    "        if (ims.shape[-1] != 3):\n",
    "            ims = ims.transpose((0,2,3,1))\n",
    "    f = plt.figure(figsize=figsize)\n",
    "    cols = 10 # len(ims)//rows if len(ims) % 2 == 0 else len(ims)//rows + 1\n",
    "    for i in range(0,50):\n",
    "        sp = f.add_subplot(rows, cols, i+1)\n",
    "        sp.axis('Off')\n",
    "        if titles is not None:\n",
    "            sp.set_title(list(batches.class_indices.keys())[np.argmax(titles[i])], fontsize=16)\n",
    "        plt.imshow(ims[i], interpolation=None if interp else 'none')"
   ]
  },
  {
   "cell_type": "code",
   "execution_count": 290,
   "id": "76ca3408",
   "metadata": {},
   "outputs": [
    {
     "ename": "TypeError",
     "evalue": "Invalid shape (128, 1, 128) for image data",
     "output_type": "error",
     "traceback": [
      "\u001b[1;31m---------------------------------------------------------------------------\u001b[0m",
      "\u001b[1;31mTypeError\u001b[0m                                 Traceback (most recent call last)",
      "\u001b[1;32m~\\AppData\\Local\\Temp/ipykernel_24988/2140101435.py\u001b[0m in \u001b[0;36m<module>\u001b[1;34m\u001b[0m\n\u001b[1;32m----> 1\u001b[1;33m \u001b[0mplots\u001b[0m\u001b[1;33m(\u001b[0m\u001b[0mimgs\u001b[0m\u001b[1;33m,\u001b[0m \u001b[0mtitles\u001b[0m \u001b[1;33m=\u001b[0m \u001b[0mlabels\u001b[0m\u001b[1;33m)\u001b[0m\u001b[1;33m\u001b[0m\u001b[1;33m\u001b[0m\u001b[0m\n\u001b[0m",
      "\u001b[1;32m~\\AppData\\Local\\Temp/ipykernel_24988/1237074470.py\u001b[0m in \u001b[0;36mplots\u001b[1;34m(ims, figsize, rows, interp, titles)\u001b[0m\n\u001b[0;32m     12\u001b[0m         \u001b[1;32mif\u001b[0m \u001b[0mtitles\u001b[0m \u001b[1;32mis\u001b[0m \u001b[1;32mnot\u001b[0m \u001b[1;32mNone\u001b[0m\u001b[1;33m:\u001b[0m\u001b[1;33m\u001b[0m\u001b[1;33m\u001b[0m\u001b[0m\n\u001b[0;32m     13\u001b[0m             \u001b[0msp\u001b[0m\u001b[1;33m.\u001b[0m\u001b[0mset_title\u001b[0m\u001b[1;33m(\u001b[0m\u001b[0mlist\u001b[0m\u001b[1;33m(\u001b[0m\u001b[0mbatches\u001b[0m\u001b[1;33m.\u001b[0m\u001b[0mclass_indices\u001b[0m\u001b[1;33m.\u001b[0m\u001b[0mkeys\u001b[0m\u001b[1;33m(\u001b[0m\u001b[1;33m)\u001b[0m\u001b[1;33m)\u001b[0m\u001b[1;33m[\u001b[0m\u001b[0mnp\u001b[0m\u001b[1;33m.\u001b[0m\u001b[0margmax\u001b[0m\u001b[1;33m(\u001b[0m\u001b[0mtitles\u001b[0m\u001b[1;33m[\u001b[0m\u001b[0mi\u001b[0m\u001b[1;33m]\u001b[0m\u001b[1;33m)\u001b[0m\u001b[1;33m]\u001b[0m\u001b[1;33m,\u001b[0m \u001b[0mfontsize\u001b[0m\u001b[1;33m=\u001b[0m\u001b[1;36m16\u001b[0m\u001b[1;33m)\u001b[0m\u001b[1;33m\u001b[0m\u001b[1;33m\u001b[0m\u001b[0m\n\u001b[1;32m---> 14\u001b[1;33m         \u001b[0mplt\u001b[0m\u001b[1;33m.\u001b[0m\u001b[0mimshow\u001b[0m\u001b[1;33m(\u001b[0m\u001b[0mims\u001b[0m\u001b[1;33m[\u001b[0m\u001b[0mi\u001b[0m\u001b[1;33m]\u001b[0m\u001b[1;33m,\u001b[0m \u001b[0minterpolation\u001b[0m\u001b[1;33m=\u001b[0m\u001b[1;32mNone\u001b[0m \u001b[1;32mif\u001b[0m \u001b[0minterp\u001b[0m \u001b[1;32melse\u001b[0m \u001b[1;34m'none'\u001b[0m\u001b[1;33m)\u001b[0m\u001b[1;33m\u001b[0m\u001b[1;33m\u001b[0m\u001b[0m\n\u001b[0m",
      "\u001b[1;32m~\\anaconda3\\envs\\master_thesis\\lib\\site-packages\\matplotlib\\pyplot.py\u001b[0m in \u001b[0;36mimshow\u001b[1;34m(X, cmap, norm, aspect, interpolation, alpha, vmin, vmax, origin, extent, filternorm, filterrad, resample, url, data, **kwargs)\u001b[0m\n\u001b[0;32m   2901\u001b[0m         \u001b[0mfilternorm\u001b[0m\u001b[1;33m=\u001b[0m\u001b[1;32mTrue\u001b[0m\u001b[1;33m,\u001b[0m \u001b[0mfilterrad\u001b[0m\u001b[1;33m=\u001b[0m\u001b[1;36m4.0\u001b[0m\u001b[1;33m,\u001b[0m \u001b[0mresample\u001b[0m\u001b[1;33m=\u001b[0m\u001b[1;32mNone\u001b[0m\u001b[1;33m,\u001b[0m \u001b[0murl\u001b[0m\u001b[1;33m=\u001b[0m\u001b[1;32mNone\u001b[0m\u001b[1;33m,\u001b[0m\u001b[1;33m\u001b[0m\u001b[1;33m\u001b[0m\u001b[0m\n\u001b[0;32m   2902\u001b[0m         data=None, **kwargs):\n\u001b[1;32m-> 2903\u001b[1;33m     __ret = gca().imshow(\n\u001b[0m\u001b[0;32m   2904\u001b[0m         \u001b[0mX\u001b[0m\u001b[1;33m,\u001b[0m \u001b[0mcmap\u001b[0m\u001b[1;33m=\u001b[0m\u001b[0mcmap\u001b[0m\u001b[1;33m,\u001b[0m \u001b[0mnorm\u001b[0m\u001b[1;33m=\u001b[0m\u001b[0mnorm\u001b[0m\u001b[1;33m,\u001b[0m \u001b[0maspect\u001b[0m\u001b[1;33m=\u001b[0m\u001b[0maspect\u001b[0m\u001b[1;33m,\u001b[0m\u001b[1;33m\u001b[0m\u001b[1;33m\u001b[0m\u001b[0m\n\u001b[0;32m   2905\u001b[0m         \u001b[0minterpolation\u001b[0m\u001b[1;33m=\u001b[0m\u001b[0minterpolation\u001b[0m\u001b[1;33m,\u001b[0m \u001b[0malpha\u001b[0m\u001b[1;33m=\u001b[0m\u001b[0malpha\u001b[0m\u001b[1;33m,\u001b[0m \u001b[0mvmin\u001b[0m\u001b[1;33m=\u001b[0m\u001b[0mvmin\u001b[0m\u001b[1;33m,\u001b[0m\u001b[1;33m\u001b[0m\u001b[1;33m\u001b[0m\u001b[0m\n",
      "\u001b[1;32m~\\anaconda3\\envs\\master_thesis\\lib\\site-packages\\matplotlib\\__init__.py\u001b[0m in \u001b[0;36minner\u001b[1;34m(ax, data, *args, **kwargs)\u001b[0m\n\u001b[0;32m   1359\u001b[0m     \u001b[1;32mdef\u001b[0m \u001b[0minner\u001b[0m\u001b[1;33m(\u001b[0m\u001b[0max\u001b[0m\u001b[1;33m,\u001b[0m \u001b[1;33m*\u001b[0m\u001b[0margs\u001b[0m\u001b[1;33m,\u001b[0m \u001b[0mdata\u001b[0m\u001b[1;33m=\u001b[0m\u001b[1;32mNone\u001b[0m\u001b[1;33m,\u001b[0m \u001b[1;33m**\u001b[0m\u001b[0mkwargs\u001b[0m\u001b[1;33m)\u001b[0m\u001b[1;33m:\u001b[0m\u001b[1;33m\u001b[0m\u001b[1;33m\u001b[0m\u001b[0m\n\u001b[0;32m   1360\u001b[0m         \u001b[1;32mif\u001b[0m \u001b[0mdata\u001b[0m \u001b[1;32mis\u001b[0m \u001b[1;32mNone\u001b[0m\u001b[1;33m:\u001b[0m\u001b[1;33m\u001b[0m\u001b[1;33m\u001b[0m\u001b[0m\n\u001b[1;32m-> 1361\u001b[1;33m             \u001b[1;32mreturn\u001b[0m \u001b[0mfunc\u001b[0m\u001b[1;33m(\u001b[0m\u001b[0max\u001b[0m\u001b[1;33m,\u001b[0m \u001b[1;33m*\u001b[0m\u001b[0mmap\u001b[0m\u001b[1;33m(\u001b[0m\u001b[0msanitize_sequence\u001b[0m\u001b[1;33m,\u001b[0m \u001b[0margs\u001b[0m\u001b[1;33m)\u001b[0m\u001b[1;33m,\u001b[0m \u001b[1;33m**\u001b[0m\u001b[0mkwargs\u001b[0m\u001b[1;33m)\u001b[0m\u001b[1;33m\u001b[0m\u001b[1;33m\u001b[0m\u001b[0m\n\u001b[0m\u001b[0;32m   1362\u001b[0m \u001b[1;33m\u001b[0m\u001b[0m\n\u001b[0;32m   1363\u001b[0m         \u001b[0mbound\u001b[0m \u001b[1;33m=\u001b[0m \u001b[0mnew_sig\u001b[0m\u001b[1;33m.\u001b[0m\u001b[0mbind\u001b[0m\u001b[1;33m(\u001b[0m\u001b[0max\u001b[0m\u001b[1;33m,\u001b[0m \u001b[1;33m*\u001b[0m\u001b[0margs\u001b[0m\u001b[1;33m,\u001b[0m \u001b[1;33m**\u001b[0m\u001b[0mkwargs\u001b[0m\u001b[1;33m)\u001b[0m\u001b[1;33m\u001b[0m\u001b[1;33m\u001b[0m\u001b[0m\n",
      "\u001b[1;32m~\\anaconda3\\envs\\master_thesis\\lib\\site-packages\\matplotlib\\axes\\_axes.py\u001b[0m in \u001b[0;36mimshow\u001b[1;34m(self, X, cmap, norm, aspect, interpolation, alpha, vmin, vmax, origin, extent, filternorm, filterrad, resample, url, **kwargs)\u001b[0m\n\u001b[0;32m   5607\u001b[0m                               resample=resample, **kwargs)\n\u001b[0;32m   5608\u001b[0m \u001b[1;33m\u001b[0m\u001b[0m\n\u001b[1;32m-> 5609\u001b[1;33m         \u001b[0mim\u001b[0m\u001b[1;33m.\u001b[0m\u001b[0mset_data\u001b[0m\u001b[1;33m(\u001b[0m\u001b[0mX\u001b[0m\u001b[1;33m)\u001b[0m\u001b[1;33m\u001b[0m\u001b[1;33m\u001b[0m\u001b[0m\n\u001b[0m\u001b[0;32m   5610\u001b[0m         \u001b[0mim\u001b[0m\u001b[1;33m.\u001b[0m\u001b[0mset_alpha\u001b[0m\u001b[1;33m(\u001b[0m\u001b[0malpha\u001b[0m\u001b[1;33m)\u001b[0m\u001b[1;33m\u001b[0m\u001b[1;33m\u001b[0m\u001b[0m\n\u001b[0;32m   5611\u001b[0m         \u001b[1;32mif\u001b[0m \u001b[0mim\u001b[0m\u001b[1;33m.\u001b[0m\u001b[0mget_clip_path\u001b[0m\u001b[1;33m(\u001b[0m\u001b[1;33m)\u001b[0m \u001b[1;32mis\u001b[0m \u001b[1;32mNone\u001b[0m\u001b[1;33m:\u001b[0m\u001b[1;33m\u001b[0m\u001b[1;33m\u001b[0m\u001b[0m\n",
      "\u001b[1;32m~\\anaconda3\\envs\\master_thesis\\lib\\site-packages\\matplotlib\\image.py\u001b[0m in \u001b[0;36mset_data\u001b[1;34m(self, A)\u001b[0m\n\u001b[0;32m    707\u001b[0m         if not (self._A.ndim == 2\n\u001b[0;32m    708\u001b[0m                 or self._A.ndim == 3 and self._A.shape[-1] in [3, 4]):\n\u001b[1;32m--> 709\u001b[1;33m             raise TypeError(\"Invalid shape {} for image data\"\n\u001b[0m\u001b[0;32m    710\u001b[0m                             .format(self._A.shape))\n\u001b[0;32m    711\u001b[0m \u001b[1;33m\u001b[0m\u001b[0m\n",
      "\u001b[1;31mTypeError\u001b[0m: Invalid shape (128, 1, 128) for image data"
     ]
    },
    {
     "data": {
      "image/png": "[encoded data removed]",
      "text/plain": [
       "<Figure size 1440x2160 with 1 Axes>"
      ]
     },
     "metadata": {
      "needs_background": "light"
     },
     "output_type": "display_data"
    }
   ],
   "source": [
    "plots(imgs, titles = labels)"
   ]
  },
  {
   "cell_type": "code",
   "execution_count": 133,
   "id": "0462dbf4",
   "metadata": {},
   "outputs": [],
   "source": [
    "classes = batches.class_indices.keys()"
   ]
  },
  {
   "cell_type": "code",
   "execution_count": 134,
   "id": "9c61105d",
   "metadata": {},
   "outputs": [],
   "source": [
    "perc = (sum(labels)/labels.shape[0])*100"
   ]
  },
  {
   "cell_type": "code",
   "execution_count": 135,
   "id": "ebb43ef7",
   "metadata": {},
   "outputs": [
    {
     "data": {
      "text/plain": [
       "<BarContainer object of 11 artists>"
      ]
     },
     "execution_count": 135,
     "metadata": {},
     "output_type": "execute_result"
    },
    {
     "data": {
      "image/png": "[encoded data removed]",
      "text/plain": [
       "<Figure size 432x288 with 1 Axes>"
      ]
     },
     "metadata": {
      "needs_background": "light"
     },
     "output_type": "display_data"
    }
   ],
   "source": [
    "plt.xticks(rotation='vertical')\n",
    "plt.bar(classes,perc)"
   ]
  },
  {
   "cell_type": "markdown",
   "id": "bbf5857d",
   "metadata": {},
   "source": [
    "# Train and Test"
   ]
  },
  {
   "cell_type": "code",
   "execution_count": 136,
   "id": "3805e10e",
   "metadata": {},
   "outputs": [],
   "source": [
    "X_train, X_test, y_train, y_test = train_test_split(imgs/255.,labels, test_size=0.3)"
   ]
  },
  {
   "cell_type": "code",
   "execution_count": 137,
   "id": "60cd69e5",
   "metadata": {},
   "outputs": [
    {
     "data": {
      "text/plain": [
       "(18583, 128, 128, 1)"
      ]
     },
     "execution_count": 137,
     "metadata": {},
     "output_type": "execute_result"
    }
   ],
   "source": [
    "X_train.shape"
   ]
  },
  {
   "cell_type": "code",
   "execution_count": 138,
   "id": "35d05276",
   "metadata": {},
   "outputs": [
    {
     "data": {
      "text/plain": [
       "(7965, 128, 128, 1)"
      ]
     },
     "execution_count": 138,
     "metadata": {},
     "output_type": "execute_result"
    }
   ],
   "source": [
    "X_test.shape"
   ]
  },
  {
   "cell_type": "code",
   "execution_count": 139,
   "id": "e4381b96",
   "metadata": {},
   "outputs": [
    {
     "data": {
      "text/plain": [
       "(18583, 11)"
      ]
     },
     "execution_count": 139,
     "metadata": {},
     "output_type": "execute_result"
    }
   ],
   "source": [
    "y_train.shape"
   ]
  },
  {
   "cell_type": "code",
   "execution_count": 140,
   "id": "59b5b9b5",
   "metadata": {},
   "outputs": [
    {
     "data": {
      "text/plain": [
       "(7965, 11)"
      ]
     },
     "execution_count": 140,
     "metadata": {},
     "output_type": "execute_result"
    }
   ],
   "source": [
    "y_test.shape"
   ]
  },
  {
   "cell_type": "markdown",
   "id": "88bf9e08",
   "metadata": {},
   "source": [
    "# Convolutional Neural Network"
   ]
  },
  {
   "cell_type": "markdown",
   "id": "e57e5705",
   "metadata": {},
   "source": [
    "We will now build our **CNN** model using Keras. This model will have the following layers :\n",
    "\n",
    "* **Convolutional Layer** : 30 filters, (3 * 3) kernel size\n",
    "* **Max Pooling Layer** : (2 * 2) pool size\n",
    "* **Convolutional Layer** : 15 filters, (3 * 3) kernel size\n",
    "* **Max Pooling Layer** : (2 * 2) pool size\n",
    "* **DropOut Layer** : Dropping 25% of neurons.\n",
    "* **Flatten Layer**\n",
    "* **Dense/Fully Connected Layer** : 128 Neurons, Relu activation function\n",
    "* **DropOut Layer** : Dropping 50% of neurons.\n",
    "* **Dense/Fully Connected Layer** : 50 Neurons, Softmax activation function\n",
    "* **Dense/Fully Connected Layer** : num_class Neurons, Softmax activation function\n",
    "\n",
    "**Input shape** : 128 * 128 * 3"
   ]
  },
  {
   "cell_type": "code",
   "execution_count": 141,
   "id": "12602bb3",
   "metadata": {},
   "outputs": [],
   "source": [
    "import keras\n",
    "from keras.models import Sequential, Input, Model\n",
    "from keras.layers import Dense, Dropout, Flatten\n",
    "from keras.layers import Conv2D, MaxPooling2D\n",
    "from keras.layers.normalization import BatchNormalization"
   ]
  },
  {
   "cell_type": "markdown",
   "id": "3e93e7f1",
   "metadata": {},
   "source": [
    "We want **11** classes"
   ]
  },
  {
   "cell_type": "code",
   "execution_count": 283,
   "id": "3c0b6076",
   "metadata": {},
   "outputs": [
    {
     "name": "stdout",
     "output_type": "stream",
     "text": [
      "The number of classes in our dataset:  11\n"
     ]
    }
   ],
   "source": [
    "num_classes = 11\n",
    "print(\"The number of classes in our dataset: \", num_classes)"
   ]
  },
  {
   "cell_type": "markdown",
   "id": "fe9a46eb",
   "metadata": {},
   "source": [
    "Building the model"
   ]
  },
  {
   "cell_type": "code",
   "execution_count": 147,
   "id": "c5b5fab3",
   "metadata": {},
   "outputs": [],
   "source": [
    "def malware_model():\n",
    "    Malware_model = Sequential()\n",
    "    Malware_model.add(Conv2D(30, kernel_size=(3, 3),\n",
    "                     activation='relu',\n",
    "                     input_shape=(128,128,3)))\n",
    "\n",
    "    Malware_model.add(MaxPooling2D(pool_size=(2, 2)))\n",
    "    Malware_model.add(Conv2D(15, (3, 3), activation='relu'))\n",
    "    Malware_model.add(MaxPooling2D(pool_size=(2, 2)))\n",
    "    Malware_model.add(Dropout(0.25))\n",
    "    Malware_model.add(Flatten())\n",
    "    Malware_model.add(Dense(128, activation='relu'))\n",
    "    Malware_model.add(Dropout(0.5))\n",
    "    Malware_model.add(Dense(50, activation='relu'))\n",
    "    Malware_model.add(Dense(num_classes, activation='softmax'))\n",
    "    Malware_model.compile(loss='categorical_crossentropy', optimizer = 'adam', metrics=['accuracy'])\n",
    "    return Malware_model"
   ]
  },
  {
   "cell_type": "code",
   "execution_count": 148,
   "id": "24cd37fe",
   "metadata": {},
   "outputs": [],
   "source": [
    "Malware_model = malware_model()"
   ]
  },
  {
   "cell_type": "code",
   "execution_count": 149,
   "id": "08ddd360",
   "metadata": {},
   "outputs": [
    {
     "name": "stdout",
     "output_type": "stream",
     "text": [
      "Model: \"sequential_4\"\n",
      "_________________________________________________________________\n",
      "Layer (type)                 Output Shape              Param #   \n",
      "=================================================================\n",
      "conv2d_8 (Conv2D)            (None, 126, 126, 30)      300       \n",
      "_________________________________________________________________\n",
      "max_pooling2d_8 (MaxPooling2 (None, 63, 63, 30)        0         \n",
      "_________________________________________________________________\n",
      "conv2d_9 (Conv2D)            (None, 61, 61, 15)        4065      \n",
      "_________________________________________________________________\n",
      "max_pooling2d_9 (MaxPooling2 (None, 30, 30, 15)        0         \n",
      "_________________________________________________________________\n",
      "dropout_8 (Dropout)          (None, 30, 30, 15)        0         \n",
      "_________________________________________________________________\n",
      "flatten_4 (Flatten)          (None, 13500)             0         \n",
      "_________________________________________________________________\n",
      "dense_12 (Dense)             (None, 128)               1728128   \n",
      "_________________________________________________________________\n",
      "dropout_9 (Dropout)          (None, 128)               0         \n",
      "_________________________________________________________________\n",
      "dense_13 (Dense)             (None, 50)                6450      \n",
      "_________________________________________________________________\n",
      "dense_14 (Dense)             (None, 11)                561       \n",
      "=================================================================\n",
      "Total params: 1,739,504\n",
      "Trainable params: 1,739,504\n",
      "Non-trainable params: 0\n",
      "_________________________________________________________________\n"
     ]
    }
   ],
   "source": [
    "Malware_model.summary() # Overview of the CNN model"
   ]
  },
  {
   "cell_type": "code",
   "execution_count": 150,
   "id": "c77de156",
   "metadata": {},
   "outputs": [
    {
     "name": "stdout",
     "output_type": "stream",
     "text": [
      "Epoch 1/10\n",
      "581/581 [==============================] - 11s 17ms/step - loss: 0.8698 - accuracy: 0.7577 - val_loss: 0.2805 - val_accuracy: 0.9101\n",
      "Epoch 2/10\n",
      "581/581 [==============================] - 8s 14ms/step - loss: 0.3311 - accuracy: 0.8935 - val_loss: 0.2414 - val_accuracy: 0.9184\n",
      "Epoch 3/10\n",
      "581/581 [==============================] - 8s 13ms/step - loss: 0.2581 - accuracy: 0.9161 - val_loss: 0.2076 - val_accuracy: 0.9267\n",
      "Epoch 4/10\n",
      "581/581 [==============================] - 8s 14ms/step - loss: 0.2197 - accuracy: 0.9272 - val_loss: 0.1900 - val_accuracy: 0.9421\n",
      "Epoch 5/10\n",
      "581/581 [==============================] - 8s 14ms/step - loss: 0.1996 - accuracy: 0.9343 - val_loss: 0.1683 - val_accuracy: 0.9443\n",
      "Epoch 6/10\n",
      "581/581 [==============================] - 8s 14ms/step - loss: 0.1774 - accuracy: 0.9389 - val_loss: 0.1669 - val_accuracy: 0.9465\n",
      "Epoch 7/10\n",
      "581/581 [==============================] - 8s 14ms/step - loss: 0.1558 - accuracy: 0.9478 - val_loss: 0.1593 - val_accuracy: 0.9514\n",
      "Epoch 8/10\n",
      "581/581 [==============================] - 8s 14ms/step - loss: 0.1473 - accuracy: 0.9529 - val_loss: 0.1819 - val_accuracy: 0.9529\n",
      "Epoch 9/10\n",
      "581/581 [==============================] - 8s 14ms/step - loss: 0.1322 - accuracy: 0.9565 - val_loss: 0.1614 - val_accuracy: 0.9504\n",
      "Epoch 10/10\n",
      "581/581 [==============================] - 8s 14ms/step - loss: 0.1179 - accuracy: 0.9593 - val_loss: 0.1580 - val_accuracy: 0.9547\n"
     ]
    },
    {
     "data": {
      "text/plain": [
       "<keras.callbacks.History at 0x29645eeff70>"
      ]
     },
     "execution_count": 150,
     "metadata": {},
     "output_type": "execute_result"
    }
   ],
   "source": [
    "Malware_model.fit(X_train, y_train, validation_data=(X_test, y_test), epochs=10) # The actual computation of the CNN"
   ]
  },
  {
   "cell_type": "code",
   "execution_count": 151,
   "id": "20855787",
   "metadata": {},
   "outputs": [
    {
     "name": "stdout",
     "output_type": "stream",
     "text": [
      "249/249 [==============================] - 1s 5ms/step - loss: 0.1580 - accuracy: 0.9547\n"
     ]
    }
   ],
   "source": [
    "scores = Malware_model.evaluate(X_test, y_test) # Testing the CNN on the test set"
   ]
  },
  {
   "cell_type": "code",
   "execution_count": 256,
   "id": "c36f77e7",
   "metadata": {},
   "outputs": [
    {
     "name": "stdout",
     "output_type": "stream",
     "text": [
      "Overall CNN Accuracy: 0.9546766877174377\n",
      "(The number of correct predictions divided by the number of total predictions)\n"
     ]
    }
   ],
   "source": [
    "print(f\"Overall CNN Accuracy: {scores[1]}\\n(The number of correct predictions divided by the number of total predictions)\")"
   ]
  },
  {
   "cell_type": "markdown",
   "id": "0736d9fa",
   "metadata": {},
   "source": [
    "# Confusion Matrix\n",
    "Analysing the results"
   ]
  },
  {
   "cell_type": "code",
   "execution_count": 200,
   "id": "de77f974",
   "metadata": {},
   "outputs": [],
   "source": [
    "y_pred = np.argmax(Malware_model.predict(X_test), axis=-1)"
   ]
  },
  {
   "cell_type": "code",
   "execution_count": 201,
   "id": "fe1d9703",
   "metadata": {},
   "outputs": [
    {
     "data": {
      "text/plain": [
       "array([10,  1, 10, ...,  1, 10,  4], dtype=int64)"
      ]
     },
     "execution_count": 201,
     "metadata": {},
     "output_type": "execute_result"
    }
   ],
   "source": [
    "y_pred"
   ]
  },
  {
   "cell_type": "code",
   "execution_count": 202,
   "id": "1cd203fe",
   "metadata": {},
   "outputs": [],
   "source": [
    "y_test2 = np.argmax(y_test, axis=1)"
   ]
  },
  {
   "cell_type": "code",
   "execution_count": 203,
   "id": "946bb251",
   "metadata": {},
   "outputs": [
    {
     "data": {
      "text/plain": [
       "array([10,  1, 10, ...,  1, 10,  4], dtype=int64)"
      ]
     },
     "execution_count": 203,
     "metadata": {},
     "output_type": "execute_result"
    }
   ],
   "source": [
    "y_test2"
   ]
  },
  {
   "cell_type": "code",
   "execution_count": 157,
   "id": "b928386e",
   "metadata": {},
   "outputs": [],
   "source": [
    "c_matrix = metrics.confusion_matrix(y_test2, y_pred)"
   ]
  },
  {
   "cell_type": "code",
   "execution_count": 158,
   "id": "ccd0beee",
   "metadata": {},
   "outputs": [],
   "source": [
    "def confusion_matrix(confusion_matrix, class_names, figsize = (10,7), fontsize=14):\n",
    "   \n",
    "    df_cm = pd.DataFrame(\n",
    "        confusion_matrix, index=class_names, columns=class_names, \n",
    "    )\n",
    "    fig = plt.figure(figsize=figsize)\n",
    "    try:\n",
    "        heatmap = sns.heatmap(df_cm, annot=True, fmt=\"d\")\n",
    "    except ValueError:\n",
    "        raise ValueError(\"Confusion matrix values must be integers.\")\n",
    "    heatmap.yaxis.set_ticklabels(heatmap.yaxis.get_ticklabels(), rotation=0, ha='right', fontsize=fontsize)\n",
    "    heatmap.xaxis.set_ticklabels(heatmap.xaxis.get_ticklabels(), rotation=45, ha='right', fontsize=fontsize)\n",
    "    plt.ylabel('True label')\n",
    "    plt.xlabel('Predicted label')"
   ]
  },
  {
   "cell_type": "code",
   "execution_count": 159,
   "id": "05e07768",
   "metadata": {},
   "outputs": [
    {
     "data": {
      "image/png": "[encoded data removed]",
      "text/plain": [
       "<Figure size 1440x504 with 2 Axes>"
      ]
     },
     "metadata": {
      "needs_background": "light"
     },
     "output_type": "display_data"
    }
   ],
   "source": [
    "class_names= batches.class_indices.keys()\n",
    "confusion_matrix(c_matrix, class_names, figsize = (20,7), fontsize=14)"
   ]
  },
  {
   "cell_type": "markdown",
   "id": "67c16386",
   "metadata": {},
   "source": [
    "# Detection Measurement\n",
    "y_predbin and y_testbin are the binary classification arrays. 0 = ransomware and 1 = benign"
   ]
  },
  {
   "cell_type": "code",
   "execution_count": 268,
   "id": "eaf81eff",
   "metadata": {},
   "outputs": [],
   "source": [
    "from sklearn.metrics import f1_score, matthews_corrcoef, accuracy_score\n",
    "from prettytable import PrettyTable, MSWORD_FRIENDLY"
   ]
  },
  {
   "cell_type": "code",
   "execution_count": 232,
   "id": "441c1201",
   "metadata": {},
   "outputs": [],
   "source": [
    "y_predbin = [] \n",
    "y_truebin = []\n",
    "for count, value in enumerate(y_test2):\n",
    "    if y_test2[count] in range(10): # range(10) is 0 to 9\n",
    "        y_truebin.append(0)\n",
    "    else: y_truebin.append(1)\n",
    "    \n",
    "    if y_pred[count] in range(10):\n",
    "        y_predbin.append(0)\n",
    "    else: y_predbin.append(1)\n",
    "    \n",
    "    continue\n"
   ]
  },
  {
   "cell_type": "code",
   "execution_count": 233,
   "id": "6c9a2e14",
   "metadata": {},
   "outputs": [],
   "source": [
    "c_matrix_bin = metrics.confusion_matrix(y_truebin, y_predbin)"
   ]
  },
  {
   "cell_type": "code",
   "execution_count": 242,
   "id": "06ec6ec4",
   "metadata": {},
   "outputs": [],
   "source": [
    "def confusion_matrix_bin(confusion_matrix, class_names, figsize = (5,2), fontsize=7):\n",
    "   \n",
    "    df_cm = pd.DataFrame(\n",
    "        confusion_matrix, index=class_names, columns=class_names, \n",
    "    )\n",
    "    fig = plt.figure(figsize=figsize)\n",
    "    try:\n",
    "        heatmap = sns.heatmap(df_cm, annot=True, fmt=\"d\")\n",
    "    except ValueError:\n",
    "        raise ValueError(\"Confusion matrix values must be integers.\")\n",
    "    heatmap.yaxis.set_ticklabels(heatmap.yaxis.get_ticklabels(), rotation=0, ha='right', fontsize=fontsize)\n",
    "    heatmap.xaxis.set_ticklabels(heatmap.xaxis.get_ticklabels(), rotation=45, ha='right', fontsize=fontsize)\n",
    "    plt.ylabel('True label')\n",
    "    plt.xlabel('Predicted label')"
   ]
  },
  {
   "cell_type": "code",
   "execution_count": 246,
   "id": "8f74c8c1",
   "metadata": {},
   "outputs": [
    {
     "data": {
      "image/png": "[encoded data removed]",
      "text/plain": [
       "<Figure size 360x144 with 2 Axes>"
      ]
     },
     "metadata": {
      "needs_background": "light"
     },
     "output_type": "display_data"
    }
   ],
   "source": [
    "class_names_bin= (\"ransomware\", \"benign\")\n",
    "confusion_matrix(c_matrix_bin, class_names_bin, figsize = (5,2), fontsize=10)"
   ]
  },
  {
   "cell_type": "markdown",
   "id": "68e98b63",
   "metadata": {},
   "source": [
    "**True Positive Rate**"
   ]
  },
  {
   "cell_type": "code",
   "execution_count": 263,
   "id": "68af4c85",
   "metadata": {},
   "outputs": [],
   "source": [
    "TPR = c_matrix_bin[0,0]/(c_matrix_bin[0,0] + c_matrix_bin[0,1]) #True Positive Rate"
   ]
  },
  {
   "cell_type": "markdown",
   "id": "efff9f50",
   "metadata": {},
   "source": [
    "**Accuracy**"
   ]
  },
  {
   "cell_type": "code",
   "execution_count": 264,
   "id": "54db8a57",
   "metadata": {},
   "outputs": [],
   "source": [
    "ACC = accuracy_score(y_testbin, y_predbin) # Accuracy"
   ]
  },
  {
   "cell_type": "markdown",
   "id": "9604f283",
   "metadata": {},
   "source": [
    "**F1 Score**"
   ]
  },
  {
   "cell_type": "code",
   "execution_count": 265,
   "id": "218e325d",
   "metadata": {},
   "outputs": [],
   "source": [
    "F1 = f1_score(y_testbin, y_predbin, labels=0) # F1 Score"
   ]
  },
  {
   "cell_type": "markdown",
   "id": "84ef5fe6",
   "metadata": {},
   "source": [
    "**Matthews Correlation Coefficient**"
   ]
  },
  {
   "cell_type": "code",
   "execution_count": 266,
   "id": "1a27ebe0",
   "metadata": {},
   "outputs": [],
   "source": [
    "MCC = matthews_corrcoef(y_testbin, y_predbin) # Matthews Correlation Coefficient"
   ]
  },
  {
   "cell_type": "markdown",
   "id": "def42689",
   "metadata": {},
   "source": [
    "**Show Performance of CNN**"
   ]
  },
  {
   "cell_type": "code",
   "execution_count": 282,
   "id": "b6fe1f40",
   "metadata": {},
   "outputs": [
    {
     "name": "stdout",
     "output_type": "stream",
     "text": [
      "+------------------------------------------------+\n",
      "|               Performance of CNN               |\n",
      "+----------------------------------+-------------+\n",
      "| Metric                           | Performance |\n",
      "+----------------------------------+-------------+\n",
      "| True Positive Rate               | 0.9767      |\n",
      "| Accuracy                         | 0.9854      |\n",
      "| F1 Score                         | 0.9864      |\n",
      "| Matthews Correlation Coefficient | 0.9708      |\n",
      "+----------------------------------+-------------+\n"
     ]
    }
   ],
   "source": [
    "t = PrettyTable(['Metric', 'Performance'])\n",
    "t.add_row(['True Positive Rate', round(TPR,4)])\n",
    "t.add_row(['Accuracy', round(ACC,4)])\n",
    "t.add_row(['F1 Score', round(F1,4)])\n",
    "t.add_row(['Matthews Correlation Coefficient', round(MCC,4)])\n",
    "t.header = True\n",
    "t.align = \"l\"\n",
    "t.title = \"Performance of CNN\"\n",
    "print(t)"
   ]
  },
  {
   "cell_type": "code",
   "execution_count": null,
   "id": "7cf60be8",
   "metadata": {},
   "outputs": [],
   "source": []
  }
 ],
 "metadata": {
  "kernelspec": {
   "display_name": "Python 3 (ipykernel)",
   "language": "python",
   "name": "python3"
  },
  "language_info": {
   "codemirror_mode": {
    "name": "ipython",
    "version": 3
   },
   "file_extension": ".py",
   "mimetype": "text/x-python",
   "name": "python",
   "nbconvert_exporter": "python",
   "pygments_lexer": "ipython3",
   "version": "3.8.5"
  }
 },
 "nbformat": 4,
 "nbformat_minor": 5
}
