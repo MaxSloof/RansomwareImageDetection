{
 "cells": [
  {
   "cell_type": "markdown",
   "metadata": {},
   "source": [
    "# Convolutional Neural Network (1of1)"
   ]
  },
  {
   "cell_type": "markdown",
   "metadata": {},
   "source": [
    "**Notes about this specific notebook**\n",
    "\n",
    "This notebook ran on both benign and ransomware data\n",
    "\n",
    "This notebook uses data augmentation to improve the generalizability of the model. \n",
    "\n",
    "Uses rgb, 64x64 images with ReLU activation and SGD optimizer.\n",
    "\n",
    "Weights are not included! "
   ]
  },
  {
   "cell_type": "markdown",
   "metadata": {},
   "source": [
    "# CHANGE"
   ]
  },
  {
   "cell_type": "markdown",
   "metadata": {},
   "source": [
    "_____________________________________________________________________"
   ]
  },
  {
   "cell_type": "code",
   "execution_count": 1,
   "metadata": {
    "execution": {
     "iopub.execute_input": "2022-03-24T09:51:07.819177Z",
     "iopub.status.busy": "2022-03-24T09:51:07.818616Z",
     "iopub.status.idle": "2022-03-24T09:51:07.823901Z",
     "shell.execute_reply": "2022-03-24T09:51:07.82295Z",
     "shell.execute_reply.started": "2022-03-24T09:51:07.819139Z"
    }
   },
   "outputs": [],
   "source": [
    "# Image size (height x width)\n",
    "ih = 64\n",
    "iw = 64\n",
    "\n",
    "# Grayscale or RGB\n",
    "ch = 'grayscale'\n",
    "\n",
    "# Batch size\n",
    "batch_size = 64\n",
    "\n",
    "# Number of epochs\n",
    "epoch_t = 25\n",
    "\n",
    "# Where computation is performed: Kaggle (0) or Local (1)\n",
    "cenv = 1\n",
    "\n",
    "# Division of the training vs. test set (in %)\n",
    "test_size = 0.3\n",
    "\n",
    "# Weight factor (1 is perfect reverse)\n",
    "wf = 0.5"
   ]
  },
  {
   "cell_type": "code",
   "execution_count": null,
   "metadata": {},
   "outputs": [],
   "source": []
  },
  {
   "cell_type": "markdown",
   "metadata": {},
   "source": [
    "_____________________________________________________________________"
   ]
  },
  {
   "cell_type": "code",
   "execution_count": 2,
   "metadata": {
    "execution": {
     "iopub.execute_input": "2022-03-24T09:51:07.82945Z",
     "iopub.status.busy": "2022-03-24T09:51:07.828719Z",
     "iopub.status.idle": "2022-03-24T09:51:07.83629Z",
     "shell.execute_reply": "2022-03-24T09:51:07.835574Z",
     "shell.execute_reply.started": "2022-03-24T09:51:07.829409Z"
    }
   },
   "outputs": [
    {
     "name": "stdout",
     "output_type": "stream",
     "text": [
      "Computation environment: Local\n"
     ]
    }
   ],
   "source": [
    "if cenv == 0:\n",
    "    print(\"Computation environment: Kaggle\")\n",
    "if cenv == 1:\n",
    "    print(\"Computation environment: Local\")"
   ]
  },
  {
   "cell_type": "code",
   "execution_count": 3,
   "metadata": {
    "_cell_guid": "b1076dfc-b9ad-4769-8c92-a6c4dae69d19",
    "_uuid": "8f2839f25d086af736a60e9eeb907d3b93b6e0e5",
    "execution": {
     "iopub.execute_input": "2022-03-24T09:51:07.838448Z",
     "iopub.status.busy": "2022-03-24T09:51:07.83794Z",
     "iopub.status.idle": "2022-03-24T09:51:07.844863Z",
     "shell.execute_reply": "2022-03-24T09:51:07.844171Z",
     "shell.execute_reply.started": "2022-03-24T09:51:07.838412Z"
    }
   },
   "outputs": [],
   "source": [
    "from keras.preprocessing.image import ImageDataGenerator\n",
    "from sklearn.model_selection import train_test_split\n",
    "import tensorflow as tf\n",
    "import numpy as np\n",
    "from sklearn.utils import class_weight\n",
    "from sklearn import metrics\n",
    "import sys\n",
    "import os\n",
    "from math import log\n",
    "import scipy as sp\n",
    "import matplotlib.pyplot as plt\n",
    "import pandas as pd\n",
    "import seaborn as sns\n",
    "import math"
   ]
  },
  {
   "cell_type": "code",
   "execution_count": 4,
   "metadata": {
    "execution": {
     "iopub.execute_input": "2022-03-24T09:51:07.846893Z",
     "iopub.status.busy": "2022-03-24T09:51:07.846503Z",
     "iopub.status.idle": "2022-03-24T09:51:07.854494Z",
     "shell.execute_reply": "2022-03-24T09:51:07.853717Z",
     "shell.execute_reply.started": "2022-03-24T09:51:07.846857Z"
    }
   },
   "outputs": [
    {
     "name": "stdout",
     "output_type": "stream",
     "text": [
      "[PhysicalDevice(name='/physical_device:GPU:0', device_type='GPU')]\n"
     ]
    }
   ],
   "source": [
    "is_cuda_gpu_available = tf.config.list_physical_devices('GPU')\n",
    "print(is_cuda_gpu_available)"
   ]
  },
  {
   "cell_type": "code",
   "execution_count": 5,
   "metadata": {
    "execution": {
     "iopub.execute_input": "2022-03-24T09:51:07.856364Z",
     "iopub.status.busy": "2022-03-24T09:51:07.855969Z",
     "iopub.status.idle": "2022-03-24T09:51:07.865954Z",
     "shell.execute_reply": "2022-03-24T09:51:07.865216Z",
     "shell.execute_reply.started": "2022-03-24T09:51:07.856326Z"
    }
   },
   "outputs": [],
   "source": [
    "im_si = (ih, iw)\n",
    "\n",
    "if(ch == 'rgb'):\n",
    "    chnum = 3\n",
    "elif(ch == 'grayscale'):\n",
    "    chnum = 1"
   ]
  },
  {
   "cell_type": "markdown",
   "metadata": {},
   "source": [
    "Create new directory for saving output files"
   ]
  },
  {
   "cell_type": "code",
   "execution_count": 6,
   "metadata": {
    "execution": {
     "iopub.execute_input": "2022-03-24T09:51:07.868924Z",
     "iopub.status.busy": "2022-03-24T09:51:07.867236Z",
     "iopub.status.idle": "2022-03-24T09:51:07.877716Z",
     "shell.execute_reply": "2022-03-24T09:51:07.876945Z",
     "shell.execute_reply.started": "2022-03-24T09:51:07.868888Z"
    }
   },
   "outputs": [
    {
     "name": "stdout",
     "output_type": "stream",
     "text": [
      "17 matches(es) found\n",
      "--------------\n",
      "New folder name: cnn-local-v018\n",
      "--------------\n"
     ]
    }
   ],
   "source": [
    "if cenv == 1:\n",
    "    file_exists = []\n",
    "    vnum = 1\n",
    "    dir = \"C:/Users/Max/Documents/GitHub/cnn\"\n",
    "    for files in os.listdir(dir):\n",
    "        if \"cnn\" in files:\n",
    "            try:\n",
    "                vnum = max(vnum, int(files[-3:]))\n",
    "            except: \n",
    "                continue\n",
    "            new_vnum = vnum + 1\n",
    "            file_exists.append(True)\n",
    "        else: \n",
    "            file_exists.append(False)\n",
    "    # If this is the first notebook you want to save, a new folder will be created with version #001\n",
    "    if sum(file_exists) == 0:\n",
    "        new_vnum = 1\n",
    "        print(\"No matches found\")\n",
    "\n",
    "    else: \n",
    "        print(f\"{sum(file_exists)} matches(es) found\")\n",
    "        print(\"--------------\")\n",
    "\n",
    "    # Print new folder name\n",
    "    print(f\"New folder name: cnn-local-v{new_vnum:03}\")\n",
    "    print(\"--------------\")\n",
    "    \n",
    "    # Create new folder with the name of the notebook and the version number\n",
    "    new_dir = f\"/Users/Max/Documents/GitHub/cnn/cnn-local-v{new_vnum:03}\"\n",
    "    os.makedirs(new_dir)"
   ]
  },
  {
   "cell_type": "markdown",
   "metadata": {},
   "source": [
    "**Data**\n"
   ]
  },
  {
   "cell_type": "code",
   "execution_count": 7,
   "metadata": {
    "execution": {
     "iopub.execute_input": "2022-03-24T09:51:07.880066Z",
     "iopub.status.busy": "2022-03-24T09:51:07.879556Z",
     "iopub.status.idle": "2022-03-24T09:51:07.887386Z",
     "shell.execute_reply": "2022-03-24T09:51:07.886569Z",
     "shell.execute_reply.started": "2022-03-24T09:51:07.880029Z"
    }
   },
   "outputs": [],
   "source": [
    "if cenv == 0:\n",
    "    path_root = \"/kaggle/input/thesis-data\"\n",
    "\n",
    "if cenv == 1:\n",
    "    path_root = \"C:/Users/Max/Documents/image_data/data_original\""
   ]
  },
  {
   "cell_type": "code",
   "execution_count": 8,
   "metadata": {},
   "outputs": [],
   "source": [
    "t_datagen = ImageDataGenerator(\n",
    "    horizontal_flip=True,\n",
    "    zoom_range=.01,\n",
    "    rescale=1/255,\n",
    "    validation_split=0.3)"
   ]
  },
  {
   "cell_type": "code",
   "execution_count": 9,
   "metadata": {
    "execution": {
     "iopub.execute_input": "2022-03-24T09:51:07.889156Z",
     "iopub.status.busy": "2022-03-24T09:51:07.888841Z",
     "iopub.status.idle": "2022-03-24T09:51:57.065878Z",
     "shell.execute_reply": "2022-03-24T09:51:57.065131Z",
     "shell.execute_reply.started": "2022-03-24T09:51:07.889121Z"
    }
   },
   "outputs": [
    {
     "name": "stdout",
     "output_type": "stream",
     "text": [
      "Found 18589 images belonging to 11 classes.\n"
     ]
    }
   ],
   "source": [
    "train = t_datagen.flow_from_directory(\n",
    "    directory     = path_root, \n",
    "    color_mode    = ch, \n",
    "    target_size   = (ih,iw), \n",
    "    batch_size    = batch_size,\n",
    "    interpolation = 'bicubic',\n",
    "    subset='training',\n",
    "    seed = 123\n",
    ")"
   ]
  },
  {
   "cell_type": "code",
   "execution_count": 10,
   "metadata": {},
   "outputs": [],
   "source": [
    "v_datagen = ImageDataGenerator(\n",
    "    rescale=1/255,\n",
    "    validation_split=0.3)"
   ]
  },
  {
   "cell_type": "code",
   "execution_count": 11,
   "metadata": {},
   "outputs": [
    {
     "name": "stdout",
     "output_type": "stream",
     "text": [
      "Found 7959 images belonging to 11 classes.\n"
     ]
    }
   ],
   "source": [
    "test = v_datagen.flow_from_directory(\n",
    "    directory     = path_root, \n",
    "    color_mode    = ch, \n",
    "    target_size   = (ih,iw), \n",
    "    batch_size    = batch_size,\n",
    "    interpolation = 'bicubic',\n",
    "    subset='validation',\n",
    "    seed = 123,\n",
    "    shuffle = False\n",
    ")"
   ]
  },
  {
   "cell_type": "code",
   "execution_count": 12,
   "metadata": {
    "execution": {
     "iopub.execute_input": "2022-03-24T09:51:57.067808Z",
     "iopub.status.busy": "2022-03-24T09:51:57.067541Z",
     "iopub.status.idle": "2022-03-24T09:51:57.073423Z",
     "shell.execute_reply": "2022-03-24T09:51:57.072648Z",
     "shell.execute_reply.started": "2022-03-24T09:51:57.067772Z"
    }
   },
   "outputs": [
    {
     "data": {
      "text/plain": [
       "{'BetterSurf': 0,\n",
       " 'Eksor.A': 1,\n",
       " 'Obfuscator.AFQ': 2,\n",
       " 'Occamy.C': 3,\n",
       " 'OnLineGames.CTB': 4,\n",
       " 'Reveton.A': 5,\n",
       " 'Sfone': 6,\n",
       " 'VB.IL': 7,\n",
       " 'Zbot': 8,\n",
       " 'Zbot!CI': 9,\n",
       " 'benign': 10}"
      ]
     },
     "execution_count": 12,
     "metadata": {},
     "output_type": "execute_result"
    }
   ],
   "source": [
    "train.class_indices"
   ]
  },
  {
   "cell_type": "code",
   "execution_count": 13,
   "metadata": {},
   "outputs": [
    {
     "name": "stdout",
     "output_type": "stream",
     "text": [
      "3\n"
     ]
    }
   ],
   "source": [
    "print(test.classes[1900])"
   ]
  },
  {
   "cell_type": "code",
   "execution_count": 14,
   "metadata": {},
   "outputs": [],
   "source": [
    "num_samples = train.samples"
   ]
  },
  {
   "cell_type": "code",
   "execution_count": 18,
   "metadata": {
    "execution": {
     "iopub.execute_input": "2022-03-24T09:51:59.754307Z",
     "iopub.status.busy": "2022-03-24T09:51:59.753967Z",
     "iopub.status.idle": "2022-03-24T09:51:59.759288Z",
     "shell.execute_reply": "2022-03-24T09:51:59.758525Z",
     "shell.execute_reply.started": "2022-03-24T09:51:59.754277Z"
    }
   },
   "outputs": [],
   "source": [
    "classes = train.class_indices.keys()"
   ]
  },
  {
   "cell_type": "code",
   "execution_count": 19,
   "metadata": {
    "execution": {
     "iopub.execute_input": "2022-03-24T09:51:59.760972Z",
     "iopub.status.busy": "2022-03-24T09:51:59.760704Z",
     "iopub.status.idle": "2022-03-24T09:52:00.020113Z",
     "shell.execute_reply": "2022-03-24T09:52:00.01942Z",
     "shell.execute_reply.started": "2022-03-24T09:51:59.76093Z"
    }
   },
   "outputs": [
    {
     "ename": "NameError",
     "evalue": "name 'labels' is not defined",
     "output_type": "error",
     "traceback": [
      "\u001b[1;31m---------------------------------------------------------------------------\u001b[0m",
      "\u001b[1;31mNameError\u001b[0m                                 Traceback (most recent call last)",
      "\u001b[1;32m~\\AppData\\Local\\Temp/ipykernel_7948/3813151482.py\u001b[0m in \u001b[0;36m<module>\u001b[1;34m\u001b[0m\n\u001b[1;32m----> 1\u001b[1;33m \u001b[0mperc\u001b[0m \u001b[1;33m=\u001b[0m \u001b[1;33m(\u001b[0m\u001b[0msum\u001b[0m\u001b[1;33m(\u001b[0m\u001b[0mlabels\u001b[0m\u001b[1;33m)\u001b[0m\u001b[1;33m/\u001b[0m\u001b[0mlabels\u001b[0m\u001b[1;33m.\u001b[0m\u001b[0mshape\u001b[0m\u001b[1;33m[\u001b[0m\u001b[1;36m0\u001b[0m\u001b[1;33m]\u001b[0m\u001b[1;33m)\u001b[0m\u001b[1;33m*\u001b[0m\u001b[1;36m100\u001b[0m\u001b[1;33m\u001b[0m\u001b[1;33m\u001b[0m\u001b[0m\n\u001b[0m\u001b[0;32m      2\u001b[0m \u001b[0mplt\u001b[0m\u001b[1;33m.\u001b[0m\u001b[0mxticks\u001b[0m\u001b[1;33m(\u001b[0m\u001b[0mrotation\u001b[0m\u001b[1;33m=\u001b[0m\u001b[1;34m'vertical'\u001b[0m\u001b[1;33m)\u001b[0m\u001b[1;33m\u001b[0m\u001b[1;33m\u001b[0m\u001b[0m\n\u001b[0;32m      3\u001b[0m \u001b[0mplt\u001b[0m\u001b[1;33m.\u001b[0m\u001b[0mbar\u001b[0m\u001b[1;33m(\u001b[0m\u001b[0mclasses\u001b[0m\u001b[1;33m,\u001b[0m\u001b[0mperc\u001b[0m\u001b[1;33m)\u001b[0m\u001b[1;33m\u001b[0m\u001b[1;33m\u001b[0m\u001b[0m\n\u001b[0;32m      4\u001b[0m \u001b[0mplt\u001b[0m\u001b[1;33m.\u001b[0m\u001b[0mylabel\u001b[0m\u001b[1;33m(\u001b[0m\u001b[1;34m'Distribution of data in percentages (%)'\u001b[0m\u001b[1;33m)\u001b[0m\u001b[1;33m\u001b[0m\u001b[1;33m\u001b[0m\u001b[0m\n\u001b[0;32m      5\u001b[0m \u001b[1;33m\u001b[0m\u001b[0m\n",
      "\u001b[1;31mNameError\u001b[0m: name 'labels' is not defined"
     ]
    }
   ],
   "source": [
    "perc = (sum(labels)/labels.shape[0])*100\n",
    "plt.xticks(rotation='vertical')\n",
    "plt.bar(classes,perc)\n",
    "plt.ylabel('Distribution of data in percentages (%)')\n",
    "\n",
    "if cenv == 0:\n",
    "    plt.savefig(\"multi_data_dist.png\", bbox_inches = 'tight')\n",
    "if cenv == 1:\n",
    "    plt.savefig(f\"{new_dir}/multi_data_dist.png\", bbox_inches = 'tight')"
   ]
  },
  {
   "cell_type": "code",
   "execution_count": null,
   "metadata": {
    "execution": {
     "iopub.execute_input": "2022-03-24T09:52:00.820089Z",
     "iopub.status.busy": "2022-03-24T09:52:00.819687Z",
     "iopub.status.idle": "2022-03-24T09:52:00.827438Z",
     "shell.execute_reply": "2022-03-24T09:52:00.826604Z",
     "shell.execute_reply.started": "2022-03-24T09:52:00.820052Z"
    }
   },
   "outputs": [],
   "source": [
    "def my_fmt(x):\n",
    "    return '{:.1f}%\\n({:.0f})'.format(x, total*x/100)\n",
    "total = trainsize + testsize"
   ]
  },
  {
   "cell_type": "code",
   "execution_count": null,
   "metadata": {
    "execution": {
     "iopub.execute_input": "2022-03-24T09:52:00.829514Z",
     "iopub.status.busy": "2022-03-24T09:52:00.829242Z",
     "iopub.status.idle": "2022-03-24T09:52:00.93338Z",
     "shell.execute_reply": "2022-03-24T09:52:00.932608Z",
     "shell.execute_reply.started": "2022-03-24T09:52:00.82948Z"
    }
   },
   "outputs": [],
   "source": [
    "plt.pie(\n",
    "    [trainsize, testsize], \n",
    "    labels = [\"Training\", \"Validation\"], \n",
    "    startangle=90, \n",
    "    counterclock=False, \n",
    "    autopct=my_fmt,\n",
    "    colors = ['gray', 'silver']\n",
    ")\n",
    "\n",
    "plt.title(\"Training and validation data distribution\")\n",
    "\n",
    "if cenv == 0:\n",
    "    plt.savefig(\"train_test_dist.png\", bbox_inches = 'tight')\n",
    "if cenv == 1:\n",
    "    plt.savefig(f\"{new_dir}/train_test_dist.png\", bbox_inches = 'tight')"
   ]
  },
  {
   "cell_type": "markdown",
   "metadata": {},
   "source": [
    "# Convolutional Neural Network\n",
    "We will now build our **CNN** model using Keras. This model will have the following layers :\n",
    "\n",
    "* **Convolutional Layer** : 30 filters, (3 * 3) kernel size\n",
    "* **Max Pooling Layer** : (2 * 2) pool size\n",
    "* **Convolutional Layer** : 15 filters, (3 * 3) kernel size\n",
    "* **Max Pooling Layer** : (2 * 2) pool size\n",
    "* **DropOut Layer** : Dropping 25% of neurons.\n",
    "* **Flatten Layer**\n",
    "* **Dense/Fully Connected Layer** : 128 Neurons, Relu activation function\n",
    "* **DropOut Layer** : Dropping 50% of neurons.\n",
    "* **Dense/Fully Connected Layer** : 50 Neurons, Softmax activation function\n",
    "* **Dense/Fully Connected Layer** : num_class Neurons, Softmax activation function\n",
    "\n",
    "**Input shape** : 64 * 64* 3"
   ]
  },
  {
   "cell_type": "code",
   "execution_count": null,
   "metadata": {
    "execution": {
     "iopub.execute_input": "2022-03-24T09:52:00.935132Z",
     "iopub.status.busy": "2022-03-24T09:52:00.934884Z",
     "iopub.status.idle": "2022-03-24T09:52:00.941424Z",
     "shell.execute_reply": "2022-03-24T09:52:00.940655Z",
     "shell.execute_reply.started": "2022-03-24T09:52:00.935101Z"
    }
   },
   "outputs": [],
   "source": [
    "import keras\n",
    "from keras.models import Sequential, Input, Model, load_model\n",
    "from keras.layers import Dense, Dropout, Flatten\n",
    "from keras.layers import Conv2D, MaxPooling2D, LeakyReLU\n",
    "from tensorflow.keras.callbacks import ModelCheckpoint, ReduceLROnPlateau"
   ]
  },
  {
   "cell_type": "markdown",
   "metadata": {
    "execution": {
     "iopub.execute_input": "2022-03-21T12:28:06.621919Z",
     "iopub.status.busy": "2022-03-21T12:28:06.621373Z",
     "iopub.status.idle": "2022-03-21T12:28:06.651878Z",
     "shell.execute_reply": "2022-03-21T12:28:06.650937Z",
     "shell.execute_reply.started": "2022-03-21T12:28:06.621794Z"
    }
   },
   "source": [
    "Retrieve the number of classes in our dataset"
   ]
  },
  {
   "cell_type": "code",
   "execution_count": null,
   "metadata": {
    "execution": {
     "iopub.execute_input": "2022-03-24T09:52:00.943169Z",
     "iopub.status.busy": "2022-03-24T09:52:00.942922Z",
     "iopub.status.idle": "2022-03-24T09:52:00.954039Z",
     "shell.execute_reply": "2022-03-24T09:52:00.952988Z",
     "shell.execute_reply.started": "2022-03-24T09:52:00.943136Z"
    }
   },
   "outputs": [],
   "source": [
    "num_classes = max(train.labels) + 1\n",
    "print(\"The number of classes in our dataset: \", num_classes)"
   ]
  },
  {
   "cell_type": "markdown",
   "metadata": {},
   "source": [
    "Building the model"
   ]
  },
  {
   "cell_type": "code",
   "execution_count": null,
   "metadata": {
    "execution": {
     "iopub.execute_input": "2022-03-24T09:52:00.956589Z",
     "iopub.status.busy": "2022-03-24T09:52:00.956052Z",
     "iopub.status.idle": "2022-03-24T09:52:00.974116Z",
     "shell.execute_reply": "2022-03-24T09:52:00.973197Z",
     "shell.execute_reply.started": "2022-03-24T09:52:00.956537Z"
    }
   },
   "outputs": [],
   "source": [
    "def malware_model():\n",
    "    Malware_model = Sequential()\n",
    "    Malware_model.add(Conv2D(30, kernel_size=(3, 3),\n",
    "                     activation='relu',\n",
    "                     input_shape=(ih,iw,chnum)))\n",
    "\n",
    "    Malware_model.add(MaxPooling2D(pool_size=(2, 2)))\n",
    "    Malware_model.add(Conv2D(15, (3, 3), activation='relu'))\n",
    "    Malware_model.add(MaxPooling2D(pool_size=(2, 2)))\n",
    "    Malware_model.add(Dropout(0.25))\n",
    "    Malware_model.add(Flatten())\n",
    "    Malware_model.add(Dense(128, activation='relu'))\n",
    "    Malware_model.add(Dropout(0.5))\n",
    "    Malware_model.add(Dense(50, activation='relu'))\n",
    "    Malware_model.add(Dense(num_classes, activation='softmax'))\n",
    "    Malware_model.compile(loss='categorical_crossentropy', optimizer = 'sgd', metrics=['accuracy'])\n",
    "    return Malware_model"
   ]
  },
  {
   "cell_type": "code",
   "execution_count": null,
   "metadata": {
    "execution": {
     "iopub.execute_input": "2022-03-24T09:52:00.978304Z",
     "iopub.status.busy": "2022-03-24T09:52:00.976591Z",
     "iopub.status.idle": "2022-03-24T09:52:01.063981Z",
     "shell.execute_reply": "2022-03-24T09:52:01.063327Z",
     "shell.execute_reply.started": "2022-03-24T09:52:00.977769Z"
    }
   },
   "outputs": [],
   "source": [
    "Malware_model = malware_model()\n",
    "Malware_model.summary() # Overview of the CNN model"
   ]
  },
  {
   "cell_type": "code",
   "execution_count": null,
   "metadata": {},
   "outputs": [],
   "source": [
    "anne = ReduceLROnPlateau(monitor='val_accuracy', factor=0.5, patience=5, verbose=1, min_lr=1e-3)\n",
    "if cenv == 0:\n",
    "    checkpoint = ModelCheckpoint('model.h5', verbose=1, save_best_only=True)\n",
    "if cenv == 1:\n",
    "    checkpoint = ModelCheckpoint(f'{new_dir}/model.h5', verbose=1, save_best_only=True)\n"
   ]
  },
  {
   "cell_type": "code",
   "execution_count": null,
   "metadata": {
    "execution": {
     "iopub.execute_input": "2022-03-24T09:52:01.065867Z",
     "iopub.status.busy": "2022-03-24T09:52:01.065395Z",
     "iopub.status.idle": "2022-03-24T09:52:23.505335Z",
     "shell.execute_reply": "2022-03-24T09:52:23.504538Z",
     "shell.execute_reply.started": "2022-03-24T09:52:01.065832Z"
    }
   },
   "outputs": [],
   "source": [
    "history = Malware_model.fit(\n",
    "    train,\n",
    "    steps_per_epoch=num_samples//batch_size,\n",
    "    epochs=epoch_t,\n",
    "    callbacks = [anne, checkpoint],\n",
    "    validation_data=test,\n",
    "    validation_steps=test.samples//batch_size) # The actual computation of the CNN"
   ]
  },
  {
   "cell_type": "markdown",
   "metadata": {},
   "source": [
    "# Evaluating performance"
   ]
  },
  {
   "cell_type": "code",
   "execution_count": null,
   "metadata": {},
   "outputs": [],
   "source": [
    "from sklearn.metrics import f1_score, matthews_corrcoef, accuracy_score\n",
    "from prettytable import PrettyTable, MSWORD_FRIENDLY"
   ]
  },
  {
   "cell_type": "code",
   "execution_count": null,
   "metadata": {},
   "outputs": [],
   "source": [
    "if cenv == 0:\n",
    "    best_model = load_model(\"/kaggle/working/model.h5\")\n",
    "if cenv == 1:\n",
    "    best_model = load_model(f\"{new_dir}/model.h5\")"
   ]
  },
  {
   "cell_type": "code",
   "execution_count": null,
   "metadata": {
    "execution": {
     "iopub.execute_input": "2022-03-24T09:52:23.507014Z",
     "iopub.status.busy": "2022-03-24T09:52:23.506761Z",
     "iopub.status.idle": "2022-03-24T09:52:25.253035Z",
     "shell.execute_reply": "2022-03-24T09:52:25.252343Z",
     "shell.execute_reply.started": "2022-03-24T09:52:23.506981Z"
    }
   },
   "outputs": [],
   "source": [
    "scores = best_model.evaluate(test, steps = test.samples//batch_size) # Testing the CNN on the test set\n",
    "print(f\"Overall CNN Accuracy: {scores[1]}\\n(The number of correct predictions divided by the number of total predictions)\")"
   ]
  },
  {
   "cell_type": "code",
   "execution_count": null,
   "metadata": {},
   "outputs": [],
   "source": [
    "t = PrettyTable(['Metric', 'Performance'])\n",
    "t.add_row(['Valididation accuracy', round(scores[1],4)])\n",
    "t.add_row(['Validation loss', round(scores[0],4)])\n",
    "t.header = True\n",
    "t.align = \"l\"\n",
    "t.title = \"Performance of multi-class classification - CNN\"\n",
    "print(t)"
   ]
  },
  {
   "cell_type": "code",
   "execution_count": null,
   "metadata": {},
   "outputs": [],
   "source": [
    "# Saving PrettyTable\n",
    "table = t.get_string()\n",
    "\n",
    "if cenv == 0:\n",
    "    with open('multi_performance_table.txt', 'w') as f:\n",
    "        f.write(table)\n",
    "if cenv == 1:\n",
    "    with open(f'{new_dir}/multi_performance_table.txt', 'w') as f:\n",
    "        f.write(table)"
   ]
  },
  {
   "cell_type": "markdown",
   "metadata": {},
   "source": [
    "# Evaluating overfitting and other model performance measures"
   ]
  },
  {
   "cell_type": "code",
   "execution_count": null,
   "metadata": {
    "execution": {
     "iopub.execute_input": "2022-03-24T09:52:25.254512Z",
     "iopub.status.busy": "2022-03-24T09:52:25.254264Z",
     "iopub.status.idle": "2022-03-24T09:52:25.262217Z",
     "shell.execute_reply": "2022-03-24T09:52:25.26138Z",
     "shell.execute_reply.started": "2022-03-24T09:52:25.254475Z"
    }
   },
   "outputs": [],
   "source": [
    "def eval_metric(model, history, metric_name):\n",
    "    '''\n",
    "    Function to evaluate a trained model on a chosen metric. \n",
    "    Training and validation metric are plotted in a\n",
    "    line chart for each epoch.\n",
    "    \n",
    "    Parameters:\n",
    "        history : model training history\n",
    "        metric_name : loss or accuracy\n",
    "    Output:\n",
    "        line chart with epochs of x-axis and metric on\n",
    "        y-axis\n",
    "    '''\n",
    "    metric = history.history[metric_name]\n",
    "    val_metric = history.history['val_' + metric_name]\n",
    "    e = range(1, epoch_t + 1)\n",
    "    plt.plot(e, metric, 'bo', label='Train ' + metric_name)\n",
    "    plt.plot(e, val_metric, 'b', label='Validation ' + metric_name)\n",
    "    plt.xlabel('Epoch number')\n",
    "    plt.ylabel(metric_name)\n",
    "    plt.title('Comparing training and validation ' + metric_name + ' for ' + model.name)\n",
    "    plt.legend()\n",
    "    if cenv == 0:\n",
    "        plt.savefig(f\"cnn_model_{metric_name}.png\", bbox_inches = 'tight')\n",
    "    if cenv == 1:\n",
    "        plt.savefig(f\"{new_dir}/cnn_model_{metric_name}.png\", bbox_inches = 'tight')"
   ]
  },
  {
   "cell_type": "code",
   "execution_count": null,
   "metadata": {
    "execution": {
     "iopub.execute_input": "2022-03-24T09:52:25.264224Z",
     "iopub.status.busy": "2022-03-24T09:52:25.263659Z",
     "iopub.status.idle": "2022-03-24T09:52:25.538023Z",
     "shell.execute_reply": "2022-03-24T09:52:25.537254Z",
     "shell.execute_reply.started": "2022-03-24T09:52:25.264184Z"
    }
   },
   "outputs": [],
   "source": [
    "eval_metric(Malware_model, history, 'loss')"
   ]
  },
  {
   "cell_type": "code",
   "execution_count": null,
   "metadata": {
    "execution": {
     "iopub.execute_input": "2022-03-24T09:52:25.539997Z",
     "iopub.status.busy": "2022-03-24T09:52:25.539149Z",
     "iopub.status.idle": "2022-03-24T09:52:25.802578Z",
     "shell.execute_reply": "2022-03-24T09:52:25.801918Z",
     "shell.execute_reply.started": "2022-03-24T09:52:25.539958Z"
    }
   },
   "outputs": [],
   "source": [
    "eval_metric(Malware_model, history, 'accuracy')"
   ]
  },
  {
   "cell_type": "markdown",
   "metadata": {},
   "source": [
    "# Confusion Matrix\n",
    "Analysing the results"
   ]
  },
  {
   "cell_type": "code",
   "execution_count": null,
   "metadata": {
    "execution": {
     "iopub.execute_input": "2022-03-24T09:52:25.804137Z",
     "iopub.status.busy": "2022-03-24T09:52:25.803893Z",
     "iopub.status.idle": "2022-03-24T09:52:27.194603Z",
     "shell.execute_reply": "2022-03-24T09:52:27.191904Z",
     "shell.execute_reply.started": "2022-03-24T09:52:25.804103Z"
    }
   },
   "outputs": [],
   "source": [
    "y_pred = np.argmax(best_model.predict(test, steps= test.samples//batch_size+1), axis=-1)\n",
    "y_pred"
   ]
  },
  {
   "cell_type": "code",
   "execution_count": null,
   "metadata": {},
   "outputs": [],
   "source": [
    "true_classes = test.classes\n",
    "class_labels = list(test.class_indices.keys())"
   ]
  },
  {
   "cell_type": "code",
   "execution_count": null,
   "metadata": {},
   "outputs": [],
   "source": [
    "report = metrics.classification_report(true_classes, y_pred, target_names=class_labels)"
   ]
  },
  {
   "cell_type": "code",
   "execution_count": null,
   "metadata": {},
   "outputs": [],
   "source": [
    "print(report)"
   ]
  },
  {
   "cell_type": "code",
   "execution_count": null,
   "metadata": {
    "execution": {
     "iopub.execute_input": "2022-03-24T09:52:27.198079Z",
     "iopub.status.busy": "2022-03-24T09:52:27.197724Z",
     "iopub.status.idle": "2022-03-24T09:52:27.208423Z",
     "shell.execute_reply": "2022-03-24T09:52:27.207568Z",
     "shell.execute_reply.started": "2022-03-24T09:52:27.19804Z"
    }
   },
   "outputs": [],
   "source": [
    "y_test2 = test.classes,\n",
    "y_test2"
   ]
  },
  {
   "cell_type": "code",
   "execution_count": null,
   "metadata": {
    "execution": {
     "iopub.execute_input": "2022-03-24T09:52:27.212009Z",
     "iopub.status.busy": "2022-03-24T09:52:27.211592Z",
     "iopub.status.idle": "2022-03-24T09:52:27.225114Z",
     "shell.execute_reply": "2022-03-24T09:52:27.224163Z",
     "shell.execute_reply.started": "2022-03-24T09:52:27.211979Z"
    }
   },
   "outputs": [],
   "source": [
    "c_matrix = metrics.confusion_matrix(y_test2, y_pred)\n",
    "def confusion_matrix(confusion_matrix, class_names, figsize = (10,7), fontsize=14):\n",
    "   \n",
    "    df_cm = pd.DataFrame(\n",
    "        confusion_matrix, index=class_names, columns=class_names, \n",
    "    )\n",
    "    fig = plt.figure(figsize=figsize)\n",
    "    try:\n",
    "        heatmap = sns.heatmap(df_cm, annot=True, fmt=\"d\")\n",
    "    except ValueError:\n",
    "        raise ValueError(\"Confusion matrix values must be integers.\")\n",
    "    heatmap.yaxis.set_ticklabels(heatmap.yaxis.get_ticklabels(), rotation=0, ha='right', fontsize=fontsize)\n",
    "    heatmap.xaxis.set_ticklabels(heatmap.xaxis.get_ticklabels(), rotation=45, ha='right', fontsize=fontsize)\n",
    "    plt.ylabel('True label')\n",
    "    plt.xlabel('Predicted label')\n",
    "    if cenv == 0:\n",
    "        plt.savefig(\"multi_class_cmatrix.png\", bbox_inches = 'tight')\n",
    "    if cenv == 1:\n",
    "        plt.savefig(f\"{new_dir}/multi_class_cmatrix.png\", bbox_inches = 'tight')"
   ]
  },
  {
   "cell_type": "code",
   "execution_count": null,
   "metadata": {
    "execution": {
     "iopub.execute_input": "2022-03-24T09:52:27.227308Z",
     "iopub.status.busy": "2022-03-24T09:52:27.226806Z",
     "iopub.status.idle": "2022-03-24T09:52:28.200195Z",
     "shell.execute_reply": "2022-03-24T09:52:28.199512Z",
     "shell.execute_reply.started": "2022-03-24T09:52:27.227195Z"
    }
   },
   "outputs": [],
   "source": [
    "class_names= batches.class_indices.keys()\n",
    "confusion_matrix(c_matrix, class_labels, figsize = (20,7), fontsize=14)"
   ]
  },
  {
   "cell_type": "markdown",
   "metadata": {},
   "source": [
    "# Detection Measurement\n",
    "y_predbin and y_testbin are the binary classification arrays. 0 = ransomware and 1 = benign"
   ]
  },
  {
   "cell_type": "code",
   "execution_count": null,
   "metadata": {
    "execution": {
     "iopub.execute_input": "2022-03-24T09:52:28.209093Z",
     "iopub.status.busy": "2022-03-24T09:52:28.208278Z",
     "iopub.status.idle": "2022-03-24T09:52:28.258568Z",
     "shell.execute_reply": "2022-03-24T09:52:28.257879Z",
     "shell.execute_reply.started": "2022-03-24T09:52:28.209054Z"
    }
   },
   "outputs": [],
   "source": [
    "y_predbin = [] \n",
    "y_truebin = []\n",
    "for count, value in enumerate(y_pred):\n",
    "    if y_test2[count] in range(10): # range(10) is 0 to 9\n",
    "        y_truebin.append(0)\n",
    "    else: y_truebin.append(1)\n",
    "    \n",
    "    if y_pred[count] in range(10):\n",
    "        y_predbin.append(0)\n",
    "    else: y_predbin.append(1)\n",
    "    \n",
    "    continue\n",
    "print(len(y_truebin))\n",
    "print(len(y_predbin))"
   ]
  },
  {
   "cell_type": "code",
   "execution_count": null,
   "metadata": {
    "execution": {
     "iopub.execute_input": "2022-03-24T09:52:28.262461Z",
     "iopub.status.busy": "2022-03-24T09:52:28.262279Z",
     "iopub.status.idle": "2022-03-24T09:52:33.781818Z",
     "shell.execute_reply": "2022-03-24T09:52:33.780879Z",
     "shell.execute_reply.started": "2022-03-24T09:52:28.262439Z"
    }
   },
   "outputs": [],
   "source": [
    "binary_labels = np.array([])\n",
    "for count, value in enumerate(true_classes):\n",
    "    if true_classes[count] in range(10): # range(10) is 0 to 9\n",
    "        binary_labels = np.append(binary_labels, \"Ransomware\")\n",
    "    else: binary_labels = np.append(binary_labels, \"Benign\")\n",
    "    continue\n",
    "print(binary_labels)\n",
    "rw_count = np.count_nonzero(binary_labels == \"Ransomware\")\n",
    "bn_count = np.count_nonzero(binary_labels == \"Benign\")\n",
    "print(f\"Ransomware Occurences: {rw_count}, Benign Occurences: {bn_count}\")"
   ]
  },
  {
   "cell_type": "code",
   "execution_count": null,
   "metadata": {
    "execution": {
     "iopub.execute_input": "2022-03-24T09:52:33.783597Z",
     "iopub.status.busy": "2022-03-24T09:52:33.783252Z",
     "iopub.status.idle": "2022-03-24T09:52:33.963273Z",
     "shell.execute_reply": "2022-03-24T09:52:33.962513Z",
     "shell.execute_reply.started": "2022-03-24T09:52:33.78355Z"
    }
   },
   "outputs": [],
   "source": [
    "fig = plt.figure()\n",
    "ax = fig.add_axes([0,0,1,1])\n",
    "x_lab = ['Ransomware', 'Benign']\n",
    "y_lab = [rw_count, bn_count]\n",
    "ax.bar(x_lab, y_lab)\n",
    "if cenv == 0:\n",
    "    plt.savefig(\"data_dist.png.png\", bbox_inches = 'tight')\n",
    "if cenv == 1:\n",
    "    plt.savefig(f\"{new_dir}/bin_data_dist.png\", bbox_inches = 'tight')"
   ]
  },
  {
   "cell_type": "code",
   "execution_count": null,
   "metadata": {
    "execution": {
     "iopub.execute_input": "2022-03-24T09:52:33.964743Z",
     "iopub.status.busy": "2022-03-24T09:52:33.964447Z",
     "iopub.status.idle": "2022-03-24T09:52:33.981893Z",
     "shell.execute_reply": "2022-03-24T09:52:33.980949Z",
     "shell.execute_reply.started": "2022-03-24T09:52:33.964708Z"
    }
   },
   "outputs": [],
   "source": [
    "c_matrix_bin = metrics.confusion_matrix(y_truebin, y_predbin)\n",
    "def confusion_matrix_bin(confusion_matrix, class_names_bin, figsize = (5,2), fontsize=7):\n",
    "   \n",
    "    df_cm = pd.DataFrame(\n",
    "        confusion_matrix, index=class_names_bin, columns=class_names_bin, \n",
    "    )\n",
    "    fig = plt.figure(figsize=figsize)\n",
    "    try:\n",
    "        heatmap = sns.heatmap(df_cm, annot=True, fmt=\"d\")\n",
    "    except ValueError:\n",
    "        raise ValueError(\"Confusion matrix values must be integers.\")\n",
    "    heatmap.yaxis.set_ticklabels(heatmap.yaxis.get_ticklabels(), rotation=0, ha='right', fontsize=fontsize)\n",
    "    heatmap.xaxis.set_ticklabels(heatmap.xaxis.get_ticklabels(), rotation=45, ha='right', fontsize=fontsize)\n",
    "    plt.ylabel('True label')\n",
    "    plt.xlabel('Predicted label')\n",
    "    if cenv == 0:\n",
    "        plt.savefig(\"bin_class_cmatrix.png\", bbox_inches = 'tight')\n",
    "    if cenv == 1:\n",
    "        plt.savefig(f\"{new_dir}/bin_class_cmatrix.png\", bbox_inches = 'tight')"
   ]
  },
  {
   "cell_type": "code",
   "execution_count": null,
   "metadata": {
    "execution": {
     "iopub.execute_input": "2022-03-24T09:52:33.984323Z",
     "iopub.status.busy": "2022-03-24T09:52:33.983651Z",
     "iopub.status.idle": "2022-03-24T09:52:34.222239Z",
     "shell.execute_reply": "2022-03-24T09:52:34.221547Z",
     "shell.execute_reply.started": "2022-03-24T09:52:33.984284Z"
    }
   },
   "outputs": [],
   "source": [
    "class_names_bin= (\"ransomware\", \"benign\")\n",
    "confusion_matrix_bin(c_matrix_bin, class_names_bin, figsize = (5,2), fontsize=10)"
   ]
  },
  {
   "cell_type": "markdown",
   "metadata": {},
   "source": [
    "**True Positive Rate**"
   ]
  },
  {
   "cell_type": "code",
   "execution_count": 20,
   "metadata": {
    "execution": {
     "iopub.execute_input": "2022-03-24T09:52:34.224891Z",
     "iopub.status.busy": "2022-03-24T09:52:34.224406Z",
     "iopub.status.idle": "2022-03-24T09:52:34.229538Z",
     "shell.execute_reply": "2022-03-24T09:52:34.228246Z",
     "shell.execute_reply.started": "2022-03-24T09:52:34.22485Z"
    }
   },
   "outputs": [
    {
     "ename": "NameError",
     "evalue": "name 'c_matrix_bin' is not defined",
     "output_type": "error",
     "traceback": [
      "\u001b[1;31m---------------------------------------------------------------------------\u001b[0m",
      "\u001b[1;31mNameError\u001b[0m                                 Traceback (most recent call last)",
      "\u001b[1;32m~\\AppData\\Local\\Temp/ipykernel_7948/3783958379.py\u001b[0m in \u001b[0;36m<module>\u001b[1;34m\u001b[0m\n\u001b[1;32m----> 1\u001b[1;33m \u001b[0mTPR\u001b[0m \u001b[1;33m=\u001b[0m \u001b[0mc_matrix_bin\u001b[0m\u001b[1;33m[\u001b[0m\u001b[1;36m0\u001b[0m\u001b[1;33m,\u001b[0m\u001b[1;36m0\u001b[0m\u001b[1;33m]\u001b[0m\u001b[1;33m/\u001b[0m\u001b[1;33m(\u001b[0m\u001b[0mc_matrix_bin\u001b[0m\u001b[1;33m[\u001b[0m\u001b[1;36m0\u001b[0m\u001b[1;33m,\u001b[0m\u001b[1;36m0\u001b[0m\u001b[1;33m]\u001b[0m \u001b[1;33m+\u001b[0m \u001b[0mc_matrix_bin\u001b[0m\u001b[1;33m[\u001b[0m\u001b[1;36m0\u001b[0m\u001b[1;33m,\u001b[0m\u001b[1;36m1\u001b[0m\u001b[1;33m]\u001b[0m\u001b[1;33m)\u001b[0m \u001b[1;31m#True Positive Rate\u001b[0m\u001b[1;33m\u001b[0m\u001b[1;33m\u001b[0m\u001b[0m\n\u001b[0m",
      "\u001b[1;31mNameError\u001b[0m: name 'c_matrix_bin' is not defined"
     ]
    }
   ],
   "source": [
    "TPR = c_matrix_bin[0,0]/(c_matrix_bin[0,0] + c_matrix_bin[0,1]) #True Positive Rate"
   ]
  },
  {
   "cell_type": "markdown",
   "metadata": {},
   "source": [
    "**Accuracy**"
   ]
  },
  {
   "cell_type": "code",
   "execution_count": null,
   "metadata": {
    "execution": {
     "iopub.execute_input": "2022-03-24T09:52:34.231429Z",
     "iopub.status.busy": "2022-03-24T09:52:34.231053Z",
     "iopub.status.idle": "2022-03-24T09:52:34.245717Z",
     "shell.execute_reply": "2022-03-24T09:52:34.24496Z",
     "shell.execute_reply.started": "2022-03-24T09:52:34.231387Z"
    }
   },
   "outputs": [],
   "source": [
    "ACC = accuracy_score(y_truebin, y_predbin) # Accuracy"
   ]
  },
  {
   "cell_type": "markdown",
   "metadata": {},
   "source": [
    "**F1 Score**"
   ]
  },
  {
   "cell_type": "code",
   "execution_count": null,
   "metadata": {
    "execution": {
     "iopub.execute_input": "2022-03-24T09:52:34.249738Z",
     "iopub.status.busy": "2022-03-24T09:52:34.249198Z",
     "iopub.status.idle": "2022-03-24T09:52:34.271584Z",
     "shell.execute_reply": "2022-03-24T09:52:34.270951Z",
     "shell.execute_reply.started": "2022-03-24T09:52:34.249706Z"
    }
   },
   "outputs": [],
   "source": [
    "F1 = f1_score(y_truebin, y_predbin, labels=0) # F1 Score"
   ]
  },
  {
   "cell_type": "markdown",
   "metadata": {},
   "source": [
    "**Matthews Correlation Coefficient**"
   ]
  },
  {
   "cell_type": "code",
   "execution_count": null,
   "metadata": {
    "execution": {
     "iopub.execute_input": "2022-03-24T09:52:34.273247Z",
     "iopub.status.busy": "2022-03-24T09:52:34.272611Z",
     "iopub.status.idle": "2022-03-24T09:52:34.288216Z",
     "shell.execute_reply": "2022-03-24T09:52:34.287574Z",
     "shell.execute_reply.started": "2022-03-24T09:52:34.273204Z"
    }
   },
   "outputs": [],
   "source": [
    "MCC = matthews_corrcoef(y_truebin, y_predbin) # Matthews Correlation Coefficient"
   ]
  },
  {
   "cell_type": "markdown",
   "metadata": {},
   "source": [
    "**Show Performance of CNN**"
   ]
  },
  {
   "cell_type": "code",
   "execution_count": null,
   "metadata": {
    "execution": {
     "iopub.execute_input": "2022-03-24T09:52:34.289906Z",
     "iopub.status.busy": "2022-03-24T09:52:34.289223Z",
     "iopub.status.idle": "2022-03-24T09:52:34.298043Z",
     "shell.execute_reply": "2022-03-24T09:52:34.297114Z",
     "shell.execute_reply.started": "2022-03-24T09:52:34.28987Z"
    }
   },
   "outputs": [],
   "source": [
    "t = PrettyTable(['Metric', 'Performance'])\n",
    "t.add_row(['True Positive Rate', round(TPR,4)])\n",
    "t.add_row(['Accuracy', round(ACC,4)])\n",
    "t.add_row(['F1 Score', round(F1,4)])\n",
    "t.add_row(['Matthews Correlation Coefficient', round(MCC,4)])\n",
    "t.header = True\n",
    "t.align = \"l\"\n",
    "t.title = \"Performance of CNN\"\n",
    "print(t)"
   ]
  },
  {
   "cell_type": "code",
   "execution_count": null,
   "metadata": {
    "execution": {
     "iopub.execute_input": "2022-03-24T09:52:34.29994Z",
     "iopub.status.busy": "2022-03-24T09:52:34.299545Z",
     "iopub.status.idle": "2022-03-24T09:52:34.307862Z",
     "shell.execute_reply": "2022-03-24T09:52:34.30706Z",
     "shell.execute_reply.started": "2022-03-24T09:52:34.299903Z"
    }
   },
   "outputs": [],
   "source": [
    "# Saving PrettyTable\n",
    "table = t.get_string()\n",
    "\n",
    "if cenv == 0:\n",
    "    with open('bin_performance_table.txt', 'w') as f:\n",
    "        f.write(table)\n",
    "if cenv == 1:\n",
    "    with open(f'{new_dir}/bin_performance_table.txt', 'w') as f:\n",
    "        f.write(table)\n"
   ]
  },
  {
   "cell_type": "code",
   "execution_count": null,
   "metadata": {},
   "outputs": [],
   "source": []
  }
 ],
 "metadata": {
  "kernelspec": {
   "display_name": "Python 3 (ipykernel)",
   "language": "python",
   "name": "python3"
  },
  "language_info": {
   "codemirror_mode": {
    "name": "ipython",
    "version": 3
   },
   "file_extension": ".py",
   "mimetype": "text/x-python",
   "name": "python",
   "nbconvert_exporter": "python",
   "pygments_lexer": "ipython3",
   "version": "3.8.5"
  }
 },
 "nbformat": 4,
 "nbformat_minor": 4
}
