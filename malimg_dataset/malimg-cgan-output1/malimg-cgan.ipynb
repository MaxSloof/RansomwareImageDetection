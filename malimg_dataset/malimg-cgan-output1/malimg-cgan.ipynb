{
 "cells": [
  {
   "cell_type": "markdown",
   "id": "b2d4cfb9",
   "metadata": {
    "papermill": {
     "duration": 0.039629,
     "end_time": "2022-04-10T19:09:38.693894",
     "exception": false,
     "start_time": "2022-04-10T19:09:38.654265",
     "status": "completed"
    },
    "tags": []
   },
   "source": [
    "# Conditional GAN\n",
    "\n",
    "Used to generate new training data for the ransomware families to overcome the skewed distribution of training data towards the benign samples. \n",
    "\n",
    "Dim Size 128"
   ]
  },
  {
   "cell_type": "code",
   "execution_count": 8,
   "id": "3a10ed7f",
   "metadata": {
    "execution": {
     "iopub.execute_input": "2022-04-10T19:09:38.765616Z",
     "iopub.status.busy": "2022-04-10T19:09:38.763422Z",
     "iopub.status.idle": "2022-04-10T19:09:44.192544Z",
     "shell.execute_reply": "2022-04-10T19:09:44.191668Z"
    },
    "papermill": {
     "duration": 5.461966,
     "end_time": "2022-04-10T19:09:44.192736",
     "exception": false,
     "start_time": "2022-04-10T19:09:38.730770",
     "status": "completed"
    },
    "tags": []
   },
   "outputs": [],
   "source": [
    "# Packages\n",
    "from tensorflow import keras\n",
    "from tensorflow.keras import layers\n",
    "from keras.preprocessing.image import ImageDataGenerator\n",
    "from tensorflow.keras.utils import to_categorical\n",
    "\n",
    "import matplotlib.pyplot as plt \n",
    "import tensorflow as tf\n",
    "import numpy as np\n",
    "import os\n",
    "from PIL import Image"
   ]
  },
  {
   "cell_type": "markdown",
   "id": "0c3aca3a",
   "metadata": {
    "papermill": {
     "duration": 0.023758,
     "end_time": "2022-04-10T19:09:44.241442",
     "exception": false,
     "start_time": "2022-04-10T19:09:44.217684",
     "status": "completed"
    },
    "tags": []
   },
   "source": [
    "**Change parameters**"
   ]
  },
  {
   "cell_type": "markdown",
   "id": "836dbf25",
   "metadata": {
    "papermill": {
     "duration": 0.023965,
     "end_time": "2022-04-10T19:09:44.289545",
     "exception": false,
     "start_time": "2022-04-10T19:09:44.265580",
     "status": "completed"
    },
    "tags": []
   },
   "source": [
    "-----"
   ]
  },
  {
   "cell_type": "code",
   "execution_count": 9,
   "id": "b852e6bb",
   "metadata": {
    "execution": {
     "iopub.execute_input": "2022-04-10T19:09:44.343827Z",
     "iopub.status.busy": "2022-04-10T19:09:44.342897Z",
     "iopub.status.idle": "2022-04-10T19:09:44.344746Z",
     "shell.execute_reply": "2022-04-10T19:09:44.345218Z"
    },
    "papermill": {
     "duration": 0.031518,
     "end_time": "2022-04-10T19:09:44.345349",
     "exception": false,
     "start_time": "2022-04-10T19:09:44.313831",
     "status": "completed"
    },
    "tags": []
   },
   "outputs": [],
   "source": [
    "# Batch size\n",
    "batch_size = 64\n",
    "\n",
    "# Color mode\n",
    "ch = 'grayscale'\n",
    "\n",
    "# Image size\n",
    "iw, ih = 64,64\n",
    "im_size = (iw,ih)\n",
    "\n",
    "# Latent dim size\n",
    "latent_dim = 128\n",
    "\n",
    "# Number of Epochs\n",
    "epoch_t = 500\n",
    "\n",
    "# Computation environment: Kaggle (0) or Local (1)\n",
    "cenv = 1\n",
    "\n",
    "# If weights are used: Weight factor\n",
    "wf = 0.5"
   ]
  },
  {
   "cell_type": "markdown",
   "id": "3706e558",
   "metadata": {
    "papermill": {
     "duration": 0.02472,
     "end_time": "2022-04-10T19:09:44.394219",
     "exception": false,
     "start_time": "2022-04-10T19:09:44.369499",
     "status": "completed"
    },
    "tags": []
   },
   "source": [
    "-----------"
   ]
  },
  {
   "cell_type": "markdown",
   "id": "1932c075",
   "metadata": {
    "papermill": {
     "duration": 0.025554,
     "end_time": "2022-04-10T19:09:44.444044",
     "exception": false,
     "start_time": "2022-04-10T19:09:44.418490",
     "status": "completed"
    },
    "tags": []
   },
   "source": [
    "Automatic notebook preparation"
   ]
  },
  {
   "cell_type": "code",
   "execution_count": 10,
   "id": "94dd0dbc",
   "metadata": {
    "execution": {
     "iopub.execute_input": "2022-04-10T19:09:44.494878Z",
     "iopub.status.busy": "2022-04-10T19:09:44.494071Z",
     "iopub.status.idle": "2022-04-10T19:09:44.498462Z",
     "shell.execute_reply": "2022-04-10T19:09:44.498044Z"
    },
    "papermill": {
     "duration": 0.030532,
     "end_time": "2022-04-10T19:09:44.498568",
     "exception": false,
     "start_time": "2022-04-10T19:09:44.468036",
     "status": "completed"
    },
    "tags": []
   },
   "outputs": [],
   "source": [
    "if(ch == 'rgb'):\n",
    "    chnum = 3\n",
    "elif(ch == 'grayscale'):\n",
    "    chnum = 1"
   ]
  },
  {
   "cell_type": "code",
   "execution_count": 11,
   "id": "f43974e1",
   "metadata": {
    "execution": {
     "iopub.execute_input": "2022-04-10T19:09:44.555324Z",
     "iopub.status.busy": "2022-04-10T19:09:44.554603Z",
     "iopub.status.idle": "2022-04-10T19:09:44.556521Z",
     "shell.execute_reply": "2022-04-10T19:09:44.556914Z"
    },
    "papermill": {
     "duration": 0.032849,
     "end_time": "2022-04-10T19:09:44.557045",
     "exception": false,
     "start_time": "2022-04-10T19:09:44.524196",
     "status": "completed"
    },
    "tags": []
   },
   "outputs": [
    {
     "name": "stdout",
     "output_type": "stream",
     "text": [
      "16 matches(es) found\n",
      "--------------\n",
      "New folder name: cgan-local-v022\n",
      "--------------\n"
     ]
    }
   ],
   "source": [
    "if cenv == 1:\n",
    "    file_exists = []\n",
    "    vnum = 1\n",
    "    dir = \"C:/Users/Max/Documents/GitHub/malimg_dataset\"\n",
    "    for files in os.listdir(dir):\n",
    "        if \"cgan\" in files:\n",
    "            try:\n",
    "                vnum = max(vnum, int(files[-3:]))\n",
    "            except: \n",
    "                continue\n",
    "            new_vnum = vnum + 1\n",
    "            file_exists.append(True)\n",
    "        else: \n",
    "            file_exists.append(False)\n",
    "    # If this is the first notebook you want to save, a new folder will be created with version #001\n",
    "    if sum(file_exists) == 0:\n",
    "        new_vnum = 1\n",
    "        print(\"No matches found\")\n",
    "\n",
    "    else: \n",
    "        print(f\"{sum(file_exists)} matches(es) found\")\n",
    "        print(\"--------------\")\n",
    "\n",
    "    # Print new folder name\n",
    "    print(f\"New folder name: cgan-local-v{new_vnum:03}\")\n",
    "    print(\"--------------\")\n",
    "    \n",
    "    # Create new folder with the name of the notebook and the version number\n",
    "    new_dir = f\"C://Users/Max/Documents/GitHub/malimg_dataset/cgan-local-v{new_vnum:03}\"\n",
    "    os.makedirs(new_dir)"
   ]
  },
  {
   "cell_type": "markdown",
   "id": "6f09e5ea",
   "metadata": {
    "papermill": {
     "duration": 0.024303,
     "end_time": "2022-04-10T19:09:44.605559",
     "exception": false,
     "start_time": "2022-04-10T19:09:44.581256",
     "status": "completed"
    },
    "tags": []
   },
   "source": [
    "**Data preprocessing**"
   ]
  },
  {
   "cell_type": "code",
   "execution_count": 54,
   "id": "125ed84e",
   "metadata": {
    "execution": {
     "iopub.execute_input": "2022-04-10T19:09:44.658720Z",
     "iopub.status.busy": "2022-04-10T19:09:44.657968Z",
     "iopub.status.idle": "2022-04-10T19:09:44.659883Z",
     "shell.execute_reply": "2022-04-10T19:09:44.660268Z"
    },
    "papermill": {
     "duration": 0.030577,
     "end_time": "2022-04-10T19:09:44.660385",
     "exception": false,
     "start_time": "2022-04-10T19:09:44.629808",
     "status": "completed"
    },
    "tags": []
   },
   "outputs": [],
   "source": [
    "if cenv == 0:\n",
    "    path_root = \"/kaggle/input/malimgdataset\"\n",
    "    path_save_imgs = \"/kaggle/working/gen_images\"\n",
    "if cenv == 1:\n",
    "    path_root = \"C:/Users/Max/Documents/image_data/malimg_paper_dataset_imgs\"\n",
    "    path_save_imgs = f\"C:/Users/Max/Documents/image_data/malimg-cgan-local-v{new_vnum:03}\""
   ]
  },
  {
   "cell_type": "code",
   "execution_count": 55,
   "id": "c01719e3",
   "metadata": {
    "execution": {
     "iopub.execute_input": "2022-04-10T19:09:44.712119Z",
     "iopub.status.busy": "2022-04-10T19:09:44.711332Z",
     "iopub.status.idle": "2022-04-10T19:09:44.715532Z",
     "shell.execute_reply": "2022-04-10T19:09:44.715112Z"
    },
    "papermill": {
     "duration": 0.030957,
     "end_time": "2022-04-10T19:09:44.715635",
     "exception": false,
     "start_time": "2022-04-10T19:09:44.684678",
     "status": "completed"
    },
    "tags": []
   },
   "outputs": [],
   "source": [
    "datagen = ImageDataGenerator(\n",
    "    rescale = 1/255)"
   ]
  },
  {
   "cell_type": "code",
   "execution_count": 56,
   "id": "1b69dd9e",
   "metadata": {
    "execution": {
     "iopub.execute_input": "2022-04-10T19:09:44.769677Z",
     "iopub.status.busy": "2022-04-10T19:09:44.769173Z",
     "iopub.status.idle": "2022-04-10T19:10:50.352208Z",
     "shell.execute_reply": "2022-04-10T19:10:50.351655Z"
    },
    "papermill": {
     "duration": 65.61195,
     "end_time": "2022-04-10T19:10:50.352355",
     "exception": false,
     "start_time": "2022-04-10T19:09:44.740405",
     "status": "completed"
    },
    "tags": []
   },
   "outputs": [
    {
     "name": "stdout",
     "output_type": "stream",
     "text": [
      "Found 9339 images belonging to 25 classes.\n"
     ]
    }
   ],
   "source": [
    "prelim_dataset = datagen.flow_from_directory(\n",
    "    directory = path_root,\n",
    "    color_mode = ch,\n",
    "    target_size = im_size,\n",
    "    interpolation = 'bicubic',\n",
    "    batch_size = 40000,\n",
    "    shuffle=False\n",
    ")\n",
    "imgs, labels = next(prelim_dataset)"
   ]
  },
  {
   "cell_type": "code",
   "execution_count": 57,
   "id": "d1ab6d79",
   "metadata": {
    "execution": {
     "iopub.execute_input": "2022-04-10T19:10:50.414479Z",
     "iopub.status.busy": "2022-04-10T19:10:50.413707Z",
     "iopub.status.idle": "2022-04-10T19:10:50.615240Z",
     "shell.execute_reply": "2022-04-10T19:10:50.615965Z"
    },
    "papermill": {
     "duration": 0.236708,
     "end_time": "2022-04-10T19:10:50.616150",
     "exception": false,
     "start_time": "2022-04-10T19:10:50.379442",
     "status": "completed"
    },
    "tags": []
   },
   "outputs": [
    {
     "name": "stdout",
     "output_type": "stream",
     "text": [
      "Ransomware family:  Lolyda.AT\n"
     ]
    },
    {
     "data": {
      "image/png": "[encoded data removed]",
      "text/plain": [
       "<Figure size 432x288 with 1 Axes>"
      ]
     },
     "metadata": {
      "needs_background": "light"
     },
     "output_type": "display_data"
    }
   ],
   "source": [
    "z = 7099+10\n",
    "plt.imshow(np.array(imgs[z]*255).astype(np.uint8), cmap=\"gray\")\n",
    "print(\"Ransomware family: \",list(prelim_dataset.class_indices)[np.argmax(labels[z])])"
   ]
  },
  {
   "cell_type": "code",
   "execution_count": 58,
   "id": "0c785610",
   "metadata": {
    "execution": {
     "iopub.execute_input": "2022-04-10T19:10:50.677105Z",
     "iopub.status.busy": "2022-04-10T19:10:50.676380Z",
     "iopub.status.idle": "2022-04-10T19:10:50.678333Z",
     "shell.execute_reply": "2022-04-10T19:10:50.678855Z"
    },
    "papermill": {
     "duration": 0.034824,
     "end_time": "2022-04-10T19:10:50.679027",
     "exception": false,
     "start_time": "2022-04-10T19:10:50.644203",
     "status": "completed"
    },
    "tags": []
   },
   "outputs": [],
   "source": [
    "num_samples = prelim_dataset.samples\n",
    "num_classes = max(prelim_dataset.labels) + 1"
   ]
  },
  {
   "cell_type": "code",
   "execution_count": 59,
   "id": "7682277d",
   "metadata": {
    "execution": {
     "iopub.execute_input": "2022-04-10T19:10:50.740378Z",
     "iopub.status.busy": "2022-04-10T19:10:50.738989Z",
     "iopub.status.idle": "2022-04-10T19:10:50.742561Z",
     "shell.execute_reply": "2022-04-10T19:10:50.742141Z"
    },
    "papermill": {
     "duration": 0.036638,
     "end_time": "2022-04-10T19:10:50.742660",
     "exception": false,
     "start_time": "2022-04-10T19:10:50.706022",
     "status": "completed"
    },
    "scrolled": true,
    "tags": []
   },
   "outputs": [
    {
     "data": {
      "text/plain": [
       "{'Adialer.C': 0,\n",
       " 'Agent.FYI': 1,\n",
       " 'Allaple.A': 2,\n",
       " 'Allaple.L': 3,\n",
       " 'Alueron.gen!J': 4,\n",
       " 'Autorun.K': 5,\n",
       " 'C2LOP.P': 6,\n",
       " 'C2LOP.gen!g': 7,\n",
       " 'Dialplatform.B': 8,\n",
       " 'Dontovo.A': 9,\n",
       " 'Fakerean': 10,\n",
       " 'Instantaccess': 11,\n",
       " 'Lolyda.AA1': 12,\n",
       " 'Lolyda.AA2': 13,\n",
       " 'Lolyda.AA3': 14,\n",
       " 'Lolyda.AT': 15,\n",
       " 'Malex.gen!J': 16,\n",
       " 'Obfuscator.AD': 17,\n",
       " 'Rbot!gen': 18,\n",
       " 'Skintrim.N': 19,\n",
       " 'Swizzor.gen!E': 20,\n",
       " 'Swizzor.gen!I': 21,\n",
       " 'VB.AT': 22,\n",
       " 'Wintrim.BX': 23,\n",
       " 'Yuner.A': 24}"
      ]
     },
     "execution_count": 59,
     "metadata": {},
     "output_type": "execute_result"
    }
   ],
   "source": [
    "prelim_dataset.class_indices"
   ]
  },
  {
   "cell_type": "markdown",
   "id": "f27fe7b9",
   "metadata": {
    "papermill": {
     "duration": 0.027163,
     "end_time": "2022-04-10T19:10:50.797753",
     "exception": false,
     "start_time": "2022-04-10T19:10:50.770590",
     "status": "completed"
    },
    "tags": []
   },
   "source": [
    "Create tf.data.Dataset"
   ]
  },
  {
   "cell_type": "code",
   "execution_count": 60,
   "id": "2343dc1c",
   "metadata": {
    "execution": {
     "iopub.execute_input": "2022-04-10T19:10:53.292572Z",
     "iopub.status.busy": "2022-04-10T19:10:53.291483Z",
     "iopub.status.idle": "2022-04-10T19:10:53.416993Z",
     "shell.execute_reply": "2022-04-10T19:10:53.417380Z"
    },
    "papermill": {
     "duration": 2.592254,
     "end_time": "2022-04-10T19:10:53.417540",
     "exception": false,
     "start_time": "2022-04-10T19:10:50.825286",
     "status": "completed"
    },
    "tags": []
   },
   "outputs": [],
   "source": [
    "dataset = tf.data.Dataset.from_tensor_slices((imgs, labels))\n",
    "dataset = dataset.shuffle(buffer_size=1024).batch(batch_size)"
   ]
  },
  {
   "cell_type": "markdown",
   "id": "73c314e4",
   "metadata": {
    "papermill": {
     "duration": 0.028269,
     "end_time": "2022-04-10T19:10:53.474223",
     "exception": false,
     "start_time": "2022-04-10T19:10:53.445954",
     "status": "completed"
    },
    "tags": []
   },
   "source": [
    "Calculate number of input channel for Gen and Disc"
   ]
  },
  {
   "cell_type": "code",
   "execution_count": 61,
   "id": "7be0e615",
   "metadata": {
    "execution": {
     "iopub.execute_input": "2022-04-10T19:10:53.535990Z",
     "iopub.status.busy": "2022-04-10T19:10:53.533302Z",
     "iopub.status.idle": "2022-04-10T19:10:53.538656Z",
     "shell.execute_reply": "2022-04-10T19:10:53.539168Z"
    },
    "papermill": {
     "duration": 0.036685,
     "end_time": "2022-04-10T19:10:53.539314",
     "exception": false,
     "start_time": "2022-04-10T19:10:53.502629",
     "status": "completed"
    },
    "tags": []
   },
   "outputs": [
    {
     "name": "stdout",
     "output_type": "stream",
     "text": [
      "153 26\n"
     ]
    }
   ],
   "source": [
    "generator_in_channels = latent_dim + num_classes\n",
    "discriminator_in_channels = chnum + num_classes\n",
    "print(generator_in_channels, discriminator_in_channels)"
   ]
  },
  {
   "cell_type": "markdown",
   "id": "03dd22eb",
   "metadata": {
    "papermill": {
     "duration": 0.02806,
     "end_time": "2022-04-10T19:10:53.595699",
     "exception": false,
     "start_time": "2022-04-10T19:10:53.567639",
     "status": "completed"
    },
    "tags": []
   },
   "source": [
    "# Creating discriminator and generator"
   ]
  },
  {
   "cell_type": "code",
   "execution_count": 62,
   "id": "8488c188",
   "metadata": {
    "execution": {
     "iopub.execute_input": "2022-04-10T19:10:53.658493Z",
     "iopub.status.busy": "2022-04-10T19:10:53.657908Z",
     "iopub.status.idle": "2022-04-10T19:10:53.744606Z",
     "shell.execute_reply": "2022-04-10T19:10:53.743698Z"
    },
    "papermill": {
     "duration": 0.120491,
     "end_time": "2022-04-10T19:10:53.744718",
     "exception": false,
     "start_time": "2022-04-10T19:10:53.624227",
     "status": "completed"
    },
    "tags": []
   },
   "outputs": [],
   "source": [
    "# Create the discriminator.\n",
    "discriminator = keras.Sequential(\n",
    "    [\n",
    "        keras.layers.InputLayer((iw, ih, discriminator_in_channels)),\n",
    "        layers.Conv2D(64, (3, 3), strides=(2, 2), padding=\"same\"),\n",
    "        layers.LeakyReLU(alpha=0.2),\n",
    "        layers.Conv2D(128, (3, 3), strides=(2, 2), padding=\"same\"),\n",
    "        layers.LeakyReLU(alpha=0.2),\n",
    "        layers.Conv2D(128, (3, 3), strides=(2, 2), padding=\"same\"),\n",
    "        layers.LeakyReLU(alpha=0.2),\n",
    "        layers.GlobalMaxPooling2D(),\n",
    "        layers.Dense(1),\n",
    "    ],\n",
    "    name=\"discriminator\",\n",
    ")\n"
   ]
  },
  {
   "cell_type": "code",
   "execution_count": 63,
   "id": "acf08372",
   "metadata": {
    "execution": {
     "iopub.execute_input": "2022-04-10T19:10:53.808467Z",
     "iopub.status.busy": "2022-04-10T19:10:53.807696Z",
     "iopub.status.idle": "2022-04-10T19:10:53.877046Z",
     "shell.execute_reply": "2022-04-10T19:10:53.876588Z"
    },
    "papermill": {
     "duration": 0.103948,
     "end_time": "2022-04-10T19:10:53.877159",
     "exception": false,
     "start_time": "2022-04-10T19:10:53.773211",
     "status": "completed"
    },
    "tags": []
   },
   "outputs": [],
   "source": [
    "# Create the generator.\n",
    "generator = keras.Sequential(\n",
    "    [\n",
    "        keras.layers.InputLayer((generator_in_channels,)),\n",
    "        # We want to generate 128 + num_classes coefficients to reshape into a\n",
    "        # 7x7x(128 + num_classes) map.\n",
    "        layers.Dense(8 * 8 * generator_in_channels),\n",
    "        layers.LeakyReLU(alpha=0.2),\n",
    "        layers.Reshape((8, 8, generator_in_channels)),\n",
    "        layers.Conv2DTranspose(128, (4, 4), strides=(2, 2), padding=\"same\"),\n",
    "        layers.LeakyReLU(alpha=0.2),\n",
    "        layers.Conv2DTranspose(128, (4, 4), strides=(2, 2), padding=\"same\"),\n",
    "        layers.LeakyReLU(alpha=0.2),\n",
    "        layers.Conv2DTranspose(128, (4, 4), strides=(2, 2), padding=\"same\"),\n",
    "        layers.LeakyReLU(alpha=0.2),\n",
    "        layers.Conv2D(1, (7, 7), padding=\"same\", activation=\"sigmoid\"),\n",
    "    ],\n",
    "    name=\"generator\",\n",
    ")"
   ]
  },
  {
   "cell_type": "code",
   "execution_count": 64,
   "id": "3254fc6a",
   "metadata": {
    "execution": {
     "iopub.execute_input": "2022-04-10T19:10:53.946034Z",
     "iopub.status.busy": "2022-04-10T19:10:53.944346Z",
     "iopub.status.idle": "2022-04-10T19:10:53.948833Z",
     "shell.execute_reply": "2022-04-10T19:10:53.948245Z"
    },
    "papermill": {
     "duration": 0.04165,
     "end_time": "2022-04-10T19:10:53.948958",
     "exception": false,
     "start_time": "2022-04-10T19:10:53.907308",
     "status": "completed"
    },
    "tags": []
   },
   "outputs": [
    {
     "name": "stdout",
     "output_type": "stream",
     "text": [
      "Model: \"discriminator\"\n",
      "_________________________________________________________________\n",
      "Layer (type)                 Output Shape              Param #   \n",
      "=================================================================\n",
      "conv2d_12 (Conv2D)           (None, 32, 32, 64)        15040     \n",
      "_________________________________________________________________\n",
      "leaky_re_lu_21 (LeakyReLU)   (None, 32, 32, 64)        0         \n",
      "_________________________________________________________________\n",
      "conv2d_13 (Conv2D)           (None, 16, 16, 128)       73856     \n",
      "_________________________________________________________________\n",
      "leaky_re_lu_22 (LeakyReLU)   (None, 16, 16, 128)       0         \n",
      "_________________________________________________________________\n",
      "conv2d_14 (Conv2D)           (None, 8, 8, 128)         147584    \n",
      "_________________________________________________________________\n",
      "leaky_re_lu_23 (LeakyReLU)   (None, 8, 8, 128)         0         \n",
      "_________________________________________________________________\n",
      "global_max_pooling2d_3 (Glob (None, 128)               0         \n",
      "_________________________________________________________________\n",
      "dense_6 (Dense)              (None, 1)                 129       \n",
      "=================================================================\n",
      "Total params: 236,609\n",
      "Trainable params: 236,609\n",
      "Non-trainable params: 0\n",
      "_________________________________________________________________\n"
     ]
    }
   ],
   "source": [
    "discriminator.summary()"
   ]
  },
  {
   "cell_type": "code",
   "execution_count": 65,
   "id": "111ad4e7",
   "metadata": {
    "execution": {
     "iopub.execute_input": "2022-04-10T19:10:54.012841Z",
     "iopub.status.busy": "2022-04-10T19:10:54.012343Z",
     "iopub.status.idle": "2022-04-10T19:10:54.020508Z",
     "shell.execute_reply": "2022-04-10T19:10:54.021585Z"
    },
    "papermill": {
     "duration": 0.043091,
     "end_time": "2022-04-10T19:10:54.021742",
     "exception": false,
     "start_time": "2022-04-10T19:10:53.978651",
     "status": "completed"
    },
    "tags": []
   },
   "outputs": [
    {
     "name": "stdout",
     "output_type": "stream",
     "text": [
      "Model: \"generator\"\n",
      "_________________________________________________________________\n",
      "Layer (type)                 Output Shape              Param #   \n",
      "=================================================================\n",
      "dense_7 (Dense)              (None, 9792)              1507968   \n",
      "_________________________________________________________________\n",
      "leaky_re_lu_24 (LeakyReLU)   (None, 9792)              0         \n",
      "_________________________________________________________________\n",
      "reshape_3 (Reshape)          (None, 8, 8, 153)         0         \n",
      "_________________________________________________________________\n",
      "conv2d_transpose_9 (Conv2DTr (None, 16, 16, 128)       313472    \n",
      "_________________________________________________________________\n",
      "leaky_re_lu_25 (LeakyReLU)   (None, 16, 16, 128)       0         \n",
      "_________________________________________________________________\n",
      "conv2d_transpose_10 (Conv2DT (None, 32, 32, 128)       262272    \n",
      "_________________________________________________________________\n",
      "leaky_re_lu_26 (LeakyReLU)   (None, 32, 32, 128)       0         \n",
      "_________________________________________________________________\n",
      "conv2d_transpose_11 (Conv2DT (None, 64, 64, 128)       262272    \n",
      "_________________________________________________________________\n",
      "leaky_re_lu_27 (LeakyReLU)   (None, 64, 64, 128)       0         \n",
      "_________________________________________________________________\n",
      "conv2d_15 (Conv2D)           (None, 64, 64, 1)         6273      \n",
      "=================================================================\n",
      "Total params: 2,352,257\n",
      "Trainable params: 2,352,257\n",
      "Non-trainable params: 0\n",
      "_________________________________________________________________\n"
     ]
    }
   ],
   "source": [
    "generator.summary()"
   ]
  },
  {
   "cell_type": "markdown",
   "id": "1c58668b",
   "metadata": {
    "papermill": {
     "duration": 0.029558,
     "end_time": "2022-04-10T19:10:54.081369",
     "exception": false,
     "start_time": "2022-04-10T19:10:54.051811",
     "status": "completed"
    },
    "tags": []
   },
   "source": [
    "**Create Conditional GAN**"
   ]
  },
  {
   "cell_type": "code",
   "execution_count": 66,
   "id": "2dcf46ea",
   "metadata": {
    "execution": {
     "iopub.execute_input": "2022-04-10T19:10:54.149522Z",
     "iopub.status.busy": "2022-04-10T19:10:54.148714Z",
     "iopub.status.idle": "2022-04-10T19:10:54.161407Z",
     "shell.execute_reply": "2022-04-10T19:10:54.161840Z"
    },
    "papermill": {
     "duration": 0.050626,
     "end_time": "2022-04-10T19:10:54.161978",
     "exception": false,
     "start_time": "2022-04-10T19:10:54.111352",
     "status": "completed"
    },
    "tags": []
   },
   "outputs": [],
   "source": [
    "class ConditionalGAN(keras.Model):\n",
    "    def __init__(self, discriminator, generator, latent_dim):\n",
    "        super(ConditionalGAN, self).__init__()\n",
    "        self.discriminator = discriminator\n",
    "        self.generator = generator\n",
    "        self.latent_dim = latent_dim\n",
    "        self.gen_loss_tracker = keras.metrics.Mean(name=\"generator_loss\")\n",
    "        self.disc_loss_tracker = keras.metrics.Mean(name=\"discriminator_loss\")\n",
    "\n",
    "    @property\n",
    "    def metrics(self):\n",
    "        return [self.gen_loss_tracker, self.disc_loss_tracker]\n",
    "\n",
    "    def compile(self, d_optimizer, g_optimizer, loss_fn):\n",
    "        super(ConditionalGAN, self).compile()\n",
    "        self.d_optimizer = d_optimizer\n",
    "        self.g_optimizer = g_optimizer\n",
    "        self.loss_fn = loss_fn\n",
    "\n",
    "    def train_step(self, data):\n",
    "        # Unpack the data.\n",
    "        real_images, one_hot_labels = data\n",
    "\n",
    "        # Add dummy dimensions to the labels so that they can be concatenated with\n",
    "        # the images. This is for the discriminator.\n",
    "        image_one_hot_labels = one_hot_labels[:, :, None, None]\n",
    "        image_one_hot_labels = tf.repeat(\n",
    "            image_one_hot_labels, repeats=[ih * iw]\n",
    "        )\n",
    "        image_one_hot_labels = tf.reshape(\n",
    "            image_one_hot_labels, (-1, iw, ih, num_classes)\n",
    "        )\n",
    "\n",
    "        # Sample random points in the latent space and concatenate the labels.\n",
    "        # This is for the generator.\n",
    "        batch_size = tf.shape(real_images)[0]\n",
    "        random_latent_vectors = tf.random.normal(shape=(batch_size, self.latent_dim))\n",
    "        random_vector_labels = tf.concat(\n",
    "            [random_latent_vectors, one_hot_labels], axis=1\n",
    "        )\n",
    "\n",
    "        # Decode the noise (guided by labels) to fake images.\n",
    "        generated_images = self.generator(random_vector_labels)\n",
    "\n",
    "        # Combine them with real images. Note that we are concatenating the labels\n",
    "        # with these images here.\n",
    "        fake_image_and_labels = tf.concat([generated_images, image_one_hot_labels], -1)\n",
    "        real_image_and_labels = tf.concat([real_images, image_one_hot_labels], -1)\n",
    "        combined_images = tf.concat(\n",
    "            [fake_image_and_labels, real_image_and_labels], axis=0\n",
    "        )\n",
    "\n",
    "        # Assemble labels discriminating real from fake images.\n",
    "        labels = tf.concat(\n",
    "            [tf.ones((batch_size, 1)), tf.zeros((batch_size, 1))], axis=0\n",
    "        )\n",
    "\n",
    "        # Train the discriminator.\n",
    "        with tf.GradientTape() as tape:\n",
    "            predictions = self.discriminator(combined_images)\n",
    "            d_loss = self.loss_fn(labels, predictions)\n",
    "        grads = tape.gradient(d_loss, self.discriminator.trainable_weights)\n",
    "        self.d_optimizer.apply_gradients(\n",
    "            zip(grads, self.discriminator.trainable_weights)\n",
    "        )\n",
    "\n",
    "        # Sample random points in the latent space.\n",
    "        random_latent_vectors = tf.random.normal(shape=(batch_size, self.latent_dim))\n",
    "        random_vector_labels = tf.concat(\n",
    "            [random_latent_vectors, one_hot_labels], axis=1\n",
    "        )\n",
    "\n",
    "        # Assemble labels that say \"all real images\".\n",
    "        misleading_labels = tf.zeros((batch_size, 1))\n",
    "\n",
    "        # Train the generator (note that we should *not* update the weights\n",
    "        # of the discriminator)!\n",
    "        with tf.GradientTape() as tape:\n",
    "            fake_images = self.generator(random_vector_labels)\n",
    "            fake_image_and_labels = tf.concat([fake_images, image_one_hot_labels], -1)\n",
    "            predictions = self.discriminator(fake_image_and_labels)\n",
    "            g_loss = self.loss_fn(misleading_labels, predictions)\n",
    "        grads = tape.gradient(g_loss, self.generator.trainable_weights)\n",
    "        self.g_optimizer.apply_gradients(zip(grads, self.generator.trainable_weights))\n",
    "\n",
    "        # Monitor loss.\n",
    "        self.gen_loss_tracker.update_state(g_loss)\n",
    "        self.disc_loss_tracker.update_state(d_loss)\n",
    "        return {\n",
    "            \"g_loss\": self.gen_loss_tracker.result(),\n",
    "            \"d_loss\": self.disc_loss_tracker.result(),\n",
    "        }"
   ]
  },
  {
   "cell_type": "markdown",
   "id": "54e69ff8",
   "metadata": {
    "papermill": {
     "duration": 0.029823,
     "end_time": "2022-04-10T19:10:54.221232",
     "exception": false,
     "start_time": "2022-04-10T19:10:54.191409",
     "status": "completed"
    },
    "tags": []
   },
   "source": [
    "**Optimizers**"
   ]
  },
  {
   "cell_type": "code",
   "execution_count": 67,
   "id": "0aa2ed81",
   "metadata": {
    "execution": {
     "iopub.execute_input": "2022-04-10T19:10:54.284241Z",
     "iopub.status.busy": "2022-04-10T19:10:54.283283Z",
     "iopub.status.idle": "2022-04-10T19:10:54.288064Z",
     "shell.execute_reply": "2022-04-10T19:10:54.287616Z"
    },
    "papermill": {
     "duration": 0.037247,
     "end_time": "2022-04-10T19:10:54.288169",
     "exception": false,
     "start_time": "2022-04-10T19:10:54.250922",
     "status": "completed"
    },
    "tags": []
   },
   "outputs": [],
   "source": [
    "# Define optimizers\n",
    "d_optimizer=keras.optimizers.Adam(learning_rate=0.0003)\n",
    "g_optimizer=keras.optimizers.Adam(learning_rate=0.0003)"
   ]
  },
  {
   "cell_type": "markdown",
   "id": "fc5564fa",
   "metadata": {
    "papermill": {
     "duration": 0.029472,
     "end_time": "2022-04-10T19:10:54.348241",
     "exception": false,
     "start_time": "2022-04-10T19:10:54.318769",
     "status": "completed"
    },
    "tags": []
   },
   "source": [
    "**Checkpoints**"
   ]
  },
  {
   "cell_type": "code",
   "execution_count": 68,
   "id": "08ba890e",
   "metadata": {
    "execution": {
     "iopub.execute_input": "2022-04-10T19:10:54.413140Z",
     "iopub.status.busy": "2022-04-10T19:10:54.412616Z",
     "iopub.status.idle": "2022-04-10T19:10:54.415765Z",
     "shell.execute_reply": "2022-04-10T19:10:54.416207Z"
    },
    "papermill": {
     "duration": 0.038054,
     "end_time": "2022-04-10T19:10:54.416327",
     "exception": false,
     "start_time": "2022-04-10T19:10:54.378273",
     "status": "completed"
    },
    "tags": []
   },
   "outputs": [],
   "source": [
    "class GANMonitor(keras.callbacks.Callback):\n",
    "    def on_epoch_end(self, epoch, logs=None):\n",
    "        \n",
    "        # Save the model every 5 epochs \n",
    "        if (epoch + 1) % 10 == 0:\n",
    "          checkpoint.save(file_prefix = checkpoint_prefix)"
   ]
  },
  {
   "cell_type": "code",
   "execution_count": 69,
   "id": "76550c7a",
   "metadata": {
    "execution": {
     "iopub.execute_input": "2022-04-10T19:10:54.483549Z",
     "iopub.status.busy": "2022-04-10T19:10:54.482018Z",
     "iopub.status.idle": "2022-04-10T19:10:54.484210Z",
     "shell.execute_reply": "2022-04-10T19:10:54.484612Z"
    },
    "papermill": {
     "duration": 0.038108,
     "end_time": "2022-04-10T19:10:54.484727",
     "exception": false,
     "start_time": "2022-04-10T19:10:54.446619",
     "status": "completed"
    },
    "tags": []
   },
   "outputs": [],
   "source": [
    "if cenv == 0:\n",
    "    checkpoint_dir = '/kaggle/working/checkpoints'\n",
    "if cenv == 1:\n",
    "    checkpoint_dir = f'C:/Users/Max/Documents/GitHub/malimg_dataset/malimg-cgan-output2/checkpoints'\n",
    "    \n",
    "checkpoint_prefix = os.path.join(checkpoint_dir, \"ckpt\")\n",
    "checkpoint = tf.train.Checkpoint(generator_optimizer=g_optimizer,\n",
    "                                 discriminator_optimizer=d_optimizer,\n",
    "                                 generator=generator,\n",
    "                                 discriminator=discriminator)"
   ]
  },
  {
   "cell_type": "code",
   "execution_count": 70,
   "id": "ea4eeb69",
   "metadata": {},
   "outputs": [
    {
     "data": {
      "text/plain": [
       "<tensorflow.python.training.tracking.util.CheckpointLoadStatus at 0x285c8aef340>"
      ]
     },
     "execution_count": 70,
     "metadata": {},
     "output_type": "execute_result"
    }
   ],
   "source": [
    "checkpoint.restore(tf.train.latest_checkpoint(checkpoint_dir))"
   ]
  },
  {
   "cell_type": "markdown",
   "id": "1f18d147",
   "metadata": {
    "papermill": {
     "duration": 0.030074,
     "end_time": "2022-04-10T19:10:54.544817",
     "exception": false,
     "start_time": "2022-04-10T19:10:54.514743",
     "status": "completed"
    },
    "tags": []
   },
   "source": [
    "# Training C-GAN"
   ]
  },
  {
   "cell_type": "code",
   "execution_count": 71,
   "id": "ef683e5a",
   "metadata": {
    "execution": {
     "iopub.execute_input": "2022-04-10T19:10:54.611489Z",
     "iopub.status.busy": "2022-04-10T19:10:54.610731Z",
     "iopub.status.idle": "2022-04-10T21:21:28.487278Z",
     "shell.execute_reply": "2022-04-10T21:21:28.486779Z"
    },
    "papermill": {
     "duration": 7833.912816,
     "end_time": "2022-04-10T21:21:28.487417",
     "exception": false,
     "start_time": "2022-04-10T19:10:54.574601",
     "status": "completed"
    },
    "tags": []
   },
   "outputs": [
    {
     "name": "stdout",
     "output_type": "stream",
     "text": [
      "Epoch 1/500\n",
      "146/146 [==============================] - 19s 120ms/step - g_loss: 1.0161 - d_loss: 0.7336\n",
      "Epoch 2/500\n",
      "146/146 [==============================] - 18s 121ms/step - g_loss: 0.9618 - d_loss: 0.6199\n",
      "Epoch 3/500\n",
      "146/146 [==============================] - 18s 120ms/step - g_loss: 1.0392 - d_loss: 0.5760\n",
      "Epoch 4/500\n",
      "146/146 [==============================] - 17s 120ms/step - g_loss: 1.0207 - d_loss: 0.6037\n",
      "Epoch 5/500\n",
      "141/146 [===========================>..] - ETA: 0s - g_loss: 1.1181 - d_loss: 0.5335"
     ]
    },
    {
     "ename": "KeyboardInterrupt",
     "evalue": "",
     "output_type": "error",
     "traceback": [
      "\u001b[1;31m---------------------------------------------------------------------------\u001b[0m",
      "\u001b[1;31mKeyboardInterrupt\u001b[0m                         Traceback (most recent call last)",
      "\u001b[1;32m~\\AppData\\Local\\Temp/ipykernel_16504/4257128501.py\u001b[0m in \u001b[0;36m<module>\u001b[1;34m\u001b[0m\n\u001b[0;32m      8\u001b[0m )\n\u001b[0;32m      9\u001b[0m \u001b[1;33m\u001b[0m\u001b[0m\n\u001b[1;32m---> 10\u001b[1;33m cond_gan.fit(dataset, epochs=epoch_t, \n\u001b[0m\u001b[0;32m     11\u001b[0m         \u001b[0mcallbacks\u001b[0m\u001b[1;33m=\u001b[0m\u001b[0mGANMonitor\u001b[0m\u001b[1;33m(\u001b[0m\u001b[1;33m)\u001b[0m\u001b[1;33m\u001b[0m\u001b[1;33m\u001b[0m\u001b[0m\n\u001b[0;32m     12\u001b[0m )\n",
      "\u001b[1;32m~\\AppData\\Roaming\\Python\\Python38\\site-packages\\tensorflow\\python\\keras\\engine\\training.py\u001b[0m in \u001b[0;36mfit\u001b[1;34m(self, x, y, batch_size, epochs, verbose, callbacks, validation_split, validation_data, shuffle, class_weight, sample_weight, initial_epoch, steps_per_epoch, validation_steps, validation_batch_size, validation_freq, max_queue_size, workers, use_multiprocessing)\u001b[0m\n\u001b[0;32m   1181\u001b[0m                 _r=1):\n\u001b[0;32m   1182\u001b[0m               \u001b[0mcallbacks\u001b[0m\u001b[1;33m.\u001b[0m\u001b[0mon_train_batch_begin\u001b[0m\u001b[1;33m(\u001b[0m\u001b[0mstep\u001b[0m\u001b[1;33m)\u001b[0m\u001b[1;33m\u001b[0m\u001b[1;33m\u001b[0m\u001b[0m\n\u001b[1;32m-> 1183\u001b[1;33m               \u001b[0mtmp_logs\u001b[0m \u001b[1;33m=\u001b[0m \u001b[0mself\u001b[0m\u001b[1;33m.\u001b[0m\u001b[0mtrain_function\u001b[0m\u001b[1;33m(\u001b[0m\u001b[0miterator\u001b[0m\u001b[1;33m)\u001b[0m\u001b[1;33m\u001b[0m\u001b[1;33m\u001b[0m\u001b[0m\n\u001b[0m\u001b[0;32m   1184\u001b[0m               \u001b[1;32mif\u001b[0m \u001b[0mdata_handler\u001b[0m\u001b[1;33m.\u001b[0m\u001b[0mshould_sync\u001b[0m\u001b[1;33m:\u001b[0m\u001b[1;33m\u001b[0m\u001b[1;33m\u001b[0m\u001b[0m\n\u001b[0;32m   1185\u001b[0m                 \u001b[0mcontext\u001b[0m\u001b[1;33m.\u001b[0m\u001b[0masync_wait\u001b[0m\u001b[1;33m(\u001b[0m\u001b[1;33m)\u001b[0m\u001b[1;33m\u001b[0m\u001b[1;33m\u001b[0m\u001b[0m\n",
      "\u001b[1;32m~\\AppData\\Roaming\\Python\\Python38\\site-packages\\tensorflow\\python\\eager\\def_function.py\u001b[0m in \u001b[0;36m__call__\u001b[1;34m(self, *args, **kwds)\u001b[0m\n\u001b[0;32m    887\u001b[0m \u001b[1;33m\u001b[0m\u001b[0m\n\u001b[0;32m    888\u001b[0m       \u001b[1;32mwith\u001b[0m \u001b[0mOptionalXlaContext\u001b[0m\u001b[1;33m(\u001b[0m\u001b[0mself\u001b[0m\u001b[1;33m.\u001b[0m\u001b[0m_jit_compile\u001b[0m\u001b[1;33m)\u001b[0m\u001b[1;33m:\u001b[0m\u001b[1;33m\u001b[0m\u001b[1;33m\u001b[0m\u001b[0m\n\u001b[1;32m--> 889\u001b[1;33m         \u001b[0mresult\u001b[0m \u001b[1;33m=\u001b[0m \u001b[0mself\u001b[0m\u001b[1;33m.\u001b[0m\u001b[0m_call\u001b[0m\u001b[1;33m(\u001b[0m\u001b[1;33m*\u001b[0m\u001b[0margs\u001b[0m\u001b[1;33m,\u001b[0m \u001b[1;33m**\u001b[0m\u001b[0mkwds\u001b[0m\u001b[1;33m)\u001b[0m\u001b[1;33m\u001b[0m\u001b[1;33m\u001b[0m\u001b[0m\n\u001b[0m\u001b[0;32m    890\u001b[0m \u001b[1;33m\u001b[0m\u001b[0m\n\u001b[0;32m    891\u001b[0m       \u001b[0mnew_tracing_count\u001b[0m \u001b[1;33m=\u001b[0m \u001b[0mself\u001b[0m\u001b[1;33m.\u001b[0m\u001b[0mexperimental_get_tracing_count\u001b[0m\u001b[1;33m(\u001b[0m\u001b[1;33m)\u001b[0m\u001b[1;33m\u001b[0m\u001b[1;33m\u001b[0m\u001b[0m\n",
      "\u001b[1;32m~\\AppData\\Roaming\\Python\\Python38\\site-packages\\tensorflow\\python\\eager\\def_function.py\u001b[0m in \u001b[0;36m_call\u001b[1;34m(self, *args, **kwds)\u001b[0m\n\u001b[0;32m    915\u001b[0m       \u001b[1;31m# In this case we have created variables on the first call, so we run the\u001b[0m\u001b[1;33m\u001b[0m\u001b[1;33m\u001b[0m\u001b[1;33m\u001b[0m\u001b[0m\n\u001b[0;32m    916\u001b[0m       \u001b[1;31m# defunned version which is guaranteed to never create variables.\u001b[0m\u001b[1;33m\u001b[0m\u001b[1;33m\u001b[0m\u001b[1;33m\u001b[0m\u001b[0m\n\u001b[1;32m--> 917\u001b[1;33m       \u001b[1;32mreturn\u001b[0m \u001b[0mself\u001b[0m\u001b[1;33m.\u001b[0m\u001b[0m_stateless_fn\u001b[0m\u001b[1;33m(\u001b[0m\u001b[1;33m*\u001b[0m\u001b[0margs\u001b[0m\u001b[1;33m,\u001b[0m \u001b[1;33m**\u001b[0m\u001b[0mkwds\u001b[0m\u001b[1;33m)\u001b[0m  \u001b[1;31m# pylint: disable=not-callable\u001b[0m\u001b[1;33m\u001b[0m\u001b[1;33m\u001b[0m\u001b[0m\n\u001b[0m\u001b[0;32m    918\u001b[0m     \u001b[1;32melif\u001b[0m \u001b[0mself\u001b[0m\u001b[1;33m.\u001b[0m\u001b[0m_stateful_fn\u001b[0m \u001b[1;32mis\u001b[0m \u001b[1;32mnot\u001b[0m \u001b[1;32mNone\u001b[0m\u001b[1;33m:\u001b[0m\u001b[1;33m\u001b[0m\u001b[1;33m\u001b[0m\u001b[0m\n\u001b[0;32m    919\u001b[0m       \u001b[1;31m# Release the lock early so that multiple threads can perform the call\u001b[0m\u001b[1;33m\u001b[0m\u001b[1;33m\u001b[0m\u001b[1;33m\u001b[0m\u001b[0m\n",
      "\u001b[1;32m~\\AppData\\Roaming\\Python\\Python38\\site-packages\\tensorflow\\python\\eager\\function.py\u001b[0m in \u001b[0;36m__call__\u001b[1;34m(self, *args, **kwargs)\u001b[0m\n\u001b[0;32m   3021\u001b[0m       (graph_function,\n\u001b[0;32m   3022\u001b[0m        filtered_flat_args) = self._maybe_define_function(args, kwargs)\n\u001b[1;32m-> 3023\u001b[1;33m     return graph_function._call_flat(\n\u001b[0m\u001b[0;32m   3024\u001b[0m         filtered_flat_args, captured_inputs=graph_function.captured_inputs)  # pylint: disable=protected-access\n\u001b[0;32m   3025\u001b[0m \u001b[1;33m\u001b[0m\u001b[0m\n",
      "\u001b[1;32m~\\AppData\\Roaming\\Python\\Python38\\site-packages\\tensorflow\\python\\eager\\function.py\u001b[0m in \u001b[0;36m_call_flat\u001b[1;34m(self, args, captured_inputs, cancellation_manager)\u001b[0m\n\u001b[0;32m   1958\u001b[0m         and executing_eagerly):\n\u001b[0;32m   1959\u001b[0m       \u001b[1;31m# No tape is watching; skip to running the function.\u001b[0m\u001b[1;33m\u001b[0m\u001b[1;33m\u001b[0m\u001b[1;33m\u001b[0m\u001b[0m\n\u001b[1;32m-> 1960\u001b[1;33m       return self._build_call_outputs(self._inference_function.call(\n\u001b[0m\u001b[0;32m   1961\u001b[0m           ctx, args, cancellation_manager=cancellation_manager))\n\u001b[0;32m   1962\u001b[0m     forward_backward = self._select_forward_and_backward_functions(\n",
      "\u001b[1;32m~\\AppData\\Roaming\\Python\\Python38\\site-packages\\tensorflow\\python\\eager\\function.py\u001b[0m in \u001b[0;36mcall\u001b[1;34m(self, ctx, args, cancellation_manager)\u001b[0m\n\u001b[0;32m    589\u001b[0m       \u001b[1;32mwith\u001b[0m \u001b[0m_InterpolateFunctionError\u001b[0m\u001b[1;33m(\u001b[0m\u001b[0mself\u001b[0m\u001b[1;33m)\u001b[0m\u001b[1;33m:\u001b[0m\u001b[1;33m\u001b[0m\u001b[1;33m\u001b[0m\u001b[0m\n\u001b[0;32m    590\u001b[0m         \u001b[1;32mif\u001b[0m \u001b[0mcancellation_manager\u001b[0m \u001b[1;32mis\u001b[0m \u001b[1;32mNone\u001b[0m\u001b[1;33m:\u001b[0m\u001b[1;33m\u001b[0m\u001b[1;33m\u001b[0m\u001b[0m\n\u001b[1;32m--> 591\u001b[1;33m           outputs = execute.execute(\n\u001b[0m\u001b[0;32m    592\u001b[0m               \u001b[0mstr\u001b[0m\u001b[1;33m(\u001b[0m\u001b[0mself\u001b[0m\u001b[1;33m.\u001b[0m\u001b[0msignature\u001b[0m\u001b[1;33m.\u001b[0m\u001b[0mname\u001b[0m\u001b[1;33m)\u001b[0m\u001b[1;33m,\u001b[0m\u001b[1;33m\u001b[0m\u001b[1;33m\u001b[0m\u001b[0m\n\u001b[0;32m    593\u001b[0m               \u001b[0mnum_outputs\u001b[0m\u001b[1;33m=\u001b[0m\u001b[0mself\u001b[0m\u001b[1;33m.\u001b[0m\u001b[0m_num_outputs\u001b[0m\u001b[1;33m,\u001b[0m\u001b[1;33m\u001b[0m\u001b[1;33m\u001b[0m\u001b[0m\n",
      "\u001b[1;32m~\\AppData\\Roaming\\Python\\Python38\\site-packages\\tensorflow\\python\\eager\\execute.py\u001b[0m in \u001b[0;36mquick_execute\u001b[1;34m(op_name, num_outputs, inputs, attrs, ctx, name)\u001b[0m\n\u001b[0;32m     57\u001b[0m   \u001b[1;32mtry\u001b[0m\u001b[1;33m:\u001b[0m\u001b[1;33m\u001b[0m\u001b[1;33m\u001b[0m\u001b[0m\n\u001b[0;32m     58\u001b[0m     \u001b[0mctx\u001b[0m\u001b[1;33m.\u001b[0m\u001b[0mensure_initialized\u001b[0m\u001b[1;33m(\u001b[0m\u001b[1;33m)\u001b[0m\u001b[1;33m\u001b[0m\u001b[1;33m\u001b[0m\u001b[0m\n\u001b[1;32m---> 59\u001b[1;33m     tensors = pywrap_tfe.TFE_Py_Execute(ctx._handle, device_name, op_name,\n\u001b[0m\u001b[0;32m     60\u001b[0m                                         inputs, attrs, num_outputs)\n\u001b[0;32m     61\u001b[0m   \u001b[1;32mexcept\u001b[0m \u001b[0mcore\u001b[0m\u001b[1;33m.\u001b[0m\u001b[0m_NotOkStatusException\u001b[0m \u001b[1;32mas\u001b[0m \u001b[0me\u001b[0m\u001b[1;33m:\u001b[0m\u001b[1;33m\u001b[0m\u001b[1;33m\u001b[0m\u001b[0m\n",
      "\u001b[1;31mKeyboardInterrupt\u001b[0m: "
     ]
    }
   ],
   "source": [
    "cond_gan = ConditionalGAN(\n",
    "    discriminator=discriminator, generator=generator, latent_dim=latent_dim\n",
    ")\n",
    "cond_gan.compile(\n",
    "    d_optimizer=keras.optimizers.Adam(learning_rate=0.0003),\n",
    "    g_optimizer=keras.optimizers.Adam(learning_rate=0.0003),\n",
    "    loss_fn=keras.losses.BinaryCrossentropy(from_logits=True),\n",
    ")\n",
    "\n",
    "cond_gan.fit(dataset, epochs=epoch_t, \n",
    "        callbacks=GANMonitor()\n",
    ")\n"
   ]
  },
  {
   "cell_type": "markdown",
   "id": "57810d72",
   "metadata": {
    "papermill": {
     "duration": 22.887202,
     "end_time": "2022-04-10T21:22:15.216797",
     "exception": false,
     "start_time": "2022-04-10T21:21:52.329595",
     "status": "completed"
    },
    "tags": []
   },
   "source": [
    "# Interpolating between classes with the trained GEN"
   ]
  },
  {
   "cell_type": "code",
   "execution_count": null,
   "id": "451514f7",
   "metadata": {
    "execution": {
     "iopub.execute_input": "2022-04-10T21:23:02.575171Z",
     "iopub.status.busy": "2022-04-10T21:23:02.574518Z",
     "iopub.status.idle": "2022-04-10T21:23:02.583025Z",
     "shell.execute_reply": "2022-04-10T21:23:02.582582Z"
    },
    "papermill": {
     "duration": 23.736107,
     "end_time": "2022-04-10T21:23:02.583138",
     "exception": false,
     "start_time": "2022-04-10T21:22:38.847031",
     "status": "completed"
    },
    "tags": []
   },
   "outputs": [],
   "source": [
    "# We first extract the trained generator from our Conditiona GAN.\n",
    "trained_gen = cond_gan.generator\n",
    "\n",
    "# Choose the number of intermediate images that would be generated in\n",
    "# between the interpolation + 2 (start and last images).\n",
    "num_interpolation = 2000  # @param {type:\"integer\"}\n",
    "\n",
    "# Sample noise for the interpolation.\n",
    "interpolation_noise = tf.random.normal(shape=(1, latent_dim))\n",
    "interpolation_noise = tf.repeat(interpolation_noise, repeats=num_interpolation)\n",
    "interpolation_noise = tf.reshape(interpolation_noise, (num_interpolation, latent_dim))\n",
    "\n",
    "\n",
    "def interpolate_class(first_number, second_number):\n",
    "    # Convert the start and end labels to one-hot encoded vectors.\n",
    "    first_label = keras.utils.to_categorical([first_number], num_classes)\n",
    "    second_label = keras.utils.to_categorical([second_number], num_classes)\n",
    "    first_label = tf.cast(first_label, tf.float32)\n",
    "    second_label = tf.cast(second_label, tf.float32)\n",
    "\n",
    "    # Calculate the interpolation vector between the two labels.\n",
    "    percent_second_label = tf.linspace(0, 1, num_interpolation)[:, None]\n",
    "    percent_second_label = tf.cast(percent_second_label, tf.float32)\n",
    "    interpolation_labels = (\n",
    "        first_label * (1 - percent_second_label) + second_label * percent_second_label\n",
    "    )\n",
    "\n",
    "    # Combine the noise and the labels and run inference with the generator.\n",
    "    noise_and_labels = tf.concat([interpolation_noise, interpolation_labels], 1)\n",
    "    fake = trained_gen.predict(noise_and_labels)\n",
    "    return fake\n",
    "\n"
   ]
  },
  {
   "cell_type": "code",
   "execution_count": null,
   "id": "12edfd52",
   "metadata": {
    "execution": {
     "iopub.execute_input": "2022-04-10T21:23:49.250810Z",
     "iopub.status.busy": "2022-04-10T21:23:49.249888Z",
     "iopub.status.idle": "2022-04-10T21:23:49.252218Z",
     "shell.execute_reply": "2022-04-10T21:23:49.251661Z"
    },
    "papermill": {
     "duration": 23.45063,
     "end_time": "2022-04-10T21:23:49.252335",
     "exception": false,
     "start_time": "2022-04-10T21:23:25.801705",
     "status": "completed"
    },
    "tags": []
   },
   "outputs": [],
   "source": [
    "# Create new directory for saving folder\n",
    "os.makedirs(path_save_imgs)"
   ]
  },
  {
   "cell_type": "code",
   "execution_count": null,
   "id": "f5784fbe",
   "metadata": {
    "execution": {
     "iopub.execute_input": "2022-04-10T21:24:36.699520Z",
     "iopub.status.busy": "2022-04-10T21:24:36.698679Z",
     "iopub.status.idle": "2022-04-10T21:24:36.700600Z",
     "shell.execute_reply": "2022-04-10T21:24:36.701328Z"
    },
    "papermill": {
     "duration": 23.688963,
     "end_time": "2022-04-10T21:24:36.701525",
     "exception": false,
     "start_time": "2022-04-10T21:24:13.012562",
     "status": "completed"
    },
    "tags": []
   },
   "outputs": [],
   "source": [
    "# Retrieve class name based on number\n",
    "classes_list = list(prelim_dataset.class_indices)"
   ]
  },
  {
   "cell_type": "code",
   "execution_count": null,
   "id": "908a0847",
   "metadata": {
    "execution": {
     "iopub.execute_input": "2022-04-10T21:25:23.294433Z",
     "iopub.status.busy": "2022-04-10T21:25:23.293824Z",
     "iopub.status.idle": "2022-04-10T21:25:56.574143Z",
     "shell.execute_reply": "2022-04-10T21:25:56.573612Z"
    },
    "papermill": {
     "duration": 56.759675,
     "end_time": "2022-04-10T21:25:56.574285",
     "exception": false,
     "start_time": "2022-04-10T21:24:59.814610",
     "status": "completed"
    },
    "tags": []
   },
   "outputs": [],
   "source": [
    "for i in range(num_classes):\n",
    "    class_name = classes_list[i]\n",
    "    class_dir = f\"{path_save_imgs}/{class_name}\"\n",
    "    os.makedirs(class_dir)\n",
    "    start_class = i\n",
    "    end_class = i\n",
    "    fake_images = interpolate_class(start_class, end_class)\n",
    "    fake_images *= 255\n",
    "    converted_images = fake_images.astype(np.uint8)\n",
    "    converted_images = tf.image.resize(converted_images, (64, 64)).numpy().astype(np.uint8)\n",
    "    for j in range(num_interpolation):\n",
    "        np_array = np.squeeze(converted_images[j], axis=2)\n",
    "        im = Image.fromarray((np_array))\n",
    "        im.save(f\"{class_dir}/gen_imgs_{class_name}_{j}.png\")    "
   ]
  }
 ],
 "metadata": {
  "kernelspec": {
   "display_name": "Python 3 (ipykernel)",
   "language": "python",
   "name": "python3"
  },
  "language_info": {
   "codemirror_mode": {
    "name": "ipython",
    "version": 3
   },
   "file_extension": ".py",
   "mimetype": "text/x-python",
   "name": "python",
   "nbconvert_exporter": "python",
   "pygments_lexer": "ipython3",
   "version": "3.8.5"
  },
  "papermill": {
   "default_parameters": {},
   "duration": 8212.648561,
   "end_time": "2022-04-10T21:26:23.293665",
   "environment_variables": {},
   "exception": null,
   "input_path": "__notebook__.ipynb",
   "output_path": "__notebook__.ipynb",
   "parameters": {},
   "start_time": "2022-04-10T19:09:30.645104",
   "version": "2.3.3"
  }
 },
 "nbformat": 4,
 "nbformat_minor": 5
}
