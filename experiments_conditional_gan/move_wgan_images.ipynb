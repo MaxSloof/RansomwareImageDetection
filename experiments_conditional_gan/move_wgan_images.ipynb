{
 "cells": [
  {
   "cell_type": "code",
   "execution_count": 1,
   "id": "f96d4783",
   "metadata": {},
   "outputs": [],
   "source": [
    "import os\n",
    "import shutil"
   ]
  },
  {
   "cell_type": "code",
   "execution_count": 21,
   "id": "d8116e7d",
   "metadata": {},
   "outputs": [],
   "source": [
    "directory = \"C:/Users/Max/Documents/image_data/rightsize_wgan_images\""
   ]
  },
  {
   "cell_type": "code",
   "execution_count": 34,
   "id": "a746c694",
   "metadata": {},
   "outputs": [],
   "source": [
    "for dirs, root, file in os.walk(\"C:/Users/Max/Documents/image_data/wasserstein_cgan_images/\"):\n",
    "    if file:\n",
    "        fam_name = dirs[58:]\n",
    "        os.makedirs(os.path.join(directory, fam_name))\n",
    "        for f in file:\n",
    "            if f[-7:] == '198.png':\n",
    "                from_dir = os.path.join(dirs, f)\n",
    "                \n",
    "                to_dir = os.path.join(directory, fam_name, f)\n",
    "                \n",
    "                shutil.copyfile(from_dir, to_dir)\n",
    "                "
   ]
  },
  {
   "cell_type": "code",
   "execution_count": null,
   "id": "b6eba286",
   "metadata": {},
   "outputs": [],
   "source": []
  }
 ],
 "metadata": {
  "kernelspec": {
   "display_name": "Python 3 (ipykernel)",
   "language": "python",
   "name": "python3"
  },
  "language_info": {
   "codemirror_mode": {
    "name": "ipython",
    "version": 3
   },
   "file_extension": ".py",
   "mimetype": "text/x-python",
   "name": "python",
   "nbconvert_exporter": "python",
   "pygments_lexer": "ipython3",
   "version": "3.8.13"
  }
 },
 "nbformat": 4,
 "nbformat_minor": 5
}
