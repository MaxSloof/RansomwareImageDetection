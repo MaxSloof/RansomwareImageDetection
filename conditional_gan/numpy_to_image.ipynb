{
 "cells": [
  {
   "cell_type": "code",
   "execution_count": 20,
   "id": "40acb069",
   "metadata": {},
   "outputs": [],
   "source": [
    "import numpy as np\n",
    "import os\n",
    "from PIL import Image"
   ]
  },
  {
   "cell_type": "code",
   "execution_count": 21,
   "id": "f28a614d",
   "metadata": {},
   "outputs": [],
   "source": [
    "path_root = \"C:/Users/Max/Documents/numpy_arrays/cgan-local-v005\""
   ]
  },
  {
   "cell_type": "code",
   "execution_count": 22,
   "id": "0f9eaac9",
   "metadata": {},
   "outputs": [],
   "source": [
    "output_dir = \"C:/Users/Max/Documents/image_data\" + path_root[path_root.find(\"/\", 30):]"
   ]
  },
  {
   "cell_type": "code",
   "execution_count": 23,
   "id": "0b0d1fda",
   "metadata": {},
   "outputs": [
    {
     "name": "stdout",
     "output_type": "stream",
     "text": [
      "Directory already exists\n"
     ]
    }
   ],
   "source": [
    "try:\n",
    "    os.makedirs(output_dir)\n",
    "except:\n",
    "    print(\"Directory already exists\")"
   ]
  },
  {
   "cell_type": "code",
   "execution_count": 47,
   "id": "8ca9e3f2",
   "metadata": {},
   "outputs": [],
   "source": [
    "for root, dirs, file in os.walk(path_root):\n",
    "    for f in file:\n",
    "        if os.path.splitext(f)[1] == \".npy\":\n",
    "            file_path = os.path.join(root, f)\n",
    "\n",
    "            np_array = np.squeeze(np.load(file_path), axis=2)\n",
    "\n",
    "            im = Image.fromarray((np_array))\n",
    "            \n",
    "            foldername = root[(root.find(\"\\\\\")+1):]\n",
    "            output_spec_dir = output_dir + \"/\" + foldername\n",
    "            \n",
    "            try:\n",
    "                os.makedirs(output_spec_dir)\n",
    "            except:\n",
    "                pass\n",
    "            \n",
    "            im.save(output_spec_dir+ \"/\" + os.path.split(file_path)[1][:-4] + \".png\")\n",
    "        "
   ]
  },
  {
   "cell_type": "code",
   "execution_count": null,
   "id": "87eb5bb9",
   "metadata": {},
   "outputs": [],
   "source": []
  }
 ],
 "metadata": {
  "kernelspec": {
   "display_name": "Python 3 (ipykernel)",
   "language": "python",
   "name": "python3"
  },
  "language_info": {
   "codemirror_mode": {
    "name": "ipython",
    "version": 3
   },
   "file_extension": ".py",
   "mimetype": "text/x-python",
   "name": "python",
   "nbconvert_exporter": "python",
   "pygments_lexer": "ipython3",
   "version": "3.8.5"
  }
 },
 "nbformat": 4,
 "nbformat_minor": 5
}
