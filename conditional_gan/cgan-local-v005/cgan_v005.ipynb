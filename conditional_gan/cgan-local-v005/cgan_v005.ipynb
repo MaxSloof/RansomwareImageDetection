{
 "cells": [
  {
   "cell_type": "markdown",
   "id": "de546011",
   "metadata": {},
   "source": [
    "# Conditional GAN\n",
    "\n",
    "Used to generate new training data for the ransomware families to overcome the skewed distribution of training data towards the benign samples"
   ]
  },
  {
   "cell_type": "code",
   "execution_count": 77,
   "id": "176d8228",
   "metadata": {},
   "outputs": [],
   "source": [
    "# Packages\n",
    "from tensorflow import keras\n",
    "from tensorflow.keras import layers\n",
    "from keras.preprocessing.image import ImageDataGenerator\n",
    "from tensorflow.keras.utils import to_categorical\n",
    "\n",
    "import matplotlib.pyplot as plt \n",
    "import tensorflow as tf\n",
    "import numpy as np\n",
    "import os"
   ]
  },
  {
   "cell_type": "markdown",
   "id": "08d338ac",
   "metadata": {},
   "source": [
    "**Change parameters**"
   ]
  },
  {
   "cell_type": "markdown",
   "id": "44b44d3f",
   "metadata": {},
   "source": [
    "-----"
   ]
  },
  {
   "cell_type": "code",
   "execution_count": 78,
   "id": "3d37ff88",
   "metadata": {},
   "outputs": [],
   "source": [
    "# Batch size\n",
    "batch_size = 64\n",
    "\n",
    "# Color mode\n",
    "ch = 'grayscale'\n",
    "\n",
    "# Image size\n",
    "iw, ih = 64,64\n",
    "im_size = (iw,ih)\n",
    "\n",
    "# Latent dim size\n",
    "latent_dim = 128\n",
    "\n",
    "# Number of Epochs\n",
    "epoch_t = 80\n",
    "\n",
    "# Computation environment: Kaggle (0) or Local (1)\n",
    "cenv = 1\n",
    "\n",
    "# If weights are used: Weight factor\n",
    "wf = 0.5"
   ]
  },
  {
   "cell_type": "markdown",
   "id": "dd651cb4",
   "metadata": {},
   "source": [
    "-----------"
   ]
  },
  {
   "cell_type": "markdown",
   "id": "fd315bc2",
   "metadata": {},
   "source": [
    "Automatic notebook preparation"
   ]
  },
  {
   "cell_type": "code",
   "execution_count": 79,
   "id": "50855d77",
   "metadata": {},
   "outputs": [],
   "source": [
    "if(ch == 'rgb'):\n",
    "    chnum = 3\n",
    "elif(ch == 'grayscale'):\n",
    "    chnum = 1"
   ]
  },
  {
   "cell_type": "code",
   "execution_count": 80,
   "id": "193e04b7",
   "metadata": {},
   "outputs": [
    {
     "name": "stdout",
     "output_type": "stream",
     "text": [
      "3 matches(es) found\n",
      "--------------\n",
      "New folder name: cgan-local-v005\n",
      "--------------\n"
     ]
    }
   ],
   "source": [
    "if cenv == 1:\n",
    "    file_exists = []\n",
    "    vnum = 1\n",
    "    dir = \"C:/Users/Max/Documents/GitHub/conditional_gan\"\n",
    "    for files in os.listdir(dir):\n",
    "        if \"cgan\" in files:\n",
    "            try:\n",
    "                vnum = max(vnum, int(files[-3:]))\n",
    "            except: \n",
    "                continue\n",
    "            new_vnum = vnum + 1\n",
    "            file_exists.append(True)\n",
    "        else: \n",
    "            file_exists.append(False)\n",
    "    # If this is the first notebook you want to save, a new folder will be created with version #001\n",
    "    if sum(file_exists) == 0:\n",
    "        new_vnum = 1\n",
    "        print(\"No matches found\")\n",
    "\n",
    "    else: \n",
    "        print(f\"{sum(file_exists)} matches(es) found\")\n",
    "        print(\"--------------\")\n",
    "\n",
    "    # Print new folder name\n",
    "    print(f\"New folder name: cgan-local-v{new_vnum:03}\")\n",
    "    print(\"--------------\")\n",
    "    \n",
    "    # Create new folder with the name of the notebook and the version number\n",
    "    new_dir = f\"C://Users/Max/Documents/GitHub/conditional_gan/cgan-local-v{new_vnum:03}\"\n",
    "    os.makedirs(new_dir)"
   ]
  },
  {
   "cell_type": "markdown",
   "id": "4d30853b",
   "metadata": {},
   "source": [
    "**Data preprocessing**"
   ]
  },
  {
   "cell_type": "code",
   "execution_count": 81,
   "id": "06d54d7b",
   "metadata": {},
   "outputs": [],
   "source": [
    "if cenv == 0:\n",
    "    path_root = \"/kaggle/input/data-wo-benign\"\n",
    "    path_save_imgs = \"/kaggle/working/cgan-images/\"\n",
    "if cenv == 1:\n",
    "    path_root = \"C:/Users/Max/Documents/image_data/data_wo_benign\"\n",
    "    path_save_imgs = f\"C:/Users/Max/Documents/image_data/cgan-local-v{new_vnum:03}\""
   ]
  },
  {
   "cell_type": "code",
   "execution_count": 82,
   "id": "e6642f1c",
   "metadata": {},
   "outputs": [],
   "source": [
    "datagen = ImageDataGenerator(\n",
    "    rescale = 1/255)"
   ]
  },
  {
   "cell_type": "code",
   "execution_count": 83,
   "id": "4549c79e",
   "metadata": {},
   "outputs": [
    {
     "name": "stdout",
     "output_type": "stream",
     "text": [
      "Found 12536 images belonging to 10 classes.\n"
     ]
    }
   ],
   "source": [
    "prelim_dataset = datagen.flow_from_directory(\n",
    "    directory = path_root,\n",
    "    color_mode = ch,\n",
    "    target_size = im_size,\n",
    "    interpolation = 'bicubic',\n",
    "    batch_size = 40000,\n",
    "    shuffle=False\n",
    ")\n",
    "imgs, labels = next(prelim_dataset)"
   ]
  },
  {
   "cell_type": "code",
   "execution_count": 84,
   "id": "e987c8f5",
   "metadata": {},
   "outputs": [],
   "source": [
    "num_samples = prelim_dataset.samples\n",
    "num_classes = max(prelim_dataset.labels) + 1"
   ]
  },
  {
   "cell_type": "code",
   "execution_count": 85,
   "id": "ba425506",
   "metadata": {
    "scrolled": true
   },
   "outputs": [
    {
     "data": {
      "text/plain": [
       "{'BetterSurf': 0,\n",
       " 'Eksor.A': 1,\n",
       " 'Obfuscator.AFQ': 2,\n",
       " 'Occamy.C': 3,\n",
       " 'OnLineGames.CTB': 4,\n",
       " 'Reveton.A': 5,\n",
       " 'Sfone': 6,\n",
       " 'VB.IL': 7,\n",
       " 'Zbot': 8,\n",
       " 'Zbot!CI': 9}"
      ]
     },
     "execution_count": 85,
     "metadata": {},
     "output_type": "execute_result"
    }
   ],
   "source": [
    "prelim_dataset.class_indices"
   ]
  },
  {
   "cell_type": "markdown",
   "id": "8b0b0729",
   "metadata": {},
   "source": [
    "Create tf.data.Dataset"
   ]
  },
  {
   "cell_type": "code",
   "execution_count": 86,
   "id": "0c29159d",
   "metadata": {},
   "outputs": [],
   "source": [
    "dataset = tf.data.Dataset.from_tensor_slices((imgs, labels))\n",
    "dataset = dataset.shuffle(buffer_size=1024).batch(batch_size)"
   ]
  },
  {
   "cell_type": "markdown",
   "id": "f250f6a3",
   "metadata": {},
   "source": [
    "Calculate number of input channel for Gen and Disc"
   ]
  },
  {
   "cell_type": "code",
   "execution_count": 87,
   "id": "4c8c4b91",
   "metadata": {},
   "outputs": [
    {
     "name": "stdout",
     "output_type": "stream",
     "text": [
      "138 11\n"
     ]
    }
   ],
   "source": [
    "generator_in_channels = latent_dim + num_classes\n",
    "discriminator_in_channels = chnum + num_classes\n",
    "print(generator_in_channels, discriminator_in_channels)"
   ]
  },
  {
   "cell_type": "markdown",
   "id": "0c5518b3",
   "metadata": {},
   "source": [
    "# Creating discriminator and generator"
   ]
  },
  {
   "cell_type": "code",
   "execution_count": 88,
   "id": "5807858a",
   "metadata": {},
   "outputs": [],
   "source": [
    "# Create the discriminator.\n",
    "discriminator = keras.Sequential(\n",
    "    [\n",
    "        keras.layers.InputLayer((iw, ih, discriminator_in_channels)),\n",
    "        layers.Conv2D(64, (3, 3), strides=(2, 2), padding=\"same\"),\n",
    "        layers.LeakyReLU(alpha=0.2),\n",
    "        layers.Conv2D(128, (3, 3), strides=(2, 2), padding=\"same\"),\n",
    "        layers.LeakyReLU(alpha=0.2),\n",
    "        layers.Conv2D(128, (3, 3), strides=(2, 2), padding=\"same\"),\n",
    "        layers.LeakyReLU(alpha=0.2),\n",
    "        layers.GlobalMaxPooling2D(),\n",
    "        layers.Dense(1),\n",
    "    ],\n",
    "    name=\"discriminator\",\n",
    ")\n"
   ]
  },
  {
   "cell_type": "code",
   "execution_count": 89,
   "id": "73d69a03",
   "metadata": {},
   "outputs": [],
   "source": [
    "# Create the generator.\n",
    "generator = keras.Sequential(\n",
    "    [\n",
    "        keras.layers.InputLayer((generator_in_channels,)),\n",
    "        # We want to generate 128 + num_classes coefficients to reshape into a\n",
    "        # 7x7x(128 + num_classes) map.\n",
    "        layers.Dense(8 * 8 * generator_in_channels),\n",
    "        layers.LeakyReLU(alpha=0.2),\n",
    "        layers.Reshape((8, 8, generator_in_channels)),\n",
    "        layers.Conv2DTranspose(128, (4, 4), strides=(2, 2), padding=\"same\"),\n",
    "        layers.LeakyReLU(alpha=0.2),\n",
    "        layers.Conv2DTranspose(128, (4, 4), strides=(2, 2), padding=\"same\"),\n",
    "        layers.LeakyReLU(alpha=0.2),\n",
    "        layers.Conv2DTranspose(128, (4, 4), strides=(2, 2), padding=\"same\"),\n",
    "        layers.LeakyReLU(alpha=0.2),\n",
    "        layers.Conv2D(1, (7, 7), padding=\"same\", activation=\"sigmoid\"),\n",
    "    ],\n",
    "    name=\"generator\",\n",
    ")"
   ]
  },
  {
   "cell_type": "code",
   "execution_count": 90,
   "id": "2f2b6070",
   "metadata": {},
   "outputs": [
    {
     "name": "stdout",
     "output_type": "stream",
     "text": [
      "Model: \"discriminator\"\n",
      "_________________________________________________________________\n",
      "Layer (type)                 Output Shape              Param #   \n",
      "=================================================================\n",
      "conv2d_12 (Conv2D)           (None, 32, 32, 64)        6400      \n",
      "_________________________________________________________________\n",
      "leaky_re_lu_21 (LeakyReLU)   (None, 32, 32, 64)        0         \n",
      "_________________________________________________________________\n",
      "conv2d_13 (Conv2D)           (None, 16, 16, 128)       73856     \n",
      "_________________________________________________________________\n",
      "leaky_re_lu_22 (LeakyReLU)   (None, 16, 16, 128)       0         \n",
      "_________________________________________________________________\n",
      "conv2d_14 (Conv2D)           (None, 8, 8, 128)         147584    \n",
      "_________________________________________________________________\n",
      "leaky_re_lu_23 (LeakyReLU)   (None, 8, 8, 128)         0         \n",
      "_________________________________________________________________\n",
      "global_max_pooling2d_3 (Glob (None, 128)               0         \n",
      "_________________________________________________________________\n",
      "dense_6 (Dense)              (None, 1)                 129       \n",
      "=================================================================\n",
      "Total params: 227,969\n",
      "Trainable params: 227,969\n",
      "Non-trainable params: 0\n",
      "_________________________________________________________________\n"
     ]
    }
   ],
   "source": [
    "discriminator.summary()"
   ]
  },
  {
   "cell_type": "code",
   "execution_count": 91,
   "id": "8019d328",
   "metadata": {},
   "outputs": [
    {
     "name": "stdout",
     "output_type": "stream",
     "text": [
      "Model: \"generator\"\n",
      "_________________________________________________________________\n",
      "Layer (type)                 Output Shape              Param #   \n",
      "=================================================================\n",
      "dense_7 (Dense)              (None, 8832)              1227648   \n",
      "_________________________________________________________________\n",
      "leaky_re_lu_24 (LeakyReLU)   (None, 8832)              0         \n",
      "_________________________________________________________________\n",
      "reshape_3 (Reshape)          (None, 8, 8, 138)         0         \n",
      "_________________________________________________________________\n",
      "conv2d_transpose_9 (Conv2DTr (None, 16, 16, 128)       282752    \n",
      "_________________________________________________________________\n",
      "leaky_re_lu_25 (LeakyReLU)   (None, 16, 16, 128)       0         \n",
      "_________________________________________________________________\n",
      "conv2d_transpose_10 (Conv2DT (None, 32, 32, 128)       262272    \n",
      "_________________________________________________________________\n",
      "leaky_re_lu_26 (LeakyReLU)   (None, 32, 32, 128)       0         \n",
      "_________________________________________________________________\n",
      "conv2d_transpose_11 (Conv2DT (None, 64, 64, 128)       262272    \n",
      "_________________________________________________________________\n",
      "leaky_re_lu_27 (LeakyReLU)   (None, 64, 64, 128)       0         \n",
      "_________________________________________________________________\n",
      "conv2d_15 (Conv2D)           (None, 64, 64, 1)         6273      \n",
      "=================================================================\n",
      "Total params: 2,041,217\n",
      "Trainable params: 2,041,217\n",
      "Non-trainable params: 0\n",
      "_________________________________________________________________\n"
     ]
    }
   ],
   "source": [
    "generator.summary()"
   ]
  },
  {
   "cell_type": "markdown",
   "id": "16291bdf",
   "metadata": {},
   "source": [
    "**Create Conditional GAN**"
   ]
  },
  {
   "cell_type": "code",
   "execution_count": 92,
   "id": "d1fa8cb5",
   "metadata": {},
   "outputs": [],
   "source": [
    "class ConditionalGAN(keras.Model):\n",
    "    def __init__(self, discriminator, generator, latent_dim):\n",
    "        super(ConditionalGAN, self).__init__()\n",
    "        self.discriminator = discriminator\n",
    "        self.generator = generator\n",
    "        self.latent_dim = latent_dim\n",
    "        self.gen_loss_tracker = keras.metrics.Mean(name=\"generator_loss\")\n",
    "        self.disc_loss_tracker = keras.metrics.Mean(name=\"discriminator_loss\")\n",
    "\n",
    "    @property\n",
    "    def metrics(self):\n",
    "        return [self.gen_loss_tracker, self.disc_loss_tracker]\n",
    "\n",
    "    def compile(self, d_optimizer, g_optimizer, loss_fn):\n",
    "        super(ConditionalGAN, self).compile()\n",
    "        self.d_optimizer = d_optimizer\n",
    "        self.g_optimizer = g_optimizer\n",
    "        self.loss_fn = loss_fn\n",
    "\n",
    "    def train_step(self, data):\n",
    "        # Unpack the data.\n",
    "        real_images, one_hot_labels = data\n",
    "\n",
    "        # Add dummy dimensions to the labels so that they can be concatenated with\n",
    "        # the images. This is for the discriminator.\n",
    "        image_one_hot_labels = one_hot_labels[:, :, None, None]\n",
    "        image_one_hot_labels = tf.repeat(\n",
    "            image_one_hot_labels, repeats=[ih * iw]\n",
    "        )\n",
    "        image_one_hot_labels = tf.reshape(\n",
    "            image_one_hot_labels, (-1, iw, ih, num_classes)\n",
    "        )\n",
    "\n",
    "        # Sample random points in the latent space and concatenate the labels.\n",
    "        # This is for the generator.\n",
    "        batch_size = tf.shape(real_images)[0]\n",
    "        random_latent_vectors = tf.random.normal(shape=(batch_size, self.latent_dim))\n",
    "        random_vector_labels = tf.concat(\n",
    "            [random_latent_vectors, one_hot_labels], axis=1\n",
    "        )\n",
    "\n",
    "        # Decode the noise (guided by labels) to fake images.\n",
    "        generated_images = self.generator(random_vector_labels)\n",
    "\n",
    "        # Combine them with real images. Note that we are concatenating the labels\n",
    "        # with these images here.\n",
    "        fake_image_and_labels = tf.concat([generated_images, image_one_hot_labels], -1)\n",
    "        real_image_and_labels = tf.concat([real_images, image_one_hot_labels], -1)\n",
    "        combined_images = tf.concat(\n",
    "            [fake_image_and_labels, real_image_and_labels], axis=0\n",
    "        )\n",
    "\n",
    "        # Assemble labels discriminating real from fake images.\n",
    "        labels = tf.concat(\n",
    "            [tf.ones((batch_size, 1)), tf.zeros((batch_size, 1))], axis=0\n",
    "        )\n",
    "\n",
    "        # Train the discriminator.\n",
    "        with tf.GradientTape() as tape:\n",
    "            predictions = self.discriminator(combined_images)\n",
    "            d_loss = self.loss_fn(labels, predictions)\n",
    "        grads = tape.gradient(d_loss, self.discriminator.trainable_weights)\n",
    "        self.d_optimizer.apply_gradients(\n",
    "            zip(grads, self.discriminator.trainable_weights)\n",
    "        )\n",
    "\n",
    "        # Sample random points in the latent space.\n",
    "        random_latent_vectors = tf.random.normal(shape=(batch_size, self.latent_dim))\n",
    "        random_vector_labels = tf.concat(\n",
    "            [random_latent_vectors, one_hot_labels], axis=1\n",
    "        )\n",
    "\n",
    "        # Assemble labels that say \"all real images\".\n",
    "        misleading_labels = tf.zeros((batch_size, 1))\n",
    "\n",
    "        # Train the generator (note that we should *not* update the weights\n",
    "        # of the discriminator)!\n",
    "        with tf.GradientTape() as tape:\n",
    "            fake_images = self.generator(random_vector_labels)\n",
    "            fake_image_and_labels = tf.concat([fake_images, image_one_hot_labels], -1)\n",
    "            predictions = self.discriminator(fake_image_and_labels)\n",
    "            g_loss = self.loss_fn(misleading_labels, predictions)\n",
    "        grads = tape.gradient(g_loss, self.generator.trainable_weights)\n",
    "        self.g_optimizer.apply_gradients(zip(grads, self.generator.trainable_weights))\n",
    "\n",
    "        # Monitor loss.\n",
    "        self.gen_loss_tracker.update_state(g_loss)\n",
    "        self.disc_loss_tracker.update_state(d_loss)\n",
    "        return {\n",
    "            \"g_loss\": self.gen_loss_tracker.result(),\n",
    "            \"d_loss\": self.disc_loss_tracker.result(),\n",
    "        }"
   ]
  },
  {
   "cell_type": "markdown",
   "id": "b49d6d35",
   "metadata": {},
   "source": [
    "**Optimizers**"
   ]
  },
  {
   "cell_type": "code",
   "execution_count": 93,
   "id": "407f8557",
   "metadata": {},
   "outputs": [],
   "source": [
    "# Define optimizers\n",
    "d_optimizer=keras.optimizers.Adam(learning_rate=0.0003)\n",
    "g_optimizer=keras.optimizers.Adam(learning_rate=0.0003)"
   ]
  },
  {
   "cell_type": "markdown",
   "id": "91da998a",
   "metadata": {},
   "source": [
    "**Checkpoints**"
   ]
  },
  {
   "cell_type": "code",
   "execution_count": 94,
   "id": "c457b190",
   "metadata": {},
   "outputs": [],
   "source": [
    "class GANMonitor(keras.callbacks.Callback):\n",
    "    def on_epoch_end(self, epoch, logs=None):\n",
    "        \n",
    "        # Save the model every 5 epochs \n",
    "        if (epoch + 1) % 5 == 0:\n",
    "          checkpoint.save(file_prefix = checkpoint_prefix)"
   ]
  },
  {
   "cell_type": "code",
   "execution_count": 95,
   "id": "d0652a3b",
   "metadata": {},
   "outputs": [],
   "source": [
    "if cenv == 0:\n",
    "    checkpoint_dir = '/kaggle/working/checkpoints'\n",
    "if cenv == 1:\n",
    "    checkpoint_dir = f'{new_dir}'\n",
    "    \n",
    "checkpoint_prefix = os.path.join(checkpoint_dir, \"ckpt\")\n",
    "checkpoint = tf.train.Checkpoint(generator_optimizer=g_optimizer,\n",
    "                                 discriminator_optimizer=d_optimizer,\n",
    "                                 generator=generator,\n",
    "                                 discriminator=discriminator)"
   ]
  },
  {
   "cell_type": "markdown",
   "id": "a7db7c93",
   "metadata": {},
   "source": [
    "# Training C-GAN"
   ]
  },
  {
   "cell_type": "code",
   "execution_count": 96,
   "id": "a2338e0d",
   "metadata": {},
   "outputs": [
    {
     "name": "stdout",
     "output_type": "stream",
     "text": [
      "Epoch 1/80\n",
      "196/196 [==============================] - 23s 114ms/step - g_loss: 1.7453 - d_loss: 0.5438\n",
      "Epoch 2/80\n",
      "196/196 [==============================] - 24s 121ms/step - g_loss: 3.8044 - d_loss: 0.1342\n",
      "Epoch 3/80\n",
      "196/196 [==============================] - 22s 111ms/step - g_loss: 6.6527 - d_loss: 0.0725\n",
      "Epoch 4/80\n",
      "196/196 [==============================] - 24s 121ms/step - g_loss: 3.9598 - d_loss: 0.0586\n",
      "Epoch 5/80\n",
      "196/196 [==============================] - 23s 119ms/step - g_loss: 6.4153 - d_loss: 0.1797\n",
      "Epoch 6/80\n",
      "196/196 [==============================] - 24s 122ms/step - g_loss: 4.5808 - d_loss: 0.1608\n",
      "Epoch 7/80\n",
      "196/196 [==============================] - 24s 120ms/step - g_loss: 1.0948 - d_loss: 0.6199\n",
      "Epoch 8/80\n",
      "196/196 [==============================] - 23s 118ms/step - g_loss: 1.1938 - d_loss: 0.6105\n",
      "Epoch 9/80\n",
      "196/196 [==============================] - 23s 117ms/step - g_loss: 1.8627 - d_loss: 0.4920\n",
      "Epoch 10/80\n",
      "196/196 [==============================] - 24s 121ms/step - g_loss: 1.3407 - d_loss: 0.4927\n",
      "Epoch 11/80\n",
      "196/196 [==============================] - 23s 116ms/step - g_loss: 1.8124 - d_loss: 0.4392\n",
      "Epoch 12/80\n",
      "196/196 [==============================] - 23s 116ms/step - g_loss: 1.3207 - d_loss: 0.5749\n",
      "Epoch 13/80\n",
      "196/196 [==============================] - 23s 117ms/step - g_loss: 1.5924 - d_loss: 0.4618\n",
      "Epoch 14/80\n",
      "196/196 [==============================] - 23s 117ms/step - g_loss: 1.3458 - d_loss: 0.5326\n",
      "Epoch 15/80\n",
      "196/196 [==============================] - 23s 117ms/step - g_loss: 1.4254 - d_loss: 0.5765\n",
      "Epoch 16/80\n",
      "196/196 [==============================] - 23s 117ms/step - g_loss: 1.1743 - d_loss: 0.6840\n",
      "Epoch 17/80\n",
      "196/196 [==============================] - 23s 118ms/step - g_loss: 1.1342 - d_loss: 0.5715\n",
      "Epoch 18/80\n",
      "196/196 [==============================] - 23s 118ms/step - g_loss: 1.1249 - d_loss: 0.5515\n",
      "Epoch 19/80\n",
      "196/196 [==============================] - 23s 119ms/step - g_loss: 1.0712 - d_loss: 0.6255\n",
      "Epoch 20/80\n",
      "196/196 [==============================] - 23s 118ms/step - g_loss: 1.0814 - d_loss: 0.6062\n",
      "Epoch 21/80\n",
      "196/196 [==============================] - 23s 119ms/step - g_loss: 1.2052 - d_loss: 0.5899\n",
      "Epoch 22/80\n",
      "196/196 [==============================] - 23s 118ms/step - g_loss: 0.9620 - d_loss: 0.6144\n",
      "Epoch 23/80\n",
      "196/196 [==============================] - 23s 119ms/step - g_loss: 0.9859 - d_loss: 0.6203\n",
      "Epoch 24/80\n",
      "196/196 [==============================] - 23s 118ms/step - g_loss: 0.9580 - d_loss: 0.6143\n",
      "Epoch 25/80\n",
      "196/196 [==============================] - 23s 118ms/step - g_loss: 0.9834 - d_loss: 0.6269\n",
      "Epoch 26/80\n",
      "196/196 [==============================] - 23s 118ms/step - g_loss: 1.0266 - d_loss: 0.6209\n",
      "Epoch 27/80\n",
      "196/196 [==============================] - 23s 119ms/step - g_loss: 1.0565 - d_loss: 0.6382\n",
      "Epoch 28/80\n",
      "196/196 [==============================] - 24s 120ms/step - g_loss: 1.0611 - d_loss: 0.6533\n",
      "Epoch 29/80\n",
      "196/196 [==============================] - 24s 123ms/step - g_loss: 1.1161 - d_loss: 0.6153\n",
      "Epoch 30/80\n",
      "196/196 [==============================] - 24s 123ms/step - g_loss: 1.1093 - d_loss: 0.7231\n",
      "Epoch 31/80\n",
      "196/196 [==============================] - 24s 122ms/step - g_loss: 1.0905 - d_loss: 0.6072\n",
      "Epoch 32/80\n",
      "196/196 [==============================] - 23s 118ms/step - g_loss: 1.0574 - d_loss: 0.6288\n",
      "Epoch 33/80\n",
      "196/196 [==============================] - 23s 119ms/step - g_loss: 1.0529 - d_loss: 0.6146\n",
      "Epoch 34/80\n",
      "196/196 [==============================] - 23s 117ms/step - g_loss: 1.0445 - d_loss: 0.6364\n",
      "Epoch 35/80\n",
      "196/196 [==============================] - 23s 117ms/step - g_loss: 1.1737 - d_loss: 0.6411\n",
      "Epoch 36/80\n",
      "196/196 [==============================] - 23s 116ms/step - g_loss: 1.1023 - d_loss: 0.6256\n",
      "Epoch 37/80\n",
      "196/196 [==============================] - 23s 116ms/step - g_loss: 1.0960 - d_loss: 0.6356\n",
      "Epoch 38/80\n",
      "196/196 [==============================] - 23s 116ms/step - g_loss: 1.1291 - d_loss: 0.6085\n",
      "Epoch 39/80\n",
      "196/196 [==============================] - 23s 117ms/step - g_loss: 1.1398 - d_loss: 0.6060\n",
      "Epoch 40/80\n",
      "196/196 [==============================] - 23s 117ms/step - g_loss: 1.1341 - d_loss: 0.5934\n",
      "Epoch 41/80\n",
      "196/196 [==============================] - 23s 119ms/step - g_loss: 1.2083 - d_loss: 0.6024\n",
      "Epoch 42/80\n",
      "196/196 [==============================] - 23s 116ms/step - g_loss: 1.1992 - d_loss: 0.6355\n",
      "Epoch 43/80\n",
      "196/196 [==============================] - 23s 116ms/step - g_loss: 1.1859 - d_loss: 0.5711\n",
      "Epoch 44/80\n",
      "196/196 [==============================] - 23s 116ms/step - g_loss: 1.3013 - d_loss: 0.5736\n",
      "Epoch 45/80\n",
      "196/196 [==============================] - 23s 116ms/step - g_loss: 1.3345 - d_loss: 0.6031\n",
      "Epoch 46/80\n",
      "196/196 [==============================] - 23s 117ms/step - g_loss: 1.3106 - d_loss: 0.5619\n",
      "Epoch 47/80\n",
      "196/196 [==============================] - 23s 117ms/step - g_loss: 1.2144 - d_loss: 0.5744\n",
      "Epoch 48/80\n",
      "196/196 [==============================] - 23s 117ms/step - g_loss: 1.3207 - d_loss: 0.5262\n",
      "Epoch 49/80\n",
      "196/196 [==============================] - 23s 116ms/step - g_loss: 1.2961 - d_loss: 0.5405\n",
      "Epoch 50/80\n",
      "196/196 [==============================] - 23s 117ms/step - g_loss: 1.5435 - d_loss: 0.5919\n",
      "Epoch 51/80\n",
      "196/196 [==============================] - 22s 114ms/step - g_loss: 1.3590 - d_loss: 0.5307\n",
      "Epoch 52/80\n",
      "196/196 [==============================] - 22s 112ms/step - g_loss: 1.3506 - d_loss: 0.5524\n",
      "Epoch 53/80\n",
      "196/196 [==============================] - 25s 126ms/step - g_loss: 1.2878 - d_loss: 0.5451\n",
      "Epoch 54/80\n",
      "196/196 [==============================] - 24s 120ms/step - g_loss: 1.3527 - d_loss: 0.5293\n",
      "Epoch 55/80\n",
      "196/196 [==============================] - 25s 126ms/step - g_loss: 1.2411 - d_loss: 0.5731\n",
      "Epoch 56/80\n",
      "196/196 [==============================] - 23s 116ms/step - g_loss: 1.2683 - d_loss: 0.5547\n",
      "Epoch 57/80\n",
      "196/196 [==============================] - 22s 114ms/step - g_loss: 1.4918 - d_loss: 0.5765\n",
      "Epoch 58/80\n",
      "196/196 [==============================] - 22s 114ms/step - g_loss: 1.4443 - d_loss: 0.5402\n",
      "Epoch 59/80\n",
      "196/196 [==============================] - 22s 114ms/step - g_loss: 1.4084 - d_loss: 0.5348\n",
      "Epoch 60/80\n",
      "196/196 [==============================] - 25s 127ms/step - g_loss: 1.4813 - d_loss: 0.5168\n",
      "Epoch 61/80\n",
      "196/196 [==============================] - 24s 120ms/step - g_loss: 1.2949 - d_loss: 0.5908\n",
      "Epoch 62/80\n",
      "196/196 [==============================] - 23s 117ms/step - g_loss: 1.3302 - d_loss: 0.5289\n",
      "Epoch 63/80\n",
      "196/196 [==============================] - 23s 116ms/step - g_loss: 1.4071 - d_loss: 0.5506\n",
      "Epoch 64/80\n",
      "196/196 [==============================] - 23s 116ms/step - g_loss: 1.5196 - d_loss: 0.5104\n",
      "Epoch 65/80\n",
      "196/196 [==============================] - 23s 118ms/step - g_loss: 1.5148 - d_loss: 0.5708\n",
      "Epoch 66/80\n",
      "196/196 [==============================] - 24s 120ms/step - g_loss: 1.4960 - d_loss: 0.5000\n",
      "Epoch 67/80\n",
      "196/196 [==============================] - 23s 119ms/step - g_loss: 1.6066 - d_loss: 0.5112\n",
      "Epoch 68/80\n",
      "196/196 [==============================] - 23s 116ms/step - g_loss: 1.6179 - d_loss: 0.5285\n",
      "Epoch 69/80\n",
      "196/196 [==============================] - 23s 117ms/step - g_loss: 1.6278 - d_loss: 0.5085\n",
      "Epoch 70/80\n",
      "196/196 [==============================] - 23s 118ms/step - g_loss: 2.1286 - d_loss: 0.4861\n",
      "Epoch 71/80\n",
      "196/196 [==============================] - 23s 117ms/step - g_loss: 1.5398 - d_loss: 0.5399\n",
      "Epoch 72/80\n",
      "196/196 [==============================] - 23s 118ms/step - g_loss: 1.4759 - d_loss: 0.5692\n",
      "Epoch 73/80\n",
      "196/196 [==============================] - 23s 118ms/step - g_loss: 1.3865 - d_loss: 0.5631\n",
      "Epoch 74/80\n",
      "196/196 [==============================] - 24s 123ms/step - g_loss: 1.7165 - d_loss: 0.5434\n",
      "Epoch 75/80\n",
      "196/196 [==============================] - 24s 122ms/step - g_loss: 1.4365 - d_loss: 0.5675\n",
      "Epoch 76/80\n",
      "196/196 [==============================] - 24s 122ms/step - g_loss: 1.4181 - d_loss: 0.5570\n",
      "Epoch 77/80\n",
      "196/196 [==============================] - 25s 126ms/step - g_loss: 1.5077 - d_loss: 0.5556\n",
      "Epoch 78/80\n",
      "196/196 [==============================] - 24s 123ms/step - g_loss: 1.0475 - d_loss: 0.6063\n",
      "Epoch 79/80\n"
     ]
    },
    {
     "name": "stdout",
     "output_type": "stream",
     "text": [
      "196/196 [==============================] - 23s 119ms/step - g_loss: 1.0995 - d_loss: 0.6647\n",
      "Epoch 80/80\n",
      "196/196 [==============================] - 23s 116ms/step - g_loss: 1.0671 - d_loss: 0.6582\n"
     ]
    },
    {
     "data": {
      "text/plain": [
       "<tensorflow.python.keras.callbacks.History at 0x222d5bc4070>"
      ]
     },
     "execution_count": 96,
     "metadata": {},
     "output_type": "execute_result"
    }
   ],
   "source": [
    "cond_gan = ConditionalGAN(\n",
    "    discriminator=discriminator, generator=generator, latent_dim=latent_dim\n",
    ")\n",
    "cond_gan.compile(\n",
    "    d_optimizer=keras.optimizers.Adam(learning_rate=0.0003),\n",
    "    g_optimizer=keras.optimizers.Adam(learning_rate=0.0003),\n",
    "    loss_fn=keras.losses.BinaryCrossentropy(from_logits=True),\n",
    ")\n",
    "\n",
    "cond_gan.fit(dataset, epochs=epoch_t, \n",
    "        callbacks=GANMonitor()\n",
    ")\n"
   ]
  },
  {
   "cell_type": "markdown",
   "id": "8d6263e9",
   "metadata": {},
   "source": [
    "# Interpolating between classes with the trained GEN"
   ]
  },
  {
   "cell_type": "code",
   "execution_count": 111,
   "id": "8a0397cc",
   "metadata": {},
   "outputs": [],
   "source": [
    "# We first extract the trained generator from our Conditiona GAN.\n",
    "trained_gen = cond_gan.generator\n",
    "\n",
    "# Choose the number of intermediate images that would be generated in\n",
    "# between the interpolation + 2 (start and last images).\n",
    "num_interpolation = 10000  # @param {type:\"integer\"}\n",
    "\n",
    "# Sample noise for the interpolation.\n",
    "interpolation_noise = tf.random.normal(shape=(1, latent_dim))\n",
    "interpolation_noise = tf.repeat(interpolation_noise, repeats=num_interpolation)\n",
    "interpolation_noise = tf.reshape(interpolation_noise, (num_interpolation, latent_dim))\n",
    "\n",
    "\n",
    "def interpolate_class(first_number, second_number):\n",
    "    # Convert the start and end labels to one-hot encoded vectors.\n",
    "    first_label = keras.utils.to_categorical([first_number], num_classes)\n",
    "    second_label = keras.utils.to_categorical([second_number], num_classes)\n",
    "    first_label = tf.cast(first_label, tf.float32)\n",
    "    second_label = tf.cast(second_label, tf.float32)\n",
    "\n",
    "    # Calculate the interpolation vector between the two labels.\n",
    "    percent_second_label = tf.linspace(0, 1, num_interpolation)[:, None]\n",
    "    percent_second_label = tf.cast(percent_second_label, tf.float32)\n",
    "    interpolation_labels = (\n",
    "        first_label * (1 - percent_second_label) + second_label * percent_second_label\n",
    "    )\n",
    "\n",
    "    # Combine the noise and the labels and run inference with the generator.\n",
    "    noise_and_labels = tf.concat([interpolation_noise, interpolation_labels], 1)\n",
    "    fake = trained_gen.predict(noise_and_labels)\n",
    "    return fake\n",
    "\n"
   ]
  },
  {
   "cell_type": "code",
   "execution_count": 112,
   "id": "d6ba712e",
   "metadata": {},
   "outputs": [],
   "source": [
    "# Create new directory for saving folder\n",
    "os.makedirs(path_save_imgs)"
   ]
  },
  {
   "cell_type": "code",
   "execution_count": 113,
   "id": "ec4aadd5",
   "metadata": {},
   "outputs": [],
   "source": [
    "# Retrieve class name based on number\n",
    "classes_list = list(prelim_dataset.class_indices)"
   ]
  },
  {
   "cell_type": "code",
   "execution_count": 114,
   "id": "ee6b52ee",
   "metadata": {},
   "outputs": [],
   "source": [
    "for i in range(num_classes):\n",
    "    class_name = classes_list[i]\n",
    "    class_dir = f\"{path_save_imgs}/{class_name}\"\n",
    "    os.makedirs(class_dir)\n",
    "    start_class = i\n",
    "    end_class = i\n",
    "    fake_images = interpolate_class(start_class, end_class)\n",
    "    fake_images *= 255\n",
    "    converted_images = fake_images.astype(np.uint8)\n",
    "    converted_images = tf.image.resize(converted_images, (64, 64)).numpy().astype(np.uint8)\n",
    "    for j in range(num_interpolation):\n",
    "        np.save(file=f\"{class_dir}/gen_imgs_{class_name}_{j}.npy\", arr = converted_images[j])\n",
    "    "
   ]
  },
  {
   "cell_type": "markdown",
   "id": "9b5f4a4f",
   "metadata": {},
   "source": [
    "# TESTING\n",
    "-----"
   ]
  },
  {
   "cell_type": "code",
   "execution_count": 106,
   "id": "1c673f36",
   "metadata": {},
   "outputs": [
    {
     "data": {
      "image/png": "[encoded data removed]",
      "text/plain": [
       "<Figure size 432x288 with 1 Axes>"
      ]
     },
     "metadata": {
      "needs_background": "light"
     },
     "output_type": "display_data"
    }
   ],
   "source": [
    "if cenv == 1:\n",
    "    test = np.load(\"C:/Users/Max/Documents/image_data/cgan-local-v005/Sfone/gen_imgs_Sfone_25.npy\")\n",
    "    plt.imshow(test, cmap = 'gray')"
   ]
  },
  {
   "cell_type": "code",
   "execution_count": null,
   "id": "310e169f",
   "metadata": {},
   "outputs": [],
   "source": []
  }
 ],
 "metadata": {
  "kernelspec": {
   "display_name": "Python 3 (ipykernel)",
   "language": "python",
   "name": "python3"
  },
  "language_info": {
   "codemirror_mode": {
    "name": "ipython",
    "version": 3
   },
   "file_extension": ".py",
   "mimetype": "text/x-python",
   "name": "python",
   "nbconvert_exporter": "python",
   "pygments_lexer": "ipython3",
   "version": "3.8.5"
  }
 },
 "nbformat": 4,
 "nbformat_minor": 5
}
