{
 "cells": [
  {
   "cell_type": "code",
   "execution_count": 1,
   "metadata": {
    "execution": {
     "iopub.execute_input": "2022-04-01T10:53:07.209931Z",
     "iopub.status.busy": "2022-04-01T10:53:07.209551Z",
     "iopub.status.idle": "2022-04-01T10:53:07.216491Z",
     "shell.execute_reply": "2022-04-01T10:53:07.215721Z",
     "shell.execute_reply.started": "2022-04-01T10:53:07.209899Z"
    },
    "id": "KXQu67zVoZAw"
   },
   "outputs": [],
   "source": [
    "import tensorflow as tf\n",
    "import matplotlib.pyplot as plt\n",
    "from tensorflow.keras import datasets, layers, models, losses, Model\n",
    "from tensorflow.keras.preprocessing.image import ImageDataGenerator\n",
    "from tensorflow.keras.callbacks import ModelCheckpoint, ReduceLROnPlateau\n",
    "from sklearn.model_selection import train_test_split\n",
    "import numpy as np\n",
    "import os\n",
    "import math"
   ]
  },
  {
   "cell_type": "code",
   "execution_count": 6,
   "metadata": {
    "execution": {
     "iopub.execute_input": "2022-04-01T10:56:14.342843Z",
     "iopub.status.busy": "2022-04-01T10:56:14.342566Z",
     "iopub.status.idle": "2022-04-01T10:56:14.347565Z",
     "shell.execute_reply": "2022-04-01T10:56:14.346816Z",
     "shell.execute_reply.started": "2022-04-01T10:56:14.342814Z"
    }
   },
   "outputs": [],
   "source": [
    "# Image size (height x width)\n",
    "ih = 64\n",
    "iw = 64\n",
    "\n",
    "# Grayscale or RGB\n",
    "ch = 'rgb'\n",
    "\n",
    "# Batch size \n",
    "batch_size = 64\n",
    "\n",
    "# Layer adapt\n",
    "ksize = 4 # Kernel size : was '4' for 64x64 image\n",
    "ssize = 2 # Stride size : was '2' for 64x64 image\n",
    "\n",
    "# Size of test set (in %)\n",
    "testsize = 0.3\n",
    "\n",
    "# Number of epochs in model\n",
    "epoch_t = 40\n",
    "\n",
    "# Where computation is performed: Kaggle (0) or Local (1)\n",
    "cenv = 1"
   ]
  },
  {
   "cell_type": "code",
   "execution_count": 7,
   "metadata": {
    "execution": {
     "iopub.execute_input": "2022-04-01T10:44:49.728638Z",
     "iopub.status.busy": "2022-04-01T10:44:49.727936Z",
     "iopub.status.idle": "2022-04-01T10:44:49.739509Z",
     "shell.execute_reply": "2022-04-01T10:44:49.738774Z",
     "shell.execute_reply.started": "2022-04-01T10:44:49.728585Z"
    },
    "scrolled": true
   },
   "outputs": [
    {
     "name": "stdout",
     "output_type": "stream",
     "text": [
      "Computation environment: Local\n"
     ]
    }
   ],
   "source": [
    "if cenv == 0:\n",
    "    print(\"Computation environment: Kaggle\")\n",
    "if cenv == 1:\n",
    "    print(\"Computation environment: Local\")"
   ]
  },
  {
   "cell_type": "markdown",
   "metadata": {},
   "source": [
    "**Create new directory for version**"
   ]
  },
  {
   "cell_type": "code",
   "execution_count": 8,
   "metadata": {
    "execution": {
     "iopub.execute_input": "2022-04-01T10:44:49.742566Z",
     "iopub.status.busy": "2022-04-01T10:44:49.741965Z",
     "iopub.status.idle": "2022-04-01T10:44:49.750348Z",
     "shell.execute_reply": "2022-04-01T10:44:49.749686Z",
     "shell.execute_reply.started": "2022-04-01T10:44:49.742532Z"
    }
   },
   "outputs": [
    {
     "name": "stdout",
     "output_type": "stream",
     "text": [
      "8 matches(es) found\n",
      "--------------\n",
      "New folder name: ResNet-local-v010\n",
      "--------------\n"
     ]
    }
   ],
   "source": [
    "if cenv == 1:\n",
    "    file_exists = []\n",
    "    vnum = 1\n",
    "    dir = \"C:/Users/Max/Documents/GitHub/ResNet\"\n",
    "    for files in os.listdir(dir):\n",
    "        if \"ResNet\" in files: \n",
    "            try:\n",
    "                vnum = max(vnum, int(files[-3:]))\n",
    "            except: \n",
    "                continue\n",
    "            new_vnum = vnum + 1\n",
    "            file_exists.append(True)\n",
    "        else: \n",
    "            file_exists.append(False)\n",
    "    # If this is the first notebook you want to save, a new folder will be created with version #001\n",
    "    if sum(file_exists) == 0:\n",
    "        new_vnum = 1\n",
    "        print(\"No matches found\")\n",
    "\n",
    "    else: \n",
    "        print(f\"{sum(file_exists)} matches(es) found\")\n",
    "        print(\"--------------\")\n",
    "\n",
    "    # Print new folder name\n",
    "    print(f\"New folder name: ResNet-local-v{new_vnum:03}\")\n",
    "    print(\"--------------\")\n",
    "    \n",
    "    # Create new folder with the name of the notebook and the version number\n",
    "    new_dir = f\"/Users/Max/Documents/GitHub/ResNet/ResNet-local-v{new_vnum:03}\"\n",
    "    os.makedirs(new_dir)"
   ]
  },
  {
   "cell_type": "markdown",
   "metadata": {},
   "source": [
    "# Data"
   ]
  },
  {
   "cell_type": "code",
   "execution_count": 9,
   "metadata": {
    "execution": {
     "iopub.execute_input": "2022-04-01T10:44:49.753872Z",
     "iopub.status.busy": "2022-04-01T10:44:49.752322Z",
     "iopub.status.idle": "2022-04-01T10:44:49.759434Z",
     "shell.execute_reply": "2022-04-01T10:44:49.758791Z",
     "shell.execute_reply.started": "2022-04-01T10:44:49.753836Z"
    },
    "scrolled": true
   },
   "outputs": [],
   "source": [
    "if cenv == 0:\n",
    "    path_root = \"/kaggle/input/thesis-data\"\n",
    "    path_gen_images = \"/kaggle/input//cganlocalv007/cgan-local-v007\"\n",
    "    \n",
    "    # Directory where checkpoints of DCGAN are stored\n",
    "    checkpoint_dir = \"/kaggle/input/checkpoints\" \n",
    "\n",
    "if cenv == 1:\n",
    "    path_root = \"C:/Users/Max/Documents/thesis_data\"\n",
    "    path_gen_images = \"C:/Users/Max/Documents/image_data/cgan-local-v005\"\n",
    "    \n",
    "    # Directory where checkpoints of DCGAN are stored\n",
    "    checkpoint_dir = 'C:/Users/Max/Documents/GitHub/dcgan_kaggle_output/dcgan-kaggle-v002/checkpoints'\n",
    "    "
   ]
  },
  {
   "cell_type": "code",
   "execution_count": 10,
   "metadata": {
    "execution": {
     "iopub.execute_input": "2022-04-01T10:44:49.76217Z",
     "iopub.status.busy": "2022-04-01T10:44:49.761344Z",
     "iopub.status.idle": "2022-04-01T10:44:49.768971Z",
     "shell.execute_reply": "2022-04-01T10:44:49.768296Z",
     "shell.execute_reply.started": "2022-04-01T10:44:49.762091Z"
    }
   },
   "outputs": [],
   "source": [
    "im_si = (ih, iw)\n",
    "\n",
    "if(ch == 'rgb'):\n",
    "    chnum = 3\n",
    "elif(ch == 'grayscale'):\n",
    "    chnum = 1"
   ]
  },
  {
   "cell_type": "code",
   "execution_count": 11,
   "metadata": {
    "execution": {
     "iopub.execute_input": "2022-04-01T10:44:49.770683Z",
     "iopub.status.busy": "2022-04-01T10:44:49.769929Z",
     "iopub.status.idle": "2022-04-01T10:46:41.021349Z",
     "shell.execute_reply": "2022-04-01T10:46:41.020566Z",
     "shell.execute_reply.started": "2022-04-01T10:44:49.770648Z"
    }
   },
   "outputs": [
    {
     "name": "stdout",
     "output_type": "stream",
     "text": [
      "Found 26548 images belonging to 11 classes.\n"
     ]
    }
   ],
   "source": [
    "batches = ImageDataGenerator().flow_from_directory(\n",
    "    directory  = path_root, \n",
    "    color_mode = ch, \n",
    "    target_size= (ih,iw), \n",
    "    interpolation=\"bicubic\",\n",
    "    class_mode = 'sparse',\n",
    "    batch_size=40000\n",
    ")\n",
    "imgs, labels = next(batches)"
   ]
  },
  {
   "cell_type": "code",
   "execution_count": 12,
   "metadata": {
    "execution": {
     "iopub.execute_input": "2022-04-01T10:46:41.022882Z",
     "iopub.status.busy": "2022-04-01T10:46:41.022615Z",
     "iopub.status.idle": "2022-04-01T10:48:55.339483Z",
     "shell.execute_reply": "2022-04-01T10:48:55.338191Z",
     "shell.execute_reply.started": "2022-04-01T10:46:41.022847Z"
    },
    "scrolled": true
   },
   "outputs": [
    {
     "name": "stdout",
     "output_type": "stream",
     "text": [
      "Found 100000 images belonging to 10 classes.\n"
     ]
    }
   ],
   "source": [
    "batches_gen = ImageDataGenerator().flow_from_directory(\n",
    "    directory  = path_gen_images, \n",
    "    color_mode = ch, \n",
    "    target_size= (ih,iw), \n",
    "    interpolation=\"bicubic\",\n",
    "    class_mode = 'sparse',\n",
    "    batch_size=40000\n",
    ")\n",
    "imgs_gen, labels_gen = next(batches_gen)"
   ]
  },
  {
   "cell_type": "code",
   "execution_count": 13,
   "metadata": {
    "execution": {
     "iopub.execute_input": "2022-04-01T10:50:21.576444Z",
     "iopub.status.busy": "2022-04-01T10:50:21.576188Z",
     "iopub.status.idle": "2022-04-01T10:50:21.584946Z",
     "shell.execute_reply": "2022-04-01T10:50:21.584102Z",
     "shell.execute_reply.started": "2022-04-01T10:50:21.576417Z"
    }
   },
   "outputs": [
    {
     "data": {
      "text/plain": [
       "(array([0., 1., 2., 3., 4., 5., 6., 7., 8., 9.], dtype=float32),\n",
       " array([3997, 3993, 3972, 4011, 4040, 3983, 4063, 3992, 3939, 4010],\n",
       "       dtype=int64))"
      ]
     },
     "execution_count": 13,
     "metadata": {},
     "output_type": "execute_result"
    }
   ],
   "source": [
    "np.unique(labels_gen, return_counts=True)"
   ]
  },
  {
   "cell_type": "code",
   "execution_count": 14,
   "metadata": {
    "execution": {
     "iopub.execute_input": "2022-04-01T10:50:21.776058Z",
     "iopub.status.busy": "2022-04-01T10:50:21.775791Z",
     "iopub.status.idle": "2022-04-01T10:50:22.21782Z",
     "shell.execute_reply": "2022-04-01T10:50:22.216789Z",
     "shell.execute_reply.started": "2022-04-01T10:50:21.776028Z"
    }
   },
   "outputs": [],
   "source": [
    "imgs = tf.keras.applications.densenet.preprocess_input(imgs)\n",
    "labels = np.array(labels)"
   ]
  },
  {
   "cell_type": "code",
   "execution_count": 15,
   "metadata": {
    "execution": {
     "iopub.execute_input": "2022-04-01T10:50:22.227689Z",
     "iopub.status.busy": "2022-04-01T10:50:22.227446Z",
     "iopub.status.idle": "2022-04-01T10:50:22.884044Z",
     "shell.execute_reply": "2022-04-01T10:50:22.883268Z",
     "shell.execute_reply.started": "2022-04-01T10:50:22.227661Z"
    }
   },
   "outputs": [],
   "source": [
    "imgs_gen = tf.keras.applications.densenet.preprocess_input(imgs_gen)\n",
    "labels_gen = np.array(labels_gen)"
   ]
  },
  {
   "cell_type": "code",
   "execution_count": 16,
   "metadata": {
    "execution": {
     "iopub.execute_input": "2022-04-01T11:03:50.048317Z",
     "iopub.status.busy": "2022-04-01T11:03:50.04785Z",
     "iopub.status.idle": "2022-04-01T11:03:51.044375Z",
     "shell.execute_reply": "2022-04-01T11:03:51.043621Z",
     "shell.execute_reply.started": "2022-04-01T11:03:50.048279Z"
    }
   },
   "outputs": [],
   "source": [
    "X_train, X_test, y_train, y_test = train_test_split(imgs, labels, test_size=testsize)\n",
    "\n",
    "X_test, X_val, y_test, y_val =  train_test_split(X_test, y_test, test_size=0.5)"
   ]
  },
  {
   "cell_type": "code",
   "execution_count": 17,
   "metadata": {
    "execution": {
     "iopub.execute_input": "2022-04-01T11:03:51.046265Z",
     "iopub.status.busy": "2022-04-01T11:03:51.046006Z",
     "iopub.status.idle": "2022-04-01T11:03:54.63021Z",
     "shell.execute_reply": "2022-04-01T11:03:54.629263Z",
     "shell.execute_reply.started": "2022-04-01T11:03:51.046232Z"
    }
   },
   "outputs": [],
   "source": [
    "X_train = np.concatenate((X_train, imgs_gen), axis = 0)"
   ]
  },
  {
   "cell_type": "code",
   "execution_count": 18,
   "metadata": {
    "execution": {
     "iopub.execute_input": "2022-04-01T11:03:54.631964Z",
     "iopub.status.busy": "2022-04-01T11:03:54.63169Z",
     "iopub.status.idle": "2022-04-01T11:03:54.640689Z",
     "shell.execute_reply": "2022-04-01T11:03:54.640044Z",
     "shell.execute_reply.started": "2022-04-01T11:03:54.631929Z"
    }
   },
   "outputs": [],
   "source": [
    "y_train = np.concatenate((y_train, labels_gen), axis = 0)"
   ]
  },
  {
   "cell_type": "code",
   "execution_count": 19,
   "metadata": {
    "execution": {
     "iopub.execute_input": "2022-04-01T11:04:14.337673Z",
     "iopub.status.busy": "2022-04-01T11:04:14.33741Z",
     "iopub.status.idle": "2022-04-01T11:04:14.344371Z",
     "shell.execute_reply": "2022-04-01T11:04:14.343394Z",
     "shell.execute_reply.started": "2022-04-01T11:04:14.337645Z"
    },
    "scrolled": true
   },
   "outputs": [
    {
     "name": "stdout",
     "output_type": "stream",
     "text": [
      "Size of training data: 58583 | Shape of training data (58583, 64, 64, 3)\n",
      "Size of test data: 3982  | Shape of test data (3982, 64, 64, 3)\n",
      "Size of training data: 3983  | Shape of training data (3983, 64, 64, 3)\n",
      "Shape of training labels (58583,)\n",
      "Shape of training labels (3982,)\n"
     ]
    }
   ],
   "source": [
    "X_train_size = len(X_train)\n",
    "X_test_size = len(X_test)\n",
    "X_val_size = len(X_val)\n",
    "\n",
    "print(f\"Size of training data: {X_train_size} | Shape of training data {X_train.shape}\")\n",
    "print(f\"Size of test data: {X_test_size}  | Shape of test data {X_test.shape}\")\n",
    "print(f\"Size of training data: {X_val_size}  | Shape of training data {X_val.shape}\")\n",
    "print(f\"Shape of training labels {y_train.shape}\")\n",
    "print(f\"Shape of training labels {y_test.shape}\")"
   ]
  },
  {
   "cell_type": "code",
   "execution_count": 209,
   "metadata": {},
   "outputs": [
    {
     "data": {
      "text/plain": [
       "40000"
      ]
     },
     "execution_count": 209,
     "metadata": {},
     "output_type": "execute_result"
    }
   ],
   "source": [
    "len(labels_gen)"
   ]
  },
  {
   "cell_type": "code",
   "execution_count": 20,
   "metadata": {
    "execution": {
     "iopub.execute_input": "2022-04-01T11:00:29.308609Z",
     "iopub.status.busy": "2022-04-01T11:00:29.308361Z",
     "iopub.status.idle": "2022-04-01T11:00:29.315177Z",
     "shell.execute_reply": "2022-04-01T11:00:29.314474Z",
     "shell.execute_reply.started": "2022-04-01T11:00:29.308582Z"
    }
   },
   "outputs": [],
   "source": [
    "sample_weights1 = np.full(math.floor(len(labels)*(1-testsize)), 1)\n",
    "sample_weights2 = np.full(len(labels_gen), 0.4)\n",
    "sample_weights = np.concatenate((sample_weights1, sample_weights2))"
   ]
  },
  {
   "cell_type": "code",
   "execution_count": 21,
   "metadata": {
    "execution": {
     "iopub.execute_input": "2022-04-01T11:00:30.083493Z",
     "iopub.status.busy": "2022-04-01T11:00:30.083245Z",
     "iopub.status.idle": "2022-04-01T11:00:30.089234Z",
     "shell.execute_reply": "2022-04-01T11:00:30.08834Z",
     "shell.execute_reply.started": "2022-04-01T11:00:30.083466Z"
    }
   },
   "outputs": [
    {
     "data": {
      "text/plain": [
       "array([1. , 1. , 1. , ..., 0.4, 0.4, 0.4])"
      ]
     },
     "execution_count": 21,
     "metadata": {},
     "output_type": "execute_result"
    }
   ],
   "source": [
    "sample_weights"
   ]
  },
  {
   "cell_type": "markdown",
   "metadata": {},
   "source": [
    "# DenseNet"
   ]
  },
  {
   "cell_type": "code",
   "execution_count": null,
   "metadata": {
    "execution": {
     "iopub.execute_input": "2022-04-01T11:01:21.765598Z",
     "iopub.status.busy": "2022-04-01T11:01:21.765334Z",
     "iopub.status.idle": "2022-04-01T11:01:30.750437Z",
     "shell.execute_reply": "2022-04-01T11:01:30.749698Z",
     "shell.execute_reply.started": "2022-04-01T11:01:21.765567Z"
    },
    "id": "d2mRBkTBoig8",
    "outputId": "7aeee00a-bdff-41db-8473-6e04850605b5"
   },
   "outputs": [],
   "source": [
    "base_model = tf.keras.applications.DenseNet201(weights = 'imagenet', include_top = False, input_shape = (64,64,3))"
   ]
  },
  {
   "cell_type": "code",
   "execution_count": null,
   "metadata": {
    "execution": {
     "iopub.execute_input": "2022-04-01T11:01:30.752428Z",
     "iopub.status.busy": "2022-04-01T11:01:30.752182Z",
     "iopub.status.idle": "2022-04-01T11:01:30.776192Z",
     "shell.execute_reply": "2022-04-01T11:01:30.775577Z",
     "shell.execute_reply.started": "2022-04-01T11:01:30.752394Z"
    },
    "id": "rWSL-tt4qBRa"
   },
   "outputs": [],
   "source": [
    "x = layers.Flatten()(base_model.output)\n",
    "x = layers.Dense(1000, activation='relu')(x)\n",
    "predictions = layers.Dense(11, activation = 'softmax')(x)"
   ]
  },
  {
   "cell_type": "code",
   "execution_count": null,
   "metadata": {
    "execution": {
     "iopub.execute_input": "2022-04-01T11:01:30.77744Z",
     "iopub.status.busy": "2022-04-01T11:01:30.777196Z",
     "iopub.status.idle": "2022-04-01T11:01:30.826211Z",
     "shell.execute_reply": "2022-04-01T11:01:30.825568Z",
     "shell.execute_reply.started": "2022-04-01T11:01:30.777406Z"
    },
    "id": "s1sYr8cIt0nY"
   },
   "outputs": [],
   "source": [
    "head_model = Model(inputs = base_model.input, outputs = predictions)\n",
    "head_model.compile(optimizer='adam', loss=losses.sparse_categorical_crossentropy, metrics=['accuracy'])"
   ]
  },
  {
   "cell_type": "code",
   "execution_count": null,
   "metadata": {},
   "outputs": [],
   "source": [
    "for layer in head_model.layers[:-8]:\n",
    "    layer.trainable=False\n",
    "    \n",
    "for layer in head_model.layers[-8:]:\n",
    "    layer.trainable=True"
   ]
  },
  {
   "cell_type": "markdown",
   "metadata": {},
   "source": [
    "Callbacks"
   ]
  },
  {
   "cell_type": "code",
   "execution_count": null,
   "metadata": {
    "execution": {
     "iopub.execute_input": "2022-04-01T11:04:45.605703Z",
     "iopub.status.busy": "2022-04-01T11:04:45.605422Z",
     "iopub.status.idle": "2022-04-01T11:04:45.623602Z",
     "shell.execute_reply": "2022-04-01T11:04:45.622545Z",
     "shell.execute_reply.started": "2022-04-01T11:04:45.60567Z"
    }
   },
   "outputs": [],
   "source": [
    "anne = ReduceLROnPlateau(monitor='val_accuracy', factor=0.5, patience=5, verbose=1, min_lr=1e-4)\n",
    "if cenv == 0:\n",
    "    checkpoint = ModelCheckpoint('model.h5', verbose=1, save_best_only=True)\n",
    "if cenv == 1:\n",
    "    checkpoint = ModelCheckpoint(f'{new_dir}/model.h5', verbose=1, save_best_only=True)\n"
   ]
  },
  {
   "cell_type": "code",
   "execution_count": null,
   "metadata": {
    "execution": {
     "iopub.status.busy": "2022-04-01T11:04:33.853884Z",
     "iopub.status.idle": "2022-04-01T11:04:33.854653Z",
     "shell.execute_reply": "2022-04-01T11:04:33.854411Z",
     "shell.execute_reply.started": "2022-04-01T11:04:33.854385Z"
    }
   },
   "outputs": [],
   "source": [
    "history = head_model.fit(\n",
    "    X_train, \n",
    "    y_train,\n",
    "    batch_size=64, \n",
    "    epochs=epoch_t, \n",
    "    validation_data=(X_val, y_val),\n",
    "    sample_weight = sample_weights,\n",
    "    callbacks = [anne, checkpoint]) # EPOCHS WAS 40"
   ]
  },
  {
   "cell_type": "code",
   "execution_count": null,
   "metadata": {
    "execution": {
     "iopub.status.busy": "2022-04-01T10:32:43.719984Z",
     "iopub.status.idle": "2022-04-01T10:32:43.720871Z",
     "shell.execute_reply": "2022-04-01T10:32:43.720635Z",
     "shell.execute_reply.started": "2022-04-01T10:32:43.720611Z"
    },
    "id": "3b5bRktf4ydg",
    "outputId": "37f5eb06-7caa-4c5f-b6fd-9b5758a1f057"
   },
   "outputs": [],
   "source": [
    "scores = head_model.evaluate(X_test, y_test)\n",
    "print(f\"Overall CNN Accuracy: {scores[1]}\\n(The number of correct predictions divided by the number of total predictions)\")"
   ]
  },
  {
   "cell_type": "markdown",
   "metadata": {},
   "source": [
    "# Plots"
   ]
  },
  {
   "cell_type": "code",
   "execution_count": 158,
   "metadata": {
    "execution": {
     "iopub.status.busy": "2022-04-01T10:32:43.721929Z",
     "iopub.status.idle": "2022-04-01T10:32:43.722761Z",
     "shell.execute_reply": "2022-04-01T10:32:43.722529Z",
     "shell.execute_reply.started": "2022-04-01T10:32:43.722502Z"
    },
    "scrolled": true
   },
   "outputs": [],
   "source": [
    "multi_distribution_train = np.unique(y_train, return_counts=True)\n",
    "perc_train = (multi_distribution_train[1]/y_train.shape[0])*100"
   ]
  },
  {
   "cell_type": "code",
   "execution_count": 159,
   "metadata": {
    "execution": {
     "iopub.status.busy": "2022-04-01T10:32:43.721929Z",
     "iopub.status.idle": "2022-04-01T10:32:43.722761Z",
     "shell.execute_reply": "2022-04-01T10:32:43.722529Z",
     "shell.execute_reply.started": "2022-04-01T10:32:43.722502Z"
    },
    "scrolled": true
   },
   "outputs": [],
   "source": [
    "multi_distribution_test = np.unique(y_test, return_counts=True)\n",
    "perc_test = (multi_distribution_test[1]/y_test.shape[0])*100"
   ]
  },
  {
   "cell_type": "code",
   "execution_count": 167,
   "metadata": {},
   "outputs": [
    {
     "data": {
      "text/plain": [
       "array([ 8.89000502, 10.69814164,  3.13912607,  3.44048217,  2.56152687,\n",
       "        5.44952285,  3.64138624,  4.64590658,  2.81265696,  1.85836263,\n",
       "       52.86288297])"
      ]
     },
     "execution_count": 167,
     "metadata": {},
     "output_type": "execute_result"
    }
   ],
   "source": [
    "perc_test"
   ]
  },
  {
   "cell_type": "code",
   "execution_count": 160,
   "metadata": {
    "execution": {
     "iopub.status.busy": "2022-04-01T10:32:43.723891Z",
     "iopub.status.idle": "2022-04-01T10:32:43.724733Z",
     "shell.execute_reply": "2022-04-01T10:32:43.724498Z",
     "shell.execute_reply.started": "2022-04-01T10:32:43.724473Z"
    }
   },
   "outputs": [],
   "source": [
    "classes = batches.class_indices.keys()"
   ]
  },
  {
   "cell_type": "code",
   "execution_count": 184,
   "metadata": {},
   "outputs": [],
   "source": [
    "X_axis_mc = np.arange(len(list(classes)))"
   ]
  },
  {
   "cell_type": "code",
   "execution_count": 204,
   "metadata": {
    "execution": {
     "iopub.status.busy": "2022-04-01T10:32:43.725793Z",
     "iopub.status.idle": "2022-04-01T10:32:43.726644Z",
     "shell.execute_reply": "2022-04-01T10:32:43.726436Z",
     "shell.execute_reply.started": "2022-04-01T10:32:43.726411Z"
    },
    "scrolled": true
   },
   "outputs": [
    {
     "data": {
      "image/png": "[encoded data removed]",
      "text/plain": [
       "<Figure size 432x288 with 1 Axes>"
      ]
     },
     "metadata": {
      "needs_background": "light"
     },
     "output_type": "display_data"
    }
   ],
   "source": [
    "plt.bar(X_axis_mc - 0.2, perc_train, 0.4, label = 'Training')\n",
    "plt.bar(X_axis_mc + 0.2, perc_test, 0.4,label = 'Validation/Test')\n",
    "\n",
    "plt.xticks(rotation='vertical')\n",
    "\n",
    "plt.legend()\n",
    "plt.title('Distribution of the training and validation/test data')\n",
    "plt.xticks(X_axis_mc, list(classes))\n",
    "\n",
    "plt.ylabel('Dataset distribution in percentage (%)')\n",
    "if cenv == 0:\n",
    "    plt.savefig(\"multi_data_dist.png\", bbox_inches = 'tight', dpi = 150)\n",
    "if cenv == 1:\n",
    "    plt.savefig(f\"{new_dir}/multi_data_dist.png\", bbox_inches = 'tight', dpi = 150)"
   ]
  },
  {
   "cell_type": "code",
   "execution_count": 210,
   "metadata": {
    "execution": {
     "iopub.status.busy": "2022-04-01T10:32:43.727703Z",
     "iopub.status.idle": "2022-04-01T10:32:43.728516Z",
     "shell.execute_reply": "2022-04-01T10:32:43.728301Z",
     "shell.execute_reply.started": "2022-04-01T10:32:43.728277Z"
    }
   },
   "outputs": [],
   "source": [
    "def my_fmt(x):\n",
    "    return '{:.1f}%\\n({:.0f})'.format(x, total*x/100)\n",
    "total = X_train_size + X_test_size + X_val_size"
   ]
  },
  {
   "cell_type": "code",
   "execution_count": 211,
   "metadata": {
    "execution": {
     "iopub.status.busy": "2022-04-01T10:32:43.729631Z",
     "iopub.status.idle": "2022-04-01T10:32:43.730484Z",
     "shell.execute_reply": "2022-04-01T10:32:43.730268Z",
     "shell.execute_reply.started": "2022-04-01T10:32:43.730243Z"
    },
    "scrolled": true
   },
   "outputs": [
    {
     "data": {
      "image/png": "[encoded data removed]",
      "text/plain": [
       "<Figure size 432x288 with 1 Axes>"
      ]
     },
     "metadata": {},
     "output_type": "display_data"
    }
   ],
   "source": [
    "patches, texts, autotexts = plt.pie(\n",
    "    [labels.shape[0]*.7, labels_gen.shape[0], X_val_size, X_test_size], \n",
    "    labels = [\"\", \"Training\", \"Validation\", \"Test\"], \n",
    "    startangle=90, \n",
    "    counterclock=False, \n",
    "    autopct=my_fmt,\n",
    "    colors = ['cornflowerblue', 'darkorange', 'cornflowerblue'],\n",
    "    radius=1.2,\n",
    "    explode = (0,0,0.2,0.2)\n",
    ")\n",
    "plt.setp(texts[1], position = (1.8,-0.3))\n",
    "plt.setp(autotexts[2], size = 'x-small')\n",
    "plt.setp(autotexts[3], size = 'x-small')\n",
    "\n",
    "types = ['Original dataset', 'Generated dataset']\n",
    "plt.legend(labels = types, loc = 4, bbox_to_anchor=(1.5,0))\n",
    "\n",
    "\n",
    "plt.title(\"Training, validation, and test data distribution\", y = 1.15)\n",
    "\n",
    "if cenv == 0:\n",
    "    plt.savefig(\"train_test_dist.png\", bbox_inches = 'tight', dpi = 150)\n",
    "if cenv == 1:\n",
    "    plt.savefig(f\"{new_dir}/train_test_dist.png\", bbox_inches = 'tight', dpi = 150)"
   ]
  },
  {
   "cell_type": "code",
   "execution_count": null,
   "metadata": {
    "execution": {
     "iopub.status.busy": "2022-04-01T10:32:43.731574Z",
     "iopub.status.idle": "2022-04-01T10:32:43.7324Z",
     "shell.execute_reply": "2022-04-01T10:32:43.732184Z",
     "shell.execute_reply.started": "2022-04-01T10:32:43.73216Z"
    },
    "id": "yE3OUgo34v_C",
    "outputId": "fd989d09-d97f-478e-e768-0e2e739a17aa"
   },
   "outputs": [],
   "source": [
    "fig, axs = plt.subplots(2, 1, figsize=(15,15))\n",
    "\n",
    "axs[0].plot(history.history['loss'])\n",
    "axs[0].plot(history.history['val_loss'])\n",
    "axs[0].title.set_text('Training Loss vs Validation Loss')\n",
    "axs[0].set_xlabel('Epochs')\n",
    "axs[0].set_ylabel('Loss')\n",
    "axs[0].legend(['Train','Val'])\n",
    "\n",
    "axs[1].plot(history.history['accuracy'])\n",
    "axs[1].plot(history.history['val_accuracy'])\n",
    "axs[1].title.set_text('Training Accuracy vs Validation Accuracy')\n",
    "axs[1].set_xlabel('Epochs')\n",
    "axs[1].set_ylabel('Accuracy')\n",
    "axs[1].legend(['Train', 'Val'])\n",
    "\n",
    "if cenv == 0:\n",
    "    plt.savefig(\"performance_figure.png\", bbox_inches = 'tight')\n",
    "if cenv == 1:\n",
    "    plt.savefig(f\"{new_dir}/performance_figure.png\", bbox_inches = 'tight')"
   ]
  },
  {
   "cell_type": "markdown",
   "metadata": {},
   "source": [
    "# Analyse performance\n",
    "\n",
    "**Multiclass classification**"
   ]
  },
  {
   "cell_type": "code",
   "execution_count": null,
   "metadata": {
    "execution": {
     "iopub.status.busy": "2022-04-01T10:32:43.73352Z",
     "iopub.status.idle": "2022-04-01T10:32:43.734372Z",
     "shell.execute_reply": "2022-04-01T10:32:43.734156Z",
     "shell.execute_reply.started": "2022-04-01T10:32:43.734132Z"
    }
   },
   "outputs": [],
   "source": [
    "from sklearn import metrics\n",
    "import pandas as pd\n",
    "import seaborn as sns\n",
    "from sklearn.metrics import f1_score, matthews_corrcoef, accuracy_score\n",
    "from prettytable import PrettyTable, MSWORD_FRIENDLY"
   ]
  },
  {
   "cell_type": "markdown",
   "metadata": {},
   "source": [
    "Multiclass performance table"
   ]
  },
  {
   "cell_type": "code",
   "execution_count": null,
   "metadata": {
    "execution": {
     "iopub.status.busy": "2022-04-01T10:32:43.735498Z",
     "iopub.status.idle": "2022-04-01T10:32:43.736357Z",
     "shell.execute_reply": "2022-04-01T10:32:43.736137Z",
     "shell.execute_reply.started": "2022-04-01T10:32:43.736112Z"
    }
   },
   "outputs": [],
   "source": [
    "t = PrettyTable(['Metric', 'Performance'])\n",
    "t.add_row(['Valididation accuracy', round(scores[1],4)])\n",
    "t.add_row(['Validation loss', round(scores[0],4)])\n",
    "t.header = True\n",
    "t.align = \"l\"\n",
    "t.title = \"Perf. of multi-class classification - DenseNet\"\n",
    "print(t)"
   ]
  },
  {
   "cell_type": "code",
   "execution_count": null,
   "metadata": {
    "execution": {
     "iopub.status.busy": "2022-04-01T10:32:43.737478Z",
     "iopub.status.idle": "2022-04-01T10:32:43.738333Z",
     "shell.execute_reply": "2022-04-01T10:32:43.738116Z",
     "shell.execute_reply.started": "2022-04-01T10:32:43.738091Z"
    }
   },
   "outputs": [],
   "source": [
    "# Saving PrettyTable\n",
    "table = t.get_string()\n",
    "\n",
    "if cenv == 0:\n",
    "    with open('multi_performance_table.txt', 'w') as f:\n",
    "        f.write(table)\n",
    "if cenv == 1:\n",
    "    with open(f'{new_dir}/multi_performance_table.txt', 'w') as f:\n",
    "        f.write(table)"
   ]
  },
  {
   "cell_type": "code",
   "execution_count": null,
   "metadata": {
    "execution": {
     "iopub.status.busy": "2022-04-01T10:32:43.739405Z",
     "iopub.status.idle": "2022-04-01T10:32:43.740261Z",
     "shell.execute_reply": "2022-04-01T10:32:43.740025Z",
     "shell.execute_reply.started": "2022-04-01T10:32:43.740001Z"
    },
    "scrolled": true
   },
   "outputs": [],
   "source": [
    "y_pred = np.argmax(head_model.predict(X_test), axis=-1)"
   ]
  },
  {
   "cell_type": "code",
   "execution_count": null,
   "metadata": {
    "execution": {
     "iopub.status.busy": "2022-04-01T10:32:43.741375Z",
     "iopub.status.idle": "2022-04-01T10:32:43.742156Z",
     "shell.execute_reply": "2022-04-01T10:32:43.741949Z",
     "shell.execute_reply.started": "2022-04-01T10:32:43.741925Z"
    },
    "scrolled": true
   },
   "outputs": [],
   "source": [
    "y_pred"
   ]
  },
  {
   "cell_type": "code",
   "execution_count": null,
   "metadata": {
    "execution": {
     "iopub.status.busy": "2022-04-01T10:32:43.743305Z",
     "iopub.status.idle": "2022-04-01T10:32:43.743895Z",
     "shell.execute_reply": "2022-04-01T10:32:43.743658Z",
     "shell.execute_reply.started": "2022-04-01T10:32:43.743633Z"
    },
    "scrolled": true
   },
   "outputs": [],
   "source": [
    "y_test2 = y_test\n",
    "y_test2"
   ]
  },
  {
   "cell_type": "code",
   "execution_count": null,
   "metadata": {
    "execution": {
     "iopub.status.busy": "2022-04-01T10:32:43.745226Z",
     "iopub.status.idle": "2022-04-01T10:32:43.746062Z",
     "shell.execute_reply": "2022-04-01T10:32:43.745856Z",
     "shell.execute_reply.started": "2022-04-01T10:32:43.745832Z"
    },
    "scrolled": true
   },
   "outputs": [],
   "source": [
    "c_matrix = metrics.confusion_matrix(y_test2, y_pred)"
   ]
  },
  {
   "cell_type": "code",
   "execution_count": null,
   "metadata": {
    "execution": {
     "iopub.status.busy": "2022-04-01T10:32:43.747123Z",
     "iopub.status.idle": "2022-04-01T10:32:43.747992Z",
     "shell.execute_reply": "2022-04-01T10:32:43.747765Z",
     "shell.execute_reply.started": "2022-04-01T10:32:43.74774Z"
    },
    "scrolled": true
   },
   "outputs": [],
   "source": [
    "def confusion_matrix(confusion_matrix, class_names, figsize = (10,7), fontsize=14):\n",
    "   \n",
    "    df_cm = pd.DataFrame(\n",
    "        confusion_matrix, index=class_names, columns=class_names, \n",
    "    )\n",
    "    fig = plt.figure(figsize=figsize)\n",
    "    try:\n",
    "        heatmap = sns.heatmap(df_cm, annot=True, fmt=\"d\")\n",
    "    except ValueError:\n",
    "        raise ValueError(\"Confusion matrix values must be integers.\")\n",
    "    heatmap.yaxis.set_ticklabels(heatmap.yaxis.get_ticklabels(), rotation=0, ha='right', fontsize=fontsize)\n",
    "    heatmap.xaxis.set_ticklabels(heatmap.xaxis.get_ticklabels(), rotation=45, ha='right', fontsize=fontsize)\n",
    "    plt.ylabel('True label')\n",
    "    plt.xlabel('Predicted label')\n",
    "    plt.tight_layout()\n",
    "    if cenv == 0:\n",
    "        plt.savefig(\"multi_class_cmatrix.png\")\n",
    "    if cenv == 1:\n",
    "        plt.savefig(f\"{new_dir}/multi_class_cmatrix.png\")"
   ]
  },
  {
   "cell_type": "code",
   "execution_count": null,
   "metadata": {
    "execution": {
     "iopub.status.busy": "2022-04-01T10:32:43.749184Z",
     "iopub.status.idle": "2022-04-01T10:32:43.749992Z",
     "shell.execute_reply": "2022-04-01T10:32:43.749765Z",
     "shell.execute_reply.started": "2022-04-01T10:32:43.74974Z"
    },
    "scrolled": true
   },
   "outputs": [],
   "source": [
    "class_names= batches.class_indices.keys()\n",
    "confusion_matrix(c_matrix, class_names, figsize = (20,7), fontsize=14)"
   ]
  },
  {
   "cell_type": "markdown",
   "metadata": {},
   "source": [
    "**Binary classification**\n"
   ]
  },
  {
   "cell_type": "code",
   "execution_count": 46,
   "metadata": {
    "execution": {
     "iopub.status.busy": "2022-04-01T10:32:43.753022Z",
     "iopub.status.idle": "2022-04-01T10:32:43.753808Z",
     "shell.execute_reply": "2022-04-01T10:32:43.753582Z",
     "shell.execute_reply.started": "2022-04-01T10:32:43.753557Z"
    }
   },
   "outputs": [
    {
     "ename": "NameError",
     "evalue": "name 'y_test2' is not defined",
     "output_type": "error",
     "traceback": [
      "\u001b[1;31m---------------------------------------------------------------------------\u001b[0m",
      "\u001b[1;31mNameError\u001b[0m                                 Traceback (most recent call last)",
      "\u001b[1;32m~\\AppData\\Local\\Temp/ipykernel_13588/588709615.py\u001b[0m in \u001b[0;36m<module>\u001b[1;34m\u001b[0m\n\u001b[0;32m      1\u001b[0m \u001b[0my_predbin\u001b[0m \u001b[1;33m=\u001b[0m \u001b[1;33m[\u001b[0m\u001b[1;33m]\u001b[0m\u001b[1;33m\u001b[0m\u001b[1;33m\u001b[0m\u001b[0m\n\u001b[0;32m      2\u001b[0m \u001b[0my_truebin\u001b[0m \u001b[1;33m=\u001b[0m \u001b[1;33m[\u001b[0m\u001b[1;33m]\u001b[0m\u001b[1;33m\u001b[0m\u001b[1;33m\u001b[0m\u001b[0m\n\u001b[1;32m----> 3\u001b[1;33m \u001b[1;32mfor\u001b[0m \u001b[0mcount\u001b[0m\u001b[1;33m,\u001b[0m \u001b[0mvalue\u001b[0m \u001b[1;32min\u001b[0m \u001b[0menumerate\u001b[0m\u001b[1;33m(\u001b[0m\u001b[0my_test2\u001b[0m\u001b[1;33m)\u001b[0m\u001b[1;33m:\u001b[0m\u001b[1;33m\u001b[0m\u001b[1;33m\u001b[0m\u001b[0m\n\u001b[0m\u001b[0;32m      4\u001b[0m     \u001b[1;32mif\u001b[0m \u001b[0my_test2\u001b[0m\u001b[1;33m[\u001b[0m\u001b[0mcount\u001b[0m\u001b[1;33m]\u001b[0m \u001b[1;32min\u001b[0m \u001b[0mrange\u001b[0m\u001b[1;33m(\u001b[0m\u001b[1;36m10\u001b[0m\u001b[1;33m)\u001b[0m\u001b[1;33m:\u001b[0m \u001b[1;31m# range(10) is 0 to 9\u001b[0m\u001b[1;33m\u001b[0m\u001b[1;33m\u001b[0m\u001b[0m\n\u001b[0;32m      5\u001b[0m         \u001b[0my_truebin\u001b[0m\u001b[1;33m.\u001b[0m\u001b[0mappend\u001b[0m\u001b[1;33m(\u001b[0m\u001b[1;36m0\u001b[0m\u001b[1;33m)\u001b[0m\u001b[1;33m\u001b[0m\u001b[1;33m\u001b[0m\u001b[0m\n",
      "\u001b[1;31mNameError\u001b[0m: name 'y_test2' is not defined"
     ]
    }
   ],
   "source": [
    "y_predbin = [] \n",
    "y_truebin = []\n",
    "for count, value in enumerate(y_test2):\n",
    "    if y_test2[count] in range(10): # range(10) is 0 to 9\n",
    "        y_truebin.append(0)\n",
    "    else: y_truebin.append(1)\n",
    "    \n",
    "    if y_pred[count] in range(10):\n",
    "        y_predbin.append(0)\n",
    "    else: y_predbin.append(1)\n",
    "    \n",
    "    continue\n",
    "if len(y_truebin) == len(y_predbin):\n",
    "    print(f\"Length of the observations in test set: {len(y_truebin)}\")"
   ]
  },
  {
   "cell_type": "code",
   "execution_count": 180,
   "metadata": {
    "execution": {
     "iopub.status.busy": "2022-04-01T10:32:43.754989Z",
     "iopub.status.idle": "2022-04-01T10:32:43.755754Z",
     "shell.execute_reply": "2022-04-01T10:32:43.755541Z",
     "shell.execute_reply.started": "2022-04-01T10:32:43.755517Z"
    }
   },
   "outputs": [
    {
     "name": "stdout",
     "output_type": "stream",
     "text": [
      "Ransomware Occurences: 48757, Benign Occurences: 9826\n"
     ]
    }
   ],
   "source": [
    "rw_count_train= 0\n",
    "bn_count_train = 0\n",
    "for count, value in enumerate(multi_distribution_train[1]):\n",
    "    if count in range(10):\n",
    "        rw_count_train = rw_count_train + multi_distribution_train[1][count]\n",
    "    else: \n",
    "        bn_count_train = bn_count_train + multi_distribution_train[1][count]\n",
    "print(f\"Ransomware Occurences: {rw_count_train}, Benign Occurences: {bn_count_train}\")"
   ]
  },
  {
   "cell_type": "code",
   "execution_count": 186,
   "metadata": {},
   "outputs": [
    {
     "name": "stdout",
     "output_type": "stream",
     "text": [
      "Ransomware Occurences: 1877, Benign Occurences: 2105\n"
     ]
    }
   ],
   "source": [
    "rw_count_test= 0\n",
    "bn_count_test = 0\n",
    "for count, value in enumerate(multi_distribution_test[1]):\n",
    "    if count in range(10):\n",
    "        rw_count_test = rw_count_test + multi_distribution_test[1][count]\n",
    "    else: \n",
    "        bn_count_test = bn_count_test + multi_distribution_test[1][count]\n",
    "print(f\"Ransomware Occurences: {rw_count_test}, Benign Occurences: {bn_count_test}\")"
   ]
  },
  {
   "cell_type": "code",
   "execution_count": 202,
   "metadata": {},
   "outputs": [],
   "source": [
    "rw_perc_train = rw_count_train / (rw_count_train + bn_count_train) * 100\n",
    "bn_perc_train = bn_count_train / (rw_count_train + bn_count_train) * 100\n",
    "\n",
    "rw_perc_test = rw_count_test / (rw_count_test + bn_count_test) * 100\n",
    "bn_perc_test = bn_count_test / (rw_count_test + bn_count_test) * 100"
   ]
  },
  {
   "cell_type": "code",
   "execution_count": 205,
   "metadata": {
    "execution": {
     "iopub.status.busy": "2022-04-01T10:32:43.756957Z",
     "iopub.status.idle": "2022-04-01T10:32:43.757721Z",
     "shell.execute_reply": "2022-04-01T10:32:43.757491Z",
     "shell.execute_reply.started": "2022-04-01T10:32:43.757465Z"
    }
   },
   "outputs": [
    {
     "data": {
      "image/png": "[encoded data removed]",
      "text/plain": [
       "<Figure size 432x288 with 1 Axes>"
      ]
     },
     "metadata": {
      "needs_background": "light"
     },
     "output_type": "display_data"
    }
   ],
   "source": [
    "X_axis_bc = np.arange(2)\n",
    "\n",
    "plt.bar(X_axis_bc - 0.2, [rw_perc_train, bn_perc_train], 0.4, label = 'Training')\n",
    "plt.bar(X_axis_bc + 0.2, [rw_perc_test, bn_perc_test], 0.4, label = 'Validation/Test')\n",
    "\n",
    "plt.xticks(rotation='horizontal')\n",
    "\n",
    "plt.legend()\n",
    "plt.title('Distribution of the training and validation/test data')\n",
    "plt.xticks(X_axis_bc, ['Ransomware', 'Benign'])\n",
    "\n",
    "plt.ylabel('Dataset distribution in percentage (%)')\n",
    "\n",
    "if cenv == 0:\n",
    "    plt.savefig(\"data_dist.png\", bbox_inches = 'tight', dpi = 150)\n",
    "if cenv == 1:\n",
    "    plt.savefig(f\"{new_dir}/bin_data_dist.png\", bbox_inches = 'tight', dpi = 150)"
   ]
  },
  {
   "cell_type": "code",
   "execution_count": null,
   "metadata": {
    "execution": {
     "iopub.status.busy": "2022-04-01T10:32:43.758854Z",
     "iopub.status.idle": "2022-04-01T10:32:43.759756Z",
     "shell.execute_reply": "2022-04-01T10:32:43.759533Z",
     "shell.execute_reply.started": "2022-04-01T10:32:43.759508Z"
    }
   },
   "outputs": [],
   "source": [
    "c_matrix_bin = metrics.confusion_matrix(y_truebin, y_predbin)"
   ]
  },
  {
   "cell_type": "code",
   "execution_count": null,
   "metadata": {
    "execution": {
     "iopub.status.busy": "2022-04-01T10:32:43.760933Z",
     "iopub.status.idle": "2022-04-01T10:32:43.761751Z",
     "shell.execute_reply": "2022-04-01T10:32:43.761526Z",
     "shell.execute_reply.started": "2022-04-01T10:32:43.761502Z"
    }
   },
   "outputs": [],
   "source": [
    "def confusion_matrix_bin(confusion_matrix, class_names_bin, figsize = (5,2), fontsize=7):\n",
    "   \n",
    "    df_cm = pd.DataFrame(\n",
    "        confusion_matrix, index=class_names_bin, columns=class_names_bin, \n",
    "    )\n",
    "    fig = plt.figure(figsize=figsize)\n",
    "    try:\n",
    "        heatmap = sns.heatmap(df_cm, annot=True, fmt=\"d\")\n",
    "    except ValueError:\n",
    "        raise ValueError(\"Confusion matrix values must be integers.\")\n",
    "    heatmap.yaxis.set_ticklabels(heatmap.yaxis.get_ticklabels(), rotation=0, ha='right', fontsize=fontsize)\n",
    "    heatmap.xaxis.set_ticklabels(heatmap.xaxis.get_ticklabels(), rotation=45, ha='right', fontsize=fontsize)\n",
    "    plt.ylabel('True label')\n",
    "    plt.xlabel('Predicted label')\n",
    "    plt.title(\"DenseNet121\")\n",
    "    if cenv == 0:\n",
    "        plt.savefig(\"bin_class_cmatrix.png\", bbox_inches = 'tight')\n",
    "    if cenv == 1:\n",
    "        plt.savefig(f\"{new_dir}/bin_class_cmatrix.png\", bbox_inches = 'tight')"
   ]
  },
  {
   "cell_type": "code",
   "execution_count": null,
   "metadata": {
    "execution": {
     "iopub.status.busy": "2022-04-01T10:32:43.76288Z",
     "iopub.status.idle": "2022-04-01T10:32:43.763712Z",
     "shell.execute_reply": "2022-04-01T10:32:43.763493Z",
     "shell.execute_reply.started": "2022-04-01T10:32:43.763469Z"
    }
   },
   "outputs": [],
   "source": [
    "class_names_bin= (\"ransomware\", \"benign\")\n",
    "confusion_matrix_bin(c_matrix_bin, class_names_bin, figsize = (5,2), fontsize=10)"
   ]
  },
  {
   "cell_type": "markdown",
   "metadata": {},
   "source": [
    "**True Positive Rate**"
   ]
  },
  {
   "cell_type": "code",
   "execution_count": null,
   "metadata": {
    "execution": {
     "iopub.status.busy": "2022-04-01T10:32:43.764776Z",
     "iopub.status.idle": "2022-04-01T10:32:43.765554Z",
     "shell.execute_reply": "2022-04-01T10:32:43.765337Z",
     "shell.execute_reply.started": "2022-04-01T10:32:43.765312Z"
    }
   },
   "outputs": [],
   "source": [
    "TPR = c_matrix_bin[0,0]/(c_matrix_bin[0,0] + c_matrix_bin[0,1]) #True Positive Rate"
   ]
  },
  {
   "cell_type": "markdown",
   "metadata": {},
   "source": [
    "**Accuracy**"
   ]
  },
  {
   "cell_type": "code",
   "execution_count": null,
   "metadata": {
    "execution": {
     "iopub.status.busy": "2022-04-01T10:32:43.766783Z",
     "iopub.status.idle": "2022-04-01T10:32:43.767613Z",
     "shell.execute_reply": "2022-04-01T10:32:43.767393Z",
     "shell.execute_reply.started": "2022-04-01T10:32:43.767368Z"
    }
   },
   "outputs": [],
   "source": [
    "ACC = accuracy_score(y_truebin, y_predbin) # Accuracy"
   ]
  },
  {
   "cell_type": "markdown",
   "metadata": {},
   "source": [
    "**F1 Score**"
   ]
  },
  {
   "cell_type": "code",
   "execution_count": null,
   "metadata": {
    "execution": {
     "iopub.status.busy": "2022-04-01T10:32:43.768728Z",
     "iopub.status.idle": "2022-04-01T10:32:43.769525Z",
     "shell.execute_reply": "2022-04-01T10:32:43.769307Z",
     "shell.execute_reply.started": "2022-04-01T10:32:43.769282Z"
    }
   },
   "outputs": [],
   "source": [
    "F1 = f1_score(y_truebin, y_predbin, labels=0) # F1 Score"
   ]
  },
  {
   "cell_type": "markdown",
   "metadata": {},
   "source": [
    "**Matthews Correlation Coefficient**"
   ]
  },
  {
   "cell_type": "code",
   "execution_count": null,
   "metadata": {
    "execution": {
     "iopub.status.busy": "2022-04-01T10:32:43.770675Z",
     "iopub.status.idle": "2022-04-01T10:32:43.771511Z",
     "shell.execute_reply": "2022-04-01T10:32:43.771298Z",
     "shell.execute_reply.started": "2022-04-01T10:32:43.771273Z"
    }
   },
   "outputs": [],
   "source": [
    "MCC = matthews_corrcoef(y_truebin, y_predbin) # Matthews Correlation Coefficient"
   ]
  },
  {
   "cell_type": "code",
   "execution_count": null,
   "metadata": {
    "execution": {
     "iopub.status.busy": "2022-04-01T10:32:43.772637Z",
     "iopub.status.idle": "2022-04-01T10:32:43.773467Z",
     "shell.execute_reply": "2022-04-01T10:32:43.773258Z",
     "shell.execute_reply.started": "2022-04-01T10:32:43.773233Z"
    },
    "scrolled": true
   },
   "outputs": [],
   "source": [
    "t = PrettyTable(['Metric', 'Performance'])\n",
    "t.add_row(['True Positive Rate', round(TPR,4)])\n",
    "t.add_row(['Accuracy', round(ACC,4)])\n",
    "t.add_row(['F1 Score', round(F1,4)])\n",
    "t.add_row(['Matthews Correlation Coefficient', round(MCC,4)])\n",
    "t.header = True\n",
    "t.align = \"l\"\n",
    "t.title = \"Performance of DenseNet\"\n",
    "print(t)"
   ]
  },
  {
   "cell_type": "code",
   "execution_count": null,
   "metadata": {
    "execution": {
     "iopub.status.busy": "2022-04-01T10:32:43.774583Z",
     "iopub.status.idle": "2022-04-01T10:32:43.775424Z",
     "shell.execute_reply": "2022-04-01T10:32:43.775209Z",
     "shell.execute_reply.started": "2022-04-01T10:32:43.775179Z"
    }
   },
   "outputs": [],
   "source": [
    "# Saving PrettyTable\n",
    "table = t.get_string()\n",
    "\n",
    "if cenv == 0:\n",
    "    with open('bin_performance_table.txt', 'w') as f:\n",
    "        f.write(table)\n",
    "if cenv == 1:\n",
    "    with open(f'{new_dir}/bin_performance_table.txt', 'w') as f:\n",
    "        f.write(table)"
   ]
  }
 ],
 "metadata": {
  "kernelspec": {
   "display_name": "Python 3 (ipykernel)",
   "language": "python",
   "name": "python3"
  },
  "language_info": {
   "codemirror_mode": {
    "name": "ipython",
    "version": 3
   },
   "file_extension": ".py",
   "mimetype": "text/x-python",
   "name": "python",
   "nbconvert_exporter": "python",
   "pygments_lexer": "ipython3",
   "version": "3.8.5"
  }
 },
 "nbformat": 4,
 "nbformat_minor": 4
}
