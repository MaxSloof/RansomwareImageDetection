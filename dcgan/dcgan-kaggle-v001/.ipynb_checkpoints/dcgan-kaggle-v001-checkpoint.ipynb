{
 "cells": [
  {
   "cell_type": "markdown",
   "id": "bfd00ee5",
   "metadata": {
    "id": "Yqp2aX78LtH0",
    "papermill": {
     "duration": 0.062167,
     "end_time": "2022-03-21T14:00:22.394675",
     "exception": false,
     "start_time": "2022-03-21T14:00:22.332508",
     "status": "completed"
    },
    "tags": []
   },
   "source": [
    "\n",
    "\n",
    "```\n",
    "# Dit is opgemaakt als code\n",
    "```\n",
    "\n",
    "# DCGAN to generate grayscale images\n"
   ]
  },
  {
   "cell_type": "markdown",
   "id": "239c1264",
   "metadata": {},
   "source": [
    "**OVERVIEW**\n",
    "\n",
    "This model uses the parameters as in the 'CHANGE' box + *LeakyReLU* as activation layer in both the gen. and disc. "
   ]
  },
  {
   "cell_type": "markdown",
   "id": "e085f0c1",
   "metadata": {
    "id": "MQ6hXbgPLtH2",
    "papermill": {
     "duration": 0.053635,
     "end_time": "2022-03-21T14:00:22.502976",
     "exception": false,
     "start_time": "2022-03-21T14:00:22.449341",
     "status": "completed"
    },
    "tags": []
   },
   "source": [
    "## Setup"
   ]
  },
  {
   "cell_type": "code",
   "execution_count": 1,
   "id": "89b29254",
   "metadata": {
    "execution": {
     "iopub.execute_input": "2022-03-21T14:00:22.617398Z",
     "iopub.status.busy": "2022-03-21T14:00:22.615903Z",
     "iopub.status.idle": "2022-03-21T14:00:28.388927Z",
     "shell.execute_reply": "2022-03-21T14:00:28.389416Z",
     "shell.execute_reply.started": "2022-03-21T13:56:02.578589Z"
    },
    "id": "waMV_df_LtH3",
    "papermill": {
     "duration": 5.831971,
     "end_time": "2022-03-21T14:00:28.389785",
     "exception": false,
     "start_time": "2022-03-21T14:00:22.557814",
     "status": "completed"
    },
    "tags": []
   },
   "outputs": [],
   "source": [
    "import tensorflow as tf\n",
    "from tensorflow import keras\n",
    "from tensorflow.keras import layers\n",
    "import numpy as np\n",
    "import matplotlib.pyplot as plt\n",
    "import os\n",
    "import time\n",
    "import cv2\n",
    "import random as rd\n",
    "import PIL"
   ]
  },
  {
   "cell_type": "markdown",
   "id": "36310d94",
   "metadata": {
    "papermill": {
     "duration": 0.033046,
     "end_time": "2022-03-21T14:00:28.458293",
     "exception": false,
     "start_time": "2022-03-21T14:00:28.425247",
     "status": "completed"
    },
    "tags": []
   },
   "source": [
    "# CHANGE"
   ]
  },
  {
   "cell_type": "markdown",
   "id": "e1de2cf7",
   "metadata": {
    "papermill": {
     "duration": 0.032808,
     "end_time": "2022-03-21T14:00:28.524357",
     "exception": false,
     "start_time": "2022-03-21T14:00:28.491549",
     "status": "completed"
    },
    "tags": []
   },
   "source": [
    "_____________________________________________________________________"
   ]
  },
  {
   "cell_type": "code",
   "execution_count": 2,
   "id": "c1cf83dc",
   "metadata": {
    "execution": {
     "iopub.execute_input": "2022-03-21T14:00:28.596836Z",
     "iopub.status.busy": "2022-03-21T14:00:28.595988Z",
     "iopub.status.idle": "2022-03-21T14:00:28.599510Z",
     "shell.execute_reply": "2022-03-21T14:00:28.599907Z",
     "shell.execute_reply.started": "2022-03-21T13:56:09.659739Z"
    },
    "id": "nXzDemd6yFMN",
    "papermill": {
     "duration": 0.041983,
     "end_time": "2022-03-21T14:00:28.600035",
     "exception": false,
     "start_time": "2022-03-21T14:00:28.558052",
     "status": "completed"
    },
    "tags": []
   },
   "outputs": [
    {
     "name": "stdout",
     "output_type": "stream",
     "text": [
      "Are you going to use TPU?\n"
     ]
    }
   ],
   "source": [
    "# Image size (height x width)\n",
    "ih = 64\n",
    "iw = 64\n",
    "\n",
    "# Grayscale or RGB\n",
    "ch = 'grayscale'\n",
    "\n",
    "# Layer adapt\n",
    "ksize = 4 # Kernel size : was '4' for 64x64 image\n",
    "ssize = 2 # Stride size : was '2' for 64x64 image\n",
    "\n",
    "# Batch size\n",
    "batch_size = 32\n",
    "\n",
    "# TPU\n",
    "print('Are you going to use TPU?')\n",
    "use_tpu = 'n'"
   ]
  },
  {
   "cell_type": "markdown",
   "id": "77dbebd0",
   "metadata": {
    "papermill": {
     "duration": 0.033736,
     "end_time": "2022-03-21T14:00:28.668861",
     "exception": false,
     "start_time": "2022-03-21T14:00:28.635125",
     "status": "completed"
    },
    "tags": []
   },
   "source": [
    "_____________________________________________________________________"
   ]
  },
  {
   "cell_type": "markdown",
   "id": "d6b279c2",
   "metadata": {
    "papermill": {
     "duration": 0.033563,
     "end_time": "2022-03-21T14:00:28.736088",
     "exception": false,
     "start_time": "2022-03-21T14:00:28.702525",
     "status": "completed"
    },
    "tags": []
   },
   "source": [
    "**TPU Setup (Optional & Automatic)**"
   ]
  },
  {
   "cell_type": "code",
   "execution_count": 3,
   "id": "57b32d2b",
   "metadata": {
    "execution": {
     "iopub.execute_input": "2022-03-21T14:00:28.809764Z",
     "iopub.status.busy": "2022-03-21T14:00:28.808995Z",
     "iopub.status.idle": "2022-03-21T14:00:28.810921Z",
     "shell.execute_reply": "2022-03-21T14:00:28.811283Z",
     "shell.execute_reply.started": "2022-03-21T13:56:09.671983Z"
    },
    "papermill": {
     "duration": 0.041447,
     "end_time": "2022-03-21T14:00:28.811404",
     "exception": false,
     "start_time": "2022-03-21T14:00:28.769957",
     "status": "completed"
    },
    "tags": []
   },
   "outputs": [],
   "source": [
    "if(use_tpu == 'y' or use_tpu == 'Y'):\n",
    "    # Detect and init. TPUs\n",
    "    tpu = tf.distribute.cluster_resolver.TPUClusterResolver.connect()\n",
    "\n",
    "    # Initialize distributed TPU strategy\n",
    "    tpu_strategy = tf.distribute.experimental.TPUStrategy(tpu)"
   ]
  },
  {
   "cell_type": "code",
   "execution_count": 4,
   "id": "506c9ed3",
   "metadata": {
    "execution": {
     "iopub.execute_input": "2022-03-21T14:00:28.881441Z",
     "iopub.status.busy": "2022-03-21T14:00:28.880682Z",
     "iopub.status.idle": "2022-03-21T14:00:28.885622Z",
     "shell.execute_reply": "2022-03-21T14:00:28.886050Z",
     "shell.execute_reply.started": "2022-03-21T13:56:09.693935Z"
    },
    "id": "DW2D1egMb3z7",
    "outputId": "ba862c51-f373-4976-95cb-7dbeca8bae8e",
    "papermill": {
     "duration": 0.041042,
     "end_time": "2022-03-21T14:00:28.886176",
     "exception": false,
     "start_time": "2022-03-21T14:00:28.845134",
     "status": "completed"
    },
    "tags": []
   },
   "outputs": [
    {
     "name": "stdout",
     "output_type": "stream",
     "text": [
      "Tensorflow version 2.6.2\n"
     ]
    }
   ],
   "source": [
    "print(\"Tensorflow version \" + tf.__version__)"
   ]
  },
  {
   "cell_type": "code",
   "execution_count": 5,
   "id": "44f7c6f6",
   "metadata": {
    "execution": {
     "iopub.execute_input": "2022-03-21T14:00:28.959104Z",
     "iopub.status.busy": "2022-03-21T14:00:28.958408Z",
     "iopub.status.idle": "2022-03-21T14:00:28.961150Z",
     "shell.execute_reply": "2022-03-21T14:00:28.961645Z",
     "shell.execute_reply.started": "2022-03-21T13:56:09.706760Z"
    },
    "papermill": {
     "duration": 0.041666,
     "end_time": "2022-03-21T14:00:28.961763",
     "exception": false,
     "start_time": "2022-03-21T14:00:28.920097",
     "status": "completed"
    },
    "tags": []
   },
   "outputs": [
    {
     "name": "stdout",
     "output_type": "stream",
     "text": [
      "Path for checkpoints has been created!\n"
     ]
    }
   ],
   "source": [
    "try: \n",
    "    os.mkdir(\"/kaggle/working/checkpoints\")\n",
    "    print(\"Path for checkpoints has been created!\")\n",
    "except:\n",
    "    print(\"Path already exists\")"
   ]
  },
  {
   "cell_type": "code",
   "execution_count": 6,
   "id": "6644b9c7",
   "metadata": {
    "execution": {
     "iopub.execute_input": "2022-03-21T14:00:29.035477Z",
     "iopub.status.busy": "2022-03-21T14:00:29.034890Z",
     "iopub.status.idle": "2022-03-21T14:00:29.037456Z",
     "shell.execute_reply": "2022-03-21T14:00:29.038056Z",
     "shell.execute_reply.started": "2022-03-21T13:56:09.719945Z"
    },
    "papermill": {
     "duration": 0.04183,
     "end_time": "2022-03-21T14:00:29.038213",
     "exception": false,
     "start_time": "2022-03-21T14:00:28.996383",
     "status": "completed"
    },
    "tags": []
   },
   "outputs": [
    {
     "name": "stdout",
     "output_type": "stream",
     "text": [
      "Path for generated images has been created!\n"
     ]
    }
   ],
   "source": [
    "try:\n",
    "    os.mkdir(\"/kaggle/working/generated_images\")\n",
    "    print(\"Path for generated images has been created!\")\n",
    "except:\n",
    "    print(\"Path already exists\")"
   ]
  },
  {
   "cell_type": "markdown",
   "id": "c77007b0",
   "metadata": {
    "id": "uOZNby3TLtH4",
    "papermill": {
     "duration": 0.034789,
     "end_time": "2022-03-21T14:00:29.108785",
     "exception": false,
     "start_time": "2022-03-21T14:00:29.073996",
     "status": "completed"
    },
    "tags": []
   },
   "source": [
    "## Prepare CelebA data\n",
    "\n",
    "We'll use face images from the CelebA dataset, resized to 64x64."
   ]
  },
  {
   "cell_type": "code",
   "execution_count": 7,
   "id": "ce8ee1ce",
   "metadata": {
    "execution": {
     "iopub.execute_input": "2022-03-21T14:00:29.182537Z",
     "iopub.status.busy": "2022-03-21T14:00:29.181789Z",
     "iopub.status.idle": "2022-03-21T14:00:29.183920Z",
     "shell.execute_reply": "2022-03-21T14:00:29.184279Z",
     "shell.execute_reply.started": "2022-03-21T13:56:09.730825Z"
    },
    "papermill": {
     "duration": 0.040438,
     "end_time": "2022-03-21T14:00:29.184393",
     "exception": false,
     "start_time": "2022-03-21T14:00:29.143955",
     "status": "completed"
    },
    "tags": []
   },
   "outputs": [],
   "source": [
    "# Overwrite if TPU is used\n",
    "if use_tpu == 'y' or use_tpu == 'Y':\n",
    "    batch_size = 16 * tpu_strategy.num_replicas_in_sync"
   ]
  },
  {
   "cell_type": "code",
   "execution_count": 8,
   "id": "a244aa54",
   "metadata": {
    "execution": {
     "iopub.execute_input": "2022-03-21T14:00:29.259780Z",
     "iopub.status.busy": "2022-03-21T14:00:29.259125Z",
     "iopub.status.idle": "2022-03-21T14:00:29.261703Z",
     "shell.execute_reply": "2022-03-21T14:00:29.261267Z",
     "shell.execute_reply.started": "2022-03-21T13:56:09.743404Z"
    },
    "id": "4H4AwAFpLtH4",
    "papermill": {
     "duration": 0.042707,
     "end_time": "2022-03-21T14:00:29.261810",
     "exception": false,
     "start_time": "2022-03-21T14:00:29.219103",
     "status": "completed"
    },
    "tags": []
   },
   "outputs": [],
   "source": [
    "if use_tpu == 'y' or use_tpu == 'Y': \n",
    "    # Step 1: Get the credentail from the Cloud SDK\n",
    "    from kaggle_secrets import UserSecretsClient\n",
    "    user_secrets = UserSecretsClient()\n",
    "    user_credential = user_secrets.get_gcloud_credential()\n",
    "    user_secrets.set_tensorflow_credential(user_credential)\n",
    "\n",
    "    # Step 3: Use a familiar call to get the GCS path of the dataset\n",
    "    !gcloud config set project 'solid-topic-344315'\n",
    "    \n",
    "    GCS_DS_PATH = 'gs://thesis_data_max/classified_data'\n",
    "    \n",
    "\n",
    "    \n",
    "else: path_root = '/kaggle/input/thesis-data'"
   ]
  },
  {
   "cell_type": "code",
   "execution_count": 9,
   "id": "761d2b74",
   "metadata": {
    "execution": {
     "iopub.execute_input": "2022-03-21T14:00:29.336771Z",
     "iopub.status.busy": "2022-03-21T14:00:29.335947Z",
     "iopub.status.idle": "2022-03-21T14:00:35.618508Z",
     "shell.execute_reply": "2022-03-21T14:00:35.617576Z",
     "shell.execute_reply.started": "2022-03-21T13:56:09.757709Z"
    },
    "papermill": {
     "duration": 6.321761,
     "end_time": "2022-03-21T14:00:35.618675",
     "exception": false,
     "start_time": "2022-03-21T14:00:29.296914",
     "status": "completed"
    },
    "tags": []
   },
   "outputs": [
    {
     "name": "stdout",
     "output_type": "stream",
     "text": [
      "ServiceException: 401 Anonymous caller does not have storage.objects.get access to the Google Cloud Storage object.\r\n"
     ]
    }
   ],
   "source": [
    "!gsutil ls gs://thesis_data_max/classified_data"
   ]
  },
  {
   "cell_type": "markdown",
   "id": "e897dd02",
   "metadata": {
    "id": "JP_TdOVnLtH5",
    "papermill": {
     "duration": 0.035273,
     "end_time": "2022-03-21T14:00:35.689872",
     "exception": false,
     "start_time": "2022-03-21T14:00:35.654599",
     "status": "completed"
    },
    "tags": []
   },
   "source": [
    "Create a dataset from our folder, and rescale the images to the [0-1] range:"
   ]
  },
  {
   "cell_type": "code",
   "execution_count": 10,
   "id": "59a57649",
   "metadata": {
    "execution": {
     "iopub.execute_input": "2022-03-21T14:00:35.765588Z",
     "iopub.status.busy": "2022-03-21T14:00:35.764836Z",
     "iopub.status.idle": "2022-03-21T14:00:35.767239Z",
     "shell.execute_reply": "2022-03-21T14:00:35.766751Z",
     "shell.execute_reply.started": "2022-03-21T13:56:16.043510Z"
    },
    "papermill": {
     "duration": 0.042517,
     "end_time": "2022-03-21T14:00:35.767341",
     "exception": false,
     "start_time": "2022-03-21T14:00:35.724824",
     "status": "completed"
    },
    "tags": []
   },
   "outputs": [],
   "source": [
    "im_si = (ih, iw)\n",
    "\n",
    "if(ch == 'rgb'):\n",
    "    chnum = 3\n",
    "elif(ch == 'grayscale'):\n",
    "    chnum = 1\n"
   ]
  },
  {
   "cell_type": "code",
   "execution_count": 11,
   "id": "7c0647ba",
   "metadata": {
    "execution": {
     "iopub.execute_input": "2022-03-21T14:00:35.843458Z",
     "iopub.status.busy": "2022-03-21T14:00:35.842689Z",
     "iopub.status.idle": "2022-03-21T14:01:08.964660Z",
     "shell.execute_reply": "2022-03-21T14:01:08.965291Z",
     "shell.execute_reply.started": "2022-03-21T13:56:16.054759Z"
    },
    "id": "WH5fIdgBnZE5",
    "outputId": "2957b61c-4951-407c-a889-77ed834b57a8",
    "papermill": {
     "duration": 33.163071,
     "end_time": "2022-03-21T14:01:08.965515",
     "exception": false,
     "start_time": "2022-03-21T14:00:35.802444",
     "status": "completed"
    },
    "tags": []
   },
   "outputs": [
    {
     "name": "stdout",
     "output_type": "stream",
     "text": [
      "Found 26548 files belonging to 1 classes.\n"
     ]
    },
    {
     "name": "stderr",
     "output_type": "stream",
     "text": [
      "2022-03-21 14:01:06.424559: I tensorflow/stream_executor/cuda/cuda_gpu_executor.cc:937] successful NUMA node read from SysFS had negative value (-1), but there must be at least one NUMA node, so returning NUMA node zero\n",
      "2022-03-21 14:01:06.519911: I tensorflow/stream_executor/cuda/cuda_gpu_executor.cc:937] successful NUMA node read from SysFS had negative value (-1), but there must be at least one NUMA node, so returning NUMA node zero\n",
      "2022-03-21 14:01:06.520676: I tensorflow/stream_executor/cuda/cuda_gpu_executor.cc:937] successful NUMA node read from SysFS had negative value (-1), but there must be at least one NUMA node, so returning NUMA node zero\n",
      "2022-03-21 14:01:06.525073: I tensorflow/core/platform/cpu_feature_guard.cc:142] This TensorFlow binary is optimized with oneAPI Deep Neural Network Library (oneDNN) to use the following CPU instructions in performance-critical operations:  AVX2 AVX512F FMA\n",
      "To enable them in other operations, rebuild TensorFlow with the appropriate compiler flags.\n",
      "2022-03-21 14:01:06.526150: I tensorflow/stream_executor/cuda/cuda_gpu_executor.cc:937] successful NUMA node read from SysFS had negative value (-1), but there must be at least one NUMA node, so returning NUMA node zero\n",
      "2022-03-21 14:01:06.527161: I tensorflow/stream_executor/cuda/cuda_gpu_executor.cc:937] successful NUMA node read from SysFS had negative value (-1), but there must be at least one NUMA node, so returning NUMA node zero\n",
      "2022-03-21 14:01:06.528113: I tensorflow/stream_executor/cuda/cuda_gpu_executor.cc:937] successful NUMA node read from SysFS had negative value (-1), but there must be at least one NUMA node, so returning NUMA node zero\n",
      "2022-03-21 14:01:08.576719: I tensorflow/stream_executor/cuda/cuda_gpu_executor.cc:937] successful NUMA node read from SysFS had negative value (-1), but there must be at least one NUMA node, so returning NUMA node zero\n",
      "2022-03-21 14:01:08.577462: I tensorflow/stream_executor/cuda/cuda_gpu_executor.cc:937] successful NUMA node read from SysFS had negative value (-1), but there must be at least one NUMA node, so returning NUMA node zero\n",
      "2022-03-21 14:01:08.578131: I tensorflow/stream_executor/cuda/cuda_gpu_executor.cc:937] successful NUMA node read from SysFS had negative value (-1), but there must be at least one NUMA node, so returning NUMA node zero\n",
      "2022-03-21 14:01:08.578763: I tensorflow/core/common_runtime/gpu/gpu_device.cc:1510] Created device /job:localhost/replica:0/task:0/device:GPU:0 with 15403 MB memory:  -> device: 0, name: Tesla P100-PCIE-16GB, pci bus id: 0000:00:04.0, compute capability: 6.0\n"
     ]
    }
   ],
   "source": [
    "if (use_tpu == 'y' or use_tpu == 'Y'):\n",
    "    dataset = tf.keras.preprocessing.image_dataset_from_directory(\n",
    "        GCS_DS_PATH, \n",
    "        label_mode = None,\n",
    "        color_mode = ch,\n",
    "        image_size = im_si,\n",
    "        interpolation='bicubic',\n",
    "        batch_size = batch_size\n",
    ")\n",
    "    \n",
    "if (use_tpu == 'n' or use_tpu == 'N'):\n",
    "    dataset = tf.keras.preprocessing.image_dataset_from_directory(\n",
    "        path_root, \n",
    "        label_mode = None,\n",
    "        color_mode = ch,\n",
    "        image_size = im_si,\n",
    "        interpolation='bicubic',\n",
    "        batch_size = batch_size\n",
    "    )\n",
    "\n",
    "dataset = dataset.map(lambda x : x / 255.0)"
   ]
  },
  {
   "cell_type": "markdown",
   "id": "6c4da514",
   "metadata": {
    "id": "bk2Y9PcvLtH6",
    "papermill": {
     "duration": 0.035171,
     "end_time": "2022-03-21T14:01:09.038141",
     "exception": false,
     "start_time": "2022-03-21T14:01:09.002970",
     "status": "completed"
    },
    "tags": []
   },
   "source": [
    "Let's display a sample image:"
   ]
  },
  {
   "cell_type": "markdown",
   "id": "58eb369a",
   "metadata": {
    "id": "219PDLAMLtH7",
    "papermill": {
     "duration": 0.035108,
     "end_time": "2022-03-21T14:01:09.108371",
     "exception": false,
     "start_time": "2022-03-21T14:01:09.073263",
     "status": "completed"
    },
    "tags": []
   },
   "source": [
    "## Create the discriminator\n",
    "\n",
    "It maps a 64x64 image to a binary classification score."
   ]
  },
  {
   "cell_type": "code",
   "execution_count": 12,
   "id": "132bdb8e",
   "metadata": {
    "execution": {
     "iopub.execute_input": "2022-03-21T14:01:09.185113Z",
     "iopub.status.busy": "2022-03-21T14:01:09.184556Z",
     "iopub.status.idle": "2022-03-21T14:01:09.188195Z",
     "shell.execute_reply": "2022-03-21T14:01:09.187747Z",
     "shell.execute_reply.started": "2022-03-21T13:56:48.346034Z"
    },
    "id": "xUEQGyFpLtH8",
    "papermill": {
     "duration": 0.044958,
     "end_time": "2022-03-21T14:01:09.188298",
     "exception": false,
     "start_time": "2022-03-21T14:01:09.143340",
     "status": "completed"
    },
    "tags": []
   },
   "outputs": [],
   "source": [
    "def create_discriminator():\n",
    "  return keras.Sequential(\n",
    "      [\n",
    "        \n",
    "          layers.Conv2D(ih, kernel_size=ksize, strides=ssize, padding=\"same\",\n",
    "                        input_shape=(ih, iw, chnum)),\n",
    "          layers.LeakyReLU(alpha=0.2),\n",
    "          layers.Conv2D(2*ih, kernel_size=ksize, strides=ssize, padding=\"same\"),\n",
    "          layers.LeakyReLU(alpha=0.2),\n",
    "          layers.Conv2D(2*ih, kernel_size=ksize, strides=ssize, padding=\"same\"),\n",
    "          layers.LeakyReLU(alpha=0.2),\n",
    "          layers.Flatten(),\n",
    "          layers.Dropout(0.2),\n",
    "          layers.Dense(1, activation=\"sigmoid\"),\n",
    "      ],\n",
    "      name=\"discriminator\",\n",
    "  )\n"
   ]
  },
  {
   "cell_type": "markdown",
   "id": "e95b3d6e",
   "metadata": {
    "id": "OoTIdSsDLtH8",
    "papermill": {
     "duration": 0.049336,
     "end_time": "2022-03-21T14:01:09.272894",
     "exception": false,
     "start_time": "2022-03-21T14:01:09.223558",
     "status": "completed"
    },
    "tags": []
   },
   "source": [
    "## Create the generator\n",
    "\n",
    "It mirrors the discriminator, replacing `Conv2D` layers with `Conv2DTranspose` layers."
   ]
  },
  {
   "cell_type": "code",
   "execution_count": 13,
   "id": "d8695cf6",
   "metadata": {
    "execution": {
     "iopub.execute_input": "2022-03-21T14:01:09.423566Z",
     "iopub.status.busy": "2022-03-21T14:01:09.420723Z",
     "iopub.status.idle": "2022-03-21T14:01:09.424640Z",
     "shell.execute_reply": "2022-03-21T14:01:09.425441Z",
     "shell.execute_reply.started": "2022-03-21T13:56:48.358092Z"
    },
    "id": "oJWFNzjjLtH8",
    "papermill": {
     "duration": 0.082199,
     "end_time": "2022-03-21T14:01:09.425674",
     "exception": false,
     "start_time": "2022-03-21T14:01:09.343475",
     "status": "completed"
    },
    "scrolled": true,
    "tags": []
   },
   "outputs": [],
   "source": [
    "latent_dim = ih\n",
    "sih = ih//8\n",
    "siw = iw//8\n",
    "\n",
    "def create_generator():\n",
    "  return keras.Sequential(\n",
    "      [\n",
    "          keras.layers.InputLayer(input_shape=(latent_dim)),\n",
    "          \n",
    "          layers.Dense(sih * siw * latent_dim),\n",
    "          layers.Reshape((sih, siw, latent_dim)),\n",
    "          layers.Conv2DTranspose(latent_dim, kernel_size=ksize, strides=ssize, padding=\"same\"),\n",
    "          layers.LeakyReLU(alpha=0.2),\n",
    "          layers.Conv2DTranspose(2*latent_dim, kernel_size=ksize, strides=ssize, padding=\"same\"),\n",
    "          layers.LeakyReLU(alpha=0.2),\n",
    "          layers.Conv2DTranspose(4*latent_dim, kernel_size=ksize, strides=ssize, padding=\"same\"),\n",
    "          layers.LeakyReLU(alpha=0.2),\n",
    "          layers.Conv2D(chnum, kernel_size=ksize+1, padding=\"same\", activation=\"sigmoid\"),\n",
    "      ],\n",
    "      name=\"generator\",\n",
    "  )\n"
   ]
  },
  {
   "cell_type": "code",
   "execution_count": 14,
   "id": "4d7f27ae",
   "metadata": {
    "execution": {
     "iopub.execute_input": "2022-03-21T14:01:09.546641Z",
     "iopub.status.busy": "2022-03-21T14:01:09.545866Z",
     "iopub.status.idle": "2022-03-21T14:01:09.754659Z",
     "shell.execute_reply": "2022-03-21T14:01:09.753928Z",
     "shell.execute_reply.started": "2022-03-21T13:56:48.394884Z"
    },
    "id": "eAzWstRrJTnV",
    "papermill": {
     "duration": 0.271887,
     "end_time": "2022-03-21T14:01:09.754825",
     "exception": false,
     "start_time": "2022-03-21T14:01:09.482938",
     "status": "completed"
    },
    "tags": []
   },
   "outputs": [],
   "source": [
    "if use_tpu == 'y' or use_tpu == 'Y':\n",
    "    with tpu_strategy.scope():\n",
    "        generator = create_generator()\n",
    "        discriminator = create_discriminator()\n",
    "else:  \n",
    "    generator = create_generator()\n",
    "    discriminator = create_discriminator()"
   ]
  },
  {
   "cell_type": "code",
   "execution_count": 15,
   "id": "a78bdf7d",
   "metadata": {
    "execution": {
     "iopub.execute_input": "2022-03-21T14:01:09.854619Z",
     "iopub.status.busy": "2022-03-21T14:01:09.853783Z",
     "iopub.status.idle": "2022-03-21T14:01:09.859406Z",
     "shell.execute_reply": "2022-03-21T14:01:09.859993Z",
     "shell.execute_reply.started": "2022-03-21T13:56:48.600675Z"
    },
    "id": "ixCCxiGLHgmV",
    "papermill": {
     "duration": 0.047136,
     "end_time": "2022-03-21T14:01:09.860171",
     "exception": false,
     "start_time": "2022-03-21T14:01:09.813035",
     "status": "completed"
    },
    "tags": []
   },
   "outputs": [
    {
     "name": "stdout",
     "output_type": "stream",
     "text": [
      "Model: \"discriminator\"\n",
      "_________________________________________________________________\n",
      "Layer (type)                 Output Shape              Param #   \n",
      "=================================================================\n",
      "conv2d_1 (Conv2D)            (None, 32, 32, 64)        1088      \n",
      "_________________________________________________________________\n",
      "leaky_re_lu_3 (LeakyReLU)    (None, 32, 32, 64)        0         \n",
      "_________________________________________________________________\n",
      "conv2d_2 (Conv2D)            (None, 16, 16, 128)       131200    \n",
      "_________________________________________________________________\n",
      "leaky_re_lu_4 (LeakyReLU)    (None, 16, 16, 128)       0         \n",
      "_________________________________________________________________\n",
      "conv2d_3 (Conv2D)            (None, 8, 8, 128)         262272    \n",
      "_________________________________________________________________\n",
      "leaky_re_lu_5 (LeakyReLU)    (None, 8, 8, 128)         0         \n",
      "_________________________________________________________________\n",
      "flatten (Flatten)            (None, 8192)              0         \n",
      "_________________________________________________________________\n",
      "dropout (Dropout)            (None, 8192)              0         \n",
      "_________________________________________________________________\n",
      "dense_1 (Dense)              (None, 1)                 8193      \n",
      "=================================================================\n",
      "Total params: 402,753\n",
      "Trainable params: 402,753\n",
      "Non-trainable params: 0\n",
      "_________________________________________________________________\n"
     ]
    }
   ],
   "source": [
    "discriminator.summary()"
   ]
  },
  {
   "cell_type": "code",
   "execution_count": 16,
   "id": "4ccd16a9",
   "metadata": {
    "execution": {
     "iopub.execute_input": "2022-03-21T14:01:09.937863Z",
     "iopub.status.busy": "2022-03-21T14:01:09.937063Z",
     "iopub.status.idle": "2022-03-21T14:01:09.943739Z",
     "shell.execute_reply": "2022-03-21T14:01:09.943297Z",
     "shell.execute_reply.started": "2022-03-21T13:56:48.619826Z"
    },
    "id": "qF-AyFSjHzoY",
    "papermill": {
     "duration": 0.047056,
     "end_time": "2022-03-21T14:01:09.943851",
     "exception": false,
     "start_time": "2022-03-21T14:01:09.896795",
     "status": "completed"
    },
    "tags": []
   },
   "outputs": [
    {
     "name": "stdout",
     "output_type": "stream",
     "text": [
      "Model: \"generator\"\n",
      "_________________________________________________________________\n",
      "Layer (type)                 Output Shape              Param #   \n",
      "=================================================================\n",
      "dense (Dense)                (None, 4096)              266240    \n",
      "_________________________________________________________________\n",
      "reshape (Reshape)            (None, 8, 8, 64)          0         \n",
      "_________________________________________________________________\n",
      "conv2d_transpose (Conv2DTran (None, 16, 16, 64)        65600     \n",
      "_________________________________________________________________\n",
      "leaky_re_lu (LeakyReLU)      (None, 16, 16, 64)        0         \n",
      "_________________________________________________________________\n",
      "conv2d_transpose_1 (Conv2DTr (None, 32, 32, 128)       131200    \n",
      "_________________________________________________________________\n",
      "leaky_re_lu_1 (LeakyReLU)    (None, 32, 32, 128)       0         \n",
      "_________________________________________________________________\n",
      "conv2d_transpose_2 (Conv2DTr (None, 64, 64, 256)       524544    \n",
      "_________________________________________________________________\n",
      "leaky_re_lu_2 (LeakyReLU)    (None, 64, 64, 256)       0         \n",
      "_________________________________________________________________\n",
      "conv2d (Conv2D)              (None, 64, 64, 1)         6401      \n",
      "=================================================================\n",
      "Total params: 993,985\n",
      "Trainable params: 993,985\n",
      "Non-trainable params: 0\n",
      "_________________________________________________________________\n"
     ]
    }
   ],
   "source": [
    "generator.summary()"
   ]
  },
  {
   "cell_type": "markdown",
   "id": "0c71991e",
   "metadata": {
    "id": "35QhQ42WLtH9",
    "papermill": {
     "duration": 0.037059,
     "end_time": "2022-03-21T14:01:10.016812",
     "exception": false,
     "start_time": "2022-03-21T14:01:09.979753",
     "status": "completed"
    },
    "tags": []
   },
   "source": [
    "## Override `train_step`"
   ]
  },
  {
   "cell_type": "code",
   "execution_count": 17,
   "id": "494a9b87",
   "metadata": {
    "execution": {
     "iopub.execute_input": "2022-03-21T14:01:10.104570Z",
     "iopub.status.busy": "2022-03-21T14:01:10.102897Z",
     "iopub.status.idle": "2022-03-21T14:01:10.106788Z",
     "shell.execute_reply": "2022-03-21T14:01:10.106335Z",
     "shell.execute_reply.started": "2022-03-21T13:56:48.638223Z"
    },
    "id": "y8nmAfrtLtH9",
    "papermill": {
     "duration": 0.053223,
     "end_time": "2022-03-21T14:01:10.106894",
     "exception": false,
     "start_time": "2022-03-21T14:01:10.053671",
     "status": "completed"
    },
    "tags": []
   },
   "outputs": [],
   "source": [
    "class GAN(keras.Model):\n",
    "    def __init__(self, discriminator, generator, latent_dim):\n",
    "        super(GAN, self).__init__()\n",
    "        self.discriminator = discriminator\n",
    "        self.generator = generator\n",
    "        self.latent_dim = latent_dim\n",
    "\n",
    "    def compile(self, d_optimizer, g_optimizer, loss_fn):\n",
    "        super(GAN, self).compile()\n",
    "        self.d_optimizer = d_optimizer\n",
    "        self.g_optimizer = g_optimizer\n",
    "        self.loss_fn = loss_fn\n",
    "        self.d_loss_metric = keras.metrics.Mean(name=\"d_loss\")\n",
    "        self.g_loss_metric = keras.metrics.Mean(name=\"g_loss\")\n",
    "\n",
    "    @property\n",
    "    def metrics(self):\n",
    "        return [self.d_loss_metric, self.g_loss_metric]\n",
    "\n",
    "    def train_step(self, real_images):\n",
    "        # Sample random points in the latent space\n",
    "        \n",
    "        batch_size = tf.shape(real_images)[0]\n",
    "        random_latent_vectors = tf.random.normal(shape=(batch_size, self.latent_dim))\n",
    "\n",
    "        # Decode them to fake images\n",
    "        generated_images = self.generator(random_latent_vectors)\n",
    "\n",
    "        # Combine them with real images\n",
    "        combined_images = tf.concat([generated_images, real_images], axis=0)\n",
    "\n",
    "        # Assemble labels discriminating real from fake images\n",
    "        labels = tf.concat(\n",
    "            [tf.ones((batch_size, 1)), tf.zeros((batch_size, 1))], axis=0\n",
    "        )\n",
    "        # Add random noise to the labels - important trick!\n",
    "        labels += 0.05 * tf.random.uniform(tf.shape(labels))\n",
    "\n",
    "        # Train the discriminator\n",
    "        with tf.GradientTape() as tape:\n",
    "            predictions = self.discriminator(combined_images)\n",
    "            d_loss = self.loss_fn(labels, predictions)\n",
    "        grads = tape.gradient(d_loss, self.discriminator.trainable_weights)\n",
    "        self.d_optimizer.apply_gradients(\n",
    "            zip(grads, self.discriminator.trainable_weights)\n",
    "        )\n",
    "\n",
    "        # Sample random points in the latent space\n",
    "        random_latent_vectors = tf.random.normal(shape=(batch_size, self.latent_dim))\n",
    "\n",
    "        # Assemble labels that say \"all real images\"\n",
    "        misleading_labels = tf.zeros((batch_size, 1))\n",
    "\n",
    "        # Train the generator (note that we should *not* update the weights\n",
    "        # of the discriminator)!\n",
    "        with tf.GradientTape() as tape:\n",
    "            predictions = self.discriminator(self.generator(random_latent_vectors))\n",
    "            g_loss = self.loss_fn(misleading_labels, predictions)\n",
    "        grads = tape.gradient(g_loss, self.generator.trainable_weights)\n",
    "        self.g_optimizer.apply_gradients(zip(grads, self.generator.trainable_weights))\n",
    "\n",
    "        # Update metrics\n",
    "        self.d_loss_metric.update_state(d_loss)\n",
    "        self.g_loss_metric.update_state(g_loss)\n",
    "        return {\n",
    "            \"d_loss\": self.d_loss_metric.result(),\n",
    "            \"g_loss\": self.g_loss_metric.result(),\n",
    "        }\n",
    "  \n"
   ]
  },
  {
   "cell_type": "markdown",
   "id": "cdec04ae",
   "metadata": {
    "id": "xQUSDLa9LtH-",
    "papermill": {
     "duration": 0.035487,
     "end_time": "2022-03-21T14:01:10.178442",
     "exception": false,
     "start_time": "2022-03-21T14:01:10.142955",
     "status": "completed"
    },
    "tags": []
   },
   "source": [
    "**Other GAN Script**"
   ]
  },
  {
   "cell_type": "code",
   "execution_count": 18,
   "id": "8fee5df7",
   "metadata": {
    "execution": {
     "iopub.execute_input": "2022-03-21T14:01:10.255324Z",
     "iopub.status.busy": "2022-03-21T14:01:10.254181Z",
     "iopub.status.idle": "2022-03-21T14:01:10.256929Z",
     "shell.execute_reply": "2022-03-21T14:01:10.256455Z",
     "shell.execute_reply.started": "2022-03-21T13:56:48.662180Z"
    },
    "id": "bnGLeB0_LtH-",
    "papermill": {
     "duration": 0.042273,
     "end_time": "2022-03-21T14:01:10.257034",
     "exception": false,
     "start_time": "2022-03-21T14:01:10.214761",
     "status": "completed"
    },
    "tags": []
   },
   "outputs": [],
   "source": [
    "# This method returns a helper function to compute cross entropy loss\n",
    "cross_entropy = tf.keras.losses.BinaryCrossentropy(from_logits=True)\n"
   ]
  },
  {
   "cell_type": "code",
   "execution_count": 19,
   "id": "dde2195f",
   "metadata": {
    "execution": {
     "iopub.execute_input": "2022-03-21T14:01:10.334074Z",
     "iopub.status.busy": "2022-03-21T14:01:10.332704Z",
     "iopub.status.idle": "2022-03-21T14:01:10.334882Z",
     "shell.execute_reply": "2022-03-21T14:01:10.335276Z",
     "shell.execute_reply.started": "2022-03-21T13:56:48.676091Z"
    },
    "id": "GnZ9x59bLtH-",
    "papermill": {
     "duration": 0.042385,
     "end_time": "2022-03-21T14:01:10.335390",
     "exception": false,
     "start_time": "2022-03-21T14:01:10.293005",
     "status": "completed"
    },
    "tags": []
   },
   "outputs": [],
   "source": [
    "def discriminator_loss(real_output, fake_output, d_loss):\n",
    "    real_loss = cross_entropy(tf.ones_like(real_output), real_output)\n",
    "    fake_loss = cross_entropy(tf.zeros_like(fake_output), fake_output)\n",
    "    total_loss = real_loss + fake_loss\n",
    "    d_loss.append(total_loss)\n",
    "    return total_loss"
   ]
  },
  {
   "cell_type": "code",
   "execution_count": 20,
   "id": "deec122f",
   "metadata": {
    "execution": {
     "iopub.execute_input": "2022-03-21T14:01:10.411482Z",
     "iopub.status.busy": "2022-03-21T14:01:10.410749Z",
     "iopub.status.idle": "2022-03-21T14:01:10.413177Z",
     "shell.execute_reply": "2022-03-21T14:01:10.412759Z",
     "shell.execute_reply.started": "2022-03-21T13:56:48.687932Z"
    },
    "id": "pvt697zkLtH_",
    "papermill": {
     "duration": 0.041709,
     "end_time": "2022-03-21T14:01:10.413272",
     "exception": false,
     "start_time": "2022-03-21T14:01:10.371563",
     "status": "completed"
    },
    "tags": []
   },
   "outputs": [],
   "source": [
    "def generator_loss(fake_output, g_loss):\n",
    "    fake_loss = cross_entropy(tf.ones_like(fake_output), fake_output)\n",
    "    g_loss.append(fake_loss)\n",
    "    return fake_loss"
   ]
  },
  {
   "cell_type": "code",
   "execution_count": 21,
   "id": "c841e9b5",
   "metadata": {
    "execution": {
     "iopub.execute_input": "2022-03-21T14:01:10.489568Z",
     "iopub.status.busy": "2022-03-21T14:01:10.488785Z",
     "iopub.status.idle": "2022-03-21T14:01:10.490635Z",
     "shell.execute_reply": "2022-03-21T14:01:10.491094Z",
     "shell.execute_reply.started": "2022-03-21T13:56:48.702274Z"
    },
    "id": "58LhymTSLtH_",
    "papermill": {
     "duration": 0.04191,
     "end_time": "2022-03-21T14:01:10.491214",
     "exception": false,
     "start_time": "2022-03-21T14:01:10.449304",
     "status": "completed"
    },
    "tags": []
   },
   "outputs": [],
   "source": [
    "generator_optimizer = tf.keras.optimizers.Adam(1e-4)\n",
    "discriminator_optimizer = tf.keras.optimizers.Adam(1e-4)"
   ]
  },
  {
   "cell_type": "markdown",
   "id": "d80438c3",
   "metadata": {
    "id": "puaQCbHtLtH_",
    "papermill": {
     "duration": 0.03566,
     "end_time": "2022-03-21T14:01:10.563096",
     "exception": false,
     "start_time": "2022-03-21T14:01:10.527436",
     "status": "completed"
    },
    "tags": []
   },
   "source": [
    "## Create a callback that periodically saves generated images"
   ]
  },
  {
   "cell_type": "code",
   "execution_count": 22,
   "id": "1dc05277",
   "metadata": {
    "execution": {
     "iopub.execute_input": "2022-03-21T14:01:10.642722Z",
     "iopub.status.busy": "2022-03-21T14:01:10.641954Z",
     "iopub.status.idle": "2022-03-21T14:01:10.644332Z",
     "shell.execute_reply": "2022-03-21T14:01:10.643924Z",
     "shell.execute_reply.started": "2022-03-21T13:56:48.714444Z"
    },
    "id": "8jTG8X3xLtH_",
    "papermill": {
     "duration": 0.045032,
     "end_time": "2022-03-21T14:01:10.644428",
     "exception": false,
     "start_time": "2022-03-21T14:01:10.599396",
     "status": "completed"
    },
    "tags": []
   },
   "outputs": [],
   "source": [
    "class GANMonitor(keras.callbacks.Callback):\n",
    "    def __init__(self, num_img=3, latent_dim=latent_dim):\n",
    "        self.num_img = num_img\n",
    "        self.latent_dim = latent_dim\n",
    "\n",
    "    def on_epoch_end(self, epoch, logs=None):\n",
    "        start = time.time()\n",
    "        random_latent_vectors = tf.random.normal(shape=(self.num_img, self.latent_dim))\n",
    "        generated_images = self.model.generator(random_latent_vectors)\n",
    "        generated_images *= 255\n",
    "        generated_images.numpy()\n",
    "        for i in range(self.num_img):\n",
    "            img = keras.preprocessing.image.array_to_img(generated_images[i])\n",
    "            img.save(\"/kaggle/working/generated_images/generated_img_%03d_%d.png\" % (epoch, i))\n",
    "    \n",
    "        # Save the model every 15 epochs (WAS 15)\n",
    "        if (epoch + 1) % 15 == 0:\n",
    "          checkpoint.save(file_prefix = checkpoint_prefix)\n",
    "\n"
   ]
  },
  {
   "cell_type": "markdown",
   "id": "01dd5659",
   "metadata": {
    "papermill": {
     "duration": 0.035706,
     "end_time": "2022-03-21T14:01:10.716003",
     "exception": false,
     "start_time": "2022-03-21T14:01:10.680297",
     "status": "completed"
    },
    "tags": []
   },
   "source": [
    "**Restore checkpoints if they exists**"
   ]
  },
  {
   "cell_type": "code",
   "execution_count": 23,
   "id": "fd5cc679",
   "metadata": {
    "execution": {
     "iopub.execute_input": "2022-03-21T14:01:10.803289Z",
     "iopub.status.busy": "2022-03-21T14:01:10.802396Z",
     "iopub.status.idle": "2022-03-21T14:01:10.896065Z",
     "shell.execute_reply": "2022-03-21T14:01:10.895651Z",
     "shell.execute_reply.started": "2022-03-21T13:56:48.729240Z"
    },
    "id": "QwKJcZWrLtH_",
    "papermill": {
     "duration": 0.144244,
     "end_time": "2022-03-21T14:01:10.896173",
     "exception": false,
     "start_time": "2022-03-21T14:01:10.751929",
     "status": "completed"
    },
    "tags": []
   },
   "outputs": [],
   "source": [
    "checkpoint_dir = '/kaggle/working/checkpoints'\n",
    "checkpoint_prefix = os.path.join(checkpoint_dir, \"ckpt\")\n",
    "checkpoint = tf.train.Checkpoint(generator_optimizer=generator_optimizer,\n",
    "                                 discriminator_optimizer=discriminator_optimizer,\n",
    "                                 generator=create_generator(),\n",
    "                                 discriminator=create_discriminator())"
   ]
  },
  {
   "cell_type": "code",
   "execution_count": 24,
   "id": "36ac083f",
   "metadata": {
    "execution": {
     "iopub.execute_input": "2022-03-21T14:01:10.977525Z",
     "iopub.status.busy": "2022-03-21T14:01:10.976797Z",
     "iopub.status.idle": "2022-03-21T14:01:10.979341Z",
     "shell.execute_reply": "2022-03-21T14:01:10.978912Z",
     "shell.execute_reply.started": "2022-03-21T13:56:48.918701Z"
    },
    "papermill": {
     "duration": 0.042318,
     "end_time": "2022-03-21T14:01:10.979443",
     "exception": false,
     "start_time": "2022-03-21T14:01:10.937125",
     "status": "completed"
    },
    "tags": []
   },
   "outputs": [],
   "source": [
    "checkpoint_directory = '/kaggle/input/dcgan-tweaking-kaggle/checkpoints'"
   ]
  },
  {
   "cell_type": "code",
   "execution_count": 25,
   "id": "d6230186",
   "metadata": {
    "execution": {
     "iopub.execute_input": "2022-03-21T14:01:11.056455Z",
     "iopub.status.busy": "2022-03-21T14:01:11.055945Z",
     "iopub.status.idle": "2022-03-21T14:01:11.060232Z",
     "shell.execute_reply": "2022-03-21T14:01:11.059789Z",
     "shell.execute_reply.started": "2022-03-21T13:56:48.926579Z"
    },
    "papermill": {
     "duration": 0.044313,
     "end_time": "2022-03-21T14:01:11.060330",
     "exception": false,
     "start_time": "2022-03-21T14:01:11.016017",
     "status": "completed"
    },
    "tags": []
   },
   "outputs": [
    {
     "name": "stdout",
     "output_type": "stream",
     "text": [
      "Checkpoitn was not found!\n"
     ]
    }
   ],
   "source": [
    "if(os.path.exists(checkpoint_directory)):\n",
    "    print(\"A checkpoint was found!\")\n",
    "    ckpt_exists = False\n",
    "else: \n",
    "    print(\"Checkpoitn was not found!\")\n",
    "    ckpt_exists = False"
   ]
  },
  {
   "cell_type": "code",
   "execution_count": 26,
   "id": "255115bf",
   "metadata": {
    "execution": {
     "iopub.execute_input": "2022-03-21T14:01:11.138531Z",
     "iopub.status.busy": "2022-03-21T14:01:11.137759Z",
     "iopub.status.idle": "2022-03-21T14:01:11.141237Z",
     "shell.execute_reply": "2022-03-21T14:01:11.141669Z",
     "shell.execute_reply.started": "2022-03-21T13:56:48.945400Z"
    },
    "papermill": {
     "duration": 0.045042,
     "end_time": "2022-03-21T14:01:11.141789",
     "exception": false,
     "start_time": "2022-03-21T14:01:11.096747",
     "status": "completed"
    },
    "tags": []
   },
   "outputs": [],
   "source": [
    "if ckpt_exists == True:\n",
    "    epochs = 16\n",
    "    chkpt_restore_path = tf.train.latest_checkpoint(checkpoint_directory)\n",
    "    print(chkpt_restore_path)\n",
    "    num_ckpt = chkpt_restore_path[-1:]\n",
    "    checkpoint.restore(chkpt_restore_path)"
   ]
  },
  {
   "cell_type": "code",
   "execution_count": 27,
   "id": "9a0a5d0c",
   "metadata": {
    "execution": {
     "iopub.execute_input": "2022-03-21T14:01:11.222556Z",
     "iopub.status.busy": "2022-03-21T14:01:11.221755Z",
     "iopub.status.idle": "2022-03-21T14:01:11.224131Z",
     "shell.execute_reply": "2022-03-21T14:01:11.223674Z",
     "shell.execute_reply.started": "2022-03-21T13:56:48.959286Z"
    },
    "papermill": {
     "duration": 0.046252,
     "end_time": "2022-03-21T14:01:11.224235",
     "exception": false,
     "start_time": "2022-03-21T14:01:11.177983",
     "status": "completed"
    },
    "tags": []
   },
   "outputs": [],
   "source": [
    "   if ckpt_exists == True:\n",
    "    if use_tpu == 'y' or use_tpu == 'Y':\n",
    "        with tpu_strategy.scope():\n",
    "            gan = GAN(discriminator=checkpoint.discriminator, generator=checkpoint.generator, latent_dim=latent_dim)\n",
    "\n",
    "            gan.compile(\n",
    "            d_optimizer=keras.optimizers.Adam(learning_rate=0.0001), # Was 0.0001\n",
    "            g_optimizer=keras.optimizers.Adam(learning_rate=0.0001), # Was 0.0001\n",
    "            loss_fn=keras.losses.BinaryCrossentropy(),\n",
    "            )\n",
    "\n",
    "    else: \n",
    "        gan = GAN(discriminator=checkpoint.discriminator, generator=checkpoint.generator, latent_dim=latent_dim)\n",
    "\n",
    "        gan.compile(\n",
    "        d_optimizer=keras.optimizers.Adam(learning_rate=0.0001), # Was 0.0001\n",
    "        g_optimizer=keras.optimizers.Adam(learning_rate=0.0001), # Was 0.0001\n",
    "        loss_fn=keras.losses.BinaryCrossentropy(),\n",
    "        )\n",
    "\n",
    "    #steps_per_epoch = 2500 // batch_size\n",
    "    gan.fit(\n",
    "      dataset, epochs=epochs, callbacks=[GANMonitor(num_img=10, latent_dim=latent_dim)]\n",
    "    )"
   ]
  },
  {
   "cell_type": "markdown",
   "id": "d1f1a5d9",
   "metadata": {
    "id": "_Bn3n_AaLtIA",
    "papermill": {
     "duration": 0.036614,
     "end_time": "2022-03-21T14:01:11.297744",
     "exception": false,
     "start_time": "2022-03-21T14:01:11.261130",
     "status": "completed"
    },
    "tags": []
   },
   "source": [
    "## Train the end-to-end model"
   ]
  },
  {
   "cell_type": "code",
   "execution_count": 28,
   "id": "fe335b21",
   "metadata": {
    "execution": {
     "iopub.execute_input": "2022-03-21T14:01:11.380744Z",
     "iopub.status.busy": "2022-03-21T14:01:11.379941Z",
     "iopub.status.idle": "2022-03-21T15:38:51.196368Z",
     "shell.execute_reply": "2022-03-21T15:38:51.196878Z",
     "shell.execute_reply.started": "2022-03-21T13:56:48.978504Z"
    },
    "id": "7atjQsdbLtIA",
    "outputId": "201f7c7d-f6ef-487d-9843-51ef8f267c67",
    "papermill": {
     "duration": 5859.861754,
     "end_time": "2022-03-21T15:38:51.197078",
     "exception": false,
     "start_time": "2022-03-21T14:01:11.335324",
     "status": "completed"
    },
    "scrolled": true,
    "tags": []
   },
   "outputs": [
    {
     "name": "stderr",
     "output_type": "stream",
     "text": [
      "2022-03-21 14:01:11.427549: I tensorflow/compiler/mlir/mlir_graph_optimization_pass.cc:185] None of the MLIR Optimization Passes are enabled (registered 2)\n"
     ]
    },
    {
     "name": "stdout",
     "output_type": "stream",
     "text": [
      "Epoch 1/91\n"
     ]
    },
    {
     "name": "stderr",
     "output_type": "stream",
     "text": [
      "2022-03-21 14:01:15.211136: I tensorflow/stream_executor/cuda/cuda_dnn.cc:369] Loaded cuDNN version 8005\n"
     ]
    },
    {
     "name": "stdout",
     "output_type": "stream",
     "text": [
      "830/830 [==============================] - 115s 128ms/step - d_loss: 0.3169 - g_loss: 4.6338\n",
      "Epoch 2/91\n",
      "830/830 [==============================] - 42s 51ms/step - d_loss: 0.3658 - g_loss: 2.2689\n",
      "Epoch 3/91\n",
      "830/830 [==============================] - 42s 51ms/step - d_loss: 0.3822 - g_loss: 2.9527\n",
      "Epoch 4/91\n",
      "830/830 [==============================] - 42s 51ms/step - d_loss: 0.2908 - g_loss: 3.2724\n",
      "Epoch 5/91\n",
      "830/830 [==============================] - 42s 51ms/step - d_loss: 0.3376 - g_loss: 2.8422\n",
      "Epoch 6/91\n",
      "830/830 [==============================] - 42s 51ms/step - d_loss: 0.3178 - g_loss: 3.1141\n",
      "Epoch 7/91\n",
      "830/830 [==============================] - 42s 51ms/step - d_loss: 0.3743 - g_loss: 2.7880\n",
      "Epoch 8/91\n",
      "830/830 [==============================] - 42s 51ms/step - d_loss: 0.3640 - g_loss: 2.3899\n",
      "Epoch 9/91\n",
      "830/830 [==============================] - 42s 51ms/step - d_loss: 0.4327 - g_loss: 2.4876\n",
      "Epoch 10/91\n",
      "830/830 [==============================] - 42s 51ms/step - d_loss: 0.3816 - g_loss: 2.2282\n",
      "Epoch 11/91\n",
      "830/830 [==============================] - 43s 51ms/step - d_loss: 0.3926 - g_loss: 2.2438\n",
      "Epoch 12/91\n",
      "830/830 [==============================] - 42s 51ms/step - d_loss: 0.4640 - g_loss: 1.9751\n",
      "Epoch 13/91\n",
      "830/830 [==============================] - 42s 51ms/step - d_loss: 0.4363 - g_loss: 2.1330\n",
      "Epoch 14/91\n",
      "830/830 [==============================] - 42s 51ms/step - d_loss: 0.4561 - g_loss: 1.9024\n",
      "Epoch 15/91\n",
      "830/830 [==============================] - 42s 51ms/step - d_loss: 0.4598 - g_loss: 1.6468\n",
      "Epoch 16/91\n",
      "830/830 [==============================] - 43s 51ms/step - d_loss: 0.5016 - g_loss: 1.8392\n",
      "Epoch 17/91\n",
      "830/830 [==============================] - 43s 51ms/step - d_loss: 0.4497 - g_loss: 1.8143\n",
      "Epoch 18/91\n",
      "830/830 [==============================] - 42s 51ms/step - d_loss: 0.4828 - g_loss: 1.9286\n",
      "Epoch 19/91\n",
      "830/830 [==============================] - 43s 51ms/step - d_loss: 0.4583 - g_loss: 1.8106\n",
      "Epoch 20/91\n",
      "830/830 [==============================] - 43s 51ms/step - d_loss: 0.4650 - g_loss: 1.5889\n",
      "Epoch 21/91\n",
      "830/830 [==============================] - 43s 51ms/step - d_loss: 0.4546 - g_loss: 1.7731\n",
      "Epoch 22/91\n",
      "830/830 [==============================] - 43s 51ms/step - d_loss: 0.4436 - g_loss: 1.7611\n",
      "Epoch 23/91\n",
      "830/830 [==============================] - 42s 51ms/step - d_loss: 0.4783 - g_loss: 1.7207\n",
      "Epoch 24/91\n",
      "830/830 [==============================] - 43s 51ms/step - d_loss: 0.4636 - g_loss: 1.6745\n",
      "Epoch 25/91\n",
      "830/830 [==============================] - 42s 50ms/step - d_loss: 0.4822 - g_loss: 1.6243\n",
      "Epoch 26/91\n",
      "830/830 [==============================] - 43s 51ms/step - d_loss: 0.4708 - g_loss: 1.6923\n",
      "Epoch 27/91\n",
      "830/830 [==============================] - 43s 51ms/step - d_loss: 0.4865 - g_loss: 1.5847\n",
      "Epoch 28/91\n",
      "830/830 [==============================] - 42s 51ms/step - d_loss: 0.4822 - g_loss: 1.7629\n",
      "Epoch 29/91\n",
      "830/830 [==============================] - 43s 51ms/step - d_loss: 0.4685 - g_loss: 1.6915\n",
      "Epoch 30/91\n",
      "830/830 [==============================] - 43s 51ms/step - d_loss: 0.4912 - g_loss: 1.6907\n",
      "Epoch 31/91\n",
      "830/830 [==============================] - 42s 50ms/step - d_loss: 0.4694 - g_loss: 1.5365\n",
      "Epoch 32/91\n",
      "830/830 [==============================] - 43s 52ms/step - d_loss: 0.4860 - g_loss: 1.5438\n",
      "Epoch 33/91\n",
      "830/830 [==============================] - 42s 50ms/step - d_loss: 0.4565 - g_loss: 1.7374\n",
      "Epoch 34/91\n",
      "830/830 [==============================] - 43s 51ms/step - d_loss: 0.4713 - g_loss: 1.6663\n",
      "Epoch 35/91\n",
      "830/830 [==============================] - 42s 50ms/step - d_loss: 0.4853 - g_loss: 1.6561\n",
      "Epoch 36/91\n",
      "830/830 [==============================] - 43s 52ms/step - d_loss: 0.4605 - g_loss: 1.5929\n",
      "Epoch 37/91\n",
      "830/830 [==============================] - 42s 50ms/step - d_loss: 0.4689 - g_loss: 1.7375\n",
      "Epoch 38/91\n",
      "830/830 [==============================] - 42s 51ms/step - d_loss: 0.4572 - g_loss: 1.5853\n",
      "Epoch 39/91\n",
      "830/830 [==============================] - 44s 52ms/step - d_loss: 0.4872 - g_loss: 1.5773\n",
      "Epoch 40/91\n",
      "830/830 [==============================] - 42s 50ms/step - d_loss: 0.4801 - g_loss: 1.5979\n",
      "Epoch 41/91\n",
      "830/830 [==============================] - 43s 52ms/step - d_loss: 0.4908 - g_loss: 1.4400\n",
      "Epoch 42/91\n",
      "830/830 [==============================] - 42s 50ms/step - d_loss: 0.5037 - g_loss: 1.4248\n",
      "Epoch 43/91\n",
      "830/830 [==============================] - 44s 52ms/step - d_loss: 0.4992 - g_loss: 1.6271\n",
      "Epoch 44/91\n",
      "830/830 [==============================] - 42s 50ms/step - d_loss: 0.4889 - g_loss: 1.4251\n",
      "Epoch 45/91\n",
      "830/830 [==============================] - 43s 52ms/step - d_loss: 0.5217 - g_loss: 1.4823\n",
      "Epoch 46/91\n",
      "830/830 [==============================] - 42s 51ms/step - d_loss: 0.5123 - g_loss: 1.3658\n",
      "Epoch 47/91\n",
      "830/830 [==============================] - 43s 52ms/step - d_loss: 0.5145 - g_loss: 1.4696\n",
      "Epoch 48/91\n",
      "830/830 [==============================] - 42s 50ms/step - d_loss: 0.4932 - g_loss: 1.3782\n",
      "Epoch 49/91\n",
      "830/830 [==============================] - 44s 52ms/step - d_loss: 0.4973 - g_loss: 1.4868\n",
      "Epoch 50/91\n",
      "830/830 [==============================] - 42s 50ms/step - d_loss: 0.5017 - g_loss: 1.4861\n",
      "Epoch 51/91\n",
      "830/830 [==============================] - 42s 50ms/step - d_loss: 0.4662 - g_loss: 1.6519\n",
      "Epoch 52/91\n",
      "830/830 [==============================] - 44s 53ms/step - d_loss: 0.4570 - g_loss: 1.4509\n",
      "Epoch 53/91\n",
      "830/830 [==============================] - 42s 50ms/step - d_loss: 0.4324 - g_loss: 1.6545\n",
      "Epoch 54/91\n",
      "830/830 [==============================] - 44s 52ms/step - d_loss: 0.4526 - g_loss: 1.6733\n",
      "Epoch 55/91\n",
      "830/830 [==============================] - 42s 50ms/step - d_loss: 0.4453 - g_loss: 1.7203\n",
      "Epoch 56/91\n",
      "830/830 [==============================] - 42s 50ms/step - d_loss: 0.4221 - g_loss: 1.5323\n",
      "Epoch 57/91\n",
      "830/830 [==============================] - 42s 51ms/step - d_loss: 0.4193 - g_loss: 1.5739\n",
      "Epoch 58/91\n",
      "830/830 [==============================] - 42s 50ms/step - d_loss: 0.4126 - g_loss: 1.6306\n",
      "Epoch 59/91\n",
      "830/830 [==============================] - 43s 52ms/step - d_loss: 0.4071 - g_loss: 1.7545\n",
      "Epoch 60/91\n",
      "830/830 [==============================] - 42s 50ms/step - d_loss: 0.4088 - g_loss: 1.7038\n",
      "Epoch 61/91\n",
      "830/830 [==============================] - 42s 50ms/step - d_loss: 0.3995 - g_loss: 1.6874\n",
      "Epoch 62/91\n",
      "830/830 [==============================] - 42s 50ms/step - d_loss: 0.3939 - g_loss: 1.6386\n",
      "Epoch 63/91\n",
      "830/830 [==============================] - 42s 51ms/step - d_loss: 0.3893 - g_loss: 1.7385\n",
      "Epoch 64/91\n",
      "830/830 [==============================] - 44s 52ms/step - d_loss: 0.4054 - g_loss: 1.7047\n",
      "Epoch 65/91\n",
      "830/830 [==============================] - 42s 50ms/step - d_loss: 0.3993 - g_loss: 1.6389\n",
      "Epoch 66/91\n",
      "830/830 [==============================] - 42s 50ms/step - d_loss: 0.3918 - g_loss: 1.6994\n",
      "Epoch 67/91\n",
      "830/830 [==============================] - 42s 50ms/step - d_loss: 0.3941 - g_loss: 1.6997\n",
      "Epoch 68/91\n",
      "830/830 [==============================] - 43s 52ms/step - d_loss: 0.3986 - g_loss: 1.7658\n",
      "Epoch 69/91\n",
      "830/830 [==============================] - 43s 51ms/step - d_loss: 0.3746 - g_loss: 1.7957\n",
      "Epoch 70/91\n",
      "830/830 [==============================] - 42s 51ms/step - d_loss: 0.3797 - g_loss: 1.7795\n",
      "Epoch 71/91\n",
      "830/830 [==============================] - 42s 50ms/step - d_loss: 0.3794 - g_loss: 1.8292\n",
      "Epoch 72/91\n",
      "830/830 [==============================] - 44s 53ms/step - d_loss: 0.3695 - g_loss: 1.7977\n",
      "Epoch 73/91\n",
      "830/830 [==============================] - 42s 50ms/step - d_loss: 0.3706 - g_loss: 1.8230\n",
      "Epoch 74/91\n",
      "830/830 [==============================] - 42s 50ms/step - d_loss: 0.3708 - g_loss: 1.7714\n",
      "Epoch 75/91\n",
      "830/830 [==============================] - 42s 51ms/step - d_loss: 0.3683 - g_loss: 1.7814\n",
      "Epoch 76/91\n",
      "830/830 [==============================] - 42s 51ms/step - d_loss: 0.3665 - g_loss: 1.7925\n",
      "Epoch 77/91\n",
      "830/830 [==============================] - 44s 53ms/step - d_loss: 0.3664 - g_loss: 1.8900\n",
      "Epoch 78/91\n",
      "830/830 [==============================] - 42s 51ms/step - d_loss: 0.3590 - g_loss: 1.8861\n",
      "Epoch 79/91\n",
      "830/830 [==============================] - 42s 50ms/step - d_loss: 0.3584 - g_loss: 1.9086\n",
      "Epoch 80/91\n",
      "830/830 [==============================] - 42s 51ms/step - d_loss: 0.3572 - g_loss: 1.8152\n",
      "Epoch 81/91\n",
      "830/830 [==============================] - 44s 53ms/step - d_loss: 0.3609 - g_loss: 1.8877\n",
      "Epoch 82/91\n",
      "830/830 [==============================] - 42s 51ms/step - d_loss: 0.3567 - g_loss: 1.9312\n",
      "Epoch 83/91\n",
      "830/830 [==============================] - 42s 50ms/step - d_loss: 0.3549 - g_loss: 1.8194\n",
      "Epoch 84/91\n",
      "830/830 [==============================] - 42s 50ms/step - d_loss: 0.3578 - g_loss: 1.9045\n",
      "Epoch 85/91\n",
      "830/830 [==============================] - 42s 51ms/step - d_loss: 0.3509 - g_loss: 1.8604\n",
      "Epoch 86/91\n",
      "830/830 [==============================] - 42s 50ms/step - d_loss: 0.3545 - g_loss: 1.8722\n",
      "Epoch 87/91\n",
      "830/830 [==============================] - 42s 51ms/step - d_loss: 0.3446 - g_loss: 1.9062\n",
      "Epoch 88/91\n",
      "830/830 [==============================] - 42s 50ms/step - d_loss: 0.3486 - g_loss: 1.8476\n",
      "Epoch 89/91\n",
      "830/830 [==============================] - 42s 51ms/step - d_loss: 0.3457 - g_loss: 2.0252\n",
      "Epoch 90/91\n",
      "830/830 [==============================] - 44s 53ms/step - d_loss: 0.3505 - g_loss: 1.9420\n",
      "Epoch 91/91\n",
      "830/830 [==============================] - 42s 51ms/step - d_loss: 0.3440 - g_loss: 1.8213\n"
     ]
    }
   ],
   "source": [
    "if ckpt_exists == False:\n",
    "    epochs = 91  # In practice, use ~100 epochs\n",
    "\n",
    "    if use_tpu == 'y' or use_tpu == 'Y':\n",
    "        with tpu_strategy.scope():\n",
    "            gan = GAN(discriminator=discriminator, generator=generator, latent_dim=latent_dim)\n",
    "\n",
    "            gan.compile(\n",
    "            d_optimizer=keras.optimizers.Adam(learning_rate=0.0001), # Was 0.0001\n",
    "            g_optimizer=keras.optimizers.Adam(learning_rate=0.0001), # Was 0.0001\n",
    "            loss_fn=keras.losses.BinaryCrossentropy(reduction = tf.keras.losses.Reduction.NONE),\n",
    "            )\n",
    "\n",
    "    else: \n",
    "        gan = GAN(discriminator=discriminator, generator=generator, latent_dim=latent_dim)\n",
    "\n",
    "        gan.compile(\n",
    "        d_optimizer=keras.optimizers.Adam(learning_rate=0.0001), # Was 0.0001\n",
    "        g_optimizer=keras.optimizers.Adam(learning_rate=0.0001), # Was 0.0001\n",
    "        loss_fn=keras.losses.BinaryCrossentropy(),\n",
    "        )\n",
    "\n",
    "    #steps_per_epoch = 2500 // batch_size\n",
    "    gan.fit(\n",
    "      dataset, epochs=epochs, callbacks=[GANMonitor(num_img=10, latent_dim=latent_dim)]\n",
    "    )"
   ]
  },
  {
   "cell_type": "code",
   "execution_count": 29,
   "id": "8fc71126",
   "metadata": {
    "execution": {
     "iopub.execute_input": "2022-03-21T15:39:30.964294Z",
     "iopub.status.busy": "2022-03-21T15:39:30.963452Z",
     "iopub.status.idle": "2022-03-21T15:39:31.452674Z",
     "shell.execute_reply": "2022-03-21T15:39:31.453089Z",
     "shell.execute_reply.started": "2022-03-21T13:59:50.486753Z"
    },
    "id": "IWm3DeULK_BH",
    "papermill": {
     "duration": 20.668909,
     "end_time": "2022-03-21T15:39:31.453237",
     "exception": false,
     "start_time": "2022-03-21T15:39:10.784328",
     "status": "completed"
    },
    "tags": []
   },
   "outputs": [
    {
     "data": {
      "image/png": "[encoded data removed]",
      "text/plain": [
       "<Figure size 432x288 with 1 Axes>"
      ]
     },
     "metadata": {
      "needs_background": "light"
     },
     "output_type": "display_data"
    }
   ],
   "source": [
    "for x in dataset:\n",
    "  i = rd.randint(0,26458)\n",
    "  plt.imshow((x.numpy() * 255).astype(\"int32\")[0], cmap='gray')\n",
    "  break"
   ]
  },
  {
   "cell_type": "markdown",
   "id": "c546b99d",
   "metadata": {
    "id": "s-gZ4WSgLtIA",
    "papermill": {
     "duration": 19.581448,
     "end_time": "2022-03-21T15:40:11.064628",
     "exception": false,
     "start_time": "2022-03-21T15:39:51.483180",
     "status": "completed"
    },
    "tags": []
   },
   "source": [
    "Some of the last generated images around epoch 30\n",
    "(results keep improving after that):\n"
   ]
  },
  {
   "cell_type": "markdown",
   "id": "5c2071dd",
   "metadata": {
    "id": "LBGlaWncLtIA",
    "papermill": {
     "duration": 19.657776,
     "end_time": "2022-03-21T15:40:50.597452",
     "exception": false,
     "start_time": "2022-03-21T15:40:30.939676",
     "status": "completed"
    },
    "tags": []
   },
   "source": [
    "# Checkpoint Restore"
   ]
  }
 ],
 "metadata": {
  "kernelspec": {
   "display_name": "Python 3 (ipykernel)",
   "language": "python",
   "name": "python3"
  },
  "language_info": {
   "codemirror_mode": {
    "name": "ipython",
    "version": 3
   },
   "file_extension": ".py",
   "mimetype": "text/x-python",
   "name": "python",
   "nbconvert_exporter": "python",
   "pygments_lexer": "ipython3",
   "version": "3.8.5"
  },
  "papermill": {
   "default_parameters": {},
   "duration": 6059.536894,
   "end_time": "2022-03-21T15:41:13.589681",
   "environment_variables": {},
   "exception": null,
   "input_path": "__notebook__.ipynb",
   "output_path": "__notebook__.ipynb",
   "parameters": {},
   "start_time": "2022-03-21T14:00:14.052787",
   "version": "2.3.3"
  }
 },
 "nbformat": 4,
 "nbformat_minor": 5
}
