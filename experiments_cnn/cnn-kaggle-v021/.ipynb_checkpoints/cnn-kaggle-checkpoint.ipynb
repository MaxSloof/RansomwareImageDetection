{
 "cells": [
  {
   "cell_type": "markdown",
   "metadata": {},
   "source": [
    "# Convolutional Neural Network"
   ]
  },
  {
   "cell_type": "markdown",
   "metadata": {},
   "source": [
    "**Notes about this specific notebook**\n",
    "\n",
    "Uses rgb, 64x64 images with ReLU activation and Adam optimizer. No class or sample specific weights are used"
   ]
  },
  {
   "cell_type": "markdown",
   "metadata": {},
   "source": [
    "# Changeable Parameters"
   ]
  },
  {
   "cell_type": "markdown",
   "metadata": {},
   "source": [
    "_____________________________________________________________________"
   ]
  },
  {
   "cell_type": "code",
   "execution_count": 6,
   "metadata": {
    "execution": {
     "iopub.execute_input": "2022-04-04T12:54:20.45658Z",
     "iopub.status.busy": "2022-04-04T12:54:20.456317Z",
     "iopub.status.idle": "2022-04-04T12:54:20.461217Z",
     "shell.execute_reply": "2022-04-04T12:54:20.460255Z",
     "shell.execute_reply.started": "2022-04-04T12:54:20.456552Z"
    }
   },
   "outputs": [],
   "source": [
    "# Image size (height x width)\n",
    "ih = 64\n",
    "iw = 64\n",
    "\n",
    "# Grayscale or RGB\n",
    "ch = 'grayscale'\n",
    "\n",
    "# Batch size\n",
    "batch_size = 40000\n",
    "\n",
    "# Number of epochs\n",
    "epoch_t = 25\n",
    "\n",
    "# Where computation is performed: Kaggle (0) or Local (1)\n",
    "cenv = 1\n",
    "\n",
    "# Division of the training vs. test set \n",
    "test_size = 0.3"
   ]
  },
  {
   "cell_type": "markdown",
   "metadata": {},
   "source": [
    "_____________________________________________________________________"
   ]
  },
  {
   "cell_type": "code",
   "execution_count": null,
   "metadata": {
    "execution": {
     "iopub.execute_input": "2022-04-04T12:54:20.758272Z",
     "iopub.status.busy": "2022-04-04T12:54:20.758045Z",
     "iopub.status.idle": "2022-04-04T12:54:20.762812Z",
     "shell.execute_reply": "2022-04-04T12:54:20.762096Z",
     "shell.execute_reply.started": "2022-04-04T12:54:20.758247Z"
    }
   },
   "outputs": [],
   "source": [
    "# To check whether the right environment has been selected\n",
    "if cenv == 0:\n",
    "    print(\"Computation environment: Kaggle\")\n",
    "if cenv == 1:\n",
    "    print(\"Computation environment: Local\")"
   ]
  },
  {
   "cell_type": "markdown",
   "metadata": {},
   "source": [
    "Import the necessary libraries"
   ]
  },
  {
   "cell_type": "code",
   "execution_count": 3,
   "metadata": {
    "_cell_guid": "b1076dfc-b9ad-4769-8c92-a6c4dae69d19",
    "_uuid": "8f2839f25d086af736a60e9eeb907d3b93b6e0e5",
    "execution": {
     "iopub.execute_input": "2022-04-04T12:54:20.927275Z",
     "iopub.status.busy": "2022-04-04T12:54:20.925475Z",
     "iopub.status.idle": "2022-04-04T12:54:20.932284Z",
     "shell.execute_reply": "2022-04-04T12:54:20.931345Z",
     "shell.execute_reply.started": "2022-04-04T12:54:20.927244Z"
    }
   },
   "outputs": [],
   "source": [
    "from keras.preprocessing.image import ImageDataGenerator\n",
    "from sklearn.model_selection import train_test_split\n",
    "from tensorflow.keras.models import load_model\n",
    "import tensorflow as tf\n",
    "import numpy as np\n",
    "from sklearn.utils import class_weight\n",
    "from sklearn import metrics\n",
    "import sys\n",
    "import os\n",
    "from math import log\n",
    "import scipy as sp\n",
    "import matplotlib.pyplot as plt\n",
    "import pandas as pd\n",
    "import seaborn as sns"
   ]
  },
  {
   "cell_type": "markdown",
   "metadata": {},
   "source": [
    "Check whether a, and which GPU is available for the computation"
   ]
  },
  {
   "cell_type": "code",
   "execution_count": null,
   "metadata": {
    "execution": {
     "iopub.execute_input": "2022-04-04T12:54:21.093735Z",
     "iopub.status.busy": "2022-04-04T12:54:21.09347Z",
     "iopub.status.idle": "2022-04-04T12:54:21.099596Z",
     "shell.execute_reply": "2022-04-04T12:54:21.098416Z",
     "shell.execute_reply.started": "2022-04-04T12:54:21.093698Z"
    }
   },
   "outputs": [],
   "source": [
    "is_cuda_gpu_available = tf.config.list_physical_devices('GPU')\n",
    "print(is_cuda_gpu_available)"
   ]
  },
  {
   "cell_type": "code",
   "execution_count": null,
   "metadata": {
    "execution": {
     "iopub.execute_input": "2022-04-04T12:54:21.218656Z",
     "iopub.status.busy": "2022-04-04T12:54:21.21844Z",
     "iopub.status.idle": "2022-04-04T12:54:21.222873Z",
     "shell.execute_reply": "2022-04-04T12:54:21.221912Z",
     "shell.execute_reply.started": "2022-04-04T12:54:21.218631Z"
    }
   },
   "outputs": [],
   "source": [
    "# Image size\n",
    "im_si = (ih, iw)\n",
    "\n",
    "# Convert the color channel to the corresponding number of layers\n",
    "if(ch == 'rgb'):\n",
    "    chnum = 3\n",
    "elif(ch == 'grayscale'):\n",
    "    chnum = 1"
   ]
  },
  {
   "cell_type": "markdown",
   "metadata": {},
   "source": [
    "Create new directory for saving output files if computation is done locally"
   ]
  },
  {
   "cell_type": "code",
   "execution_count": null,
   "metadata": {
    "execution": {
     "iopub.execute_input": "2022-04-04T12:54:21.524082Z",
     "iopub.status.busy": "2022-04-04T12:54:21.523822Z",
     "iopub.status.idle": "2022-04-04T12:54:21.532904Z",
     "shell.execute_reply": "2022-04-04T12:54:21.530442Z",
     "shell.execute_reply.started": "2022-04-04T12:54:21.52405Z"
    }
   },
   "outputs": [],
   "source": [
    "if cenv == 1:\n",
    "    file_exists = []\n",
    "    vnum = 1\n",
    "    dir = \"C:/Users/Max/Documents/GitHub/cnn\"\n",
    "    for files in os.listdir(dir):\n",
    "        if \"cnn\" in files:\n",
    "            try:\n",
    "                vnum = max(vnum, int(files[-3:]))\n",
    "            except: \n",
    "                continue\n",
    "            new_vnum = vnum + 1\n",
    "            file_exists.append(True)\n",
    "        else: \n",
    "            file_exists.append(False)\n",
    "    # If this is the first notebook you want to save, a new folder will be created with version #001\n",
    "    if sum(file_exists) == 0:\n",
    "        new_vnum = 1\n",
    "        print(\"No matches found\")\n",
    "\n",
    "    else: \n",
    "        print(f\"{sum(file_exists)} matches(es) found\")\n",
    "        print(\"--------------\")\n",
    "\n",
    "    # Print new folder name\n",
    "    print(f\"New folder name: cnn-local-v{new_vnum:03}\")\n",
    "    print(\"--------------\")\n",
    "    \n",
    "    # Create new folder with the name of the notebook and the version number\n",
    "    new_dir = f\"/Users/Max/Documents/GitHub/cnn/cnn-local-v{new_vnum:03}\"\n",
    "    os.makedirs(new_dir)"
   ]
  },
  {
   "cell_type": "markdown",
   "metadata": {},
   "source": [
    "**Data**\n"
   ]
  },
  {
   "cell_type": "code",
   "execution_count": 8,
   "metadata": {
    "execution": {
     "iopub.execute_input": "2022-04-04T12:54:22.029004Z",
     "iopub.status.busy": "2022-04-04T12:54:22.028035Z",
     "iopub.status.idle": "2022-04-04T12:54:22.034118Z",
     "shell.execute_reply": "2022-04-04T12:54:22.032951Z",
     "shell.execute_reply.started": "2022-04-04T12:54:22.028948Z"
    }
   },
   "outputs": [],
   "source": [
    "if cenv == 0:\n",
    "    path_root = \"/kaggle/input/thesis-data\"\n",
    "\n",
    "if cenv == 1:\n",
    "    path_root = \"C:/Users/Max/Documents/thesis_data\""
   ]
  },
  {
   "cell_type": "markdown",
   "metadata": {},
   "source": [
    "Load the data. No data augmentation takes place"
   ]
  },
  {
   "cell_type": "code",
   "execution_count": 9,
   "metadata": {
    "execution": {
     "iopub.execute_input": "2022-04-04T12:54:22.320796Z",
     "iopub.status.busy": "2022-04-04T12:54:22.320461Z",
     "iopub.status.idle": "2022-04-04T12:55:08.312969Z",
     "shell.execute_reply": "2022-04-04T12:55:08.312236Z",
     "shell.execute_reply.started": "2022-04-04T12:54:22.320754Z"
    }
   },
   "outputs": [
    {
     "name": "stdout",
     "output_type": "stream",
     "text": [
      "Found 26548 images belonging to 11 classes.\n"
     ]
    }
   ],
   "source": [
    "batches = ImageDataGenerator().flow_from_directory(\n",
    "    directory     = path_root, \n",
    "    color_mode    = ch, \n",
    "    target_size   = (ih,iw), \n",
    "    batch_size    = batch_size,\n",
    "    interpolation = 'bicubic'\n",
    ")\n",
    "imgs, labels = next(batches)"
   ]
  },
  {
   "cell_type": "code",
   "execution_count": null,
   "metadata": {
    "execution": {
     "iopub.execute_input": "2022-04-04T12:55:08.352665Z",
     "iopub.status.busy": "2022-04-04T12:55:08.35192Z",
     "iopub.status.idle": "2022-04-04T12:55:10.510229Z",
     "shell.execute_reply": "2022-04-04T12:55:10.509612Z",
     "shell.execute_reply.started": "2022-04-04T12:55:08.352627Z"
    }
   },
   "outputs": [],
   "source": [
    "# plots images with labels within jupyter notebook\n",
    "def plots(ims, figsize=(20,30), rows=10, interp=False, titles=None):\n",
    "    if type(ims[0]) is np.ndarray:\n",
    "        ims = np.array(ims).astype(np.uint8)\n",
    "        if (ims.shape[-1] != chnum):\n",
    "            ims = ims.transpose((0,2,3,1))\n",
    "    f = plt.figure(figsize=figsize)\n",
    "    cols = 10 # len(ims)//rows if len(ims) % 2 == 0 else len(ims)//rows + 1\n",
    "    for i in range(0,50):\n",
    "        sp = f.add_subplot(rows, cols, i+1)\n",
    "        sp.axis('Off')\n",
    "        if titles is not None:\n",
    "            sp.set_title(list(batches.class_indices.keys())[np.argmax(titles[i])], fontsize=16)\n",
    "        plt.imshow(ims[i], cmap = 'gray',interpolation=None if interp else 'none')\n",
    "        \n",
    "plots(imgs, titles = labels)"
   ]
  },
  {
   "cell_type": "code",
   "execution_count": null,
   "metadata": {
    "execution": {
     "iopub.execute_input": "2022-04-04T12:55:10.511753Z",
     "iopub.status.busy": "2022-04-04T12:55:10.51138Z",
     "iopub.status.idle": "2022-04-04T12:55:10.515597Z",
     "shell.execute_reply": "2022-04-04T12:55:10.514992Z",
     "shell.execute_reply.started": "2022-04-04T12:55:10.511715Z"
    }
   },
   "outputs": [],
   "source": [
    "# A dictionary of all the different classes\n",
    "classes = batches.class_indices.keys()"
   ]
  },
  {
   "cell_type": "markdown",
   "metadata": {},
   "source": [
    "Plot data distribution among all classes"
   ]
  },
  {
   "cell_type": "code",
   "execution_count": null,
   "metadata": {
    "execution": {
     "iopub.execute_input": "2022-04-04T12:55:10.517552Z",
     "iopub.status.busy": "2022-04-04T12:55:10.517088Z",
     "iopub.status.idle": "2022-04-04T12:55:10.829694Z",
     "shell.execute_reply": "2022-04-04T12:55:10.82903Z",
     "shell.execute_reply.started": "2022-04-04T12:55:10.517516Z"
    }
   },
   "outputs": [],
   "source": [
    "perc = (sum(labels)/labels.shape[0])*100\n",
    "plt.xticks(rotation='vertical')\n",
    "plt.bar(classes,perc)\n",
    "plt.title('Distribution of the dataset')\n",
    "plt.ylabel('Dataset distribution in percentage (%)')\n",
    "\n",
    "if cenv == 0:\n",
    "    plt.savefig(\"multi_data_dist.png\", bbox_inches = 'tight', dpi = 150)\n",
    "if cenv == 1:\n",
    "    plt.savefig(f\"{new_dir}/multi_data_dist.png\", bbox_inches = 'tight', dpi = 150)"
   ]
  },
  {
   "cell_type": "markdown",
   "metadata": {},
   "source": [
    "Split the data into train and test/val set using chosen split (70-30 in this case). Then separate the test/val split into validation and test set using 0.5 split. This leads to 70-15-15 split"
   ]
  },
  {
   "cell_type": "code",
   "execution_count": null,
   "metadata": {
    "execution": {
     "iopub.execute_input": "2022-04-04T12:55:10.831081Z",
     "iopub.status.busy": "2022-04-04T12:55:10.830842Z",
     "iopub.status.idle": "2022-04-04T12:55:11.137268Z",
     "shell.execute_reply": "2022-04-04T12:55:11.136502Z",
     "shell.execute_reply.started": "2022-04-04T12:55:10.831047Z"
    }
   },
   "outputs": [],
   "source": [
    "# Train and Test\n",
    "X_train, X_test, y_train, y_test = train_test_split(imgs/255.,labels, test_size=test_size)\n",
    "\n",
    "X_test, X_val, y_test, y_val =  train_test_split(X_test, y_test, test_size=0.5)"
   ]
  },
  {
   "cell_type": "code",
   "execution_count": null,
   "metadata": {
    "execution": {
     "iopub.execute_input": "2022-04-04T12:55:11.140227Z",
     "iopub.status.busy": "2022-04-04T12:55:11.139878Z",
     "iopub.status.idle": "2022-04-04T12:55:11.14623Z",
     "shell.execute_reply": "2022-04-04T12:55:11.145444Z",
     "shell.execute_reply.started": "2022-04-04T12:55:11.140176Z"
    }
   },
   "outputs": [],
   "source": [
    "X_train_size = len(X_train)\n",
    "X_test_size = len(X_test)\n",
    "X_val_size = len(X_val)\n",
    "\n",
    "print(f\"Size of training data: {X_train_size} | Shape of training data {X_train.shape}\")\n",
    "print(f\"Size of test data: {X_test_size}  | Shape of test data {X_test.shape}\")\n",
    "print(f\"Size of training data: {X_val_size}  | Shape of training data {X_val.shape}\")\n",
    "print(f\"Shape of training labels {y_train.shape}\")\n",
    "print(f\"Shape of training labels {y_test.shape}\")"
   ]
  },
  {
   "cell_type": "markdown",
   "metadata": {},
   "source": [
    "Plot data distribution among train, val. and test set"
   ]
  },
  {
   "cell_type": "code",
   "execution_count": null,
   "metadata": {
    "execution": {
     "iopub.execute_input": "2022-04-04T12:55:11.148218Z",
     "iopub.status.busy": "2022-04-04T12:55:11.1477Z",
     "iopub.status.idle": "2022-04-04T12:55:11.154749Z",
     "shell.execute_reply": "2022-04-04T12:55:11.153734Z",
     "shell.execute_reply.started": "2022-04-04T12:55:11.148163Z"
    }
   },
   "outputs": [],
   "source": [
    "def my_fmt(x):\n",
    "    return '{:.1f}%\\n({:.0f})'.format(x, total*x/100)\n",
    "total = X_train_size + X_test_size + X_val_size"
   ]
  },
  {
   "cell_type": "code",
   "execution_count": null,
   "metadata": {
    "execution": {
     "iopub.execute_input": "2022-04-04T12:55:11.156225Z",
     "iopub.status.busy": "2022-04-04T12:55:11.155945Z",
     "iopub.status.idle": "2022-04-04T12:55:11.338472Z",
     "shell.execute_reply": "2022-04-04T12:55:11.337725Z",
     "shell.execute_reply.started": "2022-04-04T12:55:11.15617Z"
    }
   },
   "outputs": [],
   "source": [
    "patches, texts, autotexts = plt.pie(\n",
    "    [X_train_size, X_val_size, X_test_size], \n",
    "    labels = [\"Training\", \"Validation\", \"Test\"], \n",
    "    startangle=90, \n",
    "    counterclock=False, \n",
    "    autopct=my_fmt,\n",
    "    colors = ['cornflowerblue', 'cornflowerblue', 'cornflowerblue'],\n",
    "    radius=1.2\n",
    ")\n",
    "\n",
    "plt.title(\"Training, validation, and test data distribution\", y = 1.15)\n",
    "\n",
    "if cenv == 0:\n",
    "    plt.savefig(\"train_test_dist.png\", bbox_inches = 'tight', dpi = 150)\n",
    "if cenv == 1:\n",
    "    plt.savefig(f\"{new_dir}/train_test_dist.png\", bbox_inches = 'tight', dpi = 150)"
   ]
  },
  {
   "cell_type": "markdown",
   "metadata": {},
   "source": [
    "# Convolutional Neural Network\n",
    "We will now build our **CNN** model using Keras. This model will have the following layers :\n",
    "\n",
    "* **Convolutional Layer** : 30 filters, (3 * 3) kernel size\n",
    "* **Max Pooling Layer** : (2 * 2) pool size\n",
    "* **Convolutional Layer** : 15 filters, (3 * 3) kernel size\n",
    "* **Max Pooling Layer** : (2 * 2) pool size\n",
    "* **DropOut Layer** : Dropping 25% of neurons.\n",
    "* **Flatten Layer**\n",
    "* **Dense/Fully Connected Layer** : 128 Neurons, ReLU activation function\n",
    "* **DropOut Layer** : Dropping 50% of neurons.\n",
    "* **Dense/Fully Connected Layer** : 50 Neurons, Softmax activation function\n",
    "* **Dense/Fully Connected Layer** : num_class Neurons, Softmax activation function\n",
    "\n",
    "**Input shape** : 64 * 64 * 1"
   ]
  },
  {
   "cell_type": "code",
   "execution_count": null,
   "metadata": {
    "execution": {
     "iopub.execute_input": "2022-04-04T12:55:11.340255Z",
     "iopub.status.busy": "2022-04-04T12:55:11.339609Z",
     "iopub.status.idle": "2022-04-04T12:55:11.344998Z",
     "shell.execute_reply": "2022-04-04T12:55:11.344338Z",
     "shell.execute_reply.started": "2022-04-04T12:55:11.340218Z"
    }
   },
   "outputs": [],
   "source": [
    "import keras\n",
    "from keras.models import Sequential, Input, Model\n",
    "from keras.layers import Dense, Dropout, Flatten\n",
    "from keras.layers import Conv2D, MaxPooling2D, LeakyReLU\n",
    "from tensorflow.keras.callbacks import ModelCheckpoint, ReduceLROnPlateau"
   ]
  },
  {
   "cell_type": "markdown",
   "metadata": {
    "execution": {
     "iopub.execute_input": "2022-03-21T12:28:06.621919Z",
     "iopub.status.busy": "2022-03-21T12:28:06.621373Z",
     "iopub.status.idle": "2022-03-21T12:28:06.651878Z",
     "shell.execute_reply": "2022-03-21T12:28:06.650937Z",
     "shell.execute_reply.started": "2022-03-21T12:28:06.621794Z"
    }
   },
   "source": [
    "We want **11** classes"
   ]
  },
  {
   "cell_type": "code",
   "execution_count": 10,
   "metadata": {
    "execution": {
     "iopub.execute_input": "2022-04-04T12:55:11.346886Z",
     "iopub.status.busy": "2022-04-04T12:55:11.346161Z",
     "iopub.status.idle": "2022-04-04T12:55:11.355487Z",
     "shell.execute_reply": "2022-04-04T12:55:11.354776Z",
     "shell.execute_reply.started": "2022-04-04T12:55:11.346847Z"
    }
   },
   "outputs": [
    {
     "name": "stdout",
     "output_type": "stream",
     "text": [
      "The number of classes in our dataset:  11\n"
     ]
    }
   ],
   "source": [
    "num_classes = len(list(batches.class_indices))\n",
    "print(\"The number of classes in our dataset: \", num_classes)"
   ]
  },
  {
   "cell_type": "markdown",
   "metadata": {},
   "source": [
    "Building the model"
   ]
  },
  {
   "cell_type": "code",
   "execution_count": null,
   "metadata": {
    "execution": {
     "iopub.execute_input": "2022-04-04T12:55:11.357588Z",
     "iopub.status.busy": "2022-04-04T12:55:11.356736Z",
     "iopub.status.idle": "2022-04-04T12:55:11.365804Z",
     "shell.execute_reply": "2022-04-04T12:55:11.365111Z",
     "shell.execute_reply.started": "2022-04-04T12:55:11.35755Z"
    }
   },
   "outputs": [],
   "source": [
    "def malware_model():\n",
    "    Malware_model = Sequential()\n",
    "    Malware_model.add(Conv2D(30, kernel_size=(3, 3),\n",
    "                     activation='relu',\n",
    "                     input_shape=(ih,iw,chnum)))\n",
    "\n",
    "    Malware_model.add(MaxPooling2D(pool_size=(2, 2)))\n",
    "    Malware_model.add(Conv2D(15, (3, 3), activation='relu'))\n",
    "    Malware_model.add(MaxPooling2D(pool_size=(2, 2)))\n",
    "    Malware_model.add(Dropout(0.25))\n",
    "    Malware_model.add(Flatten())\n",
    "    Malware_model.add(Dense(128, activation='relu'))\n",
    "    Malware_model.add(Dropout(0.5))\n",
    "    Malware_model.add(Dense(50, activation='relu'))\n",
    "    Malware_model.add(Dense(num_classes, activation='softmax'))\n",
    "    Malware_model.compile(loss='categorical_crossentropy', optimizer = 'adam', metrics=['accuracy'])\n",
    "    return Malware_model"
   ]
  },
  {
   "cell_type": "markdown",
   "metadata": {},
   "source": [
    "Compiling and showing overview of the model"
   ]
  },
  {
   "cell_type": "code",
   "execution_count": null,
   "metadata": {
    "execution": {
     "iopub.execute_input": "2022-04-04T13:01:19.5253Z",
     "iopub.status.busy": "2022-04-04T13:01:19.524941Z",
     "iopub.status.idle": "2022-04-04T13:01:19.991115Z",
     "shell.execute_reply": "2022-04-04T13:01:19.990441Z",
     "shell.execute_reply.started": "2022-04-04T13:01:19.525264Z"
    }
   },
   "outputs": [],
   "source": [
    "Malware_model = malware_model()\n",
    "Malware_model.summary() # Overview of the CNN model"
   ]
  },
  {
   "cell_type": "markdown",
   "metadata": {},
   "source": [
    "Reduce learning rate after 5 epochs of no improvement on the validition accuracy. Also save save checkpoints for the best performing model based on validation loss"
   ]
  },
  {
   "cell_type": "code",
   "execution_count": null,
   "metadata": {},
   "outputs": [],
   "source": [
    "anne = ReduceLROnPlateau(monitor='val_accuracy', factor=0.5, patience=5, verbose=1, min_lr=1e-4)\n",
    "if cenv == 0:\n",
    "    checkpoint = ModelCheckpoint('model.h5', verbose=1, save_best_only=True)\n",
    "if cenv == 1:\n",
    "    checkpoint = ModelCheckpoint(f'{new_dir}/model.h5', verbose=1, save_best_only=True)\n"
   ]
  },
  {
   "cell_type": "markdown",
   "metadata": {},
   "source": [
    "Run the model"
   ]
  },
  {
   "cell_type": "code",
   "execution_count": null,
   "metadata": {
    "execution": {
     "iopub.execute_input": "2022-04-04T13:01:20.534601Z",
     "iopub.status.busy": "2022-04-04T13:01:20.534175Z",
     "iopub.status.idle": "2022-04-04T13:02:23.955893Z",
     "shell.execute_reply": "2022-04-04T13:02:23.955106Z",
     "shell.execute_reply.started": "2022-04-04T13:01:20.534568Z"
    }
   },
   "outputs": [],
   "source": [
    "history = Malware_model.fit(\n",
    "    X_train, \n",
    "    y_train, \n",
    "    validation_data=(X_val, y_val), \n",
    "    epochs=epoch_t,\n",
    "    callbacks = [anne, checkpoint]) # The actual computation of the CNN"
   ]
  },
  {
   "cell_type": "markdown",
   "metadata": {},
   "source": [
    "# Evaluating performance"
   ]
  },
  {
   "cell_type": "code",
   "execution_count": null,
   "metadata": {
    "execution": {
     "iopub.execute_input": "2022-04-04T13:02:23.959269Z",
     "iopub.status.busy": "2022-04-04T13:02:23.95904Z",
     "iopub.status.idle": "2022-04-04T13:02:23.963939Z",
     "shell.execute_reply": "2022-04-04T13:02:23.962847Z",
     "shell.execute_reply.started": "2022-04-04T13:02:23.959241Z"
    }
   },
   "outputs": [],
   "source": [
    "from sklearn.metrics import f1_score, matthews_corrcoef, accuracy_score\n",
    "from prettytable import PrettyTable, MSWORD_FRIENDLY"
   ]
  },
  {
   "cell_type": "markdown",
   "metadata": {},
   "source": [
    "Load the best performing model. N.B. the best performing model did so on the validation set. The model has never seen the test set at this point"
   ]
  },
  {
   "cell_type": "code",
   "execution_count": null,
   "metadata": {},
   "outputs": [],
   "source": [
    "if cenv == 0:\n",
    "    best_model = load_model(\"/kaggle/working/model.h5\")\n",
    "if cenv == 1:\n",
    "    best_model = load_model(f\"{new_dir}/model.h5\")"
   ]
  },
  {
   "cell_type": "markdown",
   "metadata": {},
   "source": [
    "Evaluate the model based on the test set"
   ]
  },
  {
   "cell_type": "code",
   "execution_count": null,
   "metadata": {
    "execution": {
     "iopub.execute_input": "2022-04-04T13:02:23.967136Z",
     "iopub.status.busy": "2022-04-04T13:02:23.966055Z",
     "iopub.status.idle": "2022-04-04T13:02:24.752302Z",
     "shell.execute_reply": "2022-04-04T13:02:24.751034Z",
     "shell.execute_reply.started": "2022-04-04T13:02:23.967105Z"
    }
   },
   "outputs": [],
   "source": [
    "scores = best_model.evaluate(X_test, y_test) # Testing the CNN on the test set\n",
    "print(f\"Overall CNN Accuracy: {scores[1]}\\n(The number of correct predictions divided by the number of total predictions)\")"
   ]
  },
  {
   "cell_type": "markdown",
   "metadata": {},
   "source": [
    "Save a table with the performance on the test set"
   ]
  },
  {
   "cell_type": "code",
   "execution_count": null,
   "metadata": {
    "execution": {
     "iopub.execute_input": "2022-04-04T12:50:29.938043Z",
     "iopub.status.busy": "2022-04-04T12:50:29.937393Z",
     "iopub.status.idle": "2022-04-04T12:50:29.945269Z",
     "shell.execute_reply": "2022-04-04T12:50:29.944469Z",
     "shell.execute_reply.started": "2022-04-04T12:50:29.938005Z"
    }
   },
   "outputs": [],
   "source": [
    "t = PrettyTable(['Metric', 'Performance'])\n",
    "t.add_row(['Valididation accuracy', round(scores[1],4)])\n",
    "t.add_row(['Validation loss', round(scores[0],4)])\n",
    "t.header = True\n",
    "t.align = \"l\"\n",
    "t.title = \"Performance of multi-class classification - CNN\"\n",
    "print(t)"
   ]
  },
  {
   "cell_type": "code",
   "execution_count": null,
   "metadata": {
    "execution": {
     "iopub.execute_input": "2022-04-04T12:50:29.946553Z",
     "iopub.status.busy": "2022-04-04T12:50:29.946315Z",
     "iopub.status.idle": "2022-04-04T12:50:29.955595Z",
     "shell.execute_reply": "2022-04-04T12:50:29.954905Z",
     "shell.execute_reply.started": "2022-04-04T12:50:29.94652Z"
    }
   },
   "outputs": [],
   "source": [
    "# Saving PrettyTable\n",
    "table = t.get_string()\n",
    "\n",
    "if cenv == 0:\n",
    "    with open('multi_performance_table.txt', 'w') as f:\n",
    "        f.write(table)\n",
    "if cenv == 1:\n",
    "    with open(f'{new_dir}/multi_performance_table.txt', 'w') as f:\n",
    "        f.write(table)"
   ]
  },
  {
   "cell_type": "markdown",
   "metadata": {},
   "source": [
    "**Evaluating overfitting and other model performance measures**"
   ]
  },
  {
   "cell_type": "code",
   "execution_count": null,
   "metadata": {
    "execution": {
     "iopub.execute_input": "2022-04-04T12:50:29.957303Z",
     "iopub.status.busy": "2022-04-04T12:50:29.957045Z",
     "iopub.status.idle": "2022-04-04T12:50:29.966375Z",
     "shell.execute_reply": "2022-04-04T12:50:29.965614Z",
     "shell.execute_reply.started": "2022-04-04T12:50:29.95727Z"
    }
   },
   "outputs": [],
   "source": [
    "def eval_metric(model, history, metric_name):\n",
    "    '''\n",
    "    Function to evaluate a trained model on a chosen metric. \n",
    "    Training and validation metric are plotted in a\n",
    "    line chart for each epoch.\n",
    "    \n",
    "    Parameters:\n",
    "        history : model training history\n",
    "        metric_name : loss or accuracy\n",
    "    Output:\n",
    "        line chart with epochs of x-axis and metric on\n",
    "        y-axis\n",
    "    '''\n",
    "    metric = history.history[metric_name]\n",
    "    val_metric = history.history['val_' + metric_name]\n",
    "    e = range(1, epoch_t + 1)\n",
    "    plt.plot(e, metric, 'bo', label='Train ' + metric_name)\n",
    "    plt.plot(e, val_metric, 'b', label='Validation ' + metric_name)\n",
    "    plt.xlabel('Epoch number')\n",
    "    plt.ylabel(metric_name)\n",
    "    plt.title('Comparing training and validation ' + metric_name + ' for ' + model.name)\n",
    "    plt.legend()\n",
    "    if cenv == 0:\n",
    "        plt.savefig(f\"cnn_model_{metric_name}.png\", bbox_inches = 'tight', dpi = 150)\n",
    "    if cenv == 1:\n",
    "        plt.savefig(f\"{new_dir}/cnn_model_{metric_name}.png\", bbox_inches = 'tight', dpi = 150)"
   ]
  },
  {
   "cell_type": "code",
   "execution_count": null,
   "metadata": {
    "execution": {
     "iopub.execute_input": "2022-04-04T12:50:29.96775Z",
     "iopub.status.busy": "2022-04-04T12:50:29.967464Z",
     "iopub.status.idle": "2022-04-04T12:50:30.310797Z",
     "shell.execute_reply": "2022-04-04T12:50:30.30906Z",
     "shell.execute_reply.started": "2022-04-04T12:50:29.967715Z"
    }
   },
   "outputs": [],
   "source": [
    "eval_metric(Malware_model, history, 'loss')"
   ]
  },
  {
   "cell_type": "code",
   "execution_count": null,
   "metadata": {
    "execution": {
     "iopub.execute_input": "2022-04-04T12:50:30.313052Z",
     "iopub.status.busy": "2022-04-04T12:50:30.312583Z",
     "iopub.status.idle": "2022-04-04T12:50:30.643457Z",
     "shell.execute_reply": "2022-04-04T12:50:30.642795Z",
     "shell.execute_reply.started": "2022-04-04T12:50:30.313007Z"
    }
   },
   "outputs": [],
   "source": [
    "eval_metric(Malware_model, history, 'accuracy')"
   ]
  },
  {
   "cell_type": "markdown",
   "metadata": {},
   "source": [
    "# Confusion Matrix\n",
    "Analysing the results"
   ]
  },
  {
   "cell_type": "code",
   "execution_count": null,
   "metadata": {
    "execution": {
     "iopub.execute_input": "2022-04-04T12:50:30.645563Z",
     "iopub.status.busy": "2022-04-04T12:50:30.645067Z",
     "iopub.status.idle": "2022-04-04T12:50:32.248165Z",
     "shell.execute_reply": "2022-04-04T12:50:32.247474Z",
     "shell.execute_reply.started": "2022-04-04T12:50:30.645523Z"
    }
   },
   "outputs": [],
   "source": [
    "# Create two 1D-arrays: one with the prediction per image of the model and one with the true labels\n",
    "y_pred = np.argmax(Malware_model.predict(X_test), axis=-1)\n",
    "y_test2 = np.argmax(y_test, axis=1)"
   ]
  },
  {
   "cell_type": "markdown",
   "metadata": {},
   "source": [
    "Create confusion matrix for the multi-class classification"
   ]
  },
  {
   "cell_type": "code",
   "execution_count": null,
   "metadata": {
    "execution": {
     "iopub.execute_input": "2022-04-04T12:50:32.262828Z",
     "iopub.status.busy": "2022-04-04T12:50:32.262538Z",
     "iopub.status.idle": "2022-04-04T12:50:32.274318Z",
     "shell.execute_reply": "2022-04-04T12:50:32.273522Z",
     "shell.execute_reply.started": "2022-04-04T12:50:32.262793Z"
    }
   },
   "outputs": [],
   "source": [
    "c_matrix = metrics.confusion_matrix(y_test2, y_pred)\n",
    "def confusion_matrix(confusion_matrix, class_names, figsize = (10,7), fontsize=14):\n",
    "   \n",
    "    df_cm = pd.DataFrame(\n",
    "        confusion_matrix, index=class_names, columns=class_names, \n",
    "    )\n",
    "    fig = plt.figure(figsize=figsize)\n",
    "    try:\n",
    "        heatmap = sns.heatmap(df_cm, annot=True, fmt=\"d\")\n",
    "    except ValueError:\n",
    "        raise ValueError(\"Confusion matrix values must be integers.\")\n",
    "    heatmap.yaxis.set_ticklabels(heatmap.yaxis.get_ticklabels(), rotation=0, ha='right', fontsize=fontsize)\n",
    "    heatmap.xaxis.set_ticklabels(heatmap.xaxis.get_ticklabels(), rotation=45, ha='right', fontsize=fontsize)\n",
    "    plt.ylabel('True label')\n",
    "    plt.xlabel('Predicted label')\n",
    "    if cenv == 0:\n",
    "        plt.savefig(\"multi_class_cmatrix.png\", bbox_inches = 'tight', dpi = 150)\n",
    "    if cenv == 1:\n",
    "        plt.savefig(f\"{new_dir}/multi_class_cmatrix.png\", bbox_inches = 'tight', dpi = 150)"
   ]
  },
  {
   "cell_type": "code",
   "execution_count": null,
   "metadata": {
    "execution": {
     "iopub.execute_input": "2022-04-04T12:50:32.276307Z",
     "iopub.status.busy": "2022-04-04T12:50:32.275455Z",
     "iopub.status.idle": "2022-04-04T12:50:33.503646Z",
     "shell.execute_reply": "2022-04-04T12:50:33.502991Z",
     "shell.execute_reply.started": "2022-04-04T12:50:32.276271Z"
    }
   },
   "outputs": [],
   "source": [
    "class_names= batches.class_indices.keys()\n",
    "confusion_matrix(c_matrix, class_names, figsize = (20,7), fontsize=14)"
   ]
  },
  {
   "cell_type": "markdown",
   "metadata": {},
   "source": [
    "# Binary classification\n",
    "y_predbin and y_testbin are the binary classification arrays. 0 = ransomware and 1 = benign"
   ]
  },
  {
   "cell_type": "code",
   "execution_count": null,
   "metadata": {
    "execution": {
     "iopub.execute_input": "2022-04-04T12:50:33.505407Z",
     "iopub.status.busy": "2022-04-04T12:50:33.504957Z",
     "iopub.status.idle": "2022-04-04T12:50:33.551669Z",
     "shell.execute_reply": "2022-04-04T12:50:33.550937Z",
     "shell.execute_reply.started": "2022-04-04T12:50:33.505372Z"
    }
   },
   "outputs": [],
   "source": [
    "y_predbin = [] \n",
    "y_truebin = []\n",
    "for count, value in enumerate(y_test2):\n",
    "    if y_test2[count] in range(10): # range(10) is 0 to 9, meaning all ransomware families\n",
    "        y_truebin.append(0)\n",
    "    else: y_truebin.append(1) # if prediction is not one of the ransomware families, then it is benign\n",
    "    \n",
    "    if y_pred[count] in range(10): # range(10) is 0 to 9, meaning all ransomware families\n",
    "        y_predbin.append(0)\n",
    "    else: y_predbin.append(1) # if prediction is not one of the ransomware families, then it is benign\n",
    "    \n",
    "    continue\n",
    "print(len(y_truebin))\n",
    "print(len(y_predbin))"
   ]
  },
  {
   "cell_type": "markdown",
   "metadata": {},
   "source": [
    "Plot the distribution of dataset as ransomware - benign"
   ]
  },
  {
   "cell_type": "code",
   "execution_count": null,
   "metadata": {
    "execution": {
     "iopub.execute_input": "2022-04-04T12:50:33.55317Z",
     "iopub.status.busy": "2022-04-04T12:50:33.552942Z",
     "iopub.status.idle": "2022-04-04T12:50:38.989601Z",
     "shell.execute_reply": "2022-04-04T12:50:38.988862Z",
     "shell.execute_reply.started": "2022-04-04T12:50:33.553139Z"
    }
   },
   "outputs": [],
   "source": [
    "binary_labels = np.array([])\n",
    "for count, value in enumerate(labels):\n",
    "    if labels[count].argmax() in range(10): # range(10) is 0 to 9\n",
    "        binary_labels = np.append(binary_labels, \"Ransomware\")\n",
    "    else: binary_labels = np.append(binary_labels, \"Benign\")\n",
    "    continue\n",
    "print(binary_labels)\n",
    "rw_count = np.count_nonzero(binary_labels == \"Ransomware\")\n",
    "bn_count = np.count_nonzero(binary_labels == \"Benign\")\n",
    "print(f\"Ransomware Occurences: {rw_count}, Benign Occurences: {bn_count}\")"
   ]
  },
  {
   "cell_type": "code",
   "execution_count": null,
   "metadata": {
    "execution": {
     "iopub.execute_input": "2022-04-04T12:50:38.991361Z",
     "iopub.status.busy": "2022-04-04T12:50:38.9907Z",
     "iopub.status.idle": "2022-04-04T12:50:39.206684Z",
     "shell.execute_reply": "2022-04-04T12:50:39.206041Z",
     "shell.execute_reply.started": "2022-04-04T12:50:38.991325Z"
    }
   },
   "outputs": [],
   "source": [
    "fig = plt.figure()\n",
    "ax = fig.add_axes([0,0,1,1])\n",
    "x_lab = ['Ransomware', 'Benign']\n",
    "y_lab = [rw_count, bn_count]\n",
    "plt.title('Distribution of the dataset')\n",
    "plt.ylabel('Dataset distribution in percentage (%)')\n",
    "ax.bar(x_lab, y_lab)\n",
    "if cenv == 0:\n",
    "    plt.savefig(\"bin_data_dist.png\", bbox_inches = 'tight', dpi = 150)\n",
    "if cenv == 1:\n",
    "    plt.savefig(f\"{new_dir}/bin_data_dist.png\", bbox_inches = 'tight', dpi = 150)"
   ]
  },
  {
   "cell_type": "markdown",
   "metadata": {},
   "source": [
    "Plot binary confusion matrix"
   ]
  },
  {
   "cell_type": "code",
   "execution_count": null,
   "metadata": {
    "execution": {
     "iopub.execute_input": "2022-04-04T12:50:39.208009Z",
     "iopub.status.busy": "2022-04-04T12:50:39.207772Z",
     "iopub.status.idle": "2022-04-04T12:50:39.224366Z",
     "shell.execute_reply": "2022-04-04T12:50:39.223723Z",
     "shell.execute_reply.started": "2022-04-04T12:50:39.207975Z"
    }
   },
   "outputs": [],
   "source": [
    "c_matrix_bin = metrics.confusion_matrix(y_truebin, y_predbin)\n",
    "def confusion_matrix_bin(confusion_matrix, class_names_bin, figsize = (5,2), fontsize=7):\n",
    "   \n",
    "    df_cm = pd.DataFrame(\n",
    "        confusion_matrix, index=class_names_bin, columns=class_names_bin, \n",
    "    )\n",
    "    fig = plt.figure(figsize=figsize)\n",
    "    try:\n",
    "        heatmap = sns.heatmap(df_cm, annot=True, fmt=\"d\")\n",
    "    except ValueError:\n",
    "        raise ValueError(\"Confusion matrix values must be integers.\")\n",
    "    heatmap.yaxis.set_ticklabels(heatmap.yaxis.get_ticklabels(), rotation=0, ha='right', fontsize=fontsize)\n",
    "    heatmap.xaxis.set_ticklabels(heatmap.xaxis.get_ticklabels(), rotation=45, ha='right', fontsize=fontsize)\n",
    "    plt.ylabel('True label')\n",
    "    plt.xlabel('Predicted label')\n",
    "    if cenv == 0:\n",
    "        plt.savefig(\"bin_class_cmatrix.png\", bbox_inches = 'tight', dpi = 150)\n",
    "    if cenv == 1:\n",
    "        plt.savefig(f\"{new_dir}/bin_class_cmatrix.png\", bbox_inches = 'tight', dpi = 150)"
   ]
  },
  {
   "cell_type": "code",
   "execution_count": null,
   "metadata": {
    "execution": {
     "iopub.execute_input": "2022-04-04T12:50:39.226004Z",
     "iopub.status.busy": "2022-04-04T12:50:39.225686Z",
     "iopub.status.idle": "2022-04-04T12:50:39.780561Z",
     "shell.execute_reply": "2022-04-04T12:50:39.779784Z",
     "shell.execute_reply.started": "2022-04-04T12:50:39.225972Z"
    }
   },
   "outputs": [],
   "source": [
    "class_names_bin= (\"ransomware\", \"benign\")\n",
    "confusion_matrix_bin(c_matrix_bin, class_names_bin, figsize = (5,2), fontsize=10)"
   ]
  },
  {
   "cell_type": "markdown",
   "metadata": {},
   "source": [
    "**Compute performance measures**"
   ]
  },
  {
   "cell_type": "markdown",
   "metadata": {},
   "source": [
    "True Positive Rate"
   ]
  },
  {
   "cell_type": "code",
   "execution_count": null,
   "metadata": {
    "execution": {
     "iopub.execute_input": "2022-04-04T12:50:39.782609Z",
     "iopub.status.busy": "2022-04-04T12:50:39.781813Z",
     "iopub.status.idle": "2022-04-04T12:50:39.786982Z",
     "shell.execute_reply": "2022-04-04T12:50:39.78624Z",
     "shell.execute_reply.started": "2022-04-04T12:50:39.78257Z"
    }
   },
   "outputs": [],
   "source": [
    "TPR = c_matrix_bin[0,0]/(c_matrix_bin[0,0] + c_matrix_bin[0,1]) #True Positive Rate"
   ]
  },
  {
   "cell_type": "markdown",
   "metadata": {},
   "source": [
    "Accuracy"
   ]
  },
  {
   "cell_type": "code",
   "execution_count": null,
   "metadata": {
    "execution": {
     "iopub.execute_input": "2022-04-04T12:50:39.788483Z",
     "iopub.status.busy": "2022-04-04T12:50:39.788075Z",
     "iopub.status.idle": "2022-04-04T12:50:39.804131Z",
     "shell.execute_reply": "2022-04-04T12:50:39.803381Z",
     "shell.execute_reply.started": "2022-04-04T12:50:39.788446Z"
    }
   },
   "outputs": [],
   "source": [
    "ACC = accuracy_score(y_truebin, y_predbin) # Accuracy"
   ]
  },
  {
   "cell_type": "markdown",
   "metadata": {},
   "source": [
    "F1 Score"
   ]
  },
  {
   "cell_type": "code",
   "execution_count": null,
   "metadata": {
    "execution": {
     "iopub.execute_input": "2022-04-04T12:50:39.806107Z",
     "iopub.status.busy": "2022-04-04T12:50:39.805554Z",
     "iopub.status.idle": "2022-04-04T12:50:39.826303Z",
     "shell.execute_reply": "2022-04-04T12:50:39.825698Z",
     "shell.execute_reply.started": "2022-04-04T12:50:39.80607Z"
    }
   },
   "outputs": [],
   "source": [
    "F1 = f1_score(y_truebin, y_predbin, labels=0) # F1 Score"
   ]
  },
  {
   "cell_type": "markdown",
   "metadata": {},
   "source": [
    "Matthews Correlation Coefficient"
   ]
  },
  {
   "cell_type": "code",
   "execution_count": null,
   "metadata": {
    "execution": {
     "iopub.execute_input": "2022-04-04T12:50:39.827992Z",
     "iopub.status.busy": "2022-04-04T12:50:39.827552Z",
     "iopub.status.idle": "2022-04-04T12:50:39.841404Z",
     "shell.execute_reply": "2022-04-04T12:50:39.84064Z",
     "shell.execute_reply.started": "2022-04-04T12:50:39.827958Z"
    }
   },
   "outputs": [],
   "source": [
    "MCC = matthews_corrcoef(y_truebin, y_predbin) # Matthews Correlation Coefficient"
   ]
  },
  {
   "cell_type": "markdown",
   "metadata": {},
   "source": [
    "**Show Performance of CNN**\n",
    "\n",
    "And save it"
   ]
  },
  {
   "cell_type": "code",
   "execution_count": null,
   "metadata": {
    "execution": {
     "iopub.execute_input": "2022-04-04T12:50:39.843089Z",
     "iopub.status.busy": "2022-04-04T12:50:39.842642Z",
     "iopub.status.idle": "2022-04-04T12:50:39.850618Z",
     "shell.execute_reply": "2022-04-04T12:50:39.849723Z",
     "shell.execute_reply.started": "2022-04-04T12:50:39.843055Z"
    }
   },
   "outputs": [],
   "source": [
    "t = PrettyTable(['Metric', 'Performance'])\n",
    "t.add_row(['True Positive Rate', round(TPR,4)])\n",
    "t.add_row(['Accuracy', round(ACC,4)])\n",
    "t.add_row(['F1 Score', round(F1,4)])\n",
    "t.add_row(['Matthews Correlation Coefficient', round(MCC,4)])\n",
    "t.header = True\n",
    "t.align = \"l\"\n",
    "t.title = \"Performance of CNN\"\n",
    "print(t)"
   ]
  },
  {
   "cell_type": "code",
   "execution_count": null,
   "metadata": {
    "execution": {
     "iopub.execute_input": "2022-04-04T12:50:39.852102Z",
     "iopub.status.busy": "2022-04-04T12:50:39.851861Z",
     "iopub.status.idle": "2022-04-04T12:50:39.860621Z",
     "shell.execute_reply": "2022-04-04T12:50:39.859846Z",
     "shell.execute_reply.started": "2022-04-04T12:50:39.852067Z"
    }
   },
   "outputs": [],
   "source": [
    "# Saving PrettyTable\n",
    "table = t.get_string()\n",
    "\n",
    "if cenv == 0:\n",
    "    with open('bin_performance_table.txt', 'w') as f:\n",
    "        f.write(table)\n",
    "if cenv == 1:\n",
    "    with open(f'{new_dir}/bin_performance_table.txt', 'w') as f:\n",
    "        f.write(table)\n"
   ]
  }
 ],
 "metadata": {
  "kernelspec": {
   "display_name": "Python 3 (ipykernel)",
   "language": "python",
   "name": "python3"
  },
  "language_info": {
   "codemirror_mode": {
    "name": "ipython",
    "version": 3
   },
   "file_extension": ".py",
   "mimetype": "text/x-python",
   "name": "python",
   "nbconvert_exporter": "python",
   "pygments_lexer": "ipython3",
   "version": "3.8.5"
  }
 },
 "nbformat": 4,
 "nbformat_minor": 4
}
