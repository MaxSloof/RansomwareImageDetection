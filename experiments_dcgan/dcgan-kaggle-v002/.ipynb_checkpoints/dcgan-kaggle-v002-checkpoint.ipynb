{
 "cells": [
  {
   "cell_type": "markdown",
   "metadata": {
    "id": "Yqp2aX78LtH0"
   },
   "source": [
    "\n",
    "\n",
    "```\n",
    "# Dit is opgemaakt als code\n",
    "```\n",
    "\n",
    "# DCGAN to generate grayscale images\n"
   ]
  },
  {
   "cell_type": "markdown",
   "metadata": {},
   "source": [
    "**OVERVIEW**\n",
    "\n",
    "This model uses the parameters as in the 'CHANGE' box + ReLU as activation layer in both the gen. and disc. "
   ]
  },
  {
   "cell_type": "markdown",
   "metadata": {
    "id": "MQ6hXbgPLtH2"
   },
   "source": [
    "## Setup"
   ]
  },
  {
   "cell_type": "code",
   "execution_count": null,
   "metadata": {
    "execution": {
     "iopub.execute_input": "2022-03-21T17:00:38.662595Z",
     "iopub.status.busy": "2022-03-21T17:00:38.662185Z",
     "iopub.status.idle": "2022-03-21T17:00:46.835078Z",
     "shell.execute_reply": "2022-03-21T17:00:46.833898Z",
     "shell.execute_reply.started": "2022-03-21T17:00:38.662502Z"
    },
    "id": "waMV_df_LtH3"
   },
   "outputs": [],
   "source": [
    "import tensorflow as tf\n",
    "from tensorflow import keras\n",
    "from tensorflow.keras import layers\n",
    "import numpy as np\n",
    "import matplotlib.pyplot as plt\n",
    "import os\n",
    "import time\n",
    "import cv2\n",
    "import random as rd\n",
    "import PIL"
   ]
  },
  {
   "cell_type": "markdown",
   "metadata": {},
   "source": [
    "# CHANGE"
   ]
  },
  {
   "cell_type": "markdown",
   "metadata": {},
   "source": [
    "_____________________________________________________________________"
   ]
  },
  {
   "cell_type": "code",
   "execution_count": null,
   "metadata": {
    "execution": {
     "iopub.execute_input": "2022-03-21T17:00:46.837813Z",
     "iopub.status.busy": "2022-03-21T17:00:46.837492Z",
     "iopub.status.idle": "2022-03-21T17:00:46.844141Z",
     "shell.execute_reply": "2022-03-21T17:00:46.843074Z",
     "shell.execute_reply.started": "2022-03-21T17:00:46.837772Z"
    },
    "id": "nXzDemd6yFMN"
   },
   "outputs": [],
   "source": [
    "# Image size (height x width)\n",
    "ih = 64\n",
    "iw = 64\n",
    "\n",
    "# Grayscale or RGB\n",
    "ch = 'grayscale'\n",
    "\n",
    "# Layer adapt\n",
    "ksize = 4 # Kernel size : was '4' for 64x64 image\n",
    "ssize = 2 # Stride size : was '2' for 64x64 image\n",
    "\n",
    "# Batch size\n",
    "batch_size = 32\n",
    "\n",
    "# TPU\n",
    "print('Are you going to use TPU?')\n",
    "use_tpu = 'n'"
   ]
  },
  {
   "cell_type": "markdown",
   "metadata": {},
   "source": [
    "_____________________________________________________________________"
   ]
  },
  {
   "cell_type": "markdown",
   "metadata": {},
   "source": [
    "**TPU Setup (Optional & Automatic)**"
   ]
  },
  {
   "cell_type": "code",
   "execution_count": null,
   "metadata": {
    "execution": {
     "iopub.execute_input": "2022-03-21T17:00:46.847078Z",
     "iopub.status.busy": "2022-03-21T17:00:46.845859Z",
     "iopub.status.idle": "2022-03-21T17:00:46.87242Z",
     "shell.execute_reply": "2022-03-21T17:00:46.871606Z",
     "shell.execute_reply.started": "2022-03-21T17:00:46.847013Z"
    }
   },
   "outputs": [],
   "source": [
    "if(use_tpu == 'y' or use_tpu == 'Y'):\n",
    "    # Detect and init. TPUs\n",
    "    tpu = tf.distribute.cluster_resolver.TPUClusterResolver.connect()\n",
    "\n",
    "    # Initialize distributed TPU strategy\n",
    "    tpu_strategy = tf.distribute.experimental.TPUStrategy(tpu)"
   ]
  },
  {
   "cell_type": "code",
   "execution_count": null,
   "metadata": {
    "execution": {
     "iopub.execute_input": "2022-03-21T17:00:46.874341Z",
     "iopub.status.busy": "2022-03-21T17:00:46.873892Z",
     "iopub.status.idle": "2022-03-21T17:00:46.888758Z",
     "shell.execute_reply": "2022-03-21T17:00:46.887807Z",
     "shell.execute_reply.started": "2022-03-21T17:00:46.874305Z"
    },
    "id": "DW2D1egMb3z7",
    "outputId": "ba862c51-f373-4976-95cb-7dbeca8bae8e"
   },
   "outputs": [],
   "source": [
    "print(\"Tensorflow version \" + tf.__version__)"
   ]
  },
  {
   "cell_type": "code",
   "execution_count": null,
   "metadata": {
    "execution": {
     "iopub.execute_input": "2022-03-21T17:00:46.892938Z",
     "iopub.status.busy": "2022-03-21T17:00:46.89187Z",
     "iopub.status.idle": "2022-03-21T17:00:46.903291Z",
     "shell.execute_reply": "2022-03-21T17:00:46.902375Z",
     "shell.execute_reply.started": "2022-03-21T17:00:46.892865Z"
    }
   },
   "outputs": [],
   "source": [
    "try: \n",
    "    os.mkdir(\"/kaggle/working/checkpoints\")\n",
    "    print(\"Path for checkpoints has been created!\")\n",
    "except:\n",
    "    print(\"Path already exists\")"
   ]
  },
  {
   "cell_type": "code",
   "execution_count": null,
   "metadata": {
    "execution": {
     "iopub.execute_input": "2022-03-21T17:00:46.905513Z",
     "iopub.status.busy": "2022-03-21T17:00:46.904614Z",
     "iopub.status.idle": "2022-03-21T17:00:46.91629Z",
     "shell.execute_reply": "2022-03-21T17:00:46.915258Z",
     "shell.execute_reply.started": "2022-03-21T17:00:46.905474Z"
    }
   },
   "outputs": [],
   "source": [
    "try:\n",
    "    os.mkdir(\"/kaggle/working/generated_images\")\n",
    "    print(\"Path for generated images has been created!\")\n",
    "except:\n",
    "    print(\"Path already exists\")"
   ]
  },
  {
   "cell_type": "markdown",
   "metadata": {
    "id": "uOZNby3TLtH4"
   },
   "source": [
    "## Prepare CelebA data\n",
    "\n",
    "We'll use face images from the CelebA dataset, resized to 64x64."
   ]
  },
  {
   "cell_type": "code",
   "execution_count": null,
   "metadata": {
    "execution": {
     "iopub.execute_input": "2022-03-21T17:00:46.918273Z",
     "iopub.status.busy": "2022-03-21T17:00:46.917998Z",
     "iopub.status.idle": "2022-03-21T17:00:46.93376Z",
     "shell.execute_reply": "2022-03-21T17:00:46.932989Z",
     "shell.execute_reply.started": "2022-03-21T17:00:46.918231Z"
    }
   },
   "outputs": [],
   "source": [
    "# Overwrite if TPU is used\n",
    "if use_tpu == 'y' or use_tpu == 'Y':\n",
    "    batch_size = 16 * tpu_strategy.num_replicas_in_sync"
   ]
  },
  {
   "cell_type": "code",
   "execution_count": null,
   "metadata": {
    "execution": {
     "iopub.execute_input": "2022-03-21T17:00:46.935677Z",
     "iopub.status.busy": "2022-03-21T17:00:46.93512Z",
     "iopub.status.idle": "2022-03-21T17:00:46.953529Z",
     "shell.execute_reply": "2022-03-21T17:00:46.952239Z",
     "shell.execute_reply.started": "2022-03-21T17:00:46.935637Z"
    },
    "id": "4H4AwAFpLtH4"
   },
   "outputs": [],
   "source": [
    "if use_tpu == 'y' or use_tpu == 'Y': \n",
    "    # Step 1: Get the credentail from the Cloud SDK\n",
    "    from kaggle_secrets import UserSecretsClient\n",
    "    user_secrets = UserSecretsClient()\n",
    "    user_credential = user_secrets.get_gcloud_credential()\n",
    "    user_secrets.set_tensorflow_credential(user_credential)\n",
    "\n",
    "    # Step 3: Use a familiar call to get the GCS path of the dataset\n",
    "    !gcloud config set project 'solid-topic-344315'\n",
    "    \n",
    "    GCS_DS_PATH = 'gs://thesis_data_max/classified_data'\n",
    "    \n",
    "\n",
    "    \n",
    "else: path_root = '/kaggle/input/thesis-data'"
   ]
  },
  {
   "cell_type": "code",
   "execution_count": null,
   "metadata": {
    "execution": {
     "iopub.execute_input": "2022-03-21T17:00:46.955603Z",
     "iopub.status.busy": "2022-03-21T17:00:46.954912Z",
     "iopub.status.idle": "2022-03-21T17:00:52.985532Z",
     "shell.execute_reply": "2022-03-21T17:00:52.984409Z",
     "shell.execute_reply.started": "2022-03-21T17:00:46.955549Z"
    }
   },
   "outputs": [],
   "source": [
    "!gsutil ls gs://thesis_data_max/classified_data"
   ]
  },
  {
   "cell_type": "markdown",
   "metadata": {
    "id": "JP_TdOVnLtH5"
   },
   "source": [
    "Create a dataset from our folder, and rescale the images to the [0-1] range:"
   ]
  },
  {
   "cell_type": "code",
   "execution_count": null,
   "metadata": {
    "execution": {
     "iopub.execute_input": "2022-03-21T17:00:52.987697Z",
     "iopub.status.busy": "2022-03-21T17:00:52.987345Z",
     "iopub.status.idle": "2022-03-21T17:00:52.995238Z",
     "shell.execute_reply": "2022-03-21T17:00:52.992751Z",
     "shell.execute_reply.started": "2022-03-21T17:00:52.987659Z"
    }
   },
   "outputs": [],
   "source": [
    "im_si = (ih, iw)\n",
    "\n",
    "if(ch == 'rgb'):\n",
    "    chnum = 3\n",
    "elif(ch == 'grayscale'):\n",
    "    chnum = 1\n"
   ]
  },
  {
   "cell_type": "code",
   "execution_count": null,
   "metadata": {
    "execution": {
     "iopub.execute_input": "2022-03-21T17:00:52.997209Z",
     "iopub.status.busy": "2022-03-21T17:00:52.996443Z",
     "iopub.status.idle": "2022-03-21T17:01:14.530276Z",
     "shell.execute_reply": "2022-03-21T17:01:14.529131Z",
     "shell.execute_reply.started": "2022-03-21T17:00:52.997144Z"
    },
    "id": "WH5fIdgBnZE5",
    "outputId": "2957b61c-4951-407c-a889-77ed834b57a8"
   },
   "outputs": [],
   "source": [
    "if (use_tpu == 'y' or use_tpu == 'Y'):\n",
    "    dataset = tf.keras.preprocessing.image_dataset_from_directory(\n",
    "        GCS_DS_PATH, \n",
    "        label_mode = None,\n",
    "        color_mode = ch,\n",
    "        image_size = im_si,\n",
    "        interpolation='bicubic',\n",
    "        batch_size = batch_size\n",
    ")\n",
    "    \n",
    "if (use_tpu == 'n' or use_tpu == 'N'):\n",
    "    dataset = tf.keras.preprocessing.image_dataset_from_directory(\n",
    "        path_root, \n",
    "        label_mode = None,\n",
    "        color_mode = ch,\n",
    "        image_size = im_si,\n",
    "        interpolation='bicubic',\n",
    "        batch_size = batch_size\n",
    "    )\n",
    "\n",
    "dataset = dataset.map(lambda x : x / 255.0)"
   ]
  },
  {
   "cell_type": "markdown",
   "metadata": {
    "id": "bk2Y9PcvLtH6"
   },
   "source": [
    "Let's display a sample image:"
   ]
  },
  {
   "cell_type": "markdown",
   "metadata": {
    "id": "219PDLAMLtH7"
   },
   "source": [
    "## Create the discriminator\n",
    "\n",
    "It maps a 64x64 image to a binary classification score."
   ]
  },
  {
   "cell_type": "code",
   "execution_count": null,
   "metadata": {
    "execution": {
     "iopub.execute_input": "2022-03-21T17:01:14.531484Z",
     "iopub.status.busy": "2022-03-21T17:01:14.531278Z",
     "iopub.status.idle": "2022-03-21T17:01:14.542158Z",
     "shell.execute_reply": "2022-03-21T17:01:14.541059Z",
     "shell.execute_reply.started": "2022-03-21T17:01:14.531458Z"
    },
    "id": "xUEQGyFpLtH8"
   },
   "outputs": [],
   "source": [
    "def create_discriminator():\n",
    "  return keras.Sequential(\n",
    "      [\n",
    "        \n",
    "          layers.Conv2D(ih, kernel_size=ksize, strides=ssize, padding=\"same\",\n",
    "                        input_shape=(ih, iw, chnum)),\n",
    "          layers.ReLU(),\n",
    "          layers.Conv2D(2*ih, kernel_size=ksize, strides=ssize, padding=\"same\"),\n",
    "          layers.ReLU(),\n",
    "          layers.Conv2D(2*ih, kernel_size=ksize, strides=ssize, padding=\"same\"),\n",
    "          layers.ReLU(),\n",
    "          layers.Flatten(),\n",
    "          layers.Dropout(0.2),\n",
    "          layers.Dense(1, activation=\"sigmoid\"),\n",
    "      ],\n",
    "      name=\"discriminator\",\n",
    "  )\n"
   ]
  },
  {
   "cell_type": "markdown",
   "metadata": {
    "id": "OoTIdSsDLtH8"
   },
   "source": [
    "## Create the generator\n",
    "\n",
    "It mirrors the discriminator, replacing `Conv2D` layers with `Conv2DTranspose` layers."
   ]
  },
  {
   "cell_type": "code",
   "execution_count": null,
   "metadata": {
    "execution": {
     "iopub.execute_input": "2022-03-21T17:01:14.544721Z",
     "iopub.status.busy": "2022-03-21T17:01:14.54392Z",
     "iopub.status.idle": "2022-03-21T17:01:14.556778Z",
     "shell.execute_reply": "2022-03-21T17:01:14.555719Z",
     "shell.execute_reply.started": "2022-03-21T17:01:14.544667Z"
    },
    "id": "oJWFNzjjLtH8",
    "scrolled": true
   },
   "outputs": [],
   "source": [
    "latent_dim = ih\n",
    "sih = ih//8\n",
    "siw = iw//8\n",
    "\n",
    "def create_generator():\n",
    "  return keras.Sequential(\n",
    "      [\n",
    "          keras.layers.InputLayer(input_shape=(latent_dim)),\n",
    "          \n",
    "          layers.Dense(sih * siw * latent_dim),\n",
    "          layers.Reshape((sih, siw, latent_dim)),\n",
    "          layers.Conv2DTranspose(latent_dim, kernel_size=ksize, strides=ssize, padding=\"same\"),\n",
    "          layers.ReLU(),\n",
    "          layers.Conv2DTranspose(2*latent_dim, kernel_size=ksize, strides=ssize, padding=\"same\"),\n",
    "          layers.ReLU(),\n",
    "          layers.Conv2DTranspose(4*latent_dim, kernel_size=ksize, strides=ssize, padding=\"same\"),\n",
    "          layers.ReLU(),\n",
    "          layers.Conv2D(chnum, kernel_size=ksize+1, padding=\"same\", activation=\"sigmoid\"),\n",
    "      ],\n",
    "      name=\"generator\",\n",
    "  )\n"
   ]
  },
  {
   "cell_type": "code",
   "execution_count": null,
   "metadata": {
    "execution": {
     "iopub.execute_input": "2022-03-21T17:01:14.560313Z",
     "iopub.status.busy": "2022-03-21T17:01:14.560054Z",
     "iopub.status.idle": "2022-03-21T17:01:14.798311Z",
     "shell.execute_reply": "2022-03-21T17:01:14.797233Z",
     "shell.execute_reply.started": "2022-03-21T17:01:14.560284Z"
    },
    "id": "eAzWstRrJTnV"
   },
   "outputs": [],
   "source": [
    "if use_tpu == 'y' or use_tpu == 'Y':\n",
    "    with tpu_strategy.scope():\n",
    "        generator = create_generator()\n",
    "        discriminator = create_discriminator()\n",
    "else:  \n",
    "    generator = create_generator()\n",
    "    discriminator = create_discriminator()"
   ]
  },
  {
   "cell_type": "code",
   "execution_count": null,
   "metadata": {
    "execution": {
     "iopub.execute_input": "2022-03-21T17:01:14.800219Z",
     "iopub.status.busy": "2022-03-21T17:01:14.799831Z",
     "iopub.status.idle": "2022-03-21T17:01:14.811255Z",
     "shell.execute_reply": "2022-03-21T17:01:14.810003Z",
     "shell.execute_reply.started": "2022-03-21T17:01:14.800171Z"
    },
    "id": "ixCCxiGLHgmV"
   },
   "outputs": [],
   "source": [
    "discriminator.summary()"
   ]
  },
  {
   "cell_type": "code",
   "execution_count": null,
   "metadata": {
    "execution": {
     "iopub.execute_input": "2022-03-21T17:01:14.813461Z",
     "iopub.status.busy": "2022-03-21T17:01:14.812966Z",
     "iopub.status.idle": "2022-03-21T17:01:14.830657Z",
     "shell.execute_reply": "2022-03-21T17:01:14.829776Z",
     "shell.execute_reply.started": "2022-03-21T17:01:14.813415Z"
    },
    "id": "qF-AyFSjHzoY"
   },
   "outputs": [],
   "source": [
    "generator.summary()"
   ]
  },
  {
   "cell_type": "markdown",
   "metadata": {
    "id": "35QhQ42WLtH9"
   },
   "source": [
    "## Override `train_step`"
   ]
  },
  {
   "cell_type": "code",
   "execution_count": null,
   "metadata": {
    "execution": {
     "iopub.execute_input": "2022-03-21T17:01:14.83256Z",
     "iopub.status.busy": "2022-03-21T17:01:14.832303Z",
     "iopub.status.idle": "2022-03-21T17:01:14.851556Z",
     "shell.execute_reply": "2022-03-21T17:01:14.85032Z",
     "shell.execute_reply.started": "2022-03-21T17:01:14.832521Z"
    },
    "id": "y8nmAfrtLtH9"
   },
   "outputs": [],
   "source": [
    "class GAN(keras.Model):\n",
    "    def __init__(self, discriminator, generator, latent_dim):\n",
    "        super(GAN, self).__init__()\n",
    "        self.discriminator = discriminator\n",
    "        self.generator = generator\n",
    "        self.latent_dim = latent_dim\n",
    "\n",
    "    def compile(self, d_optimizer, g_optimizer, loss_fn):\n",
    "        super(GAN, self).compile()\n",
    "        self.d_optimizer = d_optimizer\n",
    "        self.g_optimizer = g_optimizer\n",
    "        self.loss_fn = loss_fn\n",
    "        self.d_loss_metric = keras.metrics.Mean(name=\"d_loss\")\n",
    "        self.g_loss_metric = keras.metrics.Mean(name=\"g_loss\")\n",
    "\n",
    "    @property\n",
    "    def metrics(self):\n",
    "        return [self.d_loss_metric, self.g_loss_metric]\n",
    "\n",
    "    def train_step(self, real_images):\n",
    "        # Sample random points in the latent space\n",
    "        \n",
    "        batch_size = tf.shape(real_images)[0]\n",
    "        random_latent_vectors = tf.random.normal(shape=(batch_size, self.latent_dim))\n",
    "\n",
    "        # Decode them to fake images\n",
    "        generated_images = self.generator(random_latent_vectors)\n",
    "\n",
    "        # Combine them with real images\n",
    "        combined_images = tf.concat([generated_images, real_images], axis=0)\n",
    "\n",
    "        # Assemble labels discriminating real from fake images\n",
    "        labels = tf.concat(\n",
    "            [tf.ones((batch_size, 1)), tf.zeros((batch_size, 1))], axis=0\n",
    "        )\n",
    "        # Add random noise to the labels - important trick!\n",
    "        labels += 0.05 * tf.random.uniform(tf.shape(labels))\n",
    "\n",
    "        # Train the discriminator\n",
    "        with tf.GradientTape() as tape:\n",
    "            predictions = self.discriminator(combined_images)\n",
    "            d_loss = self.loss_fn(labels, predictions)\n",
    "        grads = tape.gradient(d_loss, self.discriminator.trainable_weights)\n",
    "        self.d_optimizer.apply_gradients(\n",
    "            zip(grads, self.discriminator.trainable_weights)\n",
    "        )\n",
    "\n",
    "        # Sample random points in the latent space\n",
    "        random_latent_vectors = tf.random.normal(shape=(batch_size, self.latent_dim))\n",
    "\n",
    "        # Assemble labels that say \"all real images\"\n",
    "        misleading_labels = tf.zeros((batch_size, 1))\n",
    "\n",
    "        # Train the generator (note that we should *not* update the weights\n",
    "        # of the discriminator)!\n",
    "        with tf.GradientTape() as tape:\n",
    "            predictions = self.discriminator(self.generator(random_latent_vectors))\n",
    "            g_loss = self.loss_fn(misleading_labels, predictions)\n",
    "        grads = tape.gradient(g_loss, self.generator.trainable_weights)\n",
    "        self.g_optimizer.apply_gradients(zip(grads, self.generator.trainable_weights))\n",
    "\n",
    "        # Update metrics\n",
    "        self.d_loss_metric.update_state(d_loss)\n",
    "        self.g_loss_metric.update_state(g_loss)\n",
    "        return {\n",
    "            \"d_loss\": self.d_loss_metric.result(),\n",
    "            \"g_loss\": self.g_loss_metric.result(),\n",
    "        }\n",
    "  \n"
   ]
  },
  {
   "cell_type": "markdown",
   "metadata": {
    "id": "xQUSDLa9LtH-"
   },
   "source": [
    "**Other GAN Script**"
   ]
  },
  {
   "cell_type": "code",
   "execution_count": null,
   "metadata": {
    "execution": {
     "iopub.execute_input": "2022-03-21T17:01:14.854321Z",
     "iopub.status.busy": "2022-03-21T17:01:14.85397Z",
     "iopub.status.idle": "2022-03-21T17:01:14.878511Z",
     "shell.execute_reply": "2022-03-21T17:01:14.877376Z",
     "shell.execute_reply.started": "2022-03-21T17:01:14.854277Z"
    },
    "id": "bnGLeB0_LtH-"
   },
   "outputs": [],
   "source": [
    "# This method returns a helper function to compute cross entropy loss\n",
    "cross_entropy = tf.keras.losses.BinaryCrossentropy(from_logits=True)\n"
   ]
  },
  {
   "cell_type": "code",
   "execution_count": null,
   "metadata": {
    "execution": {
     "iopub.execute_input": "2022-03-21T17:01:14.88156Z",
     "iopub.status.busy": "2022-03-21T17:01:14.8798Z",
     "iopub.status.idle": "2022-03-21T17:01:14.895039Z",
     "shell.execute_reply": "2022-03-21T17:01:14.894192Z",
     "shell.execute_reply.started": "2022-03-21T17:01:14.881503Z"
    },
    "id": "GnZ9x59bLtH-"
   },
   "outputs": [],
   "source": [
    "def discriminator_loss(real_output, fake_output, d_loss):\n",
    "    real_loss = cross_entropy(tf.ones_like(real_output), real_output)\n",
    "    fake_loss = cross_entropy(tf.zeros_like(fake_output), fake_output)\n",
    "    total_loss = real_loss + fake_loss\n",
    "    d_loss.append(total_loss)\n",
    "    return total_loss"
   ]
  },
  {
   "cell_type": "code",
   "execution_count": null,
   "metadata": {
    "execution": {
     "iopub.execute_input": "2022-03-21T17:01:14.897401Z",
     "iopub.status.busy": "2022-03-21T17:01:14.897055Z",
     "iopub.status.idle": "2022-03-21T17:01:14.910447Z",
     "shell.execute_reply": "2022-03-21T17:01:14.909703Z",
     "shell.execute_reply.started": "2022-03-21T17:01:14.897353Z"
    },
    "id": "pvt697zkLtH_"
   },
   "outputs": [],
   "source": [
    "def generator_loss(fake_output, g_loss):\n",
    "    fake_loss = cross_entropy(tf.ones_like(fake_output), fake_output)\n",
    "    g_loss.append(fake_loss)\n",
    "    return fake_loss"
   ]
  },
  {
   "cell_type": "code",
   "execution_count": null,
   "metadata": {
    "execution": {
     "iopub.execute_input": "2022-03-21T17:01:14.912734Z",
     "iopub.status.busy": "2022-03-21T17:01:14.912125Z",
     "iopub.status.idle": "2022-03-21T17:01:14.927244Z",
     "shell.execute_reply": "2022-03-21T17:01:14.926223Z",
     "shell.execute_reply.started": "2022-03-21T17:01:14.91268Z"
    },
    "id": "58LhymTSLtH_"
   },
   "outputs": [],
   "source": [
    "generator_optimizer = tf.keras.optimizers.Adam(1e-4)\n",
    "discriminator_optimizer = tf.keras.optimizers.Adam(1e-4)"
   ]
  },
  {
   "cell_type": "markdown",
   "metadata": {
    "id": "puaQCbHtLtH_"
   },
   "source": [
    "## Create a callback that periodically saves generated images"
   ]
  },
  {
   "cell_type": "code",
   "execution_count": null,
   "metadata": {
    "execution": {
     "iopub.execute_input": "2022-03-21T17:01:14.929356Z",
     "iopub.status.busy": "2022-03-21T17:01:14.92906Z",
     "iopub.status.idle": "2022-03-21T17:01:14.945248Z",
     "shell.execute_reply": "2022-03-21T17:01:14.944502Z",
     "shell.execute_reply.started": "2022-03-21T17:01:14.929323Z"
    },
    "id": "8jTG8X3xLtH_"
   },
   "outputs": [],
   "source": [
    "class GANMonitor(keras.callbacks.Callback):\n",
    "    def __init__(self, num_img=3, latent_dim=latent_dim):\n",
    "        self.num_img = num_img\n",
    "        self.latent_dim = latent_dim\n",
    "\n",
    "    def on_epoch_end(self, epoch, logs=None):\n",
    "        start = time.time()\n",
    "        random_latent_vectors = tf.random.normal(shape=(self.num_img, self.latent_dim))\n",
    "        generated_images = self.model.generator(random_latent_vectors)\n",
    "        generated_images *= 255\n",
    "        generated_images.numpy()\n",
    "        for i in range(self.num_img):\n",
    "            img = keras.preprocessing.image.array_to_img(generated_images[i])\n",
    "            img.save(\"/kaggle/working/generated_images/generated_img_%03d_%d.png\" % (epoch, i))\n",
    "    \n",
    "        # Save the model every 15 epochs (WAS 15)\n",
    "        if (epoch + 1) % 15 == 0:\n",
    "          checkpoint.save(file_prefix = checkpoint_prefix)\n",
    "\n"
   ]
  },
  {
   "cell_type": "markdown",
   "metadata": {},
   "source": [
    "**Restore checkpoints if they exists**"
   ]
  },
  {
   "cell_type": "code",
   "execution_count": null,
   "metadata": {
    "execution": {
     "iopub.execute_input": "2022-03-21T17:01:14.947348Z",
     "iopub.status.busy": "2022-03-21T17:01:14.946615Z",
     "iopub.status.idle": "2022-03-21T17:01:15.106593Z",
     "shell.execute_reply": "2022-03-21T17:01:15.105942Z",
     "shell.execute_reply.started": "2022-03-21T17:01:14.94729Z"
    },
    "id": "QwKJcZWrLtH_"
   },
   "outputs": [],
   "source": [
    "checkpoint_dir = '/kaggle/working/checkpoints'\n",
    "checkpoint_prefix = os.path.join(checkpoint_dir, \"ckpt\")\n",
    "checkpoint = tf.train.Checkpoint(generator_optimizer=generator_optimizer,\n",
    "                                 discriminator_optimizer=discriminator_optimizer,\n",
    "                                 generator=create_generator(),\n",
    "                                 discriminator=create_discriminator())"
   ]
  },
  {
   "cell_type": "code",
   "execution_count": null,
   "metadata": {
    "execution": {
     "iopub.execute_input": "2022-03-21T17:01:15.108902Z",
     "iopub.status.busy": "2022-03-21T17:01:15.107925Z",
     "iopub.status.idle": "2022-03-21T17:01:15.112993Z",
     "shell.execute_reply": "2022-03-21T17:01:15.112057Z",
     "shell.execute_reply.started": "2022-03-21T17:01:15.108846Z"
    }
   },
   "outputs": [],
   "source": [
    "checkpoint_directory = '/kaggle/input/dcgan-tweaking-kaggle/checkpoints'"
   ]
  },
  {
   "cell_type": "code",
   "execution_count": null,
   "metadata": {
    "execution": {
     "iopub.execute_input": "2022-03-21T17:01:15.115013Z",
     "iopub.status.busy": "2022-03-21T17:01:15.114411Z",
     "iopub.status.idle": "2022-03-21T17:01:15.129338Z",
     "shell.execute_reply": "2022-03-21T17:01:15.128285Z",
     "shell.execute_reply.started": "2022-03-21T17:01:15.114974Z"
    }
   },
   "outputs": [],
   "source": [
    "if(os.path.exists(checkpoint_directory)):\n",
    "    print(\"A checkpoint was found!\")\n",
    "    ckpt_exists = False # NOT RESTORING FROM CHECKPOINTS\n",
    "else: \n",
    "    print(\"Checkpoitn was not found!\")\n",
    "    ckpt_exists = False"
   ]
  },
  {
   "cell_type": "code",
   "execution_count": null,
   "metadata": {
    "execution": {
     "iopub.execute_input": "2022-03-21T17:01:15.131299Z",
     "iopub.status.busy": "2022-03-21T17:01:15.130545Z",
     "iopub.status.idle": "2022-03-21T17:01:15.141823Z",
     "shell.execute_reply": "2022-03-21T17:01:15.140815Z",
     "shell.execute_reply.started": "2022-03-21T17:01:15.131254Z"
    }
   },
   "outputs": [],
   "source": [
    "if ckpt_exists == True:\n",
    "    epochs = 16\n",
    "    chkpt_restore_path = tf.train.latest_checkpoint(checkpoint_directory)\n",
    "    print(chkpt_restore_path)\n",
    "    num_ckpt = chkpt_restore_path[-1:]\n",
    "    checkpoint.restore(chkpt_restore_path)"
   ]
  },
  {
   "cell_type": "code",
   "execution_count": null,
   "metadata": {
    "execution": {
     "iopub.execute_input": "2022-03-21T17:01:15.143508Z",
     "iopub.status.busy": "2022-03-21T17:01:15.143254Z",
     "iopub.status.idle": "2022-03-21T17:01:15.155214Z",
     "shell.execute_reply": "2022-03-21T17:01:15.154484Z",
     "shell.execute_reply.started": "2022-03-21T17:01:15.143478Z"
    }
   },
   "outputs": [],
   "source": [
    "   if ckpt_exists == True:\n",
    "    if use_tpu == 'y' or use_tpu == 'Y':\n",
    "        with tpu_strategy.scope():\n",
    "            gan = GAN(discriminator=checkpoint.discriminator, generator=checkpoint.generator, latent_dim=latent_dim)\n",
    "\n",
    "            gan.compile(\n",
    "            d_optimizer=keras.optimizers.Adam(learning_rate=0.0001), # Was 0.0001\n",
    "            g_optimizer=keras.optimizers.Adam(learning_rate=0.0001), # Was 0.0001\n",
    "            loss_fn=keras.losses.BinaryCrossentropy(),\n",
    "            )\n",
    "\n",
    "    else: \n",
    "        gan = GAN(discriminator=checkpoint.discriminator, generator=checkpoint.generator, latent_dim=latent_dim)\n",
    "\n",
    "        gan.compile(\n",
    "        d_optimizer=keras.optimizers.Adam(learning_rate=0.0001), # Was 0.0001\n",
    "        g_optimizer=keras.optimizers.Adam(learning_rate=0.0001), # Was 0.0001\n",
    "        loss_fn=keras.losses.BinaryCrossentropy(),\n",
    "        )\n",
    "\n",
    "    #steps_per_epoch = 2500 // batch_size\n",
    "    gan.fit(\n",
    "      dataset, epochs=epochs, callbacks=[GANMonitor(num_img=10, latent_dim=latent_dim)]\n",
    "    )"
   ]
  },
  {
   "cell_type": "markdown",
   "metadata": {
    "id": "_Bn3n_AaLtIA"
   },
   "source": [
    "## Train the end-to-end model"
   ]
  },
  {
   "cell_type": "code",
   "execution_count": null,
   "metadata": {
    "execution": {
     "iopub.execute_input": "2022-03-21T17:01:15.156898Z",
     "iopub.status.busy": "2022-03-21T17:01:15.156515Z",
     "iopub.status.idle": "2022-03-21T17:03:41.125017Z",
     "shell.execute_reply": "2022-03-21T17:03:41.123751Z",
     "shell.execute_reply.started": "2022-03-21T17:01:15.156848Z"
    },
    "id": "7atjQsdbLtIA",
    "outputId": "201f7c7d-f6ef-487d-9843-51ef8f267c67",
    "scrolled": true
   },
   "outputs": [],
   "source": [
    "if ckpt_exists == False:\n",
    "    epochs = 91  # In practice, use ~100 epochs\n",
    "\n",
    "    if use_tpu == 'y' or use_tpu == 'Y':\n",
    "        with tpu_strategy.scope():\n",
    "            gan = GAN(discriminator=discriminator, generator=generator, latent_dim=latent_dim)\n",
    "\n",
    "            gan.compile(\n",
    "            d_optimizer=keras.optimizers.Adam(learning_rate=0.0001), # Was 0.0001\n",
    "            g_optimizer=keras.optimizers.Adam(learning_rate=0.0001), # Was 0.0001\n",
    "            loss_fn=keras.losses.BinaryCrossentropy(reduction = tf.keras.losses.Reduction.NONE),\n",
    "            )\n",
    "\n",
    "    else: \n",
    "        gan = GAN(discriminator=discriminator, generator=generator, latent_dim=latent_dim)\n",
    "\n",
    "        gan.compile(\n",
    "        d_optimizer=keras.optimizers.Adam(learning_rate=0.0001), # Was 0.0001\n",
    "        g_optimizer=keras.optimizers.Adam(learning_rate=0.0001), # Was 0.0001\n",
    "        loss_fn=keras.losses.BinaryCrossentropy(),\n",
    "        )\n",
    "\n",
    "    #steps_per_epoch = 2500 // batch_size\n",
    "    gan.fit(\n",
    "      dataset, epochs=epochs, callbacks=[GANMonitor(num_img=10, latent_dim=latent_dim)]\n",
    "    )"
   ]
  },
  {
   "cell_type": "code",
   "execution_count": null,
   "metadata": {
    "execution": {
     "iopub.status.busy": "2022-03-21T17:03:41.126072Z",
     "iopub.status.idle": "2022-03-21T17:03:41.126986Z",
     "shell.execute_reply": "2022-03-21T17:03:41.126767Z",
     "shell.execute_reply.started": "2022-03-21T17:03:41.126741Z"
    },
    "id": "IWm3DeULK_BH"
   },
   "outputs": [],
   "source": [
    "for x in dataset:\n",
    "  i = rd.randint(0,26458)\n",
    "  plt.imshow((x.numpy() * 255).astype(\"int32\")[0], cmap='gray')\n",
    "  break"
   ]
  },
  {
   "cell_type": "markdown",
   "metadata": {
    "id": "s-gZ4WSgLtIA"
   },
   "source": [
    "Some of the last generated images around epoch 30\n",
    "(results keep improving after that):\n"
   ]
  }
 ],
 "metadata": {
  "kernelspec": {
   "display_name": "Python 3 (ipykernel)",
   "language": "python",
   "name": "python3"
  },
  "language_info": {
   "codemirror_mode": {
    "name": "ipython",
    "version": 3
   },
   "file_extension": ".py",
   "mimetype": "text/x-python",
   "name": "python",
   "nbconvert_exporter": "python",
   "pygments_lexer": "ipython3",
   "version": "3.8.5"
  }
 },
 "nbformat": 4,
 "nbformat_minor": 4
}
