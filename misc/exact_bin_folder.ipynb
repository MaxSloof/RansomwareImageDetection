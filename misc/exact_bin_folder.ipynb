{
 "cells": [
  {
   "cell_type": "code",
   "execution_count": 1,
   "id": "240bcfaf",
   "metadata": {},
   "outputs": [],
   "source": [
    "import os\n",
    "import numpy as np\n",
    "import shutil\n",
    "import random"
   ]
  },
  {
   "cell_type": "code",
   "execution_count": 2,
   "id": "3f1402ae",
   "metadata": {},
   "outputs": [],
   "source": [
    "# size of dataset (based on learning curve)\n",
    "size = 1000"
   ]
  },
  {
   "cell_type": "code",
   "execution_count": 3,
   "id": "f153c154",
   "metadata": {},
   "outputs": [],
   "source": [
    "directory = \"C:/Users/Max/Documents/image_data/data_wo_benign\"\n",
    "c_directory = \"C:/Users/Max/Documents/image_data/data_original\""
   ]
  },
  {
   "cell_type": "code",
   "execution_count": 4,
   "id": "06c906ad",
   "metadata": {},
   "outputs": [],
   "source": [
    "index1 = directory.find(\"data_wo_benign\") + len(\"data_wo_benign\") + 1"
   ]
  },
  {
   "cell_type": "code",
   "execution_count": 5,
   "id": "46aa908a",
   "metadata": {},
   "outputs": [],
   "source": [
    "index2 = directory.find(\"data_wo_benign\")"
   ]
  },
  {
   "cell_type": "code",
   "execution_count": 6,
   "id": "161d9293",
   "metadata": {},
   "outputs": [],
   "source": [
    "count_dir = 0 \n",
    "count_all = np.array([])\n",
    "\n",
    "for dirs, root, file in os.walk(c_directory):\n",
    "    if file:\n",
    "        for f in file:\n",
    "            count_dir += 1\n",
    "        count_all = np.append(count_all, count_dir)\n",
    "        count_dir = 0"
   ]
  },
  {
   "cell_type": "code",
   "execution_count": 7,
   "id": "2fbbaa1e",
   "metadata": {},
   "outputs": [
    {
     "data": {
      "text/plain": [
       "array([14012.,  2434.,  2703.,   836.,   839.,   668.,  1445.,   955.,\n",
       "        1478.,   648.,   530.])"
      ]
     },
     "execution_count": 7,
     "metadata": {},
     "output_type": "execute_result"
    }
   ],
   "source": [
    "count_all"
   ]
  },
  {
   "cell_type": "code",
   "execution_count": 8,
   "id": "998f7ccc",
   "metadata": {},
   "outputs": [],
   "source": [
    "perc = count_all/sum(count_all)"
   ]
  },
  {
   "cell_type": "code",
   "execution_count": null,
   "id": "80f94e1f",
   "metadata": {},
   "outputs": [],
   "source": []
  },
  {
   "cell_type": "code",
   "execution_count": 9,
   "id": "2c9e5bca",
   "metadata": {
    "scrolled": true
   },
   "outputs": [
    {
     "data": {
      "text/plain": [
       "array([528,  92, 102,  31,  32,  25,  54,  36,  56,  24,  20], dtype=int16)"
      ]
     },
     "execution_count": 9,
     "metadata": {},
     "output_type": "execute_result"
    }
   ],
   "source": [
    "limit = np.round(size*perc).astype(np.int16)\n",
    "limit"
   ]
  },
  {
   "cell_type": "code",
   "execution_count": 13,
   "id": "3d628887",
   "metadata": {},
   "outputs": [],
   "source": [
    "gen_dir = []\n",
    "gen_file = []\n",
    "for dirs, root, file in os.walk(directory):\n",
    "    if file:\n",
    "        gen_img_dir = []\n",
    "        gen_file_dir = []\n",
    "        for f in file:\n",
    "            gen_img_dir.append(dirs)\n",
    "            gen_file_dir.append(f)\n",
    "        gen_dir.append(gen_img_dir)\n",
    "        gen_file.append(gen_file_dir)"
   ]
  },
  {
   "cell_type": "code",
   "execution_count": 14,
   "id": "238f3648",
   "metadata": {},
   "outputs": [
    {
     "name": "stdout",
     "output_type": "stream",
     "text": [
      "Generating images: BetterSurf\n",
      "Generating images: Eksor.A\n",
      "Generating images: Obfuscator.AFQ\n",
      "Generating images: Occamy.C\n",
      "Generating images: OnLineGames.CTB\n",
      "Generating images: Reveton.A\n",
      "Generating images: Sfone\n",
      "Generating images: VB.IL\n",
      "Generating images: Zbot\n",
      "Generating images: Zbot!CI\n"
     ]
    }
   ],
   "source": [
    "i = 0\n",
    "j = 0\n",
    "\n",
    "target_dir = f'{dirs[:index2]}bin_class'\n",
    "target_folder = target_dir\n",
    "os.makedirs(target_folder)\n",
    "    \n",
    "for j in range(len(np.unique(gen_dir))):\n",
    "    print(f\"Generating images: {gen_dir[j][0][index1:]}\")\n",
    "    for i in range(len(gen_dir[j])):\n",
    "        target_file = os.path.join(target_folder, gen_file[j][i])\n",
    "        shutil.copyfile(os.path.join(gen_dir[j][i],gen_file[j][i]), target_file)\n",
    "        \n",
    "                "
   ]
  },
  {
   "cell_type": "code",
   "execution_count": null,
   "id": "d54c6f0b",
   "metadata": {},
   "outputs": [],
   "source": []
  }
 ],
 "metadata": {
  "kernelspec": {
   "display_name": "Python 3 (ipykernel)",
   "language": "python",
   "name": "python3"
  },
  "language_info": {
   "codemirror_mode": {
    "name": "ipython",
    "version": 3
   },
   "file_extension": ".py",
   "mimetype": "text/x-python",
   "name": "python",
   "nbconvert_exporter": "python",
   "pygments_lexer": "ipython3",
   "version": "3.8.5"
  }
 },
 "nbformat": 4,
 "nbformat_minor": 5
}
