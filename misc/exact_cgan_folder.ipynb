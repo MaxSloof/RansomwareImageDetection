{
 "cells": [
  {
   "cell_type": "code",
   "execution_count": 2,
   "id": "240bcfaf",
   "metadata": {},
   "outputs": [],
   "source": [
    "import os\n",
    "import numpy as np\n",
    "import shutil"
   ]
  },
  {
   "cell_type": "code",
   "execution_count": 3,
   "id": "f153c154",
   "metadata": {},
   "outputs": [],
   "source": [
    "directory = \"C:/Users/Max/Documents/image_data/cgan-ckpt-local-v009\"\n",
    "c_directory = \"C:/Users/Max/Documents/image_data/data_original\""
   ]
  },
  {
   "cell_type": "code",
   "execution_count": 4,
   "id": "06c906ad",
   "metadata": {},
   "outputs": [],
   "source": [
    "index1 = directory.find(\"cgan-ckpt-local-v009\") + len(\"cgan-ckpt-local-v009\") + 1"
   ]
  },
  {
   "cell_type": "code",
   "execution_count": 5,
   "id": "46aa908a",
   "metadata": {},
   "outputs": [],
   "source": [
    "index2 = directory.find(\"cgan-ckpt-local-v009\")"
   ]
  },
  {
   "cell_type": "code",
   "execution_count": 6,
   "id": "161d9293",
   "metadata": {},
   "outputs": [],
   "source": [
    "count_dir = 0 \n",
    "count_all = np.array([])\n",
    "\n",
    "for dirs, root, file in os.walk(c_directory):\n",
    "    if file:\n",
    "        for f in file:\n",
    "            count_dir += 1\n",
    "        count_all = np.append(count_all, count_dir)\n",
    "        count_dir = 0"
   ]
  },
  {
   "cell_type": "code",
   "execution_count": 11,
   "id": "2c9e5bca",
   "metadata": {},
   "outputs": [
    {
     "data": {
      "text/plain": [
       "array([   0., 5789., 5654., 6588., 6586., 6672., 6284., 6528., 6267.,\n",
       "       6682., 6741.])"
      ]
     },
     "execution_count": 11,
     "metadata": {},
     "output_type": "execute_result"
    }
   ],
   "source": [
    "limit = np.around((max(count_all) - count_all)/2,0)\n",
    "limit"
   ]
  },
  {
   "cell_type": "code",
   "execution_count": 12,
   "id": "3d628887",
   "metadata": {},
   "outputs": [],
   "source": [
    "count_dir = 0 \n",
    "count_all = np.array([])\n",
    "i = 0\n",
    "j = 0\n",
    "os.makedirs(f'{dirs[:index2]}cgan-ckpt-v009-halfsize')\n",
    " \n",
    "for dirs, root, file in os.walk(directory):\n",
    "    if file:\n",
    "        j += 1\n",
    "        target_dir = f'{dirs[:index2]}cgan-ckpt-v009-halfsize/{dirs[index1:]}'\n",
    "        os.makedirs(target_dir)\n",
    "        i = 0\n",
    "        for f in file:\n",
    "            if i < limit[j]:\n",
    "                origin_file = os.path.join(dirs,f)\n",
    "                target_file = os.path.join(target_dir,f)\n",
    "                shutil.copyfile(origin_file, target_file)\n",
    "                i += 1\n",
    "            else:\n",
    "                continue\n",
    "                "
   ]
  },
  {
   "cell_type": "code",
   "execution_count": null,
   "id": "6c10c057",
   "metadata": {},
   "outputs": [],
   "source": []
  }
 ],
 "metadata": {
  "kernelspec": {
   "display_name": "Python 3 (ipykernel)",
   "language": "python",
   "name": "python3"
  },
  "language_info": {
   "codemirror_mode": {
    "name": "ipython",
    "version": 3
   },
   "file_extension": ".py",
   "mimetype": "text/x-python",
   "name": "python",
   "nbconvert_exporter": "python",
   "pygments_lexer": "ipython3",
   "version": "3.8.5"
  }
 },
 "nbformat": 4,
 "nbformat_minor": 5
}
