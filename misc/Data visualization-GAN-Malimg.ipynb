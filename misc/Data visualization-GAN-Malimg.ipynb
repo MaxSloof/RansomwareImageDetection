{
 "cells": [
  {
   "cell_type": "code",
   "execution_count": 1,
   "id": "cb2052a8",
   "metadata": {
    "execution": {
     "iopub.execute_input": "2022-04-04T12:54:20.45658Z",
     "iopub.status.busy": "2022-04-04T12:54:20.456317Z",
     "iopub.status.idle": "2022-04-04T12:54:20.461217Z",
     "shell.execute_reply": "2022-04-04T12:54:20.460255Z",
     "shell.execute_reply.started": "2022-04-04T12:54:20.456552Z"
    }
   },
   "outputs": [],
   "source": [
    "# Image size (height x width)\n",
    "ih = 64\n",
    "iw = 64\n",
    "\n",
    "# Grayscale or RGB\n",
    "ch = 'grayscale'\n",
    "\n",
    "# Batch size\n",
    "batch_size = 40000\n",
    "\n",
    "# Number of epochs\n",
    "epoch_t = 15\n",
    "\n",
    "# Where computation is performed: Kaggle (0) or Local (1)\n",
    "cenv = 1\n",
    "\n",
    "# Division of the training vs. test set \n",
    "test_size = 0.3\n",
    "\n",
    "# number of folds\n",
    "n_folds = 10"
   ]
  },
  {
   "cell_type": "markdown",
   "id": "6fbd245c",
   "metadata": {},
   "source": [
    "_____________________________________________________________________"
   ]
  },
  {
   "cell_type": "code",
   "execution_count": 2,
   "id": "b71e83d4",
   "metadata": {
    "execution": {
     "iopub.execute_input": "2022-04-04T12:54:20.758272Z",
     "iopub.status.busy": "2022-04-04T12:54:20.758045Z",
     "iopub.status.idle": "2022-04-04T12:54:20.762812Z",
     "shell.execute_reply": "2022-04-04T12:54:20.762096Z",
     "shell.execute_reply.started": "2022-04-04T12:54:20.758247Z"
    }
   },
   "outputs": [
    {
     "name": "stdout",
     "output_type": "stream",
     "text": [
      "Computation environment: Local\n"
     ]
    }
   ],
   "source": [
    "# To check whether the right environment has been selected\n",
    "if cenv == 0:\n",
    "    print(\"Computation environment: Kaggle\")\n",
    "if cenv == 1:\n",
    "    print(\"Computation environment: Local\")"
   ]
  },
  {
   "cell_type": "markdown",
   "id": "a0118044",
   "metadata": {},
   "source": [
    "Import the necessary libraries"
   ]
  },
  {
   "cell_type": "code",
   "execution_count": 3,
   "id": "84df4e7d",
   "metadata": {
    "_cell_guid": "b1076dfc-b9ad-4769-8c92-a6c4dae69d19",
    "_uuid": "8f2839f25d086af736a60e9eeb907d3b93b6e0e5",
    "execution": {
     "iopub.execute_input": "2022-04-04T12:54:20.927275Z",
     "iopub.status.busy": "2022-04-04T12:54:20.925475Z",
     "iopub.status.idle": "2022-04-04T12:54:20.932284Z",
     "shell.execute_reply": "2022-04-04T12:54:20.931345Z",
     "shell.execute_reply.started": "2022-04-04T12:54:20.927244Z"
    }
   },
   "outputs": [],
   "source": [
    "from keras.preprocessing.image import ImageDataGenerator\n",
    "from sklearn.model_selection import train_test_split\n",
    "from tensorflow.keras.models import load_model\n",
    "import tensorflow as tf\n",
    "import numpy as np\n",
    "from sklearn.utils import class_weight\n",
    "from sklearn import metrics\n",
    "import sys\n",
    "import os\n",
    "from math import log\n",
    "import scipy as sp\n",
    "import matplotlib.pyplot as plt\n",
    "import pandas as pd\n",
    "import seaborn as sns"
   ]
  },
  {
   "cell_type": "markdown",
   "id": "5ff4a850",
   "metadata": {},
   "source": [
    "Check whether a, and which GPU is available for the computation"
   ]
  },
  {
   "cell_type": "code",
   "execution_count": 4,
   "id": "03ca07c5",
   "metadata": {
    "execution": {
     "iopub.execute_input": "2022-04-04T12:54:21.093735Z",
     "iopub.status.busy": "2022-04-04T12:54:21.09347Z",
     "iopub.status.idle": "2022-04-04T12:54:21.099596Z",
     "shell.execute_reply": "2022-04-04T12:54:21.098416Z",
     "shell.execute_reply.started": "2022-04-04T12:54:21.093698Z"
    }
   },
   "outputs": [
    {
     "name": "stdout",
     "output_type": "stream",
     "text": [
      "[PhysicalDevice(name='/physical_device:GPU:0', device_type='GPU')]\n"
     ]
    }
   ],
   "source": [
    "is_cuda_gpu_available = tf.config.list_physical_devices('GPU')\n",
    "print(is_cuda_gpu_available)"
   ]
  },
  {
   "cell_type": "code",
   "execution_count": 5,
   "id": "a744a698",
   "metadata": {
    "execution": {
     "iopub.execute_input": "2022-04-04T12:54:21.218656Z",
     "iopub.status.busy": "2022-04-04T12:54:21.21844Z",
     "iopub.status.idle": "2022-04-04T12:54:21.222873Z",
     "shell.execute_reply": "2022-04-04T12:54:21.221912Z",
     "shell.execute_reply.started": "2022-04-04T12:54:21.218631Z"
    }
   },
   "outputs": [],
   "source": [
    "# Image size\n",
    "im_si = (ih, iw)\n",
    "\n",
    "# Convert the color channel to the corresponding number of layers\n",
    "if(ch == 'rgb'):\n",
    "    chnum = 3\n",
    "elif(ch == 'grayscale'):\n",
    "    chnum = 1"
   ]
  },
  {
   "cell_type": "markdown",
   "id": "dd43cec1",
   "metadata": {},
   "source": [
    "Create new directory for saving output files if computation is done locally"
   ]
  },
  {
   "cell_type": "code",
   "execution_count": 6,
   "id": "996ebeaa",
   "metadata": {
    "execution": {
     "iopub.execute_input": "2022-04-04T12:54:21.524082Z",
     "iopub.status.busy": "2022-04-04T12:54:21.523822Z",
     "iopub.status.idle": "2022-04-04T12:54:21.532904Z",
     "shell.execute_reply": "2022-04-04T12:54:21.530442Z",
     "shell.execute_reply.started": "2022-04-04T12:54:21.52405Z"
    }
   },
   "outputs": [
    {
     "name": "stdout",
     "output_type": "stream",
     "text": [
      "No matches found\n",
      "New folder name: cgan-cnn-local-v001\n",
      "--------------\n"
     ]
    }
   ],
   "source": [
    "if cenv == 1:\n",
    "    file_exists = []\n",
    "    vnum = 1\n",
    "    dir = \"C:/Users/Max/Documents/GitHub/misc\"\n",
    "    for files in os.listdir(dir):\n",
    "        if \"cgan-distribution\" in files:\n",
    "            try:\n",
    "                vnum = max(vnum, int(files[-3:]))\n",
    "            except: \n",
    "                continue\n",
    "            new_vnum = vnum + 1\n",
    "            file_exists.append(True)\n",
    "        else: \n",
    "            file_exists.append(False)\n",
    "    # If this is the first notebook you want to save, a new folder will be created with version #001\n",
    "    if sum(file_exists) == 0:\n",
    "        new_vnum = 1\n",
    "        print(\"No matches found\")\n",
    "\n",
    "    else: \n",
    "        print(f\"{sum(file_exists)} matches(es) found\")\n",
    "        print(\"--------------\")\n",
    "\n",
    "    # Print new folder name\n",
    "    print(f\"New folder name: cgan-cnn-local-v{new_vnum:03}\")\n",
    "    print(\"--------------\")\n",
    "    \n",
    "    # Create new folder with the name of the notebook and the version number\n",
    "    new_dir = f\"/Users/Max/Documents/GitHub/misc/malimg-cgan-distribution-v{new_vnum:03}\"\n",
    "    os.makedirs(new_dir)"
   ]
  },
  {
   "cell_type": "markdown",
   "id": "34672f8e",
   "metadata": {},
   "source": [
    "**Data**\n"
   ]
  },
  {
   "cell_type": "code",
   "execution_count": 7,
   "id": "02e350ca",
   "metadata": {
    "execution": {
     "iopub.execute_input": "2022-04-04T12:54:22.029004Z",
     "iopub.status.busy": "2022-04-04T12:54:22.028035Z",
     "iopub.status.idle": "2022-04-04T12:54:22.034118Z",
     "shell.execute_reply": "2022-04-04T12:54:22.032951Z",
     "shell.execute_reply.started": "2022-04-04T12:54:22.028948Z"
    }
   },
   "outputs": [],
   "source": [
    "if cenv == 0:\n",
    "    path_root = \"/kaggle/input/thesis-data\"\n",
    "\n",
    "if cenv == 1:\n",
    "    path_root = \"C:/Users/Max/Documents/image_data/malimg_paper_dataset_imgs\"\n",
    "    path_root_gen = \"C:/Users/Max/Documents/image_data/malimg-cgan-v025-rightsize\""
   ]
  },
  {
   "cell_type": "markdown",
   "id": "52eb4db3",
   "metadata": {},
   "source": [
    "Load the data. No data augmentation takes place"
   ]
  },
  {
   "cell_type": "code",
   "execution_count": 8,
   "id": "7d8b8241",
   "metadata": {
    "execution": {
     "iopub.execute_input": "2022-04-04T12:54:22.320796Z",
     "iopub.status.busy": "2022-04-04T12:54:22.320461Z",
     "iopub.status.idle": "2022-04-04T12:55:08.312969Z",
     "shell.execute_reply": "2022-04-04T12:55:08.312236Z",
     "shell.execute_reply.started": "2022-04-04T12:54:22.320754Z"
    }
   },
   "outputs": [
    {
     "name": "stdout",
     "output_type": "stream",
     "text": [
      "Found 9339 images belonging to 25 classes.\n"
     ]
    }
   ],
   "source": [
    "batches = ImageDataGenerator().flow_from_directory(\n",
    "    directory     = path_root, \n",
    "    color_mode    = ch, \n",
    "    target_size   = (ih,iw), \n",
    "    batch_size    = batch_size,\n",
    "    interpolation = 'bicubic'\n",
    ")\n",
    "imgs, labels = next(batches)"
   ]
  },
  {
   "cell_type": "code",
   "execution_count": 9,
   "id": "8f5068a6",
   "metadata": {},
   "outputs": [
    {
     "name": "stdout",
     "output_type": "stream",
     "text": [
      "Found 58507 images belonging to 25 classes.\n"
     ]
    }
   ],
   "source": [
    "batches_gen = ImageDataGenerator().flow_from_directory(\n",
    "    directory     = path_root_gen, \n",
    "    color_mode    = ch, \n",
    "    target_size   = (ih,iw), \n",
    "    batch_size    = batch_size,\n",
    "    interpolation = 'bicubic'\n",
    ")\n",
    "imgs_gen, labels_gen = next(batches_gen)"
   ]
  },
  {
   "cell_type": "code",
   "execution_count": 10,
   "id": "df4089d7",
   "metadata": {},
   "outputs": [],
   "source": [
    "labels_flat = np.argmax(labels, axis=1)\n",
    "labels_gen_flat = np.argmax(labels_gen,axis = 1)"
   ]
  },
  {
   "cell_type": "code",
   "execution_count": 11,
   "id": "a133c325",
   "metadata": {},
   "outputs": [],
   "source": [
    "rw_count = 0\n",
    "bn_count = 0\n",
    "for i in labels_flat:\n",
    "    if i <= 9:\n",
    "        rw_count += 1\n",
    "    else:\n",
    "        bn_count += 1"
   ]
  },
  {
   "cell_type": "code",
   "execution_count": 12,
   "id": "def77147",
   "metadata": {},
   "outputs": [],
   "source": [
    "multi_labels = list(batches.class_indices.keys())"
   ]
  },
  {
   "cell_type": "code",
   "execution_count": 13,
   "id": "9a0b85ad",
   "metadata": {},
   "outputs": [
    {
     "data": {
      "text/plain": [
       "(40000,)"
      ]
     },
     "execution_count": 13,
     "metadata": {},
     "output_type": "execute_result"
    }
   ],
   "source": [
    "np.array(labels_gen_flat).shape"
   ]
  },
  {
   "cell_type": "code",
   "execution_count": 14,
   "id": "f02889a4",
   "metadata": {},
   "outputs": [],
   "source": [
    "classes = batches.class_indices.keys()\n",
    "x_axis = np.arange(len(list(classes)))"
   ]
  },
  {
   "cell_type": "code",
   "execution_count": 15,
   "id": "e0d6e082",
   "metadata": {},
   "outputs": [],
   "source": [
    "labels_all = np.concatenate((np.array(labels_flat), np.array(labels_gen_flat)), axis = 0)"
   ]
  },
  {
   "cell_type": "code",
   "execution_count": 16,
   "id": "94768c97",
   "metadata": {},
   "outputs": [],
   "source": [
    "rw_count_all = 0\n",
    "bn_count_all = 0\n",
    "for i in labels_all:\n",
    "    if i <= 9:\n",
    "        rw_count_all += 1\n",
    "    else:\n",
    "        bn_count_all += 1"
   ]
  },
  {
   "cell_type": "code",
   "execution_count": 17,
   "id": "232d65b7",
   "metadata": {},
   "outputs": [],
   "source": [
    "count_all = np.array([rw_count_all, bn_count_all]) / (rw_count_all + bn_count_all) * 100\n",
    "count = np.array([rw_count, bn_count]) / (rw_count + bn_count) * 100 "
   ]
  },
  {
   "cell_type": "code",
   "execution_count": 18,
   "id": "93a1e4c6",
   "metadata": {},
   "outputs": [],
   "source": [
    "x_axis_bin = np.arange(2)"
   ]
  },
  {
   "cell_type": "code",
   "execution_count": 19,
   "id": "e230b1fd",
   "metadata": {},
   "outputs": [
    {
     "data": {
      "image/png": "[encoded data removed]",
      "text/plain": [
       "<Figure size 432x288 with 1 Axes>"
      ]
     },
     "metadata": {
      "needs_background": "light"
     },
     "output_type": "display_data"
    }
   ],
   "source": [
    "plt.bar(x_axis_bin - 0.2, count, 0.4, label = 'Test')\n",
    "plt.bar(x_axis_bin + 0.2, count_all, 0.4, label = 'Training')\n",
    "\n",
    "plt.title('Distribution of the dataset incl. CGAN')\n",
    "plt.ylabel('Dataset distribution in percentage (%)')\n",
    "plt.xticks(range(len(x_axis_bin)), ['Ransomware', 'Benign'], rotation='horizontal')\n",
    "plt.legend()\n",
    "\n",
    "if cenv == 0:\n",
    "    plt.savefig(\"bin_data_dist.png\", bbox_inches = 'tight', dpi = 150)\n",
    "if cenv == 1:\n",
    "    plt.savefig(f\"{new_dir}/bin_data_dist.png\", bbox_inches = 'tight', dpi = 150)"
   ]
  },
  {
   "cell_type": "code",
   "execution_count": 20,
   "id": "e1a7466d",
   "metadata": {},
   "outputs": [],
   "source": [
    "multi_perc = np.array(np.unique(labels_flat, return_counts=True)[1]) / labels_flat.shape[0] * 100\n",
    "multi_all_perc = np.array(np.unique(labels_all, return_counts=True)[1]) / labels_all.shape[0] * 100"
   ]
  },
  {
   "cell_type": "code",
   "execution_count": 21,
   "id": "63c2a419",
   "metadata": {},
   "outputs": [
    {
     "data": {
      "image/png": "[encoded data removed]",
      "text/plain": [
       "<Figure size 432x288 with 1 Axes>"
      ]
     },
     "metadata": {
      "needs_background": "light"
     },
     "output_type": "display_data"
    }
   ],
   "source": [
    "plt.bar(x_axis - 0.2, multi_perc, 0.4, label = 'Test')\n",
    "plt.bar(x_axis + 0.2, multi_all_perc, 0.4, label = 'Training')\n",
    "\n",
    "plt.title('Distribution of the dataset incl. CGAN')\n",
    "plt.ylabel('Dataset distribution in percentage (%)')\n",
    "plt.xticks(range(25), multi_labels, rotation='vertical')\n",
    "plt.legend()\n",
    "\n",
    "if cenv == 0:\n",
    "    plt.savefig(\"multi_data_dist.png\", bbox_inches = 'tight', dpi = 150)\n",
    "if cenv == 1:\n",
    "    plt.savefig(f\"{new_dir}/multi_data_dist.png\", bbox_inches = 'tight', dpi = 150)"
   ]
  },
  {
   "cell_type": "code",
   "execution_count": null,
   "id": "9c7ed7ba",
   "metadata": {},
   "outputs": [],
   "source": []
  }
 ],
 "metadata": {
  "kernelspec": {
   "display_name": "Python 3 (ipykernel)",
   "language": "python",
   "name": "python3"
  },
  "language_info": {
   "codemirror_mode": {
    "name": "ipython",
    "version": 3
   },
   "file_extension": ".py",
   "mimetype": "text/x-python",
   "name": "python",
   "nbconvert_exporter": "python",
   "pygments_lexer": "ipython3",
   "version": "3.8.13"
  }
 },
 "nbformat": 4,
 "nbformat_minor": 5
}
