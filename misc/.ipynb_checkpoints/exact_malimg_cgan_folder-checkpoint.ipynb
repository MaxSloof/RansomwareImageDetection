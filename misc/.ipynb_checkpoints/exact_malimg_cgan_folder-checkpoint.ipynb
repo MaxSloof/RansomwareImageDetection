{
 "cells": [
  {
   "cell_type": "code",
   "execution_count": 1,
   "id": "240bcfaf",
   "metadata": {},
   "outputs": [],
   "source": [
    "import os\n",
    "import numpy as np\n",
    "import shutil\n",
    "import random"
   ]
  },
  {
   "cell_type": "code",
   "execution_count": 2,
   "id": "f153c154",
   "metadata": {},
   "outputs": [],
   "source": [
    "directory = \"C:/Users/Max/Documents/image_data/malimg_cgan_ckpt_v025\"\n",
    "c_directory = \"C:/Users/Max/Documents/image_data/malimg_paper_dataset_imgs\""
   ]
  },
  {
   "cell_type": "code",
   "execution_count": 3,
   "id": "06c906ad",
   "metadata": {},
   "outputs": [],
   "source": [
    "index1 = directory.find(\"malimg_cgan_ckpt_v025\") + len(\"malimg_cgan_ckpt_v025\") + 1"
   ]
  },
  {
   "cell_type": "code",
   "execution_count": 4,
   "id": "46aa908a",
   "metadata": {},
   "outputs": [],
   "source": [
    "index2 = directory.find(\"malimg_cgan_ckpt_v025\")"
   ]
  },
  {
   "cell_type": "code",
   "execution_count": 5,
   "id": "161d9293",
   "metadata": {},
   "outputs": [],
   "source": [
    "count_dir = 0 \n",
    "count_all = np.array([])\n",
    "\n",
    "for dirs, root, file in os.walk(c_directory):\n",
    "    if file:\n",
    "        for f in file:\n",
    "            count_dir += 1\n",
    "        count_all = np.append(count_all, count_dir)\n",
    "        count_dir = 0"
   ]
  },
  {
   "cell_type": "code",
   "execution_count": 68,
   "id": "2c9e5bca",
   "metadata": {},
   "outputs": [
    {
     "data": {
      "text/plain": [
       "array([2827, 2833,    0, 1358, 2751, 2843, 2749, 2803, 2772, 2787, 2568,\n",
       "       2518, 2736, 2765, 2826, 2790, 2813, 2807, 2791, 2869, 2821, 2817,\n",
       "       2541, 2852, 2149])"
      ]
     },
     "execution_count": 68,
     "metadata": {},
     "output_type": "execute_result"
    }
   ],
   "source": [
    "limit = np.around((max(count_all) - count_all)).astype(\"int32\")\n",
    "limit"
   ]
  },
  {
   "cell_type": "code",
   "execution_count": 76,
   "id": "621f9883",
   "metadata": {
    "scrolled": true
   },
   "outputs": [
    {
     "data": {
      "text/plain": [
       "array([2500, 2500,    0, 1358, 2500, 2500, 2500, 2500, 2500, 2500, 2500,\n",
       "       2500, 2500, 2500, 2500, 2500, 2500, 2500, 2500, 2500, 2500, 2500,\n",
       "       2500, 2500, 2149])"
      ]
     },
     "execution_count": 76,
     "metadata": {},
     "output_type": "execute_result"
    }
   ],
   "source": [
    "for count, value in enumerate(limit):\n",
    "    limit[count] = min(value, 2500)\n",
    "limit"
   ]
  },
  {
   "cell_type": "code",
   "execution_count": 77,
   "id": "3d628887",
   "metadata": {},
   "outputs": [],
   "source": [
    "gen_dir = []\n",
    "gen_file = []\n",
    "for dirs, root, file in os.walk(directory):\n",
    "    if file:\n",
    "        gen_img_dir = []\n",
    "        gen_file_dir = []\n",
    "        for f in file:\n",
    "            gen_img_dir.append(dirs)\n",
    "            gen_file_dir.append(f)\n",
    "        gen_dir.append(gen_img_dir)\n",
    "        gen_file.append(gen_file_dir)"
   ]
  },
  {
   "cell_type": "code",
   "execution_count": 78,
   "id": "238f3648",
   "metadata": {},
   "outputs": [
    {
     "name": "stdout",
     "output_type": "stream",
     "text": [
      "C:/Users/Max/Documents/image_data/malimg-cgan-rightsize\n",
      "Generating images: Adialer.C\n",
      "Generating images: Agent.FYI\n",
      "Generating images: Allaple.A\n",
      "Generating images: Allaple.L\n",
      "Generating images: Alueron.gen!J\n",
      "Generating images: Autorun.K\n",
      "Generating images: C2LOP.gen!g\n",
      "Generating images: C2LOP.P\n",
      "Generating images: Dialplatform.B\n",
      "Generating images: Dontovo.A\n",
      "Generating images: Fakerean\n",
      "Generating images: Instantaccess\n",
      "Generating images: Lolyda.AA1\n",
      "Generating images: Lolyda.AA2\n",
      "Generating images: Lolyda.AA3\n",
      "Generating images: Lolyda.AT\n",
      "Generating images: Malex.gen!J\n",
      "Generating images: Obfuscator.AD\n",
      "Generating images: Rbot!gen\n",
      "Generating images: Skintrim.N\n",
      "Generating images: Swizzor.gen!E\n",
      "Generating images: Swizzor.gen!I\n",
      "Generating images: VB.AT\n",
      "Generating images: Wintrim.BX\n",
      "Generating images: Yuner.A\n"
     ]
    }
   ],
   "source": [
    "i = 0\n",
    "j = 0\n",
    "\n",
    "target_dir = f'{dirs[:index2]}malimg-cgan-v025-rightsize'\n",
    "print(target_dir)\n",
    "for j in range(len(np.unique(gen_dir))):\n",
    "    target_folder = os.path.join(target_dir,gen_dir[j][0][index1:])\n",
    "    os.makedirs(target_folder)\n",
    "    print(f\"Generating images: {gen_dir[j][0][index1:]}\")\n",
    "    for i in random.sample(range(len(gen_dir[j])),limit[j]):\n",
    "        target_file = os.path.join(target_folder, gen_file[j][i])\n",
    "        shutil.copyfile(os.path.join(gen_dir[j][i],gen_file[j][i]), target_file)\n",
    "        \n",
    "                "
   ]
  }
 ],
 "metadata": {
  "kernelspec": {
   "display_name": "Python 3 (ipykernel)",
   "language": "python",
   "name": "python3"
  },
  "language_info": {
   "codemirror_mode": {
    "name": "ipython",
    "version": 3
   },
   "file_extension": ".py",
   "mimetype": "text/x-python",
   "name": "python",
   "nbconvert_exporter": "python",
   "pygments_lexer": "ipython3",
   "version": "3.8.13"
  }
 },
 "nbformat": 4,
 "nbformat_minor": 5
}
