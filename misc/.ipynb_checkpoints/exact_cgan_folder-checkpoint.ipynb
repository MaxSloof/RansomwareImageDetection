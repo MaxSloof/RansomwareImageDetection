{
 "cells": [
  {
   "cell_type": "code",
   "execution_count": 1,
   "id": "240bcfaf",
   "metadata": {},
   "outputs": [],
   "source": [
    "import os\n",
    "import numpy as np\n",
    "import shutil\n",
    "import random"
   ]
  },
  {
   "cell_type": "code",
   "execution_count": 2,
   "id": "f153c154",
   "metadata": {},
   "outputs": [],
   "source": [
    "directory = \"C:/Users/Max/Documents/image_data/cgan-ckpt-local-v009\"\n",
    "c_directory = \"C:/Users/Max/Documents/image_data/data_original\""
   ]
  },
  {
   "cell_type": "code",
   "execution_count": 3,
   "id": "06c906ad",
   "metadata": {},
   "outputs": [],
   "source": [
    "index1 = directory.find(\"cgan-ckpt-local-v009\") + len(\"cgan-ckpt-local-v009\") + 1"
   ]
  },
  {
   "cell_type": "code",
   "execution_count": 4,
   "id": "46aa908a",
   "metadata": {},
   "outputs": [],
   "source": [
    "index2 = directory.find(\"cgan-ckpt-local-v009\")"
   ]
  },
  {
   "cell_type": "code",
   "execution_count": 5,
   "id": "161d9293",
   "metadata": {},
   "outputs": [],
   "source": [
    "count_dir = 0 \n",
    "count_all = np.array([])\n",
    "\n",
    "for dirs, root, file in os.walk(c_directory):\n",
    "    if file:\n",
    "        for f in file:\n",
    "            count_dir += 1\n",
    "        count_all = np.append(count_all, count_dir)\n",
    "        count_dir = 0"
   ]
  },
  {
   "cell_type": "code",
   "execution_count": 33,
   "id": "2c9e5bca",
   "metadata": {},
   "outputs": [
    {
     "data": {
      "text/plain": [
       "array([   0, 3859, 3770, 4392, 4391, 4448, 4189, 4352, 4178, 4455, 4494])"
      ]
     },
     "execution_count": 33,
     "metadata": {},
     "output_type": "execute_result"
    }
   ],
   "source": [
    "limit = np.around((max(count_all) - count_all)/3,0).astype(\"int32\")\n",
    "limit"
   ]
  },
  {
   "cell_type": "code",
   "execution_count": 25,
   "id": "3d628887",
   "metadata": {},
   "outputs": [],
   "source": [
    "gen_dir = []\n",
    "gen_file = []\n",
    "for dirs, root, file in os.walk(directory):\n",
    "    if file:\n",
    "        gen_img_dir = []\n",
    "        gen_file_dir = []\n",
    "        for f in file:\n",
    "            gen_img_dir.append(dirs)\n",
    "            gen_file_dir.append(f)\n",
    "        gen_dir.append(gen_img_dir)\n",
    "        gen_file.append(gen_file_dir)"
   ]
  },
  {
   "cell_type": "code",
   "execution_count": 28,
   "id": "238f3648",
   "metadata": {},
   "outputs": [
    {
     "name": "stdout",
     "output_type": "stream",
     "text": [
      "Generating images: BetterSurf\n",
      "Generating images: Eksor.A\n",
      "Generating images: Obfuscator.AFQ\n",
      "Generating images: Occamy.C\n",
      "Generating images: OnLineGames.CTB\n",
      "Generating images: Reveton.A\n",
      "Generating images: Sfone\n",
      "Generating images: VB.IL\n",
      "Generating images: Zbot\n",
      "Generating images: Zbot!CI\n"
     ]
    }
   ],
   "source": [
    "i = 0\n",
    "j = 0\n",
    "\n",
    "target_dir = f'{dirs[:index2]}cgan-ckpt-v009-thirdsize'\n",
    "for j in range(len(np.unique(gen_dir))):\n",
    "    target_folder = os.path.join(target_dir,gen_dir[j][0][index1:])\n",
    "    os.makedirs(target_folder)\n",
    "    print(f\"Generating images: {gen_dir[j][0][index1:]}\")\n",
    "    for i in random.sample(range(len(gen_dir[j])),limit[j+1]):\n",
    "        target_file = os.path.join(target_folder, gen_file[j][i])\n",
    "        shutil.copyfile(os.path.join(gen_dir[j][i],gen_file[j][i]), target_file)\n",
    "        \n",
    "                "
   ]
  }
 ],
 "metadata": {
  "kernelspec": {
   "display_name": "Python 3 (ipykernel)",
   "language": "python",
   "name": "python3"
  },
  "language_info": {
   "codemirror_mode": {
    "name": "ipython",
    "version": 3
   },
   "file_extension": ".py",
   "mimetype": "text/x-python",
   "name": "python",
   "nbconvert_exporter": "python",
   "pygments_lexer": "ipython3",
   "version": "3.8.5"
  }
 },
 "nbformat": 4,
 "nbformat_minor": 5
}
