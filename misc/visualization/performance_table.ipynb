{
 "cells": [
  {
   "cell_type": "code",
   "execution_count": 1,
   "id": "0316e96a",
   "metadata": {},
   "outputs": [],
   "source": [
    "import matplotlib.pyplot as plt\n",
    "import pandas as pd\n",
    "import numpy as np"
   ]
  },
  {
   "cell_type": "markdown",
   "id": "a3b4b497",
   "metadata": {},
   "source": [
    "Load all the CSV files as Pandas dataframes"
   ]
  },
  {
   "cell_type": "code",
   "execution_count": 2,
   "id": "9113e8dd",
   "metadata": {},
   "outputs": [],
   "source": [
    "df_cnn = pd.read_csv(\"C://Users/Max/Documents/GitHub/final_models_cross_validation/performance_cnn.csv\")\n",
    "df_cgan_cnn = pd.read_csv(\"C://Users/Max/Documents/GitHub/final_models_cross_validation/performance_cgan_cnn.csv\")\n",
    "df_densenet = pd.read_csv(\"C://Users/Max/Documents/GitHub/final_models_cross_validation/performance_densenet.csv\")\n",
    "df_cgan_densenet = pd.read_csv(\"C://Users/Max/Documents/GitHub/final_models_cross_validation/performance_cgan_densenet.csv\")"
   ]
  },
  {
   "cell_type": "markdown",
   "id": "5d9e886d",
   "metadata": {},
   "source": [
    "Allocate save directory"
   ]
  },
  {
   "cell_type": "code",
   "execution_count": 3,
   "id": "a001c219",
   "metadata": {},
   "outputs": [],
   "source": [
    "save_dir = \"C:/Users/Max/iCloudDrive/Documents/Erasmus University/Business Information Management/Thesis/Visuals\""
   ]
  },
  {
   "cell_type": "markdown",
   "id": "2fd3cca7",
   "metadata": {},
   "source": [
    "Create range of axis length and x-axis labels"
   ]
  },
  {
   "cell_type": "code",
   "execution_count": 4,
   "id": "b5ba084a",
   "metadata": {},
   "outputs": [
    {
     "data": {
      "text/plain": [
       "array([0, 1, 2, 3])"
      ]
     },
     "execution_count": 4,
     "metadata": {},
     "output_type": "execute_result"
    }
   ],
   "source": [
    "x_axis = np.arange(len(df_cnn[3:]))\n",
    "x_axis"
   ]
  },
  {
   "cell_type": "markdown",
   "id": "4f31d1bc",
   "metadata": {},
   "source": [
    "Plot the binary classification graph"
   ]
  },
  {
   "cell_type": "code",
   "execution_count": 5,
   "id": "ea996f6f",
   "metadata": {},
   "outputs": [
    {
     "data": {
      "image/png": "[encoded data removed]",
      "text/plain": [
       "<Figure size 432x288 with 1 Axes>"
      ]
     },
     "metadata": {
      "needs_background": "light"
     },
     "output_type": "display_data"
    }
   ],
   "source": [
    "fig = plt.figure()\n",
    "plt.errorbar(x_axis-0.3, 'mean', yerr = 'sd', data = df_cnn[3:], fmt='Dr', lw =3, \n",
    "             capsize=4, capthick=1, elinewidth = 1)\n",
    "plt.errorbar(x_axis-0.1, 'mean', yerr = 'sd', data = df_cgan_cnn[3:], fmt='Db', lw =3, \n",
    "             capsize=4, capthick=1, elinewidth = 1)\n",
    "plt.errorbar(x_axis+0.1, 'mean', yerr = 'sd', data = df_densenet[3:], fmt='Dg', lw =3, \n",
    "             capsize=4, capthick=1, elinewidth = 1)\n",
    "plt.errorbar(x_axis+0.3, 'mean', yerr = 'sd', data = df_cgan_densenet[3:], fmt='Dk', lw =3, \n",
    "             capsize=4, capthick=1, elinewidth = 1)\n",
    "\n",
    "plt.ylim(0.955, 1)\n",
    "plt.yticks(np.arange(0.960, 1, step=0.005))\n",
    "\n",
    "plt.xticks(x_axis, [\"TPR\", \"Accuracy\", \"F1\", \"MCC\"])\n",
    "plt.legend([\"CNN\", \"CGAN-CNN\", \"DenseNet\", \"CGAN-DenseNet\"])\n",
    "\n",
    "plt.title(\"Classification performance\")\n",
    "\n",
    "for i in [0.5,1.5,2.5]:\n",
    "    plt.axvline(x=i, color = 'grey', alpha = 0.6)\n",
    "    \n",
    "plt.savefig(f\"{save_dir}/perf_bin_class.png\")"
   ]
  },
  {
   "cell_type": "markdown",
   "id": "5f881eda",
   "metadata": {},
   "source": [
    "Plot multi-class classification graph"
   ]
  },
  {
   "cell_type": "code",
   "execution_count": 6,
   "id": "36c52e61",
   "metadata": {
    "scrolled": true
   },
   "outputs": [
    {
     "data": {
      "text/plain": [
       "array([0, 1])"
      ]
     },
     "execution_count": 6,
     "metadata": {},
     "output_type": "execute_result"
    }
   ],
   "source": [
    "x_axis = np.arange(len(df_cnn.loc[[0,2], : ]))\n",
    "x_axis"
   ]
  },
  {
   "cell_type": "code",
   "execution_count": 7,
   "id": "c5e5fef4",
   "metadata": {},
   "outputs": [
    {
     "data": {
      "image/png": "[encoded data removed]",
      "text/plain": [
       "<Figure size 432x288 with 1 Axes>"
      ]
     },
     "metadata": {
      "needs_background": "light"
     },
     "output_type": "display_data"
    }
   ],
   "source": [
    "fig = plt.figure()\n",
    "plt.errorbar(x_axis-0.3, 'mean', yerr = 'sd', data = df_cnn.loc[[0,2], : ], fmt='Dr', lw =3, \n",
    "             capsize=4, capthick=1, elinewidth = 1)\n",
    "plt.errorbar(x_axis-0.1, 'mean', yerr = 'sd', data = df_cgan_cnn.loc[[0,2], : ], fmt='Db', lw =3, \n",
    "             capsize=4, capthick=1, elinewidth = 1)\n",
    "plt.errorbar(x_axis+0.1, 'mean', yerr = 'sd', data = df_densenet.loc[[0,2], : ], fmt='Dg', lw =3, \n",
    "             capsize=4, capthick=1, elinewidth = 1)\n",
    "plt.errorbar(x_axis+0.3, 'mean', yerr = 'sd', data = df_cgan_densenet.loc[[0,2], : ], fmt='Dk', lw =3, \n",
    "             capsize=4, capthick=1, elinewidth = 1)\n",
    "\n",
    "plt.xticks(x_axis, [\"Accuracy\", \"Macro F1\"])\n",
    "plt.legend([\"CNN\", \"CGAN-CNN\", \"DenseNet\", \"CGAN-DenseNet\"])\n",
    "\n",
    "plt.title(\"Multi-class classification performance\")\n",
    "\n",
    "for i in [0.5]:\n",
    "    plt.axvline(x=i, color = 'grey', alpha = 0.6)\n",
    "    \n",
    "plt.savefig(f\"{save_dir}/perf_multi_class.png\")"
   ]
  },
  {
   "cell_type": "markdown",
   "id": "c75ad8a3",
   "metadata": {},
   "source": [
    "TABLE"
   ]
  }
 ],
 "metadata": {
  "kernelspec": {
   "display_name": "Python 3 (ipykernel)",
   "language": "python",
   "name": "python3"
  },
  "language_info": {
   "codemirror_mode": {
    "name": "ipython",
    "version": 3
   },
   "file_extension": ".py",
   "mimetype": "text/x-python",
   "name": "python",
   "nbconvert_exporter": "python",
   "pygments_lexer": "ipython3",
   "version": "3.8.13"
  }
 },
 "nbformat": 4,
 "nbformat_minor": 5
}
