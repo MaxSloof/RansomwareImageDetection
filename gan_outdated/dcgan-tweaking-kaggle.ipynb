{
 "cells": [
  {
   "cell_type": "markdown",
   "id": "ec8b0975",
   "metadata": {
    "id": "Yqp2aX78LtH0",
    "papermill": {
     "duration": 0.033452,
     "end_time": "2022-03-19T19:30:23.284567",
     "exception": false,
     "start_time": "2022-03-19T19:30:23.251115",
     "status": "completed"
    },
    "tags": []
   },
   "source": [
    "\n",
    "\n",
    "```\n",
    "# Dit is opgemaakt als code\n",
    "```\n",
    "\n",
    "# DCGAN to generate grayscale images\n"
   ]
  },
  {
   "cell_type": "markdown",
   "id": "2726a22e",
   "metadata": {
    "id": "MQ6hXbgPLtH2",
    "papermill": {
     "duration": 0.051431,
     "end_time": "2022-03-19T19:30:23.393820",
     "exception": false,
     "start_time": "2022-03-19T19:30:23.342389",
     "status": "completed"
    },
    "tags": []
   },
   "source": [
    "## Setup"
   ]
  },
  {
   "cell_type": "code",
   "execution_count": 1,
   "id": "035b1d58",
   "metadata": {
    "execution": {
     "iopub.execute_input": "2022-03-19T19:30:23.469598Z",
     "iopub.status.busy": "2022-03-19T19:30:23.468910Z",
     "iopub.status.idle": "2022-03-19T19:30:29.224840Z",
     "shell.execute_reply": "2022-03-19T19:30:29.225680Z",
     "shell.execute_reply.started": "2022-03-19T19:15:51.046768Z"
    },
    "id": "waMV_df_LtH3",
    "papermill": {
     "duration": 5.799419,
     "end_time": "2022-03-19T19:30:29.226010",
     "exception": false,
     "start_time": "2022-03-19T19:30:23.426591",
     "status": "completed"
    },
    "tags": []
   },
   "outputs": [],
   "source": [
    "import tensorflow as tf\n",
    "from tensorflow import keras\n",
    "from tensorflow.keras import layers\n",
    "import numpy as np\n",
    "import matplotlib.pyplot as plt\n",
    "import os\n",
    "import time\n",
    "import cv2\n",
    "import random as rd\n",
    "import PIL"
   ]
  },
  {
   "cell_type": "markdown",
   "id": "d1eb756f",
   "metadata": {
    "papermill": {
     "duration": 0.048309,
     "end_time": "2022-03-19T19:30:29.334069",
     "exception": false,
     "start_time": "2022-03-19T19:30:29.285760",
     "status": "completed"
    },
    "tags": []
   },
   "source": [
    "# CHANGE"
   ]
  },
  {
   "cell_type": "markdown",
   "id": "84863c2f",
   "metadata": {
    "papermill": {
     "duration": 0.052514,
     "end_time": "2022-03-19T19:30:29.443736",
     "exception": false,
     "start_time": "2022-03-19T19:30:29.391222",
     "status": "completed"
    },
    "tags": []
   },
   "source": [
    "_____________________________________________________________________"
   ]
  },
  {
   "cell_type": "code",
   "execution_count": 2,
   "id": "f910af3d",
   "metadata": {
    "execution": {
     "iopub.execute_input": "2022-03-19T19:30:29.557041Z",
     "iopub.status.busy": "2022-03-19T19:30:29.556033Z",
     "iopub.status.idle": "2022-03-19T19:30:29.560099Z",
     "shell.execute_reply": "2022-03-19T19:30:29.557740Z",
     "shell.execute_reply.started": "2022-03-19T19:15:51.561597Z"
    },
    "id": "nXzDemd6yFMN",
    "papermill": {
     "duration": 0.064464,
     "end_time": "2022-03-19T19:30:29.560256",
     "exception": false,
     "start_time": "2022-03-19T19:30:29.495792",
     "status": "completed"
    },
    "tags": []
   },
   "outputs": [
    {
     "name": "stdout",
     "output_type": "stream",
     "text": [
      "Are you going to use TPU?\n"
     ]
    }
   ],
   "source": [
    "# Image size (height x width)\n",
    "ih = 128\n",
    "iw = 128\n",
    "\n",
    "# Grayscale or RGB\n",
    "ch = 'grayscale'\n",
    "\n",
    "# Layer adapt\n",
    "ksize = 4 # Kernel size : was '4' for 64x64 image\n",
    "ssize = 2 # Stride size : was '2' for 64x64 image\n",
    "\n",
    "# Batch size\n",
    "batch_size = 32\n",
    "\n",
    "# TPU\n",
    "print('Are you going to use TPU?')\n",
    "use_tpu = 'n'"
   ]
  },
  {
   "cell_type": "markdown",
   "id": "2621a424",
   "metadata": {
    "papermill": {
     "duration": 0.052065,
     "end_time": "2022-03-19T19:30:29.665200",
     "exception": false,
     "start_time": "2022-03-19T19:30:29.613135",
     "status": "completed"
    },
    "tags": []
   },
   "source": [
    "_____________________________________________________________________"
   ]
  },
  {
   "cell_type": "markdown",
   "id": "7f612dc0",
   "metadata": {
    "papermill": {
     "duration": 0.052186,
     "end_time": "2022-03-19T19:30:29.769542",
     "exception": false,
     "start_time": "2022-03-19T19:30:29.717356",
     "status": "completed"
    },
    "tags": []
   },
   "source": [
    "**TPU Setup (Optional & Automatic)**"
   ]
  },
  {
   "cell_type": "code",
   "execution_count": 3,
   "id": "31f13bf6",
   "metadata": {
    "execution": {
     "iopub.execute_input": "2022-03-19T19:30:29.882135Z",
     "iopub.status.busy": "2022-03-19T19:30:29.881253Z",
     "iopub.status.idle": "2022-03-19T19:30:29.883436Z",
     "shell.execute_reply": "2022-03-19T19:30:29.882828Z",
     "shell.execute_reply.started": "2022-03-19T19:15:51.997765Z"
    },
    "papermill": {
     "duration": 0.061603,
     "end_time": "2022-03-19T19:30:29.883663",
     "exception": false,
     "start_time": "2022-03-19T19:30:29.822060",
     "status": "completed"
    },
    "tags": []
   },
   "outputs": [],
   "source": [
    "if(use_tpu == 'y' or use_tpu == 'Y'):\n",
    "    # Detect and init. TPUs\n",
    "    tpu = tf.distribute.cluster_resolver.TPUClusterResolver.connect()\n",
    "\n",
    "    # Initialize distributed TPU strategy\n",
    "    tpu_strategy = tf.distribute.experimental.TPUStrategy(tpu)"
   ]
  },
  {
   "cell_type": "code",
   "execution_count": 4,
   "id": "30d9ab4e",
   "metadata": {
    "execution": {
     "iopub.execute_input": "2022-03-19T19:30:29.993762Z",
     "iopub.status.busy": "2022-03-19T19:30:29.993120Z",
     "iopub.status.idle": "2022-03-19T19:30:29.995949Z",
     "shell.execute_reply": "2022-03-19T19:30:29.996373Z",
     "shell.execute_reply.started": "2022-03-19T19:15:52.135792Z"
    },
    "id": "DW2D1egMb3z7",
    "outputId": "ba862c51-f373-4976-95cb-7dbeca8bae8e",
    "papermill": {
     "duration": 0.060826,
     "end_time": "2022-03-19T19:30:29.996498",
     "exception": false,
     "start_time": "2022-03-19T19:30:29.935672",
     "status": "completed"
    },
    "tags": []
   },
   "outputs": [
    {
     "name": "stdout",
     "output_type": "stream",
     "text": [
      "Tensorflow version 2.6.2\n"
     ]
    }
   ],
   "source": [
    "print(\"Tensorflow version \" + tf.__version__)"
   ]
  },
  {
   "cell_type": "code",
   "execution_count": 5,
   "id": "ae864255",
   "metadata": {
    "execution": {
     "iopub.execute_input": "2022-03-19T19:30:30.066880Z",
     "iopub.status.busy": "2022-03-19T19:30:30.066169Z",
     "iopub.status.idle": "2022-03-19T19:30:30.069999Z",
     "shell.execute_reply": "2022-03-19T19:30:30.069560Z",
     "shell.execute_reply.started": "2022-03-19T19:15:52.304481Z"
    },
    "papermill": {
     "duration": 0.041123,
     "end_time": "2022-03-19T19:30:30.070127",
     "exception": false,
     "start_time": "2022-03-19T19:30:30.029004",
     "status": "completed"
    },
    "tags": []
   },
   "outputs": [
    {
     "name": "stdout",
     "output_type": "stream",
     "text": [
      "Path for checkpoints has been created!\n"
     ]
    }
   ],
   "source": [
    "try: \n",
    "    os.mkdir(\"/kaggle/working/checkpoints\")\n",
    "    print(\"Path for checkpoints has been created!\")\n",
    "except:\n",
    "    print(\"Path already exists\")"
   ]
  },
  {
   "cell_type": "code",
   "execution_count": 6,
   "id": "0bb19e4c",
   "metadata": {
    "execution": {
     "iopub.execute_input": "2022-03-19T19:30:30.149051Z",
     "iopub.status.busy": "2022-03-19T19:30:30.148260Z",
     "iopub.status.idle": "2022-03-19T19:30:30.151885Z",
     "shell.execute_reply": "2022-03-19T19:30:30.151332Z",
     "shell.execute_reply.started": "2022-03-19T19:15:52.435471Z"
    },
    "papermill": {
     "duration": 0.04473,
     "end_time": "2022-03-19T19:30:30.151994",
     "exception": false,
     "start_time": "2022-03-19T19:30:30.107264",
     "status": "completed"
    },
    "tags": []
   },
   "outputs": [
    {
     "name": "stdout",
     "output_type": "stream",
     "text": [
      "Path for generated images has been created!\n"
     ]
    }
   ],
   "source": [
    "try:\n",
    "    os.mkdir(\"/kaggle/working/generated_images\")\n",
    "    print(\"Path for generated images has been created!\")\n",
    "except:\n",
    "    print(\"Path already exists\")"
   ]
  },
  {
   "cell_type": "markdown",
   "id": "46891023",
   "metadata": {
    "id": "uOZNby3TLtH4",
    "papermill": {
     "duration": 0.03654,
     "end_time": "2022-03-19T19:30:30.224832",
     "exception": false,
     "start_time": "2022-03-19T19:30:30.188292",
     "status": "completed"
    },
    "tags": []
   },
   "source": [
    "## Prepare CelebA data\n",
    "\n",
    "We'll use face images from the CelebA dataset, resized to 64x64."
   ]
  },
  {
   "cell_type": "code",
   "execution_count": 7,
   "id": "580ef128",
   "metadata": {
    "execution": {
     "iopub.execute_input": "2022-03-19T19:30:30.301104Z",
     "iopub.status.busy": "2022-03-19T19:30:30.300218Z",
     "iopub.status.idle": "2022-03-19T19:30:30.302935Z",
     "shell.execute_reply": "2022-03-19T19:30:30.302440Z",
     "shell.execute_reply.started": "2022-03-19T19:15:52.733952Z"
    },
    "papermill": {
     "duration": 0.042253,
     "end_time": "2022-03-19T19:30:30.303049",
     "exception": false,
     "start_time": "2022-03-19T19:30:30.260796",
     "status": "completed"
    },
    "tags": []
   },
   "outputs": [],
   "source": [
    "# Overwrite if TPU is used\n",
    "if use_tpu == 'y' or use_tpu == 'Y':\n",
    "    batch_size = 16 * tpu_strategy.num_replicas_in_sync"
   ]
  },
  {
   "cell_type": "code",
   "execution_count": 8,
   "id": "5e349f55",
   "metadata": {
    "execution": {
     "iopub.execute_input": "2022-03-19T19:30:30.382064Z",
     "iopub.status.busy": "2022-03-19T19:30:30.381203Z",
     "iopub.status.idle": "2022-03-19T19:30:30.382963Z",
     "shell.execute_reply": "2022-03-19T19:30:30.383409Z",
     "shell.execute_reply.started": "2022-03-19T19:15:52.871316Z"
    },
    "id": "4H4AwAFpLtH4",
    "papermill": {
     "duration": 0.044905,
     "end_time": "2022-03-19T19:30:30.383566",
     "exception": false,
     "start_time": "2022-03-19T19:30:30.338661",
     "status": "completed"
    },
    "tags": []
   },
   "outputs": [],
   "source": [
    "if use_tpu == 'y' or use_tpu == 'Y':\n",
    "    # Step 1: Get the credentail from the Cloud SDK\n",
    "    from kaggle_secrets import UserSecretsClient\n",
    "    user_secrets = UserSecretsClient()\n",
    "    user_credential = user_secrets.get_gcloud_credential()\n",
    "    \n",
    "    # Step 2: Set the credentials\n",
    "    user_secrets.set_tensorflow_credential(user_credential)\n",
    "    \n",
    "    # Step 3: Use a familiar call to get the GCS path of the dataset\n",
    "    !gcloud config set project 'solid-topic-344315'\n",
    "    \n",
    "    GCS_DS_PATH = 'gs://thesis_data_max/classified_data'\n",
    "\n",
    "    \n",
    "else: path_root = '/kaggle/input/thesis-data'"
   ]
  },
  {
   "cell_type": "markdown",
   "id": "5c4337c4",
   "metadata": {
    "id": "JP_TdOVnLtH5",
    "papermill": {
     "duration": 0.036301,
     "end_time": "2022-03-19T19:30:30.455608",
     "exception": false,
     "start_time": "2022-03-19T19:30:30.419307",
     "status": "completed"
    },
    "tags": []
   },
   "source": [
    "Create a dataset from our folder, and rescale the images to the [0-1] range:"
   ]
  },
  {
   "cell_type": "code",
   "execution_count": 9,
   "id": "fd64a447",
   "metadata": {
    "execution": {
     "iopub.execute_input": "2022-03-19T19:30:30.531948Z",
     "iopub.status.busy": "2022-03-19T19:30:30.531058Z",
     "iopub.status.idle": "2022-03-19T19:30:30.533148Z",
     "shell.execute_reply": "2022-03-19T19:30:30.533574Z",
     "shell.execute_reply.started": "2022-03-19T19:15:53.301398Z"
    },
    "papermill": {
     "duration": 0.042271,
     "end_time": "2022-03-19T19:30:30.533717",
     "exception": false,
     "start_time": "2022-03-19T19:30:30.491446",
     "status": "completed"
    },
    "tags": []
   },
   "outputs": [],
   "source": [
    "im_si = (ih, iw)\n",
    "\n",
    "if(ch == 'rgb'):\n",
    "    chnum = 3\n",
    "elif(ch == 'grayscale'):\n",
    "    chnum = 1\n"
   ]
  },
  {
   "cell_type": "code",
   "execution_count": 10,
   "id": "2fccfc2f",
   "metadata": {
    "execution": {
     "iopub.execute_input": "2022-03-19T19:30:30.610216Z",
     "iopub.status.busy": "2022-03-19T19:30:30.609369Z",
     "iopub.status.idle": "2022-03-19T19:30:43.089984Z",
     "shell.execute_reply": "2022-03-19T19:30:43.090850Z",
     "shell.execute_reply.started": "2022-03-19T19:15:53.827768Z"
    },
    "id": "WH5fIdgBnZE5",
    "outputId": "2957b61c-4951-407c-a889-77ed834b57a8",
    "papermill": {
     "duration": 12.521443,
     "end_time": "2022-03-19T19:30:43.091067",
     "exception": false,
     "start_time": "2022-03-19T19:30:30.569624",
     "status": "completed"
    },
    "tags": []
   },
   "outputs": [
    {
     "name": "stdout",
     "output_type": "stream",
     "text": [
      "Found 26548 files belonging to 1 classes.\n"
     ]
    },
    {
     "name": "stderr",
     "output_type": "stream",
     "text": [
      "2022-03-19 19:30:40.735421: I tensorflow/stream_executor/cuda/cuda_gpu_executor.cc:937] successful NUMA node read from SysFS had negative value (-1), but there must be at least one NUMA node, so returning NUMA node zero\n",
      "2022-03-19 19:30:40.821365: I tensorflow/stream_executor/cuda/cuda_gpu_executor.cc:937] successful NUMA node read from SysFS had negative value (-1), but there must be at least one NUMA node, so returning NUMA node zero\n",
      "2022-03-19 19:30:40.822140: I tensorflow/stream_executor/cuda/cuda_gpu_executor.cc:937] successful NUMA node read from SysFS had negative value (-1), but there must be at least one NUMA node, so returning NUMA node zero\n",
      "2022-03-19 19:30:40.824696: I tensorflow/core/platform/cpu_feature_guard.cc:142] This TensorFlow binary is optimized with oneAPI Deep Neural Network Library (oneDNN) to use the following CPU instructions in performance-critical operations:  AVX2 AVX512F FMA\n",
      "To enable them in other operations, rebuild TensorFlow with the appropriate compiler flags.\n",
      "2022-03-19 19:30:40.825751: I tensorflow/stream_executor/cuda/cuda_gpu_executor.cc:937] successful NUMA node read from SysFS had negative value (-1), but there must be at least one NUMA node, so returning NUMA node zero\n",
      "2022-03-19 19:30:40.826420: I tensorflow/stream_executor/cuda/cuda_gpu_executor.cc:937] successful NUMA node read from SysFS had negative value (-1), but there must be at least one NUMA node, so returning NUMA node zero\n",
      "2022-03-19 19:30:40.827061: I tensorflow/stream_executor/cuda/cuda_gpu_executor.cc:937] successful NUMA node read from SysFS had negative value (-1), but there must be at least one NUMA node, so returning NUMA node zero\n",
      "2022-03-19 19:30:42.677211: I tensorflow/stream_executor/cuda/cuda_gpu_executor.cc:937] successful NUMA node read from SysFS had negative value (-1), but there must be at least one NUMA node, so returning NUMA node zero\n",
      "2022-03-19 19:30:42.678114: I tensorflow/stream_executor/cuda/cuda_gpu_executor.cc:937] successful NUMA node read from SysFS had negative value (-1), but there must be at least one NUMA node, so returning NUMA node zero\n",
      "2022-03-19 19:30:42.678963: I tensorflow/stream_executor/cuda/cuda_gpu_executor.cc:937] successful NUMA node read from SysFS had negative value (-1), but there must be at least one NUMA node, so returning NUMA node zero\n",
      "2022-03-19 19:30:42.679623: I tensorflow/core/common_runtime/gpu/gpu_device.cc:1510] Created device /job:localhost/replica:0/task:0/device:GPU:0 with 15403 MB memory:  -> device: 0, name: Tesla P100-PCIE-16GB, pci bus id: 0000:00:04.0, compute capability: 6.0\n"
     ]
    }
   ],
   "source": [
    "dataset = tf.keras.preprocessing.image_dataset_from_directory(\n",
    "    path_root, \n",
    "    label_mode = None,\n",
    "    color_mode = ch,\n",
    "    image_size = im_si,\n",
    "    interpolation='bicubic',\n",
    "    batch_size = batch_size\n",
    ")\n",
    "\n",
    "dataset = dataset.map(lambda x : x / 255.0)"
   ]
  },
  {
   "cell_type": "markdown",
   "id": "41f6453d",
   "metadata": {
    "id": "bk2Y9PcvLtH6",
    "papermill": {
     "duration": 0.036248,
     "end_time": "2022-03-19T19:30:43.165075",
     "exception": false,
     "start_time": "2022-03-19T19:30:43.128827",
     "status": "completed"
    },
    "tags": []
   },
   "source": [
    "Let's display a sample image:"
   ]
  },
  {
   "cell_type": "markdown",
   "id": "5113032d",
   "metadata": {
    "id": "219PDLAMLtH7",
    "papermill": {
     "duration": 0.033812,
     "end_time": "2022-03-19T19:30:43.234309",
     "exception": false,
     "start_time": "2022-03-19T19:30:43.200497",
     "status": "completed"
    },
    "tags": []
   },
   "source": [
    "## Create the discriminator\n",
    "\n",
    "It maps a 64x64 image to a binary classification score."
   ]
  },
  {
   "cell_type": "code",
   "execution_count": 11,
   "id": "c92da2bb",
   "metadata": {
    "execution": {
     "iopub.execute_input": "2022-03-19T19:30:43.310019Z",
     "iopub.status.busy": "2022-03-19T19:30:43.308400Z",
     "iopub.status.idle": "2022-03-19T19:30:43.310601Z",
     "shell.execute_reply": "2022-03-19T19:30:43.310987Z",
     "shell.execute_reply.started": "2022-03-19T19:16:14.492794Z"
    },
    "id": "xUEQGyFpLtH8",
    "papermill": {
     "duration": 0.043124,
     "end_time": "2022-03-19T19:30:43.311120",
     "exception": false,
     "start_time": "2022-03-19T19:30:43.267996",
     "status": "completed"
    },
    "tags": []
   },
   "outputs": [],
   "source": [
    "def create_discriminator():\n",
    "  return keras.Sequential(\n",
    "      [\n",
    "        \n",
    "          layers.Conv2D(ih, kernel_size=ksize, strides=ssize, padding=\"same\",\n",
    "                        input_shape=(ih, iw, chnum)),\n",
    "          layers.LeakyReLU(alpha=0.2),\n",
    "          layers.Conv2D(2*ih, kernel_size=ksize, strides=ssize, padding=\"same\"),\n",
    "          layers.LeakyReLU(alpha=0.2),\n",
    "          layers.Conv2D(2*ih, kernel_size=ksize, strides=ssize, padding=\"same\"),\n",
    "          layers.LeakyReLU(alpha=0.2),\n",
    "          layers.Flatten(),\n",
    "          layers.Dropout(0.2),\n",
    "          layers.Dense(1, activation=\"sigmoid\"),\n",
    "      ],\n",
    "      name=\"discriminator\",\n",
    "  )\n"
   ]
  },
  {
   "cell_type": "markdown",
   "id": "6cc2bbbc",
   "metadata": {
    "id": "OoTIdSsDLtH8",
    "papermill": {
     "duration": 0.033996,
     "end_time": "2022-03-19T19:30:43.378746",
     "exception": false,
     "start_time": "2022-03-19T19:30:43.344750",
     "status": "completed"
    },
    "tags": []
   },
   "source": [
    "## Create the generator\n",
    "\n",
    "It mirrors the discriminator, replacing `Conv2D` layers with `Conv2DTranspose` layers."
   ]
  },
  {
   "cell_type": "code",
   "execution_count": 12,
   "id": "26f3b874",
   "metadata": {
    "execution": {
     "iopub.execute_input": "2022-03-19T19:30:43.455012Z",
     "iopub.status.busy": "2022-03-19T19:30:43.454185Z",
     "iopub.status.idle": "2022-03-19T19:30:43.456013Z",
     "shell.execute_reply": "2022-03-19T19:30:43.456400Z",
     "shell.execute_reply.started": "2022-03-19T19:16:14.502230Z"
    },
    "id": "oJWFNzjjLtH8",
    "papermill": {
     "duration": 0.043931,
     "end_time": "2022-03-19T19:30:43.456550",
     "exception": false,
     "start_time": "2022-03-19T19:30:43.412619",
     "status": "completed"
    },
    "scrolled": true,
    "tags": []
   },
   "outputs": [],
   "source": [
    "latent_dim = 2*ih\n",
    "sih = ih//8\n",
    "siw = iw//8\n",
    "\n",
    "def create_generator():\n",
    "  return keras.Sequential(\n",
    "      [\n",
    "          keras.layers.InputLayer(input_shape=(latent_dim)),\n",
    "          \n",
    "          layers.Dense(sih * siw * latent_dim),\n",
    "          layers.Reshape((sih, siw, latent_dim)),\n",
    "          layers.Conv2DTranspose(latent_dim, kernel_size=ksize, strides=ssize, padding=\"same\"),\n",
    "          layers.LeakyReLU(alpha=0.2),\n",
    "          layers.Conv2DTranspose(2*latent_dim, kernel_size=ksize, strides=ssize, padding=\"same\"),\n",
    "          layers.LeakyReLU(alpha=0.2),\n",
    "          layers.Conv2DTranspose(4*latent_dim, kernel_size=ksize, strides=ssize, padding=\"same\"),\n",
    "          layers.LeakyReLU(alpha=0.2),\n",
    "          layers.Conv2D(chnum, kernel_size=ksize+1, padding=\"same\", activation=\"sigmoid\"),\n",
    "      ],\n",
    "      name=\"generator\",\n",
    "  )\n"
   ]
  },
  {
   "cell_type": "code",
   "execution_count": 13,
   "id": "a2b2a791",
   "metadata": {
    "execution": {
     "iopub.execute_input": "2022-03-19T19:30:43.529274Z",
     "iopub.status.busy": "2022-03-19T19:30:43.528773Z",
     "iopub.status.idle": "2022-03-19T19:30:43.669667Z",
     "shell.execute_reply": "2022-03-19T19:30:43.669194Z",
     "shell.execute_reply.started": "2022-03-19T19:16:14.515439Z"
    },
    "id": "eAzWstRrJTnV",
    "papermill": {
     "duration": 0.179444,
     "end_time": "2022-03-19T19:30:43.669799",
     "exception": false,
     "start_time": "2022-03-19T19:30:43.490355",
     "status": "completed"
    },
    "tags": []
   },
   "outputs": [],
   "source": [
    "if use_tpu == 'y' or use_tpu == 'Y':\n",
    "    with tpu_strategy.scope():\n",
    "        generator = create_generator()\n",
    "        discriminator = create_discriminator()\n",
    "else:  \n",
    "    generator = create_generator()\n",
    "    discriminator = create_discriminator()"
   ]
  },
  {
   "cell_type": "markdown",
   "id": "f22afbf1",
   "metadata": {
    "id": "35QhQ42WLtH9",
    "papermill": {
     "duration": 0.038859,
     "end_time": "2022-03-19T19:30:43.744770",
     "exception": false,
     "start_time": "2022-03-19T19:30:43.705911",
     "status": "completed"
    },
    "tags": []
   },
   "source": [
    "## Override `train_step`"
   ]
  },
  {
   "cell_type": "code",
   "execution_count": 14,
   "id": "46d70d00",
   "metadata": {
    "execution": {
     "iopub.execute_input": "2022-03-19T19:30:43.838315Z",
     "iopub.status.busy": "2022-03-19T19:30:43.826533Z",
     "iopub.status.idle": "2022-03-19T19:30:43.841030Z",
     "shell.execute_reply": "2022-03-19T19:30:43.840563Z",
     "shell.execute_reply.started": "2022-03-19T19:16:14.665603Z"
    },
    "id": "y8nmAfrtLtH9",
    "papermill": {
     "duration": 0.057235,
     "end_time": "2022-03-19T19:30:43.841164",
     "exception": false,
     "start_time": "2022-03-19T19:30:43.783929",
     "status": "completed"
    },
    "tags": []
   },
   "outputs": [],
   "source": [
    "class GAN(keras.Model):\n",
    "    def __init__(self, discriminator, generator, latent_dim):\n",
    "        super(GAN, self).__init__()\n",
    "        self.discriminator = discriminator\n",
    "        self.generator = generator\n",
    "        self.latent_dim = latent_dim\n",
    "\n",
    "    def compile(self, d_optimizer, g_optimizer, loss_fn):\n",
    "        super(GAN, self).compile()\n",
    "        self.d_optimizer = d_optimizer\n",
    "        self.g_optimizer = g_optimizer\n",
    "        self.loss_fn = loss_fn\n",
    "        self.d_loss_metric = keras.metrics.Mean(name=\"d_loss\")\n",
    "        self.g_loss_metric = keras.metrics.Mean(name=\"g_loss\")\n",
    "\n",
    "    @property\n",
    "    def metrics(self):\n",
    "        return [self.d_loss_metric, self.g_loss_metric]\n",
    "\n",
    "    def train_step(self, real_images):\n",
    "        # Sample random points in the latent space\n",
    "        \n",
    "        batch_size = tf.shape(real_images)[0]\n",
    "        random_latent_vectors = tf.random.normal(shape=(batch_size, self.latent_dim))\n",
    "\n",
    "        # Decode them to fake images\n",
    "        generated_images = self.generator(random_latent_vectors)\n",
    "\n",
    "        # Combine them with real images\n",
    "        combined_images = tf.concat([generated_images, real_images], axis=0)\n",
    "\n",
    "        # Assemble labels discriminating real from fake images\n",
    "        labels = tf.concat(\n",
    "            [tf.ones((batch_size, 1)), tf.zeros((batch_size, 1))], axis=0\n",
    "        )\n",
    "        # Add random noise to the labels - important trick!\n",
    "        labels += 0.05 * tf.random.uniform(tf.shape(labels))\n",
    "\n",
    "        # Train the discriminator\n",
    "        with tf.GradientTape() as tape:\n",
    "            predictions = self.discriminator(combined_images)\n",
    "            d_loss = self.loss_fn(labels, predictions)\n",
    "        grads = tape.gradient(d_loss, self.discriminator.trainable_weights)\n",
    "        self.d_optimizer.apply_gradients(\n",
    "            zip(grads, self.discriminator.trainable_weights)\n",
    "        )\n",
    "\n",
    "        # Sample random points in the latent space\n",
    "        random_latent_vectors = tf.random.normal(shape=(batch_size, self.latent_dim))\n",
    "\n",
    "        # Assemble labels that say \"all real images\"\n",
    "        misleading_labels = tf.zeros((batch_size, 1))\n",
    "\n",
    "        # Train the generator (note that we should *not* update the weights\n",
    "        # of the discriminator)!\n",
    "        with tf.GradientTape() as tape:\n",
    "            predictions = self.discriminator(self.generator(random_latent_vectors))\n",
    "            g_loss = self.loss_fn(misleading_labels, predictions)\n",
    "        grads = tape.gradient(g_loss, self.generator.trainable_weights)\n",
    "        self.g_optimizer.apply_gradients(zip(grads, self.generator.trainable_weights))\n",
    "\n",
    "        # Update metrics\n",
    "        self.d_loss_metric.update_state(d_loss)\n",
    "        self.g_loss_metric.update_state(g_loss)\n",
    "        return {\n",
    "            \"d_loss\": self.d_loss_metric.result(),\n",
    "            \"g_loss\": self.g_loss_metric.result(),\n",
    "        }\n",
    "  \n"
   ]
  },
  {
   "cell_type": "markdown",
   "id": "677584a2",
   "metadata": {
    "id": "xQUSDLa9LtH-",
    "papermill": {
     "duration": 0.036586,
     "end_time": "2022-03-19T19:30:43.915159",
     "exception": false,
     "start_time": "2022-03-19T19:30:43.878573",
     "status": "completed"
    },
    "tags": []
   },
   "source": [
    "**Other GAN Script**"
   ]
  },
  {
   "cell_type": "code",
   "execution_count": 15,
   "id": "6de007f9",
   "metadata": {
    "execution": {
     "iopub.execute_input": "2022-03-19T19:30:43.993373Z",
     "iopub.status.busy": "2022-03-19T19:30:43.992565Z",
     "iopub.status.idle": "2022-03-19T19:30:43.995058Z",
     "shell.execute_reply": "2022-03-19T19:30:43.994624Z",
     "shell.execute_reply.started": "2022-03-19T19:16:14.682961Z"
    },
    "id": "bnGLeB0_LtH-",
    "papermill": {
     "duration": 0.043235,
     "end_time": "2022-03-19T19:30:43.995180",
     "exception": false,
     "start_time": "2022-03-19T19:30:43.951945",
     "status": "completed"
    },
    "tags": []
   },
   "outputs": [],
   "source": [
    "# This method returns a helper function to compute cross entropy loss\n",
    "cross_entropy = tf.keras.losses.BinaryCrossentropy(from_logits=True)\n"
   ]
  },
  {
   "cell_type": "code",
   "execution_count": 16,
   "id": "54742faf",
   "metadata": {
    "execution": {
     "iopub.execute_input": "2022-03-19T19:30:44.074382Z",
     "iopub.status.busy": "2022-03-19T19:30:44.072776Z",
     "iopub.status.idle": "2022-03-19T19:30:44.075111Z",
     "shell.execute_reply": "2022-03-19T19:30:44.075582Z",
     "shell.execute_reply.started": "2022-03-19T19:16:14.695394Z"
    },
    "id": "GnZ9x59bLtH-",
    "papermill": {
     "duration": 0.043382,
     "end_time": "2022-03-19T19:30:44.075721",
     "exception": false,
     "start_time": "2022-03-19T19:30:44.032339",
     "status": "completed"
    },
    "tags": []
   },
   "outputs": [],
   "source": [
    "def discriminator_loss(real_output, fake_output, d_loss):\n",
    "    real_loss = cross_entropy(tf.ones_like(real_output), real_output)\n",
    "    fake_loss = cross_entropy(tf.zeros_like(fake_output), fake_output)\n",
    "    total_loss = real_loss + fake_loss\n",
    "    d_loss.append(total_loss)\n",
    "    return total_loss"
   ]
  },
  {
   "cell_type": "code",
   "execution_count": 17,
   "id": "7ec94f38",
   "metadata": {
    "execution": {
     "iopub.execute_input": "2022-03-19T19:30:44.152981Z",
     "iopub.status.busy": "2022-03-19T19:30:44.152442Z",
     "iopub.status.idle": "2022-03-19T19:30:44.156063Z",
     "shell.execute_reply": "2022-03-19T19:30:44.155642Z",
     "shell.execute_reply.started": "2022-03-19T19:16:14.704664Z"
    },
    "id": "pvt697zkLtH_",
    "papermill": {
     "duration": 0.043761,
     "end_time": "2022-03-19T19:30:44.156163",
     "exception": false,
     "start_time": "2022-03-19T19:30:44.112402",
     "status": "completed"
    },
    "tags": []
   },
   "outputs": [],
   "source": [
    "def generator_loss(fake_output, g_loss):\n",
    "    fake_loss = cross_entropy(tf.ones_like(fake_output), fake_output)\n",
    "    g_loss.append(fake_loss)\n",
    "    return fake_loss"
   ]
  },
  {
   "cell_type": "code",
   "execution_count": 18,
   "id": "674a7690",
   "metadata": {
    "execution": {
     "iopub.execute_input": "2022-03-19T19:30:44.231754Z",
     "iopub.status.busy": "2022-03-19T19:30:44.230939Z",
     "iopub.status.idle": "2022-03-19T19:30:44.233399Z",
     "shell.execute_reply": "2022-03-19T19:30:44.232975Z",
     "shell.execute_reply.started": "2022-03-19T19:16:14.715112Z"
    },
    "id": "58LhymTSLtH_",
    "papermill": {
     "duration": 0.043382,
     "end_time": "2022-03-19T19:30:44.233501",
     "exception": false,
     "start_time": "2022-03-19T19:30:44.190119",
     "status": "completed"
    },
    "tags": []
   },
   "outputs": [],
   "source": [
    "generator_optimizer = tf.keras.optimizers.Adam(1e-4)\n",
    "discriminator_optimizer = tf.keras.optimizers.Adam(1e-4)"
   ]
  },
  {
   "cell_type": "code",
   "execution_count": 19,
   "id": "d4cda3be",
   "metadata": {
    "execution": {
     "iopub.execute_input": "2022-03-19T19:30:44.310169Z",
     "iopub.status.busy": "2022-03-19T19:30:44.309307Z",
     "iopub.status.idle": "2022-03-19T19:30:44.320500Z",
     "shell.execute_reply": "2022-03-19T19:30:44.319953Z",
     "shell.execute_reply.started": "2022-03-19T19:16:14.724905Z"
    },
    "id": "ixCCxiGLHgmV",
    "papermill": {
     "duration": 0.050348,
     "end_time": "2022-03-19T19:30:44.320660",
     "exception": false,
     "start_time": "2022-03-19T19:30:44.270312",
     "status": "completed"
    },
    "tags": []
   },
   "outputs": [
    {
     "name": "stdout",
     "output_type": "stream",
     "text": [
      "Model: \"discriminator\"\n",
      "_________________________________________________________________\n",
      "Layer (type)                 Output Shape              Param #   \n",
      "=================================================================\n",
      "conv2d_1 (Conv2D)            (None, 64, 64, 128)       2176      \n",
      "_________________________________________________________________\n",
      "leaky_re_lu_3 (LeakyReLU)    (None, 64, 64, 128)       0         \n",
      "_________________________________________________________________\n",
      "conv2d_2 (Conv2D)            (None, 32, 32, 256)       524544    \n",
      "_________________________________________________________________\n",
      "leaky_re_lu_4 (LeakyReLU)    (None, 32, 32, 256)       0         \n",
      "_________________________________________________________________\n",
      "conv2d_3 (Conv2D)            (None, 16, 16, 256)       1048832   \n",
      "_________________________________________________________________\n",
      "leaky_re_lu_5 (LeakyReLU)    (None, 16, 16, 256)       0         \n",
      "_________________________________________________________________\n",
      "flatten (Flatten)            (None, 65536)             0         \n",
      "_________________________________________________________________\n",
      "dropout (Dropout)            (None, 65536)             0         \n",
      "_________________________________________________________________\n",
      "dense_1 (Dense)              (None, 1)                 65537     \n",
      "=================================================================\n",
      "Total params: 1,641,089\n",
      "Trainable params: 1,641,089\n",
      "Non-trainable params: 0\n",
      "_________________________________________________________________\n"
     ]
    }
   ],
   "source": [
    "discriminator.summary()"
   ]
  },
  {
   "cell_type": "code",
   "execution_count": 20,
   "id": "0051b111",
   "metadata": {
    "execution": {
     "iopub.execute_input": "2022-03-19T19:30:44.401454Z",
     "iopub.status.busy": "2022-03-19T19:30:44.400641Z",
     "iopub.status.idle": "2022-03-19T19:30:44.407908Z",
     "shell.execute_reply": "2022-03-19T19:30:44.408503Z",
     "shell.execute_reply.started": "2022-03-19T19:16:14.738595Z"
    },
    "id": "qF-AyFSjHzoY",
    "papermill": {
     "duration": 0.050332,
     "end_time": "2022-03-19T19:30:44.408713",
     "exception": false,
     "start_time": "2022-03-19T19:30:44.358381",
     "status": "completed"
    },
    "tags": []
   },
   "outputs": [
    {
     "name": "stdout",
     "output_type": "stream",
     "text": [
      "Model: \"generator\"\n",
      "_________________________________________________________________\n",
      "Layer (type)                 Output Shape              Param #   \n",
      "=================================================================\n",
      "dense (Dense)                (None, 65536)             16842752  \n",
      "_________________________________________________________________\n",
      "reshape (Reshape)            (None, 16, 16, 256)       0         \n",
      "_________________________________________________________________\n",
      "conv2d_transpose (Conv2DTran (None, 32, 32, 256)       1048832   \n",
      "_________________________________________________________________\n",
      "leaky_re_lu (LeakyReLU)      (None, 32, 32, 256)       0         \n",
      "_________________________________________________________________\n",
      "conv2d_transpose_1 (Conv2DTr (None, 64, 64, 512)       2097664   \n",
      "_________________________________________________________________\n",
      "leaky_re_lu_1 (LeakyReLU)    (None, 64, 64, 512)       0         \n",
      "_________________________________________________________________\n",
      "conv2d_transpose_2 (Conv2DTr (None, 128, 128, 1024)    8389632   \n",
      "_________________________________________________________________\n",
      "leaky_re_lu_2 (LeakyReLU)    (None, 128, 128, 1024)    0         \n",
      "_________________________________________________________________\n",
      "conv2d (Conv2D)              (None, 128, 128, 1)       25601     \n",
      "=================================================================\n",
      "Total params: 28,404,481\n",
      "Trainable params: 28,404,481\n",
      "Non-trainable params: 0\n",
      "_________________________________________________________________\n"
     ]
    }
   ],
   "source": [
    "generator.summary()"
   ]
  },
  {
   "cell_type": "markdown",
   "id": "063ba192",
   "metadata": {
    "id": "puaQCbHtLtH_",
    "papermill": {
     "duration": 0.038639,
     "end_time": "2022-03-19T19:30:44.485139",
     "exception": false,
     "start_time": "2022-03-19T19:30:44.446500",
     "status": "completed"
    },
    "tags": []
   },
   "source": [
    "## Create a callback that periodically saves generated images"
   ]
  },
  {
   "cell_type": "code",
   "execution_count": 21,
   "id": "fdd93caa",
   "metadata": {
    "execution": {
     "iopub.execute_input": "2022-03-19T19:30:44.568168Z",
     "iopub.status.busy": "2022-03-19T19:30:44.567287Z",
     "iopub.status.idle": "2022-03-19T19:30:44.570804Z",
     "shell.execute_reply": "2022-03-19T19:30:44.570297Z",
     "shell.execute_reply.started": "2022-03-19T19:25:21.513175Z"
    },
    "id": "8jTG8X3xLtH_",
    "papermill": {
     "duration": 0.048184,
     "end_time": "2022-03-19T19:30:44.570922",
     "exception": false,
     "start_time": "2022-03-19T19:30:44.522738",
     "status": "completed"
    },
    "tags": []
   },
   "outputs": [],
   "source": [
    "class GANMonitor(keras.callbacks.Callback):\n",
    "    def __init__(self, num_img=3, latent_dim=latent_dim):\n",
    "        self.num_img = num_img\n",
    "        self.latent_dim = latent_dim\n",
    "\n",
    "    def on_epoch_end(self, epoch, logs=None):\n",
    "        start = time.time()\n",
    "        random_latent_vectors = tf.random.normal(shape=(self.num_img, self.latent_dim))\n",
    "        generated_images = self.model.generator(random_latent_vectors)\n",
    "        generated_images *= 255\n",
    "        generated_images.numpy()\n",
    "        for i in range(self.num_img):\n",
    "            img = keras.preprocessing.image.array_to_img(generated_images[i])\n",
    "            img.save(\"/kaggle/working/generated_images/generated_img_%03d_%d.png\" % (epoch, i))\n",
    "    \n",
    "        # Save the model every 15 epochs (WAS 15)\n",
    "        if (epoch + 1) % 15 == 0:\n",
    "          checkpoint.save(file_prefix = checkpoint_prefix)\n",
    "\n"
   ]
  },
  {
   "cell_type": "markdown",
   "id": "2f1ffc0d",
   "metadata": {
    "papermill": {
     "duration": 0.038345,
     "end_time": "2022-03-19T19:30:44.646560",
     "exception": false,
     "start_time": "2022-03-19T19:30:44.608215",
     "status": "completed"
    },
    "tags": []
   },
   "source": [
    "**Restore checkpoints if they exists**"
   ]
  },
  {
   "cell_type": "code",
   "execution_count": 22,
   "id": "7d9a3c22",
   "metadata": {
    "execution": {
     "iopub.execute_input": "2022-03-19T19:30:44.735107Z",
     "iopub.status.busy": "2022-03-19T19:30:44.730099Z",
     "iopub.status.idle": "2022-03-19T19:30:44.827891Z",
     "shell.execute_reply": "2022-03-19T19:30:44.828341Z",
     "shell.execute_reply.started": "2022-03-19T19:16:14.749865Z"
    },
    "id": "QwKJcZWrLtH_",
    "papermill": {
     "duration": 0.142405,
     "end_time": "2022-03-19T19:30:44.828491",
     "exception": false,
     "start_time": "2022-03-19T19:30:44.686086",
     "status": "completed"
    },
    "tags": []
   },
   "outputs": [],
   "source": [
    "checkpoint_dir = '/kaggle/working/checkpoints'\n",
    "checkpoint_prefix = os.path.join(checkpoint_dir, \"ckpt\")\n",
    "checkpoint = tf.train.Checkpoint(generator_optimizer=generator_optimizer,\n",
    "                                 discriminator_optimizer=discriminator_optimizer,\n",
    "                                 generator=create_generator(),\n",
    "                                 discriminator=create_discriminator())"
   ]
  },
  {
   "cell_type": "code",
   "execution_count": 23,
   "id": "ff8343f4",
   "metadata": {
    "execution": {
     "iopub.execute_input": "2022-03-19T19:30:44.900697Z",
     "iopub.status.busy": "2022-03-19T19:30:44.899880Z",
     "iopub.status.idle": "2022-03-19T19:30:44.903579Z",
     "shell.execute_reply": "2022-03-19T19:30:44.904025Z",
     "shell.execute_reply.started": "2022-03-19T19:16:14.858933Z"
    },
    "papermill": {
     "duration": 0.040893,
     "end_time": "2022-03-19T19:30:44.904285",
     "exception": false,
     "start_time": "2022-03-19T19:30:44.863392",
     "status": "completed"
    },
    "tags": []
   },
   "outputs": [],
   "source": [
    "checkpoint_directory = '/kaggle/input/dcgan-tweaking-kaggle/checkpoints'"
   ]
  },
  {
   "cell_type": "code",
   "execution_count": 24,
   "id": "3cbcc50f",
   "metadata": {
    "execution": {
     "iopub.execute_input": "2022-03-19T19:30:44.977853Z",
     "iopub.status.busy": "2022-03-19T19:30:44.977093Z",
     "iopub.status.idle": "2022-03-19T19:30:44.984103Z",
     "shell.execute_reply": "2022-03-19T19:30:44.984787Z",
     "shell.execute_reply.started": "2022-03-19T19:16:14.864450Z"
    },
    "papermill": {
     "duration": 0.045901,
     "end_time": "2022-03-19T19:30:44.984942",
     "exception": false,
     "start_time": "2022-03-19T19:30:44.939041",
     "status": "completed"
    },
    "tags": []
   },
   "outputs": [
    {
     "name": "stdout",
     "output_type": "stream",
     "text": [
      "A checkpoint was found!\n"
     ]
    }
   ],
   "source": [
    "if(os.path.exists(checkpoint_directory)):\n",
    "    print(\"A checkpoint was found!\")\n",
    "    ckpt_exists = True\n",
    "else: \n",
    "    print(\"Checkpoitn was not found!\")\n",
    "    chpt_exists = False"
   ]
  },
  {
   "cell_type": "code",
   "execution_count": 25,
   "id": "8e6a7a5d",
   "metadata": {
    "execution": {
     "iopub.execute_input": "2022-03-19T19:30:45.059481Z",
     "iopub.status.busy": "2022-03-19T19:30:45.059013Z",
     "iopub.status.idle": "2022-03-19T19:30:46.282284Z",
     "shell.execute_reply": "2022-03-19T19:30:46.281815Z",
     "shell.execute_reply.started": "2022-03-19T19:25:13.996488Z"
    },
    "papermill": {
     "duration": 1.261929,
     "end_time": "2022-03-19T19:30:46.282413",
     "exception": false,
     "start_time": "2022-03-19T19:30:45.020484",
     "status": "completed"
    },
    "tags": []
   },
   "outputs": [
    {
     "name": "stdout",
     "output_type": "stream",
     "text": [
      "/kaggle/input/dcgan-tweaking-kaggle/checkpoints/ckpt-1\n"
     ]
    }
   ],
   "source": [
    "if ckpt_exists == True:\n",
    "    epochs = 16\n",
    "    chkpt_restore_path = tf.train.latest_checkpoint(checkpoint_directory)\n",
    "    print(chkpt_restore_path)\n",
    "    num_ckpt = chkpt_restore_path[-1:]\n",
    "    checkpoint.restore(chkpt_restore_path)"
   ]
  },
  {
   "cell_type": "code",
   "execution_count": 26,
   "id": "d6795f83",
   "metadata": {
    "execution": {
     "iopub.execute_input": "2022-03-19T19:30:46.363911Z",
     "iopub.status.busy": "2022-03-19T19:30:46.363349Z",
     "iopub.status.idle": "2022-03-20T00:54:24.056433Z",
     "shell.execute_reply": "2022-03-20T00:54:24.055969Z",
     "shell.execute_reply.started": "2022-03-19T19:25:48.601554Z"
    },
    "papermill": {
     "duration": 19417.737358,
     "end_time": "2022-03-20T00:54:24.056605",
     "exception": false,
     "start_time": "2022-03-19T19:30:46.319247",
     "status": "completed"
    },
    "tags": []
   },
   "outputs": [
    {
     "name": "stderr",
     "output_type": "stream",
     "text": [
      "2022-03-19 19:30:46.414435: I tensorflow/compiler/mlir/mlir_graph_optimization_pass.cc:185] None of the MLIR Optimization Passes are enabled (registered 2)\n"
     ]
    },
    {
     "name": "stdout",
     "output_type": "stream",
     "text": [
      "Epoch 1/16\n"
     ]
    },
    {
     "name": "stderr",
     "output_type": "stream",
     "text": [
      "2022-03-19 19:30:49.954322: I tensorflow/stream_executor/cuda/cuda_dnn.cc:369] Loaded cuDNN version 8005\n"
     ]
    },
    {
     "name": "stdout",
     "output_type": "stream",
     "text": [
      "830/830 [==============================] - 1231s 1s/step - d_loss: 0.2831 - g_loss: 7.6382\n",
      "Epoch 2/16\n",
      "830/830 [==============================] - 1214s 1s/step - d_loss: 0.0413 - g_loss: 13.0433\n",
      "Epoch 3/16\n",
      "830/830 [==============================] - 1213s 1s/step - d_loss: -0.0388 - g_loss: 154.0682\n",
      "Epoch 4/16\n",
      "830/830 [==============================] - 1210s 1s/step - d_loss: -5.2556 - g_loss: 861.7755\n",
      "Epoch 5/16\n",
      "830/830 [==============================] - 1204s 1s/step - d_loss: -130.9112 - g_loss: 26818.1758\n",
      "Epoch 6/16\n",
      "830/830 [==============================] - 1205s 1s/step - d_loss: -993.8783 - g_loss: 142118.7812\n",
      "Epoch 7/16\n",
      "830/830 [==============================] - 1201s 1s/step - d_loss: -962.2100 - g_loss: 183882.0312\n",
      "Epoch 8/16\n",
      "830/830 [==============================] - 1203s 1s/step - d_loss: -1995.6499 - g_loss: 507323.5000\n",
      "Epoch 9/16\n",
      "830/830 [==============================] - 1203s 1s/step - d_loss: -4269.9248 - g_loss: 690111.8750\n",
      "Epoch 10/16\n",
      "830/830 [==============================] - 1201s 1s/step - d_loss: -4483.2578 - g_loss: 799764.2500\n",
      "Epoch 11/16\n",
      "830/830 [==============================] - 1204s 1s/step - d_loss: -10182.0264 - g_loss: 1509214.3750\n",
      "Epoch 12/16\n",
      "830/830 [==============================] - 1200s 1s/step - d_loss: -13178.5811 - g_loss: 2303932.7500\n",
      "Epoch 13/16\n",
      "830/830 [==============================] - 1204s 1s/step - d_loss: -20716.3711 - g_loss: 3079742.2500\n",
      "Epoch 14/16\n",
      "830/830 [==============================] - 1202s 1s/step - d_loss: -17198.4238 - g_loss: 2880732.2500\n",
      "Epoch 15/16\n",
      "830/830 [==============================] - 1200s 1s/step - d_loss: -27208.0801 - g_loss: 4261053.0000\n",
      "Epoch 16/16\n",
      "830/830 [==============================] - 1201s 1s/step - d_loss: -30929.2031 - g_loss: 5044767.0000\n"
     ]
    }
   ],
   "source": [
    "   if ckpt_exists == True:\n",
    "    if use_tpu == 'y' or use_tpu == 'Y':\n",
    "        with tpu_strategy.scope():\n",
    "            gan = GAN(discriminator=checkpoint.discriminator, generator=checkpoint.generator, latent_dim=latent_dim)\n",
    "\n",
    "            gan.compile(\n",
    "            d_optimizer=keras.optimizers.Adam(learning_rate=0.0001), # Was 0.0001\n",
    "            g_optimizer=keras.optimizers.Adam(learning_rate=0.0001), # Was 0.0001\n",
    "            loss_fn=keras.losses.BinaryCrossentropy(),\n",
    "            )\n",
    "\n",
    "    else: \n",
    "        gan = GAN(discriminator=checkpoint.discriminator, generator=checkpoint.generator, latent_dim=latent_dim)\n",
    "\n",
    "        gan.compile(\n",
    "        d_optimizer=keras.optimizers.Adam(learning_rate=0.0001), # Was 0.0001\n",
    "        g_optimizer=keras.optimizers.Adam(learning_rate=0.0001), # Was 0.0001\n",
    "        loss_fn=keras.losses.BinaryCrossentropy(),\n",
    "        )\n",
    "\n",
    "    #steps_per_epoch = 2500 // batch_size\n",
    "    gan.fit(\n",
    "      dataset, epochs=epochs, callbacks=[GANMonitor(num_img=10, latent_dim=latent_dim)]\n",
    "    )"
   ]
  },
  {
   "cell_type": "markdown",
   "id": "6ea8b2a0",
   "metadata": {
    "id": "_Bn3n_AaLtIA",
    "papermill": {
     "duration": 4.345821,
     "end_time": "2022-03-20T00:54:32.627047",
     "exception": false,
     "start_time": "2022-03-20T00:54:28.281226",
     "status": "completed"
    },
    "tags": []
   },
   "source": [
    "## Train the end-to-end model"
   ]
  },
  {
   "cell_type": "code",
   "execution_count": 27,
   "id": "39cf2adf",
   "metadata": {
    "execution": {
     "iopub.execute_input": "2022-03-20T00:54:41.739822Z",
     "iopub.status.busy": "2022-03-20T00:54:41.738835Z",
     "iopub.status.idle": "2022-03-20T00:54:41.741062Z",
     "shell.execute_reply": "2022-03-20T00:54:41.741536Z",
     "shell.execute_reply.started": "2022-03-19T19:27:10.139932Z"
    },
    "id": "7atjQsdbLtIA",
    "outputId": "201f7c7d-f6ef-487d-9843-51ef8f267c67",
    "papermill": {
     "duration": 4.24657,
     "end_time": "2022-03-20T00:54:41.741696",
     "exception": false,
     "start_time": "2022-03-20T00:54:37.495126",
     "status": "completed"
    },
    "scrolled": true,
    "tags": []
   },
   "outputs": [],
   "source": [
    "if ckpt_exists == False:\n",
    "    epochs = 16  # In practice, use ~100 epochs\n",
    "\n",
    "    if use_tpu == 'y' or use_tpu == 'Y':\n",
    "        with tpu_strategy.scope():\n",
    "            gan = GAN(discriminator=discriminator, generator=generator, latent_dim=latent_dim)\n",
    "\n",
    "            gan.compile(\n",
    "            d_optimizer=keras.optimizers.Adam(learning_rate=0.0001), # Was 0.0001\n",
    "            g_optimizer=keras.optimizers.Adam(learning_rate=0.0001), # Was 0.0001\n",
    "            loss_fn=keras.losses.BinaryCrossentropy(),\n",
    "            )\n",
    "\n",
    "    else: \n",
    "        gan = GAN(discriminator=discriminator, generator=generator, latent_dim=latent_dim)\n",
    "\n",
    "        gan.compile(\n",
    "        d_optimizer=keras.optimizers.Adam(learning_rate=0.0001), # Was 0.0001\n",
    "        g_optimizer=keras.optimizers.Adam(learning_rate=0.0001), # Was 0.0001\n",
    "        loss_fn=keras.losses.BinaryCrossentropy(),\n",
    "        )\n",
    "\n",
    "    #steps_per_epoch = 2500 // batch_size\n",
    "    gan.fit(\n",
    "      dataset, epochs=epochs, callbacks=[GANMonitor(num_img=10, latent_dim=latent_dim)]\n",
    "    )"
   ]
  },
  {
   "cell_type": "code",
   "execution_count": 28,
   "id": "29a2eb82",
   "metadata": {
    "execution": {
     "iopub.execute_input": "2022-03-20T00:54:50.372090Z",
     "iopub.status.busy": "2022-03-20T00:54:50.371144Z",
     "iopub.status.idle": "2022-03-20T00:54:51.225291Z",
     "shell.execute_reply": "2022-03-20T00:54:51.225777Z",
     "shell.execute_reply.started": "2022-03-19T19:29:07.289659Z"
    },
    "id": "IWm3DeULK_BH",
    "papermill": {
     "duration": 5.064071,
     "end_time": "2022-03-20T00:54:51.225941",
     "exception": false,
     "start_time": "2022-03-20T00:54:46.161870",
     "status": "completed"
    },
    "tags": []
   },
   "outputs": [
    {
     "data": {
      "image/png": "[encoded data removed]",
      "text/plain": [
       "<Figure size 432x288 with 1 Axes>"
      ]
     },
     "metadata": {
      "needs_background": "light"
     },
     "output_type": "display_data"
    }
   ],
   "source": [
    "for x in dataset:\n",
    "  i = rd.randint(0,26458)\n",
    "  plt.imshow((x.numpy() * 255).astype(\"int32\")[0], cmap='gray')\n",
    "  break"
   ]
  },
  {
   "cell_type": "markdown",
   "id": "2c373576",
   "metadata": {
    "id": "s-gZ4WSgLtIA",
    "papermill": {
     "duration": 4.260047,
     "end_time": "2022-03-20T00:54:59.921635",
     "exception": false,
     "start_time": "2022-03-20T00:54:55.661588",
     "status": "completed"
    },
    "tags": []
   },
   "source": [
    "Some of the last generated images around epoch 30\n",
    "(results keep improving after that):\n"
   ]
  },
  {
   "cell_type": "markdown",
   "id": "a7464058",
   "metadata": {
    "id": "LBGlaWncLtIA",
    "papermill": {
     "duration": 5.01333,
     "end_time": "2022-03-20T00:55:09.049555",
     "exception": false,
     "start_time": "2022-03-20T00:55:04.036225",
     "status": "completed"
    },
    "tags": []
   },
   "source": [
    "# Checkpoint Restore"
   ]
  }
 ],
 "metadata": {
  "kernelspec": {
   "display_name": "Python 3",
   "language": "python",
   "name": "python3"
  },
  "language_info": {
   "codemirror_mode": {
    "name": "ipython",
    "version": 3
   },
   "file_extension": ".py",
   "mimetype": "text/x-python",
   "name": "python",
   "nbconvert_exporter": "python",
   "pygments_lexer": "ipython3",
   "version": "3.7.12"
  },
  "papermill": {
   "default_parameters": {},
   "duration": 19501.136638,
   "end_time": "2022-03-20T00:55:16.204736",
   "environment_variables": {},
   "exception": null,
   "input_path": "__notebook__.ipynb",
   "output_path": "__notebook__.ipynb",
   "parameters": {},
   "start_time": "2022-03-19T19:30:15.068098",
   "version": "2.3.3"
  }
 },
 "nbformat": 4,
 "nbformat_minor": 5
}
