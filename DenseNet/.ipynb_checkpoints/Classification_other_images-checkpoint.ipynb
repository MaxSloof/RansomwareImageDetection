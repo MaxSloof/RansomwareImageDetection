{
 "cells": [
  {
   "cell_type": "markdown",
   "id": "e75168bd",
   "metadata": {},
   "source": [
    "# Classification of other datasets, not used for training"
   ]
  },
  {
   "cell_type": "code",
   "execution_count": 108,
   "id": "6d866e8e",
   "metadata": {},
   "outputs": [],
   "source": [
    "from keras.models import load_model\n",
    "import tensorflow as tf\n",
    "import os\n",
    "from keras.preprocessing import image\n",
    "import numpy as np\n",
    "import pandas as pd"
   ]
  },
  {
   "cell_type": "code",
   "execution_count": 109,
   "id": "0b669ddf",
   "metadata": {},
   "outputs": [],
   "source": [
    "ih, iw = 64, 64\n",
    "ch = 'rgb'\n",
    "model_dir = \"C:/Users/Max/Documents/GitHub/DenseNet/DenseNet-cgan-kaggle-v008/model.h5\""
   ]
  },
  {
   "cell_type": "code",
   "execution_count": null,
   "id": "1a649327",
   "metadata": {},
   "outputs": [],
   "source": [
    "model = load_model(model_dir)\n",
    "model.compile(optimizer='adam', loss='losses.sparse_categorical_crossentropy', metrics=['accuracy'])"
   ]
  },
  {
   "cell_type": "code",
   "execution_count": null,
   "id": "2bcab63f",
   "metadata": {},
   "outputs": [],
   "source": [
    "index_1 = model_dir.find('/', 30) + 1\n",
    "index_2 = model_dir.find('/', index_1)\n",
    "index_3 = model_dir.find('-', index_1)\n",
    "model_type = model_dir[index_1:index_2]\n",
    "trimmed_model_type = model_dir[index_1:index_3]\n",
    "\n",
    "print(model_type)\n",
    "print(trimmed_model_type)"
   ]
  },
  {
   "cell_type": "code",
   "execution_count": null,
   "id": "35b42533",
   "metadata": {},
   "outputs": [],
   "source": [
    "data_dir = \"C:/Users/Max/Documents/ransomware_val/virusshare\"\n",
    "\n",
    "data_i_1 = data_dir.find('/', 30)+1\n",
    "\n",
    "data_type = data_dir[data_i_1:]\n",
    "\n",
    "if data_type == 'virusshare':\n",
    "    data_file_count = 4332\n",
    "elif data_type == 'bazaarImages':\n",
    "    data_file_count = 968\n",
    "else: \n",
    "    data_file_count = 'unknown'"
   ]
  },
  {
   "cell_type": "code",
   "execution_count": null,
   "id": "62252271",
   "metadata": {},
   "outputs": [],
   "source": [
    "rw_imgs = np.array([])\n",
    "rw_family = np.array([])\n",
    "rw_labels = np.array([]).astype(\"int32\")\n",
    "\n",
    "b_imgs = np.array([])\n",
    "b_family = np.array([])\n",
    "b_labels = np.array([]).astype(\"int32\")\n",
    "\n",
    "imgs = np.array([])\n",
    "family = np.array([])\n",
    "labels = np.array([]).astype(\"int32\")\n",
    "\n",
    "i = 0\n",
    "\n",
    "for root, dirs, files in os.walk(data_dir): \n",
    "    for filename in files:\n",
    "        path = os.path.join(root, filename)\n",
    "        img = image.load_img(path, target_size=(iw,ih), color_mode=ch)\n",
    "        x = image.img_to_array(img)\n",
    "        x = np.expand_dims(x, axis = 0)\n",
    "    \n",
    "        images = np.vstack([x])\n",
    "        p = model.predict(images)\n",
    "\n",
    "        # Keep track of progress\n",
    "        i = i + 1\n",
    "        print(f\"{i} of {data_file_count} files\")\n",
    "        \n",
    "        # Retrieve name of software family (e.g. Reveton)\n",
    "        p_i_1 = path.find('/', 30)+len(data_type)+2\n",
    "        p_i_2 = path.find(\"\\\\\", p_i_1)\n",
    "        family_name = path[p_i_1:p_i_2]\n",
    "    \n",
    "        # Predicted label\n",
    "        q = p.argmax()\n",
    "        \n",
    "        imgs = np.append(imgs, path)\n",
    "        family = np.append(family, family_name)\n",
    "        labels = np.append(labels, q)\n",
    "        \n",
    "        if np.any(p>0.5):\n",
    "            if not q == 10:\n",
    "                rw_imgs = np.append(rw_imgs, path)\n",
    "                rw_family = np.append(rw_family, family_name)\n",
    "                rw_labels = np.append(rw_labels, q)\n",
    "            if q == 10:\n",
    "                b_imgs = np.append(b_imgs, path)\n",
    "                b_family = np.append(b_family, family_name)\n",
    "                b_labels = np.append(b_labels, q)\n",
    "\n",
    "rw_imgs_family_labels = pd.DataFrame({'file': rw_imgs, 'family': rw_family, 'label': rw_labels}, \n",
    "                                     columns=['file', 'family', 'label'])\n",
    "b_imgs_family_labels = pd.DataFrame({'file': b_imgs, 'family': b_family, 'label': b_labels}, \n",
    "                                     columns=['file', 'family', 'label'])\n",
    "imgs_family_labels = pd.DataFrame({'file': imgs, 'family': family, 'label': labels}, \n",
    "                                     columns=['file', 'family', 'label'])"
   ]
  },
  {
   "cell_type": "code",
   "execution_count": null,
   "id": "df5c540d",
   "metadata": {},
   "outputs": [],
   "source": [
    "save_dir = f\"C:/Users/Max/Documents/validation_runs/{data_type}_{model_type}\"\n",
    "try:\n",
    "    os.makedirs(save_dir)\n",
    "except:\n",
    "    print(\"Folder already exists! Do you want to continue?\")\n",
    "    input(\"Press 'Enter' to continue\")\n",
    "\n",
    "rw_imgs_family_labels.to_csv(path_or_buf=f\"{save_dir}/rw_{data_type}_{model_type}.csv\")\n",
    "b_imgs_family_labels.to_csv(path_or_buf=f\"{save_dir}/b_{data_type}_{model_type}.csv\")\n",
    "imgs_family_labels.to_csv(path_or_buf=f\"{save_dir}/{data_type}_{model_type}.csv\")"
   ]
  },
  {
   "cell_type": "markdown",
   "id": "6bdc8527",
   "metadata": {},
   "source": [
    "# Analysis"
   ]
  },
  {
   "cell_type": "code",
   "execution_count": null,
   "id": "9a8af8cd",
   "metadata": {},
   "outputs": [],
   "source": [
    "from sklearn import metrics\n",
    "import matplotlib.pyplot as plt\n",
    "from sklearn.metrics import f1_score, matthews_corrcoef, accuracy_score\n",
    "from prettytable import PrettyTable, MSWORD_FRIENDLY\n",
    "import seaborn as sns"
   ]
  },
  {
   "cell_type": "code",
   "execution_count": null,
   "id": "01fe9af3",
   "metadata": {},
   "outputs": [],
   "source": [
    "y_predbin = []\n",
    "y_truebin = []\n",
    "\n",
    "for count, value in enumerate(labels):\n",
    "    y_truebin.append(0)\n",
    "    if labels[count] in range(10):\n",
    "        y_predbin.append(0)\n",
    "        \n",
    "    else: y_predbin.append(1)\n",
    "    "
   ]
  },
  {
   "cell_type": "code",
   "execution_count": null,
   "id": "6229869e",
   "metadata": {},
   "outputs": [],
   "source": [
    "labels"
   ]
  },
  {
   "cell_type": "code",
   "execution_count": null,
   "id": "0d0ba3ef",
   "metadata": {},
   "outputs": [],
   "source": [
    "print(np.unique(labels, return_counts=True))"
   ]
  },
  {
   "cell_type": "code",
   "execution_count": null,
   "id": "76e36cdd",
   "metadata": {},
   "outputs": [],
   "source": [
    "c_matrix_bin = metrics.confusion_matrix(y_truebin, y_predbin)"
   ]
  },
  {
   "cell_type": "code",
   "execution_count": null,
   "id": "3c403f8f",
   "metadata": {},
   "outputs": [],
   "source": [
    "def confusion_matrix_bin(confusion_matrix, class_names_bin, figsize = (5,2), fontsize=7):\n",
    "   \n",
    "    df_cm = pd.DataFrame(\n",
    "        confusion_matrix, index=class_names_bin, columns=class_names_bin, \n",
    "    )\n",
    "    fig = plt.figure(figsize=figsize)\n",
    "    try:\n",
    "        heatmap = sns.heatmap(df_cm, annot=True, fmt=\"d\")\n",
    "    except ValueError:\n",
    "        raise ValueError(\"Confusion matrix values must be integers.\")\n",
    "    heatmap.yaxis.set_ticklabels(heatmap.yaxis.get_ticklabels(), rotation=0, ha='right', fontsize=fontsize)\n",
    "    heatmap.xaxis.set_ticklabels(heatmap.xaxis.get_ticklabels(), rotation=45, ha='right', fontsize=fontsize)\n",
    "    plt.ylabel('True label')\n",
    "    plt.xlabel('Predicted label')\n",
    "    plt.title(f\"{model_type}\")\n",
    "    plt.savefig(f\"C:/Users/Max/Documents/validation_runs/visuals/CM_{data_type}_{model_type}.png\", bbox_inches = 'tight')\n",
    "    plt.savefig(f\"{save_dir}/CM_{data_type}_{model_type}.png\", bbox_inches = 'tight')"
   ]
  },
  {
   "cell_type": "code",
   "execution_count": null,
   "id": "3c0cfa35",
   "metadata": {},
   "outputs": [],
   "source": [
    "class_names_bin= (\"ransomware\", \"benign\")\n",
    "confusion_matrix_bin(c_matrix_bin, class_names_bin, figsize = (5,2), fontsize=10)"
   ]
  },
  {
   "cell_type": "markdown",
   "id": "093edcad",
   "metadata": {},
   "source": [
    "**Performance per family**"
   ]
  },
  {
   "cell_type": "code",
   "execution_count": null,
   "id": "e0502055",
   "metadata": {},
   "outputs": [],
   "source": [
    "fam_labels = pd.DataFrame(imgs_family_labels, columns=['family', 'label'])\n",
    "fam_labels['label'] = fam_labels['label'].astype('str')"
   ]
  },
  {
   "cell_type": "code",
   "execution_count": null,
   "id": "0a519da5",
   "metadata": {
    "scrolled": true
   },
   "outputs": [],
   "source": [
    "for count, value in enumerate(fam_labels['label'].values):\n",
    "    if int(fam_labels['label'].values[count]) in range(10):\n",
    "        fam_labels['label'].values[count] = 'ransomware'\n",
    "    else:\n",
    "        fam_labels['label'].values[count] = 'benign'"
   ]
  },
  {
   "cell_type": "code",
   "execution_count": null,
   "id": "8d583d13",
   "metadata": {},
   "outputs": [],
   "source": [
    "fam_labels['label'].values"
   ]
  },
  {
   "cell_type": "code",
   "execution_count": null,
   "id": "731c1259",
   "metadata": {},
   "outputs": [],
   "source": [
    "df = fam_labels.value_counts(sort=False)"
   ]
  },
  {
   "cell_type": "code",
   "execution_count": null,
   "id": "f63f1f36",
   "metadata": {},
   "outputs": [],
   "source": [
    "df.unstack().plot(kind = 'bar', stacked=True, y=['ransomware', 'benign'])"
   ]
  },
  {
   "cell_type": "code",
   "execution_count": null,
   "id": "12a6cb20",
   "metadata": {},
   "outputs": [],
   "source": [
    "dfu = df.unstack()"
   ]
  },
  {
   "cell_type": "code",
   "execution_count": null,
   "id": "c641f4fb",
   "metadata": {},
   "outputs": [],
   "source": [
    "df.unstack()"
   ]
  },
  {
   "cell_type": "code",
   "execution_count": null,
   "id": "5248221e",
   "metadata": {},
   "outputs": [],
   "source": [
    "for count, label in enumerate(dfu['benign']):\n",
    "    total = dfu['benign'][count] + dfu['ransomware'][count]\n",
    "    dfu['benign'][count] = dfu['benign'][count] / total * 100\n",
    "    dfu['ransomware'][count] = dfu['ransomware'][count] / total * 100"
   ]
  },
  {
   "cell_type": "code",
   "execution_count": null,
   "id": "90452421",
   "metadata": {},
   "outputs": [],
   "source": [
    "per_distr = dfu.plot(kind = 'bar', stacked=True, y=['ransomware', 'benign'], color = ['cornflowerblue', 'darkorange'])\n",
    "plt.legend(['Ransomware', 'Benign'])\n",
    "plt.xlabel('Family')\n",
    "plt.ylabel('Relative percentage (%)')\n",
    "plt.title(trimmed_model_type)\n",
    "plt.savefig(f\"{save_dir}/BP_{data_type}_{model_type}.png\", bbox_inches = 'tight')\n",
    "plt.savefig(f\"C:/Users/Max/Documents/validation_runs/visuals/BP_{data_type}_{model_type}.png\", bbox_inches = 'tight')"
   ]
  }
 ],
 "metadata": {
  "kernelspec": {
   "display_name": "Python 3 (ipykernel)",
   "language": "python",
   "name": "python3"
  },
  "language_info": {
   "codemirror_mode": {
    "name": "ipython",
    "version": 3
   },
   "file_extension": ".py",
   "mimetype": "text/x-python",
   "name": "python",
   "nbconvert_exporter": "python",
   "pygments_lexer": "ipython3",
   "version": "3.8.5"
  }
 },
 "nbformat": 4,
 "nbformat_minor": 5
}
