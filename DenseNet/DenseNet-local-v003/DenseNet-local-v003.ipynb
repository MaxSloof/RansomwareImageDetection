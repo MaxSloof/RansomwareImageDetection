{
 "cells": [
  {
   "cell_type": "code",
   "execution_count": 1,
   "metadata": {
    "id": "KXQu67zVoZAw"
   },
   "outputs": [],
   "source": [
    "import tensorflow as tf\n",
    "import matplotlib.pyplot as plt\n",
    "from tensorflow.keras import datasets, layers, models, losses, Model\n",
    "from tensorflow.keras.preprocessing.image import ImageDataGenerator\n",
    "from tensorflow.keras.callbacks import ModelCheckpoint, ReduceLROnPlateau\n",
    "from sklearn.model_selection import train_test_split\n",
    "import numpy as np\n",
    "import os"
   ]
  },
  {
   "cell_type": "code",
   "execution_count": 2,
   "metadata": {},
   "outputs": [],
   "source": [
    "# Image size (height x width)\n",
    "ih = 64\n",
    "iw = 64\n",
    "\n",
    "# Grayscale or RGB\n",
    "ch = 'rgb'\n",
    "\n",
    "# Batch size \n",
    "batch_size = 40000\n",
    "\n",
    "# Layer adapt\n",
    "ksize = 4 # Kernel size : was '4' for 64x64 image\n",
    "ssize = 2 # Stride size : was '2' for 64x64 image\n",
    "\n",
    "# Size of test set (in %)\n",
    "testsize = 0.3\n",
    "\n",
    "# Number of epochs in untrainable model\n",
    "epoch_unt = 7\n",
    "\n",
    "# Number of epochs in trainable model\n",
    "epoch_t = 8\n",
    "\n",
    "# Where computation is performed: Kaggle (0) or Local (1)\n",
    "cenv = 1"
   ]
  },
  {
   "cell_type": "code",
   "execution_count": 3,
   "metadata": {
    "scrolled": true
   },
   "outputs": [
    {
     "name": "stdout",
     "output_type": "stream",
     "text": [
      "Computation environment: Local\n"
     ]
    }
   ],
   "source": [
    "if cenv == 0:\n",
    "    print(\"Computation environment: Kaggle\")\n",
    "if cenv == 1:\n",
    "    print(\"Computation environment: Local\")"
   ]
  },
  {
   "cell_type": "markdown",
   "metadata": {},
   "source": [
    "**Create new directory for version**"
   ]
  },
  {
   "cell_type": "code",
   "execution_count": 4,
   "metadata": {},
   "outputs": [
    {
     "name": "stdout",
     "output_type": "stream",
     "text": [
      "2 matches(es) found\n",
      "--------------\n",
      "New folder name: DenseNet-local-v003\n",
      "--------------\n"
     ]
    }
   ],
   "source": [
    "if cenv == 1:\n",
    "    file_exists = []\n",
    "    vnum = 1\n",
    "    dir = \"C:/Users/Max/Documents/GitHub/DenseNet\"\n",
    "    for files in os.listdir(dir):\n",
    "        if \"DenseNet\" in files: \n",
    "            try:\n",
    "                vnum = max(vnum, int(files[-3:]))\n",
    "            except: \n",
    "                continue\n",
    "            new_vnum = vnum + 1\n",
    "            file_exists.append(True)\n",
    "        else: \n",
    "            file_exists.append(False)\n",
    "    # If this is the first notebook you want to save, a new folder will be created with version #001\n",
    "    if sum(file_exists) == 0:\n",
    "        new_vnum = 1\n",
    "        print(\"No matches found\")\n",
    "\n",
    "    else: \n",
    "        print(f\"{sum(file_exists)} matches(es) found\")\n",
    "        print(\"--------------\")\n",
    "\n",
    "    # Print new folder name\n",
    "    print(f\"New folder name: DenseNet-local-v{new_vnum:03}\")\n",
    "    print(\"--------------\")\n",
    "    \n",
    "    # Create new folder with the name of the notebook and the version number\n",
    "    new_dir = f\"/Users/Max/Documents/GitHub/DenseNet/DenseNet-local-v{new_vnum:03}\"\n",
    "    os.makedirs(new_dir)"
   ]
  },
  {
   "cell_type": "markdown",
   "metadata": {},
   "source": [
    "# Data"
   ]
  },
  {
   "cell_type": "code",
   "execution_count": 5,
   "metadata": {
    "execution": {
     "iopub.execute_input": "2022-03-25T09:05:56.933069Z",
     "iopub.status.busy": "2022-03-25T09:05:56.932806Z",
     "iopub.status.idle": "2022-03-25T09:05:56.940533Z",
     "shell.execute_reply": "2022-03-25T09:05:56.939803Z",
     "shell.execute_reply.started": "2022-03-25T09:05:56.93304Z"
    },
    "scrolled": true
   },
   "outputs": [],
   "source": [
    "if cenv == 0:\n",
    "    path_root = \"/kaggle/input/thesis-data\"\n",
    "    \n",
    "    # Directory where checkpoints of DCGAN are stored\n",
    "    checkpoint_dir = \"/kaggle/input/checkpoints\" \n",
    "\n",
    "if cenv == 1:\n",
    "    path_root = \"C:/Users/Max/Documents/thesis_data\"\n",
    "    \n",
    "    # Directory where checkpoints of DCGAN are stored\n",
    "    checkpoint_dir = 'C:/Users/Max/Documents/GitHub/dcgan_kaggle_output/dcgan-kaggle-v002/checkpoints'\n",
    "    "
   ]
  },
  {
   "cell_type": "code",
   "execution_count": 6,
   "metadata": {},
   "outputs": [],
   "source": [
    "im_si = (ih, iw)\n",
    "\n",
    "if(ch == 'rgb'):\n",
    "    chnum = 3\n",
    "elif(ch == 'grayscale'):\n",
    "    chnum = 1"
   ]
  },
  {
   "cell_type": "code",
   "execution_count": 7,
   "metadata": {},
   "outputs": [
    {
     "name": "stdout",
     "output_type": "stream",
     "text": [
      "Found 26548 images belonging to 11 classes.\n"
     ]
    }
   ],
   "source": [
    "batches = ImageDataGenerator().flow_from_directory(\n",
    "    directory  = path_root, \n",
    "    color_mode = ch, \n",
    "    target_size= (ih,iw), \n",
    "    interpolation=\"bicubic\",\n",
    "    class_mode = 'sparse',\n",
    "    batch_size=batch_size\n",
    ")\n",
    "imgs, labels = next(batches)"
   ]
  },
  {
   "cell_type": "code",
   "execution_count": 8,
   "metadata": {},
   "outputs": [],
   "source": [
    "processed_imgs = tf.keras.applications.resnet.preprocess_input(imgs)\n",
    "labels = np.array(labels)"
   ]
  },
  {
   "cell_type": "code",
   "execution_count": 9,
   "metadata": {},
   "outputs": [],
   "source": [
    "X_train, X_test, y_train, y_test = train_test_split(processed_imgs, labels, test_size=testsize)"
   ]
  },
  {
   "cell_type": "code",
   "execution_count": 10,
   "metadata": {},
   "outputs": [
    {
     "name": "stdout",
     "output_type": "stream",
     "text": [
      "Size of training data: 18583 | Shape of training data (18583, 64, 64, 3)\n",
      "Size of training data: 7965  | Shape of training data (7965, 64, 64, 3)\n",
      "Shape of training labels (18583,)\n",
      "Shape of training labels (7965,)\n"
     ]
    }
   ],
   "source": [
    "trainsize = len(X_train)\n",
    "testsize = len(X_test)\n",
    "\n",
    "print(f\"Size of training data: {trainsize} | Shape of training data {X_train.shape}\")\n",
    "print(f\"Size of training data: {testsize}  | Shape of training data {X_test.shape}\")\n",
    "print(f\"Shape of training labels {y_train.shape}\")\n",
    "print(f\"Shape of training labels {y_test.shape}\")"
   ]
  },
  {
   "cell_type": "markdown",
   "metadata": {},
   "source": [
    "# ResNet"
   ]
  },
  {
   "cell_type": "code",
   "execution_count": 11,
   "metadata": {
    "colab": {
     "base_uri": "https://localhost:8080/"
    },
    "id": "d2mRBkTBoig8",
    "outputId": "7aeee00a-bdff-41db-8473-6e04850605b5"
   },
   "outputs": [],
   "source": [
    "base_model = tf.keras.applications.DenseNet121(weights = 'imagenet', include_top = False, input_shape = (64,64,3))"
   ]
  },
  {
   "cell_type": "code",
   "execution_count": 12,
   "metadata": {
    "id": "rWSL-tt4qBRa"
   },
   "outputs": [],
   "source": [
    "x = layers.Flatten()(base_model.output)\n",
    "x = layers.Dense(1000, activation='relu')(x)\n",
    "predictions = layers.Dense(11, activation = 'softmax')(x)"
   ]
  },
  {
   "cell_type": "code",
   "execution_count": 13,
   "metadata": {
    "id": "s1sYr8cIt0nY"
   },
   "outputs": [],
   "source": [
    "head_model = Model(inputs = base_model.input, outputs = predictions)\n",
    "head_model.compile(optimizer='adam', loss=losses.sparse_categorical_crossentropy, metrics=['accuracy'])"
   ]
  },
  {
   "cell_type": "code",
   "execution_count": 14,
   "metadata": {},
   "outputs": [],
   "source": [
    "for layer in head_model.layers[:-8]:\n",
    "    layer.trainable=False\n",
    "    \n",
    "for layer in head_model.layers[-8:]:\n",
    "    layer.trainable=True"
   ]
  },
  {
   "cell_type": "markdown",
   "metadata": {},
   "source": [
    "Callbacks"
   ]
  },
  {
   "cell_type": "code",
   "execution_count": 15,
   "metadata": {},
   "outputs": [],
   "source": [
    "anne = ReduceLROnPlateau(monitor='val_accuracy', factor=0.5, patience=5, verbose=1, min_lr=1e-3)\n",
    "if cenv == 0:\n",
    "    checkpoint = ModelCheckpoint('model.h5', verbose=1, save_best_only=True)\n",
    "if cenv == 1:\n",
    "    checkpoint = ModelCheckpoint(f'{new_dir}/model.h5', verbose=1, save_best_only=True)\n"
   ]
  },
  {
   "cell_type": "code",
   "execution_count": 16,
   "metadata": {
    "scrolled": false
   },
   "outputs": [
    {
     "name": "stdout",
     "output_type": "stream",
     "text": [
      "Epoch 1/40\n",
      "291/291 [==============================] - 52s 130ms/step - loss: 0.3741 - accuracy: 0.9039 - val_loss: 0.3654 - val_accuracy: 0.8618\n",
      "\n",
      "Epoch 00001: val_loss improved from inf to 0.36544, saving model to /Users/Max/Documents/GitHub/DenseNet/DenseNet-local-v003\\model.h5\n",
      "Epoch 2/40\n",
      "291/291 [==============================] - 33s 114ms/step - loss: 0.3136 - accuracy: 0.9165 - val_loss: 13.6790 - val_accuracy: 0.5804\n",
      "\n",
      "Epoch 00002: val_loss did not improve from 0.36544\n",
      "Epoch 3/40\n",
      "291/291 [==============================] - 33s 113ms/step - loss: 0.3095 - accuracy: 0.9129 - val_loss: 0.7786 - val_accuracy: 0.8051\n",
      "\n",
      "Epoch 00003: val_loss did not improve from 0.36544\n",
      "Epoch 4/40\n",
      "291/291 [==============================] - 33s 112ms/step - loss: 0.2134 - accuracy: 0.9311 - val_loss: 0.1761 - val_accuracy: 0.9436\n",
      "\n",
      "Epoch 00004: val_loss improved from 0.36544 to 0.17607, saving model to /Users/Max/Documents/GitHub/DenseNet/DenseNet-local-v003\\model.h5\n",
      "Epoch 5/40\n",
      "291/291 [==============================] - 33s 112ms/step - loss: 0.1672 - accuracy: 0.9431 - val_loss: 0.1689 - val_accuracy: 0.9490\n",
      "\n",
      "Epoch 00005: val_loss improved from 0.17607 to 0.16888, saving model to /Users/Max/Documents/GitHub/DenseNet/DenseNet-local-v003\\model.h5\n",
      "Epoch 6/40\n",
      "291/291 [==============================] - 33s 113ms/step - loss: 0.1476 - accuracy: 0.9500 - val_loss: 0.1522 - val_accuracy: 0.9532\n",
      "\n",
      "Epoch 00006: val_loss improved from 0.16888 to 0.15216, saving model to /Users/Max/Documents/GitHub/DenseNet/DenseNet-local-v003\\model.h5\n",
      "Epoch 7/40\n",
      "291/291 [==============================] - 33s 113ms/step - loss: 0.1445 - accuracy: 0.9531 - val_loss: 0.1678 - val_accuracy: 0.9513\n",
      "\n",
      "Epoch 00007: val_loss did not improve from 0.15216\n",
      "Epoch 8/40\n",
      "291/291 [==============================] - 34s 117ms/step - loss: 0.1305 - accuracy: 0.9568 - val_loss: 0.1443 - val_accuracy: 0.9572\n",
      "\n",
      "Epoch 00008: val_loss improved from 0.15216 to 0.14429, saving model to /Users/Max/Documents/GitHub/DenseNet/DenseNet-local-v003\\model.h5\n",
      "Epoch 9/40\n",
      "291/291 [==============================] - 34s 116ms/step - loss: 0.1379 - accuracy: 0.9549 - val_loss: 2.8374 - val_accuracy: 0.9283\n",
      "\n",
      "Epoch 00009: val_loss did not improve from 0.14429\n",
      "Epoch 10/40\n",
      "291/291 [==============================] - 34s 117ms/step - loss: 0.1378 - accuracy: 0.9548 - val_loss: 0.1327 - val_accuracy: 0.9615\n",
      "\n",
      "Epoch 00010: val_loss improved from 0.14429 to 0.13273, saving model to /Users/Max/Documents/GitHub/DenseNet/DenseNet-local-v003\\model.h5\n",
      "Epoch 11/40\n",
      "291/291 [==============================] - 34s 118ms/step - loss: 0.1124 - accuracy: 0.9632 - val_loss: 0.1360 - val_accuracy: 0.9621\n",
      "\n",
      "Epoch 00011: val_loss did not improve from 0.13273\n",
      "Epoch 12/40\n",
      "291/291 [==============================] - 34s 118ms/step - loss: 0.1048 - accuracy: 0.9655 - val_loss: 0.1911 - val_accuracy: 0.9209\n",
      "\n",
      "Epoch 00012: val_loss did not improve from 0.13273\n",
      "Epoch 13/40\n",
      "291/291 [==============================] - 34s 116ms/step - loss: 0.0961 - accuracy: 0.9688 - val_loss: 0.1344 - val_accuracy: 0.9589\n",
      "\n",
      "Epoch 00013: val_loss did not improve from 0.13273\n",
      "Epoch 14/40\n",
      "291/291 [==============================] - 33s 113ms/step - loss: 0.0903 - accuracy: 0.9697 - val_loss: 0.1782 - val_accuracy: 0.9537\n",
      "\n",
      "Epoch 00014: val_loss did not improve from 0.13273\n",
      "Epoch 15/40\n",
      "291/291 [==============================] - 33s 113ms/step - loss: 0.0922 - accuracy: 0.9703 - val_loss: 0.1519 - val_accuracy: 0.9552\n",
      "\n",
      "Epoch 00015: val_loss did not improve from 0.13273\n",
      "Epoch 16/40\n",
      "291/291 [==============================] - 33s 113ms/step - loss: 0.0894 - accuracy: 0.9713 - val_loss: 0.1493 - val_accuracy: 0.9617\n",
      "\n",
      "Epoch 00016: val_loss did not improve from 0.13273\n",
      "Epoch 17/40\n",
      "291/291 [==============================] - 33s 113ms/step - loss: 0.0784 - accuracy: 0.9750 - val_loss: 0.1494 - val_accuracy: 0.9607\n",
      "\n",
      "Epoch 00017: val_loss did not improve from 0.13273\n",
      "Epoch 18/40\n",
      "291/291 [==============================] - 33s 113ms/step - loss: 0.0954 - accuracy: 0.9695 - val_loss: 0.1575 - val_accuracy: 0.9596\n",
      "\n",
      "Epoch 00018: val_loss did not improve from 0.13273\n",
      "Epoch 19/40\n",
      "291/291 [==============================] - 33s 113ms/step - loss: 0.0853 - accuracy: 0.9727 - val_loss: 0.1501 - val_accuracy: 0.9637\n",
      "\n",
      "Epoch 00019: val_loss did not improve from 0.13273\n",
      "Epoch 20/40\n",
      "291/291 [==============================] - 33s 112ms/step - loss: 0.0743 - accuracy: 0.9766 - val_loss: 0.1560 - val_accuracy: 0.9617\n",
      "\n",
      "Epoch 00020: val_loss did not improve from 0.13273\n",
      "Epoch 21/40\n",
      "291/291 [==============================] - 33s 112ms/step - loss: 0.0758 - accuracy: 0.9758 - val_loss: 0.1457 - val_accuracy: 0.9618\n",
      "\n",
      "Epoch 00021: val_loss did not improve from 0.13273\n",
      "Epoch 22/40\n",
      "291/291 [==============================] - 33s 112ms/step - loss: 0.0713 - accuracy: 0.9776 - val_loss: 0.1449 - val_accuracy: 0.9601\n",
      "\n",
      "Epoch 00022: val_loss did not improve from 0.13273\n",
      "Epoch 23/40\n",
      "291/291 [==============================] - 33s 112ms/step - loss: 0.0634 - accuracy: 0.9797 - val_loss: 0.1516 - val_accuracy: 0.9630\n",
      "\n",
      "Epoch 00023: val_loss did not improve from 0.13273\n",
      "Epoch 24/40\n",
      "291/291 [==============================] - 33s 112ms/step - loss: 0.0759 - accuracy: 0.9762 - val_loss: 0.1699 - val_accuracy: 0.9591\n",
      "\n",
      "Epoch 00024: val_loss did not improve from 0.13273\n",
      "Epoch 25/40\n",
      "291/291 [==============================] - 33s 112ms/step - loss: 0.0692 - accuracy: 0.9782 - val_loss: 0.1485 - val_accuracy: 0.9638\n",
      "\n",
      "Epoch 00025: val_loss did not improve from 0.13273\n",
      "Epoch 26/40\n",
      "291/291 [==============================] - 33s 112ms/step - loss: 0.0664 - accuracy: 0.9780 - val_loss: 0.1530 - val_accuracy: 0.9591\n",
      "\n",
      "Epoch 00026: val_loss did not improve from 0.13273\n",
      "Epoch 27/40\n",
      "291/291 [==============================] - 33s 113ms/step - loss: 0.0579 - accuracy: 0.9815 - val_loss: 0.1582 - val_accuracy: 0.9632\n",
      "\n",
      "Epoch 00027: val_loss did not improve from 0.13273\n",
      "Epoch 28/40\n",
      "291/291 [==============================] - 33s 113ms/step - loss: 0.0680 - accuracy: 0.9786 - val_loss: 0.1490 - val_accuracy: 0.9660\n",
      "\n",
      "Epoch 00028: val_loss did not improve from 0.13273\n",
      "Epoch 29/40\n",
      "291/291 [==============================] - 33s 112ms/step - loss: 0.0622 - accuracy: 0.9800 - val_loss: 0.1493 - val_accuracy: 0.9643\n",
      "\n",
      "Epoch 00029: val_loss did not improve from 0.13273\n",
      "Epoch 30/40\n",
      "291/291 [==============================] - 33s 113ms/step - loss: 0.0559 - accuracy: 0.9815 - val_loss: 0.1702 - val_accuracy: 0.9593\n",
      "\n",
      "Epoch 00030: val_loss did not improve from 0.13273\n",
      "Epoch 31/40\n",
      "291/291 [==============================] - 33s 113ms/step - loss: 0.0665 - accuracy: 0.9778 - val_loss: 0.1642 - val_accuracy: 0.9626\n",
      "\n",
      "Epoch 00031: val_loss did not improve from 0.13273\n",
      "Epoch 32/40\n",
      "291/291 [==============================] - 33s 112ms/step - loss: 0.0568 - accuracy: 0.9810 - val_loss: 0.1845 - val_accuracy: 0.9611\n",
      "\n",
      "Epoch 00032: val_loss did not improve from 0.13273\n",
      "Epoch 33/40\n",
      "291/291 [==============================] - 33s 113ms/step - loss: 0.9071 - accuracy: 0.9200 - val_loss: 3.3567 - val_accuracy: 0.9340\n",
      "\n",
      "Epoch 00033: val_loss did not improve from 0.13273\n",
      "Epoch 34/40\n",
      "291/291 [==============================] - 33s 113ms/step - loss: 0.1761 - accuracy: 0.9480 - val_loss: 0.6049 - val_accuracy: 0.9499\n",
      "\n",
      "Epoch 00034: val_loss did not improve from 0.13273\n",
      "Epoch 35/40\n",
      "291/291 [==============================] - 33s 113ms/step - loss: 0.1536 - accuracy: 0.9590 - val_loss: 0.1591 - val_accuracy: 0.9556\n",
      "\n",
      "Epoch 00035: val_loss did not improve from 0.13273\n",
      "Epoch 36/40\n",
      "291/291 [==============================] - 33s 112ms/step - loss: 0.1051 - accuracy: 0.9662 - val_loss: 0.1405 - val_accuracy: 0.9584\n",
      "\n",
      "Epoch 00036: val_loss did not improve from 0.13273\n",
      "Epoch 37/40\n",
      "291/291 [==============================] - 33s 113ms/step - loss: 0.0965 - accuracy: 0.9691 - val_loss: 0.1546 - val_accuracy: 0.9611\n",
      "\n",
      "Epoch 00037: val_loss did not improve from 0.13273\n",
      "Epoch 38/40\n",
      "291/291 [==============================] - 33s 113ms/step - loss: 0.0770 - accuracy: 0.9747 - val_loss: 0.1612 - val_accuracy: 0.9601\n",
      "\n",
      "Epoch 00038: val_loss did not improve from 0.13273\n",
      "Epoch 39/40\n",
      "291/291 [==============================] - 33s 112ms/step - loss: 0.0701 - accuracy: 0.9774 - val_loss: 0.2358 - val_accuracy: 0.9618\n",
      "\n",
      "Epoch 00039: val_loss did not improve from 0.13273\n",
      "Epoch 40/40\n"
     ]
    },
    {
     "name": "stdout",
     "output_type": "stream",
     "text": [
      "291/291 [==============================] - 33s 112ms/step - loss: 0.0743 - accuracy: 0.9761 - val_loss: 14.9961 - val_accuracy: 0.8593\n",
      "\n",
      "Epoch 00040: val_loss did not improve from 0.13273\n"
     ]
    }
   ],
   "source": [
    "history = head_model.fit(\n",
    "    X_train, \n",
    "    y_train,\n",
    "    batch_size=64, \n",
    "    epochs=40, \n",
    "    validation_data=(X_test, y_test),\n",
    "    callbacks = [anne, checkpoint]) # EPOCHS WAS 40"
   ]
  },
  {
   "cell_type": "code",
   "execution_count": 17,
   "metadata": {
    "colab": {
     "base_uri": "https://localhost:8080/"
    },
    "id": "3b5bRktf4ydg",
    "outputId": "37f5eb06-7caa-4c5f-b6fd-9b5758a1f057"
   },
   "outputs": [
    {
     "name": "stdout",
     "output_type": "stream",
     "text": [
      "249/249 [==============================] - 8s 29ms/step - loss: 14.9960 - accuracy: 0.8593\n",
      "Overall CNN Accuracy: 0.8592592477798462\n",
      "(The number of correct predictions divided by the number of total predictions)\n"
     ]
    }
   ],
   "source": [
    "scores = head_model.evaluate(X_test, y_test)\n",
    "print(f\"Overall CNN Accuracy: {scores[1]}\\n(The number of correct predictions divided by the number of total predictions)\")"
   ]
  },
  {
   "cell_type": "markdown",
   "metadata": {},
   "source": [
    "# Plots"
   ]
  },
  {
   "cell_type": "code",
   "execution_count": 18,
   "metadata": {},
   "outputs": [],
   "source": [
    "multi_distribution = np.unique(labels, return_counts=True)"
   ]
  },
  {
   "cell_type": "code",
   "execution_count": 19,
   "metadata": {},
   "outputs": [],
   "source": [
    "classes = batches.class_indices.keys()"
   ]
  },
  {
   "cell_type": "code",
   "execution_count": 20,
   "metadata": {},
   "outputs": [
    {
     "data": {
      "image/png": "[encoded data removed]",
      "text/plain": [
       "<Figure size 432x288 with 1 Axes>"
      ]
     },
     "metadata": {
      "needs_background": "light"
     },
     "output_type": "display_data"
    }
   ],
   "source": [
    "perc = (multi_distribution[1]/labels.shape[0])*100\n",
    "plt.xticks(rotation='vertical')\n",
    "plt.bar(classes,perc)\n",
    "if cenv == 0:\n",
    "    plt.savefig(\"multi_data_dist.png\", bbox_inches = 'tight')\n",
    "if cenv == 1:\n",
    "    plt.savefig(f\"{new_dir}/multi_data_dist.png\", bbox_inches = 'tight')"
   ]
  },
  {
   "cell_type": "code",
   "execution_count": 21,
   "metadata": {
    "scrolled": false
   },
   "outputs": [],
   "source": [
    "def my_fmt(x):\n",
    "    return '{:.1f}%\\n({:.0f})'.format(x, total*x/100)\n",
    "total = trainsize + testsize"
   ]
  },
  {
   "cell_type": "code",
   "execution_count": 22,
   "metadata": {
    "scrolled": true
   },
   "outputs": [
    {
     "data": {
      "image/png": "[encoded data removed]",
      "text/plain": [
       "<Figure size 432x288 with 1 Axes>"
      ]
     },
     "metadata": {},
     "output_type": "display_data"
    }
   ],
   "source": [
    "plt.pie(\n",
    "    [trainsize, testsize], \n",
    "    labels = [\"Training\", \"Validation\"], \n",
    "    startangle=90, \n",
    "    counterclock=False, \n",
    "    autopct=my_fmt,\n",
    "    colors = ['gray', 'silver']\n",
    ")\n",
    "\n",
    "plt.title(\"Training and validation data distribution\")\n",
    "\n",
    "if cenv == 0:\n",
    "    plt.savefig(\"train_test_dist.png\", bbox_inches = 'tight')\n",
    "if cenv == 1:\n",
    "    plt.savefig(f\"{new_dir}/train_test_dist.png\", bbox_inches = 'tight')"
   ]
  },
  {
   "cell_type": "code",
   "execution_count": 23,
   "metadata": {
    "colab": {
     "base_uri": "https://localhost:8080/",
     "height": 910
    },
    "id": "yE3OUgo34v_C",
    "outputId": "fd989d09-d97f-478e-e768-0e2e739a17aa"
   },
   "outputs": [
    {
     "data": {
      "image/png": "[encoded data removed]",
      "text/plain": [
       "<Figure size 1080x1080 with 2 Axes>"
      ]
     },
     "metadata": {
      "needs_background": "light"
     },
     "output_type": "display_data"
    }
   ],
   "source": [
    "fig, axs = plt.subplots(2, 1, figsize=(15,15))\n",
    "\n",
    "axs[0].plot(history.history['loss'])\n",
    "axs[0].plot(history.history['val_loss'])\n",
    "axs[0].title.set_text('Training Loss vs Validation Loss')\n",
    "axs[0].set_xlabel('Epochs')\n",
    "axs[0].set_ylabel('Loss')\n",
    "axs[0].legend(['Train','Val'])\n",
    "\n",
    "axs[1].plot(history.history['accuracy'])\n",
    "axs[1].plot(history.history['val_accuracy'])\n",
    "axs[1].title.set_text('Training Accuracy vs Validation Accuracy')\n",
    "axs[1].set_xlabel('Epochs')\n",
    "axs[1].set_ylabel('Accuracy')\n",
    "axs[1].legend(['Train', 'Val'])\n",
    "\n",
    "if cenv == 0:\n",
    "    plt.savefig(\"performance_figure.png\", bbox_inches = 'tight')\n",
    "if cenv == 1:\n",
    "    plt.savefig(f\"{new_dir}/performance_figure.png\", bbox_inches = 'tight')"
   ]
  },
  {
   "cell_type": "markdown",
   "metadata": {},
   "source": [
    "# Analyse performance\n",
    "\n",
    "**Multiclass classification**"
   ]
  },
  {
   "cell_type": "code",
   "execution_count": 24,
   "metadata": {},
   "outputs": [],
   "source": [
    "from sklearn import metrics\n",
    "import pandas as pd\n",
    "import seaborn as sns\n",
    "from prettytable import PrettyTable, MSWORD_FRIENDLY"
   ]
  },
  {
   "cell_type": "markdown",
   "metadata": {},
   "source": [
    "Multiclass performance table"
   ]
  },
  {
   "cell_type": "code",
   "execution_count": 25,
   "metadata": {},
   "outputs": [
    {
     "name": "stdout",
     "output_type": "stream",
     "text": [
      "+------------------------------------------------+\n",
      "| Perf. of multi-class classification - DenseNet |\n",
      "+------------------------------+-----------------+\n",
      "| Metric                       | Performance     |\n",
      "+------------------------------+-----------------+\n",
      "| Valididation accuracy        | 0.8593          |\n",
      "| Validation loss              | 14.996          |\n",
      "+------------------------------+-----------------+\n"
     ]
    }
   ],
   "source": [
    "t = PrettyTable(['Metric', 'Performance'])\n",
    "t.add_row(['Valididation accuracy', round(scores[1],4)])\n",
    "t.add_row(['Validation loss', round(scores[0],4)])\n",
    "t.header = True\n",
    "t.align = \"l\"\n",
    "t.title = \"Perf. of multi-class classification - DenseNet\"\n",
    "print(t)"
   ]
  },
  {
   "cell_type": "code",
   "execution_count": 26,
   "metadata": {},
   "outputs": [],
   "source": [
    "# Saving PrettyTable\n",
    "table = t.get_string()\n",
    "\n",
    "if cenv == 0:\n",
    "    with open('multi_performance_table.txt', 'w') as f:\n",
    "        f.write(table)\n",
    "if cenv == 1:\n",
    "    with open(f'{new_dir}/multi_performance_table.txt', 'w') as f:\n",
    "        f.write(table)"
   ]
  },
  {
   "cell_type": "code",
   "execution_count": 27,
   "metadata": {
    "scrolled": true
   },
   "outputs": [],
   "source": [
    "y_pred = np.argmax(head_model.predict(X_test), axis=-1)"
   ]
  },
  {
   "cell_type": "code",
   "execution_count": 28,
   "metadata": {
    "scrolled": true
   },
   "outputs": [
    {
     "data": {
      "text/plain": [
       "array([10, 10, 10, ..., 10, 10, 10], dtype=int64)"
      ]
     },
     "execution_count": 28,
     "metadata": {},
     "output_type": "execute_result"
    }
   ],
   "source": [
    "y_pred"
   ]
  },
  {
   "cell_type": "code",
   "execution_count": 29,
   "metadata": {
    "scrolled": true
   },
   "outputs": [
    {
     "data": {
      "text/plain": [
       "array([10., 10., 10., ...,  1.,  1., 10.], dtype=float32)"
      ]
     },
     "execution_count": 29,
     "metadata": {},
     "output_type": "execute_result"
    }
   ],
   "source": [
    "y_test2 = y_test\n",
    "y_test2"
   ]
  },
  {
   "cell_type": "code",
   "execution_count": 30,
   "metadata": {
    "scrolled": true
   },
   "outputs": [],
   "source": [
    "c_matrix = metrics.confusion_matrix(y_test2, y_pred)"
   ]
  },
  {
   "cell_type": "code",
   "execution_count": 31,
   "metadata": {
    "scrolled": true
   },
   "outputs": [],
   "source": [
    "def confusion_matrix(confusion_matrix, class_names, figsize = (10,7), fontsize=14):\n",
    "   \n",
    "    df_cm = pd.DataFrame(\n",
    "        confusion_matrix, index=class_names, columns=class_names, \n",
    "    )\n",
    "    fig = plt.figure(figsize=figsize)\n",
    "    try:\n",
    "        heatmap = sns.heatmap(df_cm, annot=True, fmt=\"d\")\n",
    "    except ValueError:\n",
    "        raise ValueError(\"Confusion matrix values must be integers.\")\n",
    "    heatmap.yaxis.set_ticklabels(heatmap.yaxis.get_ticklabels(), rotation=0, ha='right', fontsize=fontsize)\n",
    "    heatmap.xaxis.set_ticklabels(heatmap.xaxis.get_ticklabels(), rotation=45, ha='right', fontsize=fontsize)\n",
    "    plt.ylabel('True label')\n",
    "    plt.xlabel('Predicted label')\n",
    "    plt.tight_layout()\n",
    "    if cenv == 0:\n",
    "        plt.savefig(\"multi_class_cmatrix.png\")\n",
    "    if cenv == 1:\n",
    "        plt.savefig(f\"{new_dir}/multi_class_cmatrix.png\")"
   ]
  },
  {
   "cell_type": "code",
   "execution_count": 32,
   "metadata": {
    "scrolled": true
   },
   "outputs": [
    {
     "data": {
      "image/png": "[encoded data removed]",
      "text/plain": [
       "<Figure size 1440x504 with 2 Axes>"
      ]
     },
     "metadata": {
      "needs_background": "light"
     },
     "output_type": "display_data"
    }
   ],
   "source": [
    "class_names= batches.class_indices.keys()\n",
    "confusion_matrix(c_matrix, class_names, figsize = (20,7), fontsize=14)"
   ]
  },
  {
   "cell_type": "markdown",
   "metadata": {},
   "source": [
    "**Binary classification**\n"
   ]
  },
  {
   "cell_type": "code",
   "execution_count": 33,
   "metadata": {},
   "outputs": [],
   "source": [
    "from sklearn.metrics import f1_score, matthews_corrcoef, accuracy_score\n",
    "from prettytable import PrettyTable, MSWORD_FRIENDLY"
   ]
  },
  {
   "cell_type": "code",
   "execution_count": 34,
   "metadata": {},
   "outputs": [
    {
     "name": "stdout",
     "output_type": "stream",
     "text": [
      "Length of the observations in test set: 7965\n"
     ]
    }
   ],
   "source": [
    "y_predbin = [] \n",
    "y_truebin = []\n",
    "for count, value in enumerate(y_test2):\n",
    "    if y_test2[count] in range(10): # range(10) is 0 to 9\n",
    "        y_truebin.append(0)\n",
    "    else: y_truebin.append(1)\n",
    "    \n",
    "    if y_pred[count] in range(10):\n",
    "        y_predbin.append(0)\n",
    "    else: y_predbin.append(1)\n",
    "    \n",
    "    continue\n",
    "if len(y_truebin) == len(y_predbin):\n",
    "    print(f\"Length of the observations in test set: {len(y_truebin)}\")"
   ]
  },
  {
   "cell_type": "code",
   "execution_count": 35,
   "metadata": {},
   "outputs": [
    {
     "name": "stdout",
     "output_type": "stream",
     "text": [
      "Ransomware Occurences: 12536, Benign Occurences: 14012\n"
     ]
    }
   ],
   "source": [
    "rw_count = 0\n",
    "bn_count = 0\n",
    "for count, value in enumerate(multi_distribution[1]):\n",
    "    if count in range(10):\n",
    "        rw_count = rw_count + multi_distribution[1][count]\n",
    "    else: \n",
    "        bn_count = bn_count + multi_distribution[1][count]\n",
    "print(f\"Ransomware Occurences: {rw_count}, Benign Occurences: {bn_count}\")"
   ]
  },
  {
   "cell_type": "code",
   "execution_count": 36,
   "metadata": {},
   "outputs": [
    {
     "data": {
      "image/png": "[encoded data removed]",
      "text/plain": [
       "<Figure size 432x288 with 1 Axes>"
      ]
     },
     "metadata": {
      "needs_background": "light"
     },
     "output_type": "display_data"
    }
   ],
   "source": [
    "fig = plt.figure()\n",
    "ax = fig.add_axes([0,0,1,1])\n",
    "x_lab = ['Ransomware', 'Benign']\n",
    "y_lab = [rw_count, bn_count]\n",
    "ax.bar(x_lab, y_lab)\n",
    "if cenv == 0:\n",
    "    plt.savefig(\"data_dist.png.png\", bbox_inches = 'tight')\n",
    "if cenv == 1:\n",
    "    plt.savefig(f\"{new_dir}/bin_data_dist.png\", bbox_inches = 'tight')"
   ]
  },
  {
   "cell_type": "code",
   "execution_count": 37,
   "metadata": {},
   "outputs": [],
   "source": [
    "c_matrix_bin = metrics.confusion_matrix(y_truebin, y_predbin)"
   ]
  },
  {
   "cell_type": "code",
   "execution_count": 38,
   "metadata": {},
   "outputs": [],
   "source": [
    "def confusion_matrix_bin(confusion_matrix, class_names_bin, figsize = (5,2), fontsize=7):\n",
    "   \n",
    "    df_cm = pd.DataFrame(\n",
    "        confusion_matrix, index=class_names_bin, columns=class_names_bin, \n",
    "    )\n",
    "    fig = plt.figure(figsize=figsize)\n",
    "    try:\n",
    "        heatmap = sns.heatmap(df_cm, annot=True, fmt=\"d\")\n",
    "    except ValueError:\n",
    "        raise ValueError(\"Confusion matrix values must be integers.\")\n",
    "    heatmap.yaxis.set_ticklabels(heatmap.yaxis.get_ticklabels(), rotation=0, ha='right', fontsize=fontsize)\n",
    "    heatmap.xaxis.set_ticklabels(heatmap.xaxis.get_ticklabels(), rotation=45, ha='right', fontsize=fontsize)\n",
    "    plt.ylabel('True label')\n",
    "    plt.xlabel('Predicted label')\n",
    "    plt.title(\"DenseNet121\")\n",
    "    if cenv == 0:\n",
    "        plt.savefig(\"bin_class_cmatrix.png\", bbox_inches = 'tight')\n",
    "    if cenv == 1:\n",
    "        plt.savefig(f\"{new_dir}/bin_class_cmatrix.png\", bbox_inches = 'tight')"
   ]
  },
  {
   "cell_type": "code",
   "execution_count": 39,
   "metadata": {},
   "outputs": [
    {
     "data": {
      "image/png": "[encoded data removed]",
      "text/plain": [
       "<Figure size 360x144 with 2 Axes>"
      ]
     },
     "metadata": {
      "needs_background": "light"
     },
     "output_type": "display_data"
    }
   ],
   "source": [
    "class_names_bin= (\"ransomware\", \"benign\")\n",
    "confusion_matrix_bin(c_matrix_bin, class_names_bin, figsize = (5,2), fontsize=10)"
   ]
  },
  {
   "cell_type": "markdown",
   "metadata": {},
   "source": [
    "**True Positive Rate**"
   ]
  },
  {
   "cell_type": "code",
   "execution_count": 40,
   "metadata": {},
   "outputs": [],
   "source": [
    "TPR = c_matrix_bin[0,0]/(c_matrix_bin[0,0] + c_matrix_bin[0,1]) #True Positive Rate"
   ]
  },
  {
   "cell_type": "markdown",
   "metadata": {},
   "source": [
    "**Accuracy**"
   ]
  },
  {
   "cell_type": "code",
   "execution_count": 41,
   "metadata": {},
   "outputs": [],
   "source": [
    "ACC = accuracy_score(y_truebin, y_predbin) # Accuracy"
   ]
  },
  {
   "cell_type": "markdown",
   "metadata": {},
   "source": [
    "**F1 Score**"
   ]
  },
  {
   "cell_type": "code",
   "execution_count": 42,
   "metadata": {},
   "outputs": [],
   "source": [
    "F1 = f1_score(y_truebin, y_predbin, labels=0) # F1 Score"
   ]
  },
  {
   "cell_type": "markdown",
   "metadata": {},
   "source": [
    "**Matthews Correlation Coefficient**"
   ]
  },
  {
   "cell_type": "code",
   "execution_count": 43,
   "metadata": {},
   "outputs": [],
   "source": [
    "MCC = matthews_corrcoef(y_truebin, y_predbin) # Matthews Correlation Coefficient"
   ]
  },
  {
   "cell_type": "code",
   "execution_count": 44,
   "metadata": {
    "scrolled": true
   },
   "outputs": [
    {
     "name": "stdout",
     "output_type": "stream",
     "text": [
      "+------------------------------------------------+\n",
      "|            Performance of DenseNet             |\n",
      "+----------------------------------+-------------+\n",
      "| Metric                           | Performance |\n",
      "+----------------------------------+-------------+\n",
      "| True Positive Rate               | 0.7696      |\n",
      "| Accuracy                         | 0.8878      |\n",
      "| F1 Score                         | 0.9045      |\n",
      "| Matthews Correlation Coefficient | 0.7877      |\n",
      "+----------------------------------+-------------+\n"
     ]
    }
   ],
   "source": [
    "t = PrettyTable(['Metric', 'Performance'])\n",
    "t.add_row(['True Positive Rate', round(TPR,4)])\n",
    "t.add_row(['Accuracy', round(ACC,4)])\n",
    "t.add_row(['F1 Score', round(F1,4)])\n",
    "t.add_row(['Matthews Correlation Coefficient', round(MCC,4)])\n",
    "t.header = True\n",
    "t.align = \"l\"\n",
    "t.title = \"Performance of DenseNet\"\n",
    "print(t)"
   ]
  },
  {
   "cell_type": "code",
   "execution_count": 45,
   "metadata": {},
   "outputs": [],
   "source": [
    "# Saving PrettyTable\n",
    "table = t.get_string()\n",
    "\n",
    "if cenv == 0:\n",
    "    with open('bin_performance_table.txt', 'w') as f:\n",
    "        f.write(table)\n",
    "if cenv == 1:\n",
    "    with open(f'{new_dir}/bin_performance_table.txt', 'w') as f:\n",
    "        f.write(table)"
   ]
  }
 ],
 "metadata": {
  "accelerator": "GPU",
  "colab": {
   "authorship_tag": "ABX9TyPkF5cbObNA2gzRa9KkWXrw",
   "include_colab_link": true,
   "name": "ResNet_Transfer_Learning_TensorFlow.ipynb",
   "provenance": []
  },
  "kernelspec": {
   "display_name": "Python 3 (ipykernel)",
   "language": "python",
   "name": "python3"
  },
  "language_info": {
   "codemirror_mode": {
    "name": "ipython",
    "version": 3
   },
   "file_extension": ".py",
   "mimetype": "text/x-python",
   "name": "python",
   "nbconvert_exporter": "python",
   "pygments_lexer": "ipython3",
   "version": "3.8.5"
  }
 },
 "nbformat": 4,
 "nbformat_minor": 1
}
