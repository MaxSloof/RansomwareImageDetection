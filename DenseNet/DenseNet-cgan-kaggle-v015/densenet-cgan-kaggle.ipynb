{
 "cells": [
  {
   "cell_type": "code",
   "execution_count": 1,
   "id": "2950c46c",
   "metadata": {
    "execution": {
     "iopub.execute_input": "2022-04-04T10:27:50.046851Z",
     "iopub.status.busy": "2022-04-04T10:27:50.046156Z",
     "iopub.status.idle": "2022-04-04T10:27:55.958048Z",
     "shell.execute_reply": "2022-04-04T10:27:55.957474Z",
     "shell.execute_reply.started": "2022-04-01T10:53:07.209899Z"
    },
    "id": "KXQu67zVoZAw",
    "papermill": {
     "duration": 5.972735,
     "end_time": "2022-04-04T10:27:55.958228",
     "exception": false,
     "start_time": "2022-04-04T10:27:49.985493",
     "status": "completed"
    },
    "tags": []
   },
   "outputs": [],
   "source": [
    "import tensorflow as tf\n",
    "import matplotlib.pyplot as plt\n",
    "from tensorflow.keras import datasets, layers, models, losses, Model\n",
    "from tensorflow.keras.preprocessing.image import ImageDataGenerator\n",
    "from tensorflow.keras.callbacks import ModelCheckpoint, ReduceLROnPlateau\n",
    "from sklearn.model_selection import train_test_split\n",
    "import numpy as np\n",
    "import os\n",
    "import math"
   ]
  },
  {
   "cell_type": "code",
   "execution_count": 2,
   "id": "5b2a919b",
   "metadata": {
    "execution": {
     "iopub.execute_input": "2022-04-04T10:27:56.060121Z",
     "iopub.status.busy": "2022-04-04T10:27:56.059241Z",
     "iopub.status.idle": "2022-04-04T10:27:56.061013Z",
     "shell.execute_reply": "2022-04-04T10:27:56.061454Z",
     "shell.execute_reply.started": "2022-04-01T10:56:14.342814Z"
    },
    "papermill": {
     "duration": 0.053948,
     "end_time": "2022-04-04T10:27:56.061593",
     "exception": false,
     "start_time": "2022-04-04T10:27:56.007645",
     "status": "completed"
    },
    "tags": []
   },
   "outputs": [],
   "source": [
    "# Image size (height x width)\n",
    "ih = 64\n",
    "iw = 64\n",
    "\n",
    "# Grayscale or RGB\n",
    "ch = 'rgb'\n",
    "\n",
    "# Batch size \n",
    "batch_size = 64\n",
    "\n",
    "# Layer adapt\n",
    "ksize = 4 # Kernel size : was '4' for 64x64 image\n",
    "ssize = 2 # Stride size : was '2' for 64x64 image\n",
    "\n",
    "# Size of test set (in %)\n",
    "testsize = 0.3\n",
    "\n",
    "# Number of epochs in model\n",
    "epoch_t = 40\n",
    "\n",
    "# Where computation is performed: Kaggle (0) or Local (1)\n",
    "cenv = 0"
   ]
  },
  {
   "cell_type": "code",
   "execution_count": 3,
   "id": "07ae0d26",
   "metadata": {
    "execution": {
     "iopub.execute_input": "2022-04-04T10:27:56.160013Z",
     "iopub.status.busy": "2022-04-04T10:27:56.159388Z",
     "iopub.status.idle": "2022-04-04T10:27:56.162372Z",
     "shell.execute_reply": "2022-04-04T10:27:56.162774Z",
     "shell.execute_reply.started": "2022-04-01T10:44:49.728585Z"
    },
    "papermill": {
     "duration": 0.054751,
     "end_time": "2022-04-04T10:27:56.162910",
     "exception": false,
     "start_time": "2022-04-04T10:27:56.108159",
     "status": "completed"
    },
    "scrolled": true,
    "tags": []
   },
   "outputs": [
    {
     "name": "stdout",
     "output_type": "stream",
     "text": [
      "Computation environment: Kaggle\n"
     ]
    }
   ],
   "source": [
    "if cenv == 0:\n",
    "    print(\"Computation environment: Kaggle\")\n",
    "if cenv == 1:\n",
    "    print(\"Computation environment: Local\")"
   ]
  },
  {
   "cell_type": "markdown",
   "id": "d16de7f3",
   "metadata": {
    "papermill": {
     "duration": 0.047613,
     "end_time": "2022-04-04T10:27:56.258147",
     "exception": false,
     "start_time": "2022-04-04T10:27:56.210534",
     "status": "completed"
    },
    "tags": []
   },
   "source": [
    "**Create new directory for version**"
   ]
  },
  {
   "cell_type": "code",
   "execution_count": 4,
   "id": "75a54aae",
   "metadata": {
    "execution": {
     "iopub.execute_input": "2022-04-04T10:27:56.360406Z",
     "iopub.status.busy": "2022-04-04T10:27:56.359539Z",
     "iopub.status.idle": "2022-04-04T10:27:56.361978Z",
     "shell.execute_reply": "2022-04-04T10:27:56.361497Z",
     "shell.execute_reply.started": "2022-04-01T10:44:49.742532Z"
    },
    "papermill": {
     "duration": 0.056948,
     "end_time": "2022-04-04T10:27:56.362108",
     "exception": false,
     "start_time": "2022-04-04T10:27:56.305160",
     "status": "completed"
    },
    "tags": []
   },
   "outputs": [],
   "source": [
    "if cenv == 1:\n",
    "    file_exists = []\n",
    "    vnum = 1\n",
    "    dir = \"C:/Users/Max/Documents/GitHub/ResNet\"\n",
    "    for files in os.listdir(dir):\n",
    "        if \"ResNet\" in files: \n",
    "            try:\n",
    "                vnum = max(vnum, int(files[-3:]))\n",
    "            except: \n",
    "                continue\n",
    "            new_vnum = vnum + 1\n",
    "            file_exists.append(True)\n",
    "        else: \n",
    "            file_exists.append(False)\n",
    "    # If this is the first notebook you want to save, a new folder will be created with version #001\n",
    "    if sum(file_exists) == 0:\n",
    "        new_vnum = 1\n",
    "        print(\"No matches found\")\n",
    "\n",
    "    else: \n",
    "        print(f\"{sum(file_exists)} matches(es) found\")\n",
    "        print(\"--------------\")\n",
    "\n",
    "    # Print new folder name\n",
    "    print(f\"New folder name: ResNet-local-v{new_vnum:03}\")\n",
    "    print(\"--------------\")\n",
    "    \n",
    "    # Create new folder with the name of the notebook and the version number\n",
    "    new_dir = f\"/Users/Max/Documents/GitHub/ResNet/ResNet-local-v{new_vnum:03}\"\n",
    "    os.makedirs(new_dir)"
   ]
  },
  {
   "cell_type": "markdown",
   "id": "226e2cf5",
   "metadata": {
    "papermill": {
     "duration": 0.047324,
     "end_time": "2022-04-04T10:27:56.456496",
     "exception": false,
     "start_time": "2022-04-04T10:27:56.409172",
     "status": "completed"
    },
    "tags": []
   },
   "source": [
    "# Data"
   ]
  },
  {
   "cell_type": "code",
   "execution_count": 5,
   "id": "4d07dc26",
   "metadata": {
    "execution": {
     "iopub.execute_input": "2022-04-04T10:27:56.556313Z",
     "iopub.status.busy": "2022-04-04T10:27:56.555550Z",
     "iopub.status.idle": "2022-04-04T10:27:56.557670Z",
     "shell.execute_reply": "2022-04-04T10:27:56.558062Z",
     "shell.execute_reply.started": "2022-04-01T10:44:49.753836Z"
    },
    "papermill": {
     "duration": 0.054476,
     "end_time": "2022-04-04T10:27:56.558216",
     "exception": false,
     "start_time": "2022-04-04T10:27:56.503740",
     "status": "completed"
    },
    "scrolled": true,
    "tags": []
   },
   "outputs": [],
   "source": [
    "if cenv == 0:\n",
    "    path_root = \"/kaggle/input/thesis-data\"\n",
    "    path_gen_images = \"/kaggle/input//cganlocalv007/cgan-local-v007\"\n",
    "    \n",
    "    # Directory where checkpoints of DCGAN are stored\n",
    "    checkpoint_dir = \"/kaggle/input/checkpoints\" \n",
    "\n",
    "if cenv == 1:\n",
    "    path_root = \"C:/Users/Max/Documents/thesis_data\"\n",
    "    path_gen_images = \"C:/Users/Max/Documents/image_data/cgan-local-v005\"\n",
    "    \n",
    "    # Directory where checkpoints of DCGAN are stored\n",
    "    checkpoint_dir = 'C:/Users/Max/Documents/GitHub/dcgan_kaggle_output/dcgan-kaggle-v002/checkpoints'\n",
    "    "
   ]
  },
  {
   "cell_type": "code",
   "execution_count": 6,
   "id": "ed9c6f30",
   "metadata": {
    "execution": {
     "iopub.execute_input": "2022-04-04T10:27:56.657120Z",
     "iopub.status.busy": "2022-04-04T10:27:56.656294Z",
     "iopub.status.idle": "2022-04-04T10:27:56.658633Z",
     "shell.execute_reply": "2022-04-04T10:27:56.658216Z",
     "shell.execute_reply.started": "2022-04-01T10:44:49.762091Z"
    },
    "papermill": {
     "duration": 0.053578,
     "end_time": "2022-04-04T10:27:56.658738",
     "exception": false,
     "start_time": "2022-04-04T10:27:56.605160",
     "status": "completed"
    },
    "tags": []
   },
   "outputs": [],
   "source": [
    "im_si = (ih, iw)\n",
    "\n",
    "if(ch == 'rgb'):\n",
    "    chnum = 3\n",
    "elif(ch == 'grayscale'):\n",
    "    chnum = 1"
   ]
  },
  {
   "cell_type": "code",
   "execution_count": 7,
   "id": "f13c92b1",
   "metadata": {
    "execution": {
     "iopub.execute_input": "2022-04-04T10:27:56.758946Z",
     "iopub.status.busy": "2022-04-04T10:27:56.757636Z",
     "iopub.status.idle": "2022-04-04T10:30:41.226184Z",
     "shell.execute_reply": "2022-04-04T10:30:41.225598Z",
     "shell.execute_reply.started": "2022-04-01T10:44:49.770648Z"
    },
    "papermill": {
     "duration": 164.520091,
     "end_time": "2022-04-04T10:30:41.226324",
     "exception": false,
     "start_time": "2022-04-04T10:27:56.706233",
     "status": "completed"
    },
    "tags": []
   },
   "outputs": [
    {
     "name": "stdout",
     "output_type": "stream",
     "text": [
      "Found 26548 images belonging to 11 classes.\n"
     ]
    }
   ],
   "source": [
    "batches = ImageDataGenerator().flow_from_directory(\n",
    "    directory  = path_root, \n",
    "    color_mode = ch, \n",
    "    target_size= (ih,iw), \n",
    "    interpolation=\"bicubic\",\n",
    "    class_mode = 'sparse',\n",
    "    batch_size=40000\n",
    ")\n",
    "imgs, labels = next(batches)"
   ]
  },
  {
   "cell_type": "code",
   "execution_count": 8,
   "id": "1c4a6483",
   "metadata": {
    "execution": {
     "iopub.execute_input": "2022-04-04T10:30:41.330894Z",
     "iopub.status.busy": "2022-04-04T10:30:41.328354Z",
     "iopub.status.idle": "2022-04-04T10:34:16.100633Z",
     "shell.execute_reply": "2022-04-04T10:34:16.100031Z",
     "shell.execute_reply.started": "2022-04-01T10:46:41.022847Z"
    },
    "papermill": {
     "duration": 214.823379,
     "end_time": "2022-04-04T10:34:16.100790",
     "exception": false,
     "start_time": "2022-04-04T10:30:41.277411",
     "status": "completed"
    },
    "scrolled": true,
    "tags": []
   },
   "outputs": [
    {
     "name": "stdout",
     "output_type": "stream",
     "text": [
      "Found 100000 images belonging to 10 classes.\n"
     ]
    }
   ],
   "source": [
    "batches_gen = ImageDataGenerator().flow_from_directory(\n",
    "    directory  = path_gen_images, \n",
    "    color_mode = ch, \n",
    "    target_size= (ih,iw), \n",
    "    interpolation=\"bicubic\",\n",
    "    class_mode = 'sparse',\n",
    "    batch_size=40000\n",
    ")\n",
    "imgs_gen, labels_gen = next(batches_gen)"
   ]
  },
  {
   "cell_type": "code",
   "execution_count": 9,
   "id": "cc9d727b",
   "metadata": {
    "execution": {
     "iopub.execute_input": "2022-04-04T10:34:16.203473Z",
     "iopub.status.busy": "2022-04-04T10:34:16.202767Z",
     "iopub.status.idle": "2022-04-04T10:34:16.211611Z",
     "shell.execute_reply": "2022-04-04T10:34:16.212012Z",
     "shell.execute_reply.started": "2022-04-01T10:50:21.576417Z"
    },
    "papermill": {
     "duration": 0.060726,
     "end_time": "2022-04-04T10:34:16.212168",
     "exception": false,
     "start_time": "2022-04-04T10:34:16.151442",
     "status": "completed"
    },
    "tags": []
   },
   "outputs": [
    {
     "data": {
      "text/plain": [
       "(array([0., 1., 2., 3., 4., 5., 6., 7., 8., 9.], dtype=float32),\n",
       " array([3998, 3958, 3932, 4034, 4028, 4027, 3998, 4020, 3984, 4021]))"
      ]
     },
     "execution_count": 9,
     "metadata": {},
     "output_type": "execute_result"
    }
   ],
   "source": [
    "np.unique(labels_gen, return_counts=True)"
   ]
  },
  {
   "cell_type": "code",
   "execution_count": 10,
   "id": "58719c09",
   "metadata": {
    "execution": {
     "iopub.execute_input": "2022-04-04T10:34:16.312915Z",
     "iopub.status.busy": "2022-04-04T10:34:16.312146Z",
     "iopub.status.idle": "2022-04-04T10:34:17.507903Z",
     "shell.execute_reply": "2022-04-04T10:34:17.506919Z",
     "shell.execute_reply.started": "2022-04-01T10:50:21.776028Z"
    },
    "papermill": {
     "duration": 1.247486,
     "end_time": "2022-04-04T10:34:17.508058",
     "exception": false,
     "start_time": "2022-04-04T10:34:16.260572",
     "status": "completed"
    },
    "tags": []
   },
   "outputs": [],
   "source": [
    "imgs = tf.keras.applications.densenet.preprocess_input(imgs)\n",
    "labels = np.array(labels)"
   ]
  },
  {
   "cell_type": "code",
   "execution_count": 11,
   "id": "d408c5ff",
   "metadata": {
    "execution": {
     "iopub.execute_input": "2022-04-04T10:34:17.616355Z",
     "iopub.status.busy": "2022-04-04T10:34:17.615459Z",
     "iopub.status.idle": "2022-04-04T10:34:19.169785Z",
     "shell.execute_reply": "2022-04-04T10:34:19.168829Z",
     "shell.execute_reply.started": "2022-04-01T10:50:22.227661Z"
    },
    "papermill": {
     "duration": 1.609512,
     "end_time": "2022-04-04T10:34:19.169947",
     "exception": false,
     "start_time": "2022-04-04T10:34:17.560435",
     "status": "completed"
    },
    "tags": []
   },
   "outputs": [],
   "source": [
    "imgs_gen = tf.keras.applications.densenet.preprocess_input(imgs_gen)\n",
    "labels_gen = np.array(labels_gen)"
   ]
  },
  {
   "cell_type": "code",
   "execution_count": 12,
   "id": "20183d44",
   "metadata": {
    "execution": {
     "iopub.execute_input": "2022-04-04T10:34:19.279929Z",
     "iopub.status.busy": "2022-04-04T10:34:19.278788Z",
     "iopub.status.idle": "2022-04-04T10:34:19.666708Z",
     "shell.execute_reply": "2022-04-04T10:34:19.666185Z",
     "shell.execute_reply.started": "2022-04-01T11:03:50.048279Z"
    },
    "papermill": {
     "duration": 0.444643,
     "end_time": "2022-04-04T10:34:19.666850",
     "exception": false,
     "start_time": "2022-04-04T10:34:19.222207",
     "status": "completed"
    },
    "tags": []
   },
   "outputs": [],
   "source": [
    "X_train, X_test, y_train, y_test = train_test_split(imgs, labels, test_size=testsize)"
   ]
  },
  {
   "cell_type": "code",
   "execution_count": 13,
   "id": "6730dc9c",
   "metadata": {
    "execution": {
     "iopub.execute_input": "2022-04-04T10:34:19.781852Z",
     "iopub.status.busy": "2022-04-04T10:34:19.780622Z",
     "iopub.status.idle": "2022-04-04T10:34:20.811456Z",
     "shell.execute_reply": "2022-04-04T10:34:20.810855Z",
     "shell.execute_reply.started": "2022-04-01T11:03:51.046232Z"
    },
    "papermill": {
     "duration": 1.089432,
     "end_time": "2022-04-04T10:34:20.811605",
     "exception": false,
     "start_time": "2022-04-04T10:34:19.722173",
     "status": "completed"
    },
    "tags": []
   },
   "outputs": [],
   "source": [
    "X_train = np.concatenate((X_train, imgs_gen), axis = 0)"
   ]
  },
  {
   "cell_type": "code",
   "execution_count": 14,
   "id": "9d1b8ef3",
   "metadata": {
    "execution": {
     "iopub.execute_input": "2022-04-04T10:34:20.928765Z",
     "iopub.status.busy": "2022-04-04T10:34:20.927007Z",
     "iopub.status.idle": "2022-04-04T10:34:20.929457Z",
     "shell.execute_reply": "2022-04-04T10:34:20.929852Z",
     "shell.execute_reply.started": "2022-04-01T11:03:54.631929Z"
    },
    "papermill": {
     "duration": 0.061037,
     "end_time": "2022-04-04T10:34:20.929976",
     "exception": false,
     "start_time": "2022-04-04T10:34:20.868939",
     "status": "completed"
    },
    "tags": []
   },
   "outputs": [],
   "source": [
    "y_train = np.concatenate((y_train, labels_gen), axis = 0)"
   ]
  },
  {
   "cell_type": "code",
   "execution_count": 15,
   "id": "19457568",
   "metadata": {
    "execution": {
     "iopub.execute_input": "2022-04-04T10:34:21.034128Z",
     "iopub.status.busy": "2022-04-04T10:34:21.032533Z",
     "iopub.status.idle": "2022-04-04T10:34:21.036380Z",
     "shell.execute_reply": "2022-04-04T10:34:21.035920Z",
     "shell.execute_reply.started": "2022-04-01T11:04:14.337645Z"
    },
    "papermill": {
     "duration": 0.058258,
     "end_time": "2022-04-04T10:34:21.036491",
     "exception": false,
     "start_time": "2022-04-04T10:34:20.978233",
     "status": "completed"
    },
    "tags": []
   },
   "outputs": [
    {
     "name": "stdout",
     "output_type": "stream",
     "text": [
      "Size of training data: 58583 | Shape of training data (58583, 64, 64, 3)\n",
      "Size of training data: 7965  | Shape of training data (7965, 64, 64, 3)\n",
      "Shape of training labels (58583,)\n",
      "Shape of training labels (7965,)\n"
     ]
    }
   ],
   "source": [
    "X_train_size = len(X_train)\n",
    "X_test_size = len(X_test)\n",
    "\n",
    "print(f\"Size of training data: {X_train_size} | Shape of training data {X_train.shape}\")\n",
    "print(f\"Size of training data: {X_test_size}  | Shape of training data {X_test.shape}\")\n",
    "print(f\"Shape of training labels {y_train.shape}\")\n",
    "print(f\"Shape of training labels {y_test.shape}\")"
   ]
  },
  {
   "cell_type": "code",
   "execution_count": 16,
   "id": "740662d8",
   "metadata": {
    "execution": {
     "iopub.execute_input": "2022-04-04T10:34:21.137331Z",
     "iopub.status.busy": "2022-04-04T10:34:21.136800Z",
     "iopub.status.idle": "2022-04-04T10:34:21.141063Z",
     "shell.execute_reply": "2022-04-04T10:34:21.140657Z",
     "shell.execute_reply.started": "2022-04-01T11:00:29.308582Z"
    },
    "papermill": {
     "duration": 0.056339,
     "end_time": "2022-04-04T10:34:21.141200",
     "exception": false,
     "start_time": "2022-04-04T10:34:21.084861",
     "status": "completed"
    },
    "tags": []
   },
   "outputs": [],
   "source": [
    "sample_weights1 = np.full(math.floor(len(labels)*(1-testsize)), 1)\n",
    "sample_weights2 = np.full(len(labels_gen), 0.4)\n",
    "sample_weights = np.concatenate((sample_weights1, sample_weights2))"
   ]
  },
  {
   "cell_type": "code",
   "execution_count": 17,
   "id": "6762e31f",
   "metadata": {
    "execution": {
     "iopub.execute_input": "2022-04-04T10:34:21.244497Z",
     "iopub.status.busy": "2022-04-04T10:34:21.243816Z",
     "iopub.status.idle": "2022-04-04T10:34:21.246329Z",
     "shell.execute_reply": "2022-04-04T10:34:21.246724Z",
     "shell.execute_reply.started": "2022-04-01T11:00:30.083466Z"
    },
    "papermill": {
     "duration": 0.056923,
     "end_time": "2022-04-04T10:34:21.246843",
     "exception": false,
     "start_time": "2022-04-04T10:34:21.189920",
     "status": "completed"
    },
    "tags": []
   },
   "outputs": [
    {
     "data": {
      "text/plain": [
       "array([1. , 1. , 1. , ..., 0.4, 0.4, 0.4])"
      ]
     },
     "execution_count": 17,
     "metadata": {},
     "output_type": "execute_result"
    }
   ],
   "source": [
    "sample_weights"
   ]
  },
  {
   "cell_type": "markdown",
   "id": "ea04c151",
   "metadata": {
    "papermill": {
     "duration": 0.048165,
     "end_time": "2022-04-04T10:34:21.343225",
     "exception": false,
     "start_time": "2022-04-04T10:34:21.295060",
     "status": "completed"
    },
    "tags": []
   },
   "source": [
    "# DenseNet"
   ]
  },
  {
   "cell_type": "code",
   "execution_count": 18,
   "id": "7159be41",
   "metadata": {
    "execution": {
     "iopub.execute_input": "2022-04-04T10:34:21.451408Z",
     "iopub.status.busy": "2022-04-04T10:34:21.450767Z",
     "iopub.status.idle": "2022-04-04T10:34:27.948640Z",
     "shell.execute_reply": "2022-04-04T10:34:27.949766Z",
     "shell.execute_reply.started": "2022-04-01T11:01:21.765567Z"
    },
    "id": "d2mRBkTBoig8",
    "outputId": "7aeee00a-bdff-41db-8473-6e04850605b5",
    "papermill": {
     "duration": 6.558426,
     "end_time": "2022-04-04T10:34:27.949985",
     "exception": false,
     "start_time": "2022-04-04T10:34:21.391559",
     "status": "completed"
    },
    "tags": []
   },
   "outputs": [
    {
     "name": "stderr",
     "output_type": "stream",
     "text": [
      "2022-04-04 10:34:21.555561: I tensorflow/stream_executor/cuda/cuda_gpu_executor.cc:937] successful NUMA node read from SysFS had negative value (-1), but there must be at least one NUMA node, so returning NUMA node zero\n",
      "2022-04-04 10:34:21.635035: I tensorflow/stream_executor/cuda/cuda_gpu_executor.cc:937] successful NUMA node read from SysFS had negative value (-1), but there must be at least one NUMA node, so returning NUMA node zero\n",
      "2022-04-04 10:34:21.635841: I tensorflow/stream_executor/cuda/cuda_gpu_executor.cc:937] successful NUMA node read from SysFS had negative value (-1), but there must be at least one NUMA node, so returning NUMA node zero\n",
      "2022-04-04 10:34:21.637104: I tensorflow/core/platform/cpu_feature_guard.cc:142] This TensorFlow binary is optimized with oneAPI Deep Neural Network Library (oneDNN) to use the following CPU instructions in performance-critical operations:  AVX2 AVX512F FMA\n",
      "To enable them in other operations, rebuild TensorFlow with the appropriate compiler flags.\n",
      "2022-04-04 10:34:21.637953: I tensorflow/stream_executor/cuda/cuda_gpu_executor.cc:937] successful NUMA node read from SysFS had negative value (-1), but there must be at least one NUMA node, so returning NUMA node zero\n",
      "2022-04-04 10:34:21.638769: I tensorflow/stream_executor/cuda/cuda_gpu_executor.cc:937] successful NUMA node read from SysFS had negative value (-1), but there must be at least one NUMA node, so returning NUMA node zero\n",
      "2022-04-04 10:34:21.639518: I tensorflow/stream_executor/cuda/cuda_gpu_executor.cc:937] successful NUMA node read from SysFS had negative value (-1), but there must be at least one NUMA node, so returning NUMA node zero\n",
      "2022-04-04 10:34:23.284133: I tensorflow/stream_executor/cuda/cuda_gpu_executor.cc:937] successful NUMA node read from SysFS had negative value (-1), but there must be at least one NUMA node, so returning NUMA node zero\n",
      "2022-04-04 10:34:23.284838: I tensorflow/stream_executor/cuda/cuda_gpu_executor.cc:937] successful NUMA node read from SysFS had negative value (-1), but there must be at least one NUMA node, so returning NUMA node zero\n",
      "2022-04-04 10:34:23.285514: I tensorflow/stream_executor/cuda/cuda_gpu_executor.cc:937] successful NUMA node read from SysFS had negative value (-1), but there must be at least one NUMA node, so returning NUMA node zero\n",
      "2022-04-04 10:34:23.286072: I tensorflow/core/common_runtime/gpu/gpu_device.cc:1510] Created device /job:localhost/replica:0/task:0/device:GPU:0 with 15403 MB memory:  -> device: 0, name: Tesla P100-PCIE-16GB, pci bus id: 0000:00:04.0, compute capability: 6.0\n"
     ]
    },
    {
     "name": "stdout",
     "output_type": "stream",
     "text": [
      "Downloading data from https://storage.googleapis.com/tensorflow/keras-applications/densenet/densenet169_weights_tf_dim_ordering_tf_kernels_notop.h5\n",
      "51879936/51877672 [==============================] - 0s 0us/step\n",
      "51888128/51877672 [==============================] - 0s 0us/step\n"
     ]
    }
   ],
   "source": [
    "base_model = tf.keras.applications.DenseNet169(weights = 'imagenet', include_top = False, input_shape = (64,64,3))"
   ]
  },
  {
   "cell_type": "code",
   "execution_count": 19,
   "id": "7efa0395",
   "metadata": {
    "execution": {
     "iopub.execute_input": "2022-04-04T10:34:28.112927Z",
     "iopub.status.busy": "2022-04-04T10:34:28.112132Z",
     "iopub.status.idle": "2022-04-04T10:34:28.130220Z",
     "shell.execute_reply": "2022-04-04T10:34:28.129692Z",
     "shell.execute_reply.started": "2022-04-01T11:01:30.752394Z"
    },
    "id": "rWSL-tt4qBRa",
    "papermill": {
     "duration": 0.09459,
     "end_time": "2022-04-04T10:34:28.130334",
     "exception": false,
     "start_time": "2022-04-04T10:34:28.035744",
     "status": "completed"
    },
    "tags": []
   },
   "outputs": [],
   "source": [
    "x = layers.Flatten()(base_model.output)\n",
    "x = layers.Dense(1000, activation='relu')(x)\n",
    "predictions = layers.Dense(11, activation = 'softmax')(x)"
   ]
  },
  {
   "cell_type": "code",
   "execution_count": 20,
   "id": "25335280",
   "metadata": {
    "execution": {
     "iopub.execute_input": "2022-04-04T10:34:28.240279Z",
     "iopub.status.busy": "2022-04-04T10:34:28.237898Z",
     "iopub.status.idle": "2022-04-04T10:34:28.290682Z",
     "shell.execute_reply": "2022-04-04T10:34:28.290245Z",
     "shell.execute_reply.started": "2022-04-01T11:01:30.777406Z"
    },
    "id": "s1sYr8cIt0nY",
    "papermill": {
     "duration": 0.107661,
     "end_time": "2022-04-04T10:34:28.290791",
     "exception": false,
     "start_time": "2022-04-04T10:34:28.183130",
     "status": "completed"
    },
    "tags": []
   },
   "outputs": [],
   "source": [
    "head_model = Model(inputs = base_model.input, outputs = predictions)\n",
    "head_model.compile(optimizer='adam', loss=losses.sparse_categorical_crossentropy, metrics=['accuracy'])"
   ]
  },
  {
   "cell_type": "code",
   "execution_count": 21,
   "id": "abfa3a12",
   "metadata": {
    "execution": {
     "iopub.execute_input": "2022-04-04T10:34:28.417825Z",
     "iopub.status.busy": "2022-04-04T10:34:28.417000Z",
     "iopub.status.idle": "2022-04-04T10:34:28.419052Z",
     "shell.execute_reply": "2022-04-04T10:34:28.419477Z"
    },
    "papermill": {
     "duration": 0.076592,
     "end_time": "2022-04-04T10:34:28.419614",
     "exception": false,
     "start_time": "2022-04-04T10:34:28.343022",
     "status": "completed"
    },
    "tags": []
   },
   "outputs": [],
   "source": [
    "for layer in head_model.layers[:-8]:\n",
    "    layer.trainable=False\n",
    "    \n",
    "for layer in head_model.layers[-8:]:\n",
    "    layer.trainable=True"
   ]
  },
  {
   "cell_type": "markdown",
   "id": "4d1deb90",
   "metadata": {
    "papermill": {
     "duration": 0.052515,
     "end_time": "2022-04-04T10:34:28.524398",
     "exception": false,
     "start_time": "2022-04-04T10:34:28.471883",
     "status": "completed"
    },
    "tags": []
   },
   "source": [
    "Callbacks"
   ]
  },
  {
   "cell_type": "code",
   "execution_count": 22,
   "id": "eacf28cc",
   "metadata": {
    "execution": {
     "iopub.execute_input": "2022-04-04T10:34:28.647529Z",
     "iopub.status.busy": "2022-04-04T10:34:28.646545Z",
     "iopub.status.idle": "2022-04-04T10:34:28.648542Z",
     "shell.execute_reply": "2022-04-04T10:34:28.649025Z",
     "shell.execute_reply.started": "2022-04-01T11:04:45.60567Z"
    },
    "papermill": {
     "duration": 0.068048,
     "end_time": "2022-04-04T10:34:28.649187",
     "exception": false,
     "start_time": "2022-04-04T10:34:28.581139",
     "status": "completed"
    },
    "tags": []
   },
   "outputs": [],
   "source": [
    "anne = ReduceLROnPlateau(monitor='val_accuracy', factor=0.5, patience=5, verbose=1, min_lr=1e-4)\n",
    "if cenv == 0:\n",
    "    checkpoint = ModelCheckpoint('model.h5', verbose=1, save_best_only=True)\n",
    "if cenv == 1:\n",
    "    checkpoint = ModelCheckpoint(f'{new_dir}/model.h5', verbose=1, save_best_only=True)\n"
   ]
  },
  {
   "cell_type": "code",
   "execution_count": 23,
   "id": "e52f2f6a",
   "metadata": {
    "execution": {
     "iopub.execute_input": "2022-04-04T10:34:28.822473Z",
     "iopub.status.busy": "2022-04-04T10:34:28.806102Z",
     "iopub.status.idle": "2022-04-04T11:38:42.285240Z",
     "shell.execute_reply": "2022-04-04T11:38:42.284561Z",
     "shell.execute_reply.started": "2022-04-01T11:04:33.854385Z"
    },
    "papermill": {
     "duration": 3853.574814,
     "end_time": "2022-04-04T11:38:42.286196",
     "exception": false,
     "start_time": "2022-04-04T10:34:28.711382",
     "status": "completed"
    },
    "tags": []
   },
   "outputs": [
    {
     "name": "stderr",
     "output_type": "stream",
     "text": [
      "2022-04-04 10:34:28.823778: W tensorflow/core/framework/cpu_allocator_impl.cc:80] Allocation of 2879471616 exceeds 10% of free system memory.\n",
      "2022-04-04 10:34:41.066591: W tensorflow/core/framework/cpu_allocator_impl.cc:80] Allocation of 2879471616 exceeds 10% of free system memory.\n",
      "2022-04-04 10:34:43.227603: I tensorflow/compiler/mlir/mlir_graph_optimization_pass.cc:185] None of the MLIR Optimization Passes are enabled (registered 2)\n"
     ]
    },
    {
     "name": "stdout",
     "output_type": "stream",
     "text": [
      "Epoch 1/40\n"
     ]
    },
    {
     "name": "stderr",
     "output_type": "stream",
     "text": [
      "2022-04-04 10:34:57.715504: I tensorflow/stream_executor/cuda/cuda_dnn.cc:369] Loaded cuDNN version 8005\n"
     ]
    },
    {
     "name": "stdout",
     "output_type": "stream",
     "text": [
      "916/916 [==============================] - ETA: 0s - loss: 0.2270 - accuracy: 0.9431"
     ]
    },
    {
     "name": "stderr",
     "output_type": "stream",
     "text": [
      "2022-04-04 10:36:32.938576: W tensorflow/core/framework/cpu_allocator_impl.cc:80] Allocation of 391495680 exceeds 10% of free system memory.\n",
      "2022-04-04 10:36:33.387319: W tensorflow/core/framework/cpu_allocator_impl.cc:80] Allocation of 391495680 exceeds 10% of free system memory.\n"
     ]
    },
    {
     "name": "stdout",
     "output_type": "stream",
     "text": [
      "916/916 [==============================] - 116s 104ms/step - loss: 0.2270 - accuracy: 0.9431 - val_loss: 0.4626 - val_accuracy: 0.8830\n",
      "\n",
      "Epoch 00001: val_loss improved from inf to 0.46258, saving model to model.h5\n",
      "Epoch 2/40\n",
      "916/916 [==============================] - 92s 100ms/step - loss: 0.0802 - accuracy: 0.9754 - val_loss: 0.1994 - val_accuracy: 0.9323\n",
      "\n",
      "Epoch 00002: val_loss improved from 0.46258 to 0.19944, saving model to model.h5\n",
      "Epoch 3/40\n",
      "916/916 [==============================] - 92s 100ms/step - loss: 0.0682 - accuracy: 0.9778 - val_loss: 0.1816 - val_accuracy: 0.9387\n",
      "\n",
      "Epoch 00003: val_loss improved from 0.19944 to 0.18157, saving model to model.h5\n",
      "Epoch 4/40\n",
      "916/916 [==============================] - 91s 99ms/step - loss: 0.0698 - accuracy: 0.9792 - val_loss: 0.1876 - val_accuracy: 0.9416\n",
      "\n",
      "Epoch 00004: val_loss did not improve from 0.18157\n",
      "Epoch 5/40\n",
      "916/916 [==============================] - 92s 101ms/step - loss: 0.1490 - accuracy: 0.9618 - val_loss: 0.2026 - val_accuracy: 0.9342\n",
      "\n",
      "Epoch 00005: val_loss did not improve from 0.18157\n",
      "Epoch 6/40\n",
      "916/916 [==============================] - 93s 101ms/step - loss: 0.0610 - accuracy: 0.9806 - val_loss: 0.1879 - val_accuracy: 0.9400\n",
      "\n",
      "Epoch 00006: val_loss did not improve from 0.18157\n",
      "Epoch 7/40\n",
      "916/916 [==============================] - 94s 103ms/step - loss: 0.0544 - accuracy: 0.9830 - val_loss: 0.1738 - val_accuracy: 0.9426\n",
      "\n",
      "Epoch 00007: val_loss improved from 0.18157 to 0.17379, saving model to model.h5\n",
      "Epoch 8/40\n",
      "916/916 [==============================] - 94s 103ms/step - loss: 0.0513 - accuracy: 0.9836 - val_loss: 0.1599 - val_accuracy: 0.9466\n",
      "\n",
      "Epoch 00008: val_loss improved from 0.17379 to 0.15991, saving model to model.h5\n",
      "Epoch 9/40\n",
      "916/916 [==============================] - 93s 102ms/step - loss: 0.0461 - accuracy: 0.9851 - val_loss: 0.1637 - val_accuracy: 0.9485\n",
      "\n",
      "Epoch 00009: val_loss did not improve from 0.15991\n",
      "Epoch 10/40\n",
      "916/916 [==============================] - 95s 104ms/step - loss: 0.0663 - accuracy: 0.9814 - val_loss: 2109.4126 - val_accuracy: 0.5223\n",
      "\n",
      "Epoch 00010: val_loss did not improve from 0.15991\n",
      "Epoch 11/40\n",
      "916/916 [==============================] - 96s 104ms/step - loss: 0.0524 - accuracy: 0.9834 - val_loss: 0.1733 - val_accuracy: 0.9463\n",
      "\n",
      "Epoch 00011: val_loss did not improve from 0.15991\n",
      "Epoch 12/40\n",
      "916/916 [==============================] - 94s 103ms/step - loss: 0.0409 - accuracy: 0.9869 - val_loss: 0.1493 - val_accuracy: 0.9544\n",
      "\n",
      "Epoch 00012: val_loss improved from 0.15991 to 0.14935, saving model to model.h5\n",
      "Epoch 13/40\n",
      "916/916 [==============================] - 96s 104ms/step - loss: 0.0368 - accuracy: 0.9880 - val_loss: 0.1426 - val_accuracy: 0.9535\n",
      "\n",
      "Epoch 00013: val_loss improved from 0.14935 to 0.14258, saving model to model.h5\n",
      "Epoch 14/40\n",
      "916/916 [==============================] - 98s 107ms/step - loss: 0.0356 - accuracy: 0.9882 - val_loss: 0.1540 - val_accuracy: 0.9512\n",
      "\n",
      "Epoch 00014: val_loss did not improve from 0.14258\n",
      "Epoch 15/40\n",
      "916/916 [==============================] - 96s 104ms/step - loss: 0.0882 - accuracy: 0.9836 - val_loss: 0.1916 - val_accuracy: 0.9419\n",
      "\n",
      "Epoch 00015: val_loss did not improve from 0.14258\n",
      "Epoch 16/40\n",
      "916/916 [==============================] - 92s 100ms/step - loss: 0.0646 - accuracy: 0.9862 - val_loss: 0.1528 - val_accuracy: 0.9533\n",
      "\n",
      "Epoch 00016: val_loss did not improve from 0.14258\n",
      "Epoch 17/40\n",
      "916/916 [==============================] - 96s 104ms/step - loss: 0.0354 - accuracy: 0.9884 - val_loss: 0.1572 - val_accuracy: 0.9542\n",
      "\n",
      "Epoch 00017: ReduceLROnPlateau reducing learning rate to 0.0005000000237487257.\n",
      "\n",
      "Epoch 00017: val_loss did not improve from 0.14258\n",
      "Epoch 18/40\n",
      "916/916 [==============================] - 93s 102ms/step - loss: 0.0254 - accuracy: 0.9920 - val_loss: 0.1419 - val_accuracy: 0.9607\n",
      "\n",
      "Epoch 00018: val_loss improved from 0.14258 to 0.14189, saving model to model.h5\n",
      "Epoch 19/40\n",
      "916/916 [==============================] - 93s 102ms/step - loss: 0.0232 - accuracy: 0.9925 - val_loss: 0.1496 - val_accuracy: 0.9612\n",
      "\n",
      "Epoch 00019: val_loss did not improve from 0.14189\n",
      "Epoch 20/40\n",
      "916/916 [==============================] - 98s 107ms/step - loss: 0.0222 - accuracy: 0.9928 - val_loss: 0.1473 - val_accuracy: 0.9606\n",
      "\n",
      "Epoch 00020: val_loss did not improve from 0.14189\n",
      "Epoch 21/40\n",
      "916/916 [==============================] - 93s 101ms/step - loss: 0.0239 - accuracy: 0.9923 - val_loss: 0.1514 - val_accuracy: 0.9599\n",
      "\n",
      "Epoch 00021: val_loss did not improve from 0.14189\n",
      "Epoch 22/40\n",
      "916/916 [==============================] - 92s 101ms/step - loss: 0.0249 - accuracy: 0.9930 - val_loss: 0.1548 - val_accuracy: 0.9602\n",
      "\n",
      "Epoch 00022: val_loss did not improve from 0.14189\n",
      "Epoch 23/40\n",
      "916/916 [==============================] - 99s 108ms/step - loss: 0.0200 - accuracy: 0.9935 - val_loss: 0.1660 - val_accuracy: 0.9613\n",
      "\n",
      "Epoch 00023: val_loss did not improve from 0.14189\n",
      "Epoch 24/40\n",
      "916/916 [==============================] - 95s 104ms/step - loss: 0.0186 - accuracy: 0.9940 - val_loss: 0.1698 - val_accuracy: 0.9602\n",
      "\n",
      "Epoch 00024: val_loss did not improve from 0.14189\n",
      "Epoch 25/40\n",
      "916/916 [==============================] - 96s 105ms/step - loss: 0.0206 - accuracy: 0.9934 - val_loss: 0.1867 - val_accuracy: 0.9569\n",
      "\n",
      "Epoch 00025: val_loss did not improve from 0.14189\n",
      "Epoch 26/40\n",
      "916/916 [==============================] - 101s 111ms/step - loss: 0.0198 - accuracy: 0.9936 - val_loss: 0.1701 - val_accuracy: 0.9608\n",
      "\n",
      "Epoch 00026: val_loss did not improve from 0.14189\n",
      "Epoch 27/40\n",
      "916/916 [==============================] - 97s 106ms/step - loss: 0.0176 - accuracy: 0.9944 - val_loss: 0.1753 - val_accuracy: 0.9613\n",
      "\n",
      "Epoch 00027: val_loss did not improve from 0.14189\n",
      "Epoch 28/40\n",
      "916/916 [==============================] - 97s 105ms/step - loss: 0.0181 - accuracy: 0.9940 - val_loss: 0.1855 - val_accuracy: 0.9558\n",
      "\n",
      "Epoch 00028: ReduceLROnPlateau reducing learning rate to 0.0002500000118743628.\n",
      "\n",
      "Epoch 00028: val_loss did not improve from 0.14189\n",
      "Epoch 29/40\n",
      "916/916 [==============================] - 102s 112ms/step - loss: 0.0145 - accuracy: 0.9952 - val_loss: 0.1765 - val_accuracy: 0.9640\n",
      "\n",
      "Epoch 00029: val_loss did not improve from 0.14189\n",
      "Epoch 30/40\n",
      "916/916 [==============================] - 97s 106ms/step - loss: 0.0132 - accuracy: 0.9957 - val_loss: 0.1800 - val_accuracy: 0.9645\n",
      "\n",
      "Epoch 00030: val_loss did not improve from 0.14189\n",
      "Epoch 31/40\n",
      "916/916 [==============================] - 94s 102ms/step - loss: 0.0133 - accuracy: 0.9957 - val_loss: 0.1981 - val_accuracy: 0.9617\n",
      "\n",
      "Epoch 00031: val_loss did not improve from 0.14189\n",
      "Epoch 32/40\n",
      "916/916 [==============================] - 94s 102ms/step - loss: 0.0130 - accuracy: 0.9959 - val_loss: 0.1820 - val_accuracy: 0.9628\n",
      "\n",
      "Epoch 00032: val_loss did not improve from 0.14189\n",
      "Epoch 33/40\n",
      "916/916 [==============================] - 97s 106ms/step - loss: 0.0129 - accuracy: 0.9957 - val_loss: 0.1925 - val_accuracy: 0.9645\n",
      "\n",
      "Epoch 00033: val_loss did not improve from 0.14189\n",
      "Epoch 34/40\n",
      "916/916 [==============================] - 96s 105ms/step - loss: 0.0129 - accuracy: 0.9958 - val_loss: 0.1926 - val_accuracy: 0.9628\n",
      "\n",
      "Epoch 00034: val_loss did not improve from 0.14189\n",
      "Epoch 35/40\n",
      "916/916 [==============================] - 90s 99ms/step - loss: 0.0122 - accuracy: 0.9958 - val_loss: 0.1946 - val_accuracy: 0.9636\n",
      "\n",
      "Epoch 00035: ReduceLROnPlateau reducing learning rate to 0.0001250000059371814.\n",
      "\n",
      "Epoch 00035: val_loss did not improve from 0.14189\n",
      "Epoch 36/40\n",
      "916/916 [==============================] - 96s 105ms/step - loss: 0.0111 - accuracy: 0.9961 - val_loss: 0.2072 - val_accuracy: 0.9626\n",
      "\n",
      "Epoch 00036: val_loss did not improve from 0.14189\n",
      "Epoch 37/40\n",
      "916/916 [==============================] - 97s 106ms/step - loss: 0.0109 - accuracy: 0.9962 - val_loss: 0.2061 - val_accuracy: 0.9633\n",
      "\n",
      "Epoch 00037: val_loss did not improve from 0.14189\n",
      "Epoch 38/40\n",
      "916/916 [==============================] - 90s 98ms/step - loss: 0.0106 - accuracy: 0.9963 - val_loss: 0.2100 - val_accuracy: 0.9626\n",
      "\n",
      "Epoch 00038: val_loss did not improve from 0.14189\n",
      "Epoch 39/40\n",
      "916/916 [==============================] - 97s 106ms/step - loss: 0.0104 - accuracy: 0.9963 - val_loss: 0.2201 - val_accuracy: 0.9628\n",
      "\n",
      "Epoch 00039: val_loss did not improve from 0.14189\n",
      "Epoch 40/40\n",
      "916/916 [==============================] - 97s 106ms/step - loss: 0.0102 - accuracy: 0.9964 - val_loss: 0.2232 - val_accuracy: 0.9576\n",
      "\n",
      "Epoch 00040: ReduceLROnPlateau reducing learning rate to 0.0001.\n",
      "\n",
      "Epoch 00040: val_loss did not improve from 0.14189\n"
     ]
    }
   ],
   "source": [
    "history = head_model.fit(\n",
    "    X_train, \n",
    "    y_train,\n",
    "    batch_size=64, \n",
    "    epochs=epoch_t, \n",
    "    validation_data=(X_test, y_test),\n",
    "    sample_weight = sample_weights,\n",
    "    callbacks = [anne, checkpoint]) # EPOCHS WAS 40"
   ]
  },
  {
   "cell_type": "code",
   "execution_count": 24,
   "id": "724842c2",
   "metadata": {
    "execution": {
     "iopub.execute_input": "2022-04-04T11:39:06.106281Z",
     "iopub.status.busy": "2022-04-04T11:39:06.105368Z",
     "iopub.status.idle": "2022-04-04T11:39:17.169428Z",
     "shell.execute_reply": "2022-04-04T11:39:17.169959Z",
     "shell.execute_reply.started": "2022-04-01T10:32:43.720611Z"
    },
    "id": "3b5bRktf4ydg",
    "outputId": "37f5eb06-7caa-4c5f-b6fd-9b5758a1f057",
    "papermill": {
     "duration": 22.837146,
     "end_time": "2022-04-04T11:39:17.170147",
     "exception": false,
     "start_time": "2022-04-04T11:38:54.333001",
     "status": "completed"
    },
    "tags": []
   },
   "outputs": [
    {
     "name": "stderr",
     "output_type": "stream",
     "text": [
      "2022-04-04 11:39:06.104600: W tensorflow/core/framework/cpu_allocator_impl.cc:80] Allocation of 391495680 exceeds 10% of free system memory.\n"
     ]
    },
    {
     "name": "stdout",
     "output_type": "stream",
     "text": [
      "249/249 [==============================] - 9s 33ms/step - loss: 0.2232 - accuracy: 0.9576\n",
      "Overall CNN Accuracy: 0.9575643539428711\n",
      "(The number of correct predictions divided by the number of total predictions)\n"
     ]
    }
   ],
   "source": [
    "scores = head_model.evaluate(X_test, y_test)\n",
    "print(f\"Overall CNN Accuracy: {scores[1]}\\n(The number of correct predictions divided by the number of total predictions)\")"
   ]
  },
  {
   "cell_type": "markdown",
   "id": "957053cd",
   "metadata": {
    "papermill": {
     "duration": 12.017692,
     "end_time": "2022-04-04T11:39:41.085350",
     "exception": false,
     "start_time": "2022-04-04T11:39:29.067658",
     "status": "completed"
    },
    "tags": []
   },
   "source": [
    "# Plots"
   ]
  },
  {
   "cell_type": "code",
   "execution_count": 25,
   "id": "0bfb53cf",
   "metadata": {
    "execution": {
     "iopub.execute_input": "2022-04-04T11:40:05.347710Z",
     "iopub.status.busy": "2022-04-04T11:40:05.346918Z",
     "iopub.status.idle": "2022-04-04T11:40:05.351877Z",
     "shell.execute_reply": "2022-04-04T11:40:05.351464Z",
     "shell.execute_reply.started": "2022-04-01T10:32:43.722502Z"
    },
    "papermill": {
     "duration": 11.914204,
     "end_time": "2022-04-04T11:40:05.352001",
     "exception": false,
     "start_time": "2022-04-04T11:39:53.437797",
     "status": "completed"
    },
    "tags": []
   },
   "outputs": [],
   "source": [
    "multi_distribution = np.unique(labels, return_counts=True)"
   ]
  },
  {
   "cell_type": "code",
   "execution_count": 26,
   "id": "cb826abe",
   "metadata": {
    "execution": {
     "iopub.execute_input": "2022-04-04T11:40:30.506928Z",
     "iopub.status.busy": "2022-04-04T11:40:30.506020Z",
     "iopub.status.idle": "2022-04-04T11:40:30.508468Z",
     "shell.execute_reply": "2022-04-04T11:40:30.508026Z",
     "shell.execute_reply.started": "2022-04-01T10:32:43.724473Z"
    },
    "papermill": {
     "duration": 12.176929,
     "end_time": "2022-04-04T11:40:30.508590",
     "exception": false,
     "start_time": "2022-04-04T11:40:18.331661",
     "status": "completed"
    },
    "tags": []
   },
   "outputs": [],
   "source": [
    "classes = batches.class_indices.keys()"
   ]
  },
  {
   "cell_type": "code",
   "execution_count": 27,
   "id": "bae36b2b",
   "metadata": {
    "execution": {
     "iopub.execute_input": "2022-04-04T11:40:54.920048Z",
     "iopub.status.busy": "2022-04-04T11:40:54.918930Z",
     "iopub.status.idle": "2022-04-04T11:40:55.327518Z",
     "shell.execute_reply": "2022-04-04T11:40:55.327902Z",
     "shell.execute_reply.started": "2022-04-01T10:32:43.726411Z"
    },
    "papermill": {
     "duration": 12.828452,
     "end_time": "2022-04-04T11:40:55.328053",
     "exception": false,
     "start_time": "2022-04-04T11:40:42.499601",
     "status": "completed"
    },
    "tags": []
   },
   "outputs": [
    {
     "data": {
      "image/png": "[encoded data removed]",
      "text/plain": [
       "<Figure size 432x288 with 1 Axes>"
      ]
     },
     "metadata": {
      "needs_background": "light"
     },
     "output_type": "display_data"
    }
   ],
   "source": [
    "perc = (multi_distribution[1]/labels.shape[0])*100\n",
    "plt.xticks(rotation='vertical')\n",
    "plt.bar(classes,perc)\n",
    "if cenv == 0:\n",
    "    plt.savefig(\"multi_data_dist.png\", bbox_inches = 'tight')\n",
    "if cenv == 1:\n",
    "    plt.savefig(f\"{new_dir}/multi_data_dist.png\", bbox_inches = 'tight')"
   ]
  },
  {
   "cell_type": "code",
   "execution_count": 28,
   "id": "b97d107e",
   "metadata": {
    "execution": {
     "iopub.execute_input": "2022-04-04T11:41:19.324462Z",
     "iopub.status.busy": "2022-04-04T11:41:19.323664Z",
     "iopub.status.idle": "2022-04-04T11:41:19.325696Z",
     "shell.execute_reply": "2022-04-04T11:41:19.326060Z",
     "shell.execute_reply.started": "2022-04-01T10:32:43.728277Z"
    },
    "papermill": {
     "duration": 11.958996,
     "end_time": "2022-04-04T11:41:19.326239",
     "exception": false,
     "start_time": "2022-04-04T11:41:07.367243",
     "status": "completed"
    },
    "tags": []
   },
   "outputs": [],
   "source": [
    "def my_fmt(x):\n",
    "    return '{:.1f}%\\n({:.0f})'.format(x, total*x/100)\n",
    "total = X_train_size + X_test_size"
   ]
  },
  {
   "cell_type": "code",
   "execution_count": 29,
   "id": "af70f01d",
   "metadata": {
    "execution": {
     "iopub.execute_input": "2022-04-04T11:41:43.897941Z",
     "iopub.status.busy": "2022-04-04T11:41:43.896565Z",
     "iopub.status.idle": "2022-04-04T11:41:44.113165Z",
     "shell.execute_reply": "2022-04-04T11:41:44.112641Z",
     "shell.execute_reply.started": "2022-04-01T10:32:43.730243Z"
    },
    "papermill": {
     "duration": 12.161387,
     "end_time": "2022-04-04T11:41:44.113311",
     "exception": false,
     "start_time": "2022-04-04T11:41:31.951924",
     "status": "completed"
    },
    "scrolled": true,
    "tags": []
   },
   "outputs": [
    {
     "data": {
      "image/png": "[encoded data removed]",
      "text/plain": [
       "<Figure size 432x288 with 1 Axes>"
      ]
     },
     "metadata": {},
     "output_type": "display_data"
    }
   ],
   "source": [
    "plt.pie(\n",
    "    [X_train_size, X_test_size], \n",
    "    labels = [\"Training\", \"Validation\"], \n",
    "    startangle=90, \n",
    "    counterclock=False, \n",
    "    autopct=my_fmt,\n",
    "    colors = ['gray', 'silver']\n",
    ")\n",
    "\n",
    "plt.title(\"Training and validation data distribution\")\n",
    "\n",
    "if cenv == 0:\n",
    "    plt.savefig(\"train_test_dist.png\", bbox_inches = 'tight')\n",
    "if cenv == 1:\n",
    "    plt.savefig(f\"{new_dir}/train_test_dist.png\", bbox_inches = 'tight')"
   ]
  },
  {
   "cell_type": "code",
   "execution_count": 30,
   "id": "349d9edb",
   "metadata": {
    "execution": {
     "iopub.execute_input": "2022-04-04T11:42:08.776359Z",
     "iopub.status.busy": "2022-04-04T11:42:08.775457Z",
     "iopub.status.idle": "2022-04-04T11:42:09.395239Z",
     "shell.execute_reply": "2022-04-04T11:42:09.395670Z",
     "shell.execute_reply.started": "2022-04-01T10:32:43.73216Z"
    },
    "id": "yE3OUgo34v_C",
    "outputId": "fd989d09-d97f-478e-e768-0e2e739a17aa",
    "papermill": {
     "duration": 12.69966,
     "end_time": "2022-04-04T11:42:09.395819",
     "exception": false,
     "start_time": "2022-04-04T11:41:56.696159",
     "status": "completed"
    },
    "tags": []
   },
   "outputs": [
    {
     "data": {
      "image/png": "[encoded data removed]",
      "text/plain": [
       "<Figure size 1080x1080 with 2 Axes>"
      ]
     },
     "metadata": {
      "needs_background": "light"
     },
     "output_type": "display_data"
    }
   ],
   "source": [
    "fig, axs = plt.subplots(2, 1, figsize=(15,15))\n",
    "\n",
    "axs[0].plot(history.history['loss'])\n",
    "axs[0].plot(history.history['val_loss'])\n",
    "axs[0].title.set_text('Training Loss vs Validation Loss')\n",
    "axs[0].set_xlabel('Epochs')\n",
    "axs[0].set_ylabel('Loss')\n",
    "axs[0].legend(['Train','Val'])\n",
    "\n",
    "axs[1].plot(history.history['accuracy'])\n",
    "axs[1].plot(history.history['val_accuracy'])\n",
    "axs[1].title.set_text('Training Accuracy vs Validation Accuracy')\n",
    "axs[1].set_xlabel('Epochs')\n",
    "axs[1].set_ylabel('Accuracy')\n",
    "axs[1].legend(['Train', 'Val'])\n",
    "\n",
    "if cenv == 0:\n",
    "    plt.savefig(\"performance_figure.png\", bbox_inches = 'tight')\n",
    "if cenv == 1:\n",
    "    plt.savefig(f\"{new_dir}/performance_figure.png\", bbox_inches = 'tight')"
   ]
  },
  {
   "cell_type": "markdown",
   "id": "b0e0bc31",
   "metadata": {
    "papermill": {
     "duration": 12.314036,
     "end_time": "2022-04-04T11:42:33.737559",
     "exception": false,
     "start_time": "2022-04-04T11:42:21.423523",
     "status": "completed"
    },
    "tags": []
   },
   "source": [
    "# Analyse performance\n",
    "\n",
    "**Multiclass classification**"
   ]
  },
  {
   "cell_type": "code",
   "execution_count": 31,
   "id": "3a05cfc5",
   "metadata": {
    "execution": {
     "iopub.execute_input": "2022-04-04T11:42:57.673579Z",
     "iopub.status.busy": "2022-04-04T11:42:57.672894Z",
     "iopub.status.idle": "2022-04-04T11:42:57.919834Z",
     "shell.execute_reply": "2022-04-04T11:42:57.919312Z",
     "shell.execute_reply.started": "2022-04-01T10:32:43.734132Z"
    },
    "papermill": {
     "duration": 12.298536,
     "end_time": "2022-04-04T11:42:57.919963",
     "exception": false,
     "start_time": "2022-04-04T11:42:45.621427",
     "status": "completed"
    },
    "tags": []
   },
   "outputs": [],
   "source": [
    "from sklearn import metrics\n",
    "import pandas as pd\n",
    "import seaborn as sns\n",
    "from sklearn.metrics import f1_score, matthews_corrcoef, accuracy_score\n",
    "from prettytable import PrettyTable, MSWORD_FRIENDLY"
   ]
  },
  {
   "cell_type": "markdown",
   "id": "09e89eb2",
   "metadata": {
    "papermill": {
     "duration": 11.875208,
     "end_time": "2022-04-04T11:43:22.392681",
     "exception": false,
     "start_time": "2022-04-04T11:43:10.517473",
     "status": "completed"
    },
    "tags": []
   },
   "source": [
    "Multiclass performance table"
   ]
  },
  {
   "cell_type": "code",
   "execution_count": 32,
   "id": "327c040d",
   "metadata": {
    "execution": {
     "iopub.execute_input": "2022-04-04T11:43:47.258363Z",
     "iopub.status.busy": "2022-04-04T11:43:47.257776Z",
     "iopub.status.idle": "2022-04-04T11:43:47.260944Z",
     "shell.execute_reply": "2022-04-04T11:43:47.261374Z",
     "shell.execute_reply.started": "2022-04-01T10:32:43.736112Z"
    },
    "papermill": {
     "duration": 12.901578,
     "end_time": "2022-04-04T11:43:47.261522",
     "exception": false,
     "start_time": "2022-04-04T11:43:34.359944",
     "status": "completed"
    },
    "tags": []
   },
   "outputs": [
    {
     "name": "stdout",
     "output_type": "stream",
     "text": [
      "+------------------------------------------------+\n",
      "| Perf. of multi-class classification - DenseNet |\n",
      "+------------------------------+-----------------+\n",
      "| Metric                       | Performance     |\n",
      "+------------------------------+-----------------+\n",
      "| Valididation accuracy        | 0.9576          |\n",
      "| Validation loss              | 0.2232          |\n",
      "+------------------------------+-----------------+\n"
     ]
    }
   ],
   "source": [
    "t = PrettyTable(['Metric', 'Performance'])\n",
    "t.add_row(['Valididation accuracy', round(scores[1],4)])\n",
    "t.add_row(['Validation loss', round(scores[0],4)])\n",
    "t.header = True\n",
    "t.align = \"l\"\n",
    "t.title = \"Perf. of multi-class classification - DenseNet\"\n",
    "print(t)"
   ]
  },
  {
   "cell_type": "code",
   "execution_count": 33,
   "id": "742f338a",
   "metadata": {
    "execution": {
     "iopub.execute_input": "2022-04-04T11:44:11.541760Z",
     "iopub.status.busy": "2022-04-04T11:44:11.541030Z",
     "iopub.status.idle": "2022-04-04T11:44:11.543317Z",
     "shell.execute_reply": "2022-04-04T11:44:11.543706Z",
     "shell.execute_reply.started": "2022-04-01T10:32:43.738091Z"
    },
    "papermill": {
     "duration": 12.451884,
     "end_time": "2022-04-04T11:44:11.543853",
     "exception": false,
     "start_time": "2022-04-04T11:43:59.091969",
     "status": "completed"
    },
    "tags": []
   },
   "outputs": [],
   "source": [
    "# Saving PrettyTable\n",
    "table = t.get_string()\n",
    "\n",
    "if cenv == 0:\n",
    "    with open('multi_performance_table.txt', 'w') as f:\n",
    "        f.write(table)\n",
    "if cenv == 1:\n",
    "    with open(f'{new_dir}/multi_performance_table.txt', 'w') as f:\n",
    "        f.write(table)"
   ]
  },
  {
   "cell_type": "code",
   "execution_count": 34,
   "id": "2cdf30ed",
   "metadata": {
    "execution": {
     "iopub.execute_input": "2022-04-04T11:44:35.520143Z",
     "iopub.status.busy": "2022-04-04T11:44:35.519149Z",
     "iopub.status.idle": "2022-04-04T11:44:48.824322Z",
     "shell.execute_reply": "2022-04-04T11:44:48.823817Z",
     "shell.execute_reply.started": "2022-04-01T10:32:43.740001Z"
    },
    "papermill": {
     "duration": 25.242153,
     "end_time": "2022-04-04T11:44:48.824462",
     "exception": false,
     "start_time": "2022-04-04T11:44:23.582309",
     "status": "completed"
    },
    "scrolled": true,
    "tags": []
   },
   "outputs": [],
   "source": [
    "y_pred = np.argmax(head_model.predict(X_test), axis=-1)"
   ]
  },
  {
   "cell_type": "code",
   "execution_count": 35,
   "id": "f331c5f7",
   "metadata": {
    "execution": {
     "iopub.execute_input": "2022-04-04T11:45:12.730059Z",
     "iopub.status.busy": "2022-04-04T11:45:12.728623Z",
     "iopub.status.idle": "2022-04-04T11:45:12.732345Z",
     "shell.execute_reply": "2022-04-04T11:45:12.731887Z",
     "shell.execute_reply.started": "2022-04-01T10:32:43.741925Z"
    },
    "papermill": {
     "duration": 11.876527,
     "end_time": "2022-04-04T11:45:12.732467",
     "exception": false,
     "start_time": "2022-04-04T11:45:00.855940",
     "status": "completed"
    },
    "scrolled": true,
    "tags": []
   },
   "outputs": [
    {
     "data": {
      "text/plain": [
       "array([10, 10,  5, ...,  7, 10,  3])"
      ]
     },
     "execution_count": 35,
     "metadata": {},
     "output_type": "execute_result"
    }
   ],
   "source": [
    "y_pred"
   ]
  },
  {
   "cell_type": "code",
   "execution_count": 36,
   "id": "21cd3f48",
   "metadata": {
    "execution": {
     "iopub.execute_input": "2022-04-04T11:45:37.512996Z",
     "iopub.status.busy": "2022-04-04T11:45:37.512253Z",
     "iopub.status.idle": "2022-04-04T11:45:37.514890Z",
     "shell.execute_reply": "2022-04-04T11:45:37.515293Z",
     "shell.execute_reply.started": "2022-04-01T10:32:43.743633Z"
    },
    "papermill": {
     "duration": 12.088764,
     "end_time": "2022-04-04T11:45:37.515429",
     "exception": false,
     "start_time": "2022-04-04T11:45:25.426665",
     "status": "completed"
    },
    "scrolled": true,
    "tags": []
   },
   "outputs": [
    {
     "data": {
      "text/plain": [
       "array([10., 10.,  5., ...,  7., 10.,  3.], dtype=float32)"
      ]
     },
     "execution_count": 36,
     "metadata": {},
     "output_type": "execute_result"
    }
   ],
   "source": [
    "y_test2 = y_test\n",
    "y_test2"
   ]
  },
  {
   "cell_type": "code",
   "execution_count": 37,
   "id": "ffd85e45",
   "metadata": {
    "execution": {
     "iopub.execute_input": "2022-04-04T11:46:02.259824Z",
     "iopub.status.busy": "2022-04-04T11:46:02.258885Z",
     "iopub.status.idle": "2022-04-04T11:46:02.299278Z",
     "shell.execute_reply": "2022-04-04T11:46:02.298747Z",
     "shell.execute_reply.started": "2022-04-01T10:32:43.745832Z"
    },
    "papermill": {
     "duration": 12.028154,
     "end_time": "2022-04-04T11:46:02.299430",
     "exception": false,
     "start_time": "2022-04-04T11:45:50.271276",
     "status": "completed"
    },
    "scrolled": true,
    "tags": []
   },
   "outputs": [],
   "source": [
    "c_matrix = metrics.confusion_matrix(y_test2, y_pred)"
   ]
  },
  {
   "cell_type": "code",
   "execution_count": 38,
   "id": "2fc25a18",
   "metadata": {
    "execution": {
     "iopub.execute_input": "2022-04-04T11:46:26.754992Z",
     "iopub.status.busy": "2022-04-04T11:46:26.754108Z",
     "iopub.status.idle": "2022-04-04T11:46:26.755819Z",
     "shell.execute_reply": "2022-04-04T11:46:26.756368Z",
     "shell.execute_reply.started": "2022-04-01T10:32:43.74774Z"
    },
    "papermill": {
     "duration": 12.547544,
     "end_time": "2022-04-04T11:46:26.756512",
     "exception": false,
     "start_time": "2022-04-04T11:46:14.208968",
     "status": "completed"
    },
    "scrolled": true,
    "tags": []
   },
   "outputs": [],
   "source": [
    "def confusion_matrix(confusion_matrix, class_names, figsize = (10,7), fontsize=14):\n",
    "   \n",
    "    df_cm = pd.DataFrame(\n",
    "        confusion_matrix, index=class_names, columns=class_names, \n",
    "    )\n",
    "    fig = plt.figure(figsize=figsize)\n",
    "    try:\n",
    "        heatmap = sns.heatmap(df_cm, annot=True, fmt=\"d\")\n",
    "    except ValueError:\n",
    "        raise ValueError(\"Confusion matrix values must be integers.\")\n",
    "    heatmap.yaxis.set_ticklabels(heatmap.yaxis.get_ticklabels(), rotation=0, ha='right', fontsize=fontsize)\n",
    "    heatmap.xaxis.set_ticklabels(heatmap.xaxis.get_ticklabels(), rotation=45, ha='right', fontsize=fontsize)\n",
    "    plt.ylabel('True label')\n",
    "    plt.xlabel('Predicted label')\n",
    "    plt.tight_layout()\n",
    "    if cenv == 0:\n",
    "        plt.savefig(\"multi_class_cmatrix.png\")\n",
    "    if cenv == 1:\n",
    "        plt.savefig(f\"{new_dir}/multi_class_cmatrix.png\")"
   ]
  },
  {
   "cell_type": "code",
   "execution_count": 39,
   "id": "e5811598",
   "metadata": {
    "execution": {
     "iopub.execute_input": "2022-04-04T11:46:50.469671Z",
     "iopub.status.busy": "2022-04-04T11:46:50.461514Z",
     "iopub.status.idle": "2022-04-04T11:46:51.561463Z",
     "shell.execute_reply": "2022-04-04T11:46:51.561961Z",
     "shell.execute_reply.started": "2022-04-01T10:32:43.74974Z"
    },
    "papermill": {
     "duration": 13.04394,
     "end_time": "2022-04-04T11:46:51.562191",
     "exception": false,
     "start_time": "2022-04-04T11:46:38.518251",
     "status": "completed"
    },
    "scrolled": true,
    "tags": []
   },
   "outputs": [
    {
     "data": {
      "image/png": "[encoded data removed]",
      "text/plain": [
       "<Figure size 1440x504 with 2 Axes>"
      ]
     },
     "metadata": {
      "needs_background": "light"
     },
     "output_type": "display_data"
    }
   ],
   "source": [
    "class_names= batches.class_indices.keys()\n",
    "confusion_matrix(c_matrix, class_names, figsize = (20,7), fontsize=14)"
   ]
  },
  {
   "cell_type": "markdown",
   "id": "99dc2440",
   "metadata": {
    "papermill": {
     "duration": 11.910813,
     "end_time": "2022-04-04T11:47:16.387815",
     "exception": false,
     "start_time": "2022-04-04T11:47:04.477002",
     "status": "completed"
    },
    "tags": []
   },
   "source": [
    "**Binary classification**\n"
   ]
  },
  {
   "cell_type": "code",
   "execution_count": 40,
   "id": "cbdbc9fb",
   "metadata": {
    "execution": {
     "iopub.execute_input": "2022-04-04T11:47:40.905476Z",
     "iopub.status.busy": "2022-04-04T11:47:40.891097Z",
     "iopub.status.idle": "2022-04-04T11:47:41.014572Z",
     "shell.execute_reply": "2022-04-04T11:47:41.014969Z",
     "shell.execute_reply.started": "2022-04-01T10:32:43.753557Z"
    },
    "papermill": {
     "duration": 12.068196,
     "end_time": "2022-04-04T11:47:41.015153",
     "exception": false,
     "start_time": "2022-04-04T11:47:28.946957",
     "status": "completed"
    },
    "tags": []
   },
   "outputs": [
    {
     "name": "stdout",
     "output_type": "stream",
     "text": [
      "Length of the observations in test set: 7965\n"
     ]
    }
   ],
   "source": [
    "y_predbin = [] \n",
    "y_truebin = []\n",
    "for count, value in enumerate(y_test2):\n",
    "    if y_test2[count] in range(10): # range(10) is 0 to 9\n",
    "        y_truebin.append(0)\n",
    "    else: y_truebin.append(1)\n",
    "    \n",
    "    if y_pred[count] in range(10):\n",
    "        y_predbin.append(0)\n",
    "    else: y_predbin.append(1)\n",
    "    \n",
    "    continue\n",
    "if len(y_truebin) == len(y_predbin):\n",
    "    print(f\"Length of the observations in test set: {len(y_truebin)}\")"
   ]
  },
  {
   "cell_type": "code",
   "execution_count": 41,
   "id": "8e7870f1",
   "metadata": {
    "execution": {
     "iopub.execute_input": "2022-04-04T11:48:05.674992Z",
     "iopub.status.busy": "2022-04-04T11:48:05.673355Z",
     "iopub.status.idle": "2022-04-04T11:48:05.677134Z",
     "shell.execute_reply": "2022-04-04T11:48:05.676677Z",
     "shell.execute_reply.started": "2022-04-01T10:32:43.755517Z"
    },
    "papermill": {
     "duration": 12.656018,
     "end_time": "2022-04-04T11:48:05.677255",
     "exception": false,
     "start_time": "2022-04-04T11:47:53.021237",
     "status": "completed"
    },
    "tags": []
   },
   "outputs": [
    {
     "name": "stdout",
     "output_type": "stream",
     "text": [
      "Ransomware Occurences: 12536, Benign Occurences: 14012\n"
     ]
    }
   ],
   "source": [
    "rw_count = 0\n",
    "bn_count = 0\n",
    "for count, value in enumerate(multi_distribution[1]):\n",
    "    if count in range(10):\n",
    "        rw_count = rw_count + multi_distribution[1][count]\n",
    "    else: \n",
    "        bn_count = bn_count + multi_distribution[1][count]\n",
    "print(f\"Ransomware Occurences: {rw_count}, Benign Occurences: {bn_count}\")"
   ]
  },
  {
   "cell_type": "code",
   "execution_count": 42,
   "id": "9dbe0fa1",
   "metadata": {
    "execution": {
     "iopub.execute_input": "2022-04-04T11:48:29.618312Z",
     "iopub.status.busy": "2022-04-04T11:48:29.617232Z",
     "iopub.status.idle": "2022-04-04T11:48:29.820533Z",
     "shell.execute_reply": "2022-04-04T11:48:29.819956Z",
     "shell.execute_reply.started": "2022-04-01T10:32:43.757465Z"
    },
    "papermill": {
     "duration": 12.143199,
     "end_time": "2022-04-04T11:48:29.820678",
     "exception": false,
     "start_time": "2022-04-04T11:48:17.677479",
     "status": "completed"
    },
    "tags": []
   },
   "outputs": [
    {
     "data": {
      "image/png": "[encoded data removed]",
      "text/plain": [
       "<Figure size 432x288 with 1 Axes>"
      ]
     },
     "metadata": {
      "needs_background": "light"
     },
     "output_type": "display_data"
    }
   ],
   "source": [
    "fig = plt.figure()\n",
    "ax = fig.add_axes([0,0,1,1])\n",
    "x_lab = ['Ransomware', 'Benign']\n",
    "y_lab = [rw_count, bn_count]\n",
    "ax.bar(x_lab, y_lab)\n",
    "if cenv == 0:\n",
    "    plt.savefig(\"data_dist.png.png\", bbox_inches = 'tight')\n",
    "if cenv == 1:\n",
    "    plt.savefig(f\"{new_dir}/bin_data_dist.png\", bbox_inches = 'tight')"
   ]
  },
  {
   "cell_type": "code",
   "execution_count": 43,
   "id": "c3591d90",
   "metadata": {
    "execution": {
     "iopub.execute_input": "2022-04-04T11:48:54.811905Z",
     "iopub.status.busy": "2022-04-04T11:48:54.809744Z",
     "iopub.status.idle": "2022-04-04T11:48:54.819074Z",
     "shell.execute_reply": "2022-04-04T11:48:54.818676Z",
     "shell.execute_reply.started": "2022-04-01T10:32:43.759508Z"
    },
    "papermill": {
     "duration": 12.221001,
     "end_time": "2022-04-04T11:48:54.819235",
     "exception": false,
     "start_time": "2022-04-04T11:48:42.598234",
     "status": "completed"
    },
    "tags": []
   },
   "outputs": [],
   "source": [
    "c_matrix_bin = metrics.confusion_matrix(y_truebin, y_predbin)"
   ]
  },
  {
   "cell_type": "code",
   "execution_count": 44,
   "id": "243b4538",
   "metadata": {
    "execution": {
     "iopub.execute_input": "2022-04-04T11:49:19.532775Z",
     "iopub.status.busy": "2022-04-04T11:49:19.531837Z",
     "iopub.status.idle": "2022-04-04T11:49:19.533783Z",
     "shell.execute_reply": "2022-04-04T11:49:19.534326Z",
     "shell.execute_reply.started": "2022-04-01T10:32:43.761502Z"
    },
    "papermill": {
     "duration": 11.960305,
     "end_time": "2022-04-04T11:49:19.534515",
     "exception": false,
     "start_time": "2022-04-04T11:49:07.574210",
     "status": "completed"
    },
    "tags": []
   },
   "outputs": [],
   "source": [
    "def confusion_matrix_bin(confusion_matrix, class_names_bin, figsize = (5,2), fontsize=7):\n",
    "   \n",
    "    df_cm = pd.DataFrame(\n",
    "        confusion_matrix, index=class_names_bin, columns=class_names_bin, \n",
    "    )\n",
    "    fig = plt.figure(figsize=figsize)\n",
    "    try:\n",
    "        heatmap = sns.heatmap(df_cm, annot=True, fmt=\"d\")\n",
    "    except ValueError:\n",
    "        raise ValueError(\"Confusion matrix values must be integers.\")\n",
    "    heatmap.yaxis.set_ticklabels(heatmap.yaxis.get_ticklabels(), rotation=0, ha='right', fontsize=fontsize)\n",
    "    heatmap.xaxis.set_ticklabels(heatmap.xaxis.get_ticklabels(), rotation=45, ha='right', fontsize=fontsize)\n",
    "    plt.ylabel('True label')\n",
    "    plt.xlabel('Predicted label')\n",
    "    plt.title(\"DenseNet121\")\n",
    "    if cenv == 0:\n",
    "        plt.savefig(\"bin_class_cmatrix.png\", bbox_inches = 'tight')\n",
    "    if cenv == 1:\n",
    "        plt.savefig(f\"{new_dir}/bin_class_cmatrix.png\", bbox_inches = 'tight')"
   ]
  },
  {
   "cell_type": "code",
   "execution_count": 45,
   "id": "3d6acfe8",
   "metadata": {
    "execution": {
     "iopub.execute_input": "2022-04-04T11:49:44.153720Z",
     "iopub.status.busy": "2022-04-04T11:49:44.152877Z",
     "iopub.status.idle": "2022-04-04T11:49:44.414718Z",
     "shell.execute_reply": "2022-04-04T11:49:44.415158Z",
     "shell.execute_reply.started": "2022-04-01T10:32:43.763469Z"
    },
    "papermill": {
     "duration": 12.937443,
     "end_time": "2022-04-04T11:49:44.415376",
     "exception": false,
     "start_time": "2022-04-04T11:49:31.477933",
     "status": "completed"
    },
    "tags": []
   },
   "outputs": [
    {
     "data": {
      "image/png": "[encoded data removed]",
      "text/plain": [
       "<Figure size 360x144 with 2 Axes>"
      ]
     },
     "metadata": {
      "needs_background": "light"
     },
     "output_type": "display_data"
    }
   ],
   "source": [
    "class_names_bin= (\"ransomware\", \"benign\")\n",
    "confusion_matrix_bin(c_matrix_bin, class_names_bin, figsize = (5,2), fontsize=10)"
   ]
  },
  {
   "cell_type": "markdown",
   "id": "17f5c16c",
   "metadata": {
    "papermill": {
     "duration": 11.94696,
     "end_time": "2022-04-04T11:50:08.401977",
     "exception": false,
     "start_time": "2022-04-04T11:49:56.455017",
     "status": "completed"
    },
    "tags": []
   },
   "source": [
    "**True Positive Rate**"
   ]
  },
  {
   "cell_type": "code",
   "execution_count": 46,
   "id": "7dd2c36e",
   "metadata": {
    "execution": {
     "iopub.execute_input": "2022-04-04T11:50:32.634222Z",
     "iopub.status.busy": "2022-04-04T11:50:32.633483Z",
     "iopub.status.idle": "2022-04-04T11:50:32.637204Z",
     "shell.execute_reply": "2022-04-04T11:50:32.637929Z",
     "shell.execute_reply.started": "2022-04-01T10:32:43.765312Z"
    },
    "papermill": {
     "duration": 11.935259,
     "end_time": "2022-04-04T11:50:32.638140",
     "exception": false,
     "start_time": "2022-04-04T11:50:20.702881",
     "status": "completed"
    },
    "tags": []
   },
   "outputs": [],
   "source": [
    "TPR = c_matrix_bin[0,0]/(c_matrix_bin[0,0] + c_matrix_bin[0,1]) #True Positive Rate"
   ]
  },
  {
   "cell_type": "markdown",
   "id": "921860df",
   "metadata": {
    "papermill": {
     "duration": 12.308472,
     "end_time": "2022-04-04T11:50:57.089189",
     "exception": false,
     "start_time": "2022-04-04T11:50:44.780717",
     "status": "completed"
    },
    "tags": []
   },
   "source": [
    "**Accuracy**"
   ]
  },
  {
   "cell_type": "code",
   "execution_count": 47,
   "id": "67759f4b",
   "metadata": {
    "execution": {
     "iopub.execute_input": "2022-04-04T11:51:21.421669Z",
     "iopub.status.busy": "2022-04-04T11:51:21.420903Z",
     "iopub.status.idle": "2022-04-04T11:51:21.428416Z",
     "shell.execute_reply": "2022-04-04T11:51:21.427951Z",
     "shell.execute_reply.started": "2022-04-01T10:32:43.767368Z"
    },
    "papermill": {
     "duration": 12.5153,
     "end_time": "2022-04-04T11:51:21.428545",
     "exception": false,
     "start_time": "2022-04-04T11:51:08.913245",
     "status": "completed"
    },
    "tags": []
   },
   "outputs": [],
   "source": [
    "ACC = accuracy_score(y_truebin, y_predbin) # Accuracy"
   ]
  },
  {
   "cell_type": "markdown",
   "id": "e4963a3f",
   "metadata": {
    "papermill": {
     "duration": 12.317421,
     "end_time": "2022-04-04T11:51:45.771797",
     "exception": false,
     "start_time": "2022-04-04T11:51:33.454376",
     "status": "completed"
    },
    "tags": []
   },
   "source": [
    "**F1 Score**"
   ]
  },
  {
   "cell_type": "code",
   "execution_count": 48,
   "id": "b231bdf2",
   "metadata": {
    "execution": {
     "iopub.execute_input": "2022-04-04T11:52:09.950420Z",
     "iopub.status.busy": "2022-04-04T11:52:09.949520Z",
     "iopub.status.idle": "2022-04-04T11:52:09.968076Z",
     "shell.execute_reply": "2022-04-04T11:52:09.967535Z",
     "shell.execute_reply.started": "2022-04-01T10:32:43.769282Z"
    },
    "papermill": {
     "duration": 11.954198,
     "end_time": "2022-04-04T11:52:09.968253",
     "exception": false,
     "start_time": "2022-04-04T11:51:58.014055",
     "status": "completed"
    },
    "tags": []
   },
   "outputs": [],
   "source": [
    "F1 = f1_score(y_truebin, y_predbin, labels=0) # F1 Score"
   ]
  },
  {
   "cell_type": "markdown",
   "id": "02f9a10c",
   "metadata": {
    "papermill": {
     "duration": 12.651588,
     "end_time": "2022-04-04T11:52:34.545695",
     "exception": false,
     "start_time": "2022-04-04T11:52:21.894107",
     "status": "completed"
    },
    "tags": []
   },
   "source": [
    "**Matthews Correlation Coefficient**"
   ]
  },
  {
   "cell_type": "code",
   "execution_count": 49,
   "id": "09abf47e",
   "metadata": {
    "execution": {
     "iopub.execute_input": "2022-04-04T11:52:58.922270Z",
     "iopub.status.busy": "2022-04-04T11:52:58.921526Z",
     "iopub.status.idle": "2022-04-04T11:52:58.931378Z",
     "shell.execute_reply": "2022-04-04T11:52:58.930910Z",
     "shell.execute_reply.started": "2022-04-01T10:32:43.771273Z"
    },
    "papermill": {
     "duration": 12.561162,
     "end_time": "2022-04-04T11:52:58.931504",
     "exception": false,
     "start_time": "2022-04-04T11:52:46.370342",
     "status": "completed"
    },
    "tags": []
   },
   "outputs": [],
   "source": [
    "MCC = matthews_corrcoef(y_truebin, y_predbin) # Matthews Correlation Coefficient"
   ]
  },
  {
   "cell_type": "code",
   "execution_count": 50,
   "id": "768079af",
   "metadata": {
    "execution": {
     "iopub.execute_input": "2022-04-04T11:53:22.824367Z",
     "iopub.status.busy": "2022-04-04T11:53:22.822527Z",
     "iopub.status.idle": "2022-04-04T11:53:22.826523Z",
     "shell.execute_reply": "2022-04-04T11:53:22.826055Z",
     "shell.execute_reply.started": "2022-04-01T10:32:43.773233Z"
    },
    "papermill": {
     "duration": 11.750213,
     "end_time": "2022-04-04T11:53:22.826655",
     "exception": false,
     "start_time": "2022-04-04T11:53:11.076442",
     "status": "completed"
    },
    "scrolled": true,
    "tags": []
   },
   "outputs": [
    {
     "name": "stdout",
     "output_type": "stream",
     "text": [
      "+------------------------------------------------+\n",
      "|            Performance of DenseNet             |\n",
      "+----------------------------------+-------------+\n",
      "| Metric                           | Performance |\n",
      "+----------------------------------+-------------+\n",
      "| True Positive Rate               | 0.9921      |\n",
      "| Accuracy                         | 0.9932      |\n",
      "| F1 Score                         | 0.9935      |\n",
      "| Matthews Correlation Coefficient | 0.9864      |\n",
      "+----------------------------------+-------------+\n"
     ]
    }
   ],
   "source": [
    "t = PrettyTable(['Metric', 'Performance'])\n",
    "t.add_row(['True Positive Rate', round(TPR,4)])\n",
    "t.add_row(['Accuracy', round(ACC,4)])\n",
    "t.add_row(['F1 Score', round(F1,4)])\n",
    "t.add_row(['Matthews Correlation Coefficient', round(MCC,4)])\n",
    "t.header = True\n",
    "t.align = \"l\"\n",
    "t.title = \"Performance of DenseNet\"\n",
    "print(t)"
   ]
  },
  {
   "cell_type": "code",
   "execution_count": 51,
   "id": "59314275",
   "metadata": {
    "execution": {
     "iopub.execute_input": "2022-04-04T11:53:47.470405Z",
     "iopub.status.busy": "2022-04-04T11:53:47.469722Z",
     "iopub.status.idle": "2022-04-04T11:53:47.472708Z",
     "shell.execute_reply": "2022-04-04T11:53:47.472271Z",
     "shell.execute_reply.started": "2022-04-01T10:32:43.775179Z"
    },
    "papermill": {
     "duration": 12.118184,
     "end_time": "2022-04-04T11:53:47.472834",
     "exception": false,
     "start_time": "2022-04-04T11:53:35.354650",
     "status": "completed"
    },
    "tags": []
   },
   "outputs": [],
   "source": [
    "# Saving PrettyTable\n",
    "table = t.get_string()\n",
    "\n",
    "if cenv == 0:\n",
    "    with open('bin_performance_table.txt', 'w') as f:\n",
    "        f.write(table)\n",
    "if cenv == 1:\n",
    "    with open(f'{new_dir}/bin_performance_table.txt', 'w') as f:\n",
    "        f.write(table)"
   ]
  }
 ],
 "metadata": {
  "kernelspec": {
   "display_name": "Python 3",
   "language": "python",
   "name": "python3"
  },
  "language_info": {
   "codemirror_mode": {
    "name": "ipython",
    "version": 3
   },
   "file_extension": ".py",
   "mimetype": "text/x-python",
   "name": "python",
   "nbconvert_exporter": "python",
   "pygments_lexer": "ipython3",
   "version": "3.7.12"
  },
  "papermill": {
   "default_parameters": {},
   "duration": 5181.311379,
   "end_time": "2022-04-04T11:54:02.961649",
   "environment_variables": {},
   "exception": null,
   "input_path": "__notebook__.ipynb",
   "output_path": "__notebook__.ipynb",
   "parameters": {},
   "start_time": "2022-04-04T10:27:41.650270",
   "version": "2.3.3"
  }
 },
 "nbformat": 4,
 "nbformat_minor": 5
}
