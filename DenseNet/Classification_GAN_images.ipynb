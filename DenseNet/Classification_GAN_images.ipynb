{
 "cells": [
  {
   "cell_type": "code",
   "execution_count": 258,
   "id": "c1469018",
   "metadata": {},
   "outputs": [],
   "source": [
    "from keras.models import load_model\n",
    "import tensorflow as tf\n",
    "import os\n",
    "from keras.preprocessing import image\n",
    "import numpy as np\n",
    "import pandas as pd\n",
    "import matplotlib.pyplot as plt"
   ]
  },
  {
   "cell_type": "code",
   "execution_count": 233,
   "id": "1e538f14",
   "metadata": {},
   "outputs": [],
   "source": [
    "model_dir = \"C:/Users/Max/Documents/GitHub/ResNet/ResNet-kaggle-v003/model.h5\"\n",
    "\n",
    "model = load_model(model_dir)\n",
    "model.compile(optimizer='adam', loss='losses.sparse_categorical_crossentropy', metrics=['accuracy'])"
   ]
  },
  {
   "cell_type": "code",
   "execution_count": 330,
   "id": "cd6cb426",
   "metadata": {},
   "outputs": [
    {
     "name": "stdout",
     "output_type": "stream",
     "text": [
      "ResNet-kaggle-v003\n",
      "ResNet\n"
     ]
    }
   ],
   "source": [
    "index_1 = model_dir.find('/', 30) + 1\n",
    "index_2 = model_dir.find('/', index_1)\n",
    "index_3 = model_dir.find('-', index_1)\n",
    "model_type = model_dir[index_1:index_2]\n",
    "trimmed_model_type = model_dir[index_1:index_3]\n",
    "\n",
    "print(model_type)\n",
    "print(trimmed_model_type)"
   ]
  },
  {
   "cell_type": "code",
   "execution_count": 234,
   "id": "2a497eff",
   "metadata": {},
   "outputs": [],
   "source": [
    "data_dir = \"C:/Users/Max/Documents/gan_images\""
   ]
  },
  {
   "cell_type": "code",
   "execution_count": 235,
   "id": "5798bf95",
   "metadata": {},
   "outputs": [],
   "source": [
    "ih, iw = 64, 64"
   ]
  },
  {
   "cell_type": "code",
   "execution_count": 295,
   "id": "67e278d5",
   "metadata": {},
   "outputs": [],
   "source": [
    "rw_imgs = np.array([])\n",
    "rw_family = np.array([])\n",
    "rw_labels = np.array([]).astype(\"int32\")\n",
    "\n",
    "b_imgs = np.array([])\n",
    "b_family = np.array([])\n",
    "b_labels = np.array([]).astype(\"int32\")\n",
    "\n",
    "imgs = np.array([])\n",
    "family = np.array([])\n",
    "labels = np.array([]).astype(\"int32\")\n",
    "\n",
    "i = 0"
   ]
  },
  {
   "cell_type": "code",
   "execution_count": 296,
   "id": "5841aa6e",
   "metadata": {
    "scrolled": true
   },
   "outputs": [
    {
     "name": "stdout",
     "output_type": "stream",
     "text": [
      "Progress: 0\n",
      "Progress: 1\n",
      "Progress: 2\n",
      "Progress: 3\n",
      "Progress: 4\n",
      "Progress: 5\n",
      "Progress: 6\n",
      "Progress: 7\n",
      "Progress: 8\n",
      "Progress: 9\n",
      "Progress: 10\n",
      "Progress: 11\n",
      "Progress: 12\n",
      "Progress: 13\n",
      "Progress: 14\n",
      "Progress: 15\n",
      "Progress: 16\n",
      "Progress: 17\n",
      "Progress: 18\n",
      "Progress: 19\n",
      "Progress: 20\n",
      "Progress: 21\n",
      "Progress: 22\n",
      "Progress: 23\n",
      "Progress: 24\n",
      "Progress: 25\n",
      "Progress: 26\n",
      "Progress: 27\n",
      "Progress: 28\n",
      "Progress: 29\n",
      "Progress: 30\n",
      "Progress: 31\n",
      "Progress: 32\n",
      "Progress: 33\n",
      "Progress: 34\n",
      "Progress: 35\n",
      "Progress: 36\n",
      "Progress: 37\n",
      "Progress: 38\n",
      "Progress: 39\n",
      "Progress: 40\n",
      "Progress: 41\n",
      "Progress: 42\n",
      "Progress: 43\n",
      "Progress: 44\n",
      "Progress: 45\n",
      "Progress: 46\n",
      "Progress: 47\n",
      "Progress: 48\n",
      "Progress: 49\n",
      "Progress: 50\n",
      "Progress: 51\n",
      "Progress: 52\n",
      "Progress: 53\n",
      "Progress: 54\n",
      "Progress: 55\n",
      "Progress: 56\n",
      "Progress: 57\n",
      "Progress: 58\n",
      "Progress: 59\n",
      "Progress: 60\n",
      "Progress: 61\n",
      "Progress: 62\n",
      "Progress: 63\n",
      "Progress: 64\n",
      "Progress: 65\n",
      "Progress: 66\n",
      "Progress: 67\n",
      "Progress: 68\n",
      "Progress: 69\n",
      "Progress: 70\n",
      "Progress: 71\n",
      "Progress: 72\n",
      "Progress: 73\n",
      "Progress: 74\n",
      "Progress: 75\n",
      "Progress: 76\n",
      "Progress: 77\n",
      "Progress: 78\n",
      "Progress: 79\n",
      "Progress: 80\n",
      "Progress: 81\n",
      "Progress: 82\n",
      "Progress: 83\n",
      "Progress: 84\n",
      "Progress: 85\n",
      "Progress: 86\n",
      "Progress: 87\n",
      "Progress: 88\n",
      "Progress: 89\n",
      "Progress: 90\n",
      "Progress: 91\n",
      "Progress: 92\n",
      "Progress: 93\n",
      "Progress: 94\n",
      "Progress: 95\n",
      "Progress: 96\n"
     ]
    }
   ],
   "source": [
    "for i, file in enumerate(os.listdir(data_dir)):\n",
    "    path = f\"{data_dir}/{file}\"\n",
    "    img = image.load_img(f'{data_dir}/{file}', target_size=(iw,ih))\n",
    "    x = image.img_to_array(img)\n",
    "    x = np.expand_dims(x, axis = 0)\n",
    "    \n",
    "    images = np.vstack([x])\n",
    "    p = model.predict(images)\n",
    "    \n",
    "    print(f\"Progress: {i}\")\n",
    "    \n",
    "    imgs = np.append(imgs, path)\n",
    "    labels = np.append(labels, q)\n",
    "\n",
    "    if np.any(p>0.5):\n",
    "        q = p.argmax()\n",
    "        q = int(q)\n",
    "        if not q == 10:\n",
    "            rw_imgs = np.append(rw_imgs, path)\n",
    "            rw_labels = np.append(rw_labels, q)\n",
    "        if q == 10:\n",
    "            b_imgs = np.append(b_imgs, path)\n",
    "            b_labels = np.append(b_labels, q)\n",
    "        \n",
    "imgs_labels = pd.DataFrame({'file': imgs, 'label': labels}, columns=['file', 'label'])"
   ]
  },
  {
   "cell_type": "code",
   "execution_count": 303,
   "id": "baf2c730",
   "metadata": {},
   "outputs": [
    {
     "data": {
      "text/html": [
       "<div>\n",
       "<style scoped>\n",
       "    .dataframe tbody tr th:only-of-type {\n",
       "        vertical-align: middle;\n",
       "    }\n",
       "\n",
       "    .dataframe tbody tr th {\n",
       "        vertical-align: top;\n",
       "    }\n",
       "\n",
       "    .dataframe thead th {\n",
       "        text-align: right;\n",
       "    }\n",
       "</style>\n",
       "<table border=\"1\" class=\"dataframe\">\n",
       "  <thead>\n",
       "    <tr style=\"text-align: right;\">\n",
       "      <th></th>\n",
       "      <th>file</th>\n",
       "      <th>label</th>\n",
       "    </tr>\n",
       "  </thead>\n",
       "  <tbody>\n",
       "    <tr>\n",
       "      <th>0</th>\n",
       "      <td>C:/Users/Max/Documents/gan_images/generated_im...</td>\n",
       "      <td>10</td>\n",
       "    </tr>\n",
       "    <tr>\n",
       "      <th>1</th>\n",
       "      <td>C:/Users/Max/Documents/gan_images/generated_im...</td>\n",
       "      <td>10</td>\n",
       "    </tr>\n",
       "    <tr>\n",
       "      <th>2</th>\n",
       "      <td>C:/Users/Max/Documents/gan_images/generated_im...</td>\n",
       "      <td>10</td>\n",
       "    </tr>\n",
       "    <tr>\n",
       "      <th>3</th>\n",
       "      <td>C:/Users/Max/Documents/gan_images/generated_im...</td>\n",
       "      <td>10</td>\n",
       "    </tr>\n",
       "    <tr>\n",
       "      <th>4</th>\n",
       "      <td>C:/Users/Max/Documents/gan_images/generated_im...</td>\n",
       "      <td>0</td>\n",
       "    </tr>\n",
       "    <tr>\n",
       "      <th>...</th>\n",
       "      <td>...</td>\n",
       "      <td>...</td>\n",
       "    </tr>\n",
       "    <tr>\n",
       "      <th>92</th>\n",
       "      <td>C:/Users/Max/Documents/gan_images/generated_im...</td>\n",
       "      <td>10</td>\n",
       "    </tr>\n",
       "    <tr>\n",
       "      <th>93</th>\n",
       "      <td>C:/Users/Max/Documents/gan_images/generated_im...</td>\n",
       "      <td>10</td>\n",
       "    </tr>\n",
       "    <tr>\n",
       "      <th>94</th>\n",
       "      <td>C:/Users/Max/Documents/gan_images/generated_im...</td>\n",
       "      <td>10</td>\n",
       "    </tr>\n",
       "    <tr>\n",
       "      <th>95</th>\n",
       "      <td>C:/Users/Max/Documents/gan_images/generated_im...</td>\n",
       "      <td>10</td>\n",
       "    </tr>\n",
       "    <tr>\n",
       "      <th>96</th>\n",
       "      <td>C:/Users/Max/Documents/gan_images/generated_im...</td>\n",
       "      <td>10</td>\n",
       "    </tr>\n",
       "  </tbody>\n",
       "</table>\n",
       "<p>97 rows × 2 columns</p>\n",
       "</div>"
      ],
      "text/plain": [
       "                                                 file  label\n",
       "0   C:/Users/Max/Documents/gan_images/generated_im...     10\n",
       "1   C:/Users/Max/Documents/gan_images/generated_im...     10\n",
       "2   C:/Users/Max/Documents/gan_images/generated_im...     10\n",
       "3   C:/Users/Max/Documents/gan_images/generated_im...     10\n",
       "4   C:/Users/Max/Documents/gan_images/generated_im...      0\n",
       "..                                                ...    ...\n",
       "92  C:/Users/Max/Documents/gan_images/generated_im...     10\n",
       "93  C:/Users/Max/Documents/gan_images/generated_im...     10\n",
       "94  C:/Users/Max/Documents/gan_images/generated_im...     10\n",
       "95  C:/Users/Max/Documents/gan_images/generated_im...     10\n",
       "96  C:/Users/Max/Documents/gan_images/generated_im...     10\n",
       "\n",
       "[97 rows x 2 columns]"
      ]
     },
     "execution_count": 303,
     "metadata": {},
     "output_type": "execute_result"
    }
   ],
   "source": [
    "imgs_labels"
   ]
  },
  {
   "cell_type": "code",
   "execution_count": 321,
   "id": "3a220192",
   "metadata": {},
   "outputs": [
    {
     "ename": "TypeError",
     "evalue": "count() got an unexpected keyword argument 'normalize'",
     "output_type": "error",
     "traceback": [
      "\u001b[1;31m---------------------------------------------------------------------------\u001b[0m",
      "\u001b[1;31mTypeError\u001b[0m                                 Traceback (most recent call last)",
      "\u001b[1;32m~\\AppData\\Local\\Temp/ipykernel_15036/2804433130.py\u001b[0m in \u001b[0;36m<module>\u001b[1;34m\u001b[0m\n\u001b[1;32m----> 1\u001b[1;33m \u001b[0mdf\u001b[0m \u001b[1;33m=\u001b[0m \u001b[0mimgs_labels\u001b[0m\u001b[1;33m.\u001b[0m\u001b[0mgroupby\u001b[0m\u001b[1;33m(\u001b[0m\u001b[1;34m'label'\u001b[0m\u001b[1;33m)\u001b[0m\u001b[1;33m.\u001b[0m\u001b[0mcount\u001b[0m\u001b[1;33m(\u001b[0m\u001b[0mnormalize\u001b[0m \u001b[1;33m=\u001b[0m \u001b[1;32mTrue\u001b[0m\u001b[1;33m)\u001b[0m\u001b[1;33m\u001b[0m\u001b[1;33m\u001b[0m\u001b[0m\n\u001b[0m",
      "\u001b[1;31mTypeError\u001b[0m: count() got an unexpected keyword argument 'normalize'"
     ]
    }
   ],
   "source": [
    "df = imgs_labels.groupby('label').count()\n"
   ]
  },
  {
   "cell_type": "code",
   "execution_count": 328,
   "id": "88f9fc51",
   "metadata": {},
   "outputs": [],
   "source": [
    "df = imgs_labels['label'].value_counts(normalize=True, sort=False)"
   ]
  },
  {
   "cell_type": "code",
   "execution_count": 332,
   "id": "8f64edab",
   "metadata": {},
   "outputs": [
    {
     "data": {
      "text/plain": [
       "(0.0, 1.0)"
      ]
     },
     "execution_count": 332,
     "metadata": {},
     "output_type": "execute_result"
    },
    {
     "data": {
      "image/png": "[encoded data removed]",
      "text/plain": [
       "<Figure size 432x288 with 1 Axes>"
      ]
     },
     "metadata": {
      "needs_background": "light"
     },
     "output_type": "display_data"
    }
   ],
   "source": [
    "df.plot(kind = 'bar')\n",
    "plt.title(trimmed_model_type)\n",
    "plt.ylim([0,1])"
   ]
  },
  {
   "cell_type": "code",
   "execution_count": null,
   "id": "610d8c59",
   "metadata": {},
   "outputs": [],
   "source": []
  }
 ],
 "metadata": {
  "kernelspec": {
   "display_name": "Python 3",
   "language": "python",
   "name": "python3"
  },
  "language_info": {
   "codemirror_mode": {
    "name": "ipython",
    "version": 3
   },
   "file_extension": ".py",
   "mimetype": "text/x-python",
   "name": "python",
   "nbconvert_exporter": "python",
   "pygments_lexer": "ipython3",
   "version": "3.8.5"
  }
 },
 "nbformat": 4,
 "nbformat_minor": 5
}
