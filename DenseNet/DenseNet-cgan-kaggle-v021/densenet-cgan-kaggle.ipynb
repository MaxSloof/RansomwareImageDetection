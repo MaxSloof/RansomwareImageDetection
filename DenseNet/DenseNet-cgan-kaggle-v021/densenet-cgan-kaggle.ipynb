{
 "cells": [
  {
   "cell_type": "code",
   "execution_count": 1,
   "id": "f3d635be",
   "metadata": {
    "execution": {
     "iopub.execute_input": "2022-04-05T13:28:56.638633Z",
     "iopub.status.busy": "2022-04-05T13:28:56.636938Z",
     "iopub.status.idle": "2022-04-05T13:29:02.287421Z",
     "shell.execute_reply": "2022-04-05T13:29:02.286811Z",
     "shell.execute_reply.started": "2022-04-01T10:53:07.209899Z"
    },
    "id": "KXQu67zVoZAw",
    "papermill": {
     "duration": 5.710269,
     "end_time": "2022-04-05T13:29:02.287579",
     "exception": false,
     "start_time": "2022-04-05T13:28:56.577310",
     "status": "completed"
    },
    "tags": []
   },
   "outputs": [],
   "source": [
    "import tensorflow as tf\n",
    "import matplotlib.pyplot as plt\n",
    "from tensorflow.keras import datasets, layers, models, losses, Model\n",
    "from tensorflow.keras.models import load_model\n",
    "from tensorflow.keras.preprocessing.image import ImageDataGenerator\n",
    "from tensorflow.keras.callbacks import ModelCheckpoint, ReduceLROnPlateau\n",
    "from sklearn.model_selection import train_test_split\n",
    "import numpy as np\n",
    "import os\n",
    "import math"
   ]
  },
  {
   "cell_type": "code",
   "execution_count": 2,
   "id": "df8e50fb",
   "metadata": {
    "execution": {
     "iopub.execute_input": "2022-04-05T13:29:02.404193Z",
     "iopub.status.busy": "2022-04-05T13:29:02.403305Z",
     "iopub.status.idle": "2022-04-05T13:29:02.405162Z",
     "shell.execute_reply": "2022-04-05T13:29:02.405608Z",
     "shell.execute_reply.started": "2022-04-01T10:56:14.342814Z"
    },
    "papermill": {
     "duration": 0.062299,
     "end_time": "2022-04-05T13:29:02.405764",
     "exception": false,
     "start_time": "2022-04-05T13:29:02.343465",
     "status": "completed"
    },
    "tags": []
   },
   "outputs": [],
   "source": [
    "# Image size (height x width)\n",
    "ih = 64\n",
    "iw = 64\n",
    "\n",
    "# Grayscale or RGB\n",
    "ch = 'rgb'\n",
    "\n",
    "# Batch size \n",
    "batch_size = 64\n",
    "\n",
    "# Layer adapt\n",
    "ksize = 4 # Kernel size : was '4' for 64x64 image\n",
    "ssize = 2 # Stride size : was '2' for 64x64 image\n",
    "\n",
    "# Size of test set (in %)\n",
    "testsize = 0.3\n",
    "\n",
    "# Number of epochs in model\n",
    "epoch_t = 40\n",
    "\n",
    "# Where computation is performed: Kaggle (0) or Local (1)\n",
    "cenv = 0"
   ]
  },
  {
   "cell_type": "code",
   "execution_count": 3,
   "id": "8d5cf07c",
   "metadata": {
    "execution": {
     "iopub.execute_input": "2022-04-05T13:29:02.518787Z",
     "iopub.status.busy": "2022-04-05T13:29:02.518103Z",
     "iopub.status.idle": "2022-04-05T13:29:02.521280Z",
     "shell.execute_reply": "2022-04-05T13:29:02.521733Z",
     "shell.execute_reply.started": "2022-04-01T10:44:49.728585Z"
    },
    "papermill": {
     "duration": 0.061869,
     "end_time": "2022-04-05T13:29:02.521878",
     "exception": false,
     "start_time": "2022-04-05T13:29:02.460009",
     "status": "completed"
    },
    "scrolled": true,
    "tags": []
   },
   "outputs": [
    {
     "name": "stdout",
     "output_type": "stream",
     "text": [
      "Computation environment: Kaggle\n"
     ]
    }
   ],
   "source": [
    "if cenv == 0:\n",
    "    print(\"Computation environment: Kaggle\")\n",
    "if cenv == 1:\n",
    "    print(\"Computation environment: Local\")"
   ]
  },
  {
   "cell_type": "markdown",
   "id": "ab6ba26e",
   "metadata": {
    "papermill": {
     "duration": 0.054223,
     "end_time": "2022-04-05T13:29:02.632100",
     "exception": false,
     "start_time": "2022-04-05T13:29:02.577877",
     "status": "completed"
    },
    "tags": []
   },
   "source": [
    "**Create new directory for version**"
   ]
  },
  {
   "cell_type": "code",
   "execution_count": 4,
   "id": "c4175b17",
   "metadata": {
    "execution": {
     "iopub.execute_input": "2022-04-05T13:29:02.745223Z",
     "iopub.status.busy": "2022-04-05T13:29:02.744409Z",
     "iopub.status.idle": "2022-04-05T13:29:02.746408Z",
     "shell.execute_reply": "2022-04-05T13:29:02.746810Z",
     "shell.execute_reply.started": "2022-04-01T10:44:49.742532Z"
    },
    "papermill": {
     "duration": 0.062704,
     "end_time": "2022-04-05T13:29:02.746944",
     "exception": false,
     "start_time": "2022-04-05T13:29:02.684240",
     "status": "completed"
    },
    "tags": []
   },
   "outputs": [],
   "source": [
    "if cenv == 1:\n",
    "    file_exists = []\n",
    "    vnum = 1\n",
    "    dir = \"C:/Users/Max/Documents/GitHub/DenseNet\"\n",
    "    for files in os.listdir(dir):\n",
    "        if \"DenseNet\" in files: \n",
    "            try:\n",
    "                vnum = max(vnum, int(files[-3:]))\n",
    "            except: \n",
    "                continue\n",
    "            new_vnum = vnum + 1\n",
    "            file_exists.append(True)\n",
    "        else: \n",
    "            file_exists.append(False)\n",
    "    # If this is the first notebook you want to save, a new folder will be created with version #001\n",
    "    if sum(file_exists) == 0:\n",
    "        new_vnum = 1\n",
    "        print(\"No matches found\")\n",
    "\n",
    "    else: \n",
    "        print(f\"{sum(file_exists)} matches(es) found\")\n",
    "        print(\"--------------\")\n",
    "\n",
    "    # Print new folder name\n",
    "    print(f\"New folder name: DenseNet-local-v{new_vnum:03}\")\n",
    "    print(\"--------------\")\n",
    "    \n",
    "    # Create new folder with the name of the notebook and the version number\n",
    "    new_dir = f\"/Users/Max/Documents/GitHub/DenseNet/DenseNet-local-v{new_vnum:03}\"\n",
    "    os.makedirs(new_dir)"
   ]
  },
  {
   "cell_type": "markdown",
   "id": "ea43a5e6",
   "metadata": {
    "papermill": {
     "duration": 0.052059,
     "end_time": "2022-04-05T13:29:02.852377",
     "exception": false,
     "start_time": "2022-04-05T13:29:02.800318",
     "status": "completed"
    },
    "tags": []
   },
   "source": [
    "# Data"
   ]
  },
  {
   "cell_type": "code",
   "execution_count": 5,
   "id": "a81af471",
   "metadata": {
    "execution": {
     "iopub.execute_input": "2022-04-05T13:29:02.963701Z",
     "iopub.status.busy": "2022-04-05T13:29:02.962842Z",
     "iopub.status.idle": "2022-04-05T13:29:02.964559Z",
     "shell.execute_reply": "2022-04-05T13:29:02.965072Z",
     "shell.execute_reply.started": "2022-04-01T10:44:49.753836Z"
    },
    "papermill": {
     "duration": 0.059468,
     "end_time": "2022-04-05T13:29:02.965203",
     "exception": false,
     "start_time": "2022-04-05T13:29:02.905735",
     "status": "completed"
    },
    "scrolled": true,
    "tags": []
   },
   "outputs": [],
   "source": [
    "if cenv == 0:\n",
    "    path_root = \"/kaggle/input/thesis-data\"\n",
    "    path_gen_images = \"/kaggle/input//cganlocalv007/cgan-local-v007\"\n",
    "    \n",
    "    # Directory where checkpoints of DCGAN are stored\n",
    "    checkpoint_dir = \"/kaggle/input/checkpoints\" \n",
    "\n",
    "if cenv == 1:\n",
    "    path_root = \"C:/Users/Max/Documents/thesis_data\"\n",
    "    path_gen_images = \"C:/Users/Max/Documents/image_data/cgan-local-v005\"\n",
    "    \n",
    "    # Directory where checkpoints of DCGAN are stored\n",
    "    checkpoint_dir = 'C:/Users/Max/Documents/GitHub/dcgan_kaggle_output/dcgan-kaggle-v002/checkpoints'\n",
    "    "
   ]
  },
  {
   "cell_type": "code",
   "execution_count": 6,
   "id": "7a3cf1c6",
   "metadata": {
    "execution": {
     "iopub.execute_input": "2022-04-05T13:29:03.074406Z",
     "iopub.status.busy": "2022-04-05T13:29:03.073581Z",
     "iopub.status.idle": "2022-04-05T13:29:03.078129Z",
     "shell.execute_reply": "2022-04-05T13:29:03.077720Z",
     "shell.execute_reply.started": "2022-04-01T10:44:49.762091Z"
    },
    "papermill": {
     "duration": 0.059662,
     "end_time": "2022-04-05T13:29:03.078246",
     "exception": false,
     "start_time": "2022-04-05T13:29:03.018584",
     "status": "completed"
    },
    "tags": []
   },
   "outputs": [],
   "source": [
    "im_si = (ih, iw)\n",
    "\n",
    "if(ch == 'rgb'):\n",
    "    chnum = 3\n",
    "elif(ch == 'grayscale'):\n",
    "    chnum = 1"
   ]
  },
  {
   "cell_type": "code",
   "execution_count": 7,
   "id": "5911be71",
   "metadata": {
    "execution": {
     "iopub.execute_input": "2022-04-05T13:29:03.189745Z",
     "iopub.status.busy": "2022-04-05T13:29:03.189056Z",
     "iopub.status.idle": "2022-04-05T13:31:57.957565Z",
     "shell.execute_reply": "2022-04-05T13:31:57.956715Z",
     "shell.execute_reply.started": "2022-04-01T10:44:49.770648Z"
    },
    "papermill": {
     "duration": 174.826578,
     "end_time": "2022-04-05T13:31:57.957737",
     "exception": false,
     "start_time": "2022-04-05T13:29:03.131159",
     "status": "completed"
    },
    "tags": []
   },
   "outputs": [
    {
     "name": "stdout",
     "output_type": "stream",
     "text": [
      "Found 26548 images belonging to 11 classes.\n"
     ]
    }
   ],
   "source": [
    "batches = ImageDataGenerator().flow_from_directory(\n",
    "    directory  = path_root, \n",
    "    color_mode = ch, \n",
    "    target_size= (ih,iw), \n",
    "    interpolation=\"bicubic\",\n",
    "    class_mode = 'sparse',\n",
    "    batch_size=40000\n",
    ")\n",
    "imgs, labels = next(batches)"
   ]
  },
  {
   "cell_type": "code",
   "execution_count": 8,
   "id": "bf1ba0bd",
   "metadata": {
    "execution": {
     "iopub.execute_input": "2022-04-05T13:31:58.079266Z",
     "iopub.status.busy": "2022-04-05T13:31:58.078578Z",
     "iopub.status.idle": "2022-04-05T13:37:44.494325Z",
     "shell.execute_reply": "2022-04-05T13:37:44.493826Z",
     "shell.execute_reply.started": "2022-04-01T10:46:41.022847Z"
    },
    "papermill": {
     "duration": 346.48309,
     "end_time": "2022-04-05T13:37:44.494463",
     "exception": false,
     "start_time": "2022-04-05T13:31:58.011373",
     "status": "completed"
    },
    "scrolled": true,
    "tags": []
   },
   "outputs": [
    {
     "name": "stdout",
     "output_type": "stream",
     "text": [
      "Found 100000 images belonging to 10 classes.\n"
     ]
    }
   ],
   "source": [
    "batches_gen = ImageDataGenerator().flow_from_directory(\n",
    "    directory  = path_gen_images, \n",
    "    color_mode = ch, \n",
    "    target_size= (ih,iw), \n",
    "    interpolation=\"bicubic\",\n",
    "    class_mode = 'sparse',\n",
    "    batch_size=40000\n",
    ")\n",
    "imgs_gen, labels_gen = next(batches_gen)"
   ]
  },
  {
   "cell_type": "code",
   "execution_count": 9,
   "id": "09a8dbe3",
   "metadata": {
    "execution": {
     "iopub.execute_input": "2022-04-05T13:37:44.606573Z",
     "iopub.status.busy": "2022-04-05T13:37:44.605725Z",
     "iopub.status.idle": "2022-04-05T13:37:44.615538Z",
     "shell.execute_reply": "2022-04-05T13:37:44.615990Z",
     "shell.execute_reply.started": "2022-04-01T10:50:21.576417Z"
    },
    "papermill": {
     "duration": 0.067619,
     "end_time": "2022-04-05T13:37:44.616131",
     "exception": false,
     "start_time": "2022-04-05T13:37:44.548512",
     "status": "completed"
    },
    "tags": []
   },
   "outputs": [
    {
     "data": {
      "text/plain": [
       "(array([0., 1., 2., 3., 4., 5., 6., 7., 8., 9.], dtype=float32),\n",
       " array([4022, 3984, 4027, 3950, 3987, 4056, 3934, 3989, 4045, 4006]))"
      ]
     },
     "execution_count": 9,
     "metadata": {},
     "output_type": "execute_result"
    }
   ],
   "source": [
    "np.unique(labels_gen, return_counts=True)"
   ]
  },
  {
   "cell_type": "code",
   "execution_count": 10,
   "id": "2c7712df",
   "metadata": {
    "execution": {
     "iopub.execute_input": "2022-04-05T13:37:44.735924Z",
     "iopub.status.busy": "2022-04-05T13:37:44.735046Z",
     "iopub.status.idle": "2022-04-05T13:37:45.775219Z",
     "shell.execute_reply": "2022-04-05T13:37:45.774300Z",
     "shell.execute_reply.started": "2022-04-01T10:50:21.776028Z"
    },
    "papermill": {
     "duration": 1.102311,
     "end_time": "2022-04-05T13:37:45.775350",
     "exception": false,
     "start_time": "2022-04-05T13:37:44.673039",
     "status": "completed"
    },
    "tags": []
   },
   "outputs": [],
   "source": [
    "imgs = tf.keras.applications.densenet.preprocess_input(imgs)\n",
    "labels = np.array(labels)"
   ]
  },
  {
   "cell_type": "code",
   "execution_count": 11,
   "id": "b0c5856d",
   "metadata": {
    "execution": {
     "iopub.execute_input": "2022-04-05T13:37:45.890699Z",
     "iopub.status.busy": "2022-04-05T13:37:45.889803Z",
     "iopub.status.idle": "2022-04-05T13:37:47.475721Z",
     "shell.execute_reply": "2022-04-05T13:37:47.476873Z",
     "shell.execute_reply.started": "2022-04-01T10:50:22.227661Z"
    },
    "papermill": {
     "duration": 1.648558,
     "end_time": "2022-04-05T13:37:47.477456",
     "exception": false,
     "start_time": "2022-04-05T13:37:45.828898",
     "status": "completed"
    },
    "tags": []
   },
   "outputs": [],
   "source": [
    "imgs_gen = tf.keras.applications.densenet.preprocess_input(imgs_gen)\n",
    "labels_gen = np.array(labels_gen)"
   ]
  },
  {
   "cell_type": "code",
   "execution_count": 12,
   "id": "b4e443a9",
   "metadata": {
    "execution": {
     "iopub.execute_input": "2022-04-05T13:37:47.673586Z",
     "iopub.status.busy": "2022-04-05T13:37:47.672793Z",
     "iopub.status.idle": "2022-04-05T13:37:48.203119Z",
     "shell.execute_reply": "2022-04-05T13:37:48.202522Z",
     "shell.execute_reply.started": "2022-04-01T11:03:50.048279Z"
    },
    "papermill": {
     "duration": 0.627446,
     "end_time": "2022-04-05T13:37:48.203260",
     "exception": false,
     "start_time": "2022-04-05T13:37:47.575814",
     "status": "completed"
    },
    "tags": []
   },
   "outputs": [],
   "source": [
    "X_train, X_test, y_train, y_test = train_test_split(imgs, labels, test_size=testsize)\n",
    "\n",
    "X_test, X_val, y_test, y_val =  train_test_split(X_test, y_test, test_size=0.5)"
   ]
  },
  {
   "cell_type": "code",
   "execution_count": 13,
   "id": "4bb373cf",
   "metadata": {
    "execution": {
     "iopub.execute_input": "2022-04-05T13:37:48.330148Z",
     "iopub.status.busy": "2022-04-05T13:37:48.327976Z",
     "iopub.status.idle": "2022-04-05T13:37:49.358490Z",
     "shell.execute_reply": "2022-04-05T13:37:49.358012Z",
     "shell.execute_reply.started": "2022-04-01T11:03:51.046232Z"
    },
    "papermill": {
     "duration": 1.094438,
     "end_time": "2022-04-05T13:37:49.358624",
     "exception": false,
     "start_time": "2022-04-05T13:37:48.264186",
     "status": "completed"
    },
    "tags": []
   },
   "outputs": [],
   "source": [
    "X_train = np.concatenate((X_train, imgs_gen), axis = 0)"
   ]
  },
  {
   "cell_type": "code",
   "execution_count": 14,
   "id": "39e41891",
   "metadata": {
    "execution": {
     "iopub.execute_input": "2022-04-05T13:37:49.470499Z",
     "iopub.status.busy": "2022-04-05T13:37:49.469680Z",
     "iopub.status.idle": "2022-04-05T13:37:49.472064Z",
     "shell.execute_reply": "2022-04-05T13:37:49.471630Z",
     "shell.execute_reply.started": "2022-04-01T11:03:54.631929Z"
    },
    "papermill": {
     "duration": 0.059623,
     "end_time": "2022-04-05T13:37:49.472177",
     "exception": false,
     "start_time": "2022-04-05T13:37:49.412554",
     "status": "completed"
    },
    "tags": []
   },
   "outputs": [],
   "source": [
    "y_train = np.concatenate((y_train, labels_gen), axis = 0)"
   ]
  },
  {
   "cell_type": "code",
   "execution_count": 15,
   "id": "dea4f7d2",
   "metadata": {
    "execution": {
     "iopub.execute_input": "2022-04-05T13:37:49.585300Z",
     "iopub.status.busy": "2022-04-05T13:37:49.584686Z",
     "iopub.status.idle": "2022-04-05T13:37:49.591104Z",
     "shell.execute_reply": "2022-04-05T13:37:49.590489Z",
     "shell.execute_reply.started": "2022-04-01T11:04:14.337645Z"
    },
    "papermill": {
     "duration": 0.065638,
     "end_time": "2022-04-05T13:37:49.591252",
     "exception": false,
     "start_time": "2022-04-05T13:37:49.525614",
     "status": "completed"
    },
    "scrolled": true,
    "tags": []
   },
   "outputs": [
    {
     "name": "stdout",
     "output_type": "stream",
     "text": [
      "Size of training data: 58583 | Shape of training data (58583, 64, 64, 3)\n",
      "Size of test data: 3982  | Shape of test data (3982, 64, 64, 3)\n",
      "Size of training data: 3983  | Shape of training data (3983, 64, 64, 3)\n",
      "Shape of training labels (58583,)\n",
      "Shape of training labels (3982,)\n"
     ]
    }
   ],
   "source": [
    "X_train_size = len(X_train)\n",
    "X_test_size = len(X_test)\n",
    "X_val_size = len(X_val)\n",
    "\n",
    "print(f\"Size of training data: {X_train_size} | Shape of training data {X_train.shape}\")\n",
    "print(f\"Size of test data: {X_test_size}  | Shape of test data {X_test.shape}\")\n",
    "print(f\"Size of training data: {X_val_size}  | Shape of training data {X_val.shape}\")\n",
    "print(f\"Shape of training labels {y_train.shape}\")\n",
    "print(f\"Shape of training labels {y_test.shape}\")"
   ]
  },
  {
   "cell_type": "code",
   "execution_count": 16,
   "id": "8e15ebd3",
   "metadata": {
    "execution": {
     "iopub.execute_input": "2022-04-05T13:37:49.704994Z",
     "iopub.status.busy": "2022-04-05T13:37:49.704365Z",
     "iopub.status.idle": "2022-04-05T13:37:49.707087Z",
     "shell.execute_reply": "2022-04-05T13:37:49.707477Z"
    },
    "papermill": {
     "duration": 0.062058,
     "end_time": "2022-04-05T13:37:49.707608",
     "exception": false,
     "start_time": "2022-04-05T13:37:49.645550",
     "status": "completed"
    },
    "tags": []
   },
   "outputs": [
    {
     "data": {
      "text/plain": [
       "40000"
      ]
     },
     "execution_count": 16,
     "metadata": {},
     "output_type": "execute_result"
    }
   ],
   "source": [
    "len(labels_gen)"
   ]
  },
  {
   "cell_type": "code",
   "execution_count": 17,
   "id": "04db962b",
   "metadata": {
    "execution": {
     "iopub.execute_input": "2022-04-05T13:37:49.820934Z",
     "iopub.status.busy": "2022-04-05T13:37:49.820194Z",
     "iopub.status.idle": "2022-04-05T13:37:49.823440Z",
     "shell.execute_reply": "2022-04-05T13:37:49.823045Z",
     "shell.execute_reply.started": "2022-04-01T11:00:29.308582Z"
    },
    "papermill": {
     "duration": 0.062149,
     "end_time": "2022-04-05T13:37:49.823552",
     "exception": false,
     "start_time": "2022-04-05T13:37:49.761403",
     "status": "completed"
    },
    "tags": []
   },
   "outputs": [],
   "source": [
    "sample_weights1 = np.full(math.floor(len(labels)*(1-testsize)), 1)\n",
    "sample_weights2 = np.full(len(labels_gen), 0.4)\n",
    "sample_weights = np.concatenate((sample_weights1, sample_weights2))"
   ]
  },
  {
   "cell_type": "code",
   "execution_count": 18,
   "id": "60af05a1",
   "metadata": {
    "execution": {
     "iopub.execute_input": "2022-04-05T13:37:49.942363Z",
     "iopub.status.busy": "2022-04-05T13:37:49.941732Z",
     "iopub.status.idle": "2022-04-05T13:37:49.944430Z",
     "shell.execute_reply": "2022-04-05T13:37:49.944839Z",
     "shell.execute_reply.started": "2022-04-01T11:00:30.083466Z"
    },
    "papermill": {
     "duration": 0.066785,
     "end_time": "2022-04-05T13:37:49.944988",
     "exception": false,
     "start_time": "2022-04-05T13:37:49.878203",
     "status": "completed"
    },
    "tags": []
   },
   "outputs": [
    {
     "data": {
      "text/plain": [
       "array([1. , 1. , 1. , ..., 0.4, 0.4, 0.4])"
      ]
     },
     "execution_count": 18,
     "metadata": {},
     "output_type": "execute_result"
    }
   ],
   "source": [
    "sample_weights"
   ]
  },
  {
   "cell_type": "markdown",
   "id": "9b4aec4a",
   "metadata": {
    "papermill": {
     "duration": 0.054451,
     "end_time": "2022-04-05T13:37:50.053826",
     "exception": false,
     "start_time": "2022-04-05T13:37:49.999375",
     "status": "completed"
    },
    "tags": []
   },
   "source": [
    "# DenseNet"
   ]
  },
  {
   "cell_type": "code",
   "execution_count": 19,
   "id": "40245fa7",
   "metadata": {
    "execution": {
     "iopub.execute_input": "2022-04-05T13:37:50.172309Z",
     "iopub.status.busy": "2022-04-05T13:37:50.171399Z",
     "iopub.status.idle": "2022-04-05T13:37:55.491599Z",
     "shell.execute_reply": "2022-04-05T13:37:55.490701Z",
     "shell.execute_reply.started": "2022-04-01T11:01:21.765567Z"
    },
    "id": "d2mRBkTBoig8",
    "outputId": "7aeee00a-bdff-41db-8473-6e04850605b5",
    "papermill": {
     "duration": 5.381987,
     "end_time": "2022-04-05T13:37:55.491782",
     "exception": false,
     "start_time": "2022-04-05T13:37:50.109795",
     "status": "completed"
    },
    "tags": []
   },
   "outputs": [
    {
     "name": "stderr",
     "output_type": "stream",
     "text": [
      "2022-04-05 13:37:50.270612: I tensorflow/stream_executor/cuda/cuda_gpu_executor.cc:937] successful NUMA node read from SysFS had negative value (-1), but there must be at least one NUMA node, so returning NUMA node zero\n",
      "2022-04-05 13:37:50.363265: I tensorflow/stream_executor/cuda/cuda_gpu_executor.cc:937] successful NUMA node read from SysFS had negative value (-1), but there must be at least one NUMA node, so returning NUMA node zero\n",
      "2022-04-05 13:37:50.364026: I tensorflow/stream_executor/cuda/cuda_gpu_executor.cc:937] successful NUMA node read from SysFS had negative value (-1), but there must be at least one NUMA node, so returning NUMA node zero\n",
      "2022-04-05 13:37:50.365199: I tensorflow/core/platform/cpu_feature_guard.cc:142] This TensorFlow binary is optimized with oneAPI Deep Neural Network Library (oneDNN) to use the following CPU instructions in performance-critical operations:  AVX2 AVX512F FMA\n",
      "To enable them in other operations, rebuild TensorFlow with the appropriate compiler flags.\n",
      "2022-04-05 13:37:50.366236: I tensorflow/stream_executor/cuda/cuda_gpu_executor.cc:937] successful NUMA node read from SysFS had negative value (-1), but there must be at least one NUMA node, so returning NUMA node zero\n",
      "2022-04-05 13:37:50.366979: I tensorflow/stream_executor/cuda/cuda_gpu_executor.cc:937] successful NUMA node read from SysFS had negative value (-1), but there must be at least one NUMA node, so returning NUMA node zero\n",
      "2022-04-05 13:37:50.367631: I tensorflow/stream_executor/cuda/cuda_gpu_executor.cc:937] successful NUMA node read from SysFS had negative value (-1), but there must be at least one NUMA node, so returning NUMA node zero\n",
      "2022-04-05 13:37:52.218275: I tensorflow/stream_executor/cuda/cuda_gpu_executor.cc:937] successful NUMA node read from SysFS had negative value (-1), but there must be at least one NUMA node, so returning NUMA node zero\n",
      "2022-04-05 13:37:52.219123: I tensorflow/stream_executor/cuda/cuda_gpu_executor.cc:937] successful NUMA node read from SysFS had negative value (-1), but there must be at least one NUMA node, so returning NUMA node zero\n",
      "2022-04-05 13:37:52.219813: I tensorflow/stream_executor/cuda/cuda_gpu_executor.cc:937] successful NUMA node read from SysFS had negative value (-1), but there must be at least one NUMA node, so returning NUMA node zero\n",
      "2022-04-05 13:37:52.220465: I tensorflow/core/common_runtime/gpu/gpu_device.cc:1510] Created device /job:localhost/replica:0/task:0/device:GPU:0 with 15403 MB memory:  -> device: 0, name: Tesla P100-PCIE-16GB, pci bus id: 0000:00:04.0, compute capability: 6.0\n"
     ]
    },
    {
     "name": "stdout",
     "output_type": "stream",
     "text": [
      "Downloading data from https://storage.googleapis.com/tensorflow/keras-applications/densenet/densenet121_weights_tf_dim_ordering_tf_kernels_notop.h5\n",
      "29089792/29084464 [==============================] - 0s 0us/step\n",
      "29097984/29084464 [==============================] - 0s 0us/step\n"
     ]
    }
   ],
   "source": [
    "base_model = tf.keras.applications.DenseNet121(weights = 'imagenet', include_top = False, input_shape = (64,64,3))"
   ]
  },
  {
   "cell_type": "code",
   "execution_count": 20,
   "id": "a36d2e50",
   "metadata": {
    "execution": {
     "iopub.execute_input": "2022-04-05T13:37:55.613586Z",
     "iopub.status.busy": "2022-04-05T13:37:55.611453Z",
     "iopub.status.idle": "2022-04-05T13:37:55.630849Z",
     "shell.execute_reply": "2022-04-05T13:37:55.631518Z",
     "shell.execute_reply.started": "2022-04-01T11:01:30.752394Z"
    },
    "id": "rWSL-tt4qBRa",
    "papermill": {
     "duration": 0.082647,
     "end_time": "2022-04-05T13:37:55.631688",
     "exception": false,
     "start_time": "2022-04-05T13:37:55.549041",
     "status": "completed"
    },
    "tags": []
   },
   "outputs": [],
   "source": [
    "x = layers.Flatten()(base_model.output)\n",
    "x = layers.Dense(1000, activation='relu')(x)\n",
    "predictions = layers.Dense(11, activation = 'softmax')(x)"
   ]
  },
  {
   "cell_type": "code",
   "execution_count": 21,
   "id": "436f1cce",
   "metadata": {
    "execution": {
     "iopub.execute_input": "2022-04-05T13:37:55.757558Z",
     "iopub.status.busy": "2022-04-05T13:37:55.752757Z",
     "iopub.status.idle": "2022-04-05T13:37:55.791169Z",
     "shell.execute_reply": "2022-04-05T13:37:55.790742Z",
     "shell.execute_reply.started": "2022-04-01T11:01:30.777406Z"
    },
    "id": "s1sYr8cIt0nY",
    "papermill": {
     "duration": 0.101865,
     "end_time": "2022-04-05T13:37:55.791286",
     "exception": false,
     "start_time": "2022-04-05T13:37:55.689421",
     "status": "completed"
    },
    "tags": []
   },
   "outputs": [],
   "source": [
    "head_model = Model(inputs = base_model.input, outputs = predictions)\n",
    "head_model.compile(optimizer='adam', loss=losses.sparse_categorical_crossentropy, metrics=['accuracy'])"
   ]
  },
  {
   "cell_type": "code",
   "execution_count": 22,
   "id": "66b1daad",
   "metadata": {
    "execution": {
     "iopub.execute_input": "2022-04-05T13:37:55.925447Z",
     "iopub.status.busy": "2022-04-05T13:37:55.924572Z",
     "iopub.status.idle": "2022-04-05T13:37:55.926417Z",
     "shell.execute_reply": "2022-04-05T13:37:55.926948Z"
    },
    "papermill": {
     "duration": 0.0779,
     "end_time": "2022-04-05T13:37:55.927093",
     "exception": false,
     "start_time": "2022-04-05T13:37:55.849193",
     "status": "completed"
    },
    "tags": []
   },
   "outputs": [],
   "source": [
    "for layer in head_model.layers[:-8]:\n",
    "    layer.trainable=False\n",
    "    \n",
    "for layer in head_model.layers[-8:]:\n",
    "    layer.trainable=True"
   ]
  },
  {
   "cell_type": "markdown",
   "id": "3c3a5470",
   "metadata": {
    "papermill": {
     "duration": 0.057172,
     "end_time": "2022-04-05T13:37:56.042224",
     "exception": false,
     "start_time": "2022-04-05T13:37:55.985052",
     "status": "completed"
    },
    "tags": []
   },
   "source": [
    "Callbacks"
   ]
  },
  {
   "cell_type": "code",
   "execution_count": 23,
   "id": "fc39248e",
   "metadata": {
    "execution": {
     "iopub.execute_input": "2022-04-05T13:37:56.164349Z",
     "iopub.status.busy": "2022-04-05T13:37:56.163693Z",
     "iopub.status.idle": "2022-04-05T13:37:56.166407Z",
     "shell.execute_reply": "2022-04-05T13:37:56.166871Z",
     "shell.execute_reply.started": "2022-04-01T11:04:45.60567Z"
    },
    "papermill": {
     "duration": 0.066175,
     "end_time": "2022-04-05T13:37:56.167010",
     "exception": false,
     "start_time": "2022-04-05T13:37:56.100835",
     "status": "completed"
    },
    "tags": []
   },
   "outputs": [],
   "source": [
    "anne = ReduceLROnPlateau(monitor='val_accuracy', factor=0.5, patience=5, verbose=1, min_lr=1e-4)\n",
    "if cenv == 0:\n",
    "    checkpoint = ModelCheckpoint('model.h5', verbose=1, save_best_only=True)\n",
    "if cenv == 1:\n",
    "    checkpoint = ModelCheckpoint(f'{new_dir}/model.h5', verbose=1, save_best_only=True)\n"
   ]
  },
  {
   "cell_type": "code",
   "execution_count": 24,
   "id": "e13dda0f",
   "metadata": {
    "execution": {
     "iopub.execute_input": "2022-04-05T13:37:56.309993Z",
     "iopub.status.busy": "2022-04-05T13:37:56.294825Z",
     "iopub.status.idle": "2022-04-05T14:28:42.019769Z",
     "shell.execute_reply": "2022-04-05T14:28:42.020223Z",
     "shell.execute_reply.started": "2022-04-01T11:04:33.854385Z"
    },
    "papermill": {
     "duration": 3045.796172,
     "end_time": "2022-04-05T14:28:42.020408",
     "exception": false,
     "start_time": "2022-04-05T13:37:56.224236",
     "status": "completed"
    },
    "tags": []
   },
   "outputs": [
    {
     "name": "stderr",
     "output_type": "stream",
     "text": [
      "2022-04-05 13:37:56.317288: W tensorflow/core/framework/cpu_allocator_impl.cc:80] Allocation of 2879471616 exceeds 10% of free system memory.\n",
      "2022-04-05 13:38:08.403225: W tensorflow/core/framework/cpu_allocator_impl.cc:80] Allocation of 2879471616 exceeds 10% of free system memory.\n",
      "2022-04-05 13:38:10.637133: I tensorflow/compiler/mlir/mlir_graph_optimization_pass.cc:185] None of the MLIR Optimization Passes are enabled (registered 2)\n"
     ]
    },
    {
     "name": "stdout",
     "output_type": "stream",
     "text": [
      "Epoch 1/40\n"
     ]
    },
    {
     "name": "stderr",
     "output_type": "stream",
     "text": [
      "2022-04-05 13:38:21.195391: I tensorflow/stream_executor/cuda/cuda_dnn.cc:369] Loaded cuDNN version 8005\n"
     ]
    },
    {
     "name": "stdout",
     "output_type": "stream",
     "text": [
      "916/916 [==============================] - 91s 81ms/step - loss: 0.1287 - accuracy: 0.9610 - val_loss: 0.8137 - val_accuracy: 0.8511\n",
      "\n",
      "Epoch 00001: val_loss improved from inf to 0.81371, saving model to model.h5\n",
      "Epoch 2/40\n",
      "916/916 [==============================] - 71s 77ms/step - loss: 0.1091 - accuracy: 0.9726 - val_loss: 1.2330 - val_accuracy: 0.8350\n",
      "\n",
      "Epoch 00002: val_loss did not improve from 0.81371\n",
      "Epoch 3/40\n",
      "916/916 [==============================] - 72s 78ms/step - loss: 0.1548 - accuracy: 0.9635 - val_loss: 0.1925 - val_accuracy: 0.9400\n",
      "\n",
      "Epoch 00003: val_loss improved from 0.81371 to 0.19252, saving model to model.h5\n",
      "Epoch 4/40\n",
      "916/916 [==============================] - 72s 78ms/step - loss: 0.0933 - accuracy: 0.9736 - val_loss: 33.8405 - val_accuracy: 0.8353\n",
      "\n",
      "Epoch 00004: val_loss did not improve from 0.19252\n",
      "Epoch 5/40\n",
      "916/916 [==============================] - 71s 78ms/step - loss: 0.0715 - accuracy: 0.9765 - val_loss: 0.1597 - val_accuracy: 0.9505\n",
      "\n",
      "Epoch 00005: val_loss improved from 0.19252 to 0.15968, saving model to model.h5\n",
      "Epoch 6/40\n",
      "916/916 [==============================] - 72s 79ms/step - loss: 0.0544 - accuracy: 0.9821 - val_loss: 0.1755 - val_accuracy: 0.9525\n",
      "\n",
      "Epoch 00006: val_loss did not improve from 0.15968\n",
      "Epoch 7/40\n",
      "916/916 [==============================] - 73s 80ms/step - loss: 0.0528 - accuracy: 0.9821 - val_loss: 0.1463 - val_accuracy: 0.9563\n",
      "\n",
      "Epoch 00007: val_loss improved from 0.15968 to 0.14633, saving model to model.h5\n",
      "Epoch 8/40\n",
      "916/916 [==============================] - 73s 80ms/step - loss: 0.0515 - accuracy: 0.9829 - val_loss: 0.1487 - val_accuracy: 0.9543\n",
      "\n",
      "Epoch 00008: val_loss did not improve from 0.14633\n",
      "Epoch 9/40\n",
      "916/916 [==============================] - 73s 79ms/step - loss: 0.0449 - accuracy: 0.9852 - val_loss: 0.1720 - val_accuracy: 0.9508\n",
      "\n",
      "Epoch 00009: val_loss did not improve from 0.14633\n",
      "Epoch 10/40\n",
      "916/916 [==============================] - 74s 80ms/step - loss: 0.1089 - accuracy: 0.9757 - val_loss: 0.1475 - val_accuracy: 0.9546\n",
      "\n",
      "Epoch 00010: val_loss did not improve from 0.14633\n",
      "Epoch 11/40\n",
      "916/916 [==============================] - 74s 81ms/step - loss: 0.0454 - accuracy: 0.9849 - val_loss: 0.1423 - val_accuracy: 0.9588\n",
      "\n",
      "Epoch 00011: val_loss improved from 0.14633 to 0.14226, saving model to model.h5\n",
      "Epoch 12/40\n",
      "916/916 [==============================] - 74s 81ms/step - loss: 0.0413 - accuracy: 0.9864 - val_loss: 0.1441 - val_accuracy: 0.9563\n",
      "\n",
      "Epoch 00012: val_loss did not improve from 0.14226\n",
      "Epoch 13/40\n",
      "916/916 [==============================] - 74s 81ms/step - loss: 0.0403 - accuracy: 0.9869 - val_loss: 0.1456 - val_accuracy: 0.9593\n",
      "\n",
      "Epoch 00013: val_loss did not improve from 0.14226\n",
      "Epoch 14/40\n",
      "916/916 [==============================] - 76s 83ms/step - loss: 0.0381 - accuracy: 0.9875 - val_loss: 0.1371 - val_accuracy: 0.9608\n",
      "\n",
      "Epoch 00014: val_loss improved from 0.14226 to 0.13710, saving model to model.h5\n",
      "Epoch 15/40\n",
      "916/916 [==============================] - 75s 82ms/step - loss: 0.2021 - accuracy: 0.9710 - val_loss: 0.1681 - val_accuracy: 0.9490\n",
      "\n",
      "Epoch 00015: val_loss did not improve from 0.13710\n",
      "Epoch 16/40\n",
      "916/916 [==============================] - 72s 79ms/step - loss: 0.0663 - accuracy: 0.9811 - val_loss: 0.2062 - val_accuracy: 0.9473\n",
      "\n",
      "Epoch 00016: val_loss did not improve from 0.13710\n",
      "Epoch 17/40\n",
      "916/916 [==============================] - 75s 82ms/step - loss: 0.0537 - accuracy: 0.9835 - val_loss: 0.1347 - val_accuracy: 0.9623\n",
      "\n",
      "Epoch 00017: val_loss improved from 0.13710 to 0.13468, saving model to model.h5\n",
      "Epoch 18/40\n",
      "916/916 [==============================] - 75s 82ms/step - loss: 0.0402 - accuracy: 0.9867 - val_loss: 0.1278 - val_accuracy: 0.9613\n",
      "\n",
      "Epoch 00018: val_loss improved from 0.13468 to 0.12775, saving model to model.h5\n",
      "Epoch 19/40\n",
      "916/916 [==============================] - 74s 81ms/step - loss: 0.0386 - accuracy: 0.9881 - val_loss: 0.1350 - val_accuracy: 0.9606\n",
      "\n",
      "Epoch 00019: val_loss did not improve from 0.12775\n",
      "Epoch 20/40\n",
      "916/916 [==============================] - 74s 80ms/step - loss: 0.0384 - accuracy: 0.9882 - val_loss: 0.1423 - val_accuracy: 0.9631\n",
      "\n",
      "Epoch 00020: val_loss did not improve from 0.12775\n",
      "Epoch 21/40\n",
      "916/916 [==============================] - 73s 80ms/step - loss: 0.0345 - accuracy: 0.9889 - val_loss: 0.1246 - val_accuracy: 0.9669\n",
      "\n",
      "Epoch 00021: val_loss improved from 0.12775 to 0.12461, saving model to model.h5\n",
      "Epoch 22/40\n",
      "916/916 [==============================] - 74s 80ms/step - loss: 0.0312 - accuracy: 0.9899 - val_loss: 0.1225 - val_accuracy: 0.9654\n",
      "\n",
      "Epoch 00022: val_loss improved from 0.12461 to 0.12245, saving model to model.h5\n",
      "Epoch 23/40\n",
      "916/916 [==============================] - 74s 80ms/step - loss: 0.0285 - accuracy: 0.9905 - val_loss: 0.1342 - val_accuracy: 0.9654\n",
      "\n",
      "Epoch 00023: val_loss did not improve from 0.12245\n",
      "Epoch 24/40\n",
      "916/916 [==============================] - 74s 81ms/step - loss: 0.0374 - accuracy: 0.9897 - val_loss: 0.1447 - val_accuracy: 0.9601\n",
      "\n",
      "Epoch 00024: val_loss did not improve from 0.12245\n",
      "Epoch 25/40\n",
      "916/916 [==============================] - 75s 82ms/step - loss: 0.0288 - accuracy: 0.9905 - val_loss: 0.1270 - val_accuracy: 0.9681\n",
      "\n",
      "Epoch 00025: val_loss did not improve from 0.12245\n",
      "Epoch 26/40\n",
      "916/916 [==============================] - 74s 81ms/step - loss: 0.0271 - accuracy: 0.9910 - val_loss: 0.1404 - val_accuracy: 0.9679\n",
      "\n",
      "Epoch 00026: val_loss did not improve from 0.12245\n",
      "Epoch 27/40\n",
      "916/916 [==============================] - 75s 82ms/step - loss: 0.0276 - accuracy: 0.9910 - val_loss: 0.1394 - val_accuracy: 0.9674\n",
      "\n",
      "Epoch 00027: val_loss did not improve from 0.12245\n",
      "Epoch 28/40\n",
      "916/916 [==============================] - 75s 82ms/step - loss: 0.0261 - accuracy: 0.9912 - val_loss: 0.1394 - val_accuracy: 0.9659\n",
      "\n",
      "Epoch 00028: val_loss did not improve from 0.12245\n",
      "Epoch 29/40\n",
      "916/916 [==============================] - 75s 82ms/step - loss: 0.0253 - accuracy: 0.9918 - val_loss: 0.1461 - val_accuracy: 0.9679\n",
      "\n",
      "Epoch 00029: val_loss did not improve from 0.12245\n",
      "Epoch 30/40\n",
      "916/916 [==============================] - 75s 82ms/step - loss: 0.0267 - accuracy: 0.9910 - val_loss: 0.1457 - val_accuracy: 0.9659\n",
      "\n",
      "Epoch 00030: ReduceLROnPlateau reducing learning rate to 0.0005000000237487257.\n",
      "\n",
      "Epoch 00030: val_loss did not improve from 0.12245\n",
      "Epoch 31/40\n",
      "916/916 [==============================] - 75s 82ms/step - loss: 0.0187 - accuracy: 0.9937 - val_loss: 0.1390 - val_accuracy: 0.9699\n",
      "\n",
      "Epoch 00031: val_loss did not improve from 0.12245\n",
      "Epoch 32/40\n",
      "916/916 [==============================] - 70s 76ms/step - loss: 0.0168 - accuracy: 0.9942 - val_loss: 0.1414 - val_accuracy: 0.9704\n",
      "\n",
      "Epoch 00032: val_loss did not improve from 0.12245\n",
      "Epoch 33/40\n",
      "916/916 [==============================] - 76s 82ms/step - loss: 0.0163 - accuracy: 0.9945 - val_loss: 0.1491 - val_accuracy: 0.9691\n",
      "\n",
      "Epoch 00033: val_loss did not improve from 0.12245\n",
      "Epoch 34/40\n",
      "916/916 [==============================] - 71s 77ms/step - loss: 0.0168 - accuracy: 0.9944 - val_loss: 0.1704 - val_accuracy: 0.9679\n",
      "\n",
      "Epoch 00034: val_loss did not improve from 0.12245\n",
      "Epoch 35/40\n",
      "916/916 [==============================] - 76s 83ms/step - loss: 0.0162 - accuracy: 0.9945 - val_loss: 0.1834 - val_accuracy: 0.9686\n",
      "\n",
      "Epoch 00035: val_loss did not improve from 0.12245\n",
      "Epoch 36/40\n",
      "916/916 [==============================] - 70s 76ms/step - loss: 0.0161 - accuracy: 0.9944 - val_loss: 0.1778 - val_accuracy: 0.9694\n",
      "\n",
      "Epoch 00036: val_loss did not improve from 0.12245\n",
      "Epoch 37/40\n",
      "916/916 [==============================] - 76s 83ms/step - loss: 0.0156 - accuracy: 0.9947 - val_loss: 0.1713 - val_accuracy: 0.9716\n",
      "\n",
      "Epoch 00037: val_loss did not improve from 0.12245\n",
      "Epoch 38/40\n",
      "916/916 [==============================] - 74s 81ms/step - loss: 0.0156 - accuracy: 0.9944 - val_loss: 0.1913 - val_accuracy: 0.9674\n",
      "\n",
      "Epoch 00038: val_loss did not improve from 0.12245\n",
      "Epoch 39/40\n",
      "916/916 [==============================] - 74s 81ms/step - loss: 0.0159 - accuracy: 0.9941 - val_loss: 0.1843 - val_accuracy: 0.9691\n",
      "\n",
      "Epoch 00039: val_loss did not improve from 0.12245\n",
      "Epoch 40/40\n",
      "916/916 [==============================] - 77s 84ms/step - loss: 0.0146 - accuracy: 0.9948 - val_loss: 0.1976 - val_accuracy: 0.9661\n",
      "\n",
      "Epoch 00040: val_loss did not improve from 0.12245\n"
     ]
    }
   ],
   "source": [
    "history = head_model.fit(\n",
    "    X_train, \n",
    "    y_train,\n",
    "    batch_size=64, \n",
    "    epochs=epoch_t, \n",
    "    validation_data=(X_val, y_val),\n",
    "    sample_weight = sample_weights,\n",
    "    callbacks = [anne, checkpoint]) # EPOCHS WAS 40"
   ]
  },
  {
   "cell_type": "code",
   "execution_count": 25,
   "id": "2661a88d",
   "metadata": {
    "execution": {
     "iopub.execute_input": "2022-04-05T14:29:05.959109Z",
     "iopub.status.busy": "2022-04-05T14:29:05.943796Z",
     "iopub.status.idle": "2022-04-05T14:29:10.671878Z",
     "shell.execute_reply": "2022-04-05T14:29:10.670976Z"
    },
    "papermill": {
     "duration": 16.852967,
     "end_time": "2022-04-05T14:29:10.672024",
     "exception": false,
     "start_time": "2022-04-05T14:28:53.819057",
     "status": "completed"
    },
    "tags": []
   },
   "outputs": [],
   "source": [
    "if cenv == 0:\n",
    "    best_model = load_model(\"/kaggle/working/model.h5\")\n",
    "if cenv == 1:\n",
    "    best_model = load_model(f\"{new_dir}/model.h5\")"
   ]
  },
  {
   "cell_type": "code",
   "execution_count": 26,
   "id": "1d61bc00",
   "metadata": {
    "execution": {
     "iopub.execute_input": "2022-04-05T14:29:34.574769Z",
     "iopub.status.busy": "2022-04-05T14:29:34.573793Z",
     "iopub.status.idle": "2022-04-05T14:29:41.690849Z",
     "shell.execute_reply": "2022-04-05T14:29:41.689454Z",
     "shell.execute_reply.started": "2022-04-01T10:32:43.720611Z"
    },
    "id": "3b5bRktf4ydg",
    "outputId": "37f5eb06-7caa-4c5f-b6fd-9b5758a1f057",
    "papermill": {
     "duration": 18.857387,
     "end_time": "2022-04-05T14:29:41.691020",
     "exception": false,
     "start_time": "2022-04-05T14:29:22.833633",
     "status": "completed"
    },
    "tags": []
   },
   "outputs": [
    {
     "name": "stdout",
     "output_type": "stream",
     "text": [
      "125/125 [==============================] - 5s 25ms/step - loss: 0.1499 - accuracy: 0.9588\n",
      "Overall CNN Accuracy: 0.9588146805763245\n",
      "(The number of correct predictions divided by the number of total predictions)\n"
     ]
    }
   ],
   "source": [
    "scores = best_model.evaluate(X_test, y_test)\n",
    "print(f\"Overall CNN Accuracy: {scores[1]}\\n(The number of correct predictions divided by the number of total predictions)\")"
   ]
  },
  {
   "cell_type": "markdown",
   "id": "90736610",
   "metadata": {
    "papermill": {
     "duration": 11.84926,
     "end_time": "2022-04-05T14:30:06.302632",
     "exception": false,
     "start_time": "2022-04-05T14:29:54.453372",
     "status": "completed"
    },
    "tags": []
   },
   "source": [
    "# Plots"
   ]
  },
  {
   "cell_type": "code",
   "execution_count": 27,
   "id": "0713f507",
   "metadata": {
    "execution": {
     "iopub.execute_input": "2022-04-05T14:30:30.618214Z",
     "iopub.status.busy": "2022-04-05T14:30:30.617304Z",
     "iopub.status.idle": "2022-04-05T14:30:30.622781Z",
     "shell.execute_reply": "2022-04-05T14:30:30.622228Z",
     "shell.execute_reply.started": "2022-04-01T10:32:43.722502Z"
    },
    "papermill": {
     "duration": 11.943622,
     "end_time": "2022-04-05T14:30:30.622907",
     "exception": false,
     "start_time": "2022-04-05T14:30:18.679285",
     "status": "completed"
    },
    "scrolled": true,
    "tags": []
   },
   "outputs": [],
   "source": [
    "multi_distribution_train = np.unique(y_train, return_counts=True)\n",
    "perc_train = (multi_distribution_train[1]/y_train.shape[0])*100"
   ]
  },
  {
   "cell_type": "code",
   "execution_count": 28,
   "id": "d1a971f1",
   "metadata": {
    "execution": {
     "iopub.execute_input": "2022-04-05T14:30:55.226435Z",
     "iopub.status.busy": "2022-04-05T14:30:55.225563Z",
     "iopub.status.idle": "2022-04-05T14:30:55.227413Z",
     "shell.execute_reply": "2022-04-05T14:30:55.227841Z",
     "shell.execute_reply.started": "2022-04-01T10:32:43.722502Z"
    },
    "papermill": {
     "duration": 12.497907,
     "end_time": "2022-04-05T14:30:55.227985",
     "exception": false,
     "start_time": "2022-04-05T14:30:42.730078",
     "status": "completed"
    },
    "scrolled": true,
    "tags": []
   },
   "outputs": [],
   "source": [
    "multi_distribution_test = np.unique(y_test, return_counts=True)\n",
    "perc_test = (multi_distribution_test[1]/y_test.shape[0])*100"
   ]
  },
  {
   "cell_type": "code",
   "execution_count": 29,
   "id": "7dd197d0",
   "metadata": {
    "execution": {
     "iopub.execute_input": "2022-04-05T14:31:19.402368Z",
     "iopub.status.busy": "2022-04-05T14:31:19.401510Z",
     "iopub.status.idle": "2022-04-05T14:31:19.412599Z",
     "shell.execute_reply": "2022-04-05T14:31:19.413734Z"
    },
    "papermill": {
     "duration": 12.27935,
     "end_time": "2022-04-05T14:31:19.414099",
     "exception": false,
     "start_time": "2022-04-05T14:31:07.134749",
     "status": "completed"
    },
    "tags": []
   },
   "outputs": [
    {
     "data": {
      "text/plain": [
       "array([ 9.16624812, 10.49723757,  3.34003014,  3.06378704,  2.73731793,\n",
       "        5.19839277,  3.41536916,  5.2988448 ,  2.51130085,  1.65745856,\n",
       "       53.11401306])"
      ]
     },
     "execution_count": 29,
     "metadata": {},
     "output_type": "execute_result"
    }
   ],
   "source": [
    "perc_test"
   ]
  },
  {
   "cell_type": "code",
   "execution_count": 30,
   "id": "d23226d3",
   "metadata": {
    "execution": {
     "iopub.execute_input": "2022-04-05T14:31:44.073260Z",
     "iopub.status.busy": "2022-04-05T14:31:44.072392Z",
     "iopub.status.idle": "2022-04-05T14:31:44.074578Z",
     "shell.execute_reply": "2022-04-05T14:31:44.074065Z",
     "shell.execute_reply.started": "2022-04-01T10:32:43.724473Z"
    },
    "papermill": {
     "duration": 11.914903,
     "end_time": "2022-04-05T14:31:44.074707",
     "exception": false,
     "start_time": "2022-04-05T14:31:32.159804",
     "status": "completed"
    },
    "tags": []
   },
   "outputs": [],
   "source": [
    "classes = batches.class_indices.keys()"
   ]
  },
  {
   "cell_type": "code",
   "execution_count": 31,
   "id": "96c0d496",
   "metadata": {
    "execution": {
     "iopub.execute_input": "2022-04-05T14:32:08.475113Z",
     "iopub.status.busy": "2022-04-05T14:32:08.474195Z",
     "iopub.status.idle": "2022-04-05T14:32:08.476134Z",
     "shell.execute_reply": "2022-04-05T14:32:08.476549Z"
    },
    "papermill": {
     "duration": 11.924614,
     "end_time": "2022-04-05T14:32:08.476706",
     "exception": false,
     "start_time": "2022-04-05T14:31:56.552092",
     "status": "completed"
    },
    "tags": []
   },
   "outputs": [],
   "source": [
    "X_axis_mc = np.arange(len(list(classes)))"
   ]
  },
  {
   "cell_type": "code",
   "execution_count": 32,
   "id": "f6c471da",
   "metadata": {
    "execution": {
     "iopub.execute_input": "2022-04-05T14:32:32.705487Z",
     "iopub.status.busy": "2022-04-05T14:32:32.704628Z",
     "iopub.status.idle": "2022-04-05T14:32:33.248460Z",
     "shell.execute_reply": "2022-04-05T14:32:33.248918Z",
     "shell.execute_reply.started": "2022-04-01T10:32:43.726411Z"
    },
    "papermill": {
     "duration": 12.879963,
     "end_time": "2022-04-05T14:32:33.249073",
     "exception": false,
     "start_time": "2022-04-05T14:32:20.369110",
     "status": "completed"
    },
    "scrolled": true,
    "tags": []
   },
   "outputs": [
    {
     "data": {
      "image/png": "[encoded data removed]",
      "text/plain": [
       "<Figure size 432x288 with 1 Axes>"
      ]
     },
     "metadata": {
      "needs_background": "light"
     },
     "output_type": "display_data"
    }
   ],
   "source": [
    "plt.bar(X_axis_mc - 0.2, perc_train, 0.4, label = 'Training')\n",
    "plt.bar(X_axis_mc + 0.2, perc_test, 0.4,label = 'Validation/Test')\n",
    "\n",
    "plt.xticks(rotation='vertical')\n",
    "\n",
    "plt.legend()\n",
    "plt.title('Distribution of the training and validation/test data')\n",
    "plt.xticks(X_axis_mc, list(classes))\n",
    "\n",
    "plt.ylabel('Dataset distribution in percentage (%)')\n",
    "if cenv == 0:\n",
    "    plt.savefig(\"multi_data_dist.png\", bbox_inches = 'tight', dpi = 150)\n",
    "if cenv == 1:\n",
    "    plt.savefig(f\"{new_dir}/multi_data_dist.png\", bbox_inches = 'tight', dpi = 150)"
   ]
  },
  {
   "cell_type": "code",
   "execution_count": 33,
   "id": "738c4e1f",
   "metadata": {
    "execution": {
     "iopub.execute_input": "2022-04-05T14:32:56.782508Z",
     "iopub.status.busy": "2022-04-05T14:32:56.780696Z",
     "iopub.status.idle": "2022-04-05T14:32:56.784791Z",
     "shell.execute_reply": "2022-04-05T14:32:56.784345Z",
     "shell.execute_reply.started": "2022-04-01T10:32:43.728277Z"
    },
    "papermill": {
     "duration": 11.763514,
     "end_time": "2022-04-05T14:32:56.784913",
     "exception": false,
     "start_time": "2022-04-05T14:32:45.021399",
     "status": "completed"
    },
    "tags": []
   },
   "outputs": [],
   "source": [
    "def my_fmt(x):\n",
    "    return '{:.1f}%\\n({:.0f})'.format(x, total*x/100)\n",
    "total = X_train_size + X_test_size + X_val_size"
   ]
  },
  {
   "cell_type": "code",
   "execution_count": 34,
   "id": "f60add0c",
   "metadata": {
    "execution": {
     "iopub.execute_input": "2022-04-05T14:33:21.613603Z",
     "iopub.status.busy": "2022-04-05T14:33:21.612763Z",
     "iopub.status.idle": "2022-04-05T14:33:21.912074Z",
     "shell.execute_reply": "2022-04-05T14:33:21.913141Z",
     "shell.execute_reply.started": "2022-04-01T10:32:43.730243Z"
    },
    "papermill": {
     "duration": 12.533979,
     "end_time": "2022-04-05T14:33:21.913384",
     "exception": false,
     "start_time": "2022-04-05T14:33:09.379405",
     "status": "completed"
    },
    "scrolled": true,
    "tags": []
   },
   "outputs": [
    {
     "data": {
      "image/png": "[encoded data removed]",
      "text/plain": [
       "<Figure size 432x288 with 1 Axes>"
      ]
     },
     "metadata": {},
     "output_type": "display_data"
    }
   ],
   "source": [
    "patches, texts, autotexts = plt.pie(\n",
    "    [labels.shape[0]*.7, labels_gen.shape[0], X_val_size, X_test_size], \n",
    "    labels = [\"\", \"Training\", \"Validation\", \"Test\"], \n",
    "    startangle=90, \n",
    "    counterclock=False, \n",
    "    autopct=my_fmt,\n",
    "    colors = ['cornflowerblue', 'darkorange', 'cornflowerblue'],\n",
    "    radius=1.2,\n",
    "    explode = (0,0,0.2,0.2)\n",
    ")\n",
    "plt.setp(texts[1], position = (1.8,-0.3))\n",
    "plt.setp(autotexts[2], size = 'x-small')\n",
    "plt.setp(autotexts[3], size = 'x-small')\n",
    "\n",
    "types = ['Original dataset', 'Generated dataset']\n",
    "plt.legend(labels = types, loc = 4, bbox_to_anchor=(1.5,0))\n",
    "\n",
    "\n",
    "plt.title(\"Training, validation, and test data distribution\", y = 1.15)\n",
    "\n",
    "if cenv == 0:\n",
    "    plt.savefig(\"train_test_dist.png\", bbox_inches = 'tight', dpi = 150)\n",
    "if cenv == 1:\n",
    "    plt.savefig(f\"{new_dir}/train_test_dist.png\", bbox_inches = 'tight', dpi = 150)"
   ]
  },
  {
   "cell_type": "code",
   "execution_count": 35,
   "id": "83ae3abd",
   "metadata": {
    "execution": {
     "iopub.execute_input": "2022-04-05T14:33:47.022425Z",
     "iopub.status.busy": "2022-04-05T14:33:47.021369Z",
     "iopub.status.idle": "2022-04-05T14:33:47.762018Z",
     "shell.execute_reply": "2022-04-05T14:33:47.762432Z",
     "shell.execute_reply.started": "2022-04-01T10:32:43.73216Z"
    },
    "id": "yE3OUgo34v_C",
    "outputId": "fd989d09-d97f-478e-e768-0e2e739a17aa",
    "papermill": {
     "duration": 13.119707,
     "end_time": "2022-04-05T14:33:47.762580",
     "exception": false,
     "start_time": "2022-04-05T14:33:34.642873",
     "status": "completed"
    },
    "tags": []
   },
   "outputs": [
    {
     "data": {
      "image/png": "[encoded data removed]",
      "text/plain": [
       "<Figure size 1080x1080 with 2 Axes>"
      ]
     },
     "metadata": {
      "needs_background": "light"
     },
     "output_type": "display_data"
    }
   ],
   "source": [
    "fig, axs = plt.subplots(2, 1, figsize=(15,15))\n",
    "\n",
    "axs[0].plot(history.history['loss'])\n",
    "axs[0].plot(history.history['val_loss'])\n",
    "axs[0].title.set_text('Training Loss vs Validation Loss')\n",
    "axs[0].set_xlabel('Epochs')\n",
    "axs[0].set_ylabel('Loss')\n",
    "axs[0].legend(['Train','Val'])\n",
    "\n",
    "axs[1].plot(history.history['accuracy'])\n",
    "axs[1].plot(history.history['val_accuracy'])\n",
    "axs[1].title.set_text('Training Accuracy vs Validation Accuracy')\n",
    "axs[1].set_xlabel('Epochs')\n",
    "axs[1].set_ylabel('Accuracy')\n",
    "axs[1].legend(['Train', 'Val'])\n",
    "\n",
    "if cenv == 0:\n",
    "    plt.savefig(\"performance_figure.png\", bbox_inches = 'tight')\n",
    "if cenv == 1:\n",
    "    plt.savefig(f\"{new_dir}/performance_figure.png\", bbox_inches = 'tight')"
   ]
  },
  {
   "cell_type": "code",
   "execution_count": 36,
   "id": "01b6e9d4",
   "metadata": {
    "execution": {
     "iopub.execute_input": "2022-04-05T14:34:12.540723Z",
     "iopub.status.busy": "2022-04-05T14:34:12.539625Z",
     "iopub.status.idle": "2022-04-05T14:34:13.288634Z",
     "shell.execute_reply": "2022-04-05T14:34:13.289172Z"
    },
    "papermill": {
     "duration": 13.137976,
     "end_time": "2022-04-05T14:34:13.289340",
     "exception": false,
     "start_time": "2022-04-05T14:34:00.151364",
     "status": "completed"
    },
    "tags": []
   },
   "outputs": [
    {
     "data": {
      "image/png": "[encoded data removed]",
      "text/plain": [
       "<Figure size 1080x1080 with 2 Axes>"
      ]
     },
     "metadata": {
      "needs_background": "light"
     },
     "output_type": "display_data"
    }
   ],
   "source": [
    "fig, axs = plt.subplots(2, 1, figsize=(15,15))\n",
    "\n",
    "axs[0].plot(history.history['loss'])\n",
    "axs[0].plot(history.history['val_loss'])\n",
    "axs[0].title.set_text('Training Loss vs Validation Loss')\n",
    "axs[0].set_xlabel('Epochs')\n",
    "axs[0].set_ylabel('Loss')\n",
    "axs[0].legend(['Train','Val'])\n",
    "axs[0].set_ylim((0,0.3))\n",
    "\n",
    "axs[1].plot(history.history['accuracy'])\n",
    "axs[1].plot(history.history['val_accuracy'])\n",
    "axs[1].title.set_text('Training Accuracy vs Validation Accuracy')\n",
    "axs[1].set_xlabel('Epochs')\n",
    "axs[1].set_ylabel('Accuracy')\n",
    "axs[1].legend(['Train', 'Val'])\n",
    "axs[1].set_ylim((0.8,1))\n",
    "\n",
    "if cenv == 0:\n",
    "    plt.savefig(\"performance_figure_ylim.png\", bbox_inches = 'tight')\n",
    "if cenv == 1:\n",
    "    plt.savefig(f\"{new_dir}/performance_figure_ylim.png\", bbox_inches = 'tight')"
   ]
  },
  {
   "cell_type": "markdown",
   "id": "36da4df8",
   "metadata": {
    "papermill": {
     "duration": 12.43833,
     "end_time": "2022-04-05T14:34:37.964330",
     "exception": false,
     "start_time": "2022-04-05T14:34:25.526000",
     "status": "completed"
    },
    "tags": []
   },
   "source": [
    "# Analyse performance\n",
    "\n",
    "**Multiclass classification**"
   ]
  },
  {
   "cell_type": "code",
   "execution_count": 37,
   "id": "b42bff69",
   "metadata": {
    "execution": {
     "iopub.execute_input": "2022-04-05T14:35:02.585202Z",
     "iopub.status.busy": "2022-04-05T14:35:02.584486Z",
     "iopub.status.idle": "2022-04-05T14:35:02.704567Z",
     "shell.execute_reply": "2022-04-05T14:35:02.704107Z",
     "shell.execute_reply.started": "2022-04-01T10:32:43.734132Z"
    },
    "papermill": {
     "duration": 12.144535,
     "end_time": "2022-04-05T14:35:02.704721",
     "exception": false,
     "start_time": "2022-04-05T14:34:50.560186",
     "status": "completed"
    },
    "tags": []
   },
   "outputs": [],
   "source": [
    "from sklearn import metrics\n",
    "import pandas as pd\n",
    "import seaborn as sns\n",
    "from sklearn.metrics import f1_score, matthews_corrcoef, accuracy_score\n",
    "from prettytable import PrettyTable, MSWORD_FRIENDLY"
   ]
  },
  {
   "cell_type": "markdown",
   "id": "fc8e29d9",
   "metadata": {
    "papermill": {
     "duration": 11.755816,
     "end_time": "2022-04-05T14:35:27.048989",
     "exception": false,
     "start_time": "2022-04-05T14:35:15.293173",
     "status": "completed"
    },
    "tags": []
   },
   "source": [
    "Multiclass performance table"
   ]
  },
  {
   "cell_type": "code",
   "execution_count": 38,
   "id": "31640667",
   "metadata": {
    "execution": {
     "iopub.execute_input": "2022-04-05T14:35:51.476710Z",
     "iopub.status.busy": "2022-04-05T14:35:51.476052Z",
     "iopub.status.idle": "2022-04-05T14:35:51.479262Z",
     "shell.execute_reply": "2022-04-05T14:35:51.479846Z",
     "shell.execute_reply.started": "2022-04-01T10:32:43.736112Z"
    },
    "papermill": {
     "duration": 12.556454,
     "end_time": "2022-04-05T14:35:51.480039",
     "exception": false,
     "start_time": "2022-04-05T14:35:38.923585",
     "status": "completed"
    },
    "tags": []
   },
   "outputs": [
    {
     "name": "stdout",
     "output_type": "stream",
     "text": [
      "+-------------------------------------------------------+\n",
      "| Perf. of multi-class classification CGAN - DenseNet121 |\n",
      "+-----------------------------------+-------------------+\n",
      "| Metric                            | Performance       |\n",
      "+-----------------------------------+-------------------+\n",
      "| Valididation accuracy             | 0.9588            |\n",
      "| Validation loss                   | 0.1499            |\n",
      "+-----------------------------------+-------------------+\n"
     ]
    }
   ],
   "source": [
    "t = PrettyTable(['Metric', 'Performance'])\n",
    "t.add_row(['Valididation accuracy', round(scores[1],4)])\n",
    "t.add_row(['Validation loss', round(scores[0],4)])\n",
    "t.header = True\n",
    "t.align = \"l\"\n",
    "t.title = \"Perf. of multi-class classification CGAN - DenseNet121\"\n",
    "print(t)"
   ]
  },
  {
   "cell_type": "code",
   "execution_count": 39,
   "id": "5892ba87",
   "metadata": {
    "execution": {
     "iopub.execute_input": "2022-04-05T14:36:15.420111Z",
     "iopub.status.busy": "2022-04-05T14:36:15.419177Z",
     "iopub.status.idle": "2022-04-05T14:36:15.422253Z",
     "shell.execute_reply": "2022-04-05T14:36:15.421598Z",
     "shell.execute_reply.started": "2022-04-01T10:32:43.738091Z"
    },
    "papermill": {
     "duration": 12.063277,
     "end_time": "2022-04-05T14:36:15.422398",
     "exception": false,
     "start_time": "2022-04-05T14:36:03.359121",
     "status": "completed"
    },
    "tags": []
   },
   "outputs": [],
   "source": [
    "# Saving PrettyTable\n",
    "table = t.get_string()\n",
    "\n",
    "if cenv == 0:\n",
    "    with open('multi_performance_table.txt', 'w') as f:\n",
    "        f.write(table)\n",
    "if cenv == 1:\n",
    "    with open(f'{new_dir}/multi_performance_table.txt', 'w') as f:\n",
    "        f.write(table)"
   ]
  },
  {
   "cell_type": "code",
   "execution_count": 40,
   "id": "87e6a0d4",
   "metadata": {
    "execution": {
     "iopub.execute_input": "2022-04-05T14:36:40.089766Z",
     "iopub.status.busy": "2022-04-05T14:36:40.088812Z",
     "iopub.status.idle": "2022-04-05T14:36:44.311417Z",
     "shell.execute_reply": "2022-04-05T14:36:44.310957Z",
     "shell.execute_reply.started": "2022-04-01T10:32:43.740001Z"
    },
    "papermill": {
     "duration": 16.150858,
     "end_time": "2022-04-05T14:36:44.311560",
     "exception": false,
     "start_time": "2022-04-05T14:36:28.160702",
     "status": "completed"
    },
    "scrolled": true,
    "tags": []
   },
   "outputs": [],
   "source": [
    "y_pred = np.argmax(head_model.predict(X_test), axis=-1)"
   ]
  },
  {
   "cell_type": "code",
   "execution_count": 41,
   "id": "5820de7f",
   "metadata": {
    "execution": {
     "iopub.execute_input": "2022-04-05T14:37:08.694970Z",
     "iopub.status.busy": "2022-04-05T14:37:08.694150Z",
     "iopub.status.idle": "2022-04-05T14:37:08.697007Z",
     "shell.execute_reply": "2022-04-05T14:37:08.697440Z",
     "shell.execute_reply.started": "2022-04-01T10:32:43.741925Z"
    },
    "papermill": {
     "duration": 11.994688,
     "end_time": "2022-04-05T14:37:08.697596",
     "exception": false,
     "start_time": "2022-04-05T14:36:56.702908",
     "status": "completed"
    },
    "scrolled": true,
    "tags": []
   },
   "outputs": [
    {
     "data": {
      "text/plain": [
       "array([ 0,  5,  6, ..., 10, 10,  7])"
      ]
     },
     "execution_count": 41,
     "metadata": {},
     "output_type": "execute_result"
    }
   ],
   "source": [
    "y_pred"
   ]
  },
  {
   "cell_type": "code",
   "execution_count": 42,
   "id": "7dbf5aa8",
   "metadata": {
    "execution": {
     "iopub.execute_input": "2022-04-05T14:37:33.016323Z",
     "iopub.status.busy": "2022-04-05T14:37:33.014588Z",
     "iopub.status.idle": "2022-04-05T14:37:33.018816Z",
     "shell.execute_reply": "2022-04-05T14:37:33.018273Z",
     "shell.execute_reply.started": "2022-04-01T10:32:43.743633Z"
    },
    "papermill": {
     "duration": 12.397953,
     "end_time": "2022-04-05T14:37:33.018958",
     "exception": false,
     "start_time": "2022-04-05T14:37:20.621005",
     "status": "completed"
    },
    "scrolled": true,
    "tags": []
   },
   "outputs": [
    {
     "data": {
      "text/plain": [
       "array([ 0.,  5.,  6., ..., 10., 10.,  7.], dtype=float32)"
      ]
     },
     "execution_count": 42,
     "metadata": {},
     "output_type": "execute_result"
    }
   ],
   "source": [
    "y_test2 = y_test\n",
    "y_test2"
   ]
  },
  {
   "cell_type": "code",
   "execution_count": 43,
   "id": "a5ef030f",
   "metadata": {
    "execution": {
     "iopub.execute_input": "2022-04-05T14:37:57.541626Z",
     "iopub.status.busy": "2022-04-05T14:37:57.540854Z",
     "iopub.status.idle": "2022-04-05T14:37:57.561134Z",
     "shell.execute_reply": "2022-04-05T14:37:57.560598Z",
     "shell.execute_reply.started": "2022-04-01T10:32:43.745832Z"
    },
    "papermill": {
     "duration": 11.997314,
     "end_time": "2022-04-05T14:37:57.561265",
     "exception": false,
     "start_time": "2022-04-05T14:37:45.563951",
     "status": "completed"
    },
    "scrolled": true,
    "tags": []
   },
   "outputs": [],
   "source": [
    "c_matrix = metrics.confusion_matrix(y_test2, y_pred)"
   ]
  },
  {
   "cell_type": "code",
   "execution_count": 44,
   "id": "d704a625",
   "metadata": {
    "execution": {
     "iopub.execute_input": "2022-04-05T14:38:22.099032Z",
     "iopub.status.busy": "2022-04-05T14:38:22.098227Z",
     "iopub.status.idle": "2022-04-05T14:38:22.100873Z",
     "shell.execute_reply": "2022-04-05T14:38:22.100433Z",
     "shell.execute_reply.started": "2022-04-01T10:32:43.74774Z"
    },
    "papermill": {
     "duration": 12.076846,
     "end_time": "2022-04-05T14:38:22.100999",
     "exception": false,
     "start_time": "2022-04-05T14:38:10.024153",
     "status": "completed"
    },
    "scrolled": true,
    "tags": []
   },
   "outputs": [],
   "source": [
    "def confusion_matrix(confusion_matrix, class_names, figsize = (10,7), fontsize=14):\n",
    "   \n",
    "    df_cm = pd.DataFrame(\n",
    "        confusion_matrix, index=class_names, columns=class_names, \n",
    "    )\n",
    "    fig = plt.figure(figsize=figsize)\n",
    "    try:\n",
    "        heatmap = sns.heatmap(df_cm, annot=True, fmt=\"d\")\n",
    "    except ValueError:\n",
    "        raise ValueError(\"Confusion matrix values must be integers.\")\n",
    "    heatmap.yaxis.set_ticklabels(heatmap.yaxis.get_ticklabels(), rotation=0, ha='right', fontsize=fontsize)\n",
    "    heatmap.xaxis.set_ticklabels(heatmap.xaxis.get_ticklabels(), rotation=45, ha='right', fontsize=fontsize)\n",
    "    plt.ylabel('True label')\n",
    "    plt.xlabel('Predicted label')\n",
    "    plt.tight_layout()\n",
    "    if cenv == 0:\n",
    "        plt.savefig(\"multi_class_cmatrix.png\")\n",
    "    if cenv == 1:\n",
    "        plt.savefig(f\"{new_dir}/multi_class_cmatrix.png\")"
   ]
  },
  {
   "cell_type": "code",
   "execution_count": 45,
   "id": "1b75dad7",
   "metadata": {
    "execution": {
     "iopub.execute_input": "2022-04-05T14:38:46.472051Z",
     "iopub.status.busy": "2022-04-05T14:38:46.471187Z",
     "iopub.status.idle": "2022-04-05T14:38:47.578178Z",
     "shell.execute_reply": "2022-04-05T14:38:47.578583Z",
     "shell.execute_reply.started": "2022-04-01T10:32:43.74974Z"
    },
    "papermill": {
     "duration": 12.987884,
     "end_time": "2022-04-05T14:38:47.578744",
     "exception": false,
     "start_time": "2022-04-05T14:38:34.590860",
     "status": "completed"
    },
    "scrolled": true,
    "tags": []
   },
   "outputs": [
    {
     "data": {
      "image/png": "[encoded data removed]",
      "text/plain": [
       "<Figure size 1440x504 with 2 Axes>"
      ]
     },
     "metadata": {
      "needs_background": "light"
     },
     "output_type": "display_data"
    }
   ],
   "source": [
    "class_names= batches.class_indices.keys()\n",
    "confusion_matrix(c_matrix, class_names, figsize = (20,7), fontsize=14)"
   ]
  },
  {
   "cell_type": "markdown",
   "id": "717be70c",
   "metadata": {
    "papermill": {
     "duration": 12.46305,
     "end_time": "2022-04-05T14:39:11.961863",
     "exception": false,
     "start_time": "2022-04-05T14:38:59.498813",
     "status": "completed"
    },
    "tags": []
   },
   "source": [
    "**Binary classification**\n"
   ]
  },
  {
   "cell_type": "code",
   "execution_count": 46,
   "id": "741affc5",
   "metadata": {
    "execution": {
     "iopub.execute_input": "2022-04-05T14:39:36.217775Z",
     "iopub.status.busy": "2022-04-05T14:39:36.207584Z",
     "iopub.status.idle": "2022-04-05T14:39:36.259757Z",
     "shell.execute_reply": "2022-04-05T14:39:36.260167Z",
     "shell.execute_reply.started": "2022-04-01T10:32:43.753557Z"
    },
    "papermill": {
     "duration": 11.969782,
     "end_time": "2022-04-05T14:39:36.260316",
     "exception": false,
     "start_time": "2022-04-05T14:39:24.290534",
     "status": "completed"
    },
    "tags": []
   },
   "outputs": [
    {
     "name": "stdout",
     "output_type": "stream",
     "text": [
      "Length of the observations in test set: 3982\n"
     ]
    }
   ],
   "source": [
    "y_predbin = [] \n",
    "y_truebin = []\n",
    "for count, value in enumerate(y_test2):\n",
    "    if y_test2[count] in range(10): # range(10) is 0 to 9\n",
    "        y_truebin.append(0)\n",
    "    else: y_truebin.append(1)\n",
    "    \n",
    "    if y_pred[count] in range(10):\n",
    "        y_predbin.append(0)\n",
    "    else: y_predbin.append(1)\n",
    "    \n",
    "    continue\n",
    "if len(y_truebin) == len(y_predbin):\n",
    "    print(f\"Length of the observations in test set: {len(y_truebin)}\")"
   ]
  },
  {
   "cell_type": "code",
   "execution_count": 47,
   "id": "3ce3669e",
   "metadata": {
    "execution": {
     "iopub.execute_input": "2022-04-05T14:40:00.824409Z",
     "iopub.status.busy": "2022-04-05T14:40:00.823679Z",
     "iopub.status.idle": "2022-04-05T14:40:00.826664Z",
     "shell.execute_reply": "2022-04-05T14:40:00.827245Z",
     "shell.execute_reply.started": "2022-04-01T10:32:43.755517Z"
    },
    "papermill": {
     "duration": 12.091093,
     "end_time": "2022-04-05T14:40:00.827432",
     "exception": false,
     "start_time": "2022-04-05T14:39:48.736339",
     "status": "completed"
    },
    "tags": []
   },
   "outputs": [
    {
     "name": "stdout",
     "output_type": "stream",
     "text": [
      "Ransomware Occurences: 48793, Benign Occurences: 9790\n"
     ]
    }
   ],
   "source": [
    "rw_count_train= 0\n",
    "bn_count_train = 0\n",
    "for count, value in enumerate(multi_distribution_train[1]):\n",
    "    if count in range(10):\n",
    "        rw_count_train = rw_count_train + multi_distribution_train[1][count]\n",
    "    else: \n",
    "        bn_count_train = bn_count_train + multi_distribution_train[1][count]\n",
    "print(f\"Ransomware Occurences: {rw_count_train}, Benign Occurences: {bn_count_train}\")"
   ]
  },
  {
   "cell_type": "code",
   "execution_count": 48,
   "id": "a6bc3ec6",
   "metadata": {
    "execution": {
     "iopub.execute_input": "2022-04-05T14:40:25.066279Z",
     "iopub.status.busy": "2022-04-05T14:40:25.065412Z",
     "iopub.status.idle": "2022-04-05T14:40:25.068523Z",
     "shell.execute_reply": "2022-04-05T14:40:25.069114Z"
    },
    "papermill": {
     "duration": 11.82201,
     "end_time": "2022-04-05T14:40:25.069297",
     "exception": false,
     "start_time": "2022-04-05T14:40:13.247287",
     "status": "completed"
    },
    "tags": []
   },
   "outputs": [
    {
     "name": "stdout",
     "output_type": "stream",
     "text": [
      "Ransomware Occurences: 1867, Benign Occurences: 2115\n"
     ]
    }
   ],
   "source": [
    "rw_count_test= 0\n",
    "bn_count_test = 0\n",
    "for count, value in enumerate(multi_distribution_test[1]):\n",
    "    if count in range(10):\n",
    "        rw_count_test = rw_count_test + multi_distribution_test[1][count]\n",
    "    else: \n",
    "        bn_count_test = bn_count_test + multi_distribution_test[1][count]\n",
    "print(f\"Ransomware Occurences: {rw_count_test}, Benign Occurences: {bn_count_test}\")"
   ]
  },
  {
   "cell_type": "code",
   "execution_count": 49,
   "id": "7b0bb0a0",
   "metadata": {
    "execution": {
     "iopub.execute_input": "2022-04-05T14:40:49.606488Z",
     "iopub.status.busy": "2022-04-05T14:40:49.605701Z",
     "iopub.status.idle": "2022-04-05T14:40:49.608415Z",
     "shell.execute_reply": "2022-04-05T14:40:49.608018Z"
    },
    "papermill": {
     "duration": 12.329627,
     "end_time": "2022-04-05T14:40:49.608525",
     "exception": false,
     "start_time": "2022-04-05T14:40:37.278898",
     "status": "completed"
    },
    "tags": []
   },
   "outputs": [],
   "source": [
    "rw_perc_train = rw_count_train / (rw_count_train + bn_count_train) * 100\n",
    "bn_perc_train = bn_count_train / (rw_count_train + bn_count_train) * 100\n",
    "\n",
    "rw_perc_test = rw_count_test / (rw_count_test + bn_count_test) * 100\n",
    "bn_perc_test = bn_count_test / (rw_count_test + bn_count_test) * 100"
   ]
  },
  {
   "cell_type": "code",
   "execution_count": 50,
   "id": "896c743c",
   "metadata": {
    "execution": {
     "iopub.execute_input": "2022-04-05T14:41:13.320390Z",
     "iopub.status.busy": "2022-04-05T14:41:13.319385Z",
     "iopub.status.idle": "2022-04-05T14:41:13.862850Z",
     "shell.execute_reply": "2022-04-05T14:41:13.862317Z",
     "shell.execute_reply.started": "2022-04-01T10:32:43.757465Z"
    },
    "papermill": {
     "duration": 12.369694,
     "end_time": "2022-04-05T14:41:13.863030",
     "exception": false,
     "start_time": "2022-04-05T14:41:01.493336",
     "status": "completed"
    },
    "tags": []
   },
   "outputs": [
    {
     "data": {
      "image/png": "[encoded data removed]",
      "text/plain": [
       "<Figure size 432x288 with 1 Axes>"
      ]
     },
     "metadata": {
      "needs_background": "light"
     },
     "output_type": "display_data"
    }
   ],
   "source": [
    "X_axis_bc = np.arange(2)\n",
    "\n",
    "plt.bar(X_axis_bc - 0.2, [rw_perc_train, bn_perc_train], 0.4, label = 'Training')\n",
    "plt.bar(X_axis_bc + 0.2, [rw_perc_test, bn_perc_test], 0.4, label = 'Validation/Test')\n",
    "\n",
    "plt.xticks(rotation='horizontal')\n",
    "\n",
    "plt.legend()\n",
    "plt.title('Distribution of the training and validation/test data')\n",
    "plt.xticks(X_axis_bc, ['Ransomware', 'Benign'])\n",
    "\n",
    "plt.ylabel('Dataset distribution in percentage (%)')\n",
    "\n",
    "if cenv == 0:\n",
    "    plt.savefig(\"data_dist.png\", bbox_inches = 'tight', dpi = 150)\n",
    "if cenv == 1:\n",
    "    plt.savefig(f\"{new_dir}/bin_data_dist.png\", bbox_inches = 'tight', dpi = 150)"
   ]
  },
  {
   "cell_type": "code",
   "execution_count": 51,
   "id": "aa2ddf5a",
   "metadata": {
    "execution": {
     "iopub.execute_input": "2022-04-05T14:41:38.175544Z",
     "iopub.status.busy": "2022-04-05T14:41:38.174476Z",
     "iopub.status.idle": "2022-04-05T14:41:38.181323Z",
     "shell.execute_reply": "2022-04-05T14:41:38.180775Z",
     "shell.execute_reply.started": "2022-04-01T10:32:43.759508Z"
    },
    "papermill": {
     "duration": 11.893835,
     "end_time": "2022-04-05T14:41:38.181456",
     "exception": false,
     "start_time": "2022-04-05T14:41:26.287621",
     "status": "completed"
    },
    "tags": []
   },
   "outputs": [],
   "source": [
    "c_matrix_bin = metrics.confusion_matrix(y_truebin, y_predbin)"
   ]
  },
  {
   "cell_type": "code",
   "execution_count": 52,
   "id": "b8cf1cb7",
   "metadata": {
    "execution": {
     "iopub.execute_input": "2022-04-05T14:42:02.308923Z",
     "iopub.status.busy": "2022-04-05T14:42:02.308103Z",
     "iopub.status.idle": "2022-04-05T14:42:02.310618Z",
     "shell.execute_reply": "2022-04-05T14:42:02.310200Z",
     "shell.execute_reply.started": "2022-04-01T10:32:43.761502Z"
    },
    "papermill": {
     "duration": 11.860037,
     "end_time": "2022-04-05T14:42:02.310758",
     "exception": false,
     "start_time": "2022-04-05T14:41:50.450721",
     "status": "completed"
    },
    "tags": []
   },
   "outputs": [],
   "source": [
    "def confusion_matrix_bin(confusion_matrix, class_names_bin, figsize = (5,2), fontsize=7):\n",
    "   \n",
    "    df_cm = pd.DataFrame(\n",
    "        confusion_matrix, index=class_names_bin, columns=class_names_bin, \n",
    "    )\n",
    "    fig = plt.figure(figsize=figsize)\n",
    "    try:\n",
    "        heatmap = sns.heatmap(df_cm, annot=True, fmt=\"d\")\n",
    "    except ValueError:\n",
    "        raise ValueError(\"Confusion matrix values must be integers.\")\n",
    "    heatmap.yaxis.set_ticklabels(heatmap.yaxis.get_ticklabels(), rotation=0, ha='right', fontsize=fontsize)\n",
    "    heatmap.xaxis.set_ticklabels(heatmap.xaxis.get_ticklabels(), rotation=45, ha='right', fontsize=fontsize)\n",
    "    plt.ylabel('True label')\n",
    "    plt.xlabel('Predicted label')\n",
    "    plt.title(\"CGAN - DenseNet121\")\n",
    "    if cenv == 0:\n",
    "        plt.savefig(\"bin_class_cmatrix.png\", bbox_inches = 'tight', dpi = 150)\n",
    "    if cenv == 1:\n",
    "        plt.savefig(f\"{new_dir}/bin_class_cmatrix.png\", bbox_inches = 'tight', dpi = 150)"
   ]
  },
  {
   "cell_type": "code",
   "execution_count": 53,
   "id": "aed9815b",
   "metadata": {
    "execution": {
     "iopub.execute_input": "2022-04-05T14:42:26.495167Z",
     "iopub.status.busy": "2022-04-05T14:42:26.494268Z",
     "iopub.status.idle": "2022-04-05T14:42:26.885349Z",
     "shell.execute_reply": "2022-04-05T14:42:26.885801Z",
     "shell.execute_reply.started": "2022-04-01T10:32:43.763469Z"
    },
    "papermill": {
     "duration": 12.738547,
     "end_time": "2022-04-05T14:42:26.885960",
     "exception": false,
     "start_time": "2022-04-05T14:42:14.147413",
     "status": "completed"
    },
    "tags": []
   },
   "outputs": [
    {
     "data": {
      "image/png": "[encoded data removed]",
      "text/plain": [
       "<Figure size 360x144 with 2 Axes>"
      ]
     },
     "metadata": {
      "needs_background": "light"
     },
     "output_type": "display_data"
    }
   ],
   "source": [
    "class_names_bin= (\"ransomware\", \"benign\")\n",
    "confusion_matrix_bin(c_matrix_bin, class_names_bin, figsize = (5,2), fontsize=10)"
   ]
  },
  {
   "cell_type": "markdown",
   "id": "b5bdee2d",
   "metadata": {
    "papermill": {
     "duration": 11.897045,
     "end_time": "2022-04-05T14:42:50.697211",
     "exception": false,
     "start_time": "2022-04-05T14:42:38.800166",
     "status": "completed"
    },
    "tags": []
   },
   "source": [
    "**True Positive Rate**"
   ]
  },
  {
   "cell_type": "code",
   "execution_count": 54,
   "id": "2ddebf49",
   "metadata": {
    "execution": {
     "iopub.execute_input": "2022-04-05T14:43:15.463461Z",
     "iopub.status.busy": "2022-04-05T14:43:15.461921Z",
     "iopub.status.idle": "2022-04-05T14:43:15.464058Z",
     "shell.execute_reply": "2022-04-05T14:43:15.464447Z",
     "shell.execute_reply.started": "2022-04-01T10:32:43.765312Z"
    },
    "papermill": {
     "duration": 12.177412,
     "end_time": "2022-04-05T14:43:15.464582",
     "exception": false,
     "start_time": "2022-04-05T14:43:03.287170",
     "status": "completed"
    },
    "tags": []
   },
   "outputs": [],
   "source": [
    "TPR = c_matrix_bin[0,0]/(c_matrix_bin[0,0] + c_matrix_bin[0,1]) #True Positive Rate"
   ]
  },
  {
   "cell_type": "markdown",
   "id": "9d73c9e7",
   "metadata": {
    "papermill": {
     "duration": 12.508961,
     "end_time": "2022-04-05T14:43:40.052058",
     "exception": false,
     "start_time": "2022-04-05T14:43:27.543097",
     "status": "completed"
    },
    "tags": []
   },
   "source": [
    "**Accuracy**"
   ]
  },
  {
   "cell_type": "code",
   "execution_count": 55,
   "id": "b58da3ac",
   "metadata": {
    "execution": {
     "iopub.execute_input": "2022-04-05T14:44:04.962886Z",
     "iopub.status.busy": "2022-04-05T14:44:04.960944Z",
     "iopub.status.idle": "2022-04-05T14:44:04.965485Z",
     "shell.execute_reply": "2022-04-05T14:44:04.965076Z",
     "shell.execute_reply.started": "2022-04-01T10:32:43.767368Z"
    },
    "papermill": {
     "duration": 12.86222,
     "end_time": "2022-04-05T14:44:04.965602",
     "exception": false,
     "start_time": "2022-04-05T14:43:52.103382",
     "status": "completed"
    },
    "tags": []
   },
   "outputs": [],
   "source": [
    "ACC = accuracy_score(y_truebin, y_predbin) # Accuracy"
   ]
  },
  {
   "cell_type": "markdown",
   "id": "bce08566",
   "metadata": {
    "papermill": {
     "duration": 11.930552,
     "end_time": "2022-04-05T14:44:29.018180",
     "exception": false,
     "start_time": "2022-04-05T14:44:17.087628",
     "status": "completed"
    },
    "tags": []
   },
   "source": [
    "**F1 Score**"
   ]
  },
  {
   "cell_type": "code",
   "execution_count": 56,
   "id": "e7e06c04",
   "metadata": {
    "execution": {
     "iopub.execute_input": "2022-04-05T14:44:54.074195Z",
     "iopub.status.busy": "2022-04-05T14:44:54.073379Z",
     "iopub.status.idle": "2022-04-05T14:44:54.082159Z",
     "shell.execute_reply": "2022-04-05T14:44:54.081711Z",
     "shell.execute_reply.started": "2022-04-01T10:32:43.769282Z"
    },
    "papermill": {
     "duration": 12.585403,
     "end_time": "2022-04-05T14:44:54.082276",
     "exception": false,
     "start_time": "2022-04-05T14:44:41.496873",
     "status": "completed"
    },
    "tags": []
   },
   "outputs": [],
   "source": [
    "F1 = f1_score(y_truebin, y_predbin, labels=0) # F1 Score"
   ]
  },
  {
   "cell_type": "markdown",
   "id": "9b01100e",
   "metadata": {
    "papermill": {
     "duration": 12.136019,
     "end_time": "2022-04-05T14:45:18.184828",
     "exception": false,
     "start_time": "2022-04-05T14:45:06.048809",
     "status": "completed"
    },
    "tags": []
   },
   "source": [
    "**Matthews Correlation Coefficient**"
   ]
  },
  {
   "cell_type": "code",
   "execution_count": 57,
   "id": "dd7b4e37",
   "metadata": {
    "execution": {
     "iopub.execute_input": "2022-04-05T14:45:41.595291Z",
     "iopub.status.busy": "2022-04-05T14:45:41.594748Z",
     "iopub.status.idle": "2022-04-05T14:45:41.601600Z",
     "shell.execute_reply": "2022-04-05T14:45:41.601164Z",
     "shell.execute_reply.started": "2022-04-01T10:32:43.771273Z"
    },
    "papermill": {
     "duration": 11.724788,
     "end_time": "2022-04-05T14:45:41.601738",
     "exception": false,
     "start_time": "2022-04-05T14:45:29.876950",
     "status": "completed"
    },
    "tags": []
   },
   "outputs": [],
   "source": [
    "MCC = matthews_corrcoef(y_truebin, y_predbin) # Matthews Correlation Coefficient"
   ]
  },
  {
   "cell_type": "code",
   "execution_count": 58,
   "id": "9b6d67ce",
   "metadata": {
    "execution": {
     "iopub.execute_input": "2022-04-05T14:46:05.583486Z",
     "iopub.status.busy": "2022-04-05T14:46:05.582702Z",
     "iopub.status.idle": "2022-04-05T14:46:05.586127Z",
     "shell.execute_reply": "2022-04-05T14:46:05.586782Z",
     "shell.execute_reply.started": "2022-04-01T10:32:43.773233Z"
    },
    "papermill": {
     "duration": 11.734317,
     "end_time": "2022-04-05T14:46:05.586966",
     "exception": false,
     "start_time": "2022-04-05T14:45:53.852649",
     "status": "completed"
    },
    "scrolled": true,
    "tags": []
   },
   "outputs": [
    {
     "name": "stdout",
     "output_type": "stream",
     "text": [
      "+------------------------------------------------+\n",
      "|       Performance of CGAN - DenseNet121        |\n",
      "+----------------------------------+-------------+\n",
      "| Metric                           | Performance |\n",
      "+----------------------------------+-------------+\n",
      "| True Positive Rate               | 0.9839      |\n",
      "| Accuracy                         | 0.9895      |\n",
      "| F1 Score                         | 0.9901      |\n",
      "| Matthews Correlation Coefficient | 0.9789      |\n",
      "+----------------------------------+-------------+\n"
     ]
    }
   ],
   "source": [
    "t = PrettyTable(['Metric', 'Performance'])\n",
    "t.add_row(['True Positive Rate', round(TPR,4)])\n",
    "t.add_row(['Accuracy', round(ACC,4)])\n",
    "t.add_row(['F1 Score', round(F1,4)])\n",
    "t.add_row(['Matthews Correlation Coefficient', round(MCC,4)])\n",
    "t.header = True\n",
    "t.align = \"l\"\n",
    "t.title = \"Performance of CGAN - DenseNet121\"\n",
    "print(t)"
   ]
  },
  {
   "cell_type": "code",
   "execution_count": 59,
   "id": "fd25fdad",
   "metadata": {
    "execution": {
     "iopub.execute_input": "2022-04-05T14:46:29.784295Z",
     "iopub.status.busy": "2022-04-05T14:46:29.783664Z",
     "iopub.status.idle": "2022-04-05T14:46:29.786685Z",
     "shell.execute_reply": "2022-04-05T14:46:29.786194Z",
     "shell.execute_reply.started": "2022-04-01T10:32:43.775179Z"
    },
    "papermill": {
     "duration": 11.720633,
     "end_time": "2022-04-05T14:46:29.786810",
     "exception": false,
     "start_time": "2022-04-05T14:46:18.066177",
     "status": "completed"
    },
    "tags": []
   },
   "outputs": [],
   "source": [
    "# Saving PrettyTable\n",
    "table = t.get_string()\n",
    "\n",
    "if cenv == 0:\n",
    "    with open('bin_performance_table.txt', 'w') as f:\n",
    "        f.write(table)\n",
    "if cenv == 1:\n",
    "    with open(f'{new_dir}/bin_performance_table.txt', 'w') as f:\n",
    "        f.write(table)"
   ]
  }
 ],
 "metadata": {
  "kernelspec": {
   "display_name": "Python 3",
   "language": "python",
   "name": "python3"
  },
  "language_info": {
   "codemirror_mode": {
    "name": "ipython",
    "version": 3
   },
   "file_extension": ".py",
   "mimetype": "text/x-python",
   "name": "python",
   "nbconvert_exporter": "python",
   "pygments_lexer": "ipython3",
   "version": "3.7.12"
  },
  "papermill": {
   "default_parameters": {},
   "duration": 4676.10165,
   "end_time": "2022-04-05T14:46:44.509623",
   "environment_variables": {},
   "exception": null,
   "input_path": "__notebook__.ipynb",
   "output_path": "__notebook__.ipynb",
   "parameters": {},
   "start_time": "2022-04-05T13:28:48.407973",
   "version": "2.3.3"
  }
 },
 "nbformat": 4,
 "nbformat_minor": 5
}
