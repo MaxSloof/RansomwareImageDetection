{
 "cells": [
  {
   "cell_type": "code",
   "execution_count": 1,
   "id": "84d0311f",
   "metadata": {
    "execution": {
     "iopub.execute_input": "2022-04-04T10:28:06.153800Z",
     "iopub.status.busy": "2022-04-04T10:28:06.153141Z",
     "iopub.status.idle": "2022-04-04T10:28:11.882814Z",
     "shell.execute_reply": "2022-04-04T10:28:11.883318Z",
     "shell.execute_reply.started": "2022-04-01T10:53:07.209899Z"
    },
    "id": "KXQu67zVoZAw",
    "papermill": {
     "duration": 5.792369,
     "end_time": "2022-04-04T10:28:11.883648",
     "exception": false,
     "start_time": "2022-04-04T10:28:06.091279",
     "status": "completed"
    },
    "tags": []
   },
   "outputs": [],
   "source": [
    "import tensorflow as tf\n",
    "import matplotlib.pyplot as plt\n",
    "from tensorflow.keras import datasets, layers, models, losses, Model\n",
    "from tensorflow.keras.preprocessing.image import ImageDataGenerator\n",
    "from tensorflow.keras.callbacks import ModelCheckpoint, ReduceLROnPlateau\n",
    "from sklearn.model_selection import train_test_split\n",
    "import numpy as np\n",
    "import os\n",
    "import math"
   ]
  },
  {
   "cell_type": "code",
   "execution_count": 2,
   "id": "9c652f30",
   "metadata": {
    "execution": {
     "iopub.execute_input": "2022-04-04T10:28:11.985384Z",
     "iopub.status.busy": "2022-04-04T10:28:11.984504Z",
     "iopub.status.idle": "2022-04-04T10:28:11.986359Z",
     "shell.execute_reply": "2022-04-04T10:28:11.986860Z",
     "shell.execute_reply.started": "2022-04-01T10:56:14.342814Z"
    },
    "papermill": {
     "duration": 0.054105,
     "end_time": "2022-04-04T10:28:11.987019",
     "exception": false,
     "start_time": "2022-04-04T10:28:11.932914",
     "status": "completed"
    },
    "tags": []
   },
   "outputs": [],
   "source": [
    "# Image size (height x width)\n",
    "ih = 64\n",
    "iw = 64\n",
    "\n",
    "# Grayscale or RGB\n",
    "ch = 'rgb'\n",
    "\n",
    "# Batch size \n",
    "batch_size = 64\n",
    "\n",
    "# Layer adapt\n",
    "ksize = 4 # Kernel size : was '4' for 64x64 image\n",
    "ssize = 2 # Stride size : was '2' for 64x64 image\n",
    "\n",
    "# Size of test set (in %)\n",
    "testsize = 0.3\n",
    "\n",
    "# Number of epochs in model\n",
    "epoch_t = 40\n",
    "\n",
    "# Where computation is performed: Kaggle (0) or Local (1)\n",
    "cenv = 0"
   ]
  },
  {
   "cell_type": "code",
   "execution_count": 3,
   "id": "aa48b2ab",
   "metadata": {
    "execution": {
     "iopub.execute_input": "2022-04-04T10:28:12.087717Z",
     "iopub.status.busy": "2022-04-04T10:28:12.086910Z",
     "iopub.status.idle": "2022-04-04T10:28:12.090146Z",
     "shell.execute_reply": "2022-04-04T10:28:12.090727Z",
     "shell.execute_reply.started": "2022-04-01T10:44:49.728585Z"
    },
    "papermill": {
     "duration": 0.055506,
     "end_time": "2022-04-04T10:28:12.090887",
     "exception": false,
     "start_time": "2022-04-04T10:28:12.035381",
     "status": "completed"
    },
    "scrolled": true,
    "tags": []
   },
   "outputs": [
    {
     "name": "stdout",
     "output_type": "stream",
     "text": [
      "Computation environment: Kaggle\n"
     ]
    }
   ],
   "source": [
    "if cenv == 0:\n",
    "    print(\"Computation environment: Kaggle\")\n",
    "if cenv == 1:\n",
    "    print(\"Computation environment: Local\")"
   ]
  },
  {
   "cell_type": "markdown",
   "id": "37de5109",
   "metadata": {
    "papermill": {
     "duration": 0.047048,
     "end_time": "2022-04-04T10:28:12.187688",
     "exception": false,
     "start_time": "2022-04-04T10:28:12.140640",
     "status": "completed"
    },
    "tags": []
   },
   "source": [
    "**Create new directory for version**"
   ]
  },
  {
   "cell_type": "code",
   "execution_count": 4,
   "id": "a89aa990",
   "metadata": {
    "execution": {
     "iopub.execute_input": "2022-04-04T10:28:12.291421Z",
     "iopub.status.busy": "2022-04-04T10:28:12.290589Z",
     "iopub.status.idle": "2022-04-04T10:28:12.292364Z",
     "shell.execute_reply": "2022-04-04T10:28:12.292869Z",
     "shell.execute_reply.started": "2022-04-01T10:44:49.742532Z"
    },
    "papermill": {
     "duration": 0.057855,
     "end_time": "2022-04-04T10:28:12.293002",
     "exception": false,
     "start_time": "2022-04-04T10:28:12.235147",
     "status": "completed"
    },
    "tags": []
   },
   "outputs": [],
   "source": [
    "if cenv == 1:\n",
    "    file_exists = []\n",
    "    vnum = 1\n",
    "    dir = \"C:/Users/Max/Documents/GitHub/ResNet\"\n",
    "    for files in os.listdir(dir):\n",
    "        if \"ResNet\" in files: \n",
    "            try:\n",
    "                vnum = max(vnum, int(files[-3:]))\n",
    "            except: \n",
    "                continue\n",
    "            new_vnum = vnum + 1\n",
    "            file_exists.append(True)\n",
    "        else: \n",
    "            file_exists.append(False)\n",
    "    # If this is the first notebook you want to save, a new folder will be created with version #001\n",
    "    if sum(file_exists) == 0:\n",
    "        new_vnum = 1\n",
    "        print(\"No matches found\")\n",
    "\n",
    "    else: \n",
    "        print(f\"{sum(file_exists)} matches(es) found\")\n",
    "        print(\"--------------\")\n",
    "\n",
    "    # Print new folder name\n",
    "    print(f\"New folder name: ResNet-local-v{new_vnum:03}\")\n",
    "    print(\"--------------\")\n",
    "    \n",
    "    # Create new folder with the name of the notebook and the version number\n",
    "    new_dir = f\"/Users/Max/Documents/GitHub/ResNet/ResNet-local-v{new_vnum:03}\"\n",
    "    os.makedirs(new_dir)"
   ]
  },
  {
   "cell_type": "markdown",
   "id": "d70b2820",
   "metadata": {
    "papermill": {
     "duration": 0.047612,
     "end_time": "2022-04-04T10:28:12.388443",
     "exception": false,
     "start_time": "2022-04-04T10:28:12.340831",
     "status": "completed"
    },
    "tags": []
   },
   "source": [
    "# Data"
   ]
  },
  {
   "cell_type": "code",
   "execution_count": 5,
   "id": "523fb23e",
   "metadata": {
    "execution": {
     "iopub.execute_input": "2022-04-04T10:28:12.491032Z",
     "iopub.status.busy": "2022-04-04T10:28:12.490238Z",
     "iopub.status.idle": "2022-04-04T10:28:12.492178Z",
     "shell.execute_reply": "2022-04-04T10:28:12.492586Z",
     "shell.execute_reply.started": "2022-04-01T10:44:49.753836Z"
    },
    "papermill": {
     "duration": 0.054852,
     "end_time": "2022-04-04T10:28:12.492733",
     "exception": false,
     "start_time": "2022-04-04T10:28:12.437881",
     "status": "completed"
    },
    "scrolled": true,
    "tags": []
   },
   "outputs": [],
   "source": [
    "if cenv == 0:\n",
    "    path_root = \"/kaggle/input/thesis-data\"\n",
    "    path_gen_images = \"/kaggle/input//cganlocalv007/cgan-local-v007\"\n",
    "    \n",
    "    # Directory where checkpoints of DCGAN are stored\n",
    "    checkpoint_dir = \"/kaggle/input/checkpoints\" \n",
    "\n",
    "if cenv == 1:\n",
    "    path_root = \"C:/Users/Max/Documents/thesis_data\"\n",
    "    path_gen_images = \"C:/Users/Max/Documents/image_data/cgan-local-v005\"\n",
    "    \n",
    "    # Directory where checkpoints of DCGAN are stored\n",
    "    checkpoint_dir = 'C:/Users/Max/Documents/GitHub/dcgan_kaggle_output/dcgan-kaggle-v002/checkpoints'\n",
    "    "
   ]
  },
  {
   "cell_type": "code",
   "execution_count": 6,
   "id": "ff14eae1",
   "metadata": {
    "execution": {
     "iopub.execute_input": "2022-04-04T10:28:12.593230Z",
     "iopub.status.busy": "2022-04-04T10:28:12.592457Z",
     "iopub.status.idle": "2022-04-04T10:28:12.594861Z",
     "shell.execute_reply": "2022-04-04T10:28:12.594421Z",
     "shell.execute_reply.started": "2022-04-01T10:44:49.762091Z"
    },
    "papermill": {
     "duration": 0.053903,
     "end_time": "2022-04-04T10:28:12.594969",
     "exception": false,
     "start_time": "2022-04-04T10:28:12.541066",
     "status": "completed"
    },
    "tags": []
   },
   "outputs": [],
   "source": [
    "im_si = (ih, iw)\n",
    "\n",
    "if(ch == 'rgb'):\n",
    "    chnum = 3\n",
    "elif(ch == 'grayscale'):\n",
    "    chnum = 1"
   ]
  },
  {
   "cell_type": "code",
   "execution_count": 7,
   "id": "184bb19c",
   "metadata": {
    "execution": {
     "iopub.execute_input": "2022-04-04T10:28:12.694921Z",
     "iopub.status.busy": "2022-04-04T10:28:12.694365Z",
     "iopub.status.idle": "2022-04-04T10:32:15.714422Z",
     "shell.execute_reply": "2022-04-04T10:32:15.713900Z",
     "shell.execute_reply.started": "2022-04-01T10:44:49.770648Z"
    },
    "papermill": {
     "duration": 243.072141,
     "end_time": "2022-04-04T10:32:15.714598",
     "exception": false,
     "start_time": "2022-04-04T10:28:12.642457",
     "status": "completed"
    },
    "tags": []
   },
   "outputs": [
    {
     "name": "stdout",
     "output_type": "stream",
     "text": [
      "Found 26548 images belonging to 11 classes.\n"
     ]
    }
   ],
   "source": [
    "batches = ImageDataGenerator().flow_from_directory(\n",
    "    directory  = path_root, \n",
    "    color_mode = ch, \n",
    "    target_size= (ih,iw), \n",
    "    interpolation=\"bicubic\",\n",
    "    class_mode = 'sparse',\n",
    "    batch_size=40000\n",
    ")\n",
    "imgs, labels = next(batches)"
   ]
  },
  {
   "cell_type": "code",
   "execution_count": 8,
   "id": "02ee7400",
   "metadata": {
    "execution": {
     "iopub.execute_input": "2022-04-04T10:32:15.823139Z",
     "iopub.status.busy": "2022-04-04T10:32:15.822477Z",
     "iopub.status.idle": "2022-04-04T10:38:35.197544Z",
     "shell.execute_reply": "2022-04-04T10:38:35.196643Z",
     "shell.execute_reply.started": "2022-04-01T10:46:41.022847Z"
    },
    "papermill": {
     "duration": 379.4309,
     "end_time": "2022-04-04T10:38:35.197853",
     "exception": false,
     "start_time": "2022-04-04T10:32:15.766953",
     "status": "completed"
    },
    "scrolled": true,
    "tags": []
   },
   "outputs": [
    {
     "name": "stdout",
     "output_type": "stream",
     "text": [
      "Found 100000 images belonging to 10 classes.\n"
     ]
    }
   ],
   "source": [
    "batches_gen = ImageDataGenerator().flow_from_directory(\n",
    "    directory  = path_gen_images, \n",
    "    color_mode = ch, \n",
    "    target_size= (ih,iw), \n",
    "    interpolation=\"bicubic\",\n",
    "    class_mode = 'sparse',\n",
    "    batch_size=40000\n",
    ")\n",
    "imgs_gen, labels_gen = next(batches_gen)"
   ]
  },
  {
   "cell_type": "code",
   "execution_count": 9,
   "id": "1c8d3317",
   "metadata": {
    "execution": {
     "iopub.execute_input": "2022-04-04T10:38:35.397744Z",
     "iopub.status.busy": "2022-04-04T10:38:35.396949Z",
     "iopub.status.idle": "2022-04-04T10:38:35.409835Z",
     "shell.execute_reply": "2022-04-04T10:38:35.409206Z",
     "shell.execute_reply.started": "2022-04-01T10:50:21.576417Z"
    },
    "papermill": {
     "duration": 0.104345,
     "end_time": "2022-04-04T10:38:35.409991",
     "exception": false,
     "start_time": "2022-04-04T10:38:35.305646",
     "status": "completed"
    },
    "tags": []
   },
   "outputs": [
    {
     "data": {
      "text/plain": [
       "(array([0., 1., 2., 3., 4., 5., 6., 7., 8., 9.], dtype=float32),\n",
       " array([4009, 4000, 4008, 3976, 3925, 4012, 3949, 3984, 4086, 4051]))"
      ]
     },
     "execution_count": 9,
     "metadata": {},
     "output_type": "execute_result"
    }
   ],
   "source": [
    "np.unique(labels_gen, return_counts=True)"
   ]
  },
  {
   "cell_type": "code",
   "execution_count": 10,
   "id": "8f6285ef",
   "metadata": {
    "execution": {
     "iopub.execute_input": "2022-04-04T10:38:35.579344Z",
     "iopub.status.busy": "2022-04-04T10:38:35.578539Z",
     "iopub.status.idle": "2022-04-04T10:38:36.650630Z",
     "shell.execute_reply": "2022-04-04T10:38:36.650144Z",
     "shell.execute_reply.started": "2022-04-01T10:50:21.776028Z"
    },
    "papermill": {
     "duration": 1.161095,
     "end_time": "2022-04-04T10:38:36.650769",
     "exception": false,
     "start_time": "2022-04-04T10:38:35.489674",
     "status": "completed"
    },
    "tags": []
   },
   "outputs": [],
   "source": [
    "imgs = tf.keras.applications.densenet.preprocess_input(imgs)\n",
    "labels = np.array(labels)"
   ]
  },
  {
   "cell_type": "code",
   "execution_count": 11,
   "id": "a86d49f5",
   "metadata": {
    "execution": {
     "iopub.execute_input": "2022-04-04T10:38:36.752990Z",
     "iopub.status.busy": "2022-04-04T10:38:36.751951Z",
     "iopub.status.idle": "2022-04-04T10:38:38.263242Z",
     "shell.execute_reply": "2022-04-04T10:38:38.262748Z",
     "shell.execute_reply.started": "2022-04-01T10:50:22.227661Z"
    },
    "papermill": {
     "duration": 1.563678,
     "end_time": "2022-04-04T10:38:38.263361",
     "exception": false,
     "start_time": "2022-04-04T10:38:36.699683",
     "status": "completed"
    },
    "tags": []
   },
   "outputs": [],
   "source": [
    "imgs_gen = tf.keras.applications.densenet.preprocess_input(imgs_gen)\n",
    "labels_gen = np.array(labels_gen)"
   ]
  },
  {
   "cell_type": "code",
   "execution_count": 12,
   "id": "28c50641",
   "metadata": {
    "execution": {
     "iopub.execute_input": "2022-04-04T10:38:38.374159Z",
     "iopub.status.busy": "2022-04-04T10:38:38.373264Z",
     "iopub.status.idle": "2022-04-04T10:38:38.758553Z",
     "shell.execute_reply": "2022-04-04T10:38:38.757934Z",
     "shell.execute_reply.started": "2022-04-01T11:03:50.048279Z"
    },
    "papermill": {
     "duration": 0.443059,
     "end_time": "2022-04-04T10:38:38.758713",
     "exception": false,
     "start_time": "2022-04-04T10:38:38.315654",
     "status": "completed"
    },
    "tags": []
   },
   "outputs": [],
   "source": [
    "X_train, X_test, y_train, y_test = train_test_split(imgs, labels, test_size=testsize)"
   ]
  },
  {
   "cell_type": "code",
   "execution_count": 13,
   "id": "f7631444",
   "metadata": {
    "execution": {
     "iopub.execute_input": "2022-04-04T10:38:38.868105Z",
     "iopub.status.busy": "2022-04-04T10:38:38.866935Z",
     "iopub.status.idle": "2022-04-04T10:38:39.888722Z",
     "shell.execute_reply": "2022-04-04T10:38:39.888189Z",
     "shell.execute_reply.started": "2022-04-01T11:03:51.046232Z"
    },
    "papermill": {
     "duration": 1.079488,
     "end_time": "2022-04-04T10:38:39.888852",
     "exception": false,
     "start_time": "2022-04-04T10:38:38.809364",
     "status": "completed"
    },
    "tags": []
   },
   "outputs": [],
   "source": [
    "X_train = np.concatenate((X_train, imgs_gen), axis = 0)"
   ]
  },
  {
   "cell_type": "code",
   "execution_count": 14,
   "id": "8c05546d",
   "metadata": {
    "execution": {
     "iopub.execute_input": "2022-04-04T10:38:39.990587Z",
     "iopub.status.busy": "2022-04-04T10:38:39.989028Z",
     "iopub.status.idle": "2022-04-04T10:38:39.991174Z",
     "shell.execute_reply": "2022-04-04T10:38:39.991584Z",
     "shell.execute_reply.started": "2022-04-01T11:03:54.631929Z"
    },
    "papermill": {
     "duration": 0.054431,
     "end_time": "2022-04-04T10:38:39.991711",
     "exception": false,
     "start_time": "2022-04-04T10:38:39.937280",
     "status": "completed"
    },
    "tags": []
   },
   "outputs": [],
   "source": [
    "y_train = np.concatenate((y_train, labels_gen), axis = 0)"
   ]
  },
  {
   "cell_type": "code",
   "execution_count": 15,
   "id": "9004b9cc",
   "metadata": {
    "execution": {
     "iopub.execute_input": "2022-04-04T10:38:40.092490Z",
     "iopub.status.busy": "2022-04-04T10:38:40.091688Z",
     "iopub.status.idle": "2022-04-04T10:38:40.095788Z",
     "shell.execute_reply": "2022-04-04T10:38:40.096160Z",
     "shell.execute_reply.started": "2022-04-01T11:04:14.337645Z"
    },
    "papermill": {
     "duration": 0.056932,
     "end_time": "2022-04-04T10:38:40.096281",
     "exception": false,
     "start_time": "2022-04-04T10:38:40.039349",
     "status": "completed"
    },
    "tags": []
   },
   "outputs": [
    {
     "name": "stdout",
     "output_type": "stream",
     "text": [
      "Size of training data: 58583 | Shape of training data (58583, 64, 64, 3)\n",
      "Size of training data: 7965  | Shape of training data (7965, 64, 64, 3)\n",
      "Shape of training labels (58583,)\n",
      "Shape of training labels (7965,)\n"
     ]
    }
   ],
   "source": [
    "X_train_size = len(X_train)\n",
    "X_test_size = len(X_test)\n",
    "\n",
    "print(f\"Size of training data: {X_train_size} | Shape of training data {X_train.shape}\")\n",
    "print(f\"Size of training data: {X_test_size}  | Shape of training data {X_test.shape}\")\n",
    "print(f\"Shape of training labels {y_train.shape}\")\n",
    "print(f\"Shape of training labels {y_test.shape}\")"
   ]
  },
  {
   "cell_type": "code",
   "execution_count": 16,
   "id": "83713b12",
   "metadata": {
    "execution": {
     "iopub.execute_input": "2022-04-04T10:38:40.196411Z",
     "iopub.status.busy": "2022-04-04T10:38:40.195605Z",
     "iopub.status.idle": "2022-04-04T10:38:40.201149Z",
     "shell.execute_reply": "2022-04-04T10:38:40.200718Z",
     "shell.execute_reply.started": "2022-04-01T11:00:29.308582Z"
    },
    "papermill": {
     "duration": 0.056884,
     "end_time": "2022-04-04T10:38:40.201250",
     "exception": false,
     "start_time": "2022-04-04T10:38:40.144366",
     "status": "completed"
    },
    "tags": []
   },
   "outputs": [],
   "source": [
    "sample_weights1 = np.full(math.floor(len(labels)*(1-testsize)), 1)\n",
    "sample_weights2 = np.full(len(labels_gen), 0.4)\n",
    "sample_weights = np.concatenate((sample_weights1, sample_weights2))"
   ]
  },
  {
   "cell_type": "code",
   "execution_count": 17,
   "id": "535cfeea",
   "metadata": {
    "execution": {
     "iopub.execute_input": "2022-04-04T10:38:40.306012Z",
     "iopub.status.busy": "2022-04-04T10:38:40.305365Z",
     "iopub.status.idle": "2022-04-04T10:38:40.308070Z",
     "shell.execute_reply": "2022-04-04T10:38:40.308481Z",
     "shell.execute_reply.started": "2022-04-01T11:00:30.083466Z"
    },
    "papermill": {
     "duration": 0.056384,
     "end_time": "2022-04-04T10:38:40.308623",
     "exception": false,
     "start_time": "2022-04-04T10:38:40.252239",
     "status": "completed"
    },
    "tags": []
   },
   "outputs": [
    {
     "data": {
      "text/plain": [
       "array([1. , 1. , 1. , ..., 0.4, 0.4, 0.4])"
      ]
     },
     "execution_count": 17,
     "metadata": {},
     "output_type": "execute_result"
    }
   ],
   "source": [
    "sample_weights"
   ]
  },
  {
   "cell_type": "markdown",
   "id": "d4c6e826",
   "metadata": {
    "papermill": {
     "duration": 0.050078,
     "end_time": "2022-04-04T10:38:40.407053",
     "exception": false,
     "start_time": "2022-04-04T10:38:40.356975",
     "status": "completed"
    },
    "tags": []
   },
   "source": [
    "# DenseNet"
   ]
  },
  {
   "cell_type": "code",
   "execution_count": 18,
   "id": "f6a23524",
   "metadata": {
    "execution": {
     "iopub.execute_input": "2022-04-04T10:38:40.513661Z",
     "iopub.status.busy": "2022-04-04T10:38:40.512872Z",
     "iopub.status.idle": "2022-04-04T10:38:47.632175Z",
     "shell.execute_reply": "2022-04-04T10:38:47.631548Z",
     "shell.execute_reply.started": "2022-04-01T11:01:21.765567Z"
    },
    "id": "d2mRBkTBoig8",
    "outputId": "7aeee00a-bdff-41db-8473-6e04850605b5",
    "papermill": {
     "duration": 7.174455,
     "end_time": "2022-04-04T10:38:47.632310",
     "exception": false,
     "start_time": "2022-04-04T10:38:40.457855",
     "status": "completed"
    },
    "tags": []
   },
   "outputs": [
    {
     "name": "stderr",
     "output_type": "stream",
     "text": [
      "2022-04-04 10:38:40.618613: I tensorflow/stream_executor/cuda/cuda_gpu_executor.cc:937] successful NUMA node read from SysFS had negative value (-1), but there must be at least one NUMA node, so returning NUMA node zero\n",
      "2022-04-04 10:38:40.702543: I tensorflow/stream_executor/cuda/cuda_gpu_executor.cc:937] successful NUMA node read from SysFS had negative value (-1), but there must be at least one NUMA node, so returning NUMA node zero\n",
      "2022-04-04 10:38:40.703264: I tensorflow/stream_executor/cuda/cuda_gpu_executor.cc:937] successful NUMA node read from SysFS had negative value (-1), but there must be at least one NUMA node, so returning NUMA node zero\n",
      "2022-04-04 10:38:40.704377: I tensorflow/core/platform/cpu_feature_guard.cc:142] This TensorFlow binary is optimized with oneAPI Deep Neural Network Library (oneDNN) to use the following CPU instructions in performance-critical operations:  AVX2 AVX512F FMA\n",
      "To enable them in other operations, rebuild TensorFlow with the appropriate compiler flags.\n",
      "2022-04-04 10:38:40.705023: I tensorflow/stream_executor/cuda/cuda_gpu_executor.cc:937] successful NUMA node read from SysFS had negative value (-1), but there must be at least one NUMA node, so returning NUMA node zero\n",
      "2022-04-04 10:38:40.705698: I tensorflow/stream_executor/cuda/cuda_gpu_executor.cc:937] successful NUMA node read from SysFS had negative value (-1), but there must be at least one NUMA node, so returning NUMA node zero\n",
      "2022-04-04 10:38:40.706286: I tensorflow/stream_executor/cuda/cuda_gpu_executor.cc:937] successful NUMA node read from SysFS had negative value (-1), but there must be at least one NUMA node, so returning NUMA node zero\n",
      "2022-04-04 10:38:42.366696: I tensorflow/stream_executor/cuda/cuda_gpu_executor.cc:937] successful NUMA node read from SysFS had negative value (-1), but there must be at least one NUMA node, so returning NUMA node zero\n",
      "2022-04-04 10:38:42.367445: I tensorflow/stream_executor/cuda/cuda_gpu_executor.cc:937] successful NUMA node read from SysFS had negative value (-1), but there must be at least one NUMA node, so returning NUMA node zero\n",
      "2022-04-04 10:38:42.368122: I tensorflow/stream_executor/cuda/cuda_gpu_executor.cc:937] successful NUMA node read from SysFS had negative value (-1), but there must be at least one NUMA node, so returning NUMA node zero\n",
      "2022-04-04 10:38:42.368712: I tensorflow/core/common_runtime/gpu/gpu_device.cc:1510] Created device /job:localhost/replica:0/task:0/device:GPU:0 with 15403 MB memory:  -> device: 0, name: Tesla P100-PCIE-16GB, pci bus id: 0000:00:04.0, compute capability: 6.0\n"
     ]
    },
    {
     "name": "stdout",
     "output_type": "stream",
     "text": [
      "Downloading data from https://storage.googleapis.com/tensorflow/keras-applications/densenet/densenet201_weights_tf_dim_ordering_tf_kernels_notop.h5\n",
      "74842112/74836368 [==============================] - 1s 0us/step\n",
      "74850304/74836368 [==============================] - 1s 0us/step\n"
     ]
    }
   ],
   "source": [
    "base_model = tf.keras.applications.DenseNet201(weights = 'imagenet', include_top = False, input_shape = (64,64,3))"
   ]
  },
  {
   "cell_type": "code",
   "execution_count": 19,
   "id": "95a59761",
   "metadata": {
    "execution": {
     "iopub.execute_input": "2022-04-04T10:38:47.747780Z",
     "iopub.status.busy": "2022-04-04T10:38:47.746781Z",
     "iopub.status.idle": "2022-04-04T10:38:47.765606Z",
     "shell.execute_reply": "2022-04-04T10:38:47.765078Z",
     "shell.execute_reply.started": "2022-04-01T11:01:30.752394Z"
    },
    "id": "rWSL-tt4qBRa",
    "papermill": {
     "duration": 0.078009,
     "end_time": "2022-04-04T10:38:47.765718",
     "exception": false,
     "start_time": "2022-04-04T10:38:47.687709",
     "status": "completed"
    },
    "tags": []
   },
   "outputs": [],
   "source": [
    "x = layers.Flatten()(base_model.output)\n",
    "x = layers.Dense(1000, activation='relu')(x)\n",
    "predictions = layers.Dense(11, activation = 'softmax')(x)"
   ]
  },
  {
   "cell_type": "code",
   "execution_count": 20,
   "id": "92c2f762",
   "metadata": {
    "execution": {
     "iopub.execute_input": "2022-04-04T10:38:47.883917Z",
     "iopub.status.busy": "2022-04-04T10:38:47.883095Z",
     "iopub.status.idle": "2022-04-04T10:38:47.943446Z",
     "shell.execute_reply": "2022-04-04T10:38:47.942544Z",
     "shell.execute_reply.started": "2022-04-01T11:01:30.777406Z"
    },
    "id": "s1sYr8cIt0nY",
    "papermill": {
     "duration": 0.121867,
     "end_time": "2022-04-04T10:38:47.943564",
     "exception": false,
     "start_time": "2022-04-04T10:38:47.821697",
     "status": "completed"
    },
    "tags": []
   },
   "outputs": [],
   "source": [
    "head_model = Model(inputs = base_model.input, outputs = predictions)\n",
    "head_model.compile(optimizer='adam', loss=losses.sparse_categorical_crossentropy, metrics=['accuracy'])"
   ]
  },
  {
   "cell_type": "code",
   "execution_count": 21,
   "id": "0ca8c3dc",
   "metadata": {
    "execution": {
     "iopub.execute_input": "2022-04-04T10:38:48.079514Z",
     "iopub.status.busy": "2022-04-04T10:38:48.076212Z",
     "iopub.status.idle": "2022-04-04T10:38:48.082191Z",
     "shell.execute_reply": "2022-04-04T10:38:48.081426Z"
    },
    "papermill": {
     "duration": 0.083561,
     "end_time": "2022-04-04T10:38:48.082309",
     "exception": false,
     "start_time": "2022-04-04T10:38:47.998748",
     "status": "completed"
    },
    "tags": []
   },
   "outputs": [],
   "source": [
    "for layer in head_model.layers[:-8]:\n",
    "    layer.trainable=False\n",
    "    \n",
    "for layer in head_model.layers[-8:]:\n",
    "    layer.trainable=True"
   ]
  },
  {
   "cell_type": "markdown",
   "id": "d7c74836",
   "metadata": {
    "papermill": {
     "duration": 0.054392,
     "end_time": "2022-04-04T10:38:48.191257",
     "exception": false,
     "start_time": "2022-04-04T10:38:48.136865",
     "status": "completed"
    },
    "tags": []
   },
   "source": [
    "Callbacks"
   ]
  },
  {
   "cell_type": "code",
   "execution_count": 22,
   "id": "d7ec4675",
   "metadata": {
    "execution": {
     "iopub.execute_input": "2022-04-04T10:38:48.308900Z",
     "iopub.status.busy": "2022-04-04T10:38:48.308015Z",
     "iopub.status.idle": "2022-04-04T10:38:48.309926Z",
     "shell.execute_reply": "2022-04-04T10:38:48.310358Z",
     "shell.execute_reply.started": "2022-04-01T11:04:45.60567Z"
    },
    "papermill": {
     "duration": 0.063146,
     "end_time": "2022-04-04T10:38:48.310489",
     "exception": false,
     "start_time": "2022-04-04T10:38:48.247343",
     "status": "completed"
    },
    "tags": []
   },
   "outputs": [],
   "source": [
    "anne = ReduceLROnPlateau(monitor='val_accuracy', factor=0.5, patience=5, verbose=1, min_lr=1e-4)\n",
    "if cenv == 0:\n",
    "    checkpoint = ModelCheckpoint('model.h5', verbose=1, save_best_only=True)\n",
    "if cenv == 1:\n",
    "    checkpoint = ModelCheckpoint(f'{new_dir}/model.h5', verbose=1, save_best_only=True)\n"
   ]
  },
  {
   "cell_type": "code",
   "execution_count": 23,
   "id": "7e91e791",
   "metadata": {
    "execution": {
     "iopub.execute_input": "2022-04-04T10:38:48.459242Z",
     "iopub.status.busy": "2022-04-04T10:38:48.444051Z",
     "iopub.status.idle": "2022-04-04T11:54:40.443789Z",
     "shell.execute_reply": "2022-04-04T11:54:40.442453Z",
     "shell.execute_reply.started": "2022-04-01T11:04:33.854385Z"
    },
    "papermill": {
     "duration": 4552.078907,
     "end_time": "2022-04-04T11:54:40.444589",
     "exception": false,
     "start_time": "2022-04-04T10:38:48.365682",
     "status": "completed"
    },
    "tags": []
   },
   "outputs": [
    {
     "name": "stderr",
     "output_type": "stream",
     "text": [
      "2022-04-04 10:38:48.475068: W tensorflow/core/framework/cpu_allocator_impl.cc:80] Allocation of 2879471616 exceeds 10% of free system memory.\n",
      "2022-04-04 10:39:00.470283: W tensorflow/core/framework/cpu_allocator_impl.cc:80] Allocation of 2879471616 exceeds 10% of free system memory.\n",
      "2022-04-04 10:39:02.597221: I tensorflow/compiler/mlir/mlir_graph_optimization_pass.cc:185] None of the MLIR Optimization Passes are enabled (registered 2)\n"
     ]
    },
    {
     "name": "stdout",
     "output_type": "stream",
     "text": [
      "Epoch 1/40\n"
     ]
    },
    {
     "name": "stderr",
     "output_type": "stream",
     "text": [
      "2022-04-04 10:39:19.477562: I tensorflow/stream_executor/cuda/cuda_dnn.cc:369] Loaded cuDNN version 8005\n"
     ]
    },
    {
     "name": "stdout",
     "output_type": "stream",
     "text": [
      "916/916 [==============================] - ETA: 0s - loss: 0.2645 - accuracy: 0.9413"
     ]
    },
    {
     "name": "stderr",
     "output_type": "stream",
     "text": [
      "2022-04-04 10:41:08.177780: W tensorflow/core/framework/cpu_allocator_impl.cc:80] Allocation of 391495680 exceeds 10% of free system memory.\n",
      "2022-04-04 10:41:08.653632: W tensorflow/core/framework/cpu_allocator_impl.cc:80] Allocation of 391495680 exceeds 10% of free system memory.\n"
     ]
    },
    {
     "name": "stdout",
     "output_type": "stream",
     "text": [
      "916/916 [==============================] - 134s 120ms/step - loss: 0.2645 - accuracy: 0.9413 - val_loss: 0.3096 - val_accuracy: 0.9026\n",
      "\n",
      "Epoch 00001: val_loss improved from inf to 0.30959, saving model to model.h5\n",
      "Epoch 2/40\n",
      "916/916 [==============================] - 107s 117ms/step - loss: 0.0900 - accuracy: 0.9734 - val_loss: 0.2217 - val_accuracy: 0.9317\n",
      "\n",
      "Epoch 00002: val_loss improved from 0.30959 to 0.22173, saving model to model.h5\n",
      "Epoch 3/40\n",
      "916/916 [==============================] - 108s 118ms/step - loss: 0.0919 - accuracy: 0.9717 - val_loss: 0.2662 - val_accuracy: 0.9307\n",
      "\n",
      "Epoch 00003: val_loss did not improve from 0.22173\n",
      "Epoch 4/40\n",
      "916/916 [==============================] - 109s 118ms/step - loss: 0.1079 - accuracy: 0.9714 - val_loss: 0.3002 - val_accuracy: 0.9287\n",
      "\n",
      "Epoch 00004: val_loss did not improve from 0.22173\n",
      "Epoch 5/40\n",
      "916/916 [==============================] - 106s 116ms/step - loss: 0.0726 - accuracy: 0.9773 - val_loss: 0.1916 - val_accuracy: 0.9345\n",
      "\n",
      "Epoch 00005: val_loss improved from 0.22173 to 0.19162, saving model to model.h5\n",
      "Epoch 6/40\n",
      "916/916 [==============================] - 111s 121ms/step - loss: 0.0587 - accuracy: 0.9811 - val_loss: 0.5641 - val_accuracy: 0.9173\n",
      "\n",
      "Epoch 00006: val_loss did not improve from 0.19162\n",
      "Epoch 7/40\n",
      "916/916 [==============================] - 109s 119ms/step - loss: 0.0681 - accuracy: 0.9790 - val_loss: 0.4277 - val_accuracy: 0.8506\n",
      "\n",
      "Epoch 00007: val_loss did not improve from 0.19162\n",
      "Epoch 8/40\n",
      "916/916 [==============================] - 110s 120ms/step - loss: 0.0677 - accuracy: 0.9791 - val_loss: 0.1611 - val_accuracy: 0.9484\n",
      "\n",
      "Epoch 00008: val_loss improved from 0.19162 to 0.16109, saving model to model.h5\n",
      "Epoch 9/40\n",
      "916/916 [==============================] - 110s 120ms/step - loss: 0.0464 - accuracy: 0.9852 - val_loss: 0.1714 - val_accuracy: 0.9415\n",
      "\n",
      "Epoch 00009: val_loss did not improve from 0.16109\n",
      "Epoch 10/40\n",
      "916/916 [==============================] - 112s 122ms/step - loss: 0.0430 - accuracy: 0.9859 - val_loss: 0.1611 - val_accuracy: 0.9512\n",
      "\n",
      "Epoch 00010: val_loss did not improve from 0.16109\n",
      "Epoch 11/40\n",
      "916/916 [==============================] - 111s 121ms/step - loss: 0.0568 - accuracy: 0.9818 - val_loss: 0.1714 - val_accuracy: 0.9463\n",
      "\n",
      "Epoch 00011: val_loss did not improve from 0.16109\n",
      "Epoch 12/40\n",
      "916/916 [==============================] - 112s 122ms/step - loss: 0.0411 - accuracy: 0.9870 - val_loss: 0.1407 - val_accuracy: 0.9554\n",
      "\n",
      "Epoch 00012: val_loss improved from 0.16109 to 0.14067, saving model to model.h5\n",
      "Epoch 13/40\n",
      "916/916 [==============================] - 113s 123ms/step - loss: 0.0360 - accuracy: 0.9886 - val_loss: 0.1417 - val_accuracy: 0.9562\n",
      "\n",
      "Epoch 00013: val_loss did not improve from 0.14067\n",
      "Epoch 14/40\n",
      "916/916 [==============================] - 112s 122ms/step - loss: 0.0386 - accuracy: 0.9875 - val_loss: 0.1926 - val_accuracy: 0.9529\n",
      "\n",
      "Epoch 00014: val_loss did not improve from 0.14067\n",
      "Epoch 15/40\n",
      "916/916 [==============================] - 114s 124ms/step - loss: 0.0502 - accuracy: 0.9862 - val_loss: 0.1492 - val_accuracy: 0.9558\n",
      "\n",
      "Epoch 00015: val_loss did not improve from 0.14067\n",
      "Epoch 16/40\n",
      "916/916 [==============================] - 110s 120ms/step - loss: 0.0326 - accuracy: 0.9897 - val_loss: 0.1401 - val_accuracy: 0.9588\n",
      "\n",
      "Epoch 00016: val_loss improved from 0.14067 to 0.14007, saving model to model.h5\n",
      "Epoch 17/40\n",
      "916/916 [==============================] - 112s 123ms/step - loss: 0.0298 - accuracy: 0.9905 - val_loss: 0.1738 - val_accuracy: 0.9535\n",
      "\n",
      "Epoch 00017: val_loss did not improve from 0.14007\n",
      "Epoch 18/40\n",
      "916/916 [==============================] - 113s 123ms/step - loss: 0.0287 - accuracy: 0.9906 - val_loss: 0.1887 - val_accuracy: 0.9492\n",
      "\n",
      "Epoch 00018: val_loss did not improve from 0.14007\n",
      "Epoch 19/40\n",
      "916/916 [==============================] - 109s 118ms/step - loss: 0.0291 - accuracy: 0.9907 - val_loss: 0.1572 - val_accuracy: 0.9598\n",
      "\n",
      "Epoch 00019: val_loss did not improve from 0.14007\n",
      "Epoch 20/40\n",
      "916/916 [==============================] - 114s 125ms/step - loss: 0.0258 - accuracy: 0.9917 - val_loss: 0.1707 - val_accuracy: 0.9547\n",
      "\n",
      "Epoch 00020: val_loss did not improve from 0.14007\n",
      "Epoch 21/40\n",
      "916/916 [==============================] - 115s 125ms/step - loss: 0.0258 - accuracy: 0.9917 - val_loss: 0.1677 - val_accuracy: 0.9573\n",
      "\n",
      "Epoch 00021: val_loss did not improve from 0.14007\n",
      "Epoch 22/40\n",
      "916/916 [==============================] - 109s 119ms/step - loss: 0.0258 - accuracy: 0.9918 - val_loss: 0.1743 - val_accuracy: 0.9592\n",
      "\n",
      "Epoch 00022: val_loss did not improve from 0.14007\n",
      "Epoch 23/40\n",
      "916/916 [==============================] - 115s 126ms/step - loss: 0.0282 - accuracy: 0.9909 - val_loss: 0.1639 - val_accuracy: 0.9574\n",
      "\n",
      "Epoch 00023: val_loss did not improve from 0.14007\n",
      "Epoch 24/40\n",
      "916/916 [==============================] - 112s 123ms/step - loss: 0.0229 - accuracy: 0.9927 - val_loss: 0.1632 - val_accuracy: 0.9601\n",
      "\n",
      "Epoch 00024: val_loss did not improve from 0.14007\n",
      "Epoch 25/40\n",
      "916/916 [==============================] - 115s 126ms/step - loss: 0.0212 - accuracy: 0.9929 - val_loss: 0.1668 - val_accuracy: 0.9586\n",
      "\n",
      "Epoch 00025: val_loss did not improve from 0.14007\n",
      "Epoch 26/40\n",
      "916/916 [==============================] - 111s 122ms/step - loss: 0.0218 - accuracy: 0.9928 - val_loss: 0.1763 - val_accuracy: 0.9593\n",
      "\n",
      "Epoch 00026: val_loss did not improve from 0.14007\n",
      "Epoch 27/40\n",
      "916/916 [==============================] - 115s 126ms/step - loss: 0.0203 - accuracy: 0.9934 - val_loss: 0.1841 - val_accuracy: 0.9616\n",
      "\n",
      "Epoch 00027: val_loss did not improve from 0.14007\n",
      "Epoch 28/40\n",
      "916/916 [==============================] - 115s 125ms/step - loss: 0.0226 - accuracy: 0.9927 - val_loss: 0.1687 - val_accuracy: 0.9631\n",
      "\n",
      "Epoch 00028: val_loss did not improve from 0.14007\n",
      "Epoch 29/40\n",
      "916/916 [==============================] - 113s 123ms/step - loss: 0.0236 - accuracy: 0.9926 - val_loss: 0.1871 - val_accuracy: 0.9608\n",
      "\n",
      "Epoch 00029: val_loss did not improve from 0.14007\n",
      "Epoch 30/40\n",
      "916/916 [==============================] - 112s 123ms/step - loss: 0.0247 - accuracy: 0.9934 - val_loss: 0.1713 - val_accuracy: 0.9617\n",
      "\n",
      "Epoch 00030: val_loss did not improve from 0.14007\n",
      "Epoch 31/40\n",
      "916/916 [==============================] - 112s 122ms/step - loss: 0.0168 - accuracy: 0.9945 - val_loss: 0.1888 - val_accuracy: 0.9572\n",
      "\n",
      "Epoch 00031: val_loss did not improve from 0.14007\n",
      "Epoch 32/40\n",
      "916/916 [==============================] - 111s 121ms/step - loss: 0.0190 - accuracy: 0.9943 - val_loss: 0.1902 - val_accuracy: 0.9612\n",
      "\n",
      "Epoch 00032: val_loss did not improve from 0.14007\n",
      "Epoch 33/40\n",
      "916/916 [==============================] - 105s 114ms/step - loss: 0.0185 - accuracy: 0.9940 - val_loss: 0.1962 - val_accuracy: 0.9610\n",
      "\n",
      "Epoch 00033: ReduceLROnPlateau reducing learning rate to 0.0005000000237487257.\n",
      "\n",
      "Epoch 00033: val_loss did not improve from 0.14007\n",
      "Epoch 34/40\n",
      "916/916 [==============================] - 113s 123ms/step - loss: 0.0144 - accuracy: 0.9951 - val_loss: 0.1824 - val_accuracy: 0.9645\n",
      "\n",
      "Epoch 00034: val_loss did not improve from 0.14007\n",
      "Epoch 35/40\n",
      "916/916 [==============================] - 112s 122ms/step - loss: 0.0132 - accuracy: 0.9955 - val_loss: 0.1858 - val_accuracy: 0.9637\n",
      "\n",
      "Epoch 00035: val_loss did not improve from 0.14007\n",
      "Epoch 36/40\n",
      "916/916 [==============================] - 112s 123ms/step - loss: 0.0130 - accuracy: 0.9955 - val_loss: 0.1907 - val_accuracy: 0.9635\n",
      "\n",
      "Epoch 00036: val_loss did not improve from 0.14007\n",
      "Epoch 37/40\n",
      "916/916 [==============================] - 112s 122ms/step - loss: 0.0131 - accuracy: 0.9954 - val_loss: 0.1928 - val_accuracy: 0.9640\n",
      "\n",
      "Epoch 00037: val_loss did not improve from 0.14007\n",
      "Epoch 38/40\n",
      "916/916 [==============================] - 105s 115ms/step - loss: 0.0138 - accuracy: 0.9952 - val_loss: 0.2092 - val_accuracy: 0.9640\n",
      "\n",
      "Epoch 00038: val_loss did not improve from 0.14007\n",
      "Epoch 39/40\n",
      "916/916 [==============================] - 111s 121ms/step - loss: 0.0121 - accuracy: 0.9957 - val_loss: 0.2192 - val_accuracy: 0.9630\n",
      "\n",
      "Epoch 00039: ReduceLROnPlateau reducing learning rate to 0.0002500000118743628.\n",
      "\n",
      "Epoch 00039: val_loss did not improve from 0.14007\n",
      "Epoch 40/40\n",
      "916/916 [==============================] - 114s 125ms/step - loss: 0.0110 - accuracy: 0.9959 - val_loss: 0.2258 - val_accuracy: 0.9625\n",
      "\n",
      "Epoch 00040: val_loss did not improve from 0.14007\n"
     ]
    }
   ],
   "source": [
    "history = head_model.fit(\n",
    "    X_train, \n",
    "    y_train,\n",
    "    batch_size=64, \n",
    "    epochs=epoch_t, \n",
    "    validation_data=(X_test, y_test),\n",
    "    sample_weight = sample_weights,\n",
    "    callbacks = [anne, checkpoint]) # EPOCHS WAS 40"
   ]
  },
  {
   "cell_type": "code",
   "execution_count": 24,
   "id": "f2d0683d",
   "metadata": {
    "execution": {
     "iopub.execute_input": "2022-04-04T11:55:05.183982Z",
     "iopub.status.busy": "2022-04-04T11:55:05.183054Z",
     "iopub.status.idle": "2022-04-04T11:55:16.252952Z",
     "shell.execute_reply": "2022-04-04T11:55:16.253490Z",
     "shell.execute_reply.started": "2022-04-01T10:32:43.720611Z"
    },
    "id": "3b5bRktf4ydg",
    "outputId": "37f5eb06-7caa-4c5f-b6fd-9b5758a1f057",
    "papermill": {
     "duration": 23.273999,
     "end_time": "2022-04-04T11:55:16.253665",
     "exception": false,
     "start_time": "2022-04-04T11:54:52.979666",
     "status": "completed"
    },
    "tags": []
   },
   "outputs": [
    {
     "name": "stderr",
     "output_type": "stream",
     "text": [
      "2022-04-04 11:55:05.183039: W tensorflow/core/framework/cpu_allocator_impl.cc:80] Allocation of 391495680 exceeds 10% of free system memory.\n"
     ]
    },
    {
     "name": "stdout",
     "output_type": "stream",
     "text": [
      "249/249 [==============================] - 9s 34ms/step - loss: 0.2258 - accuracy: 0.9625\n",
      "Overall CNN Accuracy: 0.9624607563018799\n",
      "(The number of correct predictions divided by the number of total predictions)\n"
     ]
    }
   ],
   "source": [
    "scores = head_model.evaluate(X_test, y_test)\n",
    "print(f\"Overall CNN Accuracy: {scores[1]}\\n(The number of correct predictions divided by the number of total predictions)\")"
   ]
  },
  {
   "cell_type": "markdown",
   "id": "ed609e25",
   "metadata": {
    "papermill": {
     "duration": 11.957479,
     "end_time": "2022-04-04T11:55:40.183993",
     "exception": false,
     "start_time": "2022-04-04T11:55:28.226514",
     "status": "completed"
    },
    "tags": []
   },
   "source": [
    "# Plots"
   ]
  },
  {
   "cell_type": "code",
   "execution_count": 25,
   "id": "f07f8432",
   "metadata": {
    "execution": {
     "iopub.execute_input": "2022-04-04T11:56:04.591875Z",
     "iopub.status.busy": "2022-04-04T11:56:04.590948Z",
     "iopub.status.idle": "2022-04-04T11:56:04.596289Z",
     "shell.execute_reply": "2022-04-04T11:56:04.595866Z",
     "shell.execute_reply.started": "2022-04-01T10:32:43.722502Z"
    },
    "papermill": {
     "duration": 12.000956,
     "end_time": "2022-04-04T11:56:04.596403",
     "exception": false,
     "start_time": "2022-04-04T11:55:52.595447",
     "status": "completed"
    },
    "tags": []
   },
   "outputs": [],
   "source": [
    "multi_distribution = np.unique(labels, return_counts=True)"
   ]
  },
  {
   "cell_type": "code",
   "execution_count": 26,
   "id": "bc9c9299",
   "metadata": {
    "execution": {
     "iopub.execute_input": "2022-04-04T11:56:29.285978Z",
     "iopub.status.busy": "2022-04-04T11:56:29.285177Z",
     "iopub.status.idle": "2022-04-04T11:56:29.287217Z",
     "shell.execute_reply": "2022-04-04T11:56:29.287603Z",
     "shell.execute_reply.started": "2022-04-01T10:32:43.724473Z"
    },
    "papermill": {
     "duration": 12.654928,
     "end_time": "2022-04-04T11:56:29.287739",
     "exception": false,
     "start_time": "2022-04-04T11:56:16.632811",
     "status": "completed"
    },
    "tags": []
   },
   "outputs": [],
   "source": [
    "classes = batches.class_indices.keys()"
   ]
  },
  {
   "cell_type": "code",
   "execution_count": 27,
   "id": "a1a7e888",
   "metadata": {
    "execution": {
     "iopub.execute_input": "2022-04-04T11:56:53.918151Z",
     "iopub.status.busy": "2022-04-04T11:56:53.917331Z",
     "iopub.status.idle": "2022-04-04T11:56:54.423521Z",
     "shell.execute_reply": "2022-04-04T11:56:54.423920Z",
     "shell.execute_reply.started": "2022-04-01T10:32:43.726411Z"
    },
    "papermill": {
     "duration": 13.26792,
     "end_time": "2022-04-04T11:56:54.424078",
     "exception": false,
     "start_time": "2022-04-04T11:56:41.156158",
     "status": "completed"
    },
    "tags": []
   },
   "outputs": [
    {
     "data": {
      "image/png": "[encoded data removed]",
      "text/plain": [
       "<Figure size 432x288 with 1 Axes>"
      ]
     },
     "metadata": {
      "needs_background": "light"
     },
     "output_type": "display_data"
    }
   ],
   "source": [
    "perc = (multi_distribution[1]/labels.shape[0])*100\n",
    "plt.xticks(rotation='vertical')\n",
    "plt.bar(classes,perc)\n",
    "if cenv == 0:\n",
    "    plt.savefig(\"multi_data_dist.png\", bbox_inches = 'tight')\n",
    "if cenv == 1:\n",
    "    plt.savefig(f\"{new_dir}/multi_data_dist.png\", bbox_inches = 'tight')"
   ]
  },
  {
   "cell_type": "code",
   "execution_count": 28,
   "id": "6183ddc7",
   "metadata": {
    "execution": {
     "iopub.execute_input": "2022-04-04T11:57:18.718690Z",
     "iopub.status.busy": "2022-04-04T11:57:18.717008Z",
     "iopub.status.idle": "2022-04-04T11:57:18.719290Z",
     "shell.execute_reply": "2022-04-04T11:57:18.719775Z",
     "shell.execute_reply.started": "2022-04-01T10:32:43.728277Z"
    },
    "papermill": {
     "duration": 12.18558,
     "end_time": "2022-04-04T11:57:18.719925",
     "exception": false,
     "start_time": "2022-04-04T11:57:06.534345",
     "status": "completed"
    },
    "tags": []
   },
   "outputs": [],
   "source": [
    "def my_fmt(x):\n",
    "    return '{:.1f}%\\n({:.0f})'.format(x, total*x/100)\n",
    "total = X_train_size + X_test_size"
   ]
  },
  {
   "cell_type": "code",
   "execution_count": 29,
   "id": "67542b89",
   "metadata": {
    "execution": {
     "iopub.execute_input": "2022-04-04T11:57:43.426865Z",
     "iopub.status.busy": "2022-04-04T11:57:43.426180Z",
     "iopub.status.idle": "2022-04-04T11:57:43.633899Z",
     "shell.execute_reply": "2022-04-04T11:57:43.634659Z",
     "shell.execute_reply.started": "2022-04-01T10:32:43.730243Z"
    },
    "papermill": {
     "duration": 12.216597,
     "end_time": "2022-04-04T11:57:43.634894",
     "exception": false,
     "start_time": "2022-04-04T11:57:31.418297",
     "status": "completed"
    },
    "scrolled": true,
    "tags": []
   },
   "outputs": [
    {
     "data": {
      "image/png": "[encoded data removed]",
      "text/plain": [
       "<Figure size 432x288 with 1 Axes>"
      ]
     },
     "metadata": {},
     "output_type": "display_data"
    }
   ],
   "source": [
    "plt.pie(\n",
    "    [X_train_size, X_test_size], \n",
    "    labels = [\"Training\", \"Validation\"], \n",
    "    startangle=90, \n",
    "    counterclock=False, \n",
    "    autopct=my_fmt,\n",
    "    colors = ['gray', 'silver']\n",
    ")\n",
    "\n",
    "plt.title(\"Training and validation data distribution\")\n",
    "\n",
    "if cenv == 0:\n",
    "    plt.savefig(\"train_test_dist.png\", bbox_inches = 'tight')\n",
    "if cenv == 1:\n",
    "    plt.savefig(f\"{new_dir}/train_test_dist.png\", bbox_inches = 'tight')"
   ]
  },
  {
   "cell_type": "code",
   "execution_count": 30,
   "id": "c35554a5",
   "metadata": {
    "execution": {
     "iopub.execute_input": "2022-04-04T11:58:08.352186Z",
     "iopub.status.busy": "2022-04-04T11:58:08.330990Z",
     "iopub.status.idle": "2022-04-04T11:58:09.018421Z",
     "shell.execute_reply": "2022-04-04T11:58:09.017986Z",
     "shell.execute_reply.started": "2022-04-01T10:32:43.73216Z"
    },
    "id": "yE3OUgo34v_C",
    "outputId": "fd989d09-d97f-478e-e768-0e2e739a17aa",
    "papermill": {
     "duration": 13.399167,
     "end_time": "2022-04-04T11:58:09.018544",
     "exception": false,
     "start_time": "2022-04-04T11:57:55.619377",
     "status": "completed"
    },
    "tags": []
   },
   "outputs": [
    {
     "data": {
      "image/png": "[encoded data removed]",
      "text/plain": [
       "<Figure size 1080x1080 with 2 Axes>"
      ]
     },
     "metadata": {
      "needs_background": "light"
     },
     "output_type": "display_data"
    }
   ],
   "source": [
    "fig, axs = plt.subplots(2, 1, figsize=(15,15))\n",
    "\n",
    "axs[0].plot(history.history['loss'])\n",
    "axs[0].plot(history.history['val_loss'])\n",
    "axs[0].title.set_text('Training Loss vs Validation Loss')\n",
    "axs[0].set_xlabel('Epochs')\n",
    "axs[0].set_ylabel('Loss')\n",
    "axs[0].legend(['Train','Val'])\n",
    "\n",
    "axs[1].plot(history.history['accuracy'])\n",
    "axs[1].plot(history.history['val_accuracy'])\n",
    "axs[1].title.set_text('Training Accuracy vs Validation Accuracy')\n",
    "axs[1].set_xlabel('Epochs')\n",
    "axs[1].set_ylabel('Accuracy')\n",
    "axs[1].legend(['Train', 'Val'])\n",
    "\n",
    "if cenv == 0:\n",
    "    plt.savefig(\"performance_figure.png\", bbox_inches = 'tight')\n",
    "if cenv == 1:\n",
    "    plt.savefig(f\"{new_dir}/performance_figure.png\", bbox_inches = 'tight')"
   ]
  },
  {
   "cell_type": "markdown",
   "id": "7c730137",
   "metadata": {
    "papermill": {
     "duration": 12.642316,
     "end_time": "2022-04-04T11:58:34.095290",
     "exception": false,
     "start_time": "2022-04-04T11:58:21.452974",
     "status": "completed"
    },
    "tags": []
   },
   "source": [
    "# Analyse performance\n",
    "\n",
    "**Multiclass classification**"
   ]
  },
  {
   "cell_type": "code",
   "execution_count": 31,
   "id": "630fdef3",
   "metadata": {
    "execution": {
     "iopub.execute_input": "2022-04-04T11:58:58.076202Z",
     "iopub.status.busy": "2022-04-04T11:58:58.075422Z",
     "iopub.status.idle": "2022-04-04T11:58:58.323167Z",
     "shell.execute_reply": "2022-04-04T11:58:58.322423Z",
     "shell.execute_reply.started": "2022-04-01T10:32:43.734132Z"
    },
    "papermill": {
     "duration": 12.225426,
     "end_time": "2022-04-04T11:58:58.323303",
     "exception": false,
     "start_time": "2022-04-04T11:58:46.097877",
     "status": "completed"
    },
    "tags": []
   },
   "outputs": [],
   "source": [
    "from sklearn import metrics\n",
    "import pandas as pd\n",
    "import seaborn as sns\n",
    "from sklearn.metrics import f1_score, matthews_corrcoef, accuracy_score\n",
    "from prettytable import PrettyTable, MSWORD_FRIENDLY"
   ]
  },
  {
   "cell_type": "markdown",
   "id": "beebc41f",
   "metadata": {
    "papermill": {
     "duration": 12.231397,
     "end_time": "2022-04-04T11:59:23.300425",
     "exception": false,
     "start_time": "2022-04-04T11:59:11.069028",
     "status": "completed"
    },
    "tags": []
   },
   "source": [
    "Multiclass performance table"
   ]
  },
  {
   "cell_type": "code",
   "execution_count": 32,
   "id": "298e64b0",
   "metadata": {
    "execution": {
     "iopub.execute_input": "2022-04-04T11:59:47.955067Z",
     "iopub.status.busy": "2022-04-04T11:59:47.953412Z",
     "iopub.status.idle": "2022-04-04T11:59:47.957272Z",
     "shell.execute_reply": "2022-04-04T11:59:47.956838Z",
     "shell.execute_reply.started": "2022-04-01T10:32:43.736112Z"
    },
    "papermill": {
     "duration": 12.590258,
     "end_time": "2022-04-04T11:59:47.957383",
     "exception": false,
     "start_time": "2022-04-04T11:59:35.367125",
     "status": "completed"
    },
    "tags": []
   },
   "outputs": [
    {
     "name": "stdout",
     "output_type": "stream",
     "text": [
      "+------------------------------------------------+\n",
      "| Perf. of multi-class classification - DenseNet |\n",
      "+------------------------------+-----------------+\n",
      "| Metric                       | Performance     |\n",
      "+------------------------------+-----------------+\n",
      "| Valididation accuracy        | 0.9625          |\n",
      "| Validation loss              | 0.2258          |\n",
      "+------------------------------+-----------------+\n"
     ]
    }
   ],
   "source": [
    "t = PrettyTable(['Metric', 'Performance'])\n",
    "t.add_row(['Valididation accuracy', round(scores[1],4)])\n",
    "t.add_row(['Validation loss', round(scores[0],4)])\n",
    "t.header = True\n",
    "t.align = \"l\"\n",
    "t.title = \"Perf. of multi-class classification - DenseNet\"\n",
    "print(t)"
   ]
  },
  {
   "cell_type": "code",
   "execution_count": 33,
   "id": "4220a535",
   "metadata": {
    "execution": {
     "iopub.execute_input": "2022-04-04T12:00:12.522845Z",
     "iopub.status.busy": "2022-04-04T12:00:12.522172Z",
     "iopub.status.idle": "2022-04-04T12:00:12.524531Z",
     "shell.execute_reply": "2022-04-04T12:00:12.525007Z",
     "shell.execute_reply.started": "2022-04-01T10:32:43.738091Z"
    },
    "papermill": {
     "duration": 12.231651,
     "end_time": "2022-04-04T12:00:12.525147",
     "exception": false,
     "start_time": "2022-04-04T12:00:00.293496",
     "status": "completed"
    },
    "tags": []
   },
   "outputs": [],
   "source": [
    "# Saving PrettyTable\n",
    "table = t.get_string()\n",
    "\n",
    "if cenv == 0:\n",
    "    with open('multi_performance_table.txt', 'w') as f:\n",
    "        f.write(table)\n",
    "if cenv == 1:\n",
    "    with open(f'{new_dir}/multi_performance_table.txt', 'w') as f:\n",
    "        f.write(table)"
   ]
  },
  {
   "cell_type": "code",
   "execution_count": 34,
   "id": "bb1dff69",
   "metadata": {
    "execution": {
     "iopub.execute_input": "2022-04-04T12:00:36.972563Z",
     "iopub.status.busy": "2022-04-04T12:00:36.971655Z",
     "iopub.status.idle": "2022-04-04T12:00:47.243596Z",
     "shell.execute_reply": "2022-04-04T12:00:47.244727Z",
     "shell.execute_reply.started": "2022-04-01T10:32:43.740001Z"
    },
    "papermill": {
     "duration": 22.281229,
     "end_time": "2022-04-04T12:00:47.244935",
     "exception": false,
     "start_time": "2022-04-04T12:00:24.963706",
     "status": "completed"
    },
    "scrolled": true,
    "tags": []
   },
   "outputs": [],
   "source": [
    "y_pred = np.argmax(head_model.predict(X_test), axis=-1)"
   ]
  },
  {
   "cell_type": "code",
   "execution_count": 35,
   "id": "d029c70d",
   "metadata": {
    "execution": {
     "iopub.execute_input": "2022-04-04T12:01:11.482629Z",
     "iopub.status.busy": "2022-04-04T12:01:11.481786Z",
     "iopub.status.idle": "2022-04-04T12:01:11.484603Z",
     "shell.execute_reply": "2022-04-04T12:01:11.485010Z",
     "shell.execute_reply.started": "2022-04-01T10:32:43.741925Z"
    },
    "papermill": {
     "duration": 12.063071,
     "end_time": "2022-04-04T12:01:11.485144",
     "exception": false,
     "start_time": "2022-04-04T12:00:59.422073",
     "status": "completed"
    },
    "scrolled": true,
    "tags": []
   },
   "outputs": [
    {
     "data": {
      "text/plain": [
       "array([10, 10, 10, ...,  3, 10,  5])"
      ]
     },
     "execution_count": 35,
     "metadata": {},
     "output_type": "execute_result"
    }
   ],
   "source": [
    "y_pred"
   ]
  },
  {
   "cell_type": "code",
   "execution_count": 36,
   "id": "4f66aff1",
   "metadata": {
    "execution": {
     "iopub.execute_input": "2022-04-04T12:01:35.890957Z",
     "iopub.status.busy": "2022-04-04T12:01:35.890186Z",
     "iopub.status.idle": "2022-04-04T12:01:35.893237Z",
     "shell.execute_reply": "2022-04-04T12:01:35.893651Z",
     "shell.execute_reply.started": "2022-04-01T10:32:43.743633Z"
    },
    "papermill": {
     "duration": 11.929294,
     "end_time": "2022-04-04T12:01:35.893788",
     "exception": false,
     "start_time": "2022-04-04T12:01:23.964494",
     "status": "completed"
    },
    "scrolled": true,
    "tags": []
   },
   "outputs": [
    {
     "data": {
      "text/plain": [
       "array([10., 10., 10., ...,  3., 10., 10.], dtype=float32)"
      ]
     },
     "execution_count": 36,
     "metadata": {},
     "output_type": "execute_result"
    }
   ],
   "source": [
    "y_test2 = y_test\n",
    "y_test2"
   ]
  },
  {
   "cell_type": "code",
   "execution_count": 37,
   "id": "49bc9d5f",
   "metadata": {
    "execution": {
     "iopub.execute_input": "2022-04-04T12:02:00.515502Z",
     "iopub.status.busy": "2022-04-04T12:02:00.514567Z",
     "iopub.status.idle": "2022-04-04T12:02:00.569390Z",
     "shell.execute_reply": "2022-04-04T12:02:00.570106Z",
     "shell.execute_reply.started": "2022-04-01T10:32:43.745832Z"
    },
    "papermill": {
     "duration": 12.812728,
     "end_time": "2022-04-04T12:02:00.570297",
     "exception": false,
     "start_time": "2022-04-04T12:01:47.757569",
     "status": "completed"
    },
    "scrolled": true,
    "tags": []
   },
   "outputs": [],
   "source": [
    "c_matrix = metrics.confusion_matrix(y_test2, y_pred)"
   ]
  },
  {
   "cell_type": "code",
   "execution_count": 38,
   "id": "d82e667b",
   "metadata": {
    "execution": {
     "iopub.execute_input": "2022-04-04T12:02:24.624311Z",
     "iopub.status.busy": "2022-04-04T12:02:24.622685Z",
     "iopub.status.idle": "2022-04-04T12:02:24.624906Z",
     "shell.execute_reply": "2022-04-04T12:02:24.625316Z",
     "shell.execute_reply.started": "2022-04-01T10:32:43.74774Z"
    },
    "papermill": {
     "duration": 12.057358,
     "end_time": "2022-04-04T12:02:24.625451",
     "exception": false,
     "start_time": "2022-04-04T12:02:12.568093",
     "status": "completed"
    },
    "scrolled": true,
    "tags": []
   },
   "outputs": [],
   "source": [
    "def confusion_matrix(confusion_matrix, class_names, figsize = (10,7), fontsize=14):\n",
    "   \n",
    "    df_cm = pd.DataFrame(\n",
    "        confusion_matrix, index=class_names, columns=class_names, \n",
    "    )\n",
    "    fig = plt.figure(figsize=figsize)\n",
    "    try:\n",
    "        heatmap = sns.heatmap(df_cm, annot=True, fmt=\"d\")\n",
    "    except ValueError:\n",
    "        raise ValueError(\"Confusion matrix values must be integers.\")\n",
    "    heatmap.yaxis.set_ticklabels(heatmap.yaxis.get_ticklabels(), rotation=0, ha='right', fontsize=fontsize)\n",
    "    heatmap.xaxis.set_ticklabels(heatmap.xaxis.get_ticklabels(), rotation=45, ha='right', fontsize=fontsize)\n",
    "    plt.ylabel('True label')\n",
    "    plt.xlabel('Predicted label')\n",
    "    plt.tight_layout()\n",
    "    if cenv == 0:\n",
    "        plt.savefig(\"multi_class_cmatrix.png\")\n",
    "    if cenv == 1:\n",
    "        plt.savefig(f\"{new_dir}/multi_class_cmatrix.png\")"
   ]
  },
  {
   "cell_type": "code",
   "execution_count": 39,
   "id": "0a6db78e",
   "metadata": {
    "execution": {
     "iopub.execute_input": "2022-04-04T12:02:49.006599Z",
     "iopub.status.busy": "2022-04-04T12:02:48.995177Z",
     "iopub.status.idle": "2022-04-04T12:02:50.162715Z",
     "shell.execute_reply": "2022-04-04T12:02:50.162237Z",
     "shell.execute_reply.started": "2022-04-01T10:32:43.74974Z"
    },
    "papermill": {
     "duration": 13.068616,
     "end_time": "2022-04-04T12:02:50.162840",
     "exception": false,
     "start_time": "2022-04-04T12:02:37.094224",
     "status": "completed"
    },
    "scrolled": true,
    "tags": []
   },
   "outputs": [
    {
     "data": {
      "image/png": "[encoded data removed]",
      "text/plain": [
       "<Figure size 1440x504 with 2 Axes>"
      ]
     },
     "metadata": {
      "needs_background": "light"
     },
     "output_type": "display_data"
    }
   ],
   "source": [
    "class_names= batches.class_indices.keys()\n",
    "confusion_matrix(c_matrix, class_names, figsize = (20,7), fontsize=14)"
   ]
  },
  {
   "cell_type": "markdown",
   "id": "c911f573",
   "metadata": {
    "papermill": {
     "duration": 11.870756,
     "end_time": "2022-04-04T12:03:14.817905",
     "exception": false,
     "start_time": "2022-04-04T12:03:02.947149",
     "status": "completed"
    },
    "tags": []
   },
   "source": [
    "**Binary classification**\n"
   ]
  },
  {
   "cell_type": "code",
   "execution_count": 40,
   "id": "b769335d",
   "metadata": {
    "execution": {
     "iopub.execute_input": "2022-04-04T12:03:39.334553Z",
     "iopub.status.busy": "2022-04-04T12:03:39.333029Z",
     "iopub.status.idle": "2022-04-04T12:03:39.603640Z",
     "shell.execute_reply": "2022-04-04T12:03:39.604444Z",
     "shell.execute_reply.started": "2022-04-01T10:32:43.753557Z"
    },
    "papermill": {
     "duration": 12.879723,
     "end_time": "2022-04-04T12:03:39.604667",
     "exception": false,
     "start_time": "2022-04-04T12:03:26.724944",
     "status": "completed"
    },
    "tags": []
   },
   "outputs": [
    {
     "name": "stdout",
     "output_type": "stream",
     "text": [
      "Length of the observations in test set: 7965\n"
     ]
    }
   ],
   "source": [
    "y_predbin = [] \n",
    "y_truebin = []\n",
    "for count, value in enumerate(y_test2):\n",
    "    if y_test2[count] in range(10): # range(10) is 0 to 9\n",
    "        y_truebin.append(0)\n",
    "    else: y_truebin.append(1)\n",
    "    \n",
    "    if y_pred[count] in range(10):\n",
    "        y_predbin.append(0)\n",
    "    else: y_predbin.append(1)\n",
    "    \n",
    "    continue\n",
    "if len(y_truebin) == len(y_predbin):\n",
    "    print(f\"Length of the observations in test set: {len(y_truebin)}\")"
   ]
  },
  {
   "cell_type": "code",
   "execution_count": 41,
   "id": "bbe2dbf1",
   "metadata": {
    "execution": {
     "iopub.execute_input": "2022-04-04T12:04:03.706508Z",
     "iopub.status.busy": "2022-04-04T12:04:03.705846Z",
     "iopub.status.idle": "2022-04-04T12:04:03.708937Z",
     "shell.execute_reply": "2022-04-04T12:04:03.709335Z",
     "shell.execute_reply.started": "2022-04-01T10:32:43.755517Z"
    },
    "papermill": {
     "duration": 12.017362,
     "end_time": "2022-04-04T12:04:03.709481",
     "exception": false,
     "start_time": "2022-04-04T12:03:51.692119",
     "status": "completed"
    },
    "tags": []
   },
   "outputs": [
    {
     "name": "stdout",
     "output_type": "stream",
     "text": [
      "Ransomware Occurences: 12536, Benign Occurences: 14012\n"
     ]
    }
   ],
   "source": [
    "rw_count = 0\n",
    "bn_count = 0\n",
    "for count, value in enumerate(multi_distribution[1]):\n",
    "    if count in range(10):\n",
    "        rw_count = rw_count + multi_distribution[1][count]\n",
    "    else: \n",
    "        bn_count = bn_count + multi_distribution[1][count]\n",
    "print(f\"Ransomware Occurences: {rw_count}, Benign Occurences: {bn_count}\")"
   ]
  },
  {
   "cell_type": "code",
   "execution_count": 42,
   "id": "58982a81",
   "metadata": {
    "execution": {
     "iopub.execute_input": "2022-04-04T12:04:28.117977Z",
     "iopub.status.busy": "2022-04-04T12:04:28.113915Z",
     "iopub.status.idle": "2022-04-04T12:04:28.322775Z",
     "shell.execute_reply": "2022-04-04T12:04:28.322229Z",
     "shell.execute_reply.started": "2022-04-01T10:32:43.757465Z"
    },
    "papermill": {
     "duration": 12.117889,
     "end_time": "2022-04-04T12:04:28.322926",
     "exception": false,
     "start_time": "2022-04-04T12:04:16.205037",
     "status": "completed"
    },
    "tags": []
   },
   "outputs": [
    {
     "data": {
      "image/png": "[encoded data removed]",
      "text/plain": [
       "<Figure size 432x288 with 1 Axes>"
      ]
     },
     "metadata": {
      "needs_background": "light"
     },
     "output_type": "display_data"
    }
   ],
   "source": [
    "fig = plt.figure()\n",
    "ax = fig.add_axes([0,0,1,1])\n",
    "x_lab = ['Ransomware', 'Benign']\n",
    "y_lab = [rw_count, bn_count]\n",
    "ax.bar(x_lab, y_lab)\n",
    "if cenv == 0:\n",
    "    plt.savefig(\"data_dist.png.png\", bbox_inches = 'tight')\n",
    "if cenv == 1:\n",
    "    plt.savefig(f\"{new_dir}/bin_data_dist.png\", bbox_inches = 'tight')"
   ]
  },
  {
   "cell_type": "code",
   "execution_count": 43,
   "id": "1ae4a150",
   "metadata": {
    "execution": {
     "iopub.execute_input": "2022-04-04T12:04:52.950706Z",
     "iopub.status.busy": "2022-04-04T12:04:52.949918Z",
     "iopub.status.idle": "2022-04-04T12:04:52.956710Z",
     "shell.execute_reply": "2022-04-04T12:04:52.956243Z",
     "shell.execute_reply.started": "2022-04-01T10:32:43.759508Z"
    },
    "papermill": {
     "duration": 12.094379,
     "end_time": "2022-04-04T12:04:52.956841",
     "exception": false,
     "start_time": "2022-04-04T12:04:40.862462",
     "status": "completed"
    },
    "tags": []
   },
   "outputs": [],
   "source": [
    "c_matrix_bin = metrics.confusion_matrix(y_truebin, y_predbin)"
   ]
  },
  {
   "cell_type": "code",
   "execution_count": 44,
   "id": "f3bb9827",
   "metadata": {
    "execution": {
     "iopub.execute_input": "2022-04-04T12:05:17.776090Z",
     "iopub.status.busy": "2022-04-04T12:05:17.775192Z",
     "iopub.status.idle": "2022-04-04T12:05:17.777123Z",
     "shell.execute_reply": "2022-04-04T12:05:17.777525Z",
     "shell.execute_reply.started": "2022-04-01T10:32:43.761502Z"
    },
    "papermill": {
     "duration": 12.723674,
     "end_time": "2022-04-04T12:05:17.777696",
     "exception": false,
     "start_time": "2022-04-04T12:05:05.054022",
     "status": "completed"
    },
    "tags": []
   },
   "outputs": [],
   "source": [
    "def confusion_matrix_bin(confusion_matrix, class_names_bin, figsize = (5,2), fontsize=7):\n",
    "   \n",
    "    df_cm = pd.DataFrame(\n",
    "        confusion_matrix, index=class_names_bin, columns=class_names_bin, \n",
    "    )\n",
    "    fig = plt.figure(figsize=figsize)\n",
    "    try:\n",
    "        heatmap = sns.heatmap(df_cm, annot=True, fmt=\"d\")\n",
    "    except ValueError:\n",
    "        raise ValueError(\"Confusion matrix values must be integers.\")\n",
    "    heatmap.yaxis.set_ticklabels(heatmap.yaxis.get_ticklabels(), rotation=0, ha='right', fontsize=fontsize)\n",
    "    heatmap.xaxis.set_ticklabels(heatmap.xaxis.get_ticklabels(), rotation=45, ha='right', fontsize=fontsize)\n",
    "    plt.ylabel('True label')\n",
    "    plt.xlabel('Predicted label')\n",
    "    plt.title(\"DenseNet121\")\n",
    "    if cenv == 0:\n",
    "        plt.savefig(\"bin_class_cmatrix.png\", bbox_inches = 'tight')\n",
    "    if cenv == 1:\n",
    "        plt.savefig(f\"{new_dir}/bin_class_cmatrix.png\", bbox_inches = 'tight')"
   ]
  },
  {
   "cell_type": "code",
   "execution_count": 45,
   "id": "923b858c",
   "metadata": {
    "execution": {
     "iopub.execute_input": "2022-04-04T12:05:42.163669Z",
     "iopub.status.busy": "2022-04-04T12:05:42.162559Z",
     "iopub.status.idle": "2022-04-04T12:05:42.444456Z",
     "shell.execute_reply": "2022-04-04T12:05:42.444889Z",
     "shell.execute_reply.started": "2022-04-01T10:32:43.763469Z"
    },
    "papermill": {
     "duration": 12.343962,
     "end_time": "2022-04-04T12:05:42.445046",
     "exception": false,
     "start_time": "2022-04-04T12:05:30.101084",
     "status": "completed"
    },
    "tags": []
   },
   "outputs": [
    {
     "data": {
      "image/png": "[encoded data removed]",
      "text/plain": [
       "<Figure size 360x144 with 2 Axes>"
      ]
     },
     "metadata": {
      "needs_background": "light"
     },
     "output_type": "display_data"
    }
   ],
   "source": [
    "class_names_bin= (\"ransomware\", \"benign\")\n",
    "confusion_matrix_bin(c_matrix_bin, class_names_bin, figsize = (5,2), fontsize=10)"
   ]
  },
  {
   "cell_type": "markdown",
   "id": "02c330d3",
   "metadata": {
    "papermill": {
     "duration": 11.986968,
     "end_time": "2022-04-04T12:06:06.858164",
     "exception": false,
     "start_time": "2022-04-04T12:05:54.871196",
     "status": "completed"
    },
    "tags": []
   },
   "source": [
    "**True Positive Rate**"
   ]
  },
  {
   "cell_type": "code",
   "execution_count": 46,
   "id": "1665b544",
   "metadata": {
    "execution": {
     "iopub.execute_input": "2022-04-04T12:06:31.446098Z",
     "iopub.status.busy": "2022-04-04T12:06:31.444461Z",
     "iopub.status.idle": "2022-04-04T12:06:31.446698Z",
     "shell.execute_reply": "2022-04-04T12:06:31.447146Z",
     "shell.execute_reply.started": "2022-04-01T10:32:43.765312Z"
    },
    "papermill": {
     "duration": 12.010815,
     "end_time": "2022-04-04T12:06:31.447288",
     "exception": false,
     "start_time": "2022-04-04T12:06:19.436473",
     "status": "completed"
    },
    "tags": []
   },
   "outputs": [],
   "source": [
    "TPR = c_matrix_bin[0,0]/(c_matrix_bin[0,0] + c_matrix_bin[0,1]) #True Positive Rate"
   ]
  },
  {
   "cell_type": "markdown",
   "id": "f982facd",
   "metadata": {
    "papermill": {
     "duration": 12.504205,
     "end_time": "2022-04-04T12:06:56.092865",
     "exception": false,
     "start_time": "2022-04-04T12:06:43.588660",
     "status": "completed"
    },
    "tags": []
   },
   "source": [
    "**Accuracy**"
   ]
  },
  {
   "cell_type": "code",
   "execution_count": 47,
   "id": "0b5a3f8f",
   "metadata": {
    "execution": {
     "iopub.execute_input": "2022-04-04T12:07:20.615297Z",
     "iopub.status.busy": "2022-04-04T12:07:20.614537Z",
     "iopub.status.idle": "2022-04-04T12:07:20.621819Z",
     "shell.execute_reply": "2022-04-04T12:07:20.622239Z",
     "shell.execute_reply.started": "2022-04-01T10:32:43.767368Z"
    },
    "papermill": {
     "duration": 12.416182,
     "end_time": "2022-04-04T12:07:20.622402",
     "exception": false,
     "start_time": "2022-04-04T12:07:08.206220",
     "status": "completed"
    },
    "tags": []
   },
   "outputs": [],
   "source": [
    "ACC = accuracy_score(y_truebin, y_predbin) # Accuracy"
   ]
  },
  {
   "cell_type": "markdown",
   "id": "e04d7d65",
   "metadata": {
    "papermill": {
     "duration": 12.110663,
     "end_time": "2022-04-04T12:07:45.270275",
     "exception": false,
     "start_time": "2022-04-04T12:07:33.159612",
     "status": "completed"
    },
    "tags": []
   },
   "source": [
    "**F1 Score**"
   ]
  },
  {
   "cell_type": "code",
   "execution_count": 48,
   "id": "586edd9a",
   "metadata": {
    "execution": {
     "iopub.execute_input": "2022-04-04T12:08:09.928068Z",
     "iopub.status.busy": "2022-04-04T12:08:09.925468Z",
     "iopub.status.idle": "2022-04-04T12:08:09.941116Z",
     "shell.execute_reply": "2022-04-04T12:08:09.941522Z",
     "shell.execute_reply.started": "2022-04-01T10:32:43.769282Z"
    },
    "papermill": {
     "duration": 12.00429,
     "end_time": "2022-04-04T12:08:09.941698",
     "exception": false,
     "start_time": "2022-04-04T12:07:57.937408",
     "status": "completed"
    },
    "tags": []
   },
   "outputs": [],
   "source": [
    "F1 = f1_score(y_truebin, y_predbin, labels=0) # F1 Score"
   ]
  },
  {
   "cell_type": "markdown",
   "id": "a75f23b0",
   "metadata": {
    "papermill": {
     "duration": 12.346476,
     "end_time": "2022-04-04T12:08:34.230498",
     "exception": false,
     "start_time": "2022-04-04T12:08:21.884022",
     "status": "completed"
    },
    "tags": []
   },
   "source": [
    "**Matthews Correlation Coefficient**"
   ]
  },
  {
   "cell_type": "code",
   "execution_count": 49,
   "id": "2a39d6cb",
   "metadata": {
    "execution": {
     "iopub.execute_input": "2022-04-04T12:08:58.133000Z",
     "iopub.status.busy": "2022-04-04T12:08:58.132199Z",
     "iopub.status.idle": "2022-04-04T12:08:58.142660Z",
     "shell.execute_reply": "2022-04-04T12:08:58.142199Z",
     "shell.execute_reply.started": "2022-04-01T10:32:43.771273Z"
    },
    "papermill": {
     "duration": 12.042983,
     "end_time": "2022-04-04T12:08:58.142784",
     "exception": false,
     "start_time": "2022-04-04T12:08:46.099801",
     "status": "completed"
    },
    "tags": []
   },
   "outputs": [],
   "source": [
    "MCC = matthews_corrcoef(y_truebin, y_predbin) # Matthews Correlation Coefficient"
   ]
  },
  {
   "cell_type": "code",
   "execution_count": 50,
   "id": "6fda9f14",
   "metadata": {
    "execution": {
     "iopub.execute_input": "2022-04-04T12:09:22.864192Z",
     "iopub.status.busy": "2022-04-04T12:09:22.863382Z",
     "iopub.status.idle": "2022-04-04T12:09:22.866377Z",
     "shell.execute_reply": "2022-04-04T12:09:22.866802Z",
     "shell.execute_reply.started": "2022-04-01T10:32:43.773233Z"
    },
    "papermill": {
     "duration": 12.017854,
     "end_time": "2022-04-04T12:09:22.866941",
     "exception": false,
     "start_time": "2022-04-04T12:09:10.849087",
     "status": "completed"
    },
    "scrolled": true,
    "tags": []
   },
   "outputs": [
    {
     "name": "stdout",
     "output_type": "stream",
     "text": [
      "+------------------------------------------------+\n",
      "|            Performance of DenseNet             |\n",
      "+----------------------------------+-------------+\n",
      "| Metric                           | Performance |\n",
      "+----------------------------------+-------------+\n",
      "| True Positive Rate               | 0.9882      |\n",
      "| Accuracy                         | 0.9895      |\n",
      "| F1 Score                         | 0.9901      |\n",
      "| Matthews Correlation Coefficient | 0.9788      |\n",
      "+----------------------------------+-------------+\n"
     ]
    }
   ],
   "source": [
    "t = PrettyTable(['Metric', 'Performance'])\n",
    "t.add_row(['True Positive Rate', round(TPR,4)])\n",
    "t.add_row(['Accuracy', round(ACC,4)])\n",
    "t.add_row(['F1 Score', round(F1,4)])\n",
    "t.add_row(['Matthews Correlation Coefficient', round(MCC,4)])\n",
    "t.header = True\n",
    "t.align = \"l\"\n",
    "t.title = \"Performance of DenseNet\"\n",
    "print(t)"
   ]
  },
  {
   "cell_type": "code",
   "execution_count": 51,
   "id": "af43da57",
   "metadata": {
    "execution": {
     "iopub.execute_input": "2022-04-04T12:09:47.531632Z",
     "iopub.status.busy": "2022-04-04T12:09:47.530954Z",
     "iopub.status.idle": "2022-04-04T12:09:47.533886Z",
     "shell.execute_reply": "2022-04-04T12:09:47.533397Z",
     "shell.execute_reply.started": "2022-04-01T10:32:43.775179Z"
    },
    "papermill": {
     "duration": 12.602577,
     "end_time": "2022-04-04T12:09:47.534004",
     "exception": false,
     "start_time": "2022-04-04T12:09:34.931427",
     "status": "completed"
    },
    "tags": []
   },
   "outputs": [],
   "source": [
    "# Saving PrettyTable\n",
    "table = t.get_string()\n",
    "\n",
    "if cenv == 0:\n",
    "    with open('bin_performance_table.txt', 'w') as f:\n",
    "        f.write(table)\n",
    "if cenv == 1:\n",
    "    with open(f'{new_dir}/bin_performance_table.txt', 'w') as f:\n",
    "        f.write(table)"
   ]
  }
 ],
 "metadata": {
  "kernelspec": {
   "display_name": "Python 3",
   "language": "python",
   "name": "python3"
  },
  "language_info": {
   "codemirror_mode": {
    "name": "ipython",
    "version": 3
   },
   "file_extension": ".py",
   "mimetype": "text/x-python",
   "name": "python",
   "nbconvert_exporter": "python",
   "pygments_lexer": "ipython3",
   "version": "3.7.12"
  },
  "papermill": {
   "default_parameters": {},
   "duration": 6125.029339,
   "end_time": "2022-04-04T12:10:02.796009",
   "environment_variables": {},
   "exception": null,
   "input_path": "__notebook__.ipynb",
   "output_path": "__notebook__.ipynb",
   "parameters": {},
   "start_time": "2022-04-04T10:27:57.766670",
   "version": "2.3.3"
  }
 },
 "nbformat": 4,
 "nbformat_minor": 5
}
