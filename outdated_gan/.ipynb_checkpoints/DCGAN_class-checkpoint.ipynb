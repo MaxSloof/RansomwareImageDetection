{
 "cells": [
  {
   "cell_type": "markdown",
   "metadata": {
    "colab_type": "text"
   },
   "source": [
    "# DCGAN to generate face images\n",
    "\n",
    "**Author:** [fchollet](https://twitter.com/fchollet)<br>\n",
    "**Date created:** 2019/04/29<br>\n",
    "**Last modified:** 2021/01/01<br>\n",
    "**Description:** A simple DCGAN trained using `fit()` by overriding `train_step` on CelebA images."
   ]
  },
  {
   "cell_type": "markdown",
   "metadata": {
    "colab_type": "text"
   },
   "source": [
    "## Setup"
   ]
  },
  {
   "cell_type": "code",
   "execution_count": 1,
   "metadata": {
    "colab_type": "code"
   },
   "outputs": [],
   "source": [
    "import tensorflow as tf\n",
    "from tensorflow import keras\n",
    "from tensorflow.keras import layers\n",
    "import numpy as np\n",
    "import matplotlib.pyplot as plt\n",
    "import os\n",
    "#import gdown\n",
    "import time"
   ]
  },
  {
   "cell_type": "markdown",
   "metadata": {
    "colab_type": "text"
   },
   "source": [
    "## Prepare CelebA data\n",
    "\n",
    "We'll use face images from the CelebA dataset, resized to 64x64."
   ]
  },
  {
   "cell_type": "code",
   "execution_count": 2,
   "metadata": {
    "colab_type": "code"
   },
   "outputs": [],
   "source": [
    "path_root = \"C:/Users/Max/Documents/image_data/data_original/Reveton.A/\"\n"
   ]
  },
  {
   "cell_type": "markdown",
   "metadata": {
    "colab_type": "text"
   },
   "source": [
    "Create a dataset from our folder, and rescale the images to the [0-1] range:"
   ]
  },
  {
   "cell_type": "code",
   "execution_count": 3,
   "metadata": {
    "colab_type": "code"
   },
   "outputs": [
    {
     "name": "stdout",
     "output_type": "stream",
     "text": [
      "Found 1445 files belonging to 1 classes.\n"
     ]
    }
   ],
   "source": [
    "dataset = keras.preprocessing.image_dataset_from_directory(\n",
    "    path_root, label_mode=None, image_size=(64, 64), batch_size=32, interpolation=\"bicubic\", color_mode=\"rgb\"\n",
    ")\n",
    "dataset = dataset.map(lambda x: x / 255.0)\n"
   ]
  },
  {
   "cell_type": "markdown",
   "metadata": {
    "colab_type": "text"
   },
   "source": [
    "Let's display a sample image:"
   ]
  },
  {
   "cell_type": "code",
   "execution_count": 4,
   "metadata": {
    "colab_type": "code"
   },
   "outputs": [
    {
     "name": "stderr",
     "output_type": "stream",
     "text": [
      "Clipping input data to the valid range for imshow with RGB data ([0..1] for floats or [0..255] for integers).\n"
     ]
    },
    {
     "data": {
      "image/png": "[encoded data removed]",
      "text/plain": [
       "<Figure size 432x288 with 1 Axes>"
      ]
     },
     "metadata": {
      "needs_background": "light"
     },
     "output_type": "display_data"
    }
   ],
   "source": [
    "\n",
    "for x in dataset:\n",
    "    plt.axis(\"off\")\n",
    "    plt.imshow((x.numpy() * 255).astype(\"int32\")[0])\n",
    "    break\n"
   ]
  },
  {
   "cell_type": "markdown",
   "metadata": {
    "colab_type": "text"
   },
   "source": [
    "## Create the discriminator\n",
    "\n",
    "It maps a 64x64 image to a binary classification score."
   ]
  },
  {
   "cell_type": "code",
   "execution_count": 5,
   "metadata": {
    "colab_type": "code"
   },
   "outputs": [
    {
     "name": "stdout",
     "output_type": "stream",
     "text": [
      "Model: \"discriminator\"\n",
      "_________________________________________________________________\n",
      "Layer (type)                 Output Shape              Param #   \n",
      "=================================================================\n",
      "conv2d (Conv2D)              (None, 32, 32, 64)        3136      \n",
      "_________________________________________________________________\n",
      "leaky_re_lu (LeakyReLU)      (None, 32, 32, 64)        0         \n",
      "_________________________________________________________________\n",
      "conv2d_1 (Conv2D)            (None, 16, 16, 128)       131200    \n",
      "_________________________________________________________________\n",
      "leaky_re_lu_1 (LeakyReLU)    (None, 16, 16, 128)       0         \n",
      "_________________________________________________________________\n",
      "conv2d_2 (Conv2D)            (None, 8, 8, 128)         262272    \n",
      "_________________________________________________________________\n",
      "leaky_re_lu_2 (LeakyReLU)    (None, 8, 8, 128)         0         \n",
      "_________________________________________________________________\n",
      "flatten (Flatten)            (None, 8192)              0         \n",
      "_________________________________________________________________\n",
      "dropout (Dropout)            (None, 8192)              0         \n",
      "_________________________________________________________________\n",
      "dense (Dense)                (None, 1)                 8193      \n",
      "=================================================================\n",
      "Total params: 404,801\n",
      "Trainable params: 404,801\n",
      "Non-trainable params: 0\n",
      "_________________________________________________________________\n"
     ]
    }
   ],
   "source": [
    "discriminator = keras.Sequential(\n",
    "    [\n",
    "      \n",
    "        \n",
    "        layers.Conv2D(64, kernel_size=4, strides=2, padding=\"same\",input_shape=(64, 64, 3)),\n",
    "        layers.LeakyReLU(alpha=0.2),\n",
    "        layers.Conv2D(128, kernel_size=4, strides=2, padding=\"same\"),\n",
    "        layers.LeakyReLU(alpha=0.2),\n",
    "        layers.Conv2D(128, kernel_size=4, strides=2, padding=\"same\"),\n",
    "        layers.LeakyReLU(alpha=0.2),\n",
    "        layers.Flatten(),\n",
    "        layers.Dropout(0.2),\n",
    "        layers.Dense(1, activation=\"sigmoid\"),\n",
    "    ],\n",
    "    name=\"discriminator\",\n",
    ")\n",
    "discriminator.summary()"
   ]
  },
  {
   "cell_type": "markdown",
   "metadata": {
    "colab_type": "text"
   },
   "source": [
    "## Create the generator\n",
    "\n",
    "It mirrors the discriminator, replacing `Conv2D` layers with `Conv2DTranspose` layers."
   ]
  },
  {
   "cell_type": "code",
   "execution_count": 6,
   "metadata": {
    "colab_type": "code",
    "scrolled": true
   },
   "outputs": [
    {
     "name": "stdout",
     "output_type": "stream",
     "text": [
      "Model: \"generator\"\n",
      "_________________________________________________________________\n",
      "Layer (type)                 Output Shape              Param #   \n",
      "=================================================================\n",
      "dense_1 (Dense)              (None, 8192)              1056768   \n",
      "_________________________________________________________________\n",
      "reshape (Reshape)            (None, 8, 8, 128)         0         \n",
      "_________________________________________________________________\n",
      "conv2d_transpose (Conv2DTran (None, 16, 16, 128)       262272    \n",
      "_________________________________________________________________\n",
      "leaky_re_lu_3 (LeakyReLU)    (None, 16, 16, 128)       0         \n",
      "_________________________________________________________________\n",
      "conv2d_transpose_1 (Conv2DTr (None, 32, 32, 256)       524544    \n",
      "_________________________________________________________________\n",
      "leaky_re_lu_4 (LeakyReLU)    (None, 32, 32, 256)       0         \n",
      "_________________________________________________________________\n",
      "conv2d_transpose_2 (Conv2DTr (None, 64, 64, 512)       2097664   \n",
      "_________________________________________________________________\n",
      "leaky_re_lu_5 (LeakyReLU)    (None, 64, 64, 512)       0         \n",
      "_________________________________________________________________\n",
      "conv2d_3 (Conv2D)            (None, 64, 64, 3)         38403     \n",
      "=================================================================\n",
      "Total params: 3,979,651\n",
      "Trainable params: 3,979,651\n",
      "Non-trainable params: 0\n",
      "_________________________________________________________________\n"
     ]
    }
   ],
   "source": [
    "latent_dim = 128\n",
    "\n",
    "generator = keras.Sequential(\n",
    "    [\n",
    "        keras.layers.InputLayer(input_shape=(latent_dim)),\n",
    "        \n",
    "        layers.Dense(8 * 8 * 128),\n",
    "        layers.Reshape((8, 8, 128)),\n",
    "        layers.Conv2DTranspose(128, kernel_size=4, strides=2, padding=\"same\"),\n",
    "        layers.LeakyReLU(alpha=0.2),\n",
    "        layers.Conv2DTranspose(256, kernel_size=4, strides=2, padding=\"same\"),\n",
    "        layers.LeakyReLU(alpha=0.2),\n",
    "        layers.Conv2DTranspose(512, kernel_size=4, strides=2, padding=\"same\"),\n",
    "        layers.LeakyReLU(alpha=0.2),\n",
    "        layers.Conv2D(3, kernel_size=5, padding=\"same\", activation=\"sigmoid\"),\n",
    "    ],\n",
    "    name=\"generator\",\n",
    ")\n",
    "generator.summary()"
   ]
  },
  {
   "cell_type": "markdown",
   "metadata": {
    "colab_type": "text"
   },
   "source": [
    "## Override `train_step`"
   ]
  },
  {
   "cell_type": "code",
   "execution_count": 7,
   "metadata": {
    "colab_type": "code"
   },
   "outputs": [],
   "source": [
    "\n",
    "class GAN(keras.Model):\n",
    "    def __init__(self, discriminator, generator, latent_dim):\n",
    "        super(GAN, self).__init__()\n",
    "        self.discriminator = discriminator\n",
    "        self.generator = generator\n",
    "        self.latent_dim = latent_dim\n",
    "\n",
    "    def compile(self, d_optimizer, g_optimizer, loss_fn):\n",
    "        super(GAN, self).compile()\n",
    "        self.d_optimizer = d_optimizer\n",
    "        self.g_optimizer = g_optimizer\n",
    "        self.loss_fn = loss_fn\n",
    "        self.d_loss_metric = keras.metrics.Mean(name=\"d_loss\")\n",
    "        self.g_loss_metric = keras.metrics.Mean(name=\"g_loss\")\n",
    "\n",
    "    @property\n",
    "    def metrics(self):\n",
    "        return [self.d_loss_metric, self.g_loss_metric]\n",
    "\n",
    "    def train_step(self, real_images):\n",
    "        # Sample random points in the latent space\n",
    "        \n",
    "        batch_size = tf.shape(real_images)[0]\n",
    "        random_latent_vectors = tf.random.normal(shape=(batch_size, self.latent_dim))\n",
    "\n",
    "        # Decode them to fake images\n",
    "        generated_images = self.generator(random_latent_vectors)\n",
    "\n",
    "        # Combine them with real images\n",
    "        combined_images = tf.concat([generated_images, real_images], axis=0)\n",
    "\n",
    "        # Assemble labels discriminating real from fake images\n",
    "        labels = tf.concat(\n",
    "            [tf.ones((batch_size, 1)), tf.zeros((batch_size, 1))], axis=0\n",
    "        )\n",
    "        # Add random noise to the labels - important trick!\n",
    "        labels += 0.05 * tf.random.uniform(tf.shape(labels))\n",
    "\n",
    "        # Train the discriminator\n",
    "        with tf.GradientTape() as tape:\n",
    "            predictions = self.discriminator(combined_images)\n",
    "            d_loss = self.loss_fn(labels, predictions)\n",
    "        grads = tape.gradient(d_loss, self.discriminator.trainable_weights)\n",
    "        self.d_optimizer.apply_gradients(\n",
    "            zip(grads, self.discriminator.trainable_weights)\n",
    "        )\n",
    "\n",
    "        # Sample random points in the latent space\n",
    "        random_latent_vectors = tf.random.normal(shape=(batch_size, self.latent_dim))\n",
    "\n",
    "        # Assemble labels that say \"all real images\"\n",
    "        misleading_labels = tf.zeros((batch_size, 1))\n",
    "\n",
    "        # Train the generator (note that we should *not* update the weights\n",
    "        # of the discriminator)!\n",
    "        with tf.GradientTape() as tape:\n",
    "            predictions = self.discriminator(self.generator(random_latent_vectors))\n",
    "            g_loss = self.loss_fn(misleading_labels, predictions)\n",
    "        grads = tape.gradient(g_loss, self.generator.trainable_weights)\n",
    "        self.g_optimizer.apply_gradients(zip(grads, self.generator.trainable_weights))\n",
    "\n",
    "        # Update metrics\n",
    "        self.d_loss_metric.update_state(d_loss)\n",
    "        self.g_loss_metric.update_state(g_loss)\n",
    "        return {\n",
    "            \"d_loss\": self.d_loss_metric.result(),\n",
    "            \"g_loss\": self.g_loss_metric.result(),\n",
    "        }\n",
    "        \n",
    "        \n"
   ]
  },
  {
   "cell_type": "markdown",
   "metadata": {},
   "source": [
    "**Other GAN Script**"
   ]
  },
  {
   "cell_type": "code",
   "execution_count": 8,
   "metadata": {},
   "outputs": [],
   "source": [
    "# This method returns a helper function to compute cross entropy loss\n",
    "cross_entropy = tf.keras.losses.BinaryCrossentropy(from_logits=True)\n"
   ]
  },
  {
   "cell_type": "code",
   "execution_count": 9,
   "metadata": {},
   "outputs": [],
   "source": [
    "def discriminator_loss(real_output, fake_output, d_loss):\n",
    "    real_loss = cross_entropy(tf.ones_like(real_output), real_output)\n",
    "    fake_loss = cross_entropy(tf.zeros_like(fake_output), fake_output)\n",
    "    total_loss = real_loss + fake_loss\n",
    "    d_loss.append(total_loss)\n",
    "    return total_loss"
   ]
  },
  {
   "cell_type": "code",
   "execution_count": 10,
   "metadata": {},
   "outputs": [],
   "source": [
    "def generator_loss(fake_output, g_loss):\n",
    "    fake_loss = cross_entropy(tf.ones_like(fake_output), fake_output)\n",
    "    g_loss.append(fake_loss)\n",
    "    return fake_loss"
   ]
  },
  {
   "cell_type": "code",
   "execution_count": 11,
   "metadata": {},
   "outputs": [],
   "source": [
    "generator_optimizer = tf.keras.optimizers.Adam(1e-4)\n",
    "discriminator_optimizer = tf.keras.optimizers.Adam(1e-4)"
   ]
  },
  {
   "cell_type": "code",
   "execution_count": 12,
   "metadata": {},
   "outputs": [],
   "source": [
    "checkpoint_dir = 'C:/Users/Max/Documents/gan_checkpoint'\n",
    "checkpoint_prefix = os.path.join(checkpoint_dir, \"ckpt\")\n",
    "checkpoint = tf.train.Checkpoint(generator_optimizer=generator_optimizer,\n",
    "                                 discriminator_optimizer=discriminator_optimizer,\n",
    "                                 generator=generator,\n",
    "                                 discriminator=discriminator)"
   ]
  },
  {
   "cell_type": "markdown",
   "metadata": {
    "colab_type": "text"
   },
   "source": [
    "## Create a callback that periodically saves generated images"
   ]
  },
  {
   "cell_type": "code",
   "execution_count": 13,
   "metadata": {
    "colab_type": "code"
   },
   "outputs": [],
   "source": [
    "\n",
    "class GANMonitor(keras.callbacks.Callback):\n",
    "    def __init__(self, num_img=3, latent_dim=128):\n",
    "        self.num_img = num_img\n",
    "        self.latent_dim = latent_dim\n",
    "\n",
    "    def on_epoch_end(self, epoch, logs=None):\n",
    "        start = time.time()\n",
    "        random_latent_vectors = tf.random.normal(shape=(self.num_img, self.latent_dim))\n",
    "        generated_images = self.model.generator(random_latent_vectors)\n",
    "        generated_images *= 255\n",
    "        generated_images.numpy()\n",
    "        for i in range(self.num_img):\n",
    "            img = keras.preprocessing.image.array_to_img(generated_images[i])\n",
    "            img.save(\"C:/Users/Max/Documents/generated_images/generated_img_%03d_%d.png\" % (epoch, i))\n",
    "    \n",
    "        # Save the model every 5 epochs (WAS 15)\n",
    "        if (epoch + 1) % 15 == 0:\n",
    "          checkpoint.save(file_prefix = checkpoint_prefix)\n",
    "\n",
    "        print ('Time for epoch {} is {} sec'.format(epoch + 1, time.time()-start))\n"
   ]
  },
  {
   "cell_type": "markdown",
   "metadata": {
    "colab_type": "text"
   },
   "source": [
    "## Train the end-to-end model"
   ]
  },
  {
   "cell_type": "code",
   "execution_count": 14,
   "metadata": {
    "colab_type": "code",
    "scrolled": true
   },
   "outputs": [
    {
     "name": "stdout",
     "output_type": "stream",
     "text": [
      "Epoch 1/150\n",
      "46/46 [==============================] - 14s 231ms/step - d_loss: 0.5804 - g_loss: 0.9160\n",
      "Time for epoch 1 is 0.2838144302368164 sec\n",
      "Epoch 2/150\n",
      "46/46 [==============================] - 10s 218ms/step - d_loss: 0.5644 - g_loss: 1.6305\n",
      "Time for epoch 2 is 0.04466509819030762 sec\n",
      "Epoch 3/150\n",
      "46/46 [==============================] - 10s 219ms/step - d_loss: 0.2332 - g_loss: 8.7775\n",
      "Time for epoch 3 is 0.04300069808959961 sec\n",
      "Epoch 4/150\n",
      "46/46 [==============================] - 10s 220ms/step - d_loss: 1.5194 - g_loss: 1.8719\n",
      "Time for epoch 4 is 0.04500436782836914 sec\n",
      "Epoch 5/150\n",
      "46/46 [==============================] - 10s 221ms/step - d_loss: 0.1327 - g_loss: 5.9280\n",
      "Time for epoch 5 is 0.046141862869262695 sec\n",
      "Epoch 6/150\n",
      "46/46 [==============================] - 11s 229ms/step - d_loss: 0.4825 - g_loss: 5.2461\n",
      "Time for epoch 6 is 0.05500078201293945 sec\n",
      "Epoch 7/150\n",
      "46/46 [==============================] - 11s 232ms/step - d_loss: 0.4813 - g_loss: 1.2352\n",
      "Time for epoch 7 is 0.05610394477844238 sec\n",
      "Epoch 8/150\n",
      "46/46 [==============================] - 12s 253ms/step - d_loss: 0.3957 - g_loss: 1.4760\n",
      "Time for epoch 8 is 0.051172733306884766 sec\n",
      "Epoch 9/150\n",
      "46/46 [==============================] - 11s 230ms/step - d_loss: 0.5034 - g_loss: 1.4681\n",
      "Time for epoch 9 is 0.062001705169677734 sec\n",
      "Epoch 10/150\n",
      "46/46 [==============================] - 11s 239ms/step - d_loss: 0.7040 - g_loss: 1.5529\n",
      "Time for epoch 10 is 0.054003000259399414 sec\n",
      "Epoch 11/150\n",
      "46/46 [==============================] - 11s 244ms/step - d_loss: 0.3378 - g_loss: 2.0711\n",
      "Time for epoch 11 is 0.04937934875488281 sec\n",
      "Epoch 12/150\n",
      "46/46 [==============================] - 11s 238ms/step - d_loss: 0.3818 - g_loss: 1.9528\n",
      "Time for epoch 12 is 0.20499825477600098 sec\n",
      "Epoch 13/150\n",
      "46/46 [==============================] - 13s 252ms/step - d_loss: 0.4144 - g_loss: 1.7246\n",
      "Time for epoch 13 is 0.062188148498535156 sec\n",
      "Epoch 14/150\n",
      "46/46 [==============================] - 11s 244ms/step - d_loss: 0.2888 - g_loss: 1.9039\n",
      "Time for epoch 14 is 0.06200361251831055 sec\n",
      "Epoch 15/150\n",
      "46/46 [==============================] - 13s 293ms/step - d_loss: 0.3777 - g_loss: 1.4043\n",
      "Time for epoch 15 is 0.1399233341217041 sec\n",
      "Epoch 16/150\n",
      "46/46 [==============================] - 12s 253ms/step - d_loss: 0.3466 - g_loss: 1.6128\n",
      "Time for epoch 16 is 0.06744146347045898 sec\n",
      "Epoch 17/150\n",
      "46/46 [==============================] - 11s 247ms/step - d_loss: 0.3754 - g_loss: 1.8166\n",
      "Time for epoch 17 is 0.06407332420349121 sec\n",
      "Epoch 18/150\n",
      "46/46 [==============================] - 12s 255ms/step - d_loss: 0.4979 - g_loss: 2.0133\n",
      "Time for epoch 18 is 0.06200122833251953 sec\n",
      "Epoch 19/150\n",
      "46/46 [==============================] - 11s 243ms/step - d_loss: 0.4887 - g_loss: 1.8866\n",
      "Time for epoch 19 is 0.06485819816589355 sec\n",
      "Epoch 20/150\n",
      "46/46 [==============================] - 11s 237ms/step - d_loss: 0.5106 - g_loss: 2.9264\n",
      "Time for epoch 20 is 0.0572206974029541 sec\n",
      "Epoch 21/150\n",
      "46/46 [==============================] - 12s 261ms/step - d_loss: 0.6231 - g_loss: 2.0833\n",
      "Time for epoch 21 is 0.06300044059753418 sec\n",
      "Epoch 22/150\n",
      "46/46 [==============================] - 13s 277ms/step - d_loss: 0.5080 - g_loss: 1.8615\n",
      "Time for epoch 22 is 0.05399966239929199 sec\n",
      "Epoch 23/150\n",
      "46/46 [==============================] - 13s 280ms/step - d_loss: 0.2944 - g_loss: 2.7374\n",
      "Time for epoch 23 is 0.0520017147064209 sec\n",
      "Epoch 24/150\n",
      "46/46 [==============================] - 11s 247ms/step - d_loss: 0.4878 - g_loss: 1.4394\n",
      "Time for epoch 24 is 0.0859994888305664 sec\n",
      "Epoch 25/150\n",
      "46/46 [==============================] - 13s 286ms/step - d_loss: 0.6467 - g_loss: 1.4225\n",
      "Time for epoch 25 is 0.054998159408569336 sec\n",
      "Epoch 26/150\n",
      "46/46 [==============================] - 12s 250ms/step - d_loss: 0.6378 - g_loss: 1.5267\n",
      "Time for epoch 26 is 0.054998159408569336 sec\n",
      "Epoch 27/150\n",
      "46/46 [==============================] - 12s 265ms/step - d_loss: 0.5906 - g_loss: 1.2752\n",
      "Time for epoch 27 is 0.061995744705200195 sec\n",
      "Epoch 28/150\n",
      "46/46 [==============================] - 12s 261ms/step - d_loss: 0.5035 - g_loss: 1.6001\n",
      "Time for epoch 28 is 0.06299781799316406 sec\n",
      "Epoch 29/150\n",
      "46/46 [==============================] - 11s 244ms/step - d_loss: 0.5987 - g_loss: 1.5525\n",
      "Time for epoch 29 is 0.322650671005249 sec\n",
      "Epoch 30/150\n",
      "46/46 [==============================] - 13s 284ms/step - d_loss: 0.4889 - g_loss: 1.5716\n",
      "Time for epoch 30 is 0.11700248718261719 sec\n",
      "Epoch 31/150\n",
      "46/46 [==============================] - 14s 309ms/step - d_loss: 0.4228 - g_loss: 1.9876\n",
      "Time for epoch 31 is 0.06199812889099121 sec\n",
      "Epoch 32/150\n",
      "46/46 [==============================] - 13s 290ms/step - d_loss: 0.4235 - g_loss: 1.6399\n",
      "Time for epoch 32 is 0.06299877166748047 sec\n",
      "Epoch 33/150\n",
      "46/46 [==============================] - 12s 254ms/step - d_loss: 0.5073 - g_loss: 1.4317\n",
      "Time for epoch 33 is 0.06400084495544434 sec\n",
      "Epoch 34/150\n",
      "46/46 [==============================] - 14s 307ms/step - d_loss: 0.6644 - g_loss: 1.3865\n",
      "Time for epoch 34 is 0.07066822052001953 sec\n",
      "Epoch 35/150\n",
      "46/46 [==============================] - 14s 303ms/step - d_loss: 0.2741 - g_loss: 3.2277\n",
      "Time for epoch 35 is 0.06300234794616699 sec\n",
      "Epoch 36/150\n",
      "46/46 [==============================] - 13s 272ms/step - d_loss: 0.5582 - g_loss: 1.3651\n",
      "Time for epoch 36 is 0.05299878120422363 sec\n",
      "Epoch 37/150\n",
      "46/46 [==============================] - 14s 294ms/step - d_loss: 0.4373 - g_loss: 1.5012\n",
      "Time for epoch 37 is 0.04999947547912598 sec\n",
      "Epoch 38/150\n",
      "46/46 [==============================] - 13s 286ms/step - d_loss: 0.5809 - g_loss: 1.6554\n",
      "Time for epoch 38 is 0.06400036811828613 sec\n",
      "Epoch 39/150\n",
      "46/46 [==============================] - 12s 269ms/step - d_loss: 0.8563 - g_loss: 1.2306\n",
      "Time for epoch 39 is 0.05199909210205078 sec\n",
      "Epoch 40/150\n",
      "46/46 [==============================] - 14s 301ms/step - d_loss: 0.4894 - g_loss: 1.8944\n",
      "Time for epoch 40 is 0.06299805641174316 sec\n",
      "Epoch 41/150\n",
      "46/46 [==============================] - 14s 297ms/step - d_loss: 0.5230 - g_loss: 1.6163\n",
      "Time for epoch 41 is 0.059000253677368164 sec\n",
      "Epoch 42/150\n",
      "46/46 [==============================] - 15s 328ms/step - d_loss: 0.6165 - g_loss: 1.3309\n",
      "Time for epoch 42 is 0.06899881362915039 sec\n",
      "Epoch 43/150\n",
      "46/46 [==============================] - 11s 236ms/step - d_loss: 0.4360 - g_loss: 1.6867\n",
      "Time for epoch 43 is 0.05091977119445801 sec\n",
      "Epoch 44/150\n",
      "46/46 [==============================] - 11s 238ms/step - d_loss: 0.4177 - g_loss: 1.7960\n",
      "Time for epoch 44 is 0.057997941970825195 sec\n",
      "Epoch 45/150\n",
      "46/46 [==============================] - 15s 316ms/step - d_loss: 0.5709 - g_loss: 1.6558\n",
      "Time for epoch 45 is 0.1080009937286377 sec\n",
      "Epoch 46/150\n",
      "46/46 [==============================] - 14s 307ms/step - d_loss: 0.3342 - g_loss: 2.1609\n",
      "Time for epoch 46 is 0.06507158279418945 sec\n",
      "Epoch 47/150\n",
      "46/46 [==============================] - 14s 306ms/step - d_loss: 0.3879 - g_loss: 1.7249\n",
      "Time for epoch 47 is 0.06606698036193848 sec\n",
      "Epoch 48/150\n",
      "46/46 [==============================] - 14s 311ms/step - d_loss: 0.4662 - g_loss: 1.5209\n",
      "Time for epoch 48 is 0.039000511169433594 sec\n",
      "Epoch 49/150\n",
      "46/46 [==============================] - 13s 284ms/step - d_loss: 0.3126 - g_loss: 2.1567\n",
      "Time for epoch 49 is 0.041997432708740234 sec\n",
      "Epoch 50/150\n",
      "46/46 [==============================] - 11s 231ms/step - d_loss: 0.3006 - g_loss: 2.1576\n",
      "Time for epoch 50 is 0.11954307556152344 sec\n",
      "Epoch 51/150\n",
      "46/46 [==============================] - 12s 256ms/step - d_loss: 0.2887 - g_loss: 2.2208\n",
      "Time for epoch 51 is 0.04151105880737305 sec\n",
      "Epoch 52/150\n",
      "46/46 [==============================] - 11s 241ms/step - d_loss: 0.3987 - g_loss: 1.9288\n",
      "Time for epoch 52 is 0.03900146484375 sec\n",
      "Epoch 53/150\n",
      "46/46 [==============================] - 11s 229ms/step - d_loss: 0.3074 - g_loss: 2.1926\n",
      "Time for epoch 53 is 0.040999412536621094 sec\n",
      "Epoch 54/150\n",
      "46/46 [==============================] - 12s 266ms/step - d_loss: 0.3599 - g_loss: 2.0473\n",
      "Time for epoch 54 is 0.04007267951965332 sec\n",
      "Epoch 55/150\n",
      "46/46 [==============================] - 11s 231ms/step - d_loss: 0.2871 - g_loss: 2.4945\n",
      "Time for epoch 55 is 0.03900289535522461 sec\n",
      "Epoch 56/150\n"
     ]
    },
    {
     "name": "stdout",
     "output_type": "stream",
     "text": [
      "46/46 [==============================] - 12s 254ms/step - d_loss: 0.3984 - g_loss: 1.8901\n",
      "Time for epoch 56 is 0.039769649505615234 sec\n",
      "Epoch 57/150\n",
      "46/46 [==============================] - 11s 246ms/step - d_loss: 0.3433 - g_loss: 2.0649\n",
      "Time for epoch 57 is 0.040003299713134766 sec\n",
      "Epoch 58/150\n",
      "46/46 [==============================] - 13s 276ms/step - d_loss: 0.3480 - g_loss: 2.1774\n",
      "Time for epoch 58 is 0.04971432685852051 sec\n",
      "Epoch 59/150\n",
      "46/46 [==============================] - 13s 270ms/step - d_loss: 0.3438 - g_loss: 2.1122\n",
      "Time for epoch 59 is 0.04000234603881836 sec\n",
      "Epoch 60/150\n",
      "46/46 [==============================] - 11s 238ms/step - d_loss: 0.3217 - g_loss: 2.0595\n",
      "Time for epoch 60 is 0.09599757194519043 sec\n",
      "Epoch 61/150\n",
      "46/46 [==============================] - 11s 235ms/step - d_loss: 0.3195 - g_loss: 1.9981\n",
      "Time for epoch 61 is 0.039003610610961914 sec\n",
      "Epoch 62/150\n",
      "46/46 [==============================] - 11s 231ms/step - d_loss: 0.3283 - g_loss: 2.1447\n",
      "Time for epoch 62 is 0.039809226989746094 sec\n",
      "Epoch 63/150\n",
      "46/46 [==============================] - 11s 236ms/step - d_loss: 0.2959 - g_loss: 2.2772\n",
      "Time for epoch 63 is 0.03999924659729004 sec\n",
      "Epoch 64/150\n",
      "46/46 [==============================] - 12s 258ms/step - d_loss: 0.8137 - g_loss: 1.5821\n",
      "Time for epoch 64 is 0.041001319885253906 sec\n",
      "Epoch 65/150\n",
      "46/46 [==============================] - 11s 229ms/step - d_loss: 0.3001 - g_loss: 2.2369\n",
      "Time for epoch 65 is 0.03999948501586914 sec\n",
      "Epoch 66/150\n",
      "46/46 [==============================] - 11s 232ms/step - d_loss: 0.4094 - g_loss: 1.7146\n",
      "Time for epoch 66 is 0.04000377655029297 sec\n",
      "Epoch 67/150\n",
      "46/46 [==============================] - 11s 244ms/step - d_loss: 0.3790 - g_loss: 1.8635\n",
      "Time for epoch 67 is 0.03999948501586914 sec\n",
      "Epoch 68/150\n",
      "46/46 [==============================] - 11s 243ms/step - d_loss: 0.3833 - g_loss: 2.1257\n",
      "Time for epoch 68 is 0.04234600067138672 sec\n",
      "Epoch 69/150\n",
      "46/46 [==============================] - 12s 268ms/step - d_loss: 0.4427 - g_loss: 2.0068\n",
      "Time for epoch 69 is 0.05699968338012695 sec\n",
      "Epoch 70/150\n",
      "46/46 [==============================] - 14s 309ms/step - d_loss: 0.3143 - g_loss: 2.3072\n",
      "Time for epoch 70 is 0.0409998893737793 sec\n",
      "Epoch 71/150\n",
      "46/46 [==============================] - 12s 261ms/step - d_loss: 0.3162 - g_loss: 2.0259\n",
      "Time for epoch 71 is 0.039999961853027344 sec\n",
      "Epoch 72/150\n",
      "46/46 [==============================] - 11s 228ms/step - d_loss: 0.3268 - g_loss: 2.2665\n",
      "Time for epoch 72 is 0.0449976921081543 sec\n",
      "Epoch 73/150\n",
      "46/46 [==============================] - 14s 294ms/step - d_loss: 0.3133 - g_loss: 1.8943\n",
      "Time for epoch 73 is 0.040001630783081055 sec\n",
      "Epoch 74/150\n",
      "46/46 [==============================] - 11s 243ms/step - d_loss: 0.3510 - g_loss: 1.9939\n",
      "Time for epoch 74 is 0.03900003433227539 sec\n",
      "Epoch 75/150\n",
      "46/46 [==============================] - 14s 300ms/step - d_loss: 0.3102 - g_loss: 1.8718\n",
      "Time for epoch 75 is 0.1300208568572998 sec\n",
      "Epoch 76/150\n",
      "46/46 [==============================] - 12s 259ms/step - d_loss: 0.2956 - g_loss: 1.9977\n",
      "Time for epoch 76 is 0.039999961853027344 sec\n",
      "Epoch 77/150\n",
      "46/46 [==============================] - 11s 245ms/step - d_loss: 0.3176 - g_loss: 1.9127\n",
      "Time for epoch 77 is 0.06548857688903809 sec\n",
      "Epoch 78/150\n",
      "46/46 [==============================] - 13s 280ms/step - d_loss: 0.3281 - g_loss: 1.8882\n",
      "Time for epoch 78 is 0.040003299713134766 sec\n",
      "Epoch 79/150\n",
      "46/46 [==============================] - 12s 263ms/step - d_loss: 0.2912 - g_loss: 2.0387\n",
      "Time for epoch 79 is 0.039609670639038086 sec\n",
      "Epoch 80/150\n",
      "46/46 [==============================] - 13s 291ms/step - d_loss: 0.3079 - g_loss: 1.9954\n",
      "Time for epoch 80 is 0.03900265693664551 sec\n",
      "Epoch 81/150\n",
      "46/46 [==============================] - 11s 243ms/step - d_loss: 0.3043 - g_loss: 2.1190\n",
      "Time for epoch 81 is 0.05100107192993164 sec\n",
      "Epoch 82/150\n",
      "46/46 [==============================] - 12s 249ms/step - d_loss: 0.2850 - g_loss: 2.2720\n",
      "Time for epoch 82 is 0.0500028133392334 sec\n",
      "Epoch 83/150\n",
      "46/46 [==============================] - 11s 234ms/step - d_loss: 0.3468 - g_loss: 2.1329\n",
      "Time for epoch 83 is 0.039000749588012695 sec\n",
      "Epoch 84/150\n",
      "46/46 [==============================] - 11s 233ms/step - d_loss: 0.3392 - g_loss: 2.1161\n",
      "Time for epoch 84 is 0.04100441932678223 sec\n",
      "Epoch 85/150\n",
      "46/46 [==============================] - 10s 224ms/step - d_loss: 0.3128 - g_loss: 2.0460\n",
      "Time for epoch 85 is 0.039000511169433594 sec\n",
      "Epoch 86/150\n",
      "46/46 [==============================] - 10s 224ms/step - d_loss: 0.3092 - g_loss: 1.9477\n",
      "Time for epoch 86 is 0.038999319076538086 sec\n",
      "Epoch 87/150\n",
      "46/46 [==============================] - 10s 224ms/step - d_loss: 0.2856 - g_loss: 2.0214\n",
      "Time for epoch 87 is 0.03900003433227539 sec\n",
      "Epoch 88/150\n",
      "46/46 [==============================] - 11s 245ms/step - d_loss: 0.2679 - g_loss: 2.0796\n",
      "Time for epoch 88 is 0.039002180099487305 sec\n",
      "Epoch 89/150\n",
      "46/46 [==============================] - 14s 307ms/step - d_loss: 0.2843 - g_loss: 2.1130\n",
      "Time for epoch 89 is 0.03900003433227539 sec\n",
      "Epoch 90/150\n",
      "46/46 [==============================] - 12s 263ms/step - d_loss: 0.3029 - g_loss: 2.1898\n",
      "Time for epoch 90 is 0.1059105396270752 sec\n",
      "Epoch 91/150\n",
      "46/46 [==============================] - 12s 255ms/step - d_loss: 0.2542 - g_loss: 2.3441\n",
      "Time for epoch 91 is 0.03899717330932617 sec\n",
      "Epoch 92/150\n",
      "46/46 [==============================] - 13s 288ms/step - d_loss: 0.3744 - g_loss: 2.0223\n",
      "Time for epoch 92 is 0.03999972343444824 sec\n",
      "Epoch 93/150\n",
      "46/46 [==============================] - 11s 234ms/step - d_loss: 0.3113 - g_loss: 2.1239\n",
      "Time for epoch 93 is 0.0390164852142334 sec\n",
      "Epoch 94/150\n",
      "46/46 [==============================] - 12s 255ms/step - d_loss: 0.3263 - g_loss: 1.9998\n",
      "Time for epoch 94 is 0.04900026321411133 sec\n",
      "Epoch 95/150\n",
      "46/46 [==============================] - 11s 234ms/step - d_loss: 0.3633 - g_loss: 2.0128\n",
      "Time for epoch 95 is 0.04300045967102051 sec\n",
      "Epoch 96/150\n",
      "46/46 [==============================] - 12s 266ms/step - d_loss: 0.2405 - g_loss: 2.5089\n",
      "Time for epoch 96 is 0.03899669647216797 sec\n",
      "Epoch 97/150\n",
      "46/46 [==============================] - 12s 257ms/step - d_loss: 0.1243 - g_loss: 3.0504\n",
      "Time for epoch 97 is 0.03900337219238281 sec\n",
      "Epoch 98/150\n",
      "46/46 [==============================] - 10s 227ms/step - d_loss: 0.2635 - g_loss: 2.4538\n",
      "Time for epoch 98 is 0.038999319076538086 sec\n",
      "Epoch 99/150\n",
      "46/46 [==============================] - 11s 235ms/step - d_loss: 0.3762 - g_loss: 2.2554\n",
      "Time for epoch 99 is 0.03899884223937988 sec\n",
      "Epoch 100/150\n",
      "46/46 [==============================] - 12s 256ms/step - d_loss: 0.2165 - g_loss: 2.6166\n",
      "Time for epoch 100 is 0.03835940361022949 sec\n",
      "Epoch 101/150\n",
      "46/46 [==============================] - 13s 277ms/step - d_loss: 0.4149 - g_loss: 1.8822\n",
      "Time for epoch 101 is 0.03800320625305176 sec\n",
      "Epoch 102/150\n",
      "46/46 [==============================] - 13s 280ms/step - d_loss: 0.3229 - g_loss: 1.9507\n",
      "Time for epoch 102 is 0.03899788856506348 sec\n",
      "Epoch 103/150\n",
      "46/46 [==============================] - 13s 283ms/step - d_loss: 0.3253 - g_loss: 1.9324\n",
      "Time for epoch 103 is 0.046999216079711914 sec\n",
      "Epoch 104/150\n",
      "46/46 [==============================] - 13s 281ms/step - d_loss: 0.3466 - g_loss: 1.8153\n",
      "Time for epoch 104 is 0.038999319076538086 sec\n",
      "Epoch 105/150\n",
      "46/46 [==============================] - 12s 252ms/step - d_loss: 0.2972 - g_loss: 1.9557\n",
      "Time for epoch 105 is 0.09799885749816895 sec\n",
      "Epoch 106/150\n",
      "46/46 [==============================] - 12s 250ms/step - d_loss: 0.2989 - g_loss: 1.9137\n",
      "Time for epoch 106 is 0.03900027275085449 sec\n",
      "Epoch 107/150\n",
      "46/46 [==============================] - 11s 246ms/step - d_loss: 0.3216 - g_loss: 1.8953\n",
      "Time for epoch 107 is 0.03899836540222168 sec\n",
      "Epoch 108/150\n",
      "46/46 [==============================] - 11s 242ms/step - d_loss: 0.2834 - g_loss: 2.0397\n",
      "Time for epoch 108 is 0.03800082206726074 sec\n",
      "Epoch 109/150\n",
      "46/46 [==============================] - 12s 271ms/step - d_loss: 0.3044 - g_loss: 2.0783\n",
      "Time for epoch 109 is 0.0390012264251709 sec\n",
      "Epoch 110/150\n",
      "46/46 [==============================] - 13s 283ms/step - d_loss: 0.3052 - g_loss: 1.9637\n",
      "Time for epoch 110 is 0.03900027275085449 sec\n",
      "Epoch 111/150\n"
     ]
    },
    {
     "name": "stdout",
     "output_type": "stream",
     "text": [
      "46/46 [==============================] - 12s 259ms/step - d_loss: 0.2540 - g_loss: 2.1161\n",
      "Time for epoch 111 is 0.03899836540222168 sec\n",
      "Epoch 112/150\n",
      "46/46 [==============================] - 13s 281ms/step - d_loss: 0.2956 - g_loss: 2.0321\n",
      "Time for epoch 112 is 0.04999828338623047 sec\n",
      "Epoch 113/150\n",
      "46/46 [==============================] - 14s 301ms/step - d_loss: 0.3399 - g_loss: 1.9231\n",
      "Time for epoch 113 is 0.04099917411804199 sec\n",
      "Epoch 114/150\n",
      "46/46 [==============================] - 12s 261ms/step - d_loss: 0.2985 - g_loss: 2.0656\n",
      "Time for epoch 114 is 0.038999319076538086 sec\n",
      "Epoch 115/150\n",
      "46/46 [==============================] - 12s 259ms/step - d_loss: 0.2742 - g_loss: 2.0557\n",
      "Time for epoch 115 is 0.039002180099487305 sec\n",
      "Epoch 116/150\n",
      "46/46 [==============================] - 11s 226ms/step - d_loss: 0.2623 - g_loss: 2.1665\n",
      "Time for epoch 116 is 0.0390009880065918 sec\n",
      "Epoch 117/150\n",
      "46/46 [==============================] - 17s 364ms/step - d_loss: 0.2790 - g_loss: 2.1314\n",
      "Time for epoch 117 is 0.05700087547302246 sec\n",
      "Epoch 118/150\n",
      "46/46 [==============================] - 12s 253ms/step - d_loss: 0.3053 - g_loss: 1.9981\n",
      "Time for epoch 118 is 0.0989997386932373 sec\n",
      "Epoch 119/150\n",
      "46/46 [==============================] - 11s 239ms/step - d_loss: 0.2948 - g_loss: 2.1696\n",
      "Time for epoch 119 is 0.04800128936767578 sec\n",
      "Epoch 120/150\n",
      "46/46 [==============================] - 11s 249ms/step - d_loss: 0.2634 - g_loss: 2.2057\n",
      "Time for epoch 120 is 0.10599708557128906 sec\n",
      "Epoch 121/150\n",
      "46/46 [==============================] - 12s 269ms/step - d_loss: 0.3083 - g_loss: 1.9832\n",
      "Time for epoch 121 is 0.056000471115112305 sec\n",
      "Epoch 122/150\n",
      "46/46 [==============================] - 14s 297ms/step - d_loss: 0.3317 - g_loss: 1.9822\n",
      "Time for epoch 122 is 0.0579981803894043 sec\n",
      "Epoch 123/150\n",
      "46/46 [==============================] - 12s 256ms/step - d_loss: 0.2761 - g_loss: 2.1110\n",
      "Time for epoch 123 is 0.04800271987915039 sec\n",
      "Epoch 124/150\n",
      "46/46 [==============================] - 12s 250ms/step - d_loss: 0.2453 - g_loss: 2.2246\n",
      "Time for epoch 124 is 0.08035492897033691 sec\n",
      "Epoch 125/150\n",
      "46/46 [==============================] - 12s 255ms/step - d_loss: 0.3452 - g_loss: 2.0217\n",
      "Time for epoch 125 is 0.04100942611694336 sec\n",
      "Epoch 126/150\n",
      "46/46 [==============================] - 16s 339ms/step - d_loss: 0.2820 - g_loss: 2.0897\n",
      "Time for epoch 126 is 0.04199838638305664 sec\n",
      "Epoch 127/150\n",
      "46/46 [==============================] - 12s 268ms/step - d_loss: 0.3281 - g_loss: 2.0579\n",
      "Time for epoch 127 is 0.0410003662109375 sec\n",
      "Epoch 128/150\n",
      "46/46 [==============================] - 15s 313ms/step - d_loss: 0.2806 - g_loss: 2.0439\n",
      "Time for epoch 128 is 0.039000511169433594 sec\n",
      "Epoch 129/150\n",
      "46/46 [==============================] - 12s 263ms/step - d_loss: 0.2710 - g_loss: 2.0553\n",
      "Time for epoch 129 is 0.037999868392944336 sec\n",
      "Epoch 130/150\n",
      "46/46 [==============================] - 11s 233ms/step - d_loss: 0.2664 - g_loss: 2.1704\n",
      "Time for epoch 130 is 0.0390019416809082 sec\n",
      "Epoch 131/150\n",
      "46/46 [==============================] - 11s 239ms/step - d_loss: 0.3044 - g_loss: 2.2350\n",
      "Time for epoch 131 is 0.0390009880065918 sec\n",
      "Epoch 132/150\n",
      "46/46 [==============================] - 14s 295ms/step - d_loss: 0.2490 - g_loss: 2.2595\n",
      "Time for epoch 132 is 0.0559995174407959 sec\n",
      "Epoch 133/150\n",
      "46/46 [==============================] - 11s 229ms/step - d_loss: 0.3239 - g_loss: 1.9272\n",
      "Time for epoch 133 is 0.048000335693359375 sec\n",
      "Epoch 134/150\n",
      "46/46 [==============================] - 11s 233ms/step - d_loss: 0.3217 - g_loss: 2.0116\n",
      "Time for epoch 134 is 0.04900050163269043 sec\n",
      "Epoch 135/150\n",
      "46/46 [==============================] - 11s 238ms/step - d_loss: 0.2835 - g_loss: 2.1022\n",
      "Time for epoch 135 is 0.1064600944519043 sec\n",
      "Epoch 136/150\n",
      "46/46 [==============================] - 11s 236ms/step - d_loss: 0.2442 - g_loss: 2.2522\n",
      "Time for epoch 136 is 0.05800056457519531 sec\n",
      "Epoch 137/150\n",
      "46/46 [==============================] - 11s 237ms/step - d_loss: 0.1753 - g_loss: 2.7624\n",
      "Time for epoch 137 is 0.04699897766113281 sec\n",
      "Epoch 138/150\n",
      "46/46 [==============================] - 11s 234ms/step - d_loss: 0.2844 - g_loss: 2.7556\n",
      "Time for epoch 138 is 0.04900097846984863 sec\n",
      "Epoch 139/150\n",
      "46/46 [==============================] - 11s 236ms/step - d_loss: 0.3342 - g_loss: 2.0866\n",
      "Time for epoch 139 is 0.05000162124633789 sec\n",
      "Epoch 140/150\n",
      "46/46 [==============================] - 11s 237ms/step - d_loss: 0.3154 - g_loss: 2.1642\n",
      "Time for epoch 140 is 0.05299782752990723 sec\n",
      "Epoch 141/150\n",
      "46/46 [==============================] - 11s 247ms/step - d_loss: 0.2818 - g_loss: 2.2411\n",
      "Time for epoch 141 is 0.048999786376953125 sec\n",
      "Epoch 142/150\n",
      "46/46 [==============================] - 11s 237ms/step - d_loss: 0.2828 - g_loss: 2.1849\n",
      "Time for epoch 142 is 0.05300116539001465 sec\n",
      "Epoch 143/150\n",
      "46/46 [==============================] - 11s 235ms/step - d_loss: 0.3325 - g_loss: 2.1149\n",
      "Time for epoch 143 is 0.04799914360046387 sec\n",
      "Epoch 144/150\n",
      "46/46 [==============================] - 12s 252ms/step - d_loss: 0.2716 - g_loss: 2.2913\n",
      "Time for epoch 144 is 0.0449979305267334 sec\n",
      "Epoch 145/150\n",
      "46/46 [==============================] - 11s 234ms/step - d_loss: 0.2487 - g_loss: 2.4674\n",
      "Time for epoch 145 is 0.06000089645385742 sec\n",
      "Epoch 146/150\n",
      "46/46 [==============================] - 11s 242ms/step - d_loss: 0.1428 - g_loss: 2.9379\n",
      "Time for epoch 146 is 0.05400228500366211 sec\n",
      "Epoch 147/150\n",
      "46/46 [==============================] - 12s 251ms/step - d_loss: 0.3568 - g_loss: 2.2847\n",
      "Time for epoch 147 is 0.07200336456298828 sec\n",
      "Epoch 148/150\n",
      "46/46 [==============================] - 11s 246ms/step - d_loss: 0.2907 - g_loss: 2.1981\n",
      "Time for epoch 148 is 0.04399871826171875 sec\n",
      "Epoch 149/150\n",
      "46/46 [==============================] - 12s 257ms/step - d_loss: 0.3386 - g_loss: 2.0395\n",
      "Time for epoch 149 is 0.04399871826171875 sec\n",
      "Epoch 150/150\n",
      "46/46 [==============================] - 14s 303ms/step - d_loss: 0.2697 - g_loss: 2.1362\n",
      "Time for epoch 150 is 0.10200023651123047 sec\n"
     ]
    },
    {
     "data": {
      "text/plain": [
       "<tensorflow.python.keras.callbacks.History at 0x1aa7b8e29d0>"
      ]
     },
     "execution_count": 14,
     "metadata": {},
     "output_type": "execute_result"
    }
   ],
   "source": [
    "epochs = 150  # In practice, use ~100 epochs\n",
    "\n",
    "gan = GAN(discriminator=discriminator, generator=generator, latent_dim=latent_dim)\n",
    "gan.compile(\n",
    "    d_optimizer=keras.optimizers.Adam(learning_rate=0.0001), # Was 0.0001\n",
    "    g_optimizer=keras.optimizers.Adam(learning_rate=0.0001), # Was 0.0001\n",
    "    loss_fn=keras.losses.BinaryCrossentropy(),\n",
    ")\n",
    "\n",
    "gan.fit(\n",
    "    dataset, epochs=epochs, callbacks=[GANMonitor(num_img=10, latent_dim=latent_dim)]\n",
    ")"
   ]
  },
  {
   "cell_type": "markdown",
   "metadata": {
    "colab_type": "text"
   },
   "source": [
    "Some of the last generated images around epoch 30\n",
    "(results keep improving after that):\n"
   ]
  },
  {
   "cell_type": "markdown",
   "metadata": {},
   "source": [
    "# Checkpoint Restore"
   ]
  },
  {
   "cell_type": "code",
   "execution_count": 15,
   "metadata": {},
   "outputs": [],
   "source": [
    "#checkpoint.restore(tf.train.latest_checkpoint(checkpoint_dir))"
   ]
  },
  {
   "cell_type": "code",
   "execution_count": null,
   "metadata": {},
   "outputs": [],
   "source": []
  }
 ],
 "metadata": {
  "colab": {
   "collapsed_sections": [],
   "name": "dcgan_overriding_train_step",
   "private_outputs": false,
   "provenance": [],
   "toc_visible": true
  },
  "kernelspec": {
   "display_name": "Python 3 (ipykernel)",
   "language": "python",
   "name": "python3"
  },
  "language_info": {
   "codemirror_mode": {
    "name": "ipython",
    "version": 3
   },
   "file_extension": ".py",
   "mimetype": "text/x-python",
   "name": "python",
   "nbconvert_exporter": "python",
   "pygments_lexer": "ipython3",
   "version": "3.8.13"
  }
 },
 "nbformat": 4,
 "nbformat_minor": 1
}
