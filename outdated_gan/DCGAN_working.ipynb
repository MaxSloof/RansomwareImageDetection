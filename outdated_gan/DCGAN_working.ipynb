{
 "cells": [
  {
   "cell_type": "markdown",
   "metadata": {
    "colab_type": "text"
   },
   "source": [
    "# DCGAN to generate face images\n",
    "\n",
    "**Author:** [fchollet](https://twitter.com/fchollet)<br>\n",
    "**Date created:** 2019/04/29<br>\n",
    "**Last modified:** 2021/01/01<br>\n",
    "**Description:** A simple DCGAN trained using `fit()` by overriding `train_step` on CelebA images."
   ]
  },
  {
   "cell_type": "markdown",
   "metadata": {
    "colab_type": "text"
   },
   "source": [
    "## Setup"
   ]
  },
  {
   "cell_type": "code",
   "execution_count": 2,
   "metadata": {
    "colab_type": "code"
   },
   "outputs": [],
   "source": [
    "import tensorflow as tf\n",
    "from tensorflow import keras\n",
    "from tensorflow.keras import layers\n",
    "import numpy as np\n",
    "import matplotlib.pyplot as plt\n",
    "import os\n",
    "#import gdown\n",
    "import time"
   ]
  },
  {
   "cell_type": "markdown",
   "metadata": {
    "colab_type": "text"
   },
   "source": [
    "## Prepare CelebA data\n",
    "\n",
    "We'll use face images from the CelebA dataset, resized to 64x64."
   ]
  },
  {
   "cell_type": "code",
   "execution_count": 3,
   "metadata": {
    "colab_type": "code"
   },
   "outputs": [],
   "source": [
    "path_root = \"C:/Users/Max/Documents/thesis_data\"\n"
   ]
  },
  {
   "cell_type": "markdown",
   "metadata": {
    "colab_type": "text"
   },
   "source": [
    "Create a dataset from our folder, and rescale the images to the [0-1] range:"
   ]
  },
  {
   "cell_type": "code",
   "execution_count": 1,
   "metadata": {
    "colab_type": "code"
   },
   "outputs": [
    {
     "ename": "NameError",
     "evalue": "name 'keras' is not defined",
     "output_type": "error",
     "traceback": [
      "\u001b[1;31m---------------------------------------------------------------------------\u001b[0m",
      "\u001b[1;31mNameError\u001b[0m                                 Traceback (most recent call last)",
      "\u001b[1;32m~\\AppData\\Local\\Temp/ipykernel_22004/851783687.py\u001b[0m in \u001b[0;36m<module>\u001b[1;34m\u001b[0m\n\u001b[1;32m----> 1\u001b[1;33m dataset = keras.preprocessing.image_dataset_from_directory(\n\u001b[0m\u001b[0;32m      2\u001b[0m     \u001b[0mpath_root\u001b[0m\u001b[1;33m,\u001b[0m \u001b[0mlabel_mode\u001b[0m\u001b[1;33m=\u001b[0m\u001b[1;32mNone\u001b[0m\u001b[1;33m,\u001b[0m \u001b[0mimage_size\u001b[0m\u001b[1;33m=\u001b[0m\u001b[1;33m(\u001b[0m\u001b[1;36m64\u001b[0m\u001b[1;33m,\u001b[0m \u001b[1;36m64\u001b[0m\u001b[1;33m)\u001b[0m\u001b[1;33m,\u001b[0m \u001b[0mbatch_size\u001b[0m\u001b[1;33m=\u001b[0m\u001b[1;36m32\u001b[0m\u001b[1;33m,\u001b[0m \u001b[0minterpolation\u001b[0m\u001b[1;33m=\u001b[0m\u001b[1;34m\"bicubic\"\u001b[0m\u001b[1;33m,\u001b[0m \u001b[0mcolor_mode\u001b[0m\u001b[1;33m=\u001b[0m\u001b[1;34m\"rgb\"\u001b[0m\u001b[1;33m\u001b[0m\u001b[1;33m\u001b[0m\u001b[0m\n\u001b[0;32m      3\u001b[0m )\n\u001b[0;32m      4\u001b[0m \u001b[0mdataset\u001b[0m \u001b[1;33m=\u001b[0m \u001b[0mdataset\u001b[0m\u001b[1;33m.\u001b[0m\u001b[0mmap\u001b[0m\u001b[1;33m(\u001b[0m\u001b[1;32mlambda\u001b[0m \u001b[0mx\u001b[0m\u001b[1;33m:\u001b[0m \u001b[0mx\u001b[0m \u001b[1;33m/\u001b[0m \u001b[1;36m255.0\u001b[0m\u001b[1;33m)\u001b[0m\u001b[1;33m\u001b[0m\u001b[1;33m\u001b[0m\u001b[0m\n\u001b[0;32m      5\u001b[0m \u001b[0mdataset\u001b[0m\u001b[1;33m.\u001b[0m\u001b[0mshape\u001b[0m\u001b[1;33m\u001b[0m\u001b[1;33m\u001b[0m\u001b[0m\n",
      "\u001b[1;31mNameError\u001b[0m: name 'keras' is not defined"
     ]
    }
   ],
   "source": [
    "dataset = keras.preprocessing.image_dataset_from_directory(\n",
    "    path_root, label_mode=None, image_size=(64, 64), batch_size=32, interpolation=\"bicubic\", color_mode=\"rgb\"\n",
    ")\n",
    "dataset = dataset.map(lambda x: x / 255.0)\n"
   ]
  },
  {
   "cell_type": "markdown",
   "metadata": {
    "colab_type": "text"
   },
   "source": [
    "Let's display a sample image:"
   ]
  },
  {
   "cell_type": "code",
   "execution_count": 41,
   "metadata": {
    "colab_type": "code"
   },
   "outputs": [
    {
     "name": "stderr",
     "output_type": "stream",
     "text": [
      "Clipping input data to the valid range for imshow with RGB data ([0..1] for floats or [0..255] for integers).\n"
     ]
    },
    {
     "data": {
      "image/png": "[encoded data removed]",
      "text/plain": [
       "<Figure size 432x288 with 1 Axes>"
      ]
     },
     "metadata": {
      "needs_background": "light"
     },
     "output_type": "display_data"
    }
   ],
   "source": [
    "\n",
    "for x in dataset:\n",
    "    plt.axis(\"off\")\n",
    "    plt.imshow((x.numpy() * 255).astype(\"int32\")[0])\n",
    "    break\n"
   ]
  },
  {
   "cell_type": "markdown",
   "metadata": {
    "colab_type": "text"
   },
   "source": [
    "## Create the discriminator\n",
    "\n",
    "It maps a 64x64 image to a binary classification score."
   ]
  },
  {
   "cell_type": "code",
   "execution_count": 42,
   "metadata": {
    "colab_type": "code"
   },
   "outputs": [
    {
     "name": "stdout",
     "output_type": "stream",
     "text": [
      "Model: \"discriminator\"\n",
      "_________________________________________________________________\n",
      "Layer (type)                 Output Shape              Param #   \n",
      "=================================================================\n",
      "conv2d_8 (Conv2D)            (None, 32, 32, 64)        3136      \n",
      "_________________________________________________________________\n",
      "leaky_re_lu_12 (LeakyReLU)   (None, 32, 32, 64)        0         \n",
      "_________________________________________________________________\n",
      "conv2d_9 (Conv2D)            (None, 16, 16, 128)       131200    \n",
      "_________________________________________________________________\n",
      "leaky_re_lu_13 (LeakyReLU)   (None, 16, 16, 128)       0         \n",
      "_________________________________________________________________\n",
      "conv2d_10 (Conv2D)           (None, 8, 8, 128)         262272    \n",
      "_________________________________________________________________\n",
      "leaky_re_lu_14 (LeakyReLU)   (None, 8, 8, 128)         0         \n",
      "_________________________________________________________________\n",
      "flatten_2 (Flatten)          (None, 8192)              0         \n",
      "_________________________________________________________________\n",
      "dropout_2 (Dropout)          (None, 8192)              0         \n",
      "_________________________________________________________________\n",
      "dense_4 (Dense)              (None, 1)                 8193      \n",
      "=================================================================\n",
      "Total params: 404,801\n",
      "Trainable params: 404,801\n",
      "Non-trainable params: 0\n",
      "_________________________________________________________________\n"
     ]
    }
   ],
   "source": [
    "discriminator = keras.Sequential(\n",
    "    [\n",
    "      \n",
    "        \n",
    "        layers.Conv2D(64, kernel_size=4, strides=2, padding=\"same\",input_shape=(64, 64, 3)),\n",
    "        layers.LeakyReLU(alpha=0.2),\n",
    "        layers.Conv2D(128, kernel_size=4, strides=2, padding=\"same\"),\n",
    "        layers.LeakyReLU(alpha=0.2),\n",
    "        layers.Conv2D(128, kernel_size=4, strides=2, padding=\"same\"),\n",
    "        layers.LeakyReLU(alpha=0.2),\n",
    "        layers.Flatten(),\n",
    "        layers.Dropout(0.2),\n",
    "        layers.Dense(1, activation=\"sigmoid\"),\n",
    "    ],\n",
    "    name=\"discriminator\",\n",
    ")\n",
    "discriminator.summary()"
   ]
  },
  {
   "cell_type": "markdown",
   "metadata": {
    "colab_type": "text"
   },
   "source": [
    "## Create the generator\n",
    "\n",
    "It mirrors the discriminator, replacing `Conv2D` layers with `Conv2DTranspose` layers."
   ]
  },
  {
   "cell_type": "code",
   "execution_count": 43,
   "metadata": {
    "colab_type": "code",
    "scrolled": true
   },
   "outputs": [
    {
     "name": "stdout",
     "output_type": "stream",
     "text": [
      "Model: \"generator\"\n",
      "_________________________________________________________________\n",
      "Layer (type)                 Output Shape              Param #   \n",
      "=================================================================\n",
      "dense_5 (Dense)              (None, 8192)              1056768   \n",
      "_________________________________________________________________\n",
      "reshape_2 (Reshape)          (None, 8, 8, 128)         0         \n",
      "_________________________________________________________________\n",
      "conv2d_transpose_6 (Conv2DTr (None, 16, 16, 128)       262272    \n",
      "_________________________________________________________________\n",
      "leaky_re_lu_15 (LeakyReLU)   (None, 16, 16, 128)       0         \n",
      "_________________________________________________________________\n",
      "conv2d_transpose_7 (Conv2DTr (None, 32, 32, 256)       524544    \n",
      "_________________________________________________________________\n",
      "leaky_re_lu_16 (LeakyReLU)   (None, 32, 32, 256)       0         \n",
      "_________________________________________________________________\n",
      "conv2d_transpose_8 (Conv2DTr (None, 64, 64, 512)       2097664   \n",
      "_________________________________________________________________\n",
      "leaky_re_lu_17 (LeakyReLU)   (None, 64, 64, 512)       0         \n",
      "_________________________________________________________________\n",
      "conv2d_11 (Conv2D)           (None, 64, 64, 3)         38403     \n",
      "=================================================================\n",
      "Total params: 3,979,651\n",
      "Trainable params: 3,979,651\n",
      "Non-trainable params: 0\n",
      "_________________________________________________________________\n"
     ]
    }
   ],
   "source": [
    "latent_dim = 128\n",
    "\n",
    "generator = keras.Sequential(\n",
    "    [\n",
    "        keras.layers.InputLayer(input_shape=(latent_dim)),\n",
    "        \n",
    "        layers.Dense(8 * 8 * 128),\n",
    "        layers.Reshape((8, 8, 128)),\n",
    "        layers.Conv2DTranspose(128, kernel_size=4, strides=2, padding=\"same\"),\n",
    "        layers.LeakyReLU(alpha=0.2),\n",
    "        layers.Conv2DTranspose(256, kernel_size=4, strides=2, padding=\"same\"),\n",
    "        layers.LeakyReLU(alpha=0.2),\n",
    "        layers.Conv2DTranspose(512, kernel_size=4, strides=2, padding=\"same\"),\n",
    "        layers.LeakyReLU(alpha=0.2),\n",
    "        layers.Conv2D(3, kernel_size=5, padding=\"same\", activation=\"sigmoid\"),\n",
    "    ],\n",
    "    name=\"generator\",\n",
    ")\n",
    "generator.summary()"
   ]
  },
  {
   "cell_type": "markdown",
   "metadata": {
    "colab_type": "text"
   },
   "source": [
    "## Override `train_step`"
   ]
  },
  {
   "cell_type": "code",
   "execution_count": 44,
   "metadata": {
    "colab_type": "code"
   },
   "outputs": [],
   "source": [
    "\n",
    "class GAN(keras.Model):\n",
    "    def __init__(self, discriminator, generator, latent_dim):\n",
    "        super(GAN, self).__init__()\n",
    "        self.discriminator = discriminator\n",
    "        self.generator = generator\n",
    "        self.latent_dim = latent_dim\n",
    "\n",
    "    def compile(self, d_optimizer, g_optimizer, loss_fn):\n",
    "        super(GAN, self).compile()\n",
    "        self.d_optimizer = d_optimizer\n",
    "        self.g_optimizer = g_optimizer\n",
    "        self.loss_fn = loss_fn\n",
    "        self.d_loss_metric = keras.metrics.Mean(name=\"d_loss\")\n",
    "        self.g_loss_metric = keras.metrics.Mean(name=\"g_loss\")\n",
    "\n",
    "    @property\n",
    "    def metrics(self):\n",
    "        return [self.d_loss_metric, self.g_loss_metric]\n",
    "\n",
    "    def train_step(self, real_images):\n",
    "        # Sample random points in the latent space\n",
    "        \n",
    "        batch_size = tf.shape(real_images)[0]\n",
    "        random_latent_vectors = tf.random.normal(shape=(batch_size, self.latent_dim))\n",
    "\n",
    "        # Decode them to fake images\n",
    "        generated_images = self.generator(random_latent_vectors)\n",
    "\n",
    "        # Combine them with real images\n",
    "        combined_images = tf.concat([generated_images, real_images], axis=0)\n",
    "\n",
    "        # Assemble labels discriminating real from fake images\n",
    "        labels = tf.concat(\n",
    "            [tf.ones((batch_size, 1)), tf.zeros((batch_size, 1))], axis=0\n",
    "        )\n",
    "        # Add random noise to the labels - important trick!\n",
    "        labels += 0.05 * tf.random.uniform(tf.shape(labels))\n",
    "\n",
    "        # Train the discriminator\n",
    "        with tf.GradientTape() as tape:\n",
    "            predictions = self.discriminator(combined_images)\n",
    "            d_loss = self.loss_fn(labels, predictions)\n",
    "        grads = tape.gradient(d_loss, self.discriminator.trainable_weights)\n",
    "        self.d_optimizer.apply_gradients(\n",
    "            zip(grads, self.discriminator.trainable_weights)\n",
    "        )\n",
    "\n",
    "        # Sample random points in the latent space\n",
    "        random_latent_vectors = tf.random.normal(shape=(batch_size, self.latent_dim))\n",
    "\n",
    "        # Assemble labels that say \"all real images\"\n",
    "        misleading_labels = tf.zeros((batch_size, 1))\n",
    "\n",
    "        # Train the generator (note that we should *not* update the weights\n",
    "        # of the discriminator)!\n",
    "        with tf.GradientTape() as tape:\n",
    "            predictions = self.discriminator(self.generator(random_latent_vectors))\n",
    "            g_loss = self.loss_fn(misleading_labels, predictions)\n",
    "        grads = tape.gradient(g_loss, self.generator.trainable_weights)\n",
    "        self.g_optimizer.apply_gradients(zip(grads, self.generator.trainable_weights))\n",
    "\n",
    "        # Update metrics\n",
    "        self.d_loss_metric.update_state(d_loss)\n",
    "        self.g_loss_metric.update_state(g_loss)\n",
    "        return {\n",
    "            \"d_loss\": self.d_loss_metric.result(),\n",
    "            \"g_loss\": self.g_loss_metric.result(),\n",
    "        }\n",
    "        \n",
    "        \n"
   ]
  },
  {
   "cell_type": "markdown",
   "metadata": {},
   "source": [
    "**Other GAN Script**"
   ]
  },
  {
   "cell_type": "code",
   "execution_count": 45,
   "metadata": {},
   "outputs": [],
   "source": [
    "# This method returns a helper function to compute cross entropy loss\n",
    "cross_entropy = tf.keras.losses.BinaryCrossentropy(from_logits=True)\n"
   ]
  },
  {
   "cell_type": "code",
   "execution_count": 46,
   "metadata": {},
   "outputs": [],
   "source": [
    "def discriminator_loss(real_output, fake_output, d_loss):\n",
    "    real_loss = cross_entropy(tf.ones_like(real_output), real_output)\n",
    "    fake_loss = cross_entropy(tf.zeros_like(fake_output), fake_output)\n",
    "    total_loss = real_loss + fake_loss\n",
    "    d_loss.append(total_loss)\n",
    "    return total_loss"
   ]
  },
  {
   "cell_type": "code",
   "execution_count": 47,
   "metadata": {},
   "outputs": [],
   "source": [
    "def generator_loss(fake_output, g_loss):\n",
    "    fake_loss = cross_entropy(tf.ones_like(fake_output), fake_output)\n",
    "    g_loss.append(fake_loss)\n",
    "    return fake_loss"
   ]
  },
  {
   "cell_type": "code",
   "execution_count": 48,
   "metadata": {},
   "outputs": [],
   "source": [
    "generator_optimizer = tf.keras.optimizers.Adam(1e-4)\n",
    "discriminator_optimizer = tf.keras.optimizers.Adam(1e-4)"
   ]
  },
  {
   "cell_type": "code",
   "execution_count": 49,
   "metadata": {},
   "outputs": [],
   "source": [
    "checkpoint_dir = 'C:/Users/Max/Documents/gan_checkpoint'\n",
    "checkpoint_prefix = os.path.join(checkpoint_dir, \"ckpt\")\n",
    "checkpoint = tf.train.Checkpoint(generator_optimizer=generator_optimizer,\n",
    "                                 discriminator_optimizer=discriminator_optimizer,\n",
    "                                 generator=generator,\n",
    "                                 discriminator=discriminator)"
   ]
  },
  {
   "cell_type": "markdown",
   "metadata": {
    "colab_type": "text"
   },
   "source": [
    "## Create a callback that periodically saves generated images"
   ]
  },
  {
   "cell_type": "code",
   "execution_count": 50,
   "metadata": {
    "colab_type": "code"
   },
   "outputs": [],
   "source": [
    "\n",
    "class GANMonitor(keras.callbacks.Callback):\n",
    "    def __init__(self, num_img=3, latent_dim=128):\n",
    "        self.num_img = num_img\n",
    "        self.latent_dim = latent_dim\n",
    "\n",
    "    def on_epoch_end(self, epoch, logs=None):\n",
    "        start = time.time()\n",
    "        random_latent_vectors = tf.random.normal(shape=(self.num_img, self.latent_dim))\n",
    "        generated_images = self.model.generator(random_latent_vectors)\n",
    "        generated_images *= 255\n",
    "        generated_images.numpy()\n",
    "        for i in range(self.num_img):\n",
    "            img = keras.preprocessing.image.array_to_img(generated_images[i])\n",
    "            img.save(\"C:/Users/Max/Documents/generated_images/generated_img_%03d_%d.png\" % (epoch, i))\n",
    "    \n",
    "        # Save the model every 5 epochs (WAS 15)\n",
    "        if (epoch + 1) % 15 == 0:\n",
    "          checkpoint.save(file_prefix = checkpoint_prefix)\n",
    "\n",
    "        print ('Time for epoch {} is {} sec'.format(epoch + 1, time.time()-start))\n"
   ]
  },
  {
   "cell_type": "markdown",
   "metadata": {
    "colab_type": "text"
   },
   "source": [
    "## Train the end-to-end model"
   ]
  },
  {
   "cell_type": "code",
   "execution_count": 51,
   "metadata": {
    "colab_type": "code",
    "scrolled": true
   },
   "outputs": [
    {
     "name": "stdout",
     "output_type": "stream",
     "text": [
      "Epoch 1/90\n",
      "830/830 [==============================] - 187s 224ms/step - d_loss: 0.2896 - g_loss: 3.8413\n",
      "Time for epoch 1 is 0.042000770568847656 sec\n",
      "Epoch 2/90\n",
      "830/830 [==============================] - 188s 227ms/step - d_loss: 0.3453 - g_loss: 4.3027\n",
      "Time for epoch 2 is 0.04399895668029785 sec\n",
      "Epoch 3/90\n",
      "830/830 [==============================] - 189s 228ms/step - d_loss: 0.2627 - g_loss: 3.5942\n",
      "Time for epoch 3 is 0.042999982833862305 sec\n",
      "Epoch 4/90\n",
      "830/830 [==============================] - 188s 226ms/step - d_loss: 0.2883 - g_loss: 3.2250\n",
      "Time for epoch 4 is 0.04199981689453125 sec\n",
      "Epoch 5/90\n",
      "830/830 [==============================] - 187s 225ms/step - d_loss: 0.3279 - g_loss: 3.0838\n",
      "Time for epoch 5 is 0.0413362979888916 sec\n",
      "Epoch 6/90\n",
      "830/830 [==============================] - 187s 225ms/step - d_loss: 0.4741 - g_loss: 2.3643\n",
      "Time for epoch 6 is 0.04300045967102051 sec\n",
      "Epoch 7/90\n",
      "830/830 [==============================] - 187s 225ms/step - d_loss: 0.5204 - g_loss: 2.0785\n",
      "Time for epoch 7 is 0.04500126838684082 sec\n",
      "Epoch 8/90\n",
      "830/830 [==============================] - 187s 225ms/step - d_loss: 0.4745 - g_loss: 2.1022\n",
      "Time for epoch 8 is 0.0410008430480957 sec\n",
      "Epoch 9/90\n",
      "830/830 [==============================] - 186s 224ms/step - d_loss: 0.5328 - g_loss: 1.8020\n",
      "Time for epoch 9 is 0.03899812698364258 sec\n",
      "Epoch 10/90\n",
      "830/830 [==============================] - 186s 224ms/step - d_loss: 0.5111 - g_loss: 1.6915\n",
      "Time for epoch 10 is 0.039662837982177734 sec\n",
      "Epoch 11/90\n",
      "830/830 [==============================] - 186s 224ms/step - d_loss: 0.5156 - g_loss: 1.6264\n",
      "Time for epoch 11 is 0.04000139236450195 sec\n",
      "Epoch 12/90\n",
      "830/830 [==============================] - 186s 224ms/step - d_loss: 0.5211 - g_loss: 1.4890\n",
      "Time for epoch 12 is 0.039999961853027344 sec\n",
      "Epoch 13/90\n",
      "830/830 [==============================] - 186s 224ms/step - d_loss: 0.5650 - g_loss: 1.5223\n",
      "Time for epoch 13 is 0.03867483139038086 sec\n",
      "Epoch 14/90\n",
      "830/830 [==============================] - 186s 224ms/step - d_loss: 0.5739 - g_loss: 1.5906\n",
      "Time for epoch 14 is 0.03899955749511719 sec\n",
      "Epoch 15/90\n",
      "830/830 [==============================] - 186s 224ms/step - d_loss: 0.5702 - g_loss: 1.4367\n",
      "Time for epoch 15 is 0.09499979019165039 sec\n",
      "Epoch 16/90\n",
      "830/830 [==============================] - 186s 224ms/step - d_loss: 0.5296 - g_loss: 1.3694\n",
      "Time for epoch 16 is 0.04099702835083008 sec\n",
      "Epoch 17/90\n",
      "830/830 [==============================] - 186s 224ms/step - d_loss: 0.5345 - g_loss: 1.4732\n",
      "Time for epoch 17 is 0.03899836540222168 sec\n",
      "Epoch 18/90\n",
      "830/830 [==============================] - 186s 224ms/step - d_loss: 0.5326 - g_loss: 1.3609\n",
      "Time for epoch 18 is 0.038025856018066406 sec\n",
      "Epoch 19/90\n",
      "830/830 [==============================] - 186s 224ms/step - d_loss: 0.5348 - g_loss: 1.5663\n",
      "Time for epoch 19 is 0.03866291046142578 sec\n",
      "Epoch 20/90\n",
      "830/830 [==============================] - 186s 224ms/step - d_loss: 0.5234 - g_loss: 1.4514\n",
      "Time for epoch 20 is 0.039000511169433594 sec\n",
      "Epoch 21/90\n",
      "830/830 [==============================] - 186s 224ms/step - d_loss: 0.5349 - g_loss: 1.5280\n",
      "Time for epoch 21 is 0.04000115394592285 sec\n",
      "Epoch 22/90\n",
      "830/830 [==============================] - 186s 224ms/step - d_loss: 0.5069 - g_loss: 1.3958\n",
      "Time for epoch 22 is 0.04000091552734375 sec\n",
      "Epoch 23/90\n",
      "830/830 [==============================] - 186s 224ms/step - d_loss: 0.4935 - g_loss: 1.6114\n",
      "Time for epoch 23 is 0.04199838638305664 sec\n",
      "Epoch 24/90\n",
      "830/830 [==============================] - 186s 224ms/step - d_loss: 0.4844 - g_loss: 1.4867\n",
      "Time for epoch 24 is 0.04000115394592285 sec\n",
      "Epoch 25/90\n",
      "830/830 [==============================] - 186s 224ms/step - d_loss: 0.4759 - g_loss: 1.4566\n",
      "Time for epoch 25 is 0.04000258445739746 sec\n",
      "Epoch 26/90\n",
      "830/830 [==============================] - 186s 224ms/step - d_loss: 0.4661 - g_loss: 1.6822\n",
      "Time for epoch 26 is 0.04000139236450195 sec\n",
      "Epoch 27/90\n",
      "830/830 [==============================] - 186s 225ms/step - d_loss: 0.4373 - g_loss: 1.6369\n",
      "Time for epoch 27 is 0.04000115394592285 sec\n",
      "Epoch 28/90\n",
      "830/830 [==============================] - 188s 226ms/step - d_loss: 0.4455 - g_loss: 1.7075\n",
      "Time for epoch 28 is 0.0390012264251709 sec\n",
      "Epoch 29/90\n",
      "830/830 [==============================] - 186s 224ms/step - d_loss: 0.4318 - g_loss: 1.6450\n",
      "Time for epoch 29 is 0.0390019416809082 sec\n",
      "Epoch 30/90\n",
      "830/830 [==============================] - 186s 224ms/step - d_loss: 0.4391 - g_loss: 1.7025\n",
      "Time for epoch 30 is 0.0989990234375 sec\n",
      "Epoch 31/90\n",
      "830/830 [==============================] - 186s 224ms/step - d_loss: 0.4364 - g_loss: 1.6610\n",
      "Time for epoch 31 is 0.03900003433227539 sec\n",
      "Epoch 32/90\n",
      "830/830 [==============================] - 186s 224ms/step - d_loss: 0.4284 - g_loss: 1.6539\n",
      "Time for epoch 32 is 0.04000115394592285 sec\n",
      "Epoch 33/90\n",
      "830/830 [==============================] - 186s 224ms/step - d_loss: 0.4285 - g_loss: 1.6833\n",
      "Time for epoch 33 is 0.04000091552734375 sec\n",
      "Epoch 34/90\n",
      "830/830 [==============================] - 186s 224ms/step - d_loss: 0.4174 - g_loss: 1.6950\n",
      "Time for epoch 34 is 0.04200124740600586 sec\n",
      "Epoch 35/90\n",
      "830/830 [==============================] - 187s 225ms/step - d_loss: 0.4244 - g_loss: 1.7006\n",
      "Time for epoch 35 is 0.04003620147705078 sec\n",
      "Epoch 36/90\n",
      "830/830 [==============================] - 186s 225ms/step - d_loss: 0.4130 - g_loss: 1.7020\n",
      "Time for epoch 36 is 0.038001060485839844 sec\n",
      "Epoch 37/90\n",
      "830/830 [==============================] - 186s 224ms/step - d_loss: 0.4126 - g_loss: 1.7040\n",
      "Time for epoch 37 is 0.0390012264251709 sec\n",
      "Epoch 38/90\n",
      "830/830 [==============================] - 186s 224ms/step - d_loss: 0.4341 - g_loss: 1.8116\n",
      "Time for epoch 38 is 0.03999948501586914 sec\n",
      "Epoch 39/90\n",
      "830/830 [==============================] - 186s 224ms/step - d_loss: 0.4054 - g_loss: 1.7450\n",
      "Time for epoch 39 is 0.041001319885253906 sec\n",
      "Epoch 40/90\n",
      "830/830 [==============================] - 186s 224ms/step - d_loss: 0.4186 - g_loss: 1.6522\n",
      "Time for epoch 40 is 0.0390009880065918 sec\n",
      "Epoch 41/90\n",
      "830/830 [==============================] - 186s 224ms/step - d_loss: 0.4159 - g_loss: 1.6439\n",
      "Time for epoch 41 is 0.03915667533874512 sec\n",
      "Epoch 42/90\n",
      "830/830 [==============================] - 186s 224ms/step - d_loss: 0.4053 - g_loss: 1.7151\n",
      "Time for epoch 42 is 0.0390017032623291 sec\n",
      "Epoch 43/90\n",
      "830/830 [==============================] - 186s 224ms/step - d_loss: 0.4032 - g_loss: 1.7831\n",
      "Time for epoch 43 is 0.040001630783081055 sec\n",
      "Epoch 44/90\n",
      "830/830 [==============================] - 186s 224ms/step - d_loss: 0.4046 - g_loss: 1.7303\n",
      "Time for epoch 44 is 0.04000067710876465 sec\n",
      "Epoch 45/90\n",
      "830/830 [==============================] - 187s 225ms/step - d_loss: 0.4140 - g_loss: 1.7092\n",
      "Time for epoch 45 is 0.09800028800964355 sec\n",
      "Epoch 46/90\n",
      "830/830 [==============================] - 186s 224ms/step - d_loss: 0.3959 - g_loss: 1.8133\n",
      "Time for epoch 46 is 0.04099392890930176 sec\n",
      "Epoch 47/90\n",
      "830/830 [==============================] - 186s 224ms/step - d_loss: 0.3980 - g_loss: 1.7167\n",
      "Time for epoch 47 is 0.040000200271606445 sec\n",
      "Epoch 48/90\n",
      "830/830 [==============================] - 186s 224ms/step - d_loss: 0.3981 - g_loss: 1.7076\n",
      "Time for epoch 48 is 0.039002180099487305 sec\n",
      "Epoch 49/90\n",
      "830/830 [==============================] - 186s 224ms/step - d_loss: 0.3902 - g_loss: 1.8871\n",
      "Time for epoch 49 is 0.03811812400817871 sec\n",
      "Epoch 50/90\n",
      "830/830 [==============================] - 189s 228ms/step - d_loss: 0.3831 - g_loss: 1.8254\n",
      "Time for epoch 50 is 0.04300045967102051 sec\n",
      "Epoch 51/90\n",
      "830/830 [==============================] - 187s 225ms/step - d_loss: 0.3858 - g_loss: 1.7380\n",
      "Time for epoch 51 is 0.040547847747802734 sec\n",
      "Epoch 52/90\n",
      "830/830 [==============================] - 187s 225ms/step - d_loss: 0.3817 - g_loss: 1.7874\n",
      "Time for epoch 52 is 0.04000115394592285 sec\n",
      "Epoch 53/90\n",
      "830/830 [==============================] - 186s 224ms/step - d_loss: 0.3800 - g_loss: 1.8289\n",
      "Time for epoch 53 is 0.04000115394592285 sec\n",
      "Epoch 54/90\n",
      "830/830 [==============================] - 186s 224ms/step - d_loss: 0.3771 - g_loss: 1.8095\n",
      "Time for epoch 54 is 0.0410008430480957 sec\n",
      "Epoch 55/90\n",
      "830/830 [==============================] - 186s 224ms/step - d_loss: 0.3734 - g_loss: 1.7996\n",
      "Time for epoch 55 is 0.04000258445739746 sec\n"
     ]
    },
    {
     "name": "stdout",
     "output_type": "stream",
     "text": [
      "Epoch 56/90\n",
      "830/830 [==============================] - 186s 224ms/step - d_loss: 0.3586 - g_loss: 1.8627\n",
      "Time for epoch 56 is 0.04000067710876465 sec\n",
      "Epoch 57/90\n",
      "830/830 [==============================] - 186s 224ms/step - d_loss: 0.3506 - g_loss: 1.9324\n",
      "Time for epoch 57 is 0.03800344467163086 sec\n",
      "Epoch 58/90\n",
      "830/830 [==============================] - 186s 224ms/step - d_loss: 0.3523 - g_loss: 1.8924\n",
      "Time for epoch 58 is 0.0390012264251709 sec\n",
      "Epoch 59/90\n",
      "830/830 [==============================] - 186s 224ms/step - d_loss: 0.3600 - g_loss: 1.8912\n",
      "Time for epoch 59 is 0.039832115173339844 sec\n",
      "Epoch 60/90\n",
      "830/830 [==============================] - 186s 224ms/step - d_loss: 0.3508 - g_loss: 1.9534\n",
      "Time for epoch 60 is 0.10000085830688477 sec\n",
      "Epoch 61/90\n",
      "830/830 [==============================] - 186s 224ms/step - d_loss: 0.3494 - g_loss: 1.8535\n",
      "Time for epoch 61 is 0.03899955749511719 sec\n",
      "Epoch 62/90\n",
      "830/830 [==============================] - 186s 224ms/step - d_loss: 0.3549 - g_loss: 1.9721\n",
      "Time for epoch 62 is 0.0390012264251709 sec\n",
      "Epoch 63/90\n",
      "830/830 [==============================] - 186s 224ms/step - d_loss: 0.3418 - g_loss: 1.9433\n",
      "Time for epoch 63 is 0.03800058364868164 sec\n",
      "Epoch 64/90\n",
      "830/830 [==============================] - 186s 224ms/step - d_loss: 0.3344 - g_loss: 2.0001\n",
      "Time for epoch 64 is 0.03900027275085449 sec\n",
      "Epoch 65/90\n",
      "830/830 [==============================] - 186s 224ms/step - d_loss: 0.3376 - g_loss: 1.9402\n",
      "Time for epoch 65 is 0.03977036476135254 sec\n",
      "Epoch 66/90\n",
      "830/830 [==============================] - 186s 224ms/step - d_loss: 0.3296 - g_loss: 2.0011\n",
      "Time for epoch 66 is 0.03999972343444824 sec\n",
      "Epoch 67/90\n",
      "830/830 [==============================] - 186s 224ms/step - d_loss: 0.3377 - g_loss: 2.0161\n",
      "Time for epoch 67 is 0.03900003433227539 sec\n",
      "Epoch 68/90\n",
      "830/830 [==============================] - 186s 224ms/step - d_loss: 0.3248 - g_loss: 2.0366\n",
      "Time for epoch 68 is 0.039000511169433594 sec\n",
      "Epoch 69/90\n",
      "830/830 [==============================] - 186s 224ms/step - d_loss: 0.3291 - g_loss: 2.0053\n",
      "Time for epoch 69 is 0.0410008430480957 sec\n",
      "Epoch 70/90\n",
      "830/830 [==============================] - 186s 224ms/step - d_loss: 0.3300 - g_loss: 2.0049\n",
      "Time for epoch 70 is 0.03899693489074707 sec\n",
      "Epoch 71/90\n",
      "830/830 [==============================] - 186s 224ms/step - d_loss: 0.3281 - g_loss: 2.0680\n",
      "Time for epoch 71 is 0.03899860382080078 sec\n",
      "Epoch 72/90\n",
      "830/830 [==============================] - 186s 224ms/step - d_loss: 0.3213 - g_loss: 2.0154\n",
      "Time for epoch 72 is 0.04000043869018555 sec\n",
      "Epoch 73/90\n",
      "830/830 [==============================] - 186s 224ms/step - d_loss: 0.3246 - g_loss: 2.0147\n",
      "Time for epoch 73 is 0.04000067710876465 sec\n",
      "Epoch 74/90\n",
      "830/830 [==============================] - 186s 224ms/step - d_loss: 0.3241 - g_loss: 2.0674\n",
      "Time for epoch 74 is 0.042000770568847656 sec\n",
      "Epoch 75/90\n",
      "830/830 [==============================] - 186s 224ms/step - d_loss: 0.3160 - g_loss: 2.1012\n",
      "Time for epoch 75 is 0.09299993515014648 sec\n",
      "Epoch 76/90\n",
      "830/830 [==============================] - 186s 224ms/step - d_loss: 0.3248 - g_loss: 2.0581\n",
      "Time for epoch 76 is 0.04000139236450195 sec\n",
      "Epoch 77/90\n",
      "830/830 [==============================] - 186s 224ms/step - d_loss: 0.3180 - g_loss: 2.0272\n",
      "Time for epoch 77 is 0.03899860382080078 sec\n",
      "Epoch 78/90\n",
      "830/830 [==============================] - 187s 225ms/step - d_loss: 0.3185 - g_loss: 2.0327\n",
      "Time for epoch 78 is 0.04000115394592285 sec\n",
      "Epoch 79/90\n",
      "830/830 [==============================] - 186s 224ms/step - d_loss: 0.3129 - g_loss: 2.0896\n",
      "Time for epoch 79 is 0.03800058364868164 sec\n",
      "Epoch 80/90\n",
      "830/830 [==============================] - 186s 224ms/step - d_loss: 0.3137 - g_loss: 2.0820\n",
      "Time for epoch 80 is 0.03999948501586914 sec\n",
      "Epoch 81/90\n",
      "830/830 [==============================] - 186s 224ms/step - d_loss: 0.3097 - g_loss: 2.1618\n",
      "Time for epoch 81 is 0.03900027275085449 sec\n",
      "Epoch 82/90\n",
      "830/830 [==============================] - 186s 224ms/step - d_loss: 0.3073 - g_loss: 2.0693\n",
      "Time for epoch 82 is 0.0390012264251709 sec\n",
      "Epoch 83/90\n",
      "830/830 [==============================] - 186s 225ms/step - d_loss: 0.3039 - g_loss: 2.1211\n",
      "Time for epoch 83 is 0.04000258445739746 sec\n",
      "Epoch 84/90\n",
      "830/830 [==============================] - 186s 224ms/step - d_loss: 0.3070 - g_loss: 2.0786\n",
      "Time for epoch 84 is 0.039000511169433594 sec\n",
      "Epoch 85/90\n",
      "830/830 [==============================] - 186s 224ms/step - d_loss: 0.3060 - g_loss: 2.0975\n",
      "Time for epoch 85 is 0.03999948501586914 sec\n",
      "Epoch 86/90\n",
      "830/830 [==============================] - 186s 224ms/step - d_loss: 0.3017 - g_loss: 2.1518\n",
      "Time for epoch 86 is 0.04200005531311035 sec\n",
      "Epoch 87/90\n",
      "830/830 [==============================] - 186s 224ms/step - d_loss: 0.3113 - g_loss: 2.1238\n",
      "Time for epoch 87 is 0.039999961853027344 sec\n",
      "Epoch 88/90\n",
      "830/830 [==============================] - 186s 224ms/step - d_loss: 0.3046 - g_loss: 2.1225\n",
      "Time for epoch 88 is 0.0410008430480957 sec\n",
      "Epoch 89/90\n",
      "830/830 [==============================] - 186s 224ms/step - d_loss: 0.2974 - g_loss: 2.1277\n",
      "Time for epoch 89 is 0.03999805450439453 sec\n",
      "Epoch 90/90\n",
      "830/830 [==============================] - 186s 224ms/step - d_loss: 0.2981 - g_loss: 2.1667\n",
      "Time for epoch 90 is 0.09400224685668945 sec\n"
     ]
    },
    {
     "data": {
      "text/plain": [
       "<tensorflow.python.keras.callbacks.History at 0x1ae5c82e910>"
      ]
     },
     "execution_count": 51,
     "metadata": {},
     "output_type": "execute_result"
    }
   ],
   "source": [
    "epochs = 90  # In practice, use ~100 epochs\n",
    "\n",
    "gan = GAN(discriminator=discriminator, generator=generator, latent_dim=latent_dim)\n",
    "gan.compile(\n",
    "    d_optimizer=keras.optimizers.Adam(learning_rate=0.0001), # Was 0.0001\n",
    "    g_optimizer=keras.optimizers.Adam(learning_rate=0.0001), # Was 0.0001\n",
    "    loss_fn=keras.losses.BinaryCrossentropy(),\n",
    ")\n",
    "\n",
    "gan.fit(\n",
    "    dataset, epochs=epochs, callbacks=[GANMonitor(num_img=10, latent_dim=latent_dim)]\n",
    ")"
   ]
  },
  {
   "cell_type": "markdown",
   "metadata": {
    "colab_type": "text"
   },
   "source": [
    "Some of the last generated images around epoch 30\n",
    "(results keep improving after that):\n"
   ]
  },
  {
   "cell_type": "markdown",
   "metadata": {},
   "source": [
    "# Checkpoint Restore"
   ]
  },
  {
   "cell_type": "code",
   "execution_count": 52,
   "metadata": {},
   "outputs": [
    {
     "data": {
      "text/plain": [
       "<tensorflow.python.training.tracking.util.CheckpointLoadStatus at 0x1ae7f2e5130>"
      ]
     },
     "execution_count": 52,
     "metadata": {},
     "output_type": "execute_result"
    }
   ],
   "source": [
    "checkpoint.restore(tf.train.latest_checkpoint(checkpoint_dir))"
   ]
  },
  {
   "cell_type": "code",
   "execution_count": null,
   "metadata": {},
   "outputs": [],
   "source": []
  }
 ],
 "metadata": {
  "colab": {
   "collapsed_sections": [],
   "name": "dcgan_overriding_train_step",
   "private_outputs": false,
   "provenance": [],
   "toc_visible": true
  },
  "kernelspec": {
   "display_name": "Python 3 (ipykernel)",
   "language": "python",
   "name": "python3"
  },
  "language_info": {
   "codemirror_mode": {
    "name": "ipython",
    "version": 3
   },
   "file_extension": ".py",
   "mimetype": "text/x-python",
   "name": "python",
   "nbconvert_exporter": "python",
   "pygments_lexer": "ipython3",
   "version": "3.8.5"
  }
 },
 "nbformat": 4,
 "nbformat_minor": 1
}
